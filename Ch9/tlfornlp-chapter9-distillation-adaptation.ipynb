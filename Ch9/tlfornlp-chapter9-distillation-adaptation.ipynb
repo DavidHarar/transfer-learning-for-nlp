{
 "cells": [
  {
   "cell_type": "markdown",
   "metadata": {
    "papermill": {
     "duration": 0.011707,
     "end_time": "2020-12-28T04:58:50.069341",
     "exception": false,
     "start_time": "2020-12-28T04:58:50.057634",
     "status": "completed"
    },
    "tags": []
   },
   "source": [
    "# Preliminaries\n",
    "\n",
    "Write requirements to file, anytime you run it, in case you have to go back and recover dependencies.\n",
    "\n",
    "Requirements are hosted for each notebook in the companion github repo, and can be pulled down and installed here if needed. Companion github repo is located at https://github.com/azunre/transfer-learning-for-nlp"
   ]
  },
  {
   "cell_type": "code",
   "execution_count": 1,
   "metadata": {
    "execution": {
     "iopub.execute_input": "2020-12-28T04:58:50.095192Z",
     "iopub.status.busy": "2020-12-28T04:58:50.094401Z",
     "iopub.status.idle": "2020-12-28T04:58:50.735653Z",
     "shell.execute_reply": "2020-12-28T04:58:50.735120Z"
    },
    "papermill": {
     "duration": 0.65602,
     "end_time": "2020-12-28T04:58:50.735762",
     "exception": false,
     "start_time": "2020-12-28T04:58:50.079742",
     "status": "completed"
    },
    "tags": []
   },
   "outputs": [
    {
     "name": "stdout",
     "output_type": "stream",
     "text": [
      "../input/jw300entw/jw300.en-tw.en\r\n"
     ]
    }
   ],
   "source": [
    "!ls ../input/jw300entw/jw300.en-tw.en"
   ]
  },
  {
   "cell_type": "code",
   "execution_count": 2,
   "metadata": {
    "_cell_guid": "b1076dfc-b9ad-4769-8c92-a6c4dae69d19",
    "_uuid": "8f2839f25d086af736a60e9eeb907d3b93b6e0e5",
    "execution": {
     "iopub.execute_input": "2020-12-28T04:58:50.762740Z",
     "iopub.status.busy": "2020-12-28T04:58:50.761919Z",
     "iopub.status.idle": "2020-12-28T04:58:52.566388Z",
     "shell.execute_reply": "2020-12-28T04:58:52.565466Z"
    },
    "papermill": {
     "duration": 1.81928,
     "end_time": "2020-12-28T04:58:52.566505",
     "exception": false,
     "start_time": "2020-12-28T04:58:50.747225",
     "status": "completed"
    },
    "tags": []
   },
   "outputs": [],
   "source": [
    "!pip freeze > kaggle_image_requirements.txt"
   ]
  },
  {
   "cell_type": "markdown",
   "metadata": {
    "papermill": {
     "duration": 0.01059,
     "end_time": "2020-12-28T04:58:52.588092",
     "exception": false,
     "start_time": "2020-12-28T04:58:52.577502",
     "status": "completed"
    },
    "tags": []
   },
   "source": [
    "# Fine-tune DistilmBERT on Monolongual Twi Data (multilingual mBERT Tokenizer)\n",
    "\n",
    "Initialize DistilmBERT tokenizer to DistilmBERT checkpoint"
   ]
  },
  {
   "cell_type": "code",
   "execution_count": 3,
   "metadata": {
    "_cell_guid": "79c7e3d0-c299-4dcb-8224-4455121ee9b0",
    "_uuid": "d629ff2d2480ee46fbb7e2d37f6b5fab8052498a",
    "execution": {
     "iopub.execute_input": "2020-12-28T04:58:52.614083Z",
     "iopub.status.busy": "2020-12-28T04:58:52.613309Z",
     "iopub.status.idle": "2020-12-28T04:58:59.725706Z",
     "shell.execute_reply": "2020-12-28T04:58:59.725159Z"
    },
    "papermill": {
     "duration": 7.126918,
     "end_time": "2020-12-28T04:58:59.725815",
     "exception": false,
     "start_time": "2020-12-28T04:58:52.598897",
     "status": "completed"
    },
    "tags": []
   },
   "outputs": [
    {
     "name": "stderr",
     "output_type": "stream",
     "text": [
      "\u001b[34m\u001b[1mwandb\u001b[0m: \u001b[33mWARNING\u001b[0m W&B installed but not logged in.  Run `wandb login` or set the WANDB_API_KEY env variable.\n"
     ]
    }
   ],
   "source": [
    "from transformers import DistilBertTokenizerFast # this is just a faster version of DistilBertTokenizer, which you could use instead"
   ]
  },
  {
   "cell_type": "code",
   "execution_count": 4,
   "metadata": {
    "execution": {
     "iopub.execute_input": "2020-12-28T04:58:59.753225Z",
     "iopub.status.busy": "2020-12-28T04:58:59.752706Z",
     "iopub.status.idle": "2020-12-28T04:59:01.314313Z",
     "shell.execute_reply": "2020-12-28T04:59:01.314927Z"
    },
    "papermill": {
     "duration": 1.577417,
     "end_time": "2020-12-28T04:59:01.315109",
     "exception": false,
     "start_time": "2020-12-28T04:58:59.737692",
     "status": "completed"
    },
    "tags": []
   },
   "outputs": [
    {
     "data": {
      "application/vnd.jupyter.widget-view+json": {
       "model_id": "3d62b0db673347fe94f5b335314fbf49",
       "version_major": 2,
       "version_minor": 0
      },
      "text/plain": [
       "HBox(children=(FloatProgress(value=0.0, description='Downloading', max=995526.0, style=ProgressStyle(descripti…"
      ]
     },
     "metadata": {},
     "output_type": "display_data"
    },
    {
     "name": "stdout",
     "output_type": "stream",
     "text": [
      "\n"
     ]
    }
   ],
   "source": [
    "tokenizer = DistilBertTokenizerFast.from_pretrained(\"distilbert-base-multilingual-cased\") # use pre-trained DistilmBERT tokenizer"
   ]
  },
  {
   "cell_type": "markdown",
   "metadata": {
    "papermill": {
     "duration": 0.011818,
     "end_time": "2020-12-28T04:59:01.340173",
     "exception": false,
     "start_time": "2020-12-28T04:59:01.328355",
     "status": "completed"
    },
    "tags": []
   },
   "source": [
    "Having prepared tokenizer, load mBERT checkpoint into a BERT masked language model."
   ]
  },
  {
   "cell_type": "code",
   "execution_count": 5,
   "metadata": {
    "execution": {
     "iopub.execute_input": "2020-12-28T04:59:01.370741Z",
     "iopub.status.busy": "2020-12-28T04:59:01.370186Z",
     "iopub.status.idle": "2020-12-28T04:59:24.549289Z",
     "shell.execute_reply": "2020-12-28T04:59:24.550058Z"
    },
    "papermill": {
     "duration": 23.197711,
     "end_time": "2020-12-28T04:59:24.550226",
     "exception": false,
     "start_time": "2020-12-28T04:59:01.352515",
     "status": "completed"
    },
    "tags": []
   },
   "outputs": [
    {
     "data": {
      "application/vnd.jupyter.widget-view+json": {
       "model_id": "e2f98265dc3f48e89906ffe6b4d01d88",
       "version_major": 2,
       "version_minor": 0
      },
      "text/plain": [
       "HBox(children=(FloatProgress(value=0.0, description='Downloading', max=466.0, style=ProgressStyle(description_…"
      ]
     },
     "metadata": {},
     "output_type": "display_data"
    },
    {
     "name": "stdout",
     "output_type": "stream",
     "text": [
      "\n"
     ]
    },
    {
     "data": {
      "application/vnd.jupyter.widget-view+json": {
       "model_id": "aa12420cfc6c4ed3bb46414b8935fb53",
       "version_major": 2,
       "version_minor": 0
      },
      "text/plain": [
       "HBox(children=(FloatProgress(value=0.0, description='Downloading', max=541808922.0, style=ProgressStyle(descri…"
      ]
     },
     "metadata": {},
     "output_type": "display_data"
    },
    {
     "name": "stdout",
     "output_type": "stream",
     "text": [
      "\n",
      "Number of parameters in DistilmBERT model:\n",
      "135445755\n"
     ]
    }
   ],
   "source": [
    "from transformers import DistilBertForMaskedLM # use masked language modeling\n",
    "\n",
    "model = DistilBertForMaskedLM.from_pretrained(\"distilbert-base-multilingual-cased\") # initialize to DistilmBERT checkpoint\n",
    "\n",
    "print(\"Number of parameters in DistilmBERT model:\")\n",
    "print(model.num_parameters())"
   ]
  },
  {
   "cell_type": "markdown",
   "metadata": {
    "papermill": {
     "duration": 0.013672,
     "end_time": "2020-12-28T04:59:24.579797",
     "exception": false,
     "start_time": "2020-12-28T04:59:24.566125",
     "status": "completed"
    },
    "tags": []
   },
   "source": [
    "Build monolingual Twi dataset with tokenizer using method included with transformers"
   ]
  },
  {
   "cell_type": "code",
   "execution_count": 6,
   "metadata": {
    "execution": {
     "iopub.execute_input": "2020-12-28T04:59:24.611517Z",
     "iopub.status.busy": "2020-12-28T04:59:24.610964Z",
     "iopub.status.idle": "2020-12-28T05:00:12.012989Z",
     "shell.execute_reply": "2020-12-28T05:00:12.010858Z"
    },
    "papermill": {
     "duration": 47.419593,
     "end_time": "2020-12-28T05:00:12.013118",
     "exception": false,
     "start_time": "2020-12-28T04:59:24.593525",
     "status": "completed"
    },
    "tags": []
   },
   "outputs": [],
   "source": [
    "from transformers import LineByLineTextDataset\n",
    "\n",
    "dataset = LineByLineTextDataset(\n",
    "    tokenizer=tokenizer,\n",
    "    file_path=\"../input/jw300entw/jw300.en-tw.tw\",\n",
    "    block_size=128, # how many lines to read at a time \n",
    ")"
   ]
  },
  {
   "cell_type": "markdown",
   "metadata": {
    "papermill": {
     "duration": 0.014004,
     "end_time": "2020-12-28T05:00:12.041311",
     "exception": false,
     "start_time": "2020-12-28T05:00:12.027307",
     "status": "completed"
    },
    "tags": []
   },
   "source": [
    "We will also need a \"data collator\". This is a helper method that creates a special object out of a batch of sample data lines (of length block_size). This special object is consummable by PyTorch to neural network training"
   ]
  },
  {
   "cell_type": "code",
   "execution_count": 7,
   "metadata": {
    "execution": {
     "iopub.execute_input": "2020-12-28T05:00:12.082366Z",
     "iopub.status.busy": "2020-12-28T05:00:12.080636Z",
     "iopub.status.idle": "2020-12-28T05:00:12.082977Z",
     "shell.execute_reply": "2020-12-28T05:00:12.083385Z"
    },
    "papermill": {
     "duration": 0.028244,
     "end_time": "2020-12-28T05:00:12.083487",
     "exception": false,
     "start_time": "2020-12-28T05:00:12.055243",
     "status": "completed"
    },
    "tags": []
   },
   "outputs": [],
   "source": [
    "from transformers import DataCollatorForLanguageModeling\n",
    "\n",
    "data_collator = DataCollatorForLanguageModeling(\n",
    "    tokenizer=tokenizer,\n",
    "    mlm=True, mlm_probability=0.15) # use masked language modeling, and mask words with probability of 0.15"
   ]
  },
  {
   "cell_type": "markdown",
   "metadata": {
    "papermill": {
     "duration": 0.013806,
     "end_time": "2020-12-28T05:00:12.111233",
     "exception": false,
     "start_time": "2020-12-28T05:00:12.097427",
     "status": "completed"
    },
    "tags": []
   },
   "source": [
    "Define standard training arguments, and then use them with previously defined dataset and collator to define a \"trainer\" for one epoch, i.e. across all 600000+ examples."
   ]
  },
  {
   "cell_type": "code",
   "execution_count": 8,
   "metadata": {
    "execution": {
     "iopub.execute_input": "2020-12-28T05:00:12.144304Z",
     "iopub.status.busy": "2020-12-28T05:00:12.143623Z",
     "iopub.status.idle": "2020-12-28T05:00:12.146077Z",
     "shell.execute_reply": "2020-12-28T05:00:12.146590Z"
    },
    "papermill": {
     "duration": 0.021314,
     "end_time": "2020-12-28T05:00:12.146689",
     "exception": false,
     "start_time": "2020-12-28T05:00:12.125375",
     "status": "completed"
    },
    "tags": []
   },
   "outputs": [],
   "source": [
    "from transformers import Trainer, TrainingArguments\n",
    "\n",
    "training_args = TrainingArguments(\n",
    "    output_dir=\"twidistilmbert\",\n",
    "    overwrite_output_dir=True,\n",
    "    num_train_epochs=1,\n",
    "    per_gpu_train_batch_size=16,\n",
    "    save_total_limit=1,\n",
    ")"
   ]
  },
  {
   "cell_type": "code",
   "execution_count": 9,
   "metadata": {
    "execution": {
     "iopub.execute_input": "2020-12-28T05:00:12.531108Z",
     "iopub.status.busy": "2020-12-28T05:00:12.530112Z",
     "iopub.status.idle": "2020-12-28T05:00:17.894282Z",
     "shell.execute_reply": "2020-12-28T05:00:17.893615Z"
    },
    "papermill": {
     "duration": 5.733492,
     "end_time": "2020-12-28T05:00:17.894394",
     "exception": false,
     "start_time": "2020-12-28T05:00:12.160902",
     "status": "completed"
    },
    "tags": []
   },
   "outputs": [],
   "source": [
    "trainer = Trainer(\n",
    "    model=model,\n",
    "    args=training_args,\n",
    "    data_collator=data_collator,\n",
    "    train_dataset=dataset,\n",
    "    prediction_loss_only=True,\n",
    ")"
   ]
  },
  {
   "cell_type": "markdown",
   "metadata": {
    "papermill": {
     "duration": 0.014042,
     "end_time": "2020-12-28T05:00:17.925372",
     "exception": false,
     "start_time": "2020-12-28T05:00:17.911330",
     "status": "completed"
    },
    "tags": []
   },
   "source": [
    "Train and time."
   ]
  },
  {
   "cell_type": "code",
   "execution_count": 10,
   "metadata": {
    "execution": {
     "iopub.execute_input": "2020-12-28T05:00:17.961916Z",
     "iopub.status.busy": "2020-12-28T05:00:17.961190Z",
     "iopub.status.idle": "2020-12-28T07:14:08.408471Z",
     "shell.execute_reply": "2020-12-28T07:14:08.408906Z"
    },
    "papermill": {
     "duration": 8030.469416,
     "end_time": "2020-12-28T07:14:08.409057",
     "exception": false,
     "start_time": "2020-12-28T05:00:17.939641",
     "status": "completed"
    },
    "tags": []
   },
   "outputs": [
    {
     "data": {
      "application/vnd.jupyter.widget-view+json": {
       "model_id": "4216623f021a4c3a92176c1ae1afcc95",
       "version_major": 2,
       "version_minor": 0
      },
      "text/plain": [
       "HBox(children=(FloatProgress(value=0.0, description='Epoch', max=1.0, style=ProgressStyle(description_width='i…"
      ]
     },
     "metadata": {},
     "output_type": "display_data"
    },
    {
     "data": {
      "application/vnd.jupyter.widget-view+json": {
       "model_id": "8547ba3fbd9b4957b85cea523905fe58",
       "version_major": 2,
       "version_minor": 0
      },
      "text/plain": [
       "HBox(children=(FloatProgress(value=0.0, description='Iteration', max=37562.0, style=ProgressStyle(description_…"
      ]
     },
     "metadata": {},
     "output_type": "display_data"
    },
    {
     "name": "stdout",
     "output_type": "stream",
     "text": [
      "{\"loss\": 2.6965276935100557, \"learning_rate\": 4.933443373622278e-05, \"epoch\": 0.013311325275544433, \"step\": 500}\n"
     ]
    },
    {
     "name": "stderr",
     "output_type": "stream",
     "text": [
      "/opt/conda/lib/python3.7/site-packages/torch/optim/lr_scheduler.py:200: UserWarning: Please also save or load the state of the optimzer when saving or loading the scheduler.\n",
      "  warnings.warn(SAVE_STATE_WARNING, UserWarning)\n"
     ]
    },
    {
     "name": "stdout",
     "output_type": "stream",
     "text": [
      "{\"loss\": 1.9868937261104584, \"learning_rate\": 4.866886747244556e-05, \"epoch\": 0.026622650551088867, \"step\": 1000}\n",
      "{\"loss\": 1.7659727020263671, \"learning_rate\": 4.800330120866834e-05, \"epoch\": 0.0399339758266333, \"step\": 1500}\n",
      "{\"loss\": 1.6668763043880463, \"learning_rate\": 4.7337734944891116e-05, \"epoch\": 0.05324530110217773, \"step\": 2000}\n",
      "{\"loss\": 1.6016384425163268, \"learning_rate\": 4.667216868111389e-05, \"epoch\": 0.06655662637772217, \"step\": 2500}\n",
      "{\"loss\": 1.5188227939605712, \"learning_rate\": 4.600660241733668e-05, \"epoch\": 0.0798679516532666, \"step\": 3000}\n",
      "{\"loss\": 1.4741685634851456, \"learning_rate\": 4.5341036153559454e-05, \"epoch\": 0.09317927692881103, \"step\": 3500}\n",
      "{\"loss\": 1.416521461725235, \"learning_rate\": 4.467546988978223e-05, \"epoch\": 0.10649060220435547, \"step\": 4000}\n",
      "{\"loss\": 1.374769216656685, \"learning_rate\": 4.400990362600501e-05, \"epoch\": 0.1198019274798999, \"step\": 4500}\n",
      "{\"loss\": 1.3641278388500213, \"learning_rate\": 4.334433736222779e-05, \"epoch\": 0.13311325275544433, \"step\": 5000}\n",
      "{\"loss\": 1.3124771234989165, \"learning_rate\": 4.267877109845057e-05, \"epoch\": 0.14642457803098877, \"step\": 5500}\n",
      "{\"loss\": 1.2978020151853562, \"learning_rate\": 4.2013204834673345e-05, \"epoch\": 0.1597359033065332, \"step\": 6000}\n",
      "{\"loss\": 1.2570923680067063, \"learning_rate\": 4.134763857089612e-05, \"epoch\": 0.17304722858207763, \"step\": 6500}\n",
      "{\"loss\": 1.2389371532201767, \"learning_rate\": 4.06820723071189e-05, \"epoch\": 0.18635855385762207, \"step\": 7000}\n",
      "{\"loss\": 1.2503409490585327, \"learning_rate\": 4.0016506043341675e-05, \"epoch\": 0.1996698791331665, \"step\": 7500}\n",
      "{\"loss\": 1.2061121792793275, \"learning_rate\": 3.935093977956446e-05, \"epoch\": 0.21298120440871093, \"step\": 8000}\n",
      "{\"loss\": 1.1912578512430192, \"learning_rate\": 3.8685373515787235e-05, \"epoch\": 0.22629252968425537, \"step\": 8500}\n",
      "{\"loss\": 1.1632309515476227, \"learning_rate\": 3.801980725201001e-05, \"epoch\": 0.2396038549597998, \"step\": 9000}\n",
      "{\"loss\": 1.1566217515468598, \"learning_rate\": 3.735424098823279e-05, \"epoch\": 0.2529151802353442, \"step\": 9500}\n",
      "{\"loss\": 1.1547161999940871, \"learning_rate\": 3.6688674724455566e-05, \"epoch\": 0.26622650551088867, \"step\": 10000}\n",
      "{\"loss\": 1.1490199284553528, \"learning_rate\": 3.602310846067834e-05, \"epoch\": 0.2795378307864331, \"step\": 10500}\n",
      "{\"loss\": 1.1327904397249222, \"learning_rate\": 3.5357542196901126e-05, \"epoch\": 0.29284915606197753, \"step\": 11000}\n",
      "{\"loss\": 1.0933875108361244, \"learning_rate\": 3.46919759331239e-05, \"epoch\": 0.30616048133752194, \"step\": 11500}\n",
      "{\"loss\": 1.101575200676918, \"learning_rate\": 3.402640966934668e-05, \"epoch\": 0.3194718066130664, \"step\": 12000}\n",
      "{\"loss\": 1.0869165308475495, \"learning_rate\": 3.336084340556946e-05, \"epoch\": 0.3327831318886108, \"step\": 12500}\n",
      "{\"loss\": 1.0831606397628784, \"learning_rate\": 3.269527714179224e-05, \"epoch\": 0.34609445716415527, \"step\": 13000}\n",
      "{\"loss\": 1.077127533197403, \"learning_rate\": 3.202971087801502e-05, \"epoch\": 0.3594057824396997, \"step\": 13500}\n",
      "{\"loss\": 1.07424640417099, \"learning_rate\": 3.1364144614237794e-05, \"epoch\": 0.37271710771524413, \"step\": 14000}\n",
      "{\"loss\": 1.0571841453313828, \"learning_rate\": 3.069857835046057e-05, \"epoch\": 0.38602843299078854, \"step\": 14500}\n",
      "{\"loss\": 1.0497911158204078, \"learning_rate\": 3.0033012086683354e-05, \"epoch\": 0.399339758266333, \"step\": 15000}\n",
      "{\"loss\": 1.0385400916337968, \"learning_rate\": 2.936744582290613e-05, \"epoch\": 0.4126510835418774, \"step\": 15500}\n",
      "{\"loss\": 1.0272664800286293, \"learning_rate\": 2.8701879559128908e-05, \"epoch\": 0.42596240881742187, \"step\": 16000}\n",
      "{\"loss\": 0.9924313752651215, \"learning_rate\": 2.8036313295351685e-05, \"epoch\": 0.4392737340929663, \"step\": 16500}\n",
      "{\"loss\": 1.006408696115017, \"learning_rate\": 2.737074703157447e-05, \"epoch\": 0.45258505936851073, \"step\": 17000}\n",
      "{\"loss\": 1.0116888485550881, \"learning_rate\": 2.6705180767797245e-05, \"epoch\": 0.46589638464405514, \"step\": 17500}\n",
      "{\"loss\": 0.992658197760582, \"learning_rate\": 2.6039614504020022e-05, \"epoch\": 0.4792077099195996, \"step\": 18000}\n",
      "{\"loss\": 0.9762471361756325, \"learning_rate\": 2.53740482402428e-05, \"epoch\": 0.492519035195144, \"step\": 18500}\n",
      "{\"loss\": 0.9792702073454856, \"learning_rate\": 2.470848197646558e-05, \"epoch\": 0.5058303604706884, \"step\": 19000}\n",
      "{\"loss\": 0.9649515719413757, \"learning_rate\": 2.404291571268836e-05, \"epoch\": 0.5191416857462329, \"step\": 19500}\n",
      "{\"loss\": 0.9646598956584931, \"learning_rate\": 2.3377349448911136e-05, \"epoch\": 0.5324530110217773, \"step\": 20000}\n",
      "{\"loss\": 0.9665254483222961, \"learning_rate\": 2.2711783185133913e-05, \"epoch\": 0.5457643362973218, \"step\": 20500}\n",
      "{\"loss\": 0.9409106341600418, \"learning_rate\": 2.204621692135669e-05, \"epoch\": 0.5590756615728661, \"step\": 21000}\n",
      "{\"loss\": 0.9555590044260025, \"learning_rate\": 2.138065065757947e-05, \"epoch\": 0.5723869868484106, \"step\": 21500}\n",
      "{\"loss\": 0.9485747647285462, \"learning_rate\": 2.0715084393802247e-05, \"epoch\": 0.5856983121239551, \"step\": 22000}\n",
      "{\"loss\": 0.9501965632438659, \"learning_rate\": 2.0049518130025027e-05, \"epoch\": 0.5990096373994995, \"step\": 22500}\n",
      "{\"loss\": 0.9419836904406548, \"learning_rate\": 1.9383951866247804e-05, \"epoch\": 0.6123209626750439, \"step\": 23000}\n",
      "{\"loss\": 0.9505258231163025, \"learning_rate\": 1.8718385602470584e-05, \"epoch\": 0.6256322879505883, \"step\": 23500}\n",
      "{\"loss\": 0.9536528885364532, \"learning_rate\": 1.805281933869336e-05, \"epoch\": 0.6389436132261328, \"step\": 24000}\n",
      "{\"loss\": 0.9131140906214714, \"learning_rate\": 1.738725307491614e-05, \"epoch\": 0.6522549385016773, \"step\": 24500}\n",
      "{\"loss\": 0.928219130396843, \"learning_rate\": 1.6721686811138918e-05, \"epoch\": 0.6655662637772216, \"step\": 25000}\n",
      "{\"loss\": 0.910945018529892, \"learning_rate\": 1.6056120547361698e-05, \"epoch\": 0.6788775890527661, \"step\": 25500}\n",
      "{\"loss\": 0.8926032137870789, \"learning_rate\": 1.5390554283584475e-05, \"epoch\": 0.6921889143283105, \"step\": 26000}\n",
      "{\"loss\": 0.913700152516365, \"learning_rate\": 1.4724988019807253e-05, \"epoch\": 0.705500239603855, \"step\": 26500}\n",
      "{\"loss\": 0.9022598714828491, \"learning_rate\": 1.405942175603003e-05, \"epoch\": 0.7188115648793993, \"step\": 27000}\n",
      "{\"loss\": 0.9004671213030815, \"learning_rate\": 1.339385549225281e-05, \"epoch\": 0.7321228901549438, \"step\": 27500}\n",
      "{\"loss\": 0.8891585165262222, \"learning_rate\": 1.2728289228475587e-05, \"epoch\": 0.7454342154304883, \"step\": 28000}\n",
      "{\"loss\": 0.8869960063099861, \"learning_rate\": 1.2062722964698366e-05, \"epoch\": 0.7587455407060327, \"step\": 28500}\n",
      "{\"loss\": 0.8764988762736321, \"learning_rate\": 1.1397156700921144e-05, \"epoch\": 0.7720568659815771, \"step\": 29000}\n",
      "{\"loss\": 0.8729741043448448, \"learning_rate\": 1.0731590437143923e-05, \"epoch\": 0.7853681912571215, \"step\": 29500}\n",
      "{\"loss\": 0.8672072720527649, \"learning_rate\": 1.0066024173366701e-05, \"epoch\": 0.798679516532666, \"step\": 30000}\n",
      "{\"loss\": 0.859647646188736, \"learning_rate\": 9.40045790958948e-06, \"epoch\": 0.8119908418082105, \"step\": 30500}\n",
      "{\"loss\": 0.8674312240481377, \"learning_rate\": 8.734891645812256e-06, \"epoch\": 0.8253021670837548, \"step\": 31000}\n",
      "{\"loss\": 0.8685498145222664, \"learning_rate\": 8.069325382035035e-06, \"epoch\": 0.8386134923592993, \"step\": 31500}\n",
      "{\"loss\": 0.858032751917839, \"learning_rate\": 7.403759118257813e-06, \"epoch\": 0.8519248176348437, \"step\": 32000}\n",
      "{\"loss\": 0.8545240702629089, \"learning_rate\": 6.738192854480592e-06, \"epoch\": 0.8652361429103882, \"step\": 32500}\n",
      "{\"loss\": 0.8438046636581421, \"learning_rate\": 6.072626590703371e-06, \"epoch\": 0.8785474681859325, \"step\": 33000}\n",
      "{\"loss\": 0.8249549449682235, \"learning_rate\": 5.407060326926149e-06, \"epoch\": 0.891858793461477, \"step\": 33500}\n",
      "{\"loss\": 0.8668119223713875, \"learning_rate\": 4.7414940631489275e-06, \"epoch\": 0.9051701187370215, \"step\": 34000}\n",
      "{\"loss\": 0.8500225902199745, \"learning_rate\": 4.075927799371706e-06, \"epoch\": 0.9184814440125659, \"step\": 34500}\n",
      "{\"loss\": 0.850514717578888, \"learning_rate\": 3.410361535594484e-06, \"epoch\": 0.9317927692881103, \"step\": 35000}\n",
      "{\"loss\": 0.8209827143847942, \"learning_rate\": 2.744795271817262e-06, \"epoch\": 0.9451040945636547, \"step\": 35500}\n",
      "{\"loss\": 0.8526040786504745, \"learning_rate\": 2.0792290080400402e-06, \"epoch\": 0.9584154198391992, \"step\": 36000}\n",
      "{\"loss\": 0.8379858914017677, \"learning_rate\": 1.413662744262819e-06, \"epoch\": 0.9717267451147437, \"step\": 36500}\n",
      "{\"loss\": 0.8498225813508034, \"learning_rate\": 7.480964804855971e-07, \"epoch\": 0.985038070390288, \"step\": 37000}\n",
      "{\"loss\": 0.807061634093523, \"learning_rate\": 8.25302167083755e-08, \"epoch\": 0.9983493956658325, \"step\": 37500}\n",
      "\n",
      "\n",
      "Number of seconds for training:\n",
      "8030.441510677338\n"
     ]
    }
   ],
   "source": [
    "import time\n",
    "start = time.time()\n",
    "trainer.train()\n",
    "end = time.time()\n",
    "print(\"Number of seconds for training:\")\n",
    "print((end-start))"
   ]
  },
  {
   "cell_type": "code",
   "execution_count": 11,
   "metadata": {
    "execution": {
     "iopub.execute_input": "2020-12-28T07:14:08.487201Z",
     "iopub.status.busy": "2020-12-28T07:14:08.486444Z",
     "iopub.status.idle": "2020-12-28T07:14:09.467560Z",
     "shell.execute_reply": "2020-12-28T07:14:09.468720Z"
    },
    "papermill": {
     "duration": 1.023067,
     "end_time": "2020-12-28T07:14:09.468911",
     "exception": false,
     "start_time": "2020-12-28T07:14:08.445844",
     "status": "completed"
    },
    "tags": []
   },
   "outputs": [],
   "source": [
    "trainer.save_model(\"twidistilmbert\") # save model"
   ]
  },
  {
   "cell_type": "markdown",
   "metadata": {
    "papermill": {
     "duration": 0.05049,
     "end_time": "2020-12-28T07:14:09.575826",
     "exception": false,
     "start_time": "2020-12-28T07:14:09.525336",
     "status": "completed"
    },
    "tags": []
   },
   "source": [
    "Test model on \"fill-in-the-blank\" task, by taking a sentence, masking a word and then predicting a completion with pipelines API."
   ]
  },
  {
   "cell_type": "code",
   "execution_count": 12,
   "metadata": {
    "execution": {
     "iopub.execute_input": "2020-12-28T07:14:09.654139Z",
     "iopub.status.busy": "2020-12-28T07:14:09.653377Z",
     "iopub.status.idle": "2020-12-28T07:14:15.916053Z",
     "shell.execute_reply": "2020-12-28T07:14:15.915054Z"
    },
    "papermill": {
     "duration": 6.304136,
     "end_time": "2020-12-28T07:14:15.916167",
     "exception": false,
     "start_time": "2020-12-28T07:14:09.612031",
     "status": "completed"
    },
    "tags": []
   },
   "outputs": [],
   "source": [
    "# Define fill-in-the-blanks pipeline\n",
    "from transformers import pipeline\n",
    "\n",
    "fill_mask = pipeline(\n",
    "    \"fill-mask\",\n",
    "    model=\"twidistilmbert\",\n",
    "    tokenizer=tokenizer\n",
    ")"
   ]
  },
  {
   "cell_type": "code",
   "execution_count": 13,
   "metadata": {
    "execution": {
     "iopub.execute_input": "2020-12-28T07:14:15.998061Z",
     "iopub.status.busy": "2020-12-28T07:14:15.997235Z",
     "iopub.status.idle": "2020-12-28T07:14:16.209875Z",
     "shell.execute_reply": "2020-12-28T07:14:16.210300Z"
    },
    "papermill": {
     "duration": 0.257409,
     "end_time": "2020-12-28T07:14:16.210421",
     "exception": false,
     "start_time": "2020-12-28T07:14:15.953012",
     "status": "completed"
    },
    "tags": []
   },
   "outputs": [
    {
     "name": "stdout",
     "output_type": "stream",
     "text": [
      "[{'sequence': '[CLS] Eyi de ɔhaw kɛse baa fie hɔ. [SEP]', 'score': 0.31311026215553284, 'token': 29959}, {'sequence': '[CLS] Eyi de ɔhaw kɛse baa me hɔ. [SEP]', 'score': 0.09322386980056763, 'token': 10911}, {'sequence': '[CLS] Eyi de ɔhaw kɛse baa ne hɔ. [SEP]', 'score': 0.05879712104797363, 'token': 10554}, {'sequence': '[CLS] Eyi de ɔhaw kɛse baa too hɔ. [SEP]', 'score': 0.052420321851968765, 'token': 16683}, {'sequence': '[CLS] Eyi de ɔhaw kɛse baa no hɔ. [SEP]', 'score': 0.04025224596261978, 'token': 10192}]\n"
     ]
    }
   ],
   "source": [
    "# We modified a sentences as \"Eyi de ɔhaw kɛse baa sukuu hɔ.\" => \"Eyi de ɔhaw kɛse baa [MASK] hɔ.\"\n",
    "# Predict masked token \n",
    "print(fill_mask(\"Eyi de ɔhaw kɛse baa [MASK] hɔ.\"))"
   ]
  }
 ],
 "metadata": {
  "kernelspec": {
   "display_name": "Python 3",
   "language": "python",
   "name": "python3"
  },
  "language_info": {
   "codemirror_mode": {
    "name": "ipython",
    "version": 3
   },
   "file_extension": ".py",
   "mimetype": "text/x-python",
   "name": "python",
   "nbconvert_exporter": "python",
   "pygments_lexer": "ipython3",
   "version": "3.7.6"
  },
  "papermill": {
   "duration": 8131.509071,
   "end_time": "2020-12-28T07:14:17.857763",
   "environment_variables": {},
   "exception": null,
   "input_path": "__notebook__.ipynb",
   "output_path": "__notebook__.ipynb",
   "parameters": {},
   "start_time": "2020-12-28T04:58:46.348692",
   "version": "2.1.0"
  },
  "widgets": {
   "application/vnd.jupyter.widget-state+json": {
    "state": {
     "025bfcba96aa4d50b6fa149067a9fcbd": {
      "model_module": "@jupyter-widgets/controls",
      "model_module_version": "1.5.0",
      "model_name": "DescriptionStyleModel",
      "state": {
       "_model_module": "@jupyter-widgets/controls",
       "_model_module_version": "1.5.0",
       "_model_name": "DescriptionStyleModel",
       "_view_count": null,
       "_view_module": "@jupyter-widgets/base",
       "_view_module_version": "1.2.0",
       "_view_name": "StyleView",
       "description_width": ""
      }
     },
     "08c55510bd0248e6b8aabbde5cfdd2bb": {
      "model_module": "@jupyter-widgets/controls",
      "model_module_version": "1.5.0",
      "model_name": "ProgressStyleModel",
      "state": {
       "_model_module": "@jupyter-widgets/controls",
       "_model_module_version": "1.5.0",
       "_model_name": "ProgressStyleModel",
       "_view_count": null,
       "_view_module": "@jupyter-widgets/base",
       "_view_module_version": "1.2.0",
       "_view_name": "StyleView",
       "bar_color": null,
       "description_width": "initial"
      }
     },
     "0ba5b866148d4907b178c34c2c8c7bd6": {
      "model_module": "@jupyter-widgets/base",
      "model_module_version": "1.2.0",
      "model_name": "LayoutModel",
      "state": {
       "_model_module": "@jupyter-widgets/base",
       "_model_module_version": "1.2.0",
       "_model_name": "LayoutModel",
       "_view_count": null,
       "_view_module": "@jupyter-widgets/base",
       "_view_module_version": "1.2.0",
       "_view_name": "LayoutView",
       "align_content": null,
       "align_items": null,
       "align_self": null,
       "border": null,
       "bottom": null,
       "display": null,
       "flex": null,
       "flex_flow": null,
       "grid_area": null,
       "grid_auto_columns": null,
       "grid_auto_flow": null,
       "grid_auto_rows": null,
       "grid_column": null,
       "grid_gap": null,
       "grid_row": null,
       "grid_template_areas": null,
       "grid_template_columns": null,
       "grid_template_rows": null,
       "height": null,
       "justify_content": null,
       "justify_items": null,
       "left": null,
       "margin": null,
       "max_height": null,
       "max_width": null,
       "min_height": null,
       "min_width": null,
       "object_fit": null,
       "object_position": null,
       "order": null,
       "overflow": null,
       "overflow_x": null,
       "overflow_y": null,
       "padding": null,
       "right": null,
       "top": null,
       "visibility": null,
       "width": null
      }
     },
     "0ea454b0f91f482b94ba81a56f27589d": {
      "model_module": "@jupyter-widgets/base",
      "model_module_version": "1.2.0",
      "model_name": "LayoutModel",
      "state": {
       "_model_module": "@jupyter-widgets/base",
       "_model_module_version": "1.2.0",
       "_model_name": "LayoutModel",
       "_view_count": null,
       "_view_module": "@jupyter-widgets/base",
       "_view_module_version": "1.2.0",
       "_view_name": "LayoutView",
       "align_content": null,
       "align_items": null,
       "align_self": null,
       "border": null,
       "bottom": null,
       "display": null,
       "flex": null,
       "flex_flow": null,
       "grid_area": null,
       "grid_auto_columns": null,
       "grid_auto_flow": null,
       "grid_auto_rows": null,
       "grid_column": null,
       "grid_gap": null,
       "grid_row": null,
       "grid_template_areas": null,
       "grid_template_columns": null,
       "grid_template_rows": null,
       "height": null,
       "justify_content": null,
       "justify_items": null,
       "left": null,
       "margin": null,
       "max_height": null,
       "max_width": null,
       "min_height": null,
       "min_width": null,
       "object_fit": null,
       "object_position": null,
       "order": null,
       "overflow": null,
       "overflow_x": null,
       "overflow_y": null,
       "padding": null,
       "right": null,
       "top": null,
       "visibility": null,
       "width": null
      }
     },
     "0fe00f499a1547c5bbf74721a365239e": {
      "model_module": "@jupyter-widgets/controls",
      "model_module_version": "1.5.0",
      "model_name": "HTMLModel",
      "state": {
       "_dom_classes": [],
       "_model_module": "@jupyter-widgets/controls",
       "_model_module_version": "1.5.0",
       "_model_name": "HTMLModel",
       "_view_count": null,
       "_view_module": "@jupyter-widgets/controls",
       "_view_module_version": "1.5.0",
       "_view_name": "HTMLView",
       "description": "",
       "description_tooltip": null,
       "layout": "IPY_MODEL_f048bd818e1a48cdb2f2af672115af9c",
       "placeholder": "​",
       "style": "IPY_MODEL_af814fed347e49749291a29f15bd7eed",
       "value": " 996k/996k [01:00&lt;00:00, 16.4kB/s]"
      }
     },
     "127b935509ff45ce9a518d42c3549305": {
      "model_module": "@jupyter-widgets/base",
      "model_module_version": "1.2.0",
      "model_name": "LayoutModel",
      "state": {
       "_model_module": "@jupyter-widgets/base",
       "_model_module_version": "1.2.0",
       "_model_name": "LayoutModel",
       "_view_count": null,
       "_view_module": "@jupyter-widgets/base",
       "_view_module_version": "1.2.0",
       "_view_name": "LayoutView",
       "align_content": null,
       "align_items": null,
       "align_self": null,
       "border": null,
       "bottom": null,
       "display": null,
       "flex": null,
       "flex_flow": null,
       "grid_area": null,
       "grid_auto_columns": null,
       "grid_auto_flow": null,
       "grid_auto_rows": null,
       "grid_column": null,
       "grid_gap": null,
       "grid_row": null,
       "grid_template_areas": null,
       "grid_template_columns": null,
       "grid_template_rows": null,
       "height": null,
       "justify_content": null,
       "justify_items": null,
       "left": null,
       "margin": null,
       "max_height": null,
       "max_width": null,
       "min_height": null,
       "min_width": null,
       "object_fit": null,
       "object_position": null,
       "order": null,
       "overflow": null,
       "overflow_x": null,
       "overflow_y": null,
       "padding": null,
       "right": null,
       "top": null,
       "visibility": null,
       "width": null
      }
     },
     "16bb6e281a1d44ae9ca1996e563d9734": {
      "model_module": "@jupyter-widgets/controls",
      "model_module_version": "1.5.0",
      "model_name": "FloatProgressModel",
      "state": {
       "_dom_classes": [],
       "_model_module": "@jupyter-widgets/controls",
       "_model_module_version": "1.5.0",
       "_model_name": "FloatProgressModel",
       "_view_count": null,
       "_view_module": "@jupyter-widgets/controls",
       "_view_module_version": "1.5.0",
       "_view_name": "ProgressView",
       "bar_style": "success",
       "description": "Downloading: 100%",
       "description_tooltip": null,
       "layout": "IPY_MODEL_c7bb8fd54aba4de6bc539ebd5fd3e27a",
       "max": 541808922.0,
       "min": 0.0,
       "orientation": "horizontal",
       "style": "IPY_MODEL_d2373aaf782747c385ac6d4520fbfdb8",
       "value": 541808922.0
      }
     },
     "1a4dd8a66a744c19a26d0ca17dafab81": {
      "model_module": "@jupyter-widgets/base",
      "model_module_version": "1.2.0",
      "model_name": "LayoutModel",
      "state": {
       "_model_module": "@jupyter-widgets/base",
       "_model_module_version": "1.2.0",
       "_model_name": "LayoutModel",
       "_view_count": null,
       "_view_module": "@jupyter-widgets/base",
       "_view_module_version": "1.2.0",
       "_view_name": "LayoutView",
       "align_content": null,
       "align_items": null,
       "align_self": null,
       "border": null,
       "bottom": null,
       "display": null,
       "flex": null,
       "flex_flow": null,
       "grid_area": null,
       "grid_auto_columns": null,
       "grid_auto_flow": null,
       "grid_auto_rows": null,
       "grid_column": null,
       "grid_gap": null,
       "grid_row": null,
       "grid_template_areas": null,
       "grid_template_columns": null,
       "grid_template_rows": null,
       "height": null,
       "justify_content": null,
       "justify_items": null,
       "left": null,
       "margin": null,
       "max_height": null,
       "max_width": null,
       "min_height": null,
       "min_width": null,
       "object_fit": null,
       "object_position": null,
       "order": null,
       "overflow": null,
       "overflow_x": null,
       "overflow_y": null,
       "padding": null,
       "right": null,
       "top": null,
       "visibility": null,
       "width": null
      }
     },
     "1f2043305e4f4c099a0931f872f3f9f7": {
      "model_module": "@jupyter-widgets/controls",
      "model_module_version": "1.5.0",
      "model_name": "DescriptionStyleModel",
      "state": {
       "_model_module": "@jupyter-widgets/controls",
       "_model_module_version": "1.5.0",
       "_model_name": "DescriptionStyleModel",
       "_view_count": null,
       "_view_module": "@jupyter-widgets/base",
       "_view_module_version": "1.2.0",
       "_view_name": "StyleView",
       "description_width": ""
      }
     },
     "35a8e4581f1146578715572dd7c547f2": {
      "model_module": "@jupyter-widgets/controls",
      "model_module_version": "1.5.0",
      "model_name": "FloatProgressModel",
      "state": {
       "_dom_classes": [],
       "_model_module": "@jupyter-widgets/controls",
       "_model_module_version": "1.5.0",
       "_model_name": "FloatProgressModel",
       "_view_count": null,
       "_view_module": "@jupyter-widgets/controls",
       "_view_module_version": "1.5.0",
       "_view_name": "ProgressView",
       "bar_style": "success",
       "description": "Iteration: 100%",
       "description_tooltip": null,
       "layout": "IPY_MODEL_fc35831c8fd94e22a694c9a7fd4b94bf",
       "max": 37562.0,
       "min": 0.0,
       "orientation": "horizontal",
       "style": "IPY_MODEL_ff4c4e59123145c58502cf3b98975f96",
       "value": 37562.0
      }
     },
     "3d62b0db673347fe94f5b335314fbf49": {
      "model_module": "@jupyter-widgets/controls",
      "model_module_version": "1.5.0",
      "model_name": "HBoxModel",
      "state": {
       "_dom_classes": [],
       "_model_module": "@jupyter-widgets/controls",
       "_model_module_version": "1.5.0",
       "_model_name": "HBoxModel",
       "_view_count": null,
       "_view_module": "@jupyter-widgets/controls",
       "_view_module_version": "1.5.0",
       "_view_name": "HBoxView",
       "box_style": "",
       "children": [
        "IPY_MODEL_6d1138e3fb8d425c9541bcb4ace99cc6",
        "IPY_MODEL_0fe00f499a1547c5bbf74721a365239e"
       ],
       "layout": "IPY_MODEL_bee05e8cbf494a259f761bb41015704f"
      }
     },
     "4216623f021a4c3a92176c1ae1afcc95": {
      "model_module": "@jupyter-widgets/controls",
      "model_module_version": "1.5.0",
      "model_name": "HBoxModel",
      "state": {
       "_dom_classes": [],
       "_model_module": "@jupyter-widgets/controls",
       "_model_module_version": "1.5.0",
       "_model_name": "HBoxModel",
       "_view_count": null,
       "_view_module": "@jupyter-widgets/controls",
       "_view_module_version": "1.5.0",
       "_view_name": "HBoxView",
       "box_style": "",
       "children": [
        "IPY_MODEL_c8b1514194f145068c8fe4aea3734214",
        "IPY_MODEL_e0e398d8d8004b7a840d76bf3422367f"
       ],
       "layout": "IPY_MODEL_4a778230517749a79d8bb1a62069cd6e"
      }
     },
     "431a3696148b4c92a90e7e80af147eaa": {
      "model_module": "@jupyter-widgets/controls",
      "model_module_version": "1.5.0",
      "model_name": "HTMLModel",
      "state": {
       "_dom_classes": [],
       "_model_module": "@jupyter-widgets/controls",
       "_model_module_version": "1.5.0",
       "_model_name": "HTMLModel",
       "_view_count": null,
       "_view_module": "@jupyter-widgets/controls",
       "_view_module_version": "1.5.0",
       "_view_name": "HTMLView",
       "description": "",
       "description_tooltip": null,
       "layout": "IPY_MODEL_a9f68d2b3f15444aa8fb8d66cd300e80",
       "placeholder": "​",
       "style": "IPY_MODEL_897e026d6fc3428cadc692fbc0634ea5",
       "value": " 542M/542M [00:16&lt;00:00, 32.1MB/s]"
      }
     },
     "4627b7cd01604ebf9f04de2ddadae5f4": {
      "model_module": "@jupyter-widgets/controls",
      "model_module_version": "1.5.0",
      "model_name": "DescriptionStyleModel",
      "state": {
       "_model_module": "@jupyter-widgets/controls",
       "_model_module_version": "1.5.0",
       "_model_name": "DescriptionStyleModel",
       "_view_count": null,
       "_view_module": "@jupyter-widgets/base",
       "_view_module_version": "1.2.0",
       "_view_name": "StyleView",
       "description_width": ""
      }
     },
     "4a778230517749a79d8bb1a62069cd6e": {
      "model_module": "@jupyter-widgets/base",
      "model_module_version": "1.2.0",
      "model_name": "LayoutModel",
      "state": {
       "_model_module": "@jupyter-widgets/base",
       "_model_module_version": "1.2.0",
       "_model_name": "LayoutModel",
       "_view_count": null,
       "_view_module": "@jupyter-widgets/base",
       "_view_module_version": "1.2.0",
       "_view_name": "LayoutView",
       "align_content": null,
       "align_items": null,
       "align_self": null,
       "border": null,
       "bottom": null,
       "display": null,
       "flex": null,
       "flex_flow": null,
       "grid_area": null,
       "grid_auto_columns": null,
       "grid_auto_flow": null,
       "grid_auto_rows": null,
       "grid_column": null,
       "grid_gap": null,
       "grid_row": null,
       "grid_template_areas": null,
       "grid_template_columns": null,
       "grid_template_rows": null,
       "height": null,
       "justify_content": null,
       "justify_items": null,
       "left": null,
       "margin": null,
       "max_height": null,
       "max_width": null,
       "min_height": null,
       "min_width": null,
       "object_fit": null,
       "object_position": null,
       "order": null,
       "overflow": null,
       "overflow_x": null,
       "overflow_y": null,
       "padding": null,
       "right": null,
       "top": null,
       "visibility": null,
       "width": null
      }
     },
     "6d1138e3fb8d425c9541bcb4ace99cc6": {
      "model_module": "@jupyter-widgets/controls",
      "model_module_version": "1.5.0",
      "model_name": "FloatProgressModel",
      "state": {
       "_dom_classes": [],
       "_model_module": "@jupyter-widgets/controls",
       "_model_module_version": "1.5.0",
       "_model_name": "FloatProgressModel",
       "_view_count": null,
       "_view_module": "@jupyter-widgets/controls",
       "_view_module_version": "1.5.0",
       "_view_name": "ProgressView",
       "bar_style": "success",
       "description": "Downloading: 100%",
       "description_tooltip": null,
       "layout": "IPY_MODEL_127b935509ff45ce9a518d42c3549305",
       "max": 995526.0,
       "min": 0.0,
       "orientation": "horizontal",
       "style": "IPY_MODEL_08c55510bd0248e6b8aabbde5cfdd2bb",
       "value": 995526.0
      }
     },
     "73b8a227afe94a40a2c17b661d7b36ef": {
      "model_module": "@jupyter-widgets/controls",
      "model_module_version": "1.5.0",
      "model_name": "FloatProgressModel",
      "state": {
       "_dom_classes": [],
       "_model_module": "@jupyter-widgets/controls",
       "_model_module_version": "1.5.0",
       "_model_name": "FloatProgressModel",
       "_view_count": null,
       "_view_module": "@jupyter-widgets/controls",
       "_view_module_version": "1.5.0",
       "_view_name": "ProgressView",
       "bar_style": "success",
       "description": "Downloading: 100%",
       "description_tooltip": null,
       "layout": "IPY_MODEL_fb7d5cf37d5d482d85ef4e6e4eca71a0",
       "max": 466.0,
       "min": 0.0,
       "orientation": "horizontal",
       "style": "IPY_MODEL_e9f8553bd6b643e7a8389d51418b9d30",
       "value": 466.0
      }
     },
     "7a7b57eb1af6440891f6ca47f58a0b70": {
      "model_module": "@jupyter-widgets/controls",
      "model_module_version": "1.5.0",
      "model_name": "HTMLModel",
      "state": {
       "_dom_classes": [],
       "_model_module": "@jupyter-widgets/controls",
       "_model_module_version": "1.5.0",
       "_model_name": "HTMLModel",
       "_view_count": null,
       "_view_module": "@jupyter-widgets/controls",
       "_view_module_version": "1.5.0",
       "_view_name": "HTMLView",
       "description": "",
       "description_tooltip": null,
       "layout": "IPY_MODEL_b07ab708ed0a42629076ba8f996ee3ce",
       "placeholder": "​",
       "style": "IPY_MODEL_025bfcba96aa4d50b6fa149067a9fcbd",
       "value": " 466/466 [00:17&lt;00:00, 26.2B/s]"
      }
     },
     "7d93d11ba57846d8abf1c3d8b10a3b08": {
      "model_module": "@jupyter-widgets/base",
      "model_module_version": "1.2.0",
      "model_name": "LayoutModel",
      "state": {
       "_model_module": "@jupyter-widgets/base",
       "_model_module_version": "1.2.0",
       "_model_name": "LayoutModel",
       "_view_count": null,
       "_view_module": "@jupyter-widgets/base",
       "_view_module_version": "1.2.0",
       "_view_name": "LayoutView",
       "align_content": null,
       "align_items": null,
       "align_self": null,
       "border": null,
       "bottom": null,
       "display": null,
       "flex": null,
       "flex_flow": null,
       "grid_area": null,
       "grid_auto_columns": null,
       "grid_auto_flow": null,
       "grid_auto_rows": null,
       "grid_column": null,
       "grid_gap": null,
       "grid_row": null,
       "grid_template_areas": null,
       "grid_template_columns": null,
       "grid_template_rows": null,
       "height": null,
       "justify_content": null,
       "justify_items": null,
       "left": null,
       "margin": null,
       "max_height": null,
       "max_width": null,
       "min_height": null,
       "min_width": null,
       "object_fit": null,
       "object_position": null,
       "order": null,
       "overflow": null,
       "overflow_x": null,
       "overflow_y": null,
       "padding": null,
       "right": null,
       "top": null,
       "visibility": null,
       "width": null
      }
     },
     "8547ba3fbd9b4957b85cea523905fe58": {
      "model_module": "@jupyter-widgets/controls",
      "model_module_version": "1.5.0",
      "model_name": "HBoxModel",
      "state": {
       "_dom_classes": [],
       "_model_module": "@jupyter-widgets/controls",
       "_model_module_version": "1.5.0",
       "_model_name": "HBoxModel",
       "_view_count": null,
       "_view_module": "@jupyter-widgets/controls",
       "_view_module_version": "1.5.0",
       "_view_name": "HBoxView",
       "box_style": "",
       "children": [
        "IPY_MODEL_35a8e4581f1146578715572dd7c547f2",
        "IPY_MODEL_c70ec9d46a2d4e748cdafbe47083d8d3"
       ],
       "layout": "IPY_MODEL_b437ae22b2ce4e1bb0505e56f08b5c92"
      }
     },
     "8881e01d4f994d3c87b4a87b5828d465": {
      "model_module": "@jupyter-widgets/base",
      "model_module_version": "1.2.0",
      "model_name": "LayoutModel",
      "state": {
       "_model_module": "@jupyter-widgets/base",
       "_model_module_version": "1.2.0",
       "_model_name": "LayoutModel",
       "_view_count": null,
       "_view_module": "@jupyter-widgets/base",
       "_view_module_version": "1.2.0",
       "_view_name": "LayoutView",
       "align_content": null,
       "align_items": null,
       "align_self": null,
       "border": null,
       "bottom": null,
       "display": null,
       "flex": null,
       "flex_flow": null,
       "grid_area": null,
       "grid_auto_columns": null,
       "grid_auto_flow": null,
       "grid_auto_rows": null,
       "grid_column": null,
       "grid_gap": null,
       "grid_row": null,
       "grid_template_areas": null,
       "grid_template_columns": null,
       "grid_template_rows": null,
       "height": null,
       "justify_content": null,
       "justify_items": null,
       "left": null,
       "margin": null,
       "max_height": null,
       "max_width": null,
       "min_height": null,
       "min_width": null,
       "object_fit": null,
       "object_position": null,
       "order": null,
       "overflow": null,
       "overflow_x": null,
       "overflow_y": null,
       "padding": null,
       "right": null,
       "top": null,
       "visibility": null,
       "width": null
      }
     },
     "897e026d6fc3428cadc692fbc0634ea5": {
      "model_module": "@jupyter-widgets/controls",
      "model_module_version": "1.5.0",
      "model_name": "DescriptionStyleModel",
      "state": {
       "_model_module": "@jupyter-widgets/controls",
       "_model_module_version": "1.5.0",
       "_model_name": "DescriptionStyleModel",
       "_view_count": null,
       "_view_module": "@jupyter-widgets/base",
       "_view_module_version": "1.2.0",
       "_view_name": "StyleView",
       "description_width": ""
      }
     },
     "a9f68d2b3f15444aa8fb8d66cd300e80": {
      "model_module": "@jupyter-widgets/base",
      "model_module_version": "1.2.0",
      "model_name": "LayoutModel",
      "state": {
       "_model_module": "@jupyter-widgets/base",
       "_model_module_version": "1.2.0",
       "_model_name": "LayoutModel",
       "_view_count": null,
       "_view_module": "@jupyter-widgets/base",
       "_view_module_version": "1.2.0",
       "_view_name": "LayoutView",
       "align_content": null,
       "align_items": null,
       "align_self": null,
       "border": null,
       "bottom": null,
       "display": null,
       "flex": null,
       "flex_flow": null,
       "grid_area": null,
       "grid_auto_columns": null,
       "grid_auto_flow": null,
       "grid_auto_rows": null,
       "grid_column": null,
       "grid_gap": null,
       "grid_row": null,
       "grid_template_areas": null,
       "grid_template_columns": null,
       "grid_template_rows": null,
       "height": null,
       "justify_content": null,
       "justify_items": null,
       "left": null,
       "margin": null,
       "max_height": null,
       "max_width": null,
       "min_height": null,
       "min_width": null,
       "object_fit": null,
       "object_position": null,
       "order": null,
       "overflow": null,
       "overflow_x": null,
       "overflow_y": null,
       "padding": null,
       "right": null,
       "top": null,
       "visibility": null,
       "width": null
      }
     },
     "aa12420cfc6c4ed3bb46414b8935fb53": {
      "model_module": "@jupyter-widgets/controls",
      "model_module_version": "1.5.0",
      "model_name": "HBoxModel",
      "state": {
       "_dom_classes": [],
       "_model_module": "@jupyter-widgets/controls",
       "_model_module_version": "1.5.0",
       "_model_name": "HBoxModel",
       "_view_count": null,
       "_view_module": "@jupyter-widgets/controls",
       "_view_module_version": "1.5.0",
       "_view_name": "HBoxView",
       "box_style": "",
       "children": [
        "IPY_MODEL_16bb6e281a1d44ae9ca1996e563d9734",
        "IPY_MODEL_431a3696148b4c92a90e7e80af147eaa"
       ],
       "layout": "IPY_MODEL_0ba5b866148d4907b178c34c2c8c7bd6"
      }
     },
     "af814fed347e49749291a29f15bd7eed": {
      "model_module": "@jupyter-widgets/controls",
      "model_module_version": "1.5.0",
      "model_name": "DescriptionStyleModel",
      "state": {
       "_model_module": "@jupyter-widgets/controls",
       "_model_module_version": "1.5.0",
       "_model_name": "DescriptionStyleModel",
       "_view_count": null,
       "_view_module": "@jupyter-widgets/base",
       "_view_module_version": "1.2.0",
       "_view_name": "StyleView",
       "description_width": ""
      }
     },
     "b07ab708ed0a42629076ba8f996ee3ce": {
      "model_module": "@jupyter-widgets/base",
      "model_module_version": "1.2.0",
      "model_name": "LayoutModel",
      "state": {
       "_model_module": "@jupyter-widgets/base",
       "_model_module_version": "1.2.0",
       "_model_name": "LayoutModel",
       "_view_count": null,
       "_view_module": "@jupyter-widgets/base",
       "_view_module_version": "1.2.0",
       "_view_name": "LayoutView",
       "align_content": null,
       "align_items": null,
       "align_self": null,
       "border": null,
       "bottom": null,
       "display": null,
       "flex": null,
       "flex_flow": null,
       "grid_area": null,
       "grid_auto_columns": null,
       "grid_auto_flow": null,
       "grid_auto_rows": null,
       "grid_column": null,
       "grid_gap": null,
       "grid_row": null,
       "grid_template_areas": null,
       "grid_template_columns": null,
       "grid_template_rows": null,
       "height": null,
       "justify_content": null,
       "justify_items": null,
       "left": null,
       "margin": null,
       "max_height": null,
       "max_width": null,
       "min_height": null,
       "min_width": null,
       "object_fit": null,
       "object_position": null,
       "order": null,
       "overflow": null,
       "overflow_x": null,
       "overflow_y": null,
       "padding": null,
       "right": null,
       "top": null,
       "visibility": null,
       "width": null
      }
     },
     "b437ae22b2ce4e1bb0505e56f08b5c92": {
      "model_module": "@jupyter-widgets/base",
      "model_module_version": "1.2.0",
      "model_name": "LayoutModel",
      "state": {
       "_model_module": "@jupyter-widgets/base",
       "_model_module_version": "1.2.0",
       "_model_name": "LayoutModel",
       "_view_count": null,
       "_view_module": "@jupyter-widgets/base",
       "_view_module_version": "1.2.0",
       "_view_name": "LayoutView",
       "align_content": null,
       "align_items": null,
       "align_self": null,
       "border": null,
       "bottom": null,
       "display": null,
       "flex": null,
       "flex_flow": null,
       "grid_area": null,
       "grid_auto_columns": null,
       "grid_auto_flow": null,
       "grid_auto_rows": null,
       "grid_column": null,
       "grid_gap": null,
       "grid_row": null,
       "grid_template_areas": null,
       "grid_template_columns": null,
       "grid_template_rows": null,
       "height": null,
       "justify_content": null,
       "justify_items": null,
       "left": null,
       "margin": null,
       "max_height": null,
       "max_width": null,
       "min_height": null,
       "min_width": null,
       "object_fit": null,
       "object_position": null,
       "order": null,
       "overflow": null,
       "overflow_x": null,
       "overflow_y": null,
       "padding": null,
       "right": null,
       "top": null,
       "visibility": null,
       "width": null
      }
     },
     "bee05e8cbf494a259f761bb41015704f": {
      "model_module": "@jupyter-widgets/base",
      "model_module_version": "1.2.0",
      "model_name": "LayoutModel",
      "state": {
       "_model_module": "@jupyter-widgets/base",
       "_model_module_version": "1.2.0",
       "_model_name": "LayoutModel",
       "_view_count": null,
       "_view_module": "@jupyter-widgets/base",
       "_view_module_version": "1.2.0",
       "_view_name": "LayoutView",
       "align_content": null,
       "align_items": null,
       "align_self": null,
       "border": null,
       "bottom": null,
       "display": null,
       "flex": null,
       "flex_flow": null,
       "grid_area": null,
       "grid_auto_columns": null,
       "grid_auto_flow": null,
       "grid_auto_rows": null,
       "grid_column": null,
       "grid_gap": null,
       "grid_row": null,
       "grid_template_areas": null,
       "grid_template_columns": null,
       "grid_template_rows": null,
       "height": null,
       "justify_content": null,
       "justify_items": null,
       "left": null,
       "margin": null,
       "max_height": null,
       "max_width": null,
       "min_height": null,
       "min_width": null,
       "object_fit": null,
       "object_position": null,
       "order": null,
       "overflow": null,
       "overflow_x": null,
       "overflow_y": null,
       "padding": null,
       "right": null,
       "top": null,
       "visibility": null,
       "width": null
      }
     },
     "c4a8888ca7e44d04ada35feb3db40c01": {
      "model_module": "@jupyter-widgets/controls",
      "model_module_version": "1.5.0",
      "model_name": "ProgressStyleModel",
      "state": {
       "_model_module": "@jupyter-widgets/controls",
       "_model_module_version": "1.5.0",
       "_model_name": "ProgressStyleModel",
       "_view_count": null,
       "_view_module": "@jupyter-widgets/base",
       "_view_module_version": "1.2.0",
       "_view_name": "StyleView",
       "bar_color": null,
       "description_width": "initial"
      }
     },
     "c70ec9d46a2d4e748cdafbe47083d8d3": {
      "model_module": "@jupyter-widgets/controls",
      "model_module_version": "1.5.0",
      "model_name": "HTMLModel",
      "state": {
       "_dom_classes": [],
       "_model_module": "@jupyter-widgets/controls",
       "_model_module_version": "1.5.0",
       "_model_name": "HTMLModel",
       "_view_count": null,
       "_view_module": "@jupyter-widgets/controls",
       "_view_module_version": "1.5.0",
       "_view_name": "HTMLView",
       "description": "",
       "description_tooltip": null,
       "layout": "IPY_MODEL_1a4dd8a66a744c19a26d0ca17dafab81",
       "placeholder": "​",
       "style": "IPY_MODEL_4627b7cd01604ebf9f04de2ddadae5f4",
       "value": " 37562/37562 [2:13:50&lt;00:00,  4.68it/s]"
      }
     },
     "c7bb8fd54aba4de6bc539ebd5fd3e27a": {
      "model_module": "@jupyter-widgets/base",
      "model_module_version": "1.2.0",
      "model_name": "LayoutModel",
      "state": {
       "_model_module": "@jupyter-widgets/base",
       "_model_module_version": "1.2.0",
       "_model_name": "LayoutModel",
       "_view_count": null,
       "_view_module": "@jupyter-widgets/base",
       "_view_module_version": "1.2.0",
       "_view_name": "LayoutView",
       "align_content": null,
       "align_items": null,
       "align_self": null,
       "border": null,
       "bottom": null,
       "display": null,
       "flex": null,
       "flex_flow": null,
       "grid_area": null,
       "grid_auto_columns": null,
       "grid_auto_flow": null,
       "grid_auto_rows": null,
       "grid_column": null,
       "grid_gap": null,
       "grid_row": null,
       "grid_template_areas": null,
       "grid_template_columns": null,
       "grid_template_rows": null,
       "height": null,
       "justify_content": null,
       "justify_items": null,
       "left": null,
       "margin": null,
       "max_height": null,
       "max_width": null,
       "min_height": null,
       "min_width": null,
       "object_fit": null,
       "object_position": null,
       "order": null,
       "overflow": null,
       "overflow_x": null,
       "overflow_y": null,
       "padding": null,
       "right": null,
       "top": null,
       "visibility": null,
       "width": null
      }
     },
     "c8b1514194f145068c8fe4aea3734214": {
      "model_module": "@jupyter-widgets/controls",
      "model_module_version": "1.5.0",
      "model_name": "FloatProgressModel",
      "state": {
       "_dom_classes": [],
       "_model_module": "@jupyter-widgets/controls",
       "_model_module_version": "1.5.0",
       "_model_name": "FloatProgressModel",
       "_view_count": null,
       "_view_module": "@jupyter-widgets/controls",
       "_view_module_version": "1.5.0",
       "_view_name": "ProgressView",
       "bar_style": "success",
       "description": "Epoch: 100%",
       "description_tooltip": null,
       "layout": "IPY_MODEL_8881e01d4f994d3c87b4a87b5828d465",
       "max": 1.0,
       "min": 0.0,
       "orientation": "horizontal",
       "style": "IPY_MODEL_c4a8888ca7e44d04ada35feb3db40c01",
       "value": 1.0
      }
     },
     "d2373aaf782747c385ac6d4520fbfdb8": {
      "model_module": "@jupyter-widgets/controls",
      "model_module_version": "1.5.0",
      "model_name": "ProgressStyleModel",
      "state": {
       "_model_module": "@jupyter-widgets/controls",
       "_model_module_version": "1.5.0",
       "_model_name": "ProgressStyleModel",
       "_view_count": null,
       "_view_module": "@jupyter-widgets/base",
       "_view_module_version": "1.2.0",
       "_view_name": "StyleView",
       "bar_color": null,
       "description_width": "initial"
      }
     },
     "e0e398d8d8004b7a840d76bf3422367f": {
      "model_module": "@jupyter-widgets/controls",
      "model_module_version": "1.5.0",
      "model_name": "HTMLModel",
      "state": {
       "_dom_classes": [],
       "_model_module": "@jupyter-widgets/controls",
       "_model_module_version": "1.5.0",
       "_model_name": "HTMLModel",
       "_view_count": null,
       "_view_module": "@jupyter-widgets/controls",
       "_view_module_version": "1.5.0",
       "_view_name": "HTMLView",
       "description": "",
       "description_tooltip": null,
       "layout": "IPY_MODEL_7d93d11ba57846d8abf1c3d8b10a3b08",
       "placeholder": "​",
       "style": "IPY_MODEL_1f2043305e4f4c099a0931f872f3f9f7",
       "value": " 1/1 [2:13:50&lt;00:00, 8030.40s/it]"
      }
     },
     "e2f98265dc3f48e89906ffe6b4d01d88": {
      "model_module": "@jupyter-widgets/controls",
      "model_module_version": "1.5.0",
      "model_name": "HBoxModel",
      "state": {
       "_dom_classes": [],
       "_model_module": "@jupyter-widgets/controls",
       "_model_module_version": "1.5.0",
       "_model_name": "HBoxModel",
       "_view_count": null,
       "_view_module": "@jupyter-widgets/controls",
       "_view_module_version": "1.5.0",
       "_view_name": "HBoxView",
       "box_style": "",
       "children": [
        "IPY_MODEL_73b8a227afe94a40a2c17b661d7b36ef",
        "IPY_MODEL_7a7b57eb1af6440891f6ca47f58a0b70"
       ],
       "layout": "IPY_MODEL_0ea454b0f91f482b94ba81a56f27589d"
      }
     },
     "e9f8553bd6b643e7a8389d51418b9d30": {
      "model_module": "@jupyter-widgets/controls",
      "model_module_version": "1.5.0",
      "model_name": "ProgressStyleModel",
      "state": {
       "_model_module": "@jupyter-widgets/controls",
       "_model_module_version": "1.5.0",
       "_model_name": "ProgressStyleModel",
       "_view_count": null,
       "_view_module": "@jupyter-widgets/base",
       "_view_module_version": "1.2.0",
       "_view_name": "StyleView",
       "bar_color": null,
       "description_width": "initial"
      }
     },
     "f048bd818e1a48cdb2f2af672115af9c": {
      "model_module": "@jupyter-widgets/base",
      "model_module_version": "1.2.0",
      "model_name": "LayoutModel",
      "state": {
       "_model_module": "@jupyter-widgets/base",
       "_model_module_version": "1.2.0",
       "_model_name": "LayoutModel",
       "_view_count": null,
       "_view_module": "@jupyter-widgets/base",
       "_view_module_version": "1.2.0",
       "_view_name": "LayoutView",
       "align_content": null,
       "align_items": null,
       "align_self": null,
       "border": null,
       "bottom": null,
       "display": null,
       "flex": null,
       "flex_flow": null,
       "grid_area": null,
       "grid_auto_columns": null,
       "grid_auto_flow": null,
       "grid_auto_rows": null,
       "grid_column": null,
       "grid_gap": null,
       "grid_row": null,
       "grid_template_areas": null,
       "grid_template_columns": null,
       "grid_template_rows": null,
       "height": null,
       "justify_content": null,
       "justify_items": null,
       "left": null,
       "margin": null,
       "max_height": null,
       "max_width": null,
       "min_height": null,
       "min_width": null,
       "object_fit": null,
       "object_position": null,
       "order": null,
       "overflow": null,
       "overflow_x": null,
       "overflow_y": null,
       "padding": null,
       "right": null,
       "top": null,
       "visibility": null,
       "width": null
      }
     },
     "fb7d5cf37d5d482d85ef4e6e4eca71a0": {
      "model_module": "@jupyter-widgets/base",
      "model_module_version": "1.2.0",
      "model_name": "LayoutModel",
      "state": {
       "_model_module": "@jupyter-widgets/base",
       "_model_module_version": "1.2.0",
       "_model_name": "LayoutModel",
       "_view_count": null,
       "_view_module": "@jupyter-widgets/base",
       "_view_module_version": "1.2.0",
       "_view_name": "LayoutView",
       "align_content": null,
       "align_items": null,
       "align_self": null,
       "border": null,
       "bottom": null,
       "display": null,
       "flex": null,
       "flex_flow": null,
       "grid_area": null,
       "grid_auto_columns": null,
       "grid_auto_flow": null,
       "grid_auto_rows": null,
       "grid_column": null,
       "grid_gap": null,
       "grid_row": null,
       "grid_template_areas": null,
       "grid_template_columns": null,
       "grid_template_rows": null,
       "height": null,
       "justify_content": null,
       "justify_items": null,
       "left": null,
       "margin": null,
       "max_height": null,
       "max_width": null,
       "min_height": null,
       "min_width": null,
       "object_fit": null,
       "object_position": null,
       "order": null,
       "overflow": null,
       "overflow_x": null,
       "overflow_y": null,
       "padding": null,
       "right": null,
       "top": null,
       "visibility": null,
       "width": null
      }
     },
     "fc35831c8fd94e22a694c9a7fd4b94bf": {
      "model_module": "@jupyter-widgets/base",
      "model_module_version": "1.2.0",
      "model_name": "LayoutModel",
      "state": {
       "_model_module": "@jupyter-widgets/base",
       "_model_module_version": "1.2.0",
       "_model_name": "LayoutModel",
       "_view_count": null,
       "_view_module": "@jupyter-widgets/base",
       "_view_module_version": "1.2.0",
       "_view_name": "LayoutView",
       "align_content": null,
       "align_items": null,
       "align_self": null,
       "border": null,
       "bottom": null,
       "display": null,
       "flex": null,
       "flex_flow": null,
       "grid_area": null,
       "grid_auto_columns": null,
       "grid_auto_flow": null,
       "grid_auto_rows": null,
       "grid_column": null,
       "grid_gap": null,
       "grid_row": null,
       "grid_template_areas": null,
       "grid_template_columns": null,
       "grid_template_rows": null,
       "height": null,
       "justify_content": null,
       "justify_items": null,
       "left": null,
       "margin": null,
       "max_height": null,
       "max_width": null,
       "min_height": null,
       "min_width": null,
       "object_fit": null,
       "object_position": null,
       "order": null,
       "overflow": null,
       "overflow_x": null,
       "overflow_y": null,
       "padding": null,
       "right": null,
       "top": null,
       "visibility": null,
       "width": null
      }
     },
     "ff4c4e59123145c58502cf3b98975f96": {
      "model_module": "@jupyter-widgets/controls",
      "model_module_version": "1.5.0",
      "model_name": "ProgressStyleModel",
      "state": {
       "_model_module": "@jupyter-widgets/controls",
       "_model_module_version": "1.5.0",
       "_model_name": "ProgressStyleModel",
       "_view_count": null,
       "_view_module": "@jupyter-widgets/base",
       "_view_module_version": "1.2.0",
       "_view_name": "StyleView",
       "bar_color": null,
       "description_width": "initial"
      }
     }
    },
    "version_major": 2,
    "version_minor": 0
   }
  }
 },
 "nbformat": 4,
 "nbformat_minor": 4
}
