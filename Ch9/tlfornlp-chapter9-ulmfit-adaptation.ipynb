{
 "cells": [
  {
   "cell_type": "markdown",
   "metadata": {
    "papermill": {
     "duration": 0.022501,
     "end_time": "2020-12-28T04:57:38.522818",
     "exception": false,
     "start_time": "2020-12-28T04:57:38.500317",
     "status": "completed"
    },
    "tags": []
   },
   "source": [
    "# Preliminaries\n",
    "Write requirements to file, anytime you run it, in case you have to go back and recover dependencies.\n",
    "\n",
    "Requirements are hosted for each notebook in the companion github repo, and can be pulled down and installed here if needed. Companion github repo is located at https://github.com/azunre/transfer-learning-for-nlp"
   ]
  },
  {
   "cell_type": "code",
   "execution_count": 1,
   "metadata": {
    "execution": {
     "iopub.execute_input": "2020-12-28T04:57:38.571281Z",
     "iopub.status.busy": "2020-12-28T04:57:38.570460Z",
     "iopub.status.idle": "2020-12-28T04:57:40.370096Z",
     "shell.execute_reply": "2020-12-28T04:57:40.368772Z"
    },
    "papermill": {
     "duration": 1.825739,
     "end_time": "2020-12-28T04:57:40.370213",
     "exception": false,
     "start_time": "2020-12-28T04:57:38.544474",
     "status": "completed"
    },
    "tags": []
   },
   "outputs": [],
   "source": [
    "!pip freeze > kaggle_image_requirements.txt"
   ]
  },
  {
   "cell_type": "markdown",
   "metadata": {
    "papermill": {
     "duration": 0.021719,
     "end_time": "2020-12-28T04:57:40.414149",
     "exception": false,
     "start_time": "2020-12-28T04:57:40.392430",
     "status": "completed"
    },
    "tags": []
   },
   "source": [
    "# Read and Preprocess Fake News Data\n",
    "\n",
    "The data preprocessing steps are the same as those in sections 4.2/4.4\n",
    "\n",
    "Read in the \"true\" and \"fake\" data\n",
    "\n",
    "In quotes, because that has the potential to simply replicate the biases of the labeler, so should be carefully evaluated"
   ]
  },
  {
   "cell_type": "code",
   "execution_count": 2,
   "metadata": {
    "execution": {
     "iopub.execute_input": "2020-12-28T04:57:40.468266Z",
     "iopub.status.busy": "2020-12-28T04:57:40.467705Z",
     "iopub.status.idle": "2020-12-28T04:57:42.758836Z",
     "shell.execute_reply": "2020-12-28T04:57:42.759249Z"
    },
    "papermill": {
     "duration": 2.322539,
     "end_time": "2020-12-28T04:57:42.759394",
     "exception": false,
     "start_time": "2020-12-28T04:57:40.436855",
     "status": "completed"
    },
    "tags": []
   },
   "outputs": [
    {
     "name": "stdout",
     "output_type": "stream",
     "text": [
      "Data labeled as True:\n",
      "                                               title  \\\n",
      "0  As U.S. budget fight looms, Republicans flip t...   \n",
      "1  U.S. military to accept transgender recruits o...   \n",
      "2  Senior U.S. Republican senator: 'Let Mr. Muell...   \n",
      "3  FBI Russia probe helped by Australian diplomat...   \n",
      "4  Trump wants Postal Service to charge 'much mor...   \n",
      "\n",
      "                                                text       subject  \\\n",
      "0  WASHINGTON (Reuters) - The head of a conservat...  politicsNews   \n",
      "1  WASHINGTON (Reuters) - Transgender people will...  politicsNews   \n",
      "2  WASHINGTON (Reuters) - The special counsel inv...  politicsNews   \n",
      "3  WASHINGTON (Reuters) - Trump campaign adviser ...  politicsNews   \n",
      "4  SEATTLE/WASHINGTON (Reuters) - President Donal...  politicsNews   \n",
      "\n",
      "                 date  \n",
      "0  December 31, 2017   \n",
      "1  December 29, 2017   \n",
      "2  December 31, 2017   \n",
      "3  December 30, 2017   \n",
      "4  December 29, 2017   \n",
      "\n",
      "\n",
      "\n",
      "Data labeled as Fake:\n",
      "                                               title  \\\n",
      "0   Donald Trump Sends Out Embarrassing New Year’...   \n",
      "1   Drunk Bragging Trump Staffer Started Russian ...   \n",
      "2   Sheriff David Clarke Becomes An Internet Joke...   \n",
      "3   Trump Is So Obsessed He Even Has Obama’s Name...   \n",
      "4   Pope Francis Just Called Out Donald Trump Dur...   \n",
      "\n",
      "                                                text subject  \\\n",
      "0  Donald Trump just couldn t wish all Americans ...    News   \n",
      "1  House Intelligence Committee Chairman Devin Nu...    News   \n",
      "2  On Friday, it was revealed that former Milwauk...    News   \n",
      "3  On Christmas day, Donald Trump announced that ...    News   \n",
      "4  Pope Francis used his annual Christmas Day mes...    News   \n",
      "\n",
      "                date  \n",
      "0  December 31, 2017  \n",
      "1  December 31, 2017  \n",
      "2  December 30, 2017  \n",
      "3  December 29, 2017  \n",
      "4  December 25, 2017  \n"
     ]
    }
   ],
   "source": [
    "import numpy as np # linear algebra\n",
    "import pandas as pd # data processing, CSV file I/O (e.g. pd.read_csv)\n",
    "\n",
    "# Read the data into pandas DataFrames\n",
    "DataTrue = pd.read_csv(\"/kaggle/input/fake-and-real-news-dataset/True.csv\")\n",
    "DataFake = pd.read_csv(\"/kaggle/input/fake-and-real-news-dataset/Fake.csv\")\n",
    "\n",
    "print(\"Data labeled as True:\")\n",
    "print(DataTrue.head())\n",
    "print(\"\\n\\n\\nData labeled as Fake:\")\n",
    "print(DataFake.head())"
   ]
  },
  {
   "cell_type": "markdown",
   "metadata": {
    "papermill": {
     "duration": 0.022015,
     "end_time": "2020-12-28T04:57:42.804051",
     "exception": false,
     "start_time": "2020-12-28T04:57:42.782036",
     "status": "completed"
    },
    "tags": []
   },
   "source": [
    "Assemble the two different kinds of data (1000 samples from each of the two classes)"
   ]
  },
  {
   "cell_type": "code",
   "execution_count": 3,
   "metadata": {
    "execution": {
     "iopub.execute_input": "2020-12-28T04:57:42.856903Z",
     "iopub.status.busy": "2020-12-28T04:57:42.856038Z",
     "iopub.status.idle": "2020-12-28T04:57:42.871644Z",
     "shell.execute_reply": "2020-12-28T04:57:42.872285Z"
    },
    "papermill": {
     "duration": 0.045786,
     "end_time": "2020-12-28T04:57:42.872425",
     "exception": false,
     "start_time": "2020-12-28T04:57:42.826639",
     "status": "completed"
    },
    "tags": []
   },
   "outputs": [
    {
     "name": "stdout",
     "output_type": "stream",
     "text": [
      "Length of combined data is:\n",
      "2000\n",
      "Data represented as numpy array (first 5 samples) is:\n",
      "[['Judge criticized by Trump unseals documents in Trump University case'\n",
      "  'WASHINGTON (Reuters) - A judge, called a “hater” by Donald Trump for his handling of a lawsuit related to the businessman’s Trump University real estate school, has unsealed documents related to the case. Trump, the presumptive Republican presidential nominee for the Nov. 8 election, is fighting a lawsuit that accuses his school venture of misleading thousands of people who paid up to $35,000 for seminars to learn about the billionaire’s real estate investment strategies. In an order signed on Friday, U.S. District Judge Gonzalo Curiel said that materials, including Trump University procedures on dealing with students and the media, should be unsealed.  He noted they had already been published by the media organization Politico and that a magistrate judge described them previously as “routine” and “commonplace.” At a rally in San Diego on Friday, Trump criticized Curiel for his handling of the Trump University case. “I have a judge who is a hater of Donald Trump. A hater. He’s a hater,” Trump said. “We’re in front of a very hostile judge. The judge was appointed by Barack Obama,” Trump said, adding he believed Curiel was Mexican. Curiel is an American who was born in East Chicago, Indiana, and graduated from the Indiana University School of Law. Legal scholars said Trump could face consequences for slamming the judge, although many speculated that Curiel was unlikely to sanction him formally.  “Mr. Trump’s conduct could be subject to sanction for indirect criminal contempt of court,” said Charles Geyh, a legal ethics expert at the Indiana University Maurer School of Law. “He has impugned the honesty of the judge in a pending case, and has done so in the context of a political rally that seems calculated to intimidate by inciting anger among his supporters,” he said. Arthur Hellman, an expert on federal courts and judicial ethics at the University of Pittsburgh School of Law, said the judge was in a difficult position. “He can’t respond directly. He’s not supposed to talk out of court about proceedings before him. Judges have gotten into trouble defending themselves from attacks. The judge’s hands are really tied,” he said. Trump has drawn criticism for his comments about immigrants from Mexico, some of whom he has said were criminals and rapists.  He has proposed building a wall along the U.S. border with Mexico to prevent illegal immigration and requiring Mexico to pay for it. Hispanics are a critical voting bloc in U.S. presidential elections. Last week, Trump knocked one of the highest-profile Hispanic women in the Republican Party, criticizing New Mexico Governor Susana Martinez for her handling of the state’s economy.  Her office said his criticisms were not substantive. Martinez has been touted as a potential vice presidential pick for a Republican ticket. '\n",
      "  'politicsNews' 'May 29, 2016 ']\n",
      " ['Trump Jr. Russia emails prompt new government watchdog complaint'\n",
      "  'WASHINGTON (Reuters) - Government watchdogs filed a complaint against Donald Trump Jr., Jared Kushner and Paul Manafort on Thursday with the federal agency that oversees elections, arguing the three violated the law by meeting with a Russian who was offering purportedly damaging information on Hillary Clinton.  The complaint with the Federal Election Commission was signed by Common Cause, the Campaign Legal Center, Democracy 21 and two campaign lawyers involved with those groups. It identified as respondents the Trump campaign and Trump Jr. Common Cause filed a complaint earlier this week with the agency. Thursday’s complaint added three attendees at the meeting: Manafort, who was Trump’s campaign manager at the time, Kushner, Trump’s son-in-law, and Rob Goldstone, who arranged the meeting. The complaint takes advantage of information disclosed in email exchanges with Trump, Jr., son of President Donald Trump, that detailed how and why the meeting in 2016 was arranged.  The Federal Election Commission is the only federal agency that can bring civil charges for violations of the campaign finance law. However, because the panel requires bipartisan agreement to move forward on any actions, critics have expressed concern that the agency was unlikely to take action.  Democrat U.S. Representative Grace Meng wrote to the Federal Election Commission on Wednesday asking it to take up Common Cause’s first complaint against Trump Jr. The organizations said in Thursday’s complaint that the emails provided evidence that Trump Jr. violated the law by asking a foreign national for something of value, which they argue the law would define as “including the fruits of paid research, hacking, or similar investigatory activity.”  “The evidence is clear that Don Jr. knew that the offer of opposition campaign research came from the Russian government, and the law is clear that giving such valuable research for free would have been a contribution to the Trump campaign,” said Brendan Fischer of the Campaign Legal Center. The complaint said that Manafort and Kushner, by attending the meeting knowing the subject matter, are also at fault.   Donald Trump, Jr. and the White House have insisted there was no wrong doing. Democratic lawmakers want the Federal Election Commission to bring civil charges against Donald Trump, Jr., saying the meeting violated the law.  The Department of Justice could bring criminal charges.  '\n",
      "  'politicsNews' 'July 13, 2017 ']\n",
      " ['Trump team promises to address ethics concerns on businesses'\n",
      "  'WASHINGTON (Reuters) - President-elect Donald Trump will work to ensure there is “proper separation” between his business empire and his job as president of the United States, Vice President-elect Mike Pence said on Sunday, amid fresh concerns about conflict of interest following a meeting with Indian real estate executives. Trump, who has said he planned to turn over handling of the Trump Organization to his adult children, has come under criticism for meeting on Tuesday with three Indian businessmen who are partners in a project to build a Trump-branded luxury apartment complex in Mumbai. Pence said on the CBS program “Face the Nation” that Trump and his family would “work with the best legal minds in this country and create the proper separation from their business enterprise during his duties as president of the United States.” A photo of the three executives meeting with Trump was posted on Twitter. Indian newspapers reported last week that the business leaders talked with the Trump Organization about expanding the Trump branded projects in India. Incoming White House chief of staff Reince Priebus, speaking on CNN’s “State of the Union” program, said Trump would comply with all laws and have the White House counsel’s office “review all of these things.” “And we will have every ‘I’ dotted and every ‘T’ crossed, and I can assure the American people that there wouldn’t be any wrongdoing, or any sort of undue influence over any decision-making,” Priebus said. Trump, who takes office on Jan. 20, has said his businesses will be overseen by his three grown children, Donald Trump Jr., Ivanka Trump and Eric Trump. Priebus was asked if it was appropriate for family members to sit in on official meetings after Ivanka Trump attended her father’s meeting with Japanese Prime Minister Shinzo Abe on Thursday. “Donald Trump has been very clear from the very beginning that his family is very important to him,” Priebus said on CNN. '\n",
      "  'politicsNews' 'November 20, 2016 ']\n",
      " ['Organizers of white nationalist rally in Virginia, driver sued for $3 million'\n",
      "  'CHARLOTTESVILLE, Va. (Reuters) - Two people who say they were injured in a far-right rally in Charlottesville, Virginia sued the man charged with killing a woman by driving his car through the crowd as well as the event’s organizers on Tuesday for $3 million. Tadrint Washington and Micah Washington said in papers filed in Charlottesville circuit court that they had been among the people hurt when James Alex Fields drove his car into a crowd of counter-protesters, killing one. They had been driving home and their car was struck by Fields car, and some of his pedestrian victims were also hurled onto their vehicle, the lawsuit said. The lawsuit names Fields, “Unite the Right” rally organizer Jason Kessler and about two dozen alt-right leaders and organizations as defendants. “There was no doubt that violence was intended at this rally,” the pair said in the lawsuit, noting that participants came bearing shields and weapons. Kessler has denied that the event was intended to provoke violence, contending that the counter-protesters sparked the fighting and blaming police for failing to protect his group. He could not be reached for comment on Tuesday. Fields has been charged with second-degree murder for killing Heather Heyer with his car, and additional charges for the other 19 people injured. He was denied bail at a Monday court hearing. '\n",
      "  'politicsNews' 'August 15, 2017 ']\n",
      " ['In Pennsylvania, Trump to propose childcare deduction tax break'\n",
      "  'WASHINGTON (Reuters) - U.S. Republican presidential nominee Donald Trump on Tuesday will propose allowing families to deduct the cost of childcare expenses from income taxes, his campaign said, a move aimed at bolstering his support among women voters. Trump is to lay out the plan in an evening speech in the Philadelphia suburb of Aston, Pennsylvania, his latest attempt to construct a policy framework that he would use for governing if elected over Democrat Hillary Clinton on Nov. 8. Trump is to be introduced at the event by his daughter, Ivanka, who has championed the issue of childcare as an influential voice in his campaign. She told reporters on a conference call that she was involved in developing the plan. “I’m very passionate about this,” she said. Trump’s support among women voters has lagged. Overall, he has risen to a more competitive position against Clinton in national opinion polls and in battleground states where the election is likely to be decided. Polls show the race tightening in the crucial state of Pennsylvania. A Quinnipiac University poll last week said Clinton led 48 percent to 43 percent for Trump there, a reduction from her 10-point lead a month ago. Trump’s plan would change the U.S. tax code to let parents deduct from their income taxes childcare expenses for up to four children and elderly dependents, his campaign said. It would be available for individuals earning less than $250,000 a year or under $500,000 for couples filing jointly. Trump campaign officials did not detail the overall cost of the program. A senior official said it would be part of Trump’s plan to overhaul the tax code and would end up not adding to deficit spending in the U.S. budget. Trump would offer childcare spending rebates to lower-income taxpayers through the existing Earned Income Tax Credit. The campaign said this could mean tax rebates as high as $1,200 for eligible families each year. Trump also would create new Dependent Care Savings Accounts to allow families to set aside money “to foster their children’s development and offset elder care for their parents or adult dependents,” the campaign said. Individuals could contribute up to $2,000 a year tax free. The New York businessman also is proposing guaranteed six weeks of paid maternity leave. He would accomplish this by amending the existing unemployment insurance that companies are required to carry.  The benefit would apply only when employers do not offer paid maternity leave, and would be paid for by offsetting reductions in the federal unemployment insurance program so that taxes are not raised. '\n",
      "  'politicsNews' 'September 13, 2016 ']]\n"
     ]
    }
   ],
   "source": [
    "Nsamp =1000 # number of samples to generate in each class - 'true', 'fake'\n",
    "DataTrue = DataTrue.sample(Nsamp)\n",
    "DataFake = DataFake.sample(Nsamp)\n",
    "raw_data = pd.concat([DataTrue,DataFake], axis=0).values\n",
    "\n",
    "# combine title, body text and topics into one string per document\n",
    "#raw_data = [sample[0].lower() + sample[1].lower() + sample[3].lower() for sample in raw_data]\n",
    "\n",
    "print(\"Length of combined data is:\")\n",
    "print(len(raw_data))\n",
    "print(\"Data represented as numpy array (first 5 samples) is:\")\n",
    "print(raw_data[:5])\n",
    "\n",
    "# corresponding labels\n",
    "Categories = ['True','False']\n",
    "header = ([1]*Nsamp)\n",
    "header.extend(([0]*Nsamp))"
   ]
  },
  {
   "cell_type": "markdown",
   "metadata": {
    "papermill": {
     "duration": 0.022529,
     "end_time": "2020-12-28T04:57:42.919056",
     "exception": false,
     "start_time": "2020-12-28T04:57:42.896527",
     "status": "completed"
    },
    "tags": []
   },
   "source": [
    "Shuffle data, split into train and test sets..."
   ]
  },
  {
   "cell_type": "code",
   "execution_count": 4,
   "metadata": {
    "execution": {
     "iopub.execute_input": "2020-12-28T04:57:42.975713Z",
     "iopub.status.busy": "2020-12-28T04:57:42.974576Z",
     "iopub.status.idle": "2020-12-28T04:57:42.978435Z",
     "shell.execute_reply": "2020-12-28T04:57:42.978004Z"
    },
    "papermill": {
     "duration": 0.036408,
     "end_time": "2020-12-28T04:57:42.978521",
     "exception": false,
     "start_time": "2020-12-28T04:57:42.942113",
     "status": "completed"
    },
    "tags": []
   },
   "outputs": [
    {
     "name": "stdout",
     "output_type": "stream",
     "text": [
      "train_x/train_y list details, to make sure it is of the right form:\n",
      "1400\n",
      "[0 0 1 1 1]\n",
      "(1400,)\n"
     ]
    }
   ],
   "source": [
    "# function for shuffling data\n",
    "def unison_shuffle(a, b):\n",
    "    p = np.random.permutation(len(b))\n",
    "    data = np.asarray(a)[p]\n",
    "    header = np.asarray(b)[p]\n",
    "    return data, header\n",
    "\n",
    "raw_data, header = unison_shuffle(raw_data, header)\n",
    "\n",
    "# split into independent 70% training and 30% testing sets\n",
    "idx = int(0.7*raw_data.shape[0])\n",
    "\n",
    "# 70% of data for training\n",
    "train_x = raw_data[:idx]\n",
    "train_y = header[:idx]\n",
    "# remaining 30% for testing\n",
    "test_x = raw_data[idx:]\n",
    "test_y = header[idx:]\n",
    "\n",
    "print(\"train_x/train_y list details, to make sure it is of the right form:\")\n",
    "print(len(train_x))\n",
    "#print(train_x)\n",
    "print(train_y[:5])\n",
    "print(train_y.shape)"
   ]
  },
  {
   "cell_type": "markdown",
   "metadata": {
    "papermill": {
     "duration": 0.022966,
     "end_time": "2020-12-28T04:57:43.024765",
     "exception": false,
     "start_time": "2020-12-28T04:57:43.001799",
     "status": "completed"
    },
    "tags": []
   },
   "source": [
    "# ULMFiT Experiments\n",
    "\n",
    "Import the fast.ai library, written by the ULMFiT authors"
   ]
  },
  {
   "cell_type": "code",
   "execution_count": 5,
   "metadata": {
    "execution": {
     "iopub.execute_input": "2020-12-28T04:57:43.074576Z",
     "iopub.status.busy": "2020-12-28T04:57:43.074080Z",
     "iopub.status.idle": "2020-12-28T04:57:47.079912Z",
     "shell.execute_reply": "2020-12-28T04:57:47.079343Z"
    },
    "papermill": {
     "duration": 4.032069,
     "end_time": "2020-12-28T04:57:47.080022",
     "exception": false,
     "start_time": "2020-12-28T04:57:43.047953",
     "status": "completed"
    },
    "tags": []
   },
   "outputs": [],
   "source": [
    "from fastai.text import *"
   ]
  },
  {
   "cell_type": "markdown",
   "metadata": {
    "papermill": {
     "duration": 0.023167,
     "end_time": "2020-12-28T04:57:47.127338",
     "exception": false,
     "start_time": "2020-12-28T04:57:47.104171",
     "status": "completed"
    },
    "tags": []
   },
   "source": [
    "## Data Bunch Class for Language Model/Task Classifier Consumption"
   ]
  },
  {
   "cell_type": "markdown",
   "metadata": {
    "papermill": {
     "duration": 0.0231,
     "end_time": "2020-12-28T04:57:47.173983",
     "exception": false,
     "start_time": "2020-12-28T04:57:47.150883",
     "status": "completed"
    },
    "tags": []
   },
   "source": [
    "We prepare train and test/validation dataframes first."
   ]
  },
  {
   "cell_type": "code",
   "execution_count": 6,
   "metadata": {
    "execution": {
     "iopub.execute_input": "2020-12-28T04:57:47.277202Z",
     "iopub.status.busy": "2020-12-28T04:57:47.261886Z",
     "iopub.status.idle": "2020-12-28T04:57:47.390948Z",
     "shell.execute_reply": "2020-12-28T04:57:47.390485Z"
    },
    "papermill": {
     "duration": 0.193487,
     "end_time": "2020-12-28T04:57:47.391038",
     "exception": false,
     "start_time": "2020-12-28T04:57:47.197551",
     "status": "completed"
    },
    "tags": []
   },
   "outputs": [],
   "source": [
    "train_df = pd.DataFrame(data=[train_y,train_x]).T\n",
    "test_df = pd.DataFrame(data=[test_y,test_x]).T"
   ]
  },
  {
   "cell_type": "markdown",
   "metadata": {
    "papermill": {
     "duration": 0.025339,
     "end_time": "2020-12-28T04:57:47.439870",
     "exception": false,
     "start_time": "2020-12-28T04:57:47.414531",
     "status": "completed"
    },
    "tags": []
   },
   "source": [
    "Check their shape:"
   ]
  },
  {
   "cell_type": "code",
   "execution_count": 7,
   "metadata": {
    "execution": {
     "iopub.execute_input": "2020-12-28T04:57:47.492265Z",
     "iopub.status.busy": "2020-12-28T04:57:47.491708Z",
     "iopub.status.idle": "2020-12-28T04:57:47.497627Z",
     "shell.execute_reply": "2020-12-28T04:57:47.497221Z"
    },
    "papermill": {
     "duration": 0.03388,
     "end_time": "2020-12-28T04:57:47.497712",
     "exception": false,
     "start_time": "2020-12-28T04:57:47.463832",
     "status": "completed"
    },
    "tags": []
   },
   "outputs": [
    {
     "data": {
      "text/plain": [
       "(600, 2)"
      ]
     },
     "execution_count": 7,
     "metadata": {},
     "output_type": "execute_result"
    }
   ],
   "source": [
    "train_df.shape\n",
    "test_df.shape"
   ]
  },
  {
   "cell_type": "markdown",
   "metadata": {
    "papermill": {
     "duration": 0.024109,
     "end_time": "2020-12-28T04:57:47.546111",
     "exception": false,
     "start_time": "2020-12-28T04:57:47.522002",
     "status": "completed"
    },
    "tags": []
   },
   "source": [
    "Data in fast.ai is consumed using the *TextLMDataBunch* class. Construct an instance of this class for language model consumption."
   ]
  },
  {
   "cell_type": "code",
   "execution_count": 8,
   "metadata": {
    "execution": {
     "iopub.execute_input": "2020-12-28T04:57:47.624360Z",
     "iopub.status.busy": "2020-12-28T04:57:47.619349Z",
     "iopub.status.idle": "2020-12-28T04:57:58.227620Z",
     "shell.execute_reply": "2020-12-28T04:57:58.228126Z"
    },
    "papermill": {
     "duration": 10.65788,
     "end_time": "2020-12-28T04:57:58.228261",
     "exception": false,
     "start_time": "2020-12-28T04:57:47.570381",
     "status": "completed"
    },
    "tags": []
   },
   "outputs": [
    {
     "data": {
      "text/html": [],
      "text/plain": [
       "<IPython.core.display.HTML object>"
      ]
     },
     "metadata": {},
     "output_type": "display_data"
    },
    {
     "data": {
      "text/html": [],
      "text/plain": [
       "<IPython.core.display.HTML object>"
      ]
     },
     "metadata": {},
     "output_type": "display_data"
    }
   ],
   "source": [
    "data_lm = TextLMDataBunch.from_df(train_df = train_df, valid_df = test_df, path = \"\")"
   ]
  },
  {
   "cell_type": "markdown",
   "metadata": {
    "papermill": {
     "duration": 0.024785,
     "end_time": "2020-12-28T04:57:58.279269",
     "exception": false,
     "start_time": "2020-12-28T04:57:58.254484",
     "status": "completed"
    },
    "tags": []
   },
   "source": [
    "Construct an instance of this object for task-specific classifier consumption."
   ]
  },
  {
   "cell_type": "code",
   "execution_count": 9,
   "metadata": {
    "execution": {
     "iopub.execute_input": "2020-12-28T04:57:58.390776Z",
     "iopub.status.busy": "2020-12-28T04:57:58.380475Z",
     "iopub.status.idle": "2020-12-28T04:58:08.638953Z",
     "shell.execute_reply": "2020-12-28T04:58:08.638354Z"
    },
    "papermill": {
     "duration": 10.334936,
     "end_time": "2020-12-28T04:58:08.639080",
     "exception": false,
     "start_time": "2020-12-28T04:57:58.304144",
     "status": "completed"
    },
    "tags": []
   },
   "outputs": [
    {
     "data": {
      "text/html": [],
      "text/plain": [
       "<IPython.core.display.HTML object>"
      ]
     },
     "metadata": {},
     "output_type": "display_data"
    },
    {
     "data": {
      "text/html": [],
      "text/plain": [
       "<IPython.core.display.HTML object>"
      ]
     },
     "metadata": {},
     "output_type": "display_data"
    }
   ],
   "source": [
    "data_clas = TextClasDataBunch.from_df(path = \"\", train_df = train_df, valid_df = test_df, vocab=data_lm.train_ds.vocab, bs=32)"
   ]
  },
  {
   "cell_type": "markdown",
   "metadata": {
    "papermill": {
     "duration": 0.026055,
     "end_time": "2020-12-28T04:58:08.691558",
     "exception": false,
     "start_time": "2020-12-28T04:58:08.665503",
     "status": "completed"
    },
    "tags": []
   },
   "source": [
    "## Fine-Tune Language Model\n",
    "\n",
    "In ULMFiT, language models are trained using the *language_model_learner* class. \n",
    "\n",
    "We initialize an instance of this class, opting to go with ASGD Weight-Dropped LSTM (AWD_LSTM) model architecture. This is just the usual LSTM with some weights randomly set to 0, analogously to what is done to activations in Dropout layers. More info can be found here - https://docs.fast.ai/text.models.awdlstm"
   ]
  },
  {
   "cell_type": "code",
   "execution_count": 10,
   "metadata": {
    "execution": {
     "iopub.execute_input": "2020-12-28T04:58:08.750904Z",
     "iopub.status.busy": "2020-12-28T04:58:08.750365Z",
     "iopub.status.idle": "2020-12-28T04:58:24.154253Z",
     "shell.execute_reply": "2020-12-28T04:58:24.153779Z"
    },
    "papermill": {
     "duration": 15.436393,
     "end_time": "2020-12-28T04:58:24.154359",
     "exception": false,
     "start_time": "2020-12-28T04:58:08.717966",
     "status": "completed"
    },
    "tags": []
   },
   "outputs": [
    {
     "name": "stdout",
     "output_type": "stream",
     "text": [
      "Downloading https://s3.amazonaws.com/fast-ai-modelzoo/wt103-fwd.tgz\n"
     ]
    },
    {
     "data": {
      "text/html": [],
      "text/plain": [
       "<IPython.core.display.HTML object>"
      ]
     },
     "metadata": {},
     "output_type": "display_data"
    }
   ],
   "source": [
    "learn = language_model_learner(data_lm, AWD_LSTM, drop_mult=0.3)"
   ]
  },
  {
   "cell_type": "markdown",
   "metadata": {
    "papermill": {
     "duration": 0.02679,
     "end_time": "2020-12-28T04:58:24.208377",
     "exception": false,
     "start_time": "2020-12-28T04:58:24.181587",
     "status": "completed"
    },
    "tags": []
   },
   "source": [
    "Note that the initialization of this model also loads weights pretrained on the Wikitext 103 benchmark dataset (The WikiText Long Term Dependency Language Modeling Dataset - https://www.salesforce.com/products/einstein/ai-research/the-wikitext-dependency-language-modeling-dataset/). You can see the execution log above for confirmation of this. \n",
    "\n",
    "We can find a suggested maximum learning rate using the following commands. Instead of selecting the lowest point on the curve, note that the chosen point is where the curve is changing the fastest."
   ]
  },
  {
   "cell_type": "code",
   "execution_count": 11,
   "metadata": {
    "execution": {
     "iopub.execute_input": "2020-12-28T04:58:24.271015Z",
     "iopub.status.busy": "2020-12-28T04:58:24.270451Z",
     "iopub.status.idle": "2020-12-28T04:58:37.639589Z",
     "shell.execute_reply": "2020-12-28T04:58:37.639100Z"
    },
    "papermill": {
     "duration": 13.404569,
     "end_time": "2020-12-28T04:58:37.639691",
     "exception": false,
     "start_time": "2020-12-28T04:58:24.235122",
     "status": "completed"
    },
    "tags": []
   },
   "outputs": [
    {
     "data": {
      "text/html": [
       "\n",
       "    <div>\n",
       "        <style>\n",
       "            /* Turns off some styling */\n",
       "            progress {\n",
       "                /* gets rid of default border in Firefox and Opera. */\n",
       "                border: none;\n",
       "                /* Needs to be in here for Safari polyfill so background images work as expected. */\n",
       "                background-size: auto;\n",
       "            }\n",
       "            .progress-bar-interrupted, .progress-bar-interrupted::-webkit-progress-bar {\n",
       "                background: #F44336;\n",
       "            }\n",
       "        </style>\n",
       "      <progress value='0' class='' max='1' style='width:300px; height:20px; vertical-align: middle;'></progress>\n",
       "      0.00% [0/1 00:00<00:00]\n",
       "    </div>\n",
       "    \n",
       "<table border=\"1\" class=\"dataframe\">\n",
       "  <thead>\n",
       "    <tr style=\"text-align: left;\">\n",
       "      <th>epoch</th>\n",
       "      <th>train_loss</th>\n",
       "      <th>valid_loss</th>\n",
       "      <th>accuracy</th>\n",
       "      <th>time</th>\n",
       "    </tr>\n",
       "  </thead>\n",
       "  <tbody>\n",
       "  </tbody>\n",
       "</table><p>\n",
       "\n",
       "    <div>\n",
       "        <style>\n",
       "            /* Turns off some styling */\n",
       "            progress {\n",
       "                /* gets rid of default border in Firefox and Opera. */\n",
       "                border: none;\n",
       "                /* Needs to be in here for Safari polyfill so background images work as expected. */\n",
       "                background-size: auto;\n",
       "            }\n",
       "            .progress-bar-interrupted, .progress-bar-interrupted::-webkit-progress-bar {\n",
       "                background: #F44336;\n",
       "            }\n",
       "        </style>\n",
       "      <progress value='99' class='' max='181' style='width:300px; height:20px; vertical-align: middle;'></progress>\n",
       "      54.70% [99/181 00:12<00:10 10.2533]\n",
       "    </div>\n",
       "    "
      ],
      "text/plain": [
       "<IPython.core.display.HTML object>"
      ]
     },
     "metadata": {},
     "output_type": "display_data"
    },
    {
     "name": "stdout",
     "output_type": "stream",
     "text": [
      "LR Finder is complete, type {learner_name}.recorder.plot() to see the graph.\n",
      "Min numerical gradient: 2.29E-02\n",
      "Min loss divided by 10: 1.00E-02\n"
     ]
    },
    {
     "data": {
      "image/png": "[encoded data removed]",
      "text/plain": [
       "<Figure size 432x288 with 1 Axes>"
      ]
     },
     "metadata": {
      "needs_background": "light"
     },
     "output_type": "display_data"
    }
   ],
   "source": [
    "learn.lr_find() # find best rate\n",
    "learn.recorder.plot(suggestion=True) # plot it"
   ]
  },
  {
   "cell_type": "markdown",
   "metadata": {
    "papermill": {
     "duration": 0.02808,
     "end_time": "2020-12-28T04:58:37.696767",
     "exception": false,
     "start_time": "2020-12-28T04:58:37.668687",
     "status": "completed"
    },
    "tags": []
   },
   "source": [
    "Fetch the optimal rate as follows."
   ]
  },
  {
   "cell_type": "code",
   "execution_count": 12,
   "metadata": {
    "execution": {
     "iopub.execute_input": "2020-12-28T04:58:37.757890Z",
     "iopub.status.busy": "2020-12-28T04:58:37.757297Z",
     "iopub.status.idle": "2020-12-28T04:58:37.763844Z",
     "shell.execute_reply": "2020-12-28T04:58:37.763324Z"
    },
    "papermill": {
     "duration": 0.039071,
     "end_time": "2020-12-28T04:58:37.763933",
     "exception": false,
     "start_time": "2020-12-28T04:58:37.724862",
     "status": "completed"
    },
    "tags": []
   },
   "outputs": [
    {
     "name": "stdout",
     "output_type": "stream",
     "text": [
      "0.022908676527677745\n"
     ]
    }
   ],
   "source": [
    "rate = learn.recorder.min_grad_lr\n",
    "print(rate)"
   ]
  },
  {
   "cell_type": "markdown",
   "metadata": {
    "papermill": {
     "duration": 0.02817,
     "end_time": "2020-12-28T04:58:37.820970",
     "exception": false,
     "start_time": "2020-12-28T04:58:37.792800",
     "status": "completed"
    },
    "tags": []
   },
   "source": [
    "We fine-tune using slanted trangular learning rates, which are already built into the *fit_one_cycle()* method in fast.ai"
   ]
  },
  {
   "cell_type": "code",
   "execution_count": 13,
   "metadata": {
    "execution": {
     "iopub.execute_input": "2020-12-28T04:58:37.885209Z",
     "iopub.status.busy": "2020-12-28T04:58:37.883192Z",
     "iopub.status.idle": "2020-12-28T04:59:03.386558Z",
     "shell.execute_reply": "2020-12-28T04:59:03.385830Z"
    },
    "papermill": {
     "duration": 25.53746,
     "end_time": "2020-12-28T04:59:03.386700",
     "exception": false,
     "start_time": "2020-12-28T04:58:37.849240",
     "status": "completed"
    },
    "tags": []
   },
   "outputs": [
    {
     "data": {
      "text/html": [
       "<table border=\"1\" class=\"dataframe\">\n",
       "  <thead>\n",
       "    <tr style=\"text-align: left;\">\n",
       "      <th>epoch</th>\n",
       "      <th>train_loss</th>\n",
       "      <th>valid_loss</th>\n",
       "      <th>accuracy</th>\n",
       "      <th>time</th>\n",
       "    </tr>\n",
       "  </thead>\n",
       "  <tbody>\n",
       "    <tr>\n",
       "      <td>0</td>\n",
       "      <td>3.950965</td>\n",
       "      <td>3.654642</td>\n",
       "      <td>0.345808</td>\n",
       "      <td>00:25</td>\n",
       "    </tr>\n",
       "  </tbody>\n",
       "</table>"
      ],
      "text/plain": [
       "<IPython.core.display.HTML object>"
      ]
     },
     "metadata": {},
     "output_type": "display_data"
    }
   ],
   "source": [
    "learn.fit_one_cycle(1, rate)"
   ]
  },
  {
   "cell_type": "markdown",
   "metadata": {
    "papermill": {
     "duration": 0.055824,
     "end_time": "2020-12-28T04:59:03.481645",
     "exception": false,
     "start_time": "2020-12-28T04:59:03.425821",
     "status": "completed"
    },
    "tags": []
   },
   "source": [
    "### Discriminative Fine-Tuning\n",
    "\n",
    "The call *learn.unfreeze()* makes all the layers trainable. We can use the *slice()* function to train the last layer at a specified rate, while the layers below will have reducing learning rates. We set the lower bound of the range at two orders of magnitude smaller, i.e., divide the maximum rate by 100."
   ]
  },
  {
   "cell_type": "code",
   "execution_count": 14,
   "metadata": {
    "execution": {
     "iopub.execute_input": "2020-12-28T04:59:03.547554Z",
     "iopub.status.busy": "2020-12-28T04:59:03.546689Z",
     "iopub.status.idle": "2020-12-28T04:59:03.549484Z",
     "shell.execute_reply": "2020-12-28T04:59:03.549075Z"
    },
    "papermill": {
     "duration": 0.037353,
     "end_time": "2020-12-28T04:59:03.549573",
     "exception": false,
     "start_time": "2020-12-28T04:59:03.512220",
     "status": "completed"
    },
    "tags": []
   },
   "outputs": [],
   "source": [
    "learn.unfreeze()"
   ]
  },
  {
   "cell_type": "code",
   "execution_count": 15,
   "metadata": {
    "execution": {
     "iopub.execute_input": "2020-12-28T04:59:03.613713Z",
     "iopub.status.busy": "2020-12-28T04:59:03.613221Z",
     "iopub.status.idle": "2020-12-28T04:59:34.355612Z",
     "shell.execute_reply": "2020-12-28T04:59:34.356047Z"
    },
    "papermill": {
     "duration": 30.777071,
     "end_time": "2020-12-28T04:59:34.356189",
     "exception": false,
     "start_time": "2020-12-28T04:59:03.579118",
     "status": "completed"
    },
    "tags": []
   },
   "outputs": [
    {
     "data": {
      "text/html": [
       "<table border=\"1\" class=\"dataframe\">\n",
       "  <thead>\n",
       "    <tr style=\"text-align: left;\">\n",
       "      <th>epoch</th>\n",
       "      <th>train_loss</th>\n",
       "      <th>valid_loss</th>\n",
       "      <th>accuracy</th>\n",
       "      <th>time</th>\n",
       "    </tr>\n",
       "  </thead>\n",
       "  <tbody>\n",
       "    <tr>\n",
       "      <td>0</td>\n",
       "      <td>3.653022</td>\n",
       "      <td>3.581492</td>\n",
       "      <td>0.358259</td>\n",
       "      <td>00:30</td>\n",
       "    </tr>\n",
       "  </tbody>\n",
       "</table>"
      ],
      "text/plain": [
       "<IPython.core.display.HTML object>"
      ]
     },
     "metadata": {},
     "output_type": "display_data"
    }
   ],
   "source": [
    "learn.fit_one_cycle(1, slice(rate/100,rate))"
   ]
  },
  {
   "cell_type": "markdown",
   "metadata": {
    "papermill": {
     "duration": 0.032217,
     "end_time": "2020-12-28T04:59:34.418777",
     "exception": false,
     "start_time": "2020-12-28T04:59:34.386560",
     "status": "completed"
    },
    "tags": []
   },
   "source": [
    "As you can see, the accuracy slightly increased!\n",
    "\n",
    "We can use the resulting language model to predict some words in a sequence using the following command (predicts next 10 words)"
   ]
  },
  {
   "cell_type": "code",
   "execution_count": 16,
   "metadata": {
    "execution": {
     "iopub.execute_input": "2020-12-28T04:59:34.485864Z",
     "iopub.status.busy": "2020-12-28T04:59:34.485036Z",
     "iopub.status.idle": "2020-12-28T04:59:34.852265Z",
     "shell.execute_reply": "2020-12-28T04:59:34.852687Z"
    },
    "papermill": {
     "duration": 0.40388,
     "end_time": "2020-12-28T04:59:34.852855",
     "exception": false,
     "start_time": "2020-12-28T04:59:34.448975",
     "status": "completed"
    },
    "tags": []
   },
   "outputs": [
    {
     "data": {
      "text/plain": [
       "'This is a news article about Seth Prompting of Permanent Commissioner in'"
      ]
     },
     "execution_count": 16,
     "metadata": {},
     "output_type": "execute_result"
    }
   ],
   "source": [
    "learn.predict(\"This is a news article about\", n_words=10)"
   ]
  },
  {
   "cell_type": "markdown",
   "metadata": {
    "papermill": {
     "duration": 0.030118,
     "end_time": "2020-12-28T04:59:34.914301",
     "exception": false,
     "start_time": "2020-12-28T04:59:34.884183",
     "status": "completed"
    },
    "tags": []
   },
   "source": [
    "Plausible!\n",
    "\n",
    "Save the fine-tuned language model!"
   ]
  },
  {
   "cell_type": "code",
   "execution_count": 17,
   "metadata": {
    "execution": {
     "iopub.execute_input": "2020-12-28T04:59:34.979830Z",
     "iopub.status.busy": "2020-12-28T04:59:34.979016Z",
     "iopub.status.idle": "2020-12-28T04:59:35.082635Z",
     "shell.execute_reply": "2020-12-28T04:59:35.082101Z"
    },
    "papermill": {
     "duration": 0.13763,
     "end_time": "2020-12-28T04:59:35.082753",
     "exception": false,
     "start_time": "2020-12-28T04:59:34.945123",
     "status": "completed"
    },
    "tags": []
   },
   "outputs": [],
   "source": [
    "learn.save_encoder('fine-tuned_language_model')"
   ]
  },
  {
   "cell_type": "markdown",
   "metadata": {
    "papermill": {
     "duration": 0.03027,
     "end_time": "2020-12-28T04:59:35.143970",
     "exception": false,
     "start_time": "2020-12-28T04:59:35.113700",
     "status": "completed"
    },
    "tags": []
   },
   "source": [
    "## Target Task Classifier Fine-tuning\n",
    "\n",
    "In ULMFiT, target task classifier fine-tuning is carried out using the *text_classifier_learner* class. Recall that the target task here is predicting whether a given article is \"fake news\" or not.\n",
    "\n",
    "We instantiate it below, using the same settings as the language model we fine-tuned above, so we can load that fine-tuned model without issues. We also load the fine-tuned language model into the instance below."
   ]
  },
  {
   "cell_type": "code",
   "execution_count": 18,
   "metadata": {
    "execution": {
     "iopub.execute_input": "2020-12-28T04:59:35.209392Z",
     "iopub.status.busy": "2020-12-28T04:59:35.208644Z",
     "iopub.status.idle": "2020-12-28T04:59:36.147380Z",
     "shell.execute_reply": "2020-12-28T04:59:36.146958Z"
    },
    "papermill": {
     "duration": 0.973308,
     "end_time": "2020-12-28T04:59:36.147477",
     "exception": false,
     "start_time": "2020-12-28T04:59:35.174169",
     "status": "completed"
    },
    "tags": []
   },
   "outputs": [
    {
     "data": {
      "text/plain": [
       "RNNLearner(data=TextClasDataBunch;\n",
       "\n",
       "Train: LabelList (1400 items)\n",
       "x: TextList\n",
       "xxbos [ ' xxup how a xxup single xxup federal xxup bureaucrat xxup opened xxup the xxup door xxup to xxup let xxup foreigners xxup vote ' \n",
       "  ' xxmaj meet xxmaj alice xxmaj miller who single - xxunk xxunk the legal voters of xxmaj america by letting non - citizens vote . i guess voter integrity only applies to some .the xxmaj supreme xxmaj court has been asked to allow xxmaj kansas and xxmaj arizona to verify that only xxmaj united xxmaj states citizens are registering to vote in those states . xxmaj unfortunately , a single federal bureaucrat refused to allow the two states to weed out non - citizens trying to register to vote . xxmaj meet xxmaj alice xxmaj miller , the acting executive director of the xxmaj election xxmaj assistance xxmaj commission . xxmaj miller alone , from her inside - the - xxmaj beltway office , refused to amend the xxmaj kansas and xxmaj arizona version of a federal voter registration form to include state laws requiring proof of citizenship . xxmaj backed by a xxunk of left - wing groups , xxmaj miller , by herself , made it easier for foreigners to vote in xxmaj kansas and xxmaj arizona . xxmaj you might wonder how a single federal bureaucrat could have so much power over how elections are run in xxmaj kansas and xxmaj arizona . xxmaj federal law , commonly known as xxmaj motor xxmaj voter , requires states to accept a form drawn up by the xxmaj election xxmaj assistance xxmaj commission to register voters in their state . xxmaj but states can ask the xxmaj election xxmaj assistance xxmaj commission ( xxup eac ) to revise the version for their state to include state qualification laws . xxmaj in xxmaj kansas and xxmaj arizona , xxunk must establish that they are citizens to be qualified to register . xxmaj when xxmaj kansas and xxmaj arizona asked the xxup eac to print new forms with those state law requirements , xxmaj miller refused . xxmaj kansas and xxmaj arizona sued , and a federal court ordered the xxup eac to xxunk the forms . xxmaj however , the xxmaj tenth xxmaj circuit xxmaj court of xxmaj appeals reversed and held that xxmaj miller had the power to deny xxmaj kansas and xxmaj arizona new forms . xxmaj the xxmaj supreme xxmaj court has been asked to take the case , a case which xxunk both the integrity of xxmaj american elections as well as the reach of federal bureaucrats . xxmaj normally , the commissioners at the xxup eac decide what versions of a form the states can use , but the xxup eac lacked a quorum . xxmaj into this vacuum swept xxmaj miller . xxmaj the xxmaj public xxmaj interest xxmaj legal xxmaj foundation has filed an amicus brief for the xxmaj american xxmaj civil xxmaj rights xxmaj union with the xxmaj supreme xxmaj court . xxmaj the brief asks the xxmaj court to take the case and to restore the constitutional balance which xxmaj miller has disrupted . xxmaj read more : xxunk media ' \n",
       "  ' politics ' ' xxmaj may 6 , 2015 ' ],xxbos [ ' xxup chilling xxup interview : [ xxup video ] 14 xxmaj yr . xxmaj old xxmaj girl xxmaj xxunk xxmaj baltimore xxmaj pizza xxmaj store xxmaj owner xxmaj in xxmaj lighter xxmaj fuel , xxmaj tried xxmaj to xxmaj set xxmaj him xxmaj on xxmaj fire ' \n",
       "  ' a 14 year old girl yelled : xxmaj f*ck the pizza man and this is what happened next : xxmaj why were they trying to kill xxunk don t know . i don t do nothing . xxmaj from what i could tell , they was doing it for fun . xxmaj it s kids doing this stuff . xxmaj do you think you ll re - xxunk , yes , i m gon na open . i m gon na re - open . xxmaj will you do anything xxunk i m gon na do is i m gon na secure my business [ ineligible ] xxmaj get like a weapon license and everything , to save myself from this neighborhood . xxmaj you re gon na get a gun .. xxunk , i m gon na get a license and try to save myself . xxmaj because what i ve learned is i could be dead and no one would help me . xxmaj at least walk to my car xxup watch xxup chilling xxup video xxup interview xxup here : h / t xxup xxunk xxmaj review ' \n",
       "  ' left - news ' ' xxmaj apr 29 , 2015 ' ],xxbos [ ' xxmaj china banking regulator , xxmaj hubei chief front runners to head central bank : sources ' \n",
       "  ' xxup beijing ( xxmaj reuters ) - xxmaj china s top banking regulator xxmaj guo xxmaj xxunk and veteran banker xxmaj jiang xxmaj xxunk are front runners to succeed xxmaj zhou xxmaj xxunk , the country s longest - serving central bank head who is likely to step down next year , according to multiple sources familiar with the matter . xxmaj the leadership reshuffle at the xxmaj people s xxmaj bank of xxmaj china ( xxup pboc ) is closely watched in global financial markets as monetary policy changes and any moves to further xxunk the financial system of the world s second - large economy would have repercussions well beyond xxmaj china s shores . xxmaj the 69-year - old xxmaj zhou has spearheaded financial reforms and boosted the yuan currency s global clout , as well as the central bank s policy influence , since taking up his post in 2002 . xxmaj zhou is likely to retire around the time of the annual session of parliament next xxmaj march , according to the seven sources with ties to the leadership and close to the central bank . xxmaj guo , chairman of the xxmaj china xxmaj banking xxmaj regulatory xxmaj commission ( xxup cbrc ) , whose rich experience and reformist credentials are similar to xxmaj zhou s , is seen as more qualified for the job , the sources said . xxmaj however , xxmaj jiang , the xxmaj communist xxmaj party chief of xxmaj hubei province , has the backing of some top leaders and is seen as having a roughly equal chance of getting the post , they noted . xxmaj the xxup pboc and the xxup cbrc did not respond to xxmaj reuters requests for comment , while officials at xxmaj hubei xxmaj communist xxmaj party committee s propaganda department declined to comment . xxmaj yi xxmaj gang , 59 , a xxup pboc vice - governor who has a phd in economics from the xxmaj university of xxmaj illinois , is the leading in - house candidate to replace xxmaj zhou but is not seen as a frontrunner . xxmaj yi is a well - trained economist who is supported by xxmaj zhou , but his background as a sea turtle - a xxunk for xxmaj chinese who have returned from overseas - means he is less likely to gain the full trust of xxmaj china s leaders , the sources said . xxmaj one of the sources , who correctly predicted a reshuffle of the country s top banking , securities and insurance regulators in 2011 , said that xxmaj guo is most favored , helped by his understanding of the financial markets and the global economy . xxmaj his appointment would boost confidence , the source added . xxmaj guo , 61 , was summoned back to xxmaj beijing in xxmaj february to lead the xxup cbrc after serving as governor of xxmaj xxunk province for four years - his second regional stint after serving as a deputy governor of xxmaj xxunk province in the late 1990s . xxmaj under xxmaj guo s leadership earlier this year , the xxup cbrc started what was widely dubbed a regulatory xxunk to force banks to cut debt , but he later eased up after the move fueled fears of a xxunk xxunk . [ xxunk ] xxmaj guo , a philosophy major and once a visiting scholar at xxmaj oxford xxmaj university , has served as a deputy central bank governor and as the top foreign exchange regulator , and steered xxmaj china xxmaj construction xxmaj bank xxmaj corp to a successful share listing . xxmaj as a top stock market regulator , xxmaj guo xxunk a reputation as an economic xxunk . xxmaj still , xxmaj jiang , who has also xxunk between top financial and provincial posts , remains a formidable challenger for xxmaj guo , the sources said . xxmaj the 60-year - old xxmaj hubei party chief , who has had stints as an assistant central bank governor and head of xxmaj china xxmaj development xxmaj bank , the country s largest policy bank , emerged as a possible successor to xxmaj zhou relatively recently . xxmaj jiang has been credited with helping to transform the state - owned xxmaj bank of xxmaj communications , which had been plagued by bad debt , into a bank with a stronger balance sheet that then listed in xxmaj hong xxmaj kong and xxmaj shanghai . xxmaj jiang is not a dark horse , his resume is very good and he has been proved to be very capable , said one of the sources . xxmaj whoever takes the helm of the central bank will face tough challenges as he will have to walk a xxunk between ensuring economic stability and pushing reforms to rein in debt risks . xxmaj zhou has been steering broad financial and currency reforms , loosened controls on interest rates and moved away from what had effectively been a yuan xxunk to the xxup u.s. dollar - a step along the path to turning it into a global currency on a par with the xxunk . xxmaj in terms of international investors , xxmaj guo may offer more continuity , said xxmaj rob xxmaj xxunk , xxmaj xxunk s chief economist and head of global markets research for xxmaj asia - ex - xxmaj japan . xxmaj that s really what he represents - continuity of wanting to , over time , move to a more xxunk capital and financial market , and trying to ensure very good regulation and supervision . xxmaj zhou stayed on past retirement age after he was appointed a vice chairman of the top advisory body to parliament in 2013 , a move that made him a national leader . xxmaj the xxup pboc still has limited policy independence despite growing influence under xxmaj zhou . xxmaj unlike western central banks , the xxup pboc does not have the final word on adjusting interest rates and the value of the yuan . xxmaj the basic course of monetary and currency policy is set by the cabinet or by the xxmaj communist xxmaj party s ruling xxmaj politburo . ' \n",
       "  ' worldnews ' ' xxmaj october 13 , 2017 ' ],xxbos [ \" xxmaj factbox : xxmaj key players in xxmaj south xxmaj africa 's xxup anc leadership race \" \n",
       "  ' xxup johannesburg ( xxmaj reuters ) - xxmaj south xxmaj africa s ruling xxmaj african xxmaj national xxmaj congress elects a new party leader to succeed xxmaj president xxmaj jacob xxmaj zuma at a conference starting on xxmaj saturday . xxmaj the winner will be favorite to become president of the country after a 2019 national election . xxmaj below are the main xxup anc leadership hopefuls . xxmaj nkosazana xxmaj dlamini - xxmaj zuma and xxmaj xxunk xxmaj ramaphosa are the two front runners . xxup nkosazana xxup dlamini - xxup zuma xxmaj the former minister and chairwoman of the xxmaj african xxmaj union xxmaj commission has served in the cabinets of every xxmaj south xxmaj african president in the post - apartheid era . xxmaj dlamini - xxmaj zuma was married to xxmaj president xxmaj zuma for over a decade and has four children with him . xxmaj she is backed by the xxup anc s influential women s and youth leagues , as well as by xxmaj zuma and provincial party leaders close to him . xxmaj for a profile of xxmaj dlamini - xxmaj zuma , see . xxmaj the deputy president and former trade union leader is one of xxmaj south xxmaj africa s richest people . xxmaj ramaphosa played an important role in the negotiations to end apartheid and in the drafting of xxmaj south xxmaj africa s progressive 1996 constitution . xxmaj he is supported by a diverse group of labour unions , communists and xxup anc members disillusioned with xxmaj zuma . xxmaj for a profile of xxmaj ramaphosa , see . xxmaj the xxup anc s treasurer general is one of the ruling party s top six senior leaders . a medical doctor by training , xxmaj mkhize also served as a party boss in the xxunk - xxmaj xxunk province , from where xxmaj zuma and xxmaj dlamini - xxmaj zuma hail . xxmaj some analysts see xxmaj mkhize as a compromise candidate for xxup anc leader who could reconcile the opposing factions supporting xxmaj dlamini - xxmaj zuma and xxmaj ramaphosa . xxmaj for a xxmaj reuters interview with xxmaj mkhize , see : . xxmaj the human settlements minister is the daughter of anti - apartheid activist xxmaj walter xxmaj sisulu , a close friend of xxmaj nelson xxmaj mandela . xxmaj sisulu says xxmaj ramaphosa approached her to be his running mate but she turned down the offer . xxmaj the minister in the presidency has also held senior cabinet positions including public enterprises minister . xxmaj he served in underground structures of the xxup anc during white minority rule and was imprisoned on xxmaj xxunk xxmaj island , where the apartheid government kept political prisoners . xxmaj the former premier of the xxmaj mpumalanga province has also worked as the xxup anc s treasurer general . xxmaj xxunk has demanded that nominations for xxup anc leader in xxmaj mpumalanga be re - run , as he says he has proof that party members were told how to vote . xxmaj mpumalanga s current premier is a xxmaj zuma loyalist , xxmaj david xxmaj xxunk , who is viewed by some as a xxunk in the xxup anc race . xxmaj the speaker of xxmaj south xxmaj africa s lower house of parliament also briefly served as deputy president . xxmaj she has said she has held talks with other leadership hopefuls to discuss the possibility of working together . ' \n",
       "  ' worldnews ' ' xxmaj december 16 , 2017 ' ],xxbos [ ' xxmaj trump overshadows xxmaj republican debate even as he sits it out ' \n",
       "  \" xxup des xxup moines , xxmaj iowa ( xxmaj reuters ) - xxmaj even in boycotting a debate with his xxmaj republican rivals for the xxmaj white xxmaj house , front - runner xxmaj donald xxmaj trump managed to xxunk the event on xxmaj thursday with a typical dramatic flourish . xxmaj instead of attending a seventh debate , the former reality xxup tv star held a competing event across town that he said raised $ 6 million for xxup u.s. military veterans . xxmaj in doing so , he cast a shadow over his rivals , who frequently tossed xxunk his way . xxmaj trump ’s gamble that he could leave the battlefield to his rivals for one night appeared to pay off , with just days to go before xxmaj iowa holds the first nominating contest of the 2016 election season . xxmaj no one appeared to emerge as a central challenger to him during the two - hour face - off in xxmaj des xxmaj moines . xxmaj trump ’s refusal to participate in the debate out of anger that xxmaj fox xxmaj news anchor xxmaj megyn xxmaj kelly was a xxunk prompted a flurry of last - minute phone calls with xxmaj fox xxmaj news xxmaj chairman xxmaj roger xxmaj ailes that failed to resolve their dispute . a xxmaj fox xxmaj news ( xxup xxunk ) statement said xxmaj trump requested that xxmaj fox contribute $ 5 million to his charities in exchange for his attendance , which the network turned down . xxmaj the debate was the type of event xxmaj republicans would routinely have without the flamboyant xxmaj trump on stage , and it lacked the electricity that he brings to the party ’s search for a nominee for the xxmaj nov. 8 election . xxmaj without xxmaj trump on stage , former xxmaj florida xxmaj governor xxmaj jeb xxmaj bush and xxmaj new xxmaj jersey xxmaj governor xxmaj chris xxmaj christie found themselves with more room to make their case to voters seeking a more mainstream candidate . xxmaj both men have an eye on the xxmaj feb. 9 first - in - the - nation primary in xxmaj new xxmaj hampshire , which comes on the heels of the xxmaj iowa caucuses on xxmaj monday and where an establishment xxmaj republican like them might have a better chance of standing out . xxmaj senator xxmaj ted xxmaj cruz from xxmaj texas and xxmaj senator xxmaj marco xxmaj rubio from xxmaj florida , the two top challengers to xxmaj trump in xxmaj iowa , engaged in xxunk over immigration and national security and did not appear to threaten xxmaj trump ’s lead . xxmaj he holds the edge over xxmaj cruz in polls of xxmaj iowa xxmaj republicans . xxmaj trump ’s rivals mocked his decision to sit out the debate and found ways to criticize him . “ i ’m a xxunk and everyone on this stage is stupid , fat and ugly , and xxmaj ben , you ’re a terrible surgeon , ” xxmaj cruz told his rivals , including xxmaj ben xxmaj carson , a retired neurosurgeon , as the debate opened . xxmaj his next sentence began : “ xxmaj now that we ’ve gotten the xxmaj donald xxmaj trump portion out of the way . ” xxmaj bush , who has been a frequent target of xxmaj trump ’s attacks , turned a question about religious tolerance into an attack on xxmaj trump ’s proposed temporary ban on xxmaj muslims entering the xxmaj united xxmaj states . “ xxmaj donald xxmaj trump , for example — i mentioned his name again if anybody was missing him — xxmaj mr. xxmaj trump believed in reaction to people ’s fears that we should ban all xxmaj muslims . xxmaj well , that creates an environment that ’s toxic in our own country , ” xxmaj bush said . xxmaj cruz , after a series of questions , said : “ xxmaj if you ask me one more mean question , i may have to leave the stage . ” xxmaj in a swipe at both xxmaj trump and xxmaj cruz , xxmaj rubio chimed in : “ xxmaj do n’t worry , i ’m not going to leave the stage no matter what you ask me . ” xxmaj with his veterans ’ event drawing live xxup tv news coverage on xxmaj fox xxmaj news competitors xxup cnn and xxup msnbc , xxmaj trump had plenty of media attention . xxmaj he xxunk to his insistence that xxmaj fox xxmaj news had treated him badly . xxmaj he has complained that xxmaj kelly insulted him at a debate in xxmaj august and that a statement from the network earlier this week xxunk him . xxmaj two other xxmaj republican candidates , xxmaj rick xxmaj santorum and xxmaj mike xxmaj huckabee , joined xxmaj trump on stage after participating in a debate of low - polling candidates . xxmaj not so former xxmaj virginia xxmaj governor xxmaj jim xxmaj xxunk . “ i ’m not about to go across town tonight to carry the coat for some billionaire , ” he said at the “ xxunk ” debate . xxmaj there was initially some mystery as to which veterans ' groups would receive the money raised at the event , which included $ 1 million from xxmaj trump himself . xxmaj his campaign , in a statement , said the funds would go to 22 different groups it listed online ( bit.ly / xxunk ) . xxmaj trump , with just one day ’s notice on a xxunk , was able to fill to capacity a xxmaj xxunk xxmaj university hall that holds 700 . “ i did n’t want to be here , to be honest , i wanted to be about five minutes away ” at the debate , xxmaj trump told the crowd . “ xxmaj when you ’re treated badly , you have to stick up for your rights - whether we like it or not . ” xxmaj trump dominated social media during the debate , leading the entire xxmaj republican pack in xxmaj twitter mentions throughout the first half of the debate , according to data from social media analytics firm xxmaj xxunk . xxmaj he was by far the most - searched - for candidate on xxmaj google during the first half of the debate , at one point xxunk the second - most - searched - for candidate , xxmaj rubio , by nearly four - to - one , according to xxmaj google xxmaj trends data . xxmaj trump ’s support in opinion polls , much of it from blue - collar men , has not xxunk for months despite him insulting xxmaj mexican immigrants and xxmaj muslims and clashing with xxmaj republican establishment figures like xxmaj senator xxmaj john mccain . \" \n",
       "  ' politicsnews ' ' xxmaj january 28 , 2016 ' ]\n",
       "y: CategoryList\n",
       "0,0,1,1,1\n",
       "Path: .;\n",
       "\n",
       "Valid: LabelList (600 items)\n",
       "x: TextList\n",
       "xxbos [ ' xxmaj trump xxmaj xxunk xxmaj on xxup cpac xxmaj and xxmaj republicans xxmaj are xxmaj now xxmaj beyond xxup pissed xxmaj at xxmaj his xxmaj antics ( xxup tweet ) ' \n",
       "  ' xxmaj it looks as though the man most likely to get the xxmaj republican presidential nomination has decided to skip out on the xxmaj conservative xxmaj political xxmaj action xxmaj conference ( xxup cpac ) . xxmaj donald xxmaj trump was set to appear xxmaj saturday morning , but has instead decided he rather stick to campaigning . xxup cpac tweeted this out xxmaj friday morning : xxmaj very disappointed @realdonaldtrump has decided at the last minute to drop out of # xxup cpac his choice sends a clear message to conservatives . xxup cpac ( xxup xxunk ) xxmaj march 4 , 2016and indeed it does send a clear message . xxmaj speaking at xxup cpac has always been a sought after way to not only prove how loyal you are to xxmaj republican principles , but it also allows you the opportunity to speak in front of those whom many desire support from . xxmaj trump s campaign released this statement explaining their reasoning to skip xxup cpac : xxmaj the xxmaj donald xxup j. xxmaj trump for xxmaj president xxmaj campaign has just announced it will be in xxmaj xxunk , xxmaj xxunk for a major rally on xxmaj saturday prior to xxmaj caucus . xxmaj he will also be speaking at the xxmaj kansas xxmaj caucus and then departing for xxmaj orlando , xxmaj florida and a crowd of approximately 20,000 people or more . xxmaj because of this , he will not be able to speak at xxup cpac as he has done for many consecutive years . xxmaj mr. xxmaj trump would like to thank xxmaj matt xxmaj xxunk and all of the executives at xxup cpac and looks forward to returning to next year , hopefully as xxmaj president of the xxmaj united xxmaj states . xxmaj in response to xxmaj trump xxunk , the xxmaj american xxmaj conservative xxmaj union who xxunk xxup cpac , said : xxmaj we are very disappointed xxmaj donald xxmaj trump has decided at the last minute to drop out of xxup cpac . xxmaj this comes at a critical time in our movement s history . xxmaj his decision sends a clear message to grassroots conservatives xxup cpac is the heart and soul of the conservative movement and will be , with or without xxmaj mr. xxmaj trump . xxmaj since we invited him several months ago and xxmaj mr. xxmaj trump accepted our invitation and terms we made it clear all candidates would follow the same xxunk . xxmaj and now he is backing out . xxmaj every other xxmaj republican presidential candidate is xxunk to appear and will be speaking . xxmaj but of course , trying to stay relevant , xxmaj newt xxmaj gingrich quickly supporter xxmaj trump s decision : xxmaj trump was right to skip xxup cpac . xxmaj the votes are in xxmaj kansas not xxmaj washington . xxmaj why give the anti - trump activists a target xxmaj newt xxmaj gingrich ( xxunk ) xxmaj march 4 , 2016and while sure , xxmaj trump is very focused on winning the xxmaj republican primary , it wouldn t have been much to take the brief amount of time to speak one morning and then return to the campaign trail . xxmaj he s clearly not just skipping xxup cpac to campaign , but rather to send a message that he s not playing by xxmaj republican rules that have long since been the conservative standard in the election process . xxmaj featured image : flickr ' \n",
       "  ' xxmaj news ' ' xxmaj march 4 , 2016 ' ],xxbos [ ' xxup elizabeth “ xxmaj xxunk ” xxup warren xxup caught xxup lying xxmaj again … xxmaj this xxmaj time xxmaj about xxmaj sexual xxmaj harassment ' \n",
       "  ' xxmaj serial liar and 2020 xxmaj democrat presidential hopeful xxmaj senator xxmaj elizabeth xxmaj warren just can t help herself . xxmaj in an effort to try to make herself relevant and in what seems like a desperate attempt to address her xxunk , xxmaj warren appears to have made up a sick story of sexual harassment at the hands of a law professor at xxmaj harvard xxmaj university . xxmaj after her account about what happened with the now deceased xxmaj harvard law professor on xxmaj meet the xxmaj press , the xxmaj boston xxmaj herald called out the senator , who has a history of lying . xxmaj in 1997 , xxmaj elizabeth xxmaj warren was listed as the xxmaj harvard xxmaj law s first woman of color in a law review piece on diversity and affirmative action . xxmaj elizabeth xxmaj warren pushed back hard on questions about a xxmaj harvard xxmaj crimson piece in 1996 that described her as xxmaj native xxmaj american , saying she had no idea the school where she taught law was billing her that way and saying it never came up during her hiring a year earlier , which others have backed up . xxmaj but a 1997 xxmaj xxunk xxmaj law xxmaj review piece described her as xxmaj harvard xxmaj law xxmaj school s first woman of color , based , according to the notes at the bottom of the story , on a telephone interview with xxmaj michael xxmaj xxunk , xxmaj news xxmaj director , xxmaj harvard xxmaj law ( xxmaj aug. 6 , 1996 ) . xxunk xxmaj boston xxmaj herald set the record straight about xxmaj warren s new account of events with the now deceased law professor : xxup u.s. xxmaj sen. xxmaj elizabeth xxmaj warren reportedly switched up her account of sexual harassment that she relayed this weekend in a televised # xxunk xxunk from an earlier light - xxunk version xxunk the xxmaj boston xxmaj globe reported last night that xxmaj warren recounted the same incident in a more light - xxunk manner at a memorial service after the professor s death in 1997 an account the xxmaj globe noted was inconsistent with her story on xxmaj sunday . xxmaj during the service after his death in 1997 , xxmaj warren spoke xxunk of law professor xxmaj eugene xxmaj smith and told the gathered mourners she was laughing as xxmaj smith chased her around his desk , according to a colleague s xxunk , the xxmaj globe reported . xxmaj the author of the xxunk , xxmaj john xxmaj xxunk , told the paper , i may have been wrong saying she was laughing , adding that he was writing about the service 15 years after the fact . xxmaj the paper also noted that xxmaj warren failed to mention on xxmaj meet xxmaj the xxmaj press that xxmaj smith had xxunk . xxmaj the xxmaj globe said xxmaj warren told the xxunk yesterday she shared the story at the memorial service as a statement about xxmaj smith s authority . xxmaj it was 20 years later , and he didn t have power over me any more , xxmaj warren told the newspaper , which noted she was by then a xxmaj harvard law professor . ' \n",
       "  ' politics ' ' xxmaj oct 24 , 2017 ' ],xxbos [ ' xxup wow ! xxmaj huckabee xxmaj asks xxmaj nancy xxmaj pelosi xxmaj if xxmaj she ’s “ xxmaj racist ” xxmaj or “ xxmaj just xxmaj dumb ” xxmaj over xxmaj dr. xxmaj ben xxmaj carson xxmaj comments ' \n",
       "  \" xxmaj our country deserves a xxup hud xxmaj secretary with the relevant experience . xxmaj dr. xxmaj carson is a xxunk unqualified choice . https : / / t.co / xxunk pic.twitter.com / xxunk xxmaj nancy xxmaj pelosi ( xxunk ) xxmaj december 5 , xxunk spent part of his childhood living in public housing in xxmaj detroit , part of a xxunk - to - riches story that conservatives and other xxunk tout . xxmaj but critics of the xxmaj trump appointment , such as xxmaj amy xxmaj liu , the director of the xxmaj metropolitan xxmaj policy xxmaj program and the left - leaning xxmaj brookings xxmaj institution , say the powerful personal story doesn t make up for the lack of knowledge about housing needs of high - poverty areas and how deeply they xxunk with other related issues , such as racial tension with police . xxunk ? xxmaj so xxmaj trump s new xxup hud xxmaj secretary s responsibilities have something to do with racial tension issues with police ? xxmaj twitter users hammered xxmaj pelosi over her racist remarks : xxmaj xxunk xxmaj pelosi must be a racist xxmaj amy xxunk xxmaj mom ( xxunk ) xxmaj december 5 , xxunk your saying that a minority xxup hud secretary will not be able to help the needs of other minorities ? save me from liberal logic xxmaj xxunk ( xxunk _ ) xxmaj december 5 , xxunk prefer xxmaj obama who helped a xxunk kick poor blacks out of their homes in xxmaj chicago for $ $ xxmaj xxunk xxmaj sparks ( xxunk ) xxmaj december 5 , xxunk is an expert at organizing extremely complex processes & smart people . xxup xxunk . xxmaj xxunk xxmaj xxunk ( xxunk ) xxmaj december 5 , xxunk xxmaj huckabee had the best response as he xxunk xxmaj nancy xxmaj pelosi for her ignorant comment here : xxmaj ben xxmaj carson is first xxup hud xxmaj sec to have actually lived in xxunk housing . xxmaj fancy xxmaj nancy xxmaj pelosi says he 's not qualified ; is she racist or just dumb ? xxmaj gov. xxmaj mike xxmaj huckabee ( xxunk ) xxmaj december 5 , 2016 \" \n",
       "  ' politics ' ' xxmaj dec 5 , 2016 ' ],xxbos [ ' xxmaj trump to issue emergency declaration next week on xxunk ' \n",
       "  ' xxup washington ( xxmaj reuters ) - xxup u.s. xxmaj president xxmaj donald xxmaj trump said on xxmaj wednesday he would declare next week a national emergency on opioid abuse , a move that could give states access to federal funds to fight the drug crisis . xxmaj the xxmaj united xxmaj states is battling a surge in opioid - related deaths , including 33,000 lives lost in 2015 , more than any year on record , according to federal data . “ xxmaj the opioid is a tremendous emergency , ” xxmaj trump told xxmaj fox xxmaj business xxmaj network . “ xxmaj next week , i ’m going to ( be ) declaring an emergency , ( a ) national emergency on drugs . ” xxmaj trump is expected to provide a xxunk of his plans for tackling drug demand and the opioid crisis in remarks on xxmaj thursday . xxmaj trump said in xxmaj august that he would declare opioid abuse a national emergency . xxmaj xxunk , primarily prescription xxunk , heroin and xxunk - a drug 50 to 100 times more powerful than xxunk - are fueling the drug xxunk . xxmaj the declaration by xxmaj trump could help xxunk more support and resources to address the drug overdose epidemic , such as additional funding and expanded access to various forms of treatment , and it gives the government more flexibility in waiving rules and restrictions to xxunk action . ' \n",
       "  ' politicsnews ' ' xxmaj october 26 , 2017 ' ],xxbos [ \" xxmaj france , xxup u.s. ' determined ' to up pressure on xxmaj iran over ballistic weapons \" \n",
       "  ' xxup paris ( xxmaj reuters ) - xxmaj france and the xxmaj united xxmaj states are determined to vigorously raise pressure on xxmaj iran over its ballistic missile program , including possibly through sanctions , xxmaj foreign xxmaj minister xxmaj jean - xxmaj yves xxmaj le xxmaj xxunk said during a visit to xxmaj washington . xxmaj le xxmaj xxunk was in the xxmaj american capital on xxmaj monday to meet xxup u.s. xxmaj secretary of xxmaj state xxmaj rex xxmaj tillerson , xxmaj white xxmaj house national security adviser xxup h.r. mcmaster and xxup u.s. xxmaj president xxmaj donald xxmaj trump s special adviser xxmaj jared xxmaj kushner . xxmaj tensions between xxmaj iran and xxmaj france have risen in recent months with both sides repeatedly trading xxunk in public , including le xxmaj xxunk accusing xxmaj iran of hegemonic xxunk in the region . xxmaj iran on xxmaj sunday criticized xxmaj president xxmaj emmanuel xxmaj macron over his tough stance toward xxmaj tehran and said xxmaj paris would soon lose its international credibility if it blindly follows xxup u.s. xxmaj president xxmaj donald xxmaj trump . xxmaj they didn t like the word , but i stand by it , le xxmaj xxunk told reporters . xxmaj iran s hegemonic xxunk in the region is a matter of urgency because it s within the framework of getting peace in xxmaj iraq and xxmaj syria that we will stop this process . xxmaj iranian officials have been particularly aggrieved by xxmaj france s criticism of its ballistic missile tests and suggestions of possible new sanctions over the program , which xxmaj tehran calls solely defensive in nature . xxmaj le xxmaj xxunk , who is due in xxmaj iran at the beginning of xxmaj january , said he would tell them clearly of xxmaj paris concerns . xxmaj we are fully determined to press very vigorously on xxmaj iran to stop the development of an increasingly significant ballistic capability , xxmaj le xxmaj xxunk said , xxunk that sanctions were possible . xxmaj macron , unlike xxmaj trump , has reaffirmed his country s commitment to the deal xxmaj iran signed in 2015 with world powers under which it xxunk its disputed nuclear program in exchange for the lifting of most international sanctions . xxmaj after talks with the xxup u.s. officials , xxmaj le xxmaj xxunk said he believed that xxmaj washington was beginning to understand xxmaj european messages on the need to maintain the accord . ' \n",
       "  ' worldnews ' ' xxmaj december 19 , 2017 ' ]\n",
       "y: CategoryList\n",
       "0,0,0,1,1\n",
       "Path: .;\n",
       "\n",
       "Test: None, model=SequentialRNN(\n",
       "  (0): MultiBatchEncoder(\n",
       "    (module): AWD_LSTM(\n",
       "      (encoder): Embedding(16400, 400, padding_idx=1)\n",
       "      (encoder_dp): EmbeddingDropout(\n",
       "        (emb): Embedding(16400, 400, padding_idx=1)\n",
       "      )\n",
       "      (rnns): ModuleList(\n",
       "        (0): WeightDropout(\n",
       "          (module): LSTM(400, 1152, batch_first=True)\n",
       "        )\n",
       "        (1): WeightDropout(\n",
       "          (module): LSTM(1152, 1152, batch_first=True)\n",
       "        )\n",
       "        (2): WeightDropout(\n",
       "          (module): LSTM(1152, 400, batch_first=True)\n",
       "        )\n",
       "      )\n",
       "      (input_dp): RNNDropout()\n",
       "      (hidden_dps): ModuleList(\n",
       "        (0): RNNDropout()\n",
       "        (1): RNNDropout()\n",
       "        (2): RNNDropout()\n",
       "      )\n",
       "    )\n",
       "  )\n",
       "  (1): PoolingLinearClassifier(\n",
       "    (layers): Sequential(\n",
       "      (0): BatchNorm1d(1200, eps=1e-05, momentum=0.1, affine=True, track_running_stats=True)\n",
       "      (1): Dropout(p=0.12, inplace=False)\n",
       "      (2): Linear(in_features=1200, out_features=50, bias=True)\n",
       "      (3): ReLU(inplace=True)\n",
       "      (4): BatchNorm1d(50, eps=1e-05, momentum=0.1, affine=True, track_running_stats=True)\n",
       "      (5): Dropout(p=0.1, inplace=False)\n",
       "      (6): Linear(in_features=50, out_features=2, bias=True)\n",
       "    )\n",
       "  )\n",
       "), opt_func=functools.partial(<class 'torch.optim.adam.Adam'>, betas=(0.9, 0.99)), loss_func=FlattenedLoss of CrossEntropyLoss(), metrics=[<function accuracy at 0x7f48ddbf8cb0>], true_wd=True, bn_wd=True, wd=0.01, train_bn=True, path=PosixPath('.'), model_dir='models', callback_fns=[functools.partial(<class 'fastai.basic_train.Recorder'>, add_time=True, silent=False)], callbacks=[RNNTrainer\n",
       "learn: ...\n",
       "alpha: 2.0\n",
       "beta: 1.0], layer_groups=[Sequential(\n",
       "  (0): Embedding(16400, 400, padding_idx=1)\n",
       "  (1): EmbeddingDropout(\n",
       "    (emb): Embedding(16400, 400, padding_idx=1)\n",
       "  )\n",
       "), Sequential(\n",
       "  (0): WeightDropout(\n",
       "    (module): LSTM(400, 1152, batch_first=True)\n",
       "  )\n",
       "  (1): RNNDropout()\n",
       "), Sequential(\n",
       "  (0): WeightDropout(\n",
       "    (module): LSTM(1152, 1152, batch_first=True)\n",
       "  )\n",
       "  (1): RNNDropout()\n",
       "), Sequential(\n",
       "  (0): WeightDropout(\n",
       "    (module): LSTM(1152, 400, batch_first=True)\n",
       "  )\n",
       "  (1): RNNDropout()\n",
       "), Sequential(\n",
       "  (0): PoolingLinearClassifier(\n",
       "    (layers): Sequential(\n",
       "      (0): BatchNorm1d(1200, eps=1e-05, momentum=0.1, affine=True, track_running_stats=True)\n",
       "      (1): Dropout(p=0.12, inplace=False)\n",
       "      (2): Linear(in_features=1200, out_features=50, bias=True)\n",
       "      (3): ReLU(inplace=True)\n",
       "      (4): BatchNorm1d(50, eps=1e-05, momentum=0.1, affine=True, track_running_stats=True)\n",
       "      (5): Dropout(p=0.1, inplace=False)\n",
       "      (6): Linear(in_features=50, out_features=2, bias=True)\n",
       "    )\n",
       "  )\n",
       ")], add_time=True, silent=False)"
      ]
     },
     "execution_count": 18,
     "metadata": {},
     "output_type": "execute_result"
    }
   ],
   "source": [
    "learn = text_classifier_learner(data_clas, AWD_LSTM, drop_mult=0.3) # use the same settings as the language model we fine-tuned, so we can load without problems\n",
    "learn.load_encoder('fine-tuned_language_model')"
   ]
  },
  {
   "cell_type": "markdown",
   "metadata": {
    "papermill": {
     "duration": 0.031769,
     "end_time": "2020-12-28T04:59:36.211382",
     "exception": false,
     "start_time": "2020-12-28T04:59:36.179613",
     "status": "completed"
    },
    "tags": []
   },
   "source": [
    "Figure out the learning best rate as before."
   ]
  },
  {
   "cell_type": "code",
   "execution_count": 19,
   "metadata": {
    "execution": {
     "iopub.execute_input": "2020-12-28T04:59:36.279997Z",
     "iopub.status.busy": "2020-12-28T04:59:36.279244Z",
     "iopub.status.idle": "2020-12-28T05:00:06.555839Z",
     "shell.execute_reply": "2020-12-28T05:00:06.556273Z"
    },
    "papermill": {
     "duration": 30.313252,
     "end_time": "2020-12-28T05:00:06.556405",
     "exception": false,
     "start_time": "2020-12-28T04:59:36.243153",
     "status": "completed"
    },
    "tags": []
   },
   "outputs": [
    {
     "data": {
      "text/html": [
       "\n",
       "    <div>\n",
       "        <style>\n",
       "            /* Turns off some styling */\n",
       "            progress {\n",
       "                /* gets rid of default border in Firefox and Opera. */\n",
       "                border: none;\n",
       "                /* Needs to be in here for Safari polyfill so background images work as expected. */\n",
       "                background-size: auto;\n",
       "            }\n",
       "            .progress-bar-interrupted, .progress-bar-interrupted::-webkit-progress-bar {\n",
       "                background: #F44336;\n",
       "            }\n",
       "        </style>\n",
       "      <progress value='2' class='' max='3' style='width:300px; height:20px; vertical-align: middle;'></progress>\n",
       "      66.67% [2/3 00:24<00:12]\n",
       "    </div>\n",
       "    \n",
       "<table border=\"1\" class=\"dataframe\">\n",
       "  <thead>\n",
       "    <tr style=\"text-align: left;\">\n",
       "      <th>epoch</th>\n",
       "      <th>train_loss</th>\n",
       "      <th>valid_loss</th>\n",
       "      <th>accuracy</th>\n",
       "      <th>time</th>\n",
       "    </tr>\n",
       "  </thead>\n",
       "  <tbody>\n",
       "    <tr>\n",
       "      <td>0</td>\n",
       "      <td>0.815156</td>\n",
       "      <td>#na#</td>\n",
       "      <td>00:12</td>\n",
       "    </tr>\n",
       "    <tr>\n",
       "      <td>1</td>\n",
       "      <td>0.418867</td>\n",
       "      <td>#na#</td>\n",
       "      <td>00:12</td>\n",
       "    </tr>\n",
       "  </tbody>\n",
       "</table><p>\n",
       "\n",
       "    <div>\n",
       "        <style>\n",
       "            /* Turns off some styling */\n",
       "            progress {\n",
       "                /* gets rid of default border in Firefox and Opera. */\n",
       "                border: none;\n",
       "                /* Needs to be in here for Safari polyfill so background images work as expected. */\n",
       "                background-size: auto;\n",
       "            }\n",
       "            .progress-bar-interrupted, .progress-bar-interrupted::-webkit-progress-bar {\n",
       "                background: #F44336;\n",
       "            }\n",
       "        </style>\n",
       "      <progress value='9' class='' max='43' style='width:300px; height:20px; vertical-align: middle;'></progress>\n",
       "      20.93% [9/43 00:04<00:17 1.3323]\n",
       "    </div>\n",
       "    "
      ],
      "text/plain": [
       "<IPython.core.display.HTML object>"
      ]
     },
     "metadata": {},
     "output_type": "display_data"
    },
    {
     "name": "stdout",
     "output_type": "stream",
     "text": [
      "LR Finder is complete, type {learner_name}.recorder.plot() to see the graph.\n",
      "Min numerical gradient: 2.51E-03\n",
      "Min loss divided by 10: 6.31E-02\n"
     ]
    },
    {
     "data": {
      "image/png": "[encoded data removed]",
      "text/plain": [
       "<Figure size 432x288 with 1 Axes>"
      ]
     },
     "metadata": {
      "needs_background": "light"
     },
     "output_type": "display_data"
    }
   ],
   "source": [
    "learn.lr_find() # find best rate\n",
    "learn.recorder.plot(suggestion=True) # plot it"
   ]
  },
  {
   "cell_type": "code",
   "execution_count": 20,
   "metadata": {
    "execution": {
     "iopub.execute_input": "2020-12-28T05:00:06.628719Z",
     "iopub.status.busy": "2020-12-28T05:00:06.628085Z",
     "iopub.status.idle": "2020-12-28T05:00:06.633069Z",
     "shell.execute_reply": "2020-12-28T05:00:06.633631Z"
    },
    "papermill": {
     "duration": 0.043529,
     "end_time": "2020-12-28T05:00:06.633789",
     "exception": false,
     "start_time": "2020-12-28T05:00:06.590260",
     "status": "completed"
    },
    "tags": []
   },
   "outputs": [
    {
     "name": "stdout",
     "output_type": "stream",
     "text": [
      "0.002511886431509582\n"
     ]
    }
   ],
   "source": [
    "rate = learn.recorder.min_grad_lr\n",
    "print(rate)"
   ]
  },
  {
   "cell_type": "markdown",
   "metadata": {
    "papermill": {
     "duration": 0.033528,
     "end_time": "2020-12-28T05:00:06.701547",
     "exception": false,
     "start_time": "2020-12-28T05:00:06.668019",
     "status": "completed"
    },
    "tags": []
   },
   "source": [
    "Train the fake news classifier"
   ]
  },
  {
   "cell_type": "code",
   "execution_count": 21,
   "metadata": {
    "execution": {
     "iopub.execute_input": "2020-12-28T05:00:06.774002Z",
     "iopub.status.busy": "2020-12-28T05:00:06.773118Z",
     "iopub.status.idle": "2020-12-28T05:00:25.245590Z",
     "shell.execute_reply": "2020-12-28T05:00:25.245176Z"
    },
    "papermill": {
     "duration": 18.510559,
     "end_time": "2020-12-28T05:00:25.245698",
     "exception": false,
     "start_time": "2020-12-28T05:00:06.735139",
     "status": "completed"
    },
    "tags": []
   },
   "outputs": [
    {
     "data": {
      "text/html": [
       "<table border=\"1\" class=\"dataframe\">\n",
       "  <thead>\n",
       "    <tr style=\"text-align: left;\">\n",
       "      <th>epoch</th>\n",
       "      <th>train_loss</th>\n",
       "      <th>valid_loss</th>\n",
       "      <th>accuracy</th>\n",
       "      <th>time</th>\n",
       "    </tr>\n",
       "  </thead>\n",
       "  <tbody>\n",
       "    <tr>\n",
       "      <td>0</td>\n",
       "      <td>0.192739</td>\n",
       "      <td>0.089345</td>\n",
       "      <td>0.996667</td>\n",
       "      <td>00:18</td>\n",
       "    </tr>\n",
       "  </tbody>\n",
       "</table>"
      ],
      "text/plain": [
       "<IPython.core.display.HTML object>"
      ]
     },
     "metadata": {},
     "output_type": "display_data"
    }
   ],
   "source": [
    "learn.fit_one_cycle(1, rate)"
   ]
  },
  {
   "cell_type": "markdown",
   "metadata": {
    "papermill": {
     "duration": 0.055367,
     "end_time": "2020-12-28T05:00:25.357624",
     "exception": false,
     "start_time": "2020-12-28T05:00:25.302257",
     "status": "completed"
    },
    "tags": []
   },
   "source": [
    "A nearly perfect score is achieved!"
   ]
  },
  {
   "cell_type": "markdown",
   "metadata": {
    "papermill": {
     "duration": 0.057496,
     "end_time": "2020-12-28T05:00:25.476274",
     "exception": false,
     "start_time": "2020-12-28T05:00:25.418778",
     "status": "completed"
    },
    "tags": []
   },
   "source": [
    "### Gradual Unfreezing\n",
    "The idea is to keep the initial layers of model as untrainable in the beginning, slowly decreasing how many are untrainable as the training process proceeds.\n",
    "\n",
    "We can use the following command to only unfreeze the last layer:"
   ]
  },
  {
   "cell_type": "code",
   "execution_count": 22,
   "metadata": {
    "execution": {
     "iopub.execute_input": "2020-12-28T05:00:25.599497Z",
     "iopub.status.busy": "2020-12-28T05:00:25.598508Z",
     "iopub.status.idle": "2020-12-28T05:00:25.605027Z",
     "shell.execute_reply": "2020-12-28T05:00:25.606335Z"
    },
    "papermill": {
     "duration": 0.071529,
     "end_time": "2020-12-28T05:00:25.606498",
     "exception": false,
     "start_time": "2020-12-28T05:00:25.534969",
     "status": "completed"
    },
    "tags": []
   },
   "outputs": [],
   "source": [
    "learn.freeze_to(-1)"
   ]
  },
  {
   "cell_type": "markdown",
   "metadata": {
    "papermill": {
     "duration": 0.057234,
     "end_time": "2020-12-28T05:00:25.722405",
     "exception": false,
     "start_time": "2020-12-28T05:00:25.665171",
     "status": "completed"
    },
    "tags": []
   },
   "source": [
    "We can use the following command to only unfreeze the last two layers"
   ]
  },
  {
   "cell_type": "code",
   "execution_count": 23,
   "metadata": {
    "execution": {
     "iopub.execute_input": "2020-12-28T05:00:25.841908Z",
     "iopub.status.busy": "2020-12-28T05:00:25.841055Z",
     "iopub.status.idle": "2020-12-28T05:00:25.848180Z",
     "shell.execute_reply": "2020-12-28T05:00:25.847475Z"
    },
    "papermill": {
     "duration": 0.071011,
     "end_time": "2020-12-28T05:00:25.848318",
     "exception": false,
     "start_time": "2020-12-28T05:00:25.777307",
     "status": "completed"
    },
    "tags": []
   },
   "outputs": [],
   "source": [
    "learn.freeze_to(-2)"
   ]
  },
  {
   "cell_type": "markdown",
   "metadata": {
    "papermill": {
     "duration": 0.053825,
     "end_time": "2020-12-28T05:00:25.957291",
     "exception": false,
     "start_time": "2020-12-28T05:00:25.903466",
     "status": "completed"
    },
    "tags": []
   },
   "source": [
    "Thus, gradual unfreezing to a depth=2 would involve doing something like this:"
   ]
  },
  {
   "cell_type": "code",
   "execution_count": 24,
   "metadata": {
    "execution": {
     "iopub.execute_input": "2020-12-28T05:00:26.033502Z",
     "iopub.status.busy": "2020-12-28T05:00:26.032702Z",
     "iopub.status.idle": "2020-12-28T05:01:06.526796Z",
     "shell.execute_reply": "2020-12-28T05:01:06.526238Z"
    },
    "papermill": {
     "duration": 40.534473,
     "end_time": "2020-12-28T05:01:06.526901",
     "exception": false,
     "start_time": "2020-12-28T05:00:25.992428",
     "status": "completed"
    },
    "tags": []
   },
   "outputs": [
    {
     "data": {
      "text/html": [
       "<table border=\"1\" class=\"dataframe\">\n",
       "  <thead>\n",
       "    <tr style=\"text-align: left;\">\n",
       "      <th>epoch</th>\n",
       "      <th>train_loss</th>\n",
       "      <th>valid_loss</th>\n",
       "      <th>accuracy</th>\n",
       "      <th>time</th>\n",
       "    </tr>\n",
       "  </thead>\n",
       "  <tbody>\n",
       "    <tr>\n",
       "      <td>0</td>\n",
       "      <td>0.082814</td>\n",
       "      <td>0.010601</td>\n",
       "      <td>1.000000</td>\n",
       "      <td>00:19</td>\n",
       "    </tr>\n",
       "  </tbody>\n",
       "</table>"
      ],
      "text/plain": [
       "<IPython.core.display.HTML object>"
      ]
     },
     "metadata": {},
     "output_type": "display_data"
    },
    {
     "data": {
      "text/html": [
       "<table border=\"1\" class=\"dataframe\">\n",
       "  <thead>\n",
       "    <tr style=\"text-align: left;\">\n",
       "      <th>epoch</th>\n",
       "      <th>train_loss</th>\n",
       "      <th>valid_loss</th>\n",
       "      <th>accuracy</th>\n",
       "      <th>time</th>\n",
       "    </tr>\n",
       "  </thead>\n",
       "  <tbody>\n",
       "    <tr>\n",
       "      <td>0</td>\n",
       "      <td>0.125807</td>\n",
       "      <td>0.016459</td>\n",
       "      <td>0.996667</td>\n",
       "      <td>00:21</td>\n",
       "    </tr>\n",
       "  </tbody>\n",
       "</table>"
      ],
      "text/plain": [
       "<IPython.core.display.HTML object>"
      ]
     },
     "metadata": {},
     "output_type": "display_data"
    }
   ],
   "source": [
    "depth = 2\n",
    "for i in range(1,depth+1): # freeze progressively fewer layers, up to a depth of 2, training for one cycle each time\n",
    "    learn.freeze_to(-i)\n",
    "    learn.fit_one_cycle(1, rate)"
   ]
  },
  {
   "cell_type": "markdown",
   "metadata": {
    "papermill": {
     "duration": 0.035585,
     "end_time": "2020-12-28T05:01:06.598803",
     "exception": false,
     "start_time": "2020-12-28T05:01:06.563218",
     "status": "completed"
    },
    "tags": []
   },
   "source": [
    "Looks like we actually achieved the perfect score here! These results speak for themselves!"
   ]
  }
 ],
 "metadata": {
  "kernelspec": {
   "display_name": "Python 3",
   "language": "python",
   "name": "python3"
  },
  "language_info": {
   "codemirror_mode": {
    "name": "ipython",
    "version": 3
   },
   "file_extension": ".py",
   "mimetype": "text/x-python",
   "name": "python",
   "nbconvert_exporter": "python",
   "pygments_lexer": "ipython3",
   "version": "3.7.6"
  },
  "papermill": {
   "duration": 212.847409,
   "end_time": "2020-12-28T05:01:07.642556",
   "environment_variables": {},
   "exception": null,
   "input_path": "__notebook__.ipynb",
   "output_path": "__notebook__.ipynb",
   "parameters": {},
   "start_time": "2020-12-28T04:57:34.795147",
   "version": "2.1.0"
  }
 },
 "nbformat": 4,
 "nbformat_minor": 4
}
