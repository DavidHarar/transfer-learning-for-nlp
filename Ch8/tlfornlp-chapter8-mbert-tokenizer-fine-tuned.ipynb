{
 "cells": [
  {
   "cell_type": "markdown",
   "metadata": {
    "papermill": {
     "duration": 0.013918,
     "end_time": "2020-12-22T21:03:48.765763",
     "exception": false,
     "start_time": "2020-12-22T21:03:48.751845",
     "status": "completed"
    },
    "tags": []
   },
   "source": [
    "# Preliminaries\n",
    "\n",
    "Write requirements to file, anytime you run it, in case you have to go back and recover dependencies.\n",
    "\n",
    "Requirements are hosted for each notebook in the companion github repo, and can be pulled down and installed here if needed. Companion github repo is located at https://github.com/azunre/transfer-learning-for-nlp"
   ]
  },
  {
   "cell_type": "code",
   "execution_count": 1,
   "metadata": {
    "execution": {
     "iopub.execute_input": "2020-12-22T21:03:48.797111Z",
     "iopub.status.busy": "2020-12-22T21:03:48.796417Z",
     "iopub.status.idle": "2020-12-22T21:03:49.708581Z",
     "shell.execute_reply": "2020-12-22T21:03:49.707946Z"
    },
    "papermill": {
     "duration": 0.93042,
     "end_time": "2020-12-22T21:03:49.708709",
     "exception": false,
     "start_time": "2020-12-22T21:03:48.778289",
     "status": "completed"
    },
    "tags": []
   },
   "outputs": [
    {
     "name": "stdout",
     "output_type": "stream",
     "text": [
      "../input/jw300entw/jw300.en-tw.en\r\n"
     ]
    }
   ],
   "source": [
    "!ls ../input/jw300entw/jw300.en-tw.en"
   ]
  },
  {
   "cell_type": "code",
   "execution_count": 2,
   "metadata": {
    "_cell_guid": "b1076dfc-b9ad-4769-8c92-a6c4dae69d19",
    "_uuid": "8f2839f25d086af736a60e9eeb907d3b93b6e0e5",
    "execution": {
     "iopub.execute_input": "2020-12-22T21:03:49.746497Z",
     "iopub.status.busy": "2020-12-22T21:03:49.744182Z",
     "iopub.status.idle": "2020-12-22T21:03:51.896999Z",
     "shell.execute_reply": "2020-12-22T21:03:51.894816Z"
    },
    "papermill": {
     "duration": 2.174164,
     "end_time": "2020-12-22T21:03:51.897167",
     "exception": false,
     "start_time": "2020-12-22T21:03:49.723003",
     "status": "completed"
    },
    "tags": []
   },
   "outputs": [],
   "source": [
    "!pip freeze > kaggle_image_requirements.txt"
   ]
  },
  {
   "cell_type": "markdown",
   "metadata": {
    "papermill": {
     "duration": 0.019536,
     "end_time": "2020-12-22T21:03:51.937736",
     "exception": false,
     "start_time": "2020-12-22T21:03:51.918200",
     "status": "completed"
    },
    "tags": []
   },
   "source": [
    "# Fine-tune mBERT on Monolongual Twi Data (multilingual mBERT Tokenizer)\n",
    "\n",
    "Initialize BERT tokenizer to mBERT checkpoint"
   ]
  },
  {
   "cell_type": "code",
   "execution_count": 3,
   "metadata": {
    "_cell_guid": "79c7e3d0-c299-4dcb-8224-4455121ee9b0",
    "_uuid": "d629ff2d2480ee46fbb7e2d37f6b5fab8052498a",
    "execution": {
     "iopub.execute_input": "2020-12-22T21:03:51.985183Z",
     "iopub.status.busy": "2020-12-22T21:03:51.984009Z",
     "iopub.status.idle": "2020-12-22T21:04:00.373741Z",
     "shell.execute_reply": "2020-12-22T21:04:00.372784Z"
    },
    "papermill": {
     "duration": 8.414605,
     "end_time": "2020-12-22T21:04:00.373857",
     "exception": false,
     "start_time": "2020-12-22T21:03:51.959252",
     "status": "completed"
    },
    "tags": []
   },
   "outputs": [
    {
     "name": "stderr",
     "output_type": "stream",
     "text": [
      "\u001b[34m\u001b[1mwandb\u001b[0m: \u001b[33mWARNING\u001b[0m W&B installed but not logged in.  Run `wandb login` or set the WANDB_API_KEY env variable.\n"
     ]
    }
   ],
   "source": [
    "from transformers import BertTokenizerFast # this is just a faster version of BertTokenizer, which you could use instead"
   ]
  },
  {
   "cell_type": "code",
   "execution_count": 4,
   "metadata": {
    "execution": {
     "iopub.execute_input": "2020-12-22T21:04:00.407669Z",
     "iopub.status.busy": "2020-12-22T21:04:00.406789Z",
     "iopub.status.idle": "2020-12-22T21:04:01.637458Z",
     "shell.execute_reply": "2020-12-22T21:04:01.636925Z"
    },
    "papermill": {
     "duration": 1.249158,
     "end_time": "2020-12-22T21:04:01.637566",
     "exception": false,
     "start_time": "2020-12-22T21:04:00.388408",
     "status": "completed"
    },
    "tags": []
   },
   "outputs": [
    {
     "data": {
      "application/vnd.jupyter.widget-view+json": {
       "model_id": "7b5c2ba4be8a401eb1ade5fa83555d71",
       "version_major": 2,
       "version_minor": 0
      },
      "text/plain": [
       "HBox(children=(FloatProgress(value=0.0, description='Downloading', max=995526.0, style=ProgressStyle(descripti…"
      ]
     },
     "metadata": {},
     "output_type": "display_data"
    },
    {
     "name": "stdout",
     "output_type": "stream",
     "text": [
      "\n"
     ]
    }
   ],
   "source": [
    "tokenizer = BertTokenizerFast.from_pretrained(\"bert-base-multilingual-cased\") # use pre-trained mBERT tokenizer"
   ]
  },
  {
   "cell_type": "markdown",
   "metadata": {
    "papermill": {
     "duration": 0.015353,
     "end_time": "2020-12-22T21:04:01.668627",
     "exception": false,
     "start_time": "2020-12-22T21:04:01.653274",
     "status": "completed"
    },
    "tags": []
   },
   "source": [
    "Having prepared tokenizer, load mBERT checkpoint into a BERT masked language model."
   ]
  },
  {
   "cell_type": "code",
   "execution_count": 5,
   "metadata": {
    "execution": {
     "iopub.execute_input": "2020-12-22T21:04:01.703646Z",
     "iopub.status.busy": "2020-12-22T21:04:01.702788Z",
     "iopub.status.idle": "2020-12-22T21:04:47.161384Z",
     "shell.execute_reply": "2020-12-22T21:04:47.161920Z"
    },
    "papermill": {
     "duration": 45.478521,
     "end_time": "2020-12-22T21:04:47.162081",
     "exception": false,
     "start_time": "2020-12-22T21:04:01.683560",
     "status": "completed"
    },
    "tags": []
   },
   "outputs": [
    {
     "data": {
      "application/vnd.jupyter.widget-view+json": {
       "model_id": "fd9d9dcadb1a431ca8674917f4065106",
       "version_major": 2,
       "version_minor": 0
      },
      "text/plain": [
       "HBox(children=(FloatProgress(value=0.0, description='Downloading', max=625.0, style=ProgressStyle(description_…"
      ]
     },
     "metadata": {},
     "output_type": "display_data"
    },
    {
     "name": "stdout",
     "output_type": "stream",
     "text": [
      "\n"
     ]
    },
    {
     "data": {
      "application/vnd.jupyter.widget-view+json": {
       "model_id": "19412c1f3db74ea9b599ae9688368fac",
       "version_major": 2,
       "version_minor": 0
      },
      "text/plain": [
       "HBox(children=(FloatProgress(value=0.0, description='Downloading', max=714314041.0, style=ProgressStyle(descri…"
      ]
     },
     "metadata": {},
     "output_type": "display_data"
    },
    {
     "name": "stdout",
     "output_type": "stream",
     "text": [
      "\n",
      "Number of parameters in mBERT model:\n",
      "178565115\n"
     ]
    }
   ],
   "source": [
    "from transformers import BertForMaskedLM # use masked language modeling\n",
    "\n",
    "model = BertForMaskedLM.from_pretrained(\"bert-base-multilingual-cased\") # initialize to mBERT checkpoint\n",
    "\n",
    "print(\"Number of parameters in mBERT model:\")\n",
    "print(model.num_parameters())"
   ]
  },
  {
   "cell_type": "markdown",
   "metadata": {
    "papermill": {
     "duration": 0.016851,
     "end_time": "2020-12-22T21:04:47.195863",
     "exception": false,
     "start_time": "2020-12-22T21:04:47.179012",
     "status": "completed"
    },
    "tags": []
   },
   "source": [
    "Build monolingual Twi dataset with tokenizer using method included with transformers"
   ]
  },
  {
   "cell_type": "code",
   "execution_count": 6,
   "metadata": {
    "execution": {
     "iopub.execute_input": "2020-12-22T21:04:47.234921Z",
     "iopub.status.busy": "2020-12-22T21:04:47.234299Z",
     "iopub.status.idle": "2020-12-22T21:05:39.936330Z",
     "shell.execute_reply": "2020-12-22T21:05:39.935562Z"
    },
    "papermill": {
     "duration": 52.723502,
     "end_time": "2020-12-22T21:05:39.936529",
     "exception": false,
     "start_time": "2020-12-22T21:04:47.213027",
     "status": "completed"
    },
    "tags": []
   },
   "outputs": [],
   "source": [
    "from transformers import LineByLineTextDataset\n",
    "\n",
    "dataset = LineByLineTextDataset(\n",
    "    tokenizer=tokenizer,\n",
    "    file_path=\"../input/jw300entw/jw300.en-tw.tw\",\n",
    "    block_size=128, # how many lines to read at a time \n",
    ")"
   ]
  },
  {
   "cell_type": "markdown",
   "metadata": {
    "papermill": {
     "duration": 0.016876,
     "end_time": "2020-12-22T21:05:39.971166",
     "exception": false,
     "start_time": "2020-12-22T21:05:39.954290",
     "status": "completed"
    },
    "tags": []
   },
   "source": [
    "We will also need a \"data collator\". This is a helper method that creates a special object out of a batch of sample data lines (of length block_size). This special object is consummable by PyTorch to neural network training"
   ]
  },
  {
   "cell_type": "code",
   "execution_count": 7,
   "metadata": {
    "execution": {
     "iopub.execute_input": "2020-12-22T21:05:40.017311Z",
     "iopub.status.busy": "2020-12-22T21:05:40.016502Z",
     "iopub.status.idle": "2020-12-22T21:05:40.018986Z",
     "shell.execute_reply": "2020-12-22T21:05:40.019430Z"
    },
    "papermill": {
     "duration": 0.031662,
     "end_time": "2020-12-22T21:05:40.019550",
     "exception": false,
     "start_time": "2020-12-22T21:05:39.987888",
     "status": "completed"
    },
    "tags": []
   },
   "outputs": [],
   "source": [
    "from transformers import DataCollatorForLanguageModeling\n",
    "\n",
    "data_collator = DataCollatorForLanguageModeling(\n",
    "    tokenizer=tokenizer,\n",
    "    mlm=True, mlm_probability=0.15) # use masked language modeling, and mask words with probability of 0.15"
   ]
  },
  {
   "cell_type": "markdown",
   "metadata": {
    "papermill": {
     "duration": 0.016839,
     "end_time": "2020-12-22T21:05:40.053623",
     "exception": false,
     "start_time": "2020-12-22T21:05:40.036784",
     "status": "completed"
    },
    "tags": []
   },
   "source": [
    "Define standard training arguments, and then use them with previously defined dataset and collator to define a \"trainer\" for one epoch, i.e. across all 600000+ examples."
   ]
  },
  {
   "cell_type": "code",
   "execution_count": 8,
   "metadata": {
    "execution": {
     "iopub.execute_input": "2020-12-22T21:05:40.094051Z",
     "iopub.status.busy": "2020-12-22T21:05:40.093182Z",
     "iopub.status.idle": "2020-12-22T21:05:40.096107Z",
     "shell.execute_reply": "2020-12-22T21:05:40.095640Z"
    },
    "papermill": {
     "duration": 0.025258,
     "end_time": "2020-12-22T21:05:40.096203",
     "exception": false,
     "start_time": "2020-12-22T21:05:40.070945",
     "status": "completed"
    },
    "tags": []
   },
   "outputs": [],
   "source": [
    "from transformers import Trainer, TrainingArguments\n",
    "\n",
    "training_args = TrainingArguments(\n",
    "    output_dir=\"twimbert\",\n",
    "    overwrite_output_dir=True,\n",
    "    num_train_epochs=1,\n",
    "    per_gpu_train_batch_size=16,\n",
    "    save_total_limit=1,\n",
    ")"
   ]
  },
  {
   "cell_type": "code",
   "execution_count": 9,
   "metadata": {
    "execution": {
     "iopub.execute_input": "2020-12-22T21:05:40.515684Z",
     "iopub.status.busy": "2020-12-22T21:05:40.514736Z",
     "iopub.status.idle": "2020-12-22T21:05:46.458071Z",
     "shell.execute_reply": "2020-12-22T21:05:46.457286Z"
    },
    "papermill": {
     "duration": 6.344935,
     "end_time": "2020-12-22T21:05:46.458208",
     "exception": false,
     "start_time": "2020-12-22T21:05:40.113273",
     "status": "completed"
    },
    "tags": []
   },
   "outputs": [],
   "source": [
    "trainer = Trainer(\n",
    "    model=model,\n",
    "    args=training_args,\n",
    "    data_collator=data_collator,\n",
    "    train_dataset=dataset,\n",
    "    prediction_loss_only=True,\n",
    ")"
   ]
  },
  {
   "cell_type": "markdown",
   "metadata": {
    "papermill": {
     "duration": 0.017468,
     "end_time": "2020-12-22T21:05:46.495116",
     "exception": false,
     "start_time": "2020-12-22T21:05:46.477648",
     "status": "completed"
    },
    "tags": []
   },
   "source": [
    "Train and time."
   ]
  },
  {
   "cell_type": "code",
   "execution_count": 10,
   "metadata": {
    "execution": {
     "iopub.execute_input": "2020-12-22T21:05:46.540155Z",
     "iopub.status.busy": "2020-12-22T21:05:46.539395Z",
     "iopub.status.idle": "2020-12-23T00:11:47.215875Z",
     "shell.execute_reply": "2020-12-23T00:11:47.211521Z"
    },
    "papermill": {
     "duration": 11160.703237,
     "end_time": "2020-12-23T00:11:47.216059",
     "exception": false,
     "start_time": "2020-12-22T21:05:46.512822",
     "status": "completed"
    },
    "tags": []
   },
   "outputs": [
    {
     "data": {
      "application/vnd.jupyter.widget-view+json": {
       "model_id": "0f08c3126a7842c5b89cea6d4f7fa687",
       "version_major": 2,
       "version_minor": 0
      },
      "text/plain": [
       "HBox(children=(FloatProgress(value=0.0, description='Epoch', max=1.0, style=ProgressStyle(description_width='i…"
      ]
     },
     "metadata": {},
     "output_type": "display_data"
    },
    {
     "data": {
      "application/vnd.jupyter.widget-view+json": {
       "model_id": "052c1d0fa1e744ffb283bffd21cdd206",
       "version_major": 2,
       "version_minor": 0
      },
      "text/plain": [
       "HBox(children=(FloatProgress(value=0.0, description='Iteration', max=37562.0, style=ProgressStyle(description_…"
      ]
     },
     "metadata": {},
     "output_type": "display_data"
    },
    {
     "name": "stdout",
     "output_type": "stream",
     "text": [
      "{\"loss\": 2.6203167583942415, \"learning_rate\": 4.933443373622278e-05, \"epoch\": 0.013311325275544433, \"step\": 500}\n"
     ]
    },
    {
     "name": "stderr",
     "output_type": "stream",
     "text": [
      "/opt/conda/lib/python3.7/site-packages/torch/optim/lr_scheduler.py:200: UserWarning: Please also save or load the state of the optimzer when saving or loading the scheduler.\n",
      "  warnings.warn(SAVE_STATE_WARNING, UserWarning)\n"
     ]
    },
    {
     "name": "stdout",
     "output_type": "stream",
     "text": [
      "{\"loss\": 1.929805256009102, \"learning_rate\": 4.866886747244556e-05, \"epoch\": 0.026622650551088867, \"step\": 1000}\n",
      "{\"loss\": 1.7221835536956787, \"learning_rate\": 4.800330120866834e-05, \"epoch\": 0.0399339758266333, \"step\": 1500}\n",
      "{\"loss\": 1.6270063619613648, \"learning_rate\": 4.7337734944891116e-05, \"epoch\": 0.05324530110217773, \"step\": 2000}\n",
      "{\"loss\": 1.5580790455937386, \"learning_rate\": 4.667216868111389e-05, \"epoch\": 0.06655662637772217, \"step\": 2500}\n",
      "{\"loss\": 1.4647048667669296, \"learning_rate\": 4.600660241733668e-05, \"epoch\": 0.0798679516532666, \"step\": 3000}\n",
      "{\"loss\": 1.4247039886713029, \"learning_rate\": 4.5341036153559454e-05, \"epoch\": 0.09317927692881103, \"step\": 3500}\n",
      "{\"loss\": 1.3765649322271347, \"learning_rate\": 4.467546988978223e-05, \"epoch\": 0.10649060220435547, \"step\": 4000}\n",
      "{\"loss\": 1.3284565920829774, \"learning_rate\": 4.400990362600501e-05, \"epoch\": 0.1198019274798999, \"step\": 4500}\n",
      "{\"loss\": 1.3167774492502213, \"learning_rate\": 4.334433736222779e-05, \"epoch\": 0.13311325275544433, \"step\": 5000}\n",
      "{\"loss\": 1.2624800796508788, \"learning_rate\": 4.267877109845057e-05, \"epoch\": 0.14642457803098877, \"step\": 5500}\n",
      "{\"loss\": 1.242834804713726, \"learning_rate\": 4.2013204834673345e-05, \"epoch\": 0.1597359033065332, \"step\": 6000}\n",
      "{\"loss\": 1.2045444985628129, \"learning_rate\": 4.134763857089612e-05, \"epoch\": 0.17304722858207763, \"step\": 6500}\n",
      "{\"loss\": 1.1926041470170021, \"learning_rate\": 4.06820723071189e-05, \"epoch\": 0.18635855385762207, \"step\": 7000}\n",
      "{\"loss\": 1.1991780579090119, \"learning_rate\": 4.0016506043341675e-05, \"epoch\": 0.1996698791331665, \"step\": 7500}\n",
      "{\"loss\": 1.1556567188501359, \"learning_rate\": 3.935093977956446e-05, \"epoch\": 0.21298120440871093, \"step\": 8000}\n",
      "{\"loss\": 1.1391445996761322, \"learning_rate\": 3.8685373515787235e-05, \"epoch\": 0.22629252968425537, \"step\": 8500}\n",
      "{\"loss\": 1.1110107876062394, \"learning_rate\": 3.801980725201001e-05, \"epoch\": 0.2396038549597998, \"step\": 9000}\n",
      "{\"loss\": 1.1005216579437256, \"learning_rate\": 3.735424098823279e-05, \"epoch\": 0.2529151802353442, \"step\": 9500}\n",
      "{\"loss\": 1.0929169318079948, \"learning_rate\": 3.6688674724455566e-05, \"epoch\": 0.26622650551088867, \"step\": 10000}\n",
      "{\"loss\": 1.0951062268018723, \"learning_rate\": 3.602310846067834e-05, \"epoch\": 0.2795378307864331, \"step\": 10500}\n",
      "{\"loss\": 1.0705761343240738, \"learning_rate\": 3.5357542196901126e-05, \"epoch\": 0.29284915606197753, \"step\": 11000}\n",
      "{\"loss\": 1.031896382689476, \"learning_rate\": 3.46919759331239e-05, \"epoch\": 0.30616048133752194, \"step\": 11500}\n",
      "{\"loss\": 1.035690463244915, \"learning_rate\": 3.402640966934668e-05, \"epoch\": 0.3194718066130664, \"step\": 12000}\n",
      "{\"loss\": 1.0229005957245827, \"learning_rate\": 3.336084340556946e-05, \"epoch\": 0.3327831318886108, \"step\": 12500}\n",
      "{\"loss\": 1.0212100143432616, \"learning_rate\": 3.269527714179224e-05, \"epoch\": 0.34609445716415527, \"step\": 13000}\n",
      "{\"loss\": 1.0086055744886397, \"learning_rate\": 3.202971087801502e-05, \"epoch\": 0.3594057824396997, \"step\": 13500}\n",
      "{\"loss\": 1.0093056180477142, \"learning_rate\": 3.1364144614237794e-05, \"epoch\": 0.37271710771524413, \"step\": 14000}\n",
      "{\"loss\": 0.9879196336865426, \"learning_rate\": 3.069857835046057e-05, \"epoch\": 0.38602843299078854, \"step\": 14500}\n",
      "{\"loss\": 0.9781705651283265, \"learning_rate\": 3.0033012086683354e-05, \"epoch\": 0.399339758266333, \"step\": 15000}\n",
      "{\"loss\": 0.9746203667521477, \"learning_rate\": 2.936744582290613e-05, \"epoch\": 0.4126510835418774, \"step\": 15500}\n",
      "{\"loss\": 0.964858935713768, \"learning_rate\": 2.8701879559128908e-05, \"epoch\": 0.42596240881742187, \"step\": 16000}\n",
      "{\"loss\": 0.9156200164556503, \"learning_rate\": 2.8036313295351685e-05, \"epoch\": 0.4392737340929663, \"step\": 16500}\n",
      "{\"loss\": 0.9331650016903877, \"learning_rate\": 2.737074703157447e-05, \"epoch\": 0.45258505936851073, \"step\": 17000}\n",
      "{\"loss\": 0.9419784580469132, \"learning_rate\": 2.6705180767797245e-05, \"epoch\": 0.46589638464405514, \"step\": 17500}\n",
      "{\"loss\": 0.9201512994766236, \"learning_rate\": 2.6039614504020022e-05, \"epoch\": 0.4792077099195996, \"step\": 18000}\n",
      "{\"loss\": 0.9033715609908104, \"learning_rate\": 2.53740482402428e-05, \"epoch\": 0.492519035195144, \"step\": 18500}\n",
      "{\"loss\": 0.9083770983815194, \"learning_rate\": 2.470848197646558e-05, \"epoch\": 0.5058303604706884, \"step\": 19000}\n",
      "{\"loss\": 0.8906652687191963, \"learning_rate\": 2.404291571268836e-05, \"epoch\": 0.5191416857462329, \"step\": 19500}\n",
      "{\"loss\": 0.8914219025373459, \"learning_rate\": 2.3377349448911136e-05, \"epoch\": 0.5324530110217773, \"step\": 20000}\n",
      "{\"loss\": 0.8891020720005035, \"learning_rate\": 2.2711783185133913e-05, \"epoch\": 0.5457643362973218, \"step\": 20500}\n",
      "{\"loss\": 0.8626312386989593, \"learning_rate\": 2.204621692135669e-05, \"epoch\": 0.5590756615728661, \"step\": 21000}\n",
      "{\"loss\": 0.8788360268473625, \"learning_rate\": 2.138065065757947e-05, \"epoch\": 0.5723869868484106, \"step\": 21500}\n",
      "{\"loss\": 0.8713879292011261, \"learning_rate\": 2.0715084393802247e-05, \"epoch\": 0.5856983121239551, \"step\": 22000}\n",
      "{\"loss\": 0.8748190116882324, \"learning_rate\": 2.0049518130025027e-05, \"epoch\": 0.5990096373994995, \"step\": 22500}\n",
      "{\"loss\": 0.8632598571181297, \"learning_rate\": 1.9383951866247804e-05, \"epoch\": 0.6123209626750439, \"step\": 23000}\n",
      "{\"loss\": 0.8580682230591774, \"learning_rate\": 1.8718385602470584e-05, \"epoch\": 0.6256322879505883, \"step\": 23500}\n",
      "{\"loss\": 0.8640752115249634, \"learning_rate\": 1.805281933869336e-05, \"epoch\": 0.6389436132261328, \"step\": 24000}\n",
      "{\"loss\": 0.834337407708168, \"learning_rate\": 1.738725307491614e-05, \"epoch\": 0.6522549385016773, \"step\": 24500}\n",
      "{\"loss\": 0.8526536514163017, \"learning_rate\": 1.6721686811138918e-05, \"epoch\": 0.6655662637772216, \"step\": 25000}\n",
      "{\"loss\": 0.8230909348130226, \"learning_rate\": 1.6056120547361698e-05, \"epoch\": 0.6788775890527661, \"step\": 25500}\n",
      "{\"loss\": 0.80881440153718, \"learning_rate\": 1.5390554283584475e-05, \"epoch\": 0.6921889143283105, \"step\": 26000}\n",
      "{\"loss\": 0.8301984276175499, \"learning_rate\": 1.4724988019807253e-05, \"epoch\": 0.705500239603855, \"step\": 26500}\n",
      "{\"loss\": 0.8172430571317673, \"learning_rate\": 1.405942175603003e-05, \"epoch\": 0.7188115648793993, \"step\": 27000}\n",
      "{\"loss\": 0.8202799851894379, \"learning_rate\": 1.339385549225281e-05, \"epoch\": 0.7321228901549438, \"step\": 27500}\n",
      "{\"loss\": 0.7996875274181366, \"learning_rate\": 1.2728289228475587e-05, \"epoch\": 0.7454342154304883, \"step\": 28000}\n",
      "{\"loss\": 0.8040703450143337, \"learning_rate\": 1.2062722964698366e-05, \"epoch\": 0.7587455407060327, \"step\": 28500}\n",
      "{\"loss\": 0.7882340341210365, \"learning_rate\": 1.1397156700921144e-05, \"epoch\": 0.7720568659815771, \"step\": 29000}\n",
      "{\"loss\": 0.7852125495672226, \"learning_rate\": 1.0731590437143923e-05, \"epoch\": 0.7853681912571215, \"step\": 29500}\n",
      "{\"loss\": 0.7792127918601036, \"learning_rate\": 1.0066024173366701e-05, \"epoch\": 0.798679516532666, \"step\": 30000}\n",
      "{\"loss\": 0.7653740830123424, \"learning_rate\": 9.40045790958948e-06, \"epoch\": 0.8119908418082105, \"step\": 30500}\n",
      "{\"loss\": 0.7788017007112503, \"learning_rate\": 8.734891645812256e-06, \"epoch\": 0.8253021670837548, \"step\": 31000}\n",
      "{\"loss\": 0.7777812690734863, \"learning_rate\": 8.069325382035035e-06, \"epoch\": 0.8386134923592993, \"step\": 31500}\n",
      "{\"loss\": 0.76545025151968, \"learning_rate\": 7.403759118257813e-06, \"epoch\": 0.8519248176348437, \"step\": 32000}\n",
      "{\"loss\": 0.7657298221588135, \"learning_rate\": 6.738192854480592e-06, \"epoch\": 0.8652361429103882, \"step\": 32500}\n",
      "{\"loss\": 0.7487830195426941, \"learning_rate\": 6.072626590703371e-06, \"epoch\": 0.8785474681859325, \"step\": 33000}\n",
      "{\"loss\": 0.7396193111538887, \"learning_rate\": 5.407060326926149e-06, \"epoch\": 0.891858793461477, \"step\": 33500}\n",
      "{\"loss\": 0.772268277734518, \"learning_rate\": 4.7414940631489275e-06, \"epoch\": 0.9051701187370215, \"step\": 34000}\n",
      "{\"loss\": 0.7572555037140847, \"learning_rate\": 4.075927799371706e-06, \"epoch\": 0.9184814440125659, \"step\": 34500}\n",
      "{\"loss\": 0.7540249816477299, \"learning_rate\": 3.410361535594484e-06, \"epoch\": 0.9317927692881103, \"step\": 35000}\n",
      "{\"loss\": 0.7298422729969025, \"learning_rate\": 2.744795271817262e-06, \"epoch\": 0.9451040945636547, \"step\": 35500}\n",
      "{\"loss\": 0.7636399819552898, \"learning_rate\": 2.0792290080400402e-06, \"epoch\": 0.9584154198391992, \"step\": 36000}\n",
      "{\"loss\": 0.7454532637298107, \"learning_rate\": 1.413662744262819e-06, \"epoch\": 0.9717267451147437, \"step\": 36500}\n",
      "{\"loss\": 0.7490230825543404, \"learning_rate\": 7.480964804855971e-07, \"epoch\": 0.985038070390288, \"step\": 37000}\n",
      "{\"loss\": 0.7109682363271713, \"learning_rate\": 8.25302167083755e-08, \"epoch\": 0.9983493956658325, \"step\": 37500}\n",
      "\n",
      "\n",
      "Number of seconds for training:\n",
      "11160.670283317566\n"
     ]
    }
   ],
   "source": [
    "import time\n",
    "start = time.time()\n",
    "trainer.train()\n",
    "end = time.time()\n",
    "print(\"Number of seconds for training:\")\n",
    "print((end-start))"
   ]
  },
  {
   "cell_type": "code",
   "execution_count": 11,
   "metadata": {
    "execution": {
     "iopub.execute_input": "2020-12-23T00:11:47.320963Z",
     "iopub.status.busy": "2020-12-23T00:11:47.320046Z",
     "iopub.status.idle": "2020-12-23T00:11:48.749245Z",
     "shell.execute_reply": "2020-12-23T00:11:48.750076Z"
    },
    "papermill": {
     "duration": 1.481618,
     "end_time": "2020-12-23T00:11:48.750320",
     "exception": false,
     "start_time": "2020-12-23T00:11:47.268702",
     "status": "completed"
    },
    "tags": []
   },
   "outputs": [],
   "source": [
    "trainer.save_model(\"twimbert\") # save model"
   ]
  },
  {
   "cell_type": "markdown",
   "metadata": {
    "papermill": {
     "duration": 0.152539,
     "end_time": "2020-12-23T00:11:49.176821",
     "exception": false,
     "start_time": "2020-12-23T00:11:49.024282",
     "status": "completed"
    },
    "tags": []
   },
   "source": [
    "Test model on \"fill-in-the-blank\" task, by taking a sentence, masking a word and then predicting a completion with pipelines API."
   ]
  },
  {
   "cell_type": "code",
   "execution_count": 12,
   "metadata": {
    "execution": {
     "iopub.execute_input": "2020-12-23T00:11:49.321920Z",
     "iopub.status.busy": "2020-12-23T00:11:49.320898Z",
     "iopub.status.idle": "2020-12-23T00:11:57.474712Z",
     "shell.execute_reply": "2020-12-23T00:11:57.473594Z"
    },
    "papermill": {
     "duration": 8.216321,
     "end_time": "2020-12-23T00:11:57.474836",
     "exception": false,
     "start_time": "2020-12-23T00:11:49.258515",
     "status": "completed"
    },
    "tags": []
   },
   "outputs": [],
   "source": [
    "# Define fill-in-the-blanks pipeline\n",
    "from transformers import pipeline\n",
    "\n",
    "fill_mask = pipeline(\n",
    "    \"fill-mask\",\n",
    "    model=\"twimbert\",\n",
    "    tokenizer=tokenizer\n",
    ")"
   ]
  },
  {
   "cell_type": "code",
   "execution_count": 13,
   "metadata": {
    "execution": {
     "iopub.execute_input": "2020-12-23T00:11:57.574721Z",
     "iopub.status.busy": "2020-12-23T00:11:57.574003Z",
     "iopub.status.idle": "2020-12-23T00:11:57.852515Z",
     "shell.execute_reply": "2020-12-23T00:11:57.851978Z"
    },
    "papermill": {
     "duration": 0.330823,
     "end_time": "2020-12-23T00:11:57.852623",
     "exception": false,
     "start_time": "2020-12-23T00:11:57.521800",
     "status": "completed"
    },
    "tags": []
   },
   "outputs": [
    {
     "name": "stdout",
     "output_type": "stream",
     "text": [
      "[{'sequence': '[CLS] Eyi de ɔhaw kɛse baa me hɔ. [SEP]', 'score': 0.13256989419460297, 'token': 10911}, {'sequence': '[CLS] Eyi de ɔhaw kɛse baa Israel hɔ. [SEP]', 'score': 0.06816119700670242, 'token': 12991}, {'sequence': '[CLS] Eyi de ɔhaw kɛse baa ne hɔ. [SEP]', 'score': 0.06106790155172348, 'token': 10554}, {'sequence': '[CLS] Eyi de ɔhaw kɛse baa Europa hɔ. [SEP]', 'score': 0.05116277188062668, 'token': 11313}, {'sequence': '[CLS] Eyi de ɔhaw kɛse baa Eden hɔ. [SEP]', 'score': 0.033920999616384506, 'token': 35409}]\n"
     ]
    }
   ],
   "source": [
    "# We modified a sentences as \"Eyi de ɔhaw kɛse baa sukuu hɔ.\" => \"Eyi de ɔhaw kɛse baa [MASK] hɔ.\"\n",
    "# Predict masked token \n",
    "print(fill_mask(\"Eyi de ɔhaw kɛse baa [MASK] hɔ.\"))"
   ]
  }
 ],
 "metadata": {
  "kernelspec": {
   "display_name": "Python 3",
   "language": "python",
   "name": "python3"
  },
  "language_info": {
   "codemirror_mode": {
    "name": "ipython",
    "version": 3
   },
   "file_extension": ".py",
   "mimetype": "text/x-python",
   "name": "python",
   "nbconvert_exporter": "python",
   "pygments_lexer": "ipython3",
   "version": "3.7.6"
  },
  "papermill": {
   "duration": 11296.165018,
   "end_time": "2020-12-23T00:12:00.108455",
   "environment_variables": {},
   "exception": null,
   "input_path": "__notebook__.ipynb",
   "output_path": "__notebook__.ipynb",
   "parameters": {},
   "start_time": "2020-12-22T21:03:43.943437",
   "version": "2.1.0"
  },
  "widgets": {
   "application/vnd.jupyter.widget-state+json": {
    "state": {
     "052c1d0fa1e744ffb283bffd21cdd206": {
      "model_module": "@jupyter-widgets/controls",
      "model_module_version": "1.5.0",
      "model_name": "HBoxModel",
      "state": {
       "_dom_classes": [],
       "_model_module": "@jupyter-widgets/controls",
       "_model_module_version": "1.5.0",
       "_model_name": "HBoxModel",
       "_view_count": null,
       "_view_module": "@jupyter-widgets/controls",
       "_view_module_version": "1.5.0",
       "_view_name": "HBoxView",
       "box_style": "",
       "children": [
        "IPY_MODEL_1b112044de8d4692b675cd1903aa2ef6",
        "IPY_MODEL_ce58329574ac4a1c8d9b24ec41d56992"
       ],
       "layout": "IPY_MODEL_e82b1bc1338442b6922f9fd068d6d885"
      }
     },
     "0c2a464ad0494c8da8d16993800f3b8b": {
      "model_module": "@jupyter-widgets/controls",
      "model_module_version": "1.5.0",
      "model_name": "ProgressStyleModel",
      "state": {
       "_model_module": "@jupyter-widgets/controls",
       "_model_module_version": "1.5.0",
       "_model_name": "ProgressStyleModel",
       "_view_count": null,
       "_view_module": "@jupyter-widgets/base",
       "_view_module_version": "1.2.0",
       "_view_name": "StyleView",
       "bar_color": null,
       "description_width": "initial"
      }
     },
     "0f08c3126a7842c5b89cea6d4f7fa687": {
      "model_module": "@jupyter-widgets/controls",
      "model_module_version": "1.5.0",
      "model_name": "HBoxModel",
      "state": {
       "_dom_classes": [],
       "_model_module": "@jupyter-widgets/controls",
       "_model_module_version": "1.5.0",
       "_model_name": "HBoxModel",
       "_view_count": null,
       "_view_module": "@jupyter-widgets/controls",
       "_view_module_version": "1.5.0",
       "_view_name": "HBoxView",
       "box_style": "",
       "children": [
        "IPY_MODEL_62ead63cd8144f4e8900167e71fbd97f",
        "IPY_MODEL_8642ba6cb7f94293b4378c5c44d56933"
       ],
       "layout": "IPY_MODEL_b4058d5e9ffe445db24315a31eeebbf6"
      }
     },
     "19412c1f3db74ea9b599ae9688368fac": {
      "model_module": "@jupyter-widgets/controls",
      "model_module_version": "1.5.0",
      "model_name": "HBoxModel",
      "state": {
       "_dom_classes": [],
       "_model_module": "@jupyter-widgets/controls",
       "_model_module_version": "1.5.0",
       "_model_name": "HBoxModel",
       "_view_count": null,
       "_view_module": "@jupyter-widgets/controls",
       "_view_module_version": "1.5.0",
       "_view_name": "HBoxView",
       "box_style": "",
       "children": [
        "IPY_MODEL_3f698bc256654300ab90027986c48f05",
        "IPY_MODEL_6a62ad57e5cf485f9b05f78d5a8718ad"
       ],
       "layout": "IPY_MODEL_eac90fd414784651876c1477cf84f34f"
      }
     },
     "1b112044de8d4692b675cd1903aa2ef6": {
      "model_module": "@jupyter-widgets/controls",
      "model_module_version": "1.5.0",
      "model_name": "FloatProgressModel",
      "state": {
       "_dom_classes": [],
       "_model_module": "@jupyter-widgets/controls",
       "_model_module_version": "1.5.0",
       "_model_name": "FloatProgressModel",
       "_view_count": null,
       "_view_module": "@jupyter-widgets/controls",
       "_view_module_version": "1.5.0",
       "_view_name": "ProgressView",
       "bar_style": "success",
       "description": "Iteration: 100%",
       "description_tooltip": null,
       "layout": "IPY_MODEL_207a184cc1744fbc880d5f3e34968953",
       "max": 37562.0,
       "min": 0.0,
       "orientation": "horizontal",
       "style": "IPY_MODEL_0c2a464ad0494c8da8d16993800f3b8b",
       "value": 37562.0
      }
     },
     "1c9597fb52e44b19b951fd6b930013fc": {
      "model_module": "@jupyter-widgets/base",
      "model_module_version": "1.2.0",
      "model_name": "LayoutModel",
      "state": {
       "_model_module": "@jupyter-widgets/base",
       "_model_module_version": "1.2.0",
       "_model_name": "LayoutModel",
       "_view_count": null,
       "_view_module": "@jupyter-widgets/base",
       "_view_module_version": "1.2.0",
       "_view_name": "LayoutView",
       "align_content": null,
       "align_items": null,
       "align_self": null,
       "border": null,
       "bottom": null,
       "display": null,
       "flex": null,
       "flex_flow": null,
       "grid_area": null,
       "grid_auto_columns": null,
       "grid_auto_flow": null,
       "grid_auto_rows": null,
       "grid_column": null,
       "grid_gap": null,
       "grid_row": null,
       "grid_template_areas": null,
       "grid_template_columns": null,
       "grid_template_rows": null,
       "height": null,
       "justify_content": null,
       "justify_items": null,
       "left": null,
       "margin": null,
       "max_height": null,
       "max_width": null,
       "min_height": null,
       "min_width": null,
       "object_fit": null,
       "object_position": null,
       "order": null,
       "overflow": null,
       "overflow_x": null,
       "overflow_y": null,
       "padding": null,
       "right": null,
       "top": null,
       "visibility": null,
       "width": null
      }
     },
     "207a184cc1744fbc880d5f3e34968953": {
      "model_module": "@jupyter-widgets/base",
      "model_module_version": "1.2.0",
      "model_name": "LayoutModel",
      "state": {
       "_model_module": "@jupyter-widgets/base",
       "_model_module_version": "1.2.0",
       "_model_name": "LayoutModel",
       "_view_count": null,
       "_view_module": "@jupyter-widgets/base",
       "_view_module_version": "1.2.0",
       "_view_name": "LayoutView",
       "align_content": null,
       "align_items": null,
       "align_self": null,
       "border": null,
       "bottom": null,
       "display": null,
       "flex": null,
       "flex_flow": null,
       "grid_area": null,
       "grid_auto_columns": null,
       "grid_auto_flow": null,
       "grid_auto_rows": null,
       "grid_column": null,
       "grid_gap": null,
       "grid_row": null,
       "grid_template_areas": null,
       "grid_template_columns": null,
       "grid_template_rows": null,
       "height": null,
       "justify_content": null,
       "justify_items": null,
       "left": null,
       "margin": null,
       "max_height": null,
       "max_width": null,
       "min_height": null,
       "min_width": null,
       "object_fit": null,
       "object_position": null,
       "order": null,
       "overflow": null,
       "overflow_x": null,
       "overflow_y": null,
       "padding": null,
       "right": null,
       "top": null,
       "visibility": null,
       "width": null
      }
     },
     "20e389f669db4075ad71c8cb205400ea": {
      "model_module": "@jupyter-widgets/base",
      "model_module_version": "1.2.0",
      "model_name": "LayoutModel",
      "state": {
       "_model_module": "@jupyter-widgets/base",
       "_model_module_version": "1.2.0",
       "_model_name": "LayoutModel",
       "_view_count": null,
       "_view_module": "@jupyter-widgets/base",
       "_view_module_version": "1.2.0",
       "_view_name": "LayoutView",
       "align_content": null,
       "align_items": null,
       "align_self": null,
       "border": null,
       "bottom": null,
       "display": null,
       "flex": null,
       "flex_flow": null,
       "grid_area": null,
       "grid_auto_columns": null,
       "grid_auto_flow": null,
       "grid_auto_rows": null,
       "grid_column": null,
       "grid_gap": null,
       "grid_row": null,
       "grid_template_areas": null,
       "grid_template_columns": null,
       "grid_template_rows": null,
       "height": null,
       "justify_content": null,
       "justify_items": null,
       "left": null,
       "margin": null,
       "max_height": null,
       "max_width": null,
       "min_height": null,
       "min_width": null,
       "object_fit": null,
       "object_position": null,
       "order": null,
       "overflow": null,
       "overflow_x": null,
       "overflow_y": null,
       "padding": null,
       "right": null,
       "top": null,
       "visibility": null,
       "width": null
      }
     },
     "2578128c2b9648ceab7e6ca39f804917": {
      "model_module": "@jupyter-widgets/base",
      "model_module_version": "1.2.0",
      "model_name": "LayoutModel",
      "state": {
       "_model_module": "@jupyter-widgets/base",
       "_model_module_version": "1.2.0",
       "_model_name": "LayoutModel",
       "_view_count": null,
       "_view_module": "@jupyter-widgets/base",
       "_view_module_version": "1.2.0",
       "_view_name": "LayoutView",
       "align_content": null,
       "align_items": null,
       "align_self": null,
       "border": null,
       "bottom": null,
       "display": null,
       "flex": null,
       "flex_flow": null,
       "grid_area": null,
       "grid_auto_columns": null,
       "grid_auto_flow": null,
       "grid_auto_rows": null,
       "grid_column": null,
       "grid_gap": null,
       "grid_row": null,
       "grid_template_areas": null,
       "grid_template_columns": null,
       "grid_template_rows": null,
       "height": null,
       "justify_content": null,
       "justify_items": null,
       "left": null,
       "margin": null,
       "max_height": null,
       "max_width": null,
       "min_height": null,
       "min_width": null,
       "object_fit": null,
       "object_position": null,
       "order": null,
       "overflow": null,
       "overflow_x": null,
       "overflow_y": null,
       "padding": null,
       "right": null,
       "top": null,
       "visibility": null,
       "width": null
      }
     },
     "2c8f624957ee4500b5d1edfc994d6289": {
      "model_module": "@jupyter-widgets/base",
      "model_module_version": "1.2.0",
      "model_name": "LayoutModel",
      "state": {
       "_model_module": "@jupyter-widgets/base",
       "_model_module_version": "1.2.0",
       "_model_name": "LayoutModel",
       "_view_count": null,
       "_view_module": "@jupyter-widgets/base",
       "_view_module_version": "1.2.0",
       "_view_name": "LayoutView",
       "align_content": null,
       "align_items": null,
       "align_self": null,
       "border": null,
       "bottom": null,
       "display": null,
       "flex": null,
       "flex_flow": null,
       "grid_area": null,
       "grid_auto_columns": null,
       "grid_auto_flow": null,
       "grid_auto_rows": null,
       "grid_column": null,
       "grid_gap": null,
       "grid_row": null,
       "grid_template_areas": null,
       "grid_template_columns": null,
       "grid_template_rows": null,
       "height": null,
       "justify_content": null,
       "justify_items": null,
       "left": null,
       "margin": null,
       "max_height": null,
       "max_width": null,
       "min_height": null,
       "min_width": null,
       "object_fit": null,
       "object_position": null,
       "order": null,
       "overflow": null,
       "overflow_x": null,
       "overflow_y": null,
       "padding": null,
       "right": null,
       "top": null,
       "visibility": null,
       "width": null
      }
     },
     "31839a6d412f47a8b4f4b200c308371a": {
      "model_module": "@jupyter-widgets/controls",
      "model_module_version": "1.5.0",
      "model_name": "DescriptionStyleModel",
      "state": {
       "_model_module": "@jupyter-widgets/controls",
       "_model_module_version": "1.5.0",
       "_model_name": "DescriptionStyleModel",
       "_view_count": null,
       "_view_module": "@jupyter-widgets/base",
       "_view_module_version": "1.2.0",
       "_view_name": "StyleView",
       "description_width": ""
      }
     },
     "346413c141f345b89dcf0c37c35ff574": {
      "model_module": "@jupyter-widgets/base",
      "model_module_version": "1.2.0",
      "model_name": "LayoutModel",
      "state": {
       "_model_module": "@jupyter-widgets/base",
       "_model_module_version": "1.2.0",
       "_model_name": "LayoutModel",
       "_view_count": null,
       "_view_module": "@jupyter-widgets/base",
       "_view_module_version": "1.2.0",
       "_view_name": "LayoutView",
       "align_content": null,
       "align_items": null,
       "align_self": null,
       "border": null,
       "bottom": null,
       "display": null,
       "flex": null,
       "flex_flow": null,
       "grid_area": null,
       "grid_auto_columns": null,
       "grid_auto_flow": null,
       "grid_auto_rows": null,
       "grid_column": null,
       "grid_gap": null,
       "grid_row": null,
       "grid_template_areas": null,
       "grid_template_columns": null,
       "grid_template_rows": null,
       "height": null,
       "justify_content": null,
       "justify_items": null,
       "left": null,
       "margin": null,
       "max_height": null,
       "max_width": null,
       "min_height": null,
       "min_width": null,
       "object_fit": null,
       "object_position": null,
       "order": null,
       "overflow": null,
       "overflow_x": null,
       "overflow_y": null,
       "padding": null,
       "right": null,
       "top": null,
       "visibility": null,
       "width": null
      }
     },
     "3ba3f2e38827416abc78c6bfe1eb39be": {
      "model_module": "@jupyter-widgets/base",
      "model_module_version": "1.2.0",
      "model_name": "LayoutModel",
      "state": {
       "_model_module": "@jupyter-widgets/base",
       "_model_module_version": "1.2.0",
       "_model_name": "LayoutModel",
       "_view_count": null,
       "_view_module": "@jupyter-widgets/base",
       "_view_module_version": "1.2.0",
       "_view_name": "LayoutView",
       "align_content": null,
       "align_items": null,
       "align_self": null,
       "border": null,
       "bottom": null,
       "display": null,
       "flex": null,
       "flex_flow": null,
       "grid_area": null,
       "grid_auto_columns": null,
       "grid_auto_flow": null,
       "grid_auto_rows": null,
       "grid_column": null,
       "grid_gap": null,
       "grid_row": null,
       "grid_template_areas": null,
       "grid_template_columns": null,
       "grid_template_rows": null,
       "height": null,
       "justify_content": null,
       "justify_items": null,
       "left": null,
       "margin": null,
       "max_height": null,
       "max_width": null,
       "min_height": null,
       "min_width": null,
       "object_fit": null,
       "object_position": null,
       "order": null,
       "overflow": null,
       "overflow_x": null,
       "overflow_y": null,
       "padding": null,
       "right": null,
       "top": null,
       "visibility": null,
       "width": null
      }
     },
     "3f698bc256654300ab90027986c48f05": {
      "model_module": "@jupyter-widgets/controls",
      "model_module_version": "1.5.0",
      "model_name": "FloatProgressModel",
      "state": {
       "_dom_classes": [],
       "_model_module": "@jupyter-widgets/controls",
       "_model_module_version": "1.5.0",
       "_model_name": "FloatProgressModel",
       "_view_count": null,
       "_view_module": "@jupyter-widgets/controls",
       "_view_module_version": "1.5.0",
       "_view_name": "ProgressView",
       "bar_style": "success",
       "description": "Downloading: 100%",
       "description_tooltip": null,
       "layout": "IPY_MODEL_2578128c2b9648ceab7e6ca39f804917",
       "max": 714314041.0,
       "min": 0.0,
       "orientation": "horizontal",
       "style": "IPY_MODEL_48289d9f3c364b4b9b6a8a29954345c1",
       "value": 714314041.0
      }
     },
     "48289d9f3c364b4b9b6a8a29954345c1": {
      "model_module": "@jupyter-widgets/controls",
      "model_module_version": "1.5.0",
      "model_name": "ProgressStyleModel",
      "state": {
       "_model_module": "@jupyter-widgets/controls",
       "_model_module_version": "1.5.0",
       "_model_name": "ProgressStyleModel",
       "_view_count": null,
       "_view_module": "@jupyter-widgets/base",
       "_view_module_version": "1.2.0",
       "_view_name": "StyleView",
       "bar_color": null,
       "description_width": "initial"
      }
     },
     "513d0a520a9d4f52b7568c97622ad9ca": {
      "model_module": "@jupyter-widgets/controls",
      "model_module_version": "1.5.0",
      "model_name": "ProgressStyleModel",
      "state": {
       "_model_module": "@jupyter-widgets/controls",
       "_model_module_version": "1.5.0",
       "_model_name": "ProgressStyleModel",
       "_view_count": null,
       "_view_module": "@jupyter-widgets/base",
       "_view_module_version": "1.2.0",
       "_view_name": "StyleView",
       "bar_color": null,
       "description_width": "initial"
      }
     },
     "5a48ea72ca644d5295e314ac14ff6e75": {
      "model_module": "@jupyter-widgets/controls",
      "model_module_version": "1.5.0",
      "model_name": "ProgressStyleModel",
      "state": {
       "_model_module": "@jupyter-widgets/controls",
       "_model_module_version": "1.5.0",
       "_model_name": "ProgressStyleModel",
       "_view_count": null,
       "_view_module": "@jupyter-widgets/base",
       "_view_module_version": "1.2.0",
       "_view_name": "StyleView",
       "bar_color": null,
       "description_width": "initial"
      }
     },
     "62ead63cd8144f4e8900167e71fbd97f": {
      "model_module": "@jupyter-widgets/controls",
      "model_module_version": "1.5.0",
      "model_name": "FloatProgressModel",
      "state": {
       "_dom_classes": [],
       "_model_module": "@jupyter-widgets/controls",
       "_model_module_version": "1.5.0",
       "_model_name": "FloatProgressModel",
       "_view_count": null,
       "_view_module": "@jupyter-widgets/controls",
       "_view_module_version": "1.5.0",
       "_view_name": "ProgressView",
       "bar_style": "success",
       "description": "Epoch: 100%",
       "description_tooltip": null,
       "layout": "IPY_MODEL_2c8f624957ee4500b5d1edfc994d6289",
       "max": 1.0,
       "min": 0.0,
       "orientation": "horizontal",
       "style": "IPY_MODEL_744736b00de3450bbb5c497124466981",
       "value": 1.0
      }
     },
     "6a62ad57e5cf485f9b05f78d5a8718ad": {
      "model_module": "@jupyter-widgets/controls",
      "model_module_version": "1.5.0",
      "model_name": "HTMLModel",
      "state": {
       "_dom_classes": [],
       "_model_module": "@jupyter-widgets/controls",
       "_model_module_version": "1.5.0",
       "_model_name": "HTMLModel",
       "_view_count": null,
       "_view_module": "@jupyter-widgets/controls",
       "_view_module_version": "1.5.0",
       "_view_name": "HTMLView",
       "description": "",
       "description_tooltip": null,
       "layout": "IPY_MODEL_20e389f669db4075ad71c8cb205400ea",
       "placeholder": "​",
       "style": "IPY_MODEL_7e86ae2c2f154180b136c0a141ecc522",
       "value": " 714M/714M [00:37&lt;00:00, 19.0MB/s]"
      }
     },
     "6ba2fbf6983840838806ef40171eee9e": {
      "model_module": "@jupyter-widgets/controls",
      "model_module_version": "1.5.0",
      "model_name": "FloatProgressModel",
      "state": {
       "_dom_classes": [],
       "_model_module": "@jupyter-widgets/controls",
       "_model_module_version": "1.5.0",
       "_model_name": "FloatProgressModel",
       "_view_count": null,
       "_view_module": "@jupyter-widgets/controls",
       "_view_module_version": "1.5.0",
       "_view_name": "ProgressView",
       "bar_style": "success",
       "description": "Downloading: 100%",
       "description_tooltip": null,
       "layout": "IPY_MODEL_346413c141f345b89dcf0c37c35ff574",
       "max": 625.0,
       "min": 0.0,
       "orientation": "horizontal",
       "style": "IPY_MODEL_513d0a520a9d4f52b7568c97622ad9ca",
       "value": 625.0
      }
     },
     "744736b00de3450bbb5c497124466981": {
      "model_module": "@jupyter-widgets/controls",
      "model_module_version": "1.5.0",
      "model_name": "ProgressStyleModel",
      "state": {
       "_model_module": "@jupyter-widgets/controls",
       "_model_module_version": "1.5.0",
       "_model_name": "ProgressStyleModel",
       "_view_count": null,
       "_view_module": "@jupyter-widgets/base",
       "_view_module_version": "1.2.0",
       "_view_name": "StyleView",
       "bar_color": null,
       "description_width": "initial"
      }
     },
     "79cebe63e85645d1b9498bb345ee0e04": {
      "model_module": "@jupyter-widgets/base",
      "model_module_version": "1.2.0",
      "model_name": "LayoutModel",
      "state": {
       "_model_module": "@jupyter-widgets/base",
       "_model_module_version": "1.2.0",
       "_model_name": "LayoutModel",
       "_view_count": null,
       "_view_module": "@jupyter-widgets/base",
       "_view_module_version": "1.2.0",
       "_view_name": "LayoutView",
       "align_content": null,
       "align_items": null,
       "align_self": null,
       "border": null,
       "bottom": null,
       "display": null,
       "flex": null,
       "flex_flow": null,
       "grid_area": null,
       "grid_auto_columns": null,
       "grid_auto_flow": null,
       "grid_auto_rows": null,
       "grid_column": null,
       "grid_gap": null,
       "grid_row": null,
       "grid_template_areas": null,
       "grid_template_columns": null,
       "grid_template_rows": null,
       "height": null,
       "justify_content": null,
       "justify_items": null,
       "left": null,
       "margin": null,
       "max_height": null,
       "max_width": null,
       "min_height": null,
       "min_width": null,
       "object_fit": null,
       "object_position": null,
       "order": null,
       "overflow": null,
       "overflow_x": null,
       "overflow_y": null,
       "padding": null,
       "right": null,
       "top": null,
       "visibility": null,
       "width": null
      }
     },
     "7b5c2ba4be8a401eb1ade5fa83555d71": {
      "model_module": "@jupyter-widgets/controls",
      "model_module_version": "1.5.0",
      "model_name": "HBoxModel",
      "state": {
       "_dom_classes": [],
       "_model_module": "@jupyter-widgets/controls",
       "_model_module_version": "1.5.0",
       "_model_name": "HBoxModel",
       "_view_count": null,
       "_view_module": "@jupyter-widgets/controls",
       "_view_module_version": "1.5.0",
       "_view_name": "HBoxView",
       "box_style": "",
       "children": [
        "IPY_MODEL_dd39f660391940ecb1628a783deb6be3",
        "IPY_MODEL_9ca84ae4558b44bb9d7535d251df1e09"
       ],
       "layout": "IPY_MODEL_f9ae0b52e0ab4556a8f6be1f8f070e74"
      }
     },
     "7e86ae2c2f154180b136c0a141ecc522": {
      "model_module": "@jupyter-widgets/controls",
      "model_module_version": "1.5.0",
      "model_name": "DescriptionStyleModel",
      "state": {
       "_model_module": "@jupyter-widgets/controls",
       "_model_module_version": "1.5.0",
       "_model_name": "DescriptionStyleModel",
       "_view_count": null,
       "_view_module": "@jupyter-widgets/base",
       "_view_module_version": "1.2.0",
       "_view_name": "StyleView",
       "description_width": ""
      }
     },
     "8642ba6cb7f94293b4378c5c44d56933": {
      "model_module": "@jupyter-widgets/controls",
      "model_module_version": "1.5.0",
      "model_name": "HTMLModel",
      "state": {
       "_dom_classes": [],
       "_model_module": "@jupyter-widgets/controls",
       "_model_module_version": "1.5.0",
       "_model_name": "HTMLModel",
       "_view_count": null,
       "_view_module": "@jupyter-widgets/controls",
       "_view_module_version": "1.5.0",
       "_view_name": "HTMLView",
       "description": "",
       "description_tooltip": null,
       "layout": "IPY_MODEL_a427c1a279ad4d3eae9ae4117c31ab79",
       "placeholder": "​",
       "style": "IPY_MODEL_8f5c6220ae484fe6bf2c561f25dc4f27",
       "value": " 1/1 [3:06:00&lt;00:00, 11160.62s/it]"
      }
     },
     "8f5c6220ae484fe6bf2c561f25dc4f27": {
      "model_module": "@jupyter-widgets/controls",
      "model_module_version": "1.5.0",
      "model_name": "DescriptionStyleModel",
      "state": {
       "_model_module": "@jupyter-widgets/controls",
       "_model_module_version": "1.5.0",
       "_model_name": "DescriptionStyleModel",
       "_view_count": null,
       "_view_module": "@jupyter-widgets/base",
       "_view_module_version": "1.2.0",
       "_view_name": "StyleView",
       "description_width": ""
      }
     },
     "8ff66f8b83024886931be4ca97bf876a": {
      "model_module": "@jupyter-widgets/controls",
      "model_module_version": "1.5.0",
      "model_name": "DescriptionStyleModel",
      "state": {
       "_model_module": "@jupyter-widgets/controls",
       "_model_module_version": "1.5.0",
       "_model_name": "DescriptionStyleModel",
       "_view_count": null,
       "_view_module": "@jupyter-widgets/base",
       "_view_module_version": "1.2.0",
       "_view_name": "StyleView",
       "description_width": ""
      }
     },
     "9ca84ae4558b44bb9d7535d251df1e09": {
      "model_module": "@jupyter-widgets/controls",
      "model_module_version": "1.5.0",
      "model_name": "HTMLModel",
      "state": {
       "_dom_classes": [],
       "_model_module": "@jupyter-widgets/controls",
       "_model_module_version": "1.5.0",
       "_model_name": "HTMLModel",
       "_view_count": null,
       "_view_module": "@jupyter-widgets/controls",
       "_view_module_version": "1.5.0",
       "_view_name": "HTMLView",
       "description": "",
       "description_tooltip": null,
       "layout": "IPY_MODEL_b10d065582884c33b1ce19ca806d4ea5",
       "placeholder": "​",
       "style": "IPY_MODEL_31839a6d412f47a8b4f4b200c308371a",
       "value": " 996k/996k [00:45&lt;00:00, 22.0kB/s]"
      }
     },
     "a427c1a279ad4d3eae9ae4117c31ab79": {
      "model_module": "@jupyter-widgets/base",
      "model_module_version": "1.2.0",
      "model_name": "LayoutModel",
      "state": {
       "_model_module": "@jupyter-widgets/base",
       "_model_module_version": "1.2.0",
       "_model_name": "LayoutModel",
       "_view_count": null,
       "_view_module": "@jupyter-widgets/base",
       "_view_module_version": "1.2.0",
       "_view_name": "LayoutView",
       "align_content": null,
       "align_items": null,
       "align_self": null,
       "border": null,
       "bottom": null,
       "display": null,
       "flex": null,
       "flex_flow": null,
       "grid_area": null,
       "grid_auto_columns": null,
       "grid_auto_flow": null,
       "grid_auto_rows": null,
       "grid_column": null,
       "grid_gap": null,
       "grid_row": null,
       "grid_template_areas": null,
       "grid_template_columns": null,
       "grid_template_rows": null,
       "height": null,
       "justify_content": null,
       "justify_items": null,
       "left": null,
       "margin": null,
       "max_height": null,
       "max_width": null,
       "min_height": null,
       "min_width": null,
       "object_fit": null,
       "object_position": null,
       "order": null,
       "overflow": null,
       "overflow_x": null,
       "overflow_y": null,
       "padding": null,
       "right": null,
       "top": null,
       "visibility": null,
       "width": null
      }
     },
     "aff4cdf32fee46da8cdcb21264347bb0": {
      "model_module": "@jupyter-widgets/controls",
      "model_module_version": "1.5.0",
      "model_name": "HTMLModel",
      "state": {
       "_dom_classes": [],
       "_model_module": "@jupyter-widgets/controls",
       "_model_module_version": "1.5.0",
       "_model_name": "HTMLModel",
       "_view_count": null,
       "_view_module": "@jupyter-widgets/controls",
       "_view_module_version": "1.5.0",
       "_view_name": "HTMLView",
       "description": "",
       "description_tooltip": null,
       "layout": "IPY_MODEL_ea1f22339e304da2b56030d00c88aa3b",
       "placeholder": "​",
       "style": "IPY_MODEL_8ff66f8b83024886931be4ca97bf876a",
       "value": " 625/625 [00:38&lt;00:00, 16.1B/s]"
      }
     },
     "b10d065582884c33b1ce19ca806d4ea5": {
      "model_module": "@jupyter-widgets/base",
      "model_module_version": "1.2.0",
      "model_name": "LayoutModel",
      "state": {
       "_model_module": "@jupyter-widgets/base",
       "_model_module_version": "1.2.0",
       "_model_name": "LayoutModel",
       "_view_count": null,
       "_view_module": "@jupyter-widgets/base",
       "_view_module_version": "1.2.0",
       "_view_name": "LayoutView",
       "align_content": null,
       "align_items": null,
       "align_self": null,
       "border": null,
       "bottom": null,
       "display": null,
       "flex": null,
       "flex_flow": null,
       "grid_area": null,
       "grid_auto_columns": null,
       "grid_auto_flow": null,
       "grid_auto_rows": null,
       "grid_column": null,
       "grid_gap": null,
       "grid_row": null,
       "grid_template_areas": null,
       "grid_template_columns": null,
       "grid_template_rows": null,
       "height": null,
       "justify_content": null,
       "justify_items": null,
       "left": null,
       "margin": null,
       "max_height": null,
       "max_width": null,
       "min_height": null,
       "min_width": null,
       "object_fit": null,
       "object_position": null,
       "order": null,
       "overflow": null,
       "overflow_x": null,
       "overflow_y": null,
       "padding": null,
       "right": null,
       "top": null,
       "visibility": null,
       "width": null
      }
     },
     "b4058d5e9ffe445db24315a31eeebbf6": {
      "model_module": "@jupyter-widgets/base",
      "model_module_version": "1.2.0",
      "model_name": "LayoutModel",
      "state": {
       "_model_module": "@jupyter-widgets/base",
       "_model_module_version": "1.2.0",
       "_model_name": "LayoutModel",
       "_view_count": null,
       "_view_module": "@jupyter-widgets/base",
       "_view_module_version": "1.2.0",
       "_view_name": "LayoutView",
       "align_content": null,
       "align_items": null,
       "align_self": null,
       "border": null,
       "bottom": null,
       "display": null,
       "flex": null,
       "flex_flow": null,
       "grid_area": null,
       "grid_auto_columns": null,
       "grid_auto_flow": null,
       "grid_auto_rows": null,
       "grid_column": null,
       "grid_gap": null,
       "grid_row": null,
       "grid_template_areas": null,
       "grid_template_columns": null,
       "grid_template_rows": null,
       "height": null,
       "justify_content": null,
       "justify_items": null,
       "left": null,
       "margin": null,
       "max_height": null,
       "max_width": null,
       "min_height": null,
       "min_width": null,
       "object_fit": null,
       "object_position": null,
       "order": null,
       "overflow": null,
       "overflow_x": null,
       "overflow_y": null,
       "padding": null,
       "right": null,
       "top": null,
       "visibility": null,
       "width": null
      }
     },
     "ce58329574ac4a1c8d9b24ec41d56992": {
      "model_module": "@jupyter-widgets/controls",
      "model_module_version": "1.5.0",
      "model_name": "HTMLModel",
      "state": {
       "_dom_classes": [],
       "_model_module": "@jupyter-widgets/controls",
       "_model_module_version": "1.5.0",
       "_model_name": "HTMLModel",
       "_view_count": null,
       "_view_module": "@jupyter-widgets/controls",
       "_view_module_version": "1.5.0",
       "_view_name": "HTMLView",
       "description": "",
       "description_tooltip": null,
       "layout": "IPY_MODEL_1c9597fb52e44b19b951fd6b930013fc",
       "placeholder": "​",
       "style": "IPY_MODEL_eb6da30cf2a94d1b9c0a024088e4686f",
       "value": " 37562/37562 [3:06:00&lt;00:00,  3.37it/s]"
      }
     },
     "dd39f660391940ecb1628a783deb6be3": {
      "model_module": "@jupyter-widgets/controls",
      "model_module_version": "1.5.0",
      "model_name": "FloatProgressModel",
      "state": {
       "_dom_classes": [],
       "_model_module": "@jupyter-widgets/controls",
       "_model_module_version": "1.5.0",
       "_model_name": "FloatProgressModel",
       "_view_count": null,
       "_view_module": "@jupyter-widgets/controls",
       "_view_module_version": "1.5.0",
       "_view_name": "ProgressView",
       "bar_style": "success",
       "description": "Downloading: 100%",
       "description_tooltip": null,
       "layout": "IPY_MODEL_3ba3f2e38827416abc78c6bfe1eb39be",
       "max": 995526.0,
       "min": 0.0,
       "orientation": "horizontal",
       "style": "IPY_MODEL_5a48ea72ca644d5295e314ac14ff6e75",
       "value": 995526.0
      }
     },
     "e82b1bc1338442b6922f9fd068d6d885": {
      "model_module": "@jupyter-widgets/base",
      "model_module_version": "1.2.0",
      "model_name": "LayoutModel",
      "state": {
       "_model_module": "@jupyter-widgets/base",
       "_model_module_version": "1.2.0",
       "_model_name": "LayoutModel",
       "_view_count": null,
       "_view_module": "@jupyter-widgets/base",
       "_view_module_version": "1.2.0",
       "_view_name": "LayoutView",
       "align_content": null,
       "align_items": null,
       "align_self": null,
       "border": null,
       "bottom": null,
       "display": null,
       "flex": null,
       "flex_flow": null,
       "grid_area": null,
       "grid_auto_columns": null,
       "grid_auto_flow": null,
       "grid_auto_rows": null,
       "grid_column": null,
       "grid_gap": null,
       "grid_row": null,
       "grid_template_areas": null,
       "grid_template_columns": null,
       "grid_template_rows": null,
       "height": null,
       "justify_content": null,
       "justify_items": null,
       "left": null,
       "margin": null,
       "max_height": null,
       "max_width": null,
       "min_height": null,
       "min_width": null,
       "object_fit": null,
       "object_position": null,
       "order": null,
       "overflow": null,
       "overflow_x": null,
       "overflow_y": null,
       "padding": null,
       "right": null,
       "top": null,
       "visibility": null,
       "width": null
      }
     },
     "ea1f22339e304da2b56030d00c88aa3b": {
      "model_module": "@jupyter-widgets/base",
      "model_module_version": "1.2.0",
      "model_name": "LayoutModel",
      "state": {
       "_model_module": "@jupyter-widgets/base",
       "_model_module_version": "1.2.0",
       "_model_name": "LayoutModel",
       "_view_count": null,
       "_view_module": "@jupyter-widgets/base",
       "_view_module_version": "1.2.0",
       "_view_name": "LayoutView",
       "align_content": null,
       "align_items": null,
       "align_self": null,
       "border": null,
       "bottom": null,
       "display": null,
       "flex": null,
       "flex_flow": null,
       "grid_area": null,
       "grid_auto_columns": null,
       "grid_auto_flow": null,
       "grid_auto_rows": null,
       "grid_column": null,
       "grid_gap": null,
       "grid_row": null,
       "grid_template_areas": null,
       "grid_template_columns": null,
       "grid_template_rows": null,
       "height": null,
       "justify_content": null,
       "justify_items": null,
       "left": null,
       "margin": null,
       "max_height": null,
       "max_width": null,
       "min_height": null,
       "min_width": null,
       "object_fit": null,
       "object_position": null,
       "order": null,
       "overflow": null,
       "overflow_x": null,
       "overflow_y": null,
       "padding": null,
       "right": null,
       "top": null,
       "visibility": null,
       "width": null
      }
     },
     "eac90fd414784651876c1477cf84f34f": {
      "model_module": "@jupyter-widgets/base",
      "model_module_version": "1.2.0",
      "model_name": "LayoutModel",
      "state": {
       "_model_module": "@jupyter-widgets/base",
       "_model_module_version": "1.2.0",
       "_model_name": "LayoutModel",
       "_view_count": null,
       "_view_module": "@jupyter-widgets/base",
       "_view_module_version": "1.2.0",
       "_view_name": "LayoutView",
       "align_content": null,
       "align_items": null,
       "align_self": null,
       "border": null,
       "bottom": null,
       "display": null,
       "flex": null,
       "flex_flow": null,
       "grid_area": null,
       "grid_auto_columns": null,
       "grid_auto_flow": null,
       "grid_auto_rows": null,
       "grid_column": null,
       "grid_gap": null,
       "grid_row": null,
       "grid_template_areas": null,
       "grid_template_columns": null,
       "grid_template_rows": null,
       "height": null,
       "justify_content": null,
       "justify_items": null,
       "left": null,
       "margin": null,
       "max_height": null,
       "max_width": null,
       "min_height": null,
       "min_width": null,
       "object_fit": null,
       "object_position": null,
       "order": null,
       "overflow": null,
       "overflow_x": null,
       "overflow_y": null,
       "padding": null,
       "right": null,
       "top": null,
       "visibility": null,
       "width": null
      }
     },
     "eb6da30cf2a94d1b9c0a024088e4686f": {
      "model_module": "@jupyter-widgets/controls",
      "model_module_version": "1.5.0",
      "model_name": "DescriptionStyleModel",
      "state": {
       "_model_module": "@jupyter-widgets/controls",
       "_model_module_version": "1.5.0",
       "_model_name": "DescriptionStyleModel",
       "_view_count": null,
       "_view_module": "@jupyter-widgets/base",
       "_view_module_version": "1.2.0",
       "_view_name": "StyleView",
       "description_width": ""
      }
     },
     "f9ae0b52e0ab4556a8f6be1f8f070e74": {
      "model_module": "@jupyter-widgets/base",
      "model_module_version": "1.2.0",
      "model_name": "LayoutModel",
      "state": {
       "_model_module": "@jupyter-widgets/base",
       "_model_module_version": "1.2.0",
       "_model_name": "LayoutModel",
       "_view_count": null,
       "_view_module": "@jupyter-widgets/base",
       "_view_module_version": "1.2.0",
       "_view_name": "LayoutView",
       "align_content": null,
       "align_items": null,
       "align_self": null,
       "border": null,
       "bottom": null,
       "display": null,
       "flex": null,
       "flex_flow": null,
       "grid_area": null,
       "grid_auto_columns": null,
       "grid_auto_flow": null,
       "grid_auto_rows": null,
       "grid_column": null,
       "grid_gap": null,
       "grid_row": null,
       "grid_template_areas": null,
       "grid_template_columns": null,
       "grid_template_rows": null,
       "height": null,
       "justify_content": null,
       "justify_items": null,
       "left": null,
       "margin": null,
       "max_height": null,
       "max_width": null,
       "min_height": null,
       "min_width": null,
       "object_fit": null,
       "object_position": null,
       "order": null,
       "overflow": null,
       "overflow_x": null,
       "overflow_y": null,
       "padding": null,
       "right": null,
       "top": null,
       "visibility": null,
       "width": null
      }
     },
     "fd9d9dcadb1a431ca8674917f4065106": {
      "model_module": "@jupyter-widgets/controls",
      "model_module_version": "1.5.0",
      "model_name": "HBoxModel",
      "state": {
       "_dom_classes": [],
       "_model_module": "@jupyter-widgets/controls",
       "_model_module_version": "1.5.0",
       "_model_name": "HBoxModel",
       "_view_count": null,
       "_view_module": "@jupyter-widgets/controls",
       "_view_module_version": "1.5.0",
       "_view_name": "HBoxView",
       "box_style": "",
       "children": [
        "IPY_MODEL_6ba2fbf6983840838806ef40171eee9e",
        "IPY_MODEL_aff4cdf32fee46da8cdcb21264347bb0"
       ],
       "layout": "IPY_MODEL_79cebe63e85645d1b9498bb345ee0e04"
      }
     }
    },
    "version_major": 2,
    "version_minor": 0
   }
  }
 },
 "nbformat": 4,
 "nbformat_minor": 4
}
