{
 "cells": [
  {
   "cell_type": "markdown",
   "metadata": {
    "papermill": {
     "duration": 0.011506,
     "end_time": "2020-12-22T21:05:08.998468",
     "exception": false,
     "start_time": "2020-12-22T21:05:08.986962",
     "status": "completed"
    },
    "tags": []
   },
   "source": [
    "# Preliminaries\n",
    "\n",
    "Write requirements to file, anytime you run it, in case you have to go back and recover dependencies.\n",
    "\n",
    "Requirements are hosted for each notebook in the companion github repo, and can be pulled down and installed here if needed. Companion github repo is located at https://github.com/azunre/transfer-learning-for-nlp"
   ]
  },
  {
   "cell_type": "code",
   "execution_count": 1,
   "metadata": {
    "execution": {
     "iopub.execute_input": "2020-12-22T21:05:09.023914Z",
     "iopub.status.busy": "2020-12-22T21:05:09.023213Z",
     "iopub.status.idle": "2020-12-22T21:05:09.670140Z",
     "shell.execute_reply": "2020-12-22T21:05:09.669540Z"
    },
    "papermill": {
     "duration": 0.661314,
     "end_time": "2020-12-22T21:05:09.670266",
     "exception": false,
     "start_time": "2020-12-22T21:05:09.008952",
     "status": "completed"
    },
    "tags": []
   },
   "outputs": [
    {
     "name": "stdout",
     "output_type": "stream",
     "text": [
      "../input/jw300entw/jw300.en-tw.en\r\n"
     ]
    }
   ],
   "source": [
    "!ls ../input/jw300entw/jw300.en-tw.en"
   ]
  },
  {
   "cell_type": "code",
   "execution_count": 2,
   "metadata": {
    "_cell_guid": "b1076dfc-b9ad-4769-8c92-a6c4dae69d19",
    "_uuid": "8f2839f25d086af736a60e9eeb907d3b93b6e0e5",
    "execution": {
     "iopub.execute_input": "2020-12-22T21:05:09.700299Z",
     "iopub.status.busy": "2020-12-22T21:05:09.697598Z",
     "iopub.status.idle": "2020-12-22T21:05:11.515890Z",
     "shell.execute_reply": "2020-12-22T21:05:11.515382Z"
    },
    "papermill": {
     "duration": 1.83364,
     "end_time": "2020-12-22T21:05:11.515989",
     "exception": false,
     "start_time": "2020-12-22T21:05:09.682349",
     "status": "completed"
    },
    "tags": []
   },
   "outputs": [],
   "source": [
    "!pip freeze > kaggle_image_requirements.txt"
   ]
  },
  {
   "cell_type": "markdown",
   "metadata": {
    "papermill": {
     "duration": 0.010637,
     "end_time": "2020-12-22T21:05:11.538308",
     "exception": false,
     "start_time": "2020-12-22T21:05:11.527671",
     "status": "completed"
    },
    "tags": []
   },
   "source": [
    "# Train Twi Tokenizer From Scratch"
   ]
  },
  {
   "cell_type": "code",
   "execution_count": 3,
   "metadata": {
    "execution": {
     "iopub.execute_input": "2020-12-22T21:05:11.564367Z",
     "iopub.status.busy": "2020-12-22T21:05:11.563812Z",
     "iopub.status.idle": "2020-12-22T21:05:11.597081Z",
     "shell.execute_reply": "2020-12-22T21:05:11.596628Z"
    },
    "papermill": {
     "duration": 0.047829,
     "end_time": "2020-12-22T21:05:11.597203",
     "exception": false,
     "start_time": "2020-12-22T21:05:11.549374",
     "status": "completed"
    },
    "tags": []
   },
   "outputs": [],
   "source": [
    "from tokenizers import BertWordPieceTokenizer"
   ]
  },
  {
   "cell_type": "code",
   "execution_count": 4,
   "metadata": {
    "execution": {
     "iopub.execute_input": "2020-12-22T21:05:11.630656Z",
     "iopub.status.busy": "2020-12-22T21:05:11.629931Z",
     "iopub.status.idle": "2020-12-22T21:05:11.632801Z",
     "shell.execute_reply": "2020-12-22T21:05:11.632379Z"
    },
    "papermill": {
     "duration": 0.024329,
     "end_time": "2020-12-22T21:05:11.632889",
     "exception": false,
     "start_time": "2020-12-22T21:05:11.608560",
     "status": "completed"
    },
    "tags": []
   },
   "outputs": [],
   "source": [
    "paths = ['../input/jw300entw/jw300.en-tw.tw']\n",
    "\n",
    "tokenizer = BertWordPieceTokenizer() # Initialize a tokenizer"
   ]
  },
  {
   "cell_type": "code",
   "execution_count": 5,
   "metadata": {
    "execution": {
     "iopub.execute_input": "2020-12-22T21:05:39.984622Z",
     "iopub.status.busy": "2020-12-22T21:05:39.983444Z",
     "iopub.status.idle": "2020-12-22T21:05:40.629339Z",
     "shell.execute_reply": "2020-12-22T21:05:40.628277Z"
    },
    "papermill": {
     "duration": 28.984997,
     "end_time": "2020-12-22T21:05:40.629452",
     "exception": false,
     "start_time": "2020-12-22T21:05:11.644455",
     "status": "completed"
    },
    "tags": []
   },
   "outputs": [
    {
     "data": {
      "text/plain": [
       "['twibert/vocab.txt']"
      ]
     },
     "execution_count": 5,
     "metadata": {},
     "output_type": "execute_result"
    }
   ],
   "source": [
    "# Customize training and carry it out\n",
    "tokenizer.train(\n",
    "    paths,\n",
    "    vocab_size=10000,\n",
    "    min_frequency=2,\n",
    "    show_progress=True,\n",
    "    special_tokens=[\"[PAD]\", \"[UNK]\", \"[CLS]\", \"[SEP]\", \"[MASK]\"], # standard BERT special tokens\n",
    "    limit_alphabet=1000,\n",
    "    wordpieces_prefix=\"##\",\n",
    ")\n",
    "\n",
    "# Save tokenizer to disk\n",
    "!mkdir twibert\n",
    "tokenizer.save(\"twibert\")"
   ]
  },
  {
   "cell_type": "markdown",
   "metadata": {
    "papermill": {
     "duration": 0.011413,
     "end_time": "2020-12-22T21:05:40.652785",
     "exception": false,
     "start_time": "2020-12-22T21:05:40.641372",
     "status": "completed"
    },
    "tags": []
   },
   "source": [
    "# Fine-tune mBERT on Monolongual Twi Data (w. Twi Tokenizer Trained From Scratch)\n",
    "\n",
    "To load the tokenizer from what we just saved, we just need to execute the following. Note that we use a maximum sequence length of 512 to be consistent with the previous subsection – this is what the pre-trained mBERT uses as well."
   ]
  },
  {
   "cell_type": "code",
   "execution_count": 6,
   "metadata": {
    "_cell_guid": "79c7e3d0-c299-4dcb-8224-4455121ee9b0",
    "_uuid": "d629ff2d2480ee46fbb7e2d37f6b5fab8052498a",
    "execution": {
     "iopub.execute_input": "2020-12-22T21:05:40.679867Z",
     "iopub.status.busy": "2020-12-22T21:05:40.679314Z",
     "iopub.status.idle": "2020-12-22T21:05:47.701685Z",
     "shell.execute_reply": "2020-12-22T21:05:47.700786Z"
    },
    "papermill": {
     "duration": 7.037673,
     "end_time": "2020-12-22T21:05:47.701853",
     "exception": false,
     "start_time": "2020-12-22T21:05:40.664180",
     "status": "completed"
    },
    "tags": []
   },
   "outputs": [
    {
     "name": "stderr",
     "output_type": "stream",
     "text": [
      "\u001b[34m\u001b[1mwandb\u001b[0m: \u001b[33mWARNING\u001b[0m W&B installed but not logged in.  Run `wandb login` or set the WANDB_API_KEY env variable.\n"
     ]
    }
   ],
   "source": [
    "from transformers import BertTokenizerFast"
   ]
  },
  {
   "cell_type": "code",
   "execution_count": 7,
   "metadata": {
    "execution": {
     "iopub.execute_input": "2020-12-22T21:05:47.753405Z",
     "iopub.status.busy": "2020-12-22T21:05:47.751463Z",
     "iopub.status.idle": "2020-12-22T21:05:47.777249Z",
     "shell.execute_reply": "2020-12-22T21:05:47.783140Z"
    },
    "papermill": {
     "duration": 0.058589,
     "end_time": "2020-12-22T21:05:47.783362",
     "exception": false,
     "start_time": "2020-12-22T21:05:47.724773",
     "status": "completed"
    },
    "tags": []
   },
   "outputs": [
    {
     "name": "stderr",
     "output_type": "stream",
     "text": [
      "/opt/conda/lib/python3.7/site-packages/transformers/tokenization_utils.py:831: FutureWarning: Parameter max_len is deprecated and will be removed in a future release. Use model_max_length instead.\n",
      "  category=FutureWarning,\n"
     ]
    }
   ],
   "source": [
    "tokenizer = BertTokenizerFast.from_pretrained(\"twibert\", max_len=512) #  use the language-specific tokenizer we just trained"
   ]
  },
  {
   "cell_type": "code",
   "execution_count": 8,
   "metadata": {
    "execution": {
     "iopub.execute_input": "2020-12-22T21:05:47.838070Z",
     "iopub.status.busy": "2020-12-22T21:05:47.837479Z",
     "iopub.status.idle": "2020-12-22T21:05:51.365413Z",
     "shell.execute_reply": "2020-12-22T21:05:51.364765Z"
    },
    "papermill": {
     "duration": 3.557095,
     "end_time": "2020-12-22T21:05:51.365549",
     "exception": false,
     "start_time": "2020-12-22T21:05:47.808454",
     "status": "completed"
    },
    "tags": []
   },
   "outputs": [
    {
     "name": "stdout",
     "output_type": "stream",
     "text": [
      "Number of parameters in mBERT model:\n",
      "110104890\n"
     ]
    }
   ],
   "source": [
    "from transformers import BertForMaskedLM, BertConfig\n",
    "\n",
    "model = BertForMaskedLM(BertConfig()) # Don't initialize to pretrained, create a fresh one\n",
    "\n",
    "print(\"Number of parameters in mBERT model:\")\n",
    "print(model.num_parameters())"
   ]
  },
  {
   "cell_type": "markdown",
   "metadata": {
    "papermill": {
     "duration": 0.012545,
     "end_time": "2020-12-22T21:05:51.391401",
     "exception": false,
     "start_time": "2020-12-22T21:05:51.378856",
     "status": "completed"
    },
    "tags": []
   },
   "source": [
    "From here, the steps are the same as 5.4.2 - https://www.kaggle.com/azunre/tl-for-nlp-section5-4-3"
   ]
  },
  {
   "cell_type": "code",
   "execution_count": 9,
   "metadata": {
    "execution": {
     "iopub.execute_input": "2020-12-22T21:05:51.421168Z",
     "iopub.status.busy": "2020-12-22T21:05:51.420583Z",
     "iopub.status.idle": "2020-12-22T21:06:30.605053Z",
     "shell.execute_reply": "2020-12-22T21:06:30.604344Z"
    },
    "papermill": {
     "duration": 39.201185,
     "end_time": "2020-12-22T21:06:30.605199",
     "exception": false,
     "start_time": "2020-12-22T21:05:51.404014",
     "status": "completed"
    },
    "tags": []
   },
   "outputs": [],
   "source": [
    "from transformers import LineByLineTextDataset\n",
    "\n",
    "dataset = LineByLineTextDataset(\n",
    "    tokenizer=tokenizer,\n",
    "    file_path=\"../input/jw300entw/jw300.en-tw.tw\",\n",
    "    block_size=128,\n",
    ")"
   ]
  },
  {
   "cell_type": "code",
   "execution_count": 10,
   "metadata": {
    "execution": {
     "iopub.execute_input": "2020-12-22T21:06:30.637136Z",
     "iopub.status.busy": "2020-12-22T21:06:30.636464Z",
     "iopub.status.idle": "2020-12-22T21:06:30.639761Z",
     "shell.execute_reply": "2020-12-22T21:06:30.639261Z"
    },
    "papermill": {
     "duration": 0.021384,
     "end_time": "2020-12-22T21:06:30.639866",
     "exception": false,
     "start_time": "2020-12-22T21:06:30.618482",
     "status": "completed"
    },
    "tags": []
   },
   "outputs": [],
   "source": [
    "from transformers import DataCollatorForLanguageModeling\n",
    "\n",
    "data_collator = DataCollatorForLanguageModeling(\n",
    "    tokenizer=tokenizer,\n",
    "    mlm=True, mlm_probability=0.15\n",
    ")"
   ]
  },
  {
   "cell_type": "code",
   "execution_count": 11,
   "metadata": {
    "execution": {
     "iopub.execute_input": "2020-12-22T21:06:30.670515Z",
     "iopub.status.busy": "2020-12-22T21:06:30.669820Z",
     "iopub.status.idle": "2020-12-22T21:06:30.672218Z",
     "shell.execute_reply": "2020-12-22T21:06:30.672715Z"
    },
    "papermill": {
     "duration": 0.019989,
     "end_time": "2020-12-22T21:06:30.672811",
     "exception": false,
     "start_time": "2020-12-22T21:06:30.652822",
     "status": "completed"
    },
    "tags": []
   },
   "outputs": [],
   "source": [
    "from transformers import Trainer, TrainingArguments\n",
    "\n",
    "training_args = TrainingArguments(\n",
    "    output_dir=\"twimbert\",\n",
    "    overwrite_output_dir=True,\n",
    "    num_train_epochs=2, # how about 2 epochs?\n",
    "    per_gpu_train_batch_size=16,\n",
    "    save_total_limit=1,\n",
    ")"
   ]
  },
  {
   "cell_type": "code",
   "execution_count": 12,
   "metadata": {
    "execution": {
     "iopub.execute_input": "2020-12-22T21:06:31.062391Z",
     "iopub.status.busy": "2020-12-22T21:06:31.056533Z",
     "iopub.status.idle": "2020-12-22T21:06:36.512176Z",
     "shell.execute_reply": "2020-12-22T21:06:36.510746Z"
    },
    "papermill": {
     "duration": 5.826219,
     "end_time": "2020-12-22T21:06:36.512286",
     "exception": false,
     "start_time": "2020-12-22T21:06:30.686067",
     "status": "completed"
    },
    "tags": []
   },
   "outputs": [],
   "source": [
    "trainer = Trainer(\n",
    "    model=model,\n",
    "    args=training_args,\n",
    "    data_collator=data_collator,\n",
    "    train_dataset=dataset,\n",
    "    prediction_loss_only=True,\n",
    ")"
   ]
  },
  {
   "cell_type": "code",
   "execution_count": 13,
   "metadata": {
    "execution": {
     "iopub.execute_input": "2020-12-22T21:06:36.546642Z",
     "iopub.status.busy": "2020-12-22T21:06:36.546039Z",
     "iopub.status.idle": "2020-12-22T23:59:55.539513Z",
     "shell.execute_reply": "2020-12-22T23:59:55.539916Z"
    },
    "papermill": {
     "duration": 10399.014539,
     "end_time": "2020-12-22T23:59:55.540071",
     "exception": false,
     "start_time": "2020-12-22T21:06:36.525532",
     "status": "completed"
    },
    "tags": []
   },
   "outputs": [
    {
     "data": {
      "application/vnd.jupyter.widget-view+json": {
       "model_id": "8ff79610f6a14e318bab04f9dbda9083",
       "version_major": 2,
       "version_minor": 0
      },
      "text/plain": [
       "HBox(children=(FloatProgress(value=0.0, description='Epoch', max=2.0, style=ProgressStyle(description_width='i…"
      ]
     },
     "metadata": {},
     "output_type": "display_data"
    },
    {
     "data": {
      "application/vnd.jupyter.widget-view+json": {
       "model_id": "299ffd03d7e949168530227a7c6ceec5",
       "version_major": 2,
       "version_minor": 0
      },
      "text/plain": [
       "HBox(children=(FloatProgress(value=0.0, description='Iteration', max=37562.0, style=ProgressStyle(description_…"
      ]
     },
     "metadata": {},
     "output_type": "display_data"
    },
    {
     "name": "stdout",
     "output_type": "stream",
     "text": [
      "{\"loss\": 6.3489798774719235, \"learning_rate\": 4.966721686811139e-05, \"epoch\": 0.013311325275544433, \"step\": 500}\n"
     ]
    },
    {
     "name": "stderr",
     "output_type": "stream",
     "text": [
      "/opt/conda/lib/python3.7/site-packages/torch/optim/lr_scheduler.py:200: UserWarning: Please also save or load the state of the optimzer when saving or loading the scheduler.\n",
      "  warnings.warn(SAVE_STATE_WARNING, UserWarning)\n"
     ]
    },
    {
     "name": "stdout",
     "output_type": "stream",
     "text": [
      "{\"loss\": 5.609932363510132, \"learning_rate\": 4.933443373622278e-05, \"epoch\": 0.026622650551088867, \"step\": 1000}\n",
      "{\"loss\": 5.416386514663697, \"learning_rate\": 4.900165060433417e-05, \"epoch\": 0.0399339758266333, \"step\": 1500}\n",
      "{\"loss\": 5.377104565143585, \"learning_rate\": 4.866886747244556e-05, \"epoch\": 0.05324530110217773, \"step\": 2000}\n",
      "{\"loss\": 5.226606401920319, \"learning_rate\": 4.8336084340556944e-05, \"epoch\": 0.06655662637772217, \"step\": 2500}\n",
      "{\"loss\": 5.202029550552369, \"learning_rate\": 4.800330120866834e-05, \"epoch\": 0.0798679516532666, \"step\": 3000}\n",
      "{\"loss\": 5.124593429565429, \"learning_rate\": 4.767051807677972e-05, \"epoch\": 0.09317927692881103, \"step\": 3500}\n",
      "{\"loss\": 5.082736471652985, \"learning_rate\": 4.7337734944891116e-05, \"epoch\": 0.10649060220435547, \"step\": 4000}\n",
      "{\"loss\": 5.045186289310456, \"learning_rate\": 4.7004951813002505e-05, \"epoch\": 0.1198019274798999, \"step\": 4500}\n",
      "{\"loss\": 4.96710503578186, \"learning_rate\": 4.667216868111389e-05, \"epoch\": 0.13311325275544433, \"step\": 5000}\n",
      "{\"loss\": 4.932729796886444, \"learning_rate\": 4.633938554922528e-05, \"epoch\": 0.14642457803098877, \"step\": 5500}\n",
      "{\"loss\": 4.83906921005249, \"learning_rate\": 4.600660241733668e-05, \"epoch\": 0.1597359033065332, \"step\": 6000}\n",
      "{\"loss\": 4.742014459133149, \"learning_rate\": 4.567381928544806e-05, \"epoch\": 0.17304722858207763, \"step\": 6500}\n",
      "{\"loss\": 4.639869131088257, \"learning_rate\": 4.5341036153559454e-05, \"epoch\": 0.18635855385762207, \"step\": 7000}\n",
      "{\"loss\": 4.549134462356568, \"learning_rate\": 4.5008253021670835e-05, \"epoch\": 0.1996698791331665, \"step\": 7500}\n",
      "{\"loss\": 4.474939692020416, \"learning_rate\": 4.467546988978223e-05, \"epoch\": 0.21298120440871093, \"step\": 8000}\n",
      "{\"loss\": 4.390817903518677, \"learning_rate\": 4.434268675789362e-05, \"epoch\": 0.22629252968425537, \"step\": 8500}\n",
      "{\"loss\": 4.270542023658752, \"learning_rate\": 4.400990362600501e-05, \"epoch\": 0.2396038549597998, \"step\": 9000}\n",
      "{\"loss\": 4.257567012310028, \"learning_rate\": 4.3677120494116396e-05, \"epoch\": 0.2529151802353442, \"step\": 9500}\n",
      "{\"loss\": 4.135355206012726, \"learning_rate\": 4.334433736222779e-05, \"epoch\": 0.26622650551088867, \"step\": 10000}\n",
      "{\"loss\": 4.120576917171478, \"learning_rate\": 4.301155423033917e-05, \"epoch\": 0.2795378307864331, \"step\": 10500}\n",
      "{\"loss\": 4.078830076694489, \"learning_rate\": 4.267877109845057e-05, \"epoch\": 0.29284915606197753, \"step\": 11000}\n",
      "{\"loss\": 3.9801612215042113, \"learning_rate\": 4.234598796656195e-05, \"epoch\": 0.30616048133752194, \"step\": 11500}\n",
      "{\"loss\": 3.94761027431488, \"learning_rate\": 4.2013204834673345e-05, \"epoch\": 0.3194718066130664, \"step\": 12000}\n",
      "{\"loss\": 3.904433972358704, \"learning_rate\": 4.168042170278473e-05, \"epoch\": 0.3327831318886108, \"step\": 12500}\n",
      "{\"loss\": 3.894537416934967, \"learning_rate\": 4.134763857089612e-05, \"epoch\": 0.34609445716415527, \"step\": 13000}\n",
      "{\"loss\": 3.816805161476135, \"learning_rate\": 4.101485543900751e-05, \"epoch\": 0.3594057824396997, \"step\": 13500}\n",
      "{\"loss\": 3.8061192574501037, \"learning_rate\": 4.06820723071189e-05, \"epoch\": 0.37271710771524413, \"step\": 14000}\n",
      "{\"loss\": 3.779903416633606, \"learning_rate\": 4.0349289175230287e-05, \"epoch\": 0.38602843299078854, \"step\": 14500}\n",
      "{\"loss\": 3.742607687950134, \"learning_rate\": 4.0016506043341675e-05, \"epoch\": 0.399339758266333, \"step\": 15000}\n",
      "{\"loss\": 3.6649752159118654, \"learning_rate\": 3.968372291145306e-05, \"epoch\": 0.4126510835418774, \"step\": 15500}\n",
      "{\"loss\": 3.642370985507965, \"learning_rate\": 3.935093977956446e-05, \"epoch\": 0.42596240881742187, \"step\": 16000}\n",
      "{\"loss\": 3.6154189491271973, \"learning_rate\": 3.901815664767585e-05, \"epoch\": 0.4392737340929663, \"step\": 16500}\n",
      "{\"loss\": 3.6161066336631773, \"learning_rate\": 3.8685373515787235e-05, \"epoch\": 0.45258505936851073, \"step\": 17000}\n",
      "{\"loss\": 3.5970927085876463, \"learning_rate\": 3.8352590383898624e-05, \"epoch\": 0.46589638464405514, \"step\": 17500}\n",
      "{\"loss\": 3.523243493318558, \"learning_rate\": 3.801980725201001e-05, \"epoch\": 0.4792077099195996, \"step\": 18000}\n",
      "{\"loss\": 3.5263196568489077, \"learning_rate\": 3.76870241201214e-05, \"epoch\": 0.492519035195144, \"step\": 18500}\n",
      "{\"loss\": 3.5191810982227327, \"learning_rate\": 3.735424098823279e-05, \"epoch\": 0.5058303604706884, \"step\": 19000}\n",
      "{\"loss\": 3.427177813053131, \"learning_rate\": 3.702145785634418e-05, \"epoch\": 0.5191416857462329, \"step\": 19500}\n",
      "{\"loss\": 3.4637766523361204, \"learning_rate\": 3.6688674724455566e-05, \"epoch\": 0.5324530110217773, \"step\": 20000}\n",
      "{\"loss\": 3.451471984386444, \"learning_rate\": 3.635589159256696e-05, \"epoch\": 0.5457643362973218, \"step\": 20500}\n",
      "{\"loss\": 3.3822034888267516, \"learning_rate\": 3.602310846067834e-05, \"epoch\": 0.5590756615728661, \"step\": 21000}\n",
      "{\"loss\": 3.4267545776367188, \"learning_rate\": 3.569032532878974e-05, \"epoch\": 0.5723869868484106, \"step\": 21500}\n",
      "{\"loss\": 3.37837712430954, \"learning_rate\": 3.5357542196901126e-05, \"epoch\": 0.5856983121239551, \"step\": 22000}\n",
      "{\"loss\": 3.354251601457596, \"learning_rate\": 3.5024759065012515e-05, \"epoch\": 0.5990096373994995, \"step\": 22500}\n",
      "{\"loss\": 3.350478805541992, \"learning_rate\": 3.46919759331239e-05, \"epoch\": 0.6123209626750439, \"step\": 23000}\n",
      "{\"loss\": 3.3424687933921815, \"learning_rate\": 3.435919280123529e-05, \"epoch\": 0.6256322879505883, \"step\": 23500}\n",
      "{\"loss\": 3.3110597393512724, \"learning_rate\": 3.402640966934668e-05, \"epoch\": 0.6389436132261328, \"step\": 24000}\n",
      "{\"loss\": 3.305332046508789, \"learning_rate\": 3.3693626537458075e-05, \"epoch\": 0.6522549385016773, \"step\": 24500}\n",
      "{\"loss\": 3.306552484989166, \"learning_rate\": 3.336084340556946e-05, \"epoch\": 0.6655662637772216, \"step\": 25000}\n",
      "{\"loss\": 3.2408442456722257, \"learning_rate\": 3.302806027368085e-05, \"epoch\": 0.6788775890527661, \"step\": 25500}\n",
      "{\"loss\": 3.2287482273578645, \"learning_rate\": 3.269527714179224e-05, \"epoch\": 0.6921889143283105, \"step\": 26000}\n",
      "{\"loss\": 3.2286927714347837, \"learning_rate\": 3.236249400990363e-05, \"epoch\": 0.705500239603855, \"step\": 26500}\n",
      "{\"loss\": 3.236403350353241, \"learning_rate\": 3.202971087801502e-05, \"epoch\": 0.7188115648793993, \"step\": 27000}\n",
      "{\"loss\": 3.186054024934769, \"learning_rate\": 3.1696927746126405e-05, \"epoch\": 0.7321228901549438, \"step\": 27500}\n",
      "{\"loss\": 3.1643665161132812, \"learning_rate\": 3.1364144614237794e-05, \"epoch\": 0.7454342154304883, \"step\": 28000}\n",
      "{\"loss\": 3.159127466440201, \"learning_rate\": 3.103136148234919e-05, \"epoch\": 0.7587455407060327, \"step\": 28500}\n",
      "{\"loss\": 3.1819072613716126, \"learning_rate\": 3.069857835046057e-05, \"epoch\": 0.7720568659815771, \"step\": 29000}\n",
      "{\"loss\": 3.134957430124283, \"learning_rate\": 3.0365795218571962e-05, \"epoch\": 0.7853681912571215, \"step\": 29500}\n",
      "{\"loss\": 3.0845939319133757, \"learning_rate\": 3.0033012086683354e-05, \"epoch\": 0.798679516532666, \"step\": 30000}\n",
      "{\"loss\": 3.120594409227371, \"learning_rate\": 2.970022895479474e-05, \"epoch\": 0.8119908418082105, \"step\": 30500}\n",
      "{\"loss\": 3.090856917619705, \"learning_rate\": 2.936744582290613e-05, \"epoch\": 0.8253021670837548, \"step\": 31000}\n",
      "{\"loss\": 3.1082480781078337, \"learning_rate\": 2.9034662691017516e-05, \"epoch\": 0.8386134923592993, \"step\": 31500}\n",
      "{\"loss\": 3.1001205501556397, \"learning_rate\": 2.8701879559128908e-05, \"epoch\": 0.8519248176348437, \"step\": 32000}\n",
      "{\"loss\": 3.0494387352466585, \"learning_rate\": 2.83690964272403e-05, \"epoch\": 0.8652361429103882, \"step\": 32500}\n",
      "{\"loss\": 3.0241414828300477, \"learning_rate\": 2.8036313295351685e-05, \"epoch\": 0.8785474681859325, \"step\": 33000}\n",
      "{\"loss\": 2.9888855459690093, \"learning_rate\": 2.7703530163463077e-05, \"epoch\": 0.891858793461477, \"step\": 33500}\n",
      "{\"loss\": 2.9820977330207823, \"learning_rate\": 2.737074703157447e-05, \"epoch\": 0.9051701187370215, \"step\": 34000}\n",
      "{\"loss\": 3.0111892886161806, \"learning_rate\": 2.7037963899685853e-05, \"epoch\": 0.9184814440125659, \"step\": 34500}\n",
      "{\"loss\": 2.995892078638077, \"learning_rate\": 2.6705180767797245e-05, \"epoch\": 0.9317927692881103, \"step\": 35000}\n",
      "{\"loss\": 2.98830988907814, \"learning_rate\": 2.637239763590863e-05, \"epoch\": 0.9451040945636547, \"step\": 35500}\n",
      "{\"loss\": 2.9849726972579957, \"learning_rate\": 2.6039614504020022e-05, \"epoch\": 0.9584154198391992, \"step\": 36000}\n",
      "{\"loss\": 2.985113196849823, \"learning_rate\": 2.5706831372131414e-05, \"epoch\": 0.9717267451147437, \"step\": 36500}\n",
      "{\"loss\": 2.9642982714176176, \"learning_rate\": 2.53740482402428e-05, \"epoch\": 0.985038070390288, \"step\": 37000}\n",
      "{\"loss\": 2.944982653617859, \"learning_rate\": 2.504126510835419e-05, \"epoch\": 0.9983493956658325, \"step\": 37500}\n",
      "\n"
     ]
    },
    {
     "data": {
      "application/vnd.jupyter.widget-view+json": {
       "model_id": "5c8ea66355484ea4a7e40f921370f182",
       "version_major": 2,
       "version_minor": 0
      },
      "text/plain": [
       "HBox(children=(FloatProgress(value=0.0, description='Iteration', max=37562.0, style=ProgressStyle(description_…"
      ]
     },
     "metadata": {},
     "output_type": "display_data"
    },
    {
     "name": "stdout",
     "output_type": "stream",
     "text": [
      "{\"loss\": 2.92047173500061, \"learning_rate\": 2.470848197646558e-05, \"epoch\": 1.0116607209413768, \"step\": 38000}\n",
      "{\"loss\": 2.9104557859897615, \"learning_rate\": 2.4375698844576967e-05, \"epoch\": 1.0249720462169214, \"step\": 38500}\n",
      "{\"loss\": 2.9423716962337494, \"learning_rate\": 2.404291571268836e-05, \"epoch\": 1.0382833714924657, \"step\": 39000}\n",
      "{\"loss\": 2.9362151432037353, \"learning_rate\": 2.3710132580799748e-05, \"epoch\": 1.0515946967680103, \"step\": 39500}\n",
      "{\"loss\": 2.8901157331466676, \"learning_rate\": 2.3377349448911136e-05, \"epoch\": 1.0649060220435547, \"step\": 40000}\n",
      "{\"loss\": 2.8899089720249176, \"learning_rate\": 2.3044566317022524e-05, \"epoch\": 1.078217347319099, \"step\": 40500}\n",
      "{\"loss\": 2.8940025260448454, \"learning_rate\": 2.2711783185133913e-05, \"epoch\": 1.0915286725946436, \"step\": 41000}\n",
      "{\"loss\": 2.8580290224552156, \"learning_rate\": 2.23790000532453e-05, \"epoch\": 1.104839997870188, \"step\": 41500}\n",
      "{\"loss\": 2.847791908502579, \"learning_rate\": 2.204621692135669e-05, \"epoch\": 1.1181513231457323, \"step\": 42000}\n",
      "{\"loss\": 2.803487534046173, \"learning_rate\": 2.1713433789468078e-05, \"epoch\": 1.1314626484212769, \"step\": 42500}\n",
      "{\"loss\": 2.8436412317752837, \"learning_rate\": 2.138065065757947e-05, \"epoch\": 1.1447739736968212, \"step\": 43000}\n",
      "{\"loss\": 2.844616660833359, \"learning_rate\": 2.1047867525690858e-05, \"epoch\": 1.1580852989723658, \"step\": 43500}\n",
      "{\"loss\": 2.832544415354729, \"learning_rate\": 2.0715084393802247e-05, \"epoch\": 1.1713966242479101, \"step\": 44000}\n",
      "{\"loss\": 2.812461455345154, \"learning_rate\": 2.0382301261913635e-05, \"epoch\": 1.1847079495234545, \"step\": 44500}\n",
      "{\"loss\": 2.7866957833766937, \"learning_rate\": 2.0049518130025027e-05, \"epoch\": 1.198019274798999, \"step\": 45000}\n",
      "{\"loss\": 2.768201289176941, \"learning_rate\": 1.9716734998136415e-05, \"epoch\": 1.2113306000745434, \"step\": 45500}\n",
      "{\"loss\": 2.8012870004177093, \"learning_rate\": 1.9383951866247804e-05, \"epoch\": 1.2246419253500878, \"step\": 46000}\n",
      "{\"loss\": 2.825492792844772, \"learning_rate\": 1.9051168734359192e-05, \"epoch\": 1.2379532506256323, \"step\": 46500}\n",
      "{\"loss\": 2.754568481206894, \"learning_rate\": 1.8718385602470584e-05, \"epoch\": 1.2512645759011767, \"step\": 47000}\n",
      "{\"loss\": 2.7838160779476167, \"learning_rate\": 1.8385602470581972e-05, \"epoch\": 1.264575901176721, \"step\": 47500}\n",
      "{\"loss\": 2.7529390692710876, \"learning_rate\": 1.805281933869336e-05, \"epoch\": 1.2778872264522656, \"step\": 48000}\n",
      "{\"loss\": 2.772279743671417, \"learning_rate\": 1.772003620680475e-05, \"epoch\": 1.29119855172781, \"step\": 48500}\n",
      "{\"loss\": 2.772665412902832, \"learning_rate\": 1.738725307491614e-05, \"epoch\": 1.3045098770033545, \"step\": 49000}\n",
      "{\"loss\": 2.783657002210617, \"learning_rate\": 1.705446994302753e-05, \"epoch\": 1.3178212022788989, \"step\": 49500}\n",
      "{\"loss\": 2.7299293043613435, \"learning_rate\": 1.6721686811138918e-05, \"epoch\": 1.3311325275544434, \"step\": 50000}\n",
      "{\"loss\": 2.772060964584351, \"learning_rate\": 1.6388903679250306e-05, \"epoch\": 1.3444438528299878, \"step\": 50500}\n",
      "{\"loss\": 2.6930068156719207, \"learning_rate\": 1.6056120547361698e-05, \"epoch\": 1.3577551781055321, \"step\": 51000}\n",
      "{\"loss\": 2.7274401504993437, \"learning_rate\": 1.5723337415473086e-05, \"epoch\": 1.3710665033810767, \"step\": 51500}\n",
      "{\"loss\": 2.6800708503723145, \"learning_rate\": 1.5390554283584475e-05, \"epoch\": 1.384377828656621, \"step\": 52000}\n",
      "{\"loss\": 2.6907429513931276, \"learning_rate\": 1.5057771151695863e-05, \"epoch\": 1.3976891539321654, \"step\": 52500}\n",
      "{\"loss\": 2.674794025659561, \"learning_rate\": 1.4724988019807253e-05, \"epoch\": 1.41100047920771, \"step\": 53000}\n",
      "{\"loss\": 2.699669188976288, \"learning_rate\": 1.4392204887918642e-05, \"epoch\": 1.4243118044832543, \"step\": 53500}\n",
      "{\"loss\": 2.6792975614070893, \"learning_rate\": 1.405942175603003e-05, \"epoch\": 1.4376231297587987, \"step\": 54000}\n",
      "{\"loss\": 2.6833192014694216, \"learning_rate\": 1.3726638624141418e-05, \"epoch\": 1.4509344550343433, \"step\": 54500}\n",
      "{\"loss\": 2.6680632529258728, \"learning_rate\": 1.339385549225281e-05, \"epoch\": 1.4642457803098876, \"step\": 55000}\n",
      "{\"loss\": 2.695631097316742, \"learning_rate\": 1.3061072360364199e-05, \"epoch\": 1.477557105585432, \"step\": 55500}\n",
      "{\"loss\": 2.690842336177826, \"learning_rate\": 1.2728289228475587e-05, \"epoch\": 1.4908684308609765, \"step\": 56000}\n",
      "{\"loss\": 2.6482636802196504, \"learning_rate\": 1.2395506096586977e-05, \"epoch\": 1.504179756136521, \"step\": 56500}\n",
      "{\"loss\": 2.6578362679481504, \"learning_rate\": 1.2062722964698366e-05, \"epoch\": 1.5174910814120652, \"step\": 57000}\n",
      "{\"loss\": 2.6959155716896057, \"learning_rate\": 1.1729939832809756e-05, \"epoch\": 1.5308024066876098, \"step\": 57500}\n",
      "{\"loss\": 2.6620022382736206, \"learning_rate\": 1.1397156700921144e-05, \"epoch\": 1.5441137319631544, \"step\": 58000}\n",
      "{\"loss\": 2.6529082658290863, \"learning_rate\": 1.1064373569032534e-05, \"epoch\": 1.5574250572386987, \"step\": 58500}\n",
      "{\"loss\": 2.676155131816864, \"learning_rate\": 1.0731590437143923e-05, \"epoch\": 1.570736382514243, \"step\": 59000}\n",
      "{\"loss\": 2.64519957280159, \"learning_rate\": 1.0398807305255313e-05, \"epoch\": 1.5840477077897877, \"step\": 59500}\n",
      "{\"loss\": 2.6162173590660096, \"learning_rate\": 1.0066024173366701e-05, \"epoch\": 1.597359033065332, \"step\": 60000}\n",
      "{\"loss\": 2.6679555633068084, \"learning_rate\": 9.73324104147809e-06, \"epoch\": 1.6106703583408764, \"step\": 60500}\n",
      "{\"loss\": 2.6080365011692046, \"learning_rate\": 9.40045790958948e-06, \"epoch\": 1.623981683616421, \"step\": 61000}\n",
      "{\"loss\": 2.6179881207942963, \"learning_rate\": 9.067674777700868e-06, \"epoch\": 1.6372930088919653, \"step\": 61500}\n",
      "{\"loss\": 2.605970300912857, \"learning_rate\": 8.734891645812256e-06, \"epoch\": 1.6506043341675096, \"step\": 62000}\n",
      "{\"loss\": 2.63075128698349, \"learning_rate\": 8.402108513923647e-06, \"epoch\": 1.6639156594430542, \"step\": 62500}\n",
      "{\"loss\": 2.6292453384399415, \"learning_rate\": 8.069325382035035e-06, \"epoch\": 1.6772269847185985, \"step\": 63000}\n",
      "{\"loss\": 2.6129629108905794, \"learning_rate\": 7.736542250146425e-06, \"epoch\": 1.690538309994143, \"step\": 63500}\n",
      "{\"loss\": 2.5912184307575226, \"learning_rate\": 7.403759118257813e-06, \"epoch\": 1.7038496352696875, \"step\": 64000}\n",
      "{\"loss\": 2.5911020634174347, \"learning_rate\": 7.0709759863692035e-06, \"epoch\": 1.717160960545232, \"step\": 64500}\n",
      "{\"loss\": 2.5778905210494996, \"learning_rate\": 6.738192854480592e-06, \"epoch\": 1.7304722858207762, \"step\": 65000}\n",
      "{\"loss\": 2.6125125811100007, \"learning_rate\": 6.405409722591982e-06, \"epoch\": 1.7437836110963207, \"step\": 65500}\n",
      "{\"loss\": 2.596688776016235, \"learning_rate\": 6.072626590703371e-06, \"epoch\": 1.7570949363718653, \"step\": 66000}\n",
      "{\"loss\": 2.581207340478897, \"learning_rate\": 5.73984345881476e-06, \"epoch\": 1.7704062616474097, \"step\": 66500}\n",
      "{\"loss\": 2.55353391289711, \"learning_rate\": 5.407060326926149e-06, \"epoch\": 1.783717586922954, \"step\": 67000}\n",
      "{\"loss\": 2.6085182557106017, \"learning_rate\": 5.074277195037538e-06, \"epoch\": 1.7970289121984986, \"step\": 67500}\n",
      "{\"loss\": 2.5764006576538088, \"learning_rate\": 4.7414940631489275e-06, \"epoch\": 1.810340237474043, \"step\": 68000}\n",
      "{\"loss\": 2.5519262852668763, \"learning_rate\": 4.408710931260317e-06, \"epoch\": 1.8236515627495873, \"step\": 68500}\n",
      "{\"loss\": 2.577567697286606, \"learning_rate\": 4.075927799371706e-06, \"epoch\": 1.8369628880251319, \"step\": 69000}\n",
      "{\"loss\": 2.5482454423904417, \"learning_rate\": 3.743144667483095e-06, \"epoch\": 1.8502742133006762, \"step\": 69500}\n",
      "{\"loss\": 2.5028474135398864, \"learning_rate\": 3.410361535594484e-06, \"epoch\": 1.8635855385762206, \"step\": 70000}\n",
      "{\"loss\": 2.535430454969406, \"learning_rate\": 3.077578403705873e-06, \"epoch\": 1.8768968638517651, \"step\": 70500}\n",
      "{\"loss\": 2.5474988658428193, \"learning_rate\": 2.744795271817262e-06, \"epoch\": 1.8902081891273095, \"step\": 71000}\n",
      "{\"loss\": 2.562256813287735, \"learning_rate\": 2.4120121399286514e-06, \"epoch\": 1.9035195144028538, \"step\": 71500}\n",
      "{\"loss\": 2.5314701437950133, \"learning_rate\": 2.0792290080400402e-06, \"epoch\": 1.9168308396783984, \"step\": 72000}\n",
      "{\"loss\": 2.559470909357071, \"learning_rate\": 1.7464458761514295e-06, \"epoch\": 1.930142164953943, \"step\": 72500}\n",
      "{\"loss\": 2.5560245480537414, \"learning_rate\": 1.413662744262819e-06, \"epoch\": 1.943453490229487, \"step\": 73000}\n",
      "{\"loss\": 2.5027326126098632, \"learning_rate\": 1.080879612374208e-06, \"epoch\": 1.9567648155050317, \"step\": 73500}\n",
      "{\"loss\": 2.549752180814743, \"learning_rate\": 7.480964804855971e-07, \"epoch\": 1.9700761407805762, \"step\": 74000}\n",
      "{\"loss\": 2.543003197193146, \"learning_rate\": 4.1531334859698633e-07, \"epoch\": 1.9833874660561206, \"step\": 74500}\n",
      "{\"loss\": 2.5561235959529878, \"learning_rate\": 8.25302167083755e-08, \"epoch\": 1.996698791331665, \"step\": 75000}\n",
      "\n",
      "\n",
      "Number of seconds for training:\n",
      "10398.988280057907\n"
     ]
    }
   ],
   "source": [
    "import time\n",
    "start = time.time()\n",
    "trainer.train()\n",
    "end = time.time()\n",
    "print(\"Number of seconds for training:\")\n",
    "print((end-start))"
   ]
  },
  {
   "cell_type": "code",
   "execution_count": 14,
   "metadata": {
    "execution": {
     "iopub.execute_input": "2020-12-22T23:59:55.657036Z",
     "iopub.status.busy": "2020-12-22T23:59:55.656208Z",
     "iopub.status.idle": "2020-12-22T23:59:56.167147Z",
     "shell.execute_reply": "2020-12-22T23:59:56.166594Z"
    },
    "papermill": {
     "duration": 0.570632,
     "end_time": "2020-12-22T23:59:56.167263",
     "exception": false,
     "start_time": "2020-12-22T23:59:55.596631",
     "status": "completed"
    },
    "tags": []
   },
   "outputs": [],
   "source": [
    "trainer.save_model(\"twimbert\") # save model"
   ]
  },
  {
   "cell_type": "code",
   "execution_count": 15,
   "metadata": {
    "execution": {
     "iopub.execute_input": "2020-12-22T23:59:56.285282Z",
     "iopub.status.busy": "2020-12-22T23:59:56.284479Z",
     "iopub.status.idle": "2020-12-23T00:00:00.119827Z",
     "shell.execute_reply": "2020-12-23T00:00:00.120621Z"
    },
    "papermill": {
     "duration": 3.897034,
     "end_time": "2020-12-23T00:00:00.120850",
     "exception": false,
     "start_time": "2020-12-22T23:59:56.223816",
     "status": "completed"
    },
    "tags": []
   },
   "outputs": [],
   "source": [
    "from transformers import pipeline # test model\n",
    "\n",
    "fill_mask = pipeline(\n",
    "    \"fill-mask\",\n",
    "    model=\"twimbert\",\n",
    "    tokenizer=tokenizer\n",
    ")"
   ]
  },
  {
   "cell_type": "code",
   "execution_count": 16,
   "metadata": {
    "execution": {
     "iopub.execute_input": "2020-12-23T00:00:00.463005Z",
     "iopub.status.busy": "2020-12-23T00:00:00.462458Z",
     "iopub.status.idle": "2020-12-23T00:00:00.692028Z",
     "shell.execute_reply": "2020-12-23T00:00:00.692501Z"
    },
    "papermill": {
     "duration": 0.367018,
     "end_time": "2020-12-23T00:00:00.692641",
     "exception": false,
     "start_time": "2020-12-23T00:00:00.325623",
     "status": "completed"
    },
    "tags": []
   },
   "outputs": [
    {
     "name": "stdout",
     "output_type": "stream",
     "text": [
      "[{'sequence': '[CLS] eyi de ɔhaw kɛse baa yɛn hɔ. [SEP]', 'score': 0.05942384898662567, 'token': 269}, {'sequence': '[CLS] eyi de ɔhaw kɛse baa yehowa hɔ. [SEP]', 'score': 0.045544251799583435, 'token': 291}, {'sequence': '[CLS] eyi de ɔhaw kɛse baa dwumadibea hɔ. [SEP]', 'score': 0.044391192495822906, 'token': 1647}, {'sequence': '[CLS] eyi de ɔhaw kɛse baa asɔrefie hɔ. [SEP]', 'score': 0.03953441604971886, 'token': 1512}, {'sequence': '[CLS] eyi de ɔhaw kɛse baa me hɔ. [SEP]', 'score': 0.03777942806482315, 'token': 277}]\n"
     ]
    }
   ],
   "source": [
    "# same example as before\n",
    "print(fill_mask(\"Eyi de ɔhaw kɛse baa [MASK] hɔ.\"))"
   ]
  }
 ],
 "metadata": {
  "kernelspec": {
   "display_name": "Python 3",
   "language": "python",
   "name": "python3"
  },
  "language_info": {
   "codemirror_mode": {
    "name": "ipython",
    "version": 3
   },
   "file_extension": ".py",
   "mimetype": "text/x-python",
   "name": "python",
   "nbconvert_exporter": "python",
   "pygments_lexer": "ipython3",
   "version": "3.7.6"
  },
  "papermill": {
   "duration": 10497.12329,
   "end_time": "2020-12-23T00:00:01.953006",
   "environment_variables": {},
   "exception": null,
   "input_path": "__notebook__.ipynb",
   "output_path": "__notebook__.ipynb",
   "parameters": {},
   "start_time": "2020-12-22T21:05:04.829716",
   "version": "2.1.0"
  },
  "widgets": {
   "application/vnd.jupyter.widget-state+json": {
    "state": {
     "025f5eac0874448dabfd7bba9609804e": {
      "model_module": "@jupyter-widgets/base",
      "model_module_version": "1.2.0",
      "model_name": "LayoutModel",
      "state": {
       "_model_module": "@jupyter-widgets/base",
       "_model_module_version": "1.2.0",
       "_model_name": "LayoutModel",
       "_view_count": null,
       "_view_module": "@jupyter-widgets/base",
       "_view_module_version": "1.2.0",
       "_view_name": "LayoutView",
       "align_content": null,
       "align_items": null,
       "align_self": null,
       "border": null,
       "bottom": null,
       "display": null,
       "flex": null,
       "flex_flow": null,
       "grid_area": null,
       "grid_auto_columns": null,
       "grid_auto_flow": null,
       "grid_auto_rows": null,
       "grid_column": null,
       "grid_gap": null,
       "grid_row": null,
       "grid_template_areas": null,
       "grid_template_columns": null,
       "grid_template_rows": null,
       "height": null,
       "justify_content": null,
       "justify_items": null,
       "left": null,
       "margin": null,
       "max_height": null,
       "max_width": null,
       "min_height": null,
       "min_width": null,
       "object_fit": null,
       "object_position": null,
       "order": null,
       "overflow": null,
       "overflow_x": null,
       "overflow_y": null,
       "padding": null,
       "right": null,
       "top": null,
       "visibility": null,
       "width": null
      }
     },
     "03708e2ba59242a6a3391e291d21b48e": {
      "model_module": "@jupyter-widgets/controls",
      "model_module_version": "1.5.0",
      "model_name": "FloatProgressModel",
      "state": {
       "_dom_classes": [],
       "_model_module": "@jupyter-widgets/controls",
       "_model_module_version": "1.5.0",
       "_model_name": "FloatProgressModel",
       "_view_count": null,
       "_view_module": "@jupyter-widgets/controls",
       "_view_module_version": "1.5.0",
       "_view_name": "ProgressView",
       "bar_style": "success",
       "description": "Iteration: 100%",
       "description_tooltip": null,
       "layout": "IPY_MODEL_4c37b007fca24364a8011e3912a80943",
       "max": 37562.0,
       "min": 0.0,
       "orientation": "horizontal",
       "style": "IPY_MODEL_b01c6197e2c94119873030016cdd9d9b",
       "value": 37562.0
      }
     },
     "13a8306ebb774d58b4827d7ddf38d84b": {
      "model_module": "@jupyter-widgets/base",
      "model_module_version": "1.2.0",
      "model_name": "LayoutModel",
      "state": {
       "_model_module": "@jupyter-widgets/base",
       "_model_module_version": "1.2.0",
       "_model_name": "LayoutModel",
       "_view_count": null,
       "_view_module": "@jupyter-widgets/base",
       "_view_module_version": "1.2.0",
       "_view_name": "LayoutView",
       "align_content": null,
       "align_items": null,
       "align_self": null,
       "border": null,
       "bottom": null,
       "display": null,
       "flex": null,
       "flex_flow": null,
       "grid_area": null,
       "grid_auto_columns": null,
       "grid_auto_flow": null,
       "grid_auto_rows": null,
       "grid_column": null,
       "grid_gap": null,
       "grid_row": null,
       "grid_template_areas": null,
       "grid_template_columns": null,
       "grid_template_rows": null,
       "height": null,
       "justify_content": null,
       "justify_items": null,
       "left": null,
       "margin": null,
       "max_height": null,
       "max_width": null,
       "min_height": null,
       "min_width": null,
       "object_fit": null,
       "object_position": null,
       "order": null,
       "overflow": null,
       "overflow_x": null,
       "overflow_y": null,
       "padding": null,
       "right": null,
       "top": null,
       "visibility": null,
       "width": null
      }
     },
     "299ffd03d7e949168530227a7c6ceec5": {
      "model_module": "@jupyter-widgets/controls",
      "model_module_version": "1.5.0",
      "model_name": "HBoxModel",
      "state": {
       "_dom_classes": [],
       "_model_module": "@jupyter-widgets/controls",
       "_model_module_version": "1.5.0",
       "_model_name": "HBoxModel",
       "_view_count": null,
       "_view_module": "@jupyter-widgets/controls",
       "_view_module_version": "1.5.0",
       "_view_name": "HBoxView",
       "box_style": "",
       "children": [
        "IPY_MODEL_03708e2ba59242a6a3391e291d21b48e",
        "IPY_MODEL_762bc5906bfa4074b2fb1667b59dba77"
       ],
       "layout": "IPY_MODEL_13a8306ebb774d58b4827d7ddf38d84b"
      }
     },
     "3de117eb2b30483f9e1111a7c6432ccd": {
      "model_module": "@jupyter-widgets/controls",
      "model_module_version": "1.5.0",
      "model_name": "DescriptionStyleModel",
      "state": {
       "_model_module": "@jupyter-widgets/controls",
       "_model_module_version": "1.5.0",
       "_model_name": "DescriptionStyleModel",
       "_view_count": null,
       "_view_module": "@jupyter-widgets/base",
       "_view_module_version": "1.2.0",
       "_view_name": "StyleView",
       "description_width": ""
      }
     },
     "4c37b007fca24364a8011e3912a80943": {
      "model_module": "@jupyter-widgets/base",
      "model_module_version": "1.2.0",
      "model_name": "LayoutModel",
      "state": {
       "_model_module": "@jupyter-widgets/base",
       "_model_module_version": "1.2.0",
       "_model_name": "LayoutModel",
       "_view_count": null,
       "_view_module": "@jupyter-widgets/base",
       "_view_module_version": "1.2.0",
       "_view_name": "LayoutView",
       "align_content": null,
       "align_items": null,
       "align_self": null,
       "border": null,
       "bottom": null,
       "display": null,
       "flex": null,
       "flex_flow": null,
       "grid_area": null,
       "grid_auto_columns": null,
       "grid_auto_flow": null,
       "grid_auto_rows": null,
       "grid_column": null,
       "grid_gap": null,
       "grid_row": null,
       "grid_template_areas": null,
       "grid_template_columns": null,
       "grid_template_rows": null,
       "height": null,
       "justify_content": null,
       "justify_items": null,
       "left": null,
       "margin": null,
       "max_height": null,
       "max_width": null,
       "min_height": null,
       "min_width": null,
       "object_fit": null,
       "object_position": null,
       "order": null,
       "overflow": null,
       "overflow_x": null,
       "overflow_y": null,
       "padding": null,
       "right": null,
       "top": null,
       "visibility": null,
       "width": null
      }
     },
     "4dbac9d334574b1390d43ca8780d939f": {
      "model_module": "@jupyter-widgets/controls",
      "model_module_version": "1.5.0",
      "model_name": "ProgressStyleModel",
      "state": {
       "_model_module": "@jupyter-widgets/controls",
       "_model_module_version": "1.5.0",
       "_model_name": "ProgressStyleModel",
       "_view_count": null,
       "_view_module": "@jupyter-widgets/base",
       "_view_module_version": "1.2.0",
       "_view_name": "StyleView",
       "bar_color": null,
       "description_width": "initial"
      }
     },
     "5c8ea66355484ea4a7e40f921370f182": {
      "model_module": "@jupyter-widgets/controls",
      "model_module_version": "1.5.0",
      "model_name": "HBoxModel",
      "state": {
       "_dom_classes": [],
       "_model_module": "@jupyter-widgets/controls",
       "_model_module_version": "1.5.0",
       "_model_name": "HBoxModel",
       "_view_count": null,
       "_view_module": "@jupyter-widgets/controls",
       "_view_module_version": "1.5.0",
       "_view_name": "HBoxView",
       "box_style": "",
       "children": [
        "IPY_MODEL_c35e34d67fe64d96bf1e50a1339b1de5",
        "IPY_MODEL_f95ef51e482f474785bd45d15b4927e0"
       ],
       "layout": "IPY_MODEL_025f5eac0874448dabfd7bba9609804e"
      }
     },
     "5e8fdfdb3fc3473d8c54815898ac5c05": {
      "model_module": "@jupyter-widgets/controls",
      "model_module_version": "1.5.0",
      "model_name": "DescriptionStyleModel",
      "state": {
       "_model_module": "@jupyter-widgets/controls",
       "_model_module_version": "1.5.0",
       "_model_name": "DescriptionStyleModel",
       "_view_count": null,
       "_view_module": "@jupyter-widgets/base",
       "_view_module_version": "1.2.0",
       "_view_name": "StyleView",
       "description_width": ""
      }
     },
     "6c5004f9f4054a699e5c4ecd68703b7b": {
      "model_module": "@jupyter-widgets/base",
      "model_module_version": "1.2.0",
      "model_name": "LayoutModel",
      "state": {
       "_model_module": "@jupyter-widgets/base",
       "_model_module_version": "1.2.0",
       "_model_name": "LayoutModel",
       "_view_count": null,
       "_view_module": "@jupyter-widgets/base",
       "_view_module_version": "1.2.0",
       "_view_name": "LayoutView",
       "align_content": null,
       "align_items": null,
       "align_self": null,
       "border": null,
       "bottom": null,
       "display": null,
       "flex": null,
       "flex_flow": null,
       "grid_area": null,
       "grid_auto_columns": null,
       "grid_auto_flow": null,
       "grid_auto_rows": null,
       "grid_column": null,
       "grid_gap": null,
       "grid_row": null,
       "grid_template_areas": null,
       "grid_template_columns": null,
       "grid_template_rows": null,
       "height": null,
       "justify_content": null,
       "justify_items": null,
       "left": null,
       "margin": null,
       "max_height": null,
       "max_width": null,
       "min_height": null,
       "min_width": null,
       "object_fit": null,
       "object_position": null,
       "order": null,
       "overflow": null,
       "overflow_x": null,
       "overflow_y": null,
       "padding": null,
       "right": null,
       "top": null,
       "visibility": null,
       "width": null
      }
     },
     "762bc5906bfa4074b2fb1667b59dba77": {
      "model_module": "@jupyter-widgets/controls",
      "model_module_version": "1.5.0",
      "model_name": "HTMLModel",
      "state": {
       "_dom_classes": [],
       "_model_module": "@jupyter-widgets/controls",
       "_model_module_version": "1.5.0",
       "_model_name": "HTMLModel",
       "_view_count": null,
       "_view_module": "@jupyter-widgets/controls",
       "_view_module_version": "1.5.0",
       "_view_name": "HTMLView",
       "description": "",
       "description_tooltip": null,
       "layout": "IPY_MODEL_8e44556fab5f444298fb419ac0869de4",
       "placeholder": "​",
       "style": "IPY_MODEL_a268093d3bfb43a6b9424137bbf5460c",
       "value": " 37562/37562 [1:26:21&lt;00:00,  7.25it/s]"
      }
     },
     "8e44556fab5f444298fb419ac0869de4": {
      "model_module": "@jupyter-widgets/base",
      "model_module_version": "1.2.0",
      "model_name": "LayoutModel",
      "state": {
       "_model_module": "@jupyter-widgets/base",
       "_model_module_version": "1.2.0",
       "_model_name": "LayoutModel",
       "_view_count": null,
       "_view_module": "@jupyter-widgets/base",
       "_view_module_version": "1.2.0",
       "_view_name": "LayoutView",
       "align_content": null,
       "align_items": null,
       "align_self": null,
       "border": null,
       "bottom": null,
       "display": null,
       "flex": null,
       "flex_flow": null,
       "grid_area": null,
       "grid_auto_columns": null,
       "grid_auto_flow": null,
       "grid_auto_rows": null,
       "grid_column": null,
       "grid_gap": null,
       "grid_row": null,
       "grid_template_areas": null,
       "grid_template_columns": null,
       "grid_template_rows": null,
       "height": null,
       "justify_content": null,
       "justify_items": null,
       "left": null,
       "margin": null,
       "max_height": null,
       "max_width": null,
       "min_height": null,
       "min_width": null,
       "object_fit": null,
       "object_position": null,
       "order": null,
       "overflow": null,
       "overflow_x": null,
       "overflow_y": null,
       "padding": null,
       "right": null,
       "top": null,
       "visibility": null,
       "width": null
      }
     },
     "8ff79610f6a14e318bab04f9dbda9083": {
      "model_module": "@jupyter-widgets/controls",
      "model_module_version": "1.5.0",
      "model_name": "HBoxModel",
      "state": {
       "_dom_classes": [],
       "_model_module": "@jupyter-widgets/controls",
       "_model_module_version": "1.5.0",
       "_model_name": "HBoxModel",
       "_view_count": null,
       "_view_module": "@jupyter-widgets/controls",
       "_view_module_version": "1.5.0",
       "_view_name": "HBoxView",
       "box_style": "",
       "children": [
        "IPY_MODEL_e9506639c37546ffa24f1251cc9fe754",
        "IPY_MODEL_c8db7e8891ec4b929371e1af1b79e86f"
       ],
       "layout": "IPY_MODEL_ff4d5b90901d4633b5f74a43f84878a5"
      }
     },
     "90828e3903ae4d9b969d5ac9fa7d9229": {
      "model_module": "@jupyter-widgets/base",
      "model_module_version": "1.2.0",
      "model_name": "LayoutModel",
      "state": {
       "_model_module": "@jupyter-widgets/base",
       "_model_module_version": "1.2.0",
       "_model_name": "LayoutModel",
       "_view_count": null,
       "_view_module": "@jupyter-widgets/base",
       "_view_module_version": "1.2.0",
       "_view_name": "LayoutView",
       "align_content": null,
       "align_items": null,
       "align_self": null,
       "border": null,
       "bottom": null,
       "display": null,
       "flex": null,
       "flex_flow": null,
       "grid_area": null,
       "grid_auto_columns": null,
       "grid_auto_flow": null,
       "grid_auto_rows": null,
       "grid_column": null,
       "grid_gap": null,
       "grid_row": null,
       "grid_template_areas": null,
       "grid_template_columns": null,
       "grid_template_rows": null,
       "height": null,
       "justify_content": null,
       "justify_items": null,
       "left": null,
       "margin": null,
       "max_height": null,
       "max_width": null,
       "min_height": null,
       "min_width": null,
       "object_fit": null,
       "object_position": null,
       "order": null,
       "overflow": null,
       "overflow_x": null,
       "overflow_y": null,
       "padding": null,
       "right": null,
       "top": null,
       "visibility": null,
       "width": null
      }
     },
     "a268093d3bfb43a6b9424137bbf5460c": {
      "model_module": "@jupyter-widgets/controls",
      "model_module_version": "1.5.0",
      "model_name": "DescriptionStyleModel",
      "state": {
       "_model_module": "@jupyter-widgets/controls",
       "_model_module_version": "1.5.0",
       "_model_name": "DescriptionStyleModel",
       "_view_count": null,
       "_view_module": "@jupyter-widgets/base",
       "_view_module_version": "1.2.0",
       "_view_name": "StyleView",
       "description_width": ""
      }
     },
     "b01c6197e2c94119873030016cdd9d9b": {
      "model_module": "@jupyter-widgets/controls",
      "model_module_version": "1.5.0",
      "model_name": "ProgressStyleModel",
      "state": {
       "_model_module": "@jupyter-widgets/controls",
       "_model_module_version": "1.5.0",
       "_model_name": "ProgressStyleModel",
       "_view_count": null,
       "_view_module": "@jupyter-widgets/base",
       "_view_module_version": "1.2.0",
       "_view_name": "StyleView",
       "bar_color": null,
       "description_width": "initial"
      }
     },
     "c35e34d67fe64d96bf1e50a1339b1de5": {
      "model_module": "@jupyter-widgets/controls",
      "model_module_version": "1.5.0",
      "model_name": "FloatProgressModel",
      "state": {
       "_dom_classes": [],
       "_model_module": "@jupyter-widgets/controls",
       "_model_module_version": "1.5.0",
       "_model_name": "FloatProgressModel",
       "_view_count": null,
       "_view_module": "@jupyter-widgets/controls",
       "_view_module_version": "1.5.0",
       "_view_name": "ProgressView",
       "bar_style": "success",
       "description": "Iteration: 100%",
       "description_tooltip": null,
       "layout": "IPY_MODEL_f41d0be48df945b38307e29510e25218",
       "max": 37562.0,
       "min": 0.0,
       "orientation": "horizontal",
       "style": "IPY_MODEL_4dbac9d334574b1390d43ca8780d939f",
       "value": 37562.0
      }
     },
     "c8db7e8891ec4b929371e1af1b79e86f": {
      "model_module": "@jupyter-widgets/controls",
      "model_module_version": "1.5.0",
      "model_name": "HTMLModel",
      "state": {
       "_dom_classes": [],
       "_model_module": "@jupyter-widgets/controls",
       "_model_module_version": "1.5.0",
       "_model_name": "HTMLModel",
       "_view_count": null,
       "_view_module": "@jupyter-widgets/controls",
       "_view_module_version": "1.5.0",
       "_view_name": "HTMLView",
       "description": "",
       "description_tooltip": null,
       "layout": "IPY_MODEL_e64155a2597448dd8f4fce7f975eaaa9",
       "placeholder": "​",
       "style": "IPY_MODEL_5e8fdfdb3fc3473d8c54815898ac5c05",
       "value": " 2/2 [2:53:18&lt;00:00, 5199.47s/it]"
      }
     },
     "e64155a2597448dd8f4fce7f975eaaa9": {
      "model_module": "@jupyter-widgets/base",
      "model_module_version": "1.2.0",
      "model_name": "LayoutModel",
      "state": {
       "_model_module": "@jupyter-widgets/base",
       "_model_module_version": "1.2.0",
       "_model_name": "LayoutModel",
       "_view_count": null,
       "_view_module": "@jupyter-widgets/base",
       "_view_module_version": "1.2.0",
       "_view_name": "LayoutView",
       "align_content": null,
       "align_items": null,
       "align_self": null,
       "border": null,
       "bottom": null,
       "display": null,
       "flex": null,
       "flex_flow": null,
       "grid_area": null,
       "grid_auto_columns": null,
       "grid_auto_flow": null,
       "grid_auto_rows": null,
       "grid_column": null,
       "grid_gap": null,
       "grid_row": null,
       "grid_template_areas": null,
       "grid_template_columns": null,
       "grid_template_rows": null,
       "height": null,
       "justify_content": null,
       "justify_items": null,
       "left": null,
       "margin": null,
       "max_height": null,
       "max_width": null,
       "min_height": null,
       "min_width": null,
       "object_fit": null,
       "object_position": null,
       "order": null,
       "overflow": null,
       "overflow_x": null,
       "overflow_y": null,
       "padding": null,
       "right": null,
       "top": null,
       "visibility": null,
       "width": null
      }
     },
     "e9506639c37546ffa24f1251cc9fe754": {
      "model_module": "@jupyter-widgets/controls",
      "model_module_version": "1.5.0",
      "model_name": "FloatProgressModel",
      "state": {
       "_dom_classes": [],
       "_model_module": "@jupyter-widgets/controls",
       "_model_module_version": "1.5.0",
       "_model_name": "FloatProgressModel",
       "_view_count": null,
       "_view_module": "@jupyter-widgets/controls",
       "_view_module_version": "1.5.0",
       "_view_name": "ProgressView",
       "bar_style": "success",
       "description": "Epoch: 100%",
       "description_tooltip": null,
       "layout": "IPY_MODEL_6c5004f9f4054a699e5c4ecd68703b7b",
       "max": 2.0,
       "min": 0.0,
       "orientation": "horizontal",
       "style": "IPY_MODEL_f75b0763fc51459881f05d6094c24cbf",
       "value": 2.0
      }
     },
     "f41d0be48df945b38307e29510e25218": {
      "model_module": "@jupyter-widgets/base",
      "model_module_version": "1.2.0",
      "model_name": "LayoutModel",
      "state": {
       "_model_module": "@jupyter-widgets/base",
       "_model_module_version": "1.2.0",
       "_model_name": "LayoutModel",
       "_view_count": null,
       "_view_module": "@jupyter-widgets/base",
       "_view_module_version": "1.2.0",
       "_view_name": "LayoutView",
       "align_content": null,
       "align_items": null,
       "align_self": null,
       "border": null,
       "bottom": null,
       "display": null,
       "flex": null,
       "flex_flow": null,
       "grid_area": null,
       "grid_auto_columns": null,
       "grid_auto_flow": null,
       "grid_auto_rows": null,
       "grid_column": null,
       "grid_gap": null,
       "grid_row": null,
       "grid_template_areas": null,
       "grid_template_columns": null,
       "grid_template_rows": null,
       "height": null,
       "justify_content": null,
       "justify_items": null,
       "left": null,
       "margin": null,
       "max_height": null,
       "max_width": null,
       "min_height": null,
       "min_width": null,
       "object_fit": null,
       "object_position": null,
       "order": null,
       "overflow": null,
       "overflow_x": null,
       "overflow_y": null,
       "padding": null,
       "right": null,
       "top": null,
       "visibility": null,
       "width": null
      }
     },
     "f75b0763fc51459881f05d6094c24cbf": {
      "model_module": "@jupyter-widgets/controls",
      "model_module_version": "1.5.0",
      "model_name": "ProgressStyleModel",
      "state": {
       "_model_module": "@jupyter-widgets/controls",
       "_model_module_version": "1.5.0",
       "_model_name": "ProgressStyleModel",
       "_view_count": null,
       "_view_module": "@jupyter-widgets/base",
       "_view_module_version": "1.2.0",
       "_view_name": "StyleView",
       "bar_color": null,
       "description_width": "initial"
      }
     },
     "f95ef51e482f474785bd45d15b4927e0": {
      "model_module": "@jupyter-widgets/controls",
      "model_module_version": "1.5.0",
      "model_name": "HTMLModel",
      "state": {
       "_dom_classes": [],
       "_model_module": "@jupyter-widgets/controls",
       "_model_module_version": "1.5.0",
       "_model_name": "HTMLModel",
       "_view_count": null,
       "_view_module": "@jupyter-widgets/controls",
       "_view_module_version": "1.5.0",
       "_view_name": "HTMLView",
       "description": "",
       "description_tooltip": null,
       "layout": "IPY_MODEL_90828e3903ae4d9b969d5ac9fa7d9229",
       "placeholder": "​",
       "style": "IPY_MODEL_3de117eb2b30483f9e1111a7c6432ccd",
       "value": " 37562/37562 [1:26:57&lt;00:00,  7.20it/s]"
      }
     },
     "ff4d5b90901d4633b5f74a43f84878a5": {
      "model_module": "@jupyter-widgets/base",
      "model_module_version": "1.2.0",
      "model_name": "LayoutModel",
      "state": {
       "_model_module": "@jupyter-widgets/base",
       "_model_module_version": "1.2.0",
       "_model_name": "LayoutModel",
       "_view_count": null,
       "_view_module": "@jupyter-widgets/base",
       "_view_module_version": "1.2.0",
       "_view_name": "LayoutView",
       "align_content": null,
       "align_items": null,
       "align_self": null,
       "border": null,
       "bottom": null,
       "display": null,
       "flex": null,
       "flex_flow": null,
       "grid_area": null,
       "grid_auto_columns": null,
       "grid_auto_flow": null,
       "grid_auto_rows": null,
       "grid_column": null,
       "grid_gap": null,
       "grid_row": null,
       "grid_template_areas": null,
       "grid_template_columns": null,
       "grid_template_rows": null,
       "height": null,
       "justify_content": null,
       "justify_items": null,
       "left": null,
       "margin": null,
       "max_height": null,
       "max_width": null,
       "min_height": null,
       "min_width": null,
       "object_fit": null,
       "object_position": null,
       "order": null,
       "overflow": null,
       "overflow_x": null,
       "overflow_y": null,
       "padding": null,
       "right": null,
       "top": null,
       "visibility": null,
       "width": null
      }
     }
    },
    "version_major": 2,
    "version_minor": 0
   }
  }
 },
 "nbformat": 4,
 "nbformat_minor": 4
}
