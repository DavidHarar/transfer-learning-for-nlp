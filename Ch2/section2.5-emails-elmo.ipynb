{
 "cells": [
  {
   "cell_type": "markdown",
   "metadata": {},
   "source": [
    "# Preliminaries\n",
    "First install a critical dependency for our code"
   ]
  },
  {
   "cell_type": "code",
   "execution_count": 1,
   "metadata": {},
   "outputs": [
    {
     "name": "stdout",
     "output_type": "stream",
     "text": [
      "Collecting keras==2.2.4\r\n",
      "\u001b[?25l  Downloading https://files.pythonhosted.org/packages/5e/10/aa32dad071ce52b5502266b5c659451cfd6ffcbf14e6c8c4f16c0ff5aaab/Keras-2.2.4-py2.py3-none-any.whl (312kB)\r\n",
      "\u001b[K     |████████████████████████████████| 317kB 4.8MB/s \r\n",
      "\u001b[?25hRequirement already satisfied: h5py in /opt/conda/lib/python3.6/site-packages (from keras==2.2.4) (2.9.0)\r\n",
      "Requirement already satisfied: numpy>=1.9.1 in /opt/conda/lib/python3.6/site-packages (from keras==2.2.4) (1.16.4)\r\n",
      "Requirement already satisfied: keras-applications>=1.0.6 in /opt/conda/lib/python3.6/site-packages (from keras==2.2.4) (1.0.8)\r\n",
      "Requirement already satisfied: pyyaml in /opt/conda/lib/python3.6/site-packages (from keras==2.2.4) (5.1.2)\r\n",
      "Requirement already satisfied: keras-preprocessing>=1.0.5 in /opt/conda/lib/python3.6/site-packages (from keras==2.2.4) (1.1.0)\r\n",
      "Requirement already satisfied: six>=1.9.0 in /opt/conda/lib/python3.6/site-packages (from keras==2.2.4) (1.12.0)\r\n",
      "Requirement already satisfied: scipy>=0.14 in /opt/conda/lib/python3.6/site-packages (from keras==2.2.4) (1.2.1)\r\n",
      "Installing collected packages: keras\r\n",
      "  Found existing installation: Keras 2.3.0\r\n",
      "    Uninstalling Keras-2.3.0:\r\n",
      "      Successfully uninstalled Keras-2.3.0\r\n",
      "Successfully installed keras-2.2.4\r\n"
     ]
    }
   ],
   "source": [
    "!pip install keras==2.2.4 # critical dependency, "
   ]
  },
  {
   "cell_type": "markdown",
   "metadata": {},
   "source": [
    "Write requirements to file, anytime you run it, in case you have to go back and recover dependencies.\n",
    "\n",
    "Latest known such requirements are hosted for each notebook in the companion github repo, and can be pulled down and installed here if needed. Companion github repo is located at https://github.com/azunre/transfer-learning-for-nlp"
   ]
  },
  {
   "cell_type": "code",
   "execution_count": 2,
   "metadata": {},
   "outputs": [],
   "source": [
    "!pip freeze > kaggle_image_requirements.txt"
   ]
  },
  {
   "cell_type": "code",
   "execution_count": 3,
   "metadata": {
    "_cell_guid": "b1076dfc-b9ad-4769-8c92-a6c4dae69d19",
    "_uuid": "8f2839f25d086af736a60e9eeb907d3b93b6e0e5"
   },
   "outputs": [
    {
     "name": "stderr",
     "output_type": "stream",
     "text": [
      "Using TensorFlow backend.\n"
     ]
    }
   ],
   "source": [
    "# Import neural network libraries\n",
    "import tensorflow as tf\n",
    "import tensorflow_hub as hub\n",
    "from keras import backend as K\n",
    "import keras.layers as layers\n",
    "from keras.models import Model, load_model\n",
    "from keras.engine import Layer\n",
    "\n",
    "# Initialize tensorflow/keras session\n",
    "sess = tf.Session()\n",
    "K.set_session(sess)"
   ]
  },
  {
   "cell_type": "markdown",
   "metadata": {},
   "source": [
    "# Read and Preprocess Enron dataset\n",
    "Read Enron dataset and get a sense for the data by printing sample messages to screen"
   ]
  },
  {
   "cell_type": "code",
   "execution_count": 4,
   "metadata": {},
   "outputs": [
    {
     "name": "stdout",
     "output_type": "stream",
     "text": [
      "Successfully loaded 517401 rows and 2 columns!\n",
      "                       file                                            message\n",
      "0     allen-p/_sent_mail/1.  Message-ID: <18782981.1075855378110.JavaMail.e...\n",
      "1    allen-p/_sent_mail/10.  Message-ID: <15464986.1075855378456.JavaMail.e...\n",
      "2   allen-p/_sent_mail/100.  Message-ID: <24216240.1075855687451.JavaMail.e...\n",
      "3  allen-p/_sent_mail/1000.  Message-ID: <13505866.1075863688222.JavaMail.e...\n",
      "4  allen-p/_sent_mail/1001.  Message-ID: <30922949.1075863688243.JavaMail.e...\n"
     ]
    }
   ],
   "source": [
    "import numpy as np # linear algebra\n",
    "import pandas as pd # data processing, CSV file I/O (e.g. pd.read_csv)\n",
    "\n",
    "# Input data files are available in the \"../input/\" directory.\n",
    "filepath = \"../input/enron-email-dataset/emails.csv\"\n",
    "\n",
    "# Read the data into a pandas dataframe called emails\n",
    "emails = pd.read_csv(filepath)\n",
    "\n",
    "print(\"Successfully loaded {} rows and {} columns!\".format(emails.shape[0], emails.shape[1]))\n",
    "print(emails.head())"
   ]
  },
  {
   "cell_type": "code",
   "execution_count": 5,
   "metadata": {},
   "outputs": [
    {
     "name": "stdout",
     "output_type": "stream",
     "text": [
      "Message-ID: <18782981.1075855378110.JavaMail.evans@thyme>\n",
      "Date: Mon, 14 May 2001 16:39:00 -0700 (PDT)\n",
      "From: phillip.allen@enron.com\n",
      "To: tim.belden@enron.com\n",
      "Subject: \n",
      "Mime-Version: 1.0\n",
      "Content-Type: text/plain; charset=us-ascii\n",
      "Content-Transfer-Encoding: 7bit\n",
      "X-From: Phillip K Allen\n",
      "X-To: Tim Belden <Tim Belden/Enron@EnronXGate>\n",
      "X-cc: \n",
      "X-bcc: \n",
      "X-Folder: \\Phillip_Allen_Jan2002_1\\Allen, Phillip K.\\'Sent Mail\n",
      "X-Origin: Allen-P\n",
      "X-FileName: pallen (Non-Privileged).pst\n",
      "\n",
      "Here is our forecast\n",
      "\n",
      " \n"
     ]
    }
   ],
   "source": [
    "# take a closer look at the first email\n",
    "print(emails.loc[0][\"message\"])"
   ]
  },
  {
   "cell_type": "markdown",
   "metadata": {},
   "source": [
    "Separate headers from the message bodies"
   ]
  },
  {
   "cell_type": "code",
   "execution_count": 6,
   "metadata": {},
   "outputs": [
    {
     "name": "stdout",
     "output_type": "stream",
     "text": [
      "Successfully retrieved message body from e-mails!\n"
     ]
    }
   ],
   "source": [
    "import email\n",
    "\n",
    "def extract_messages(df):\n",
    "    messages = []\n",
    "    for item in df[\"message\"]:\n",
    "        # Return a message object structure from a string\n",
    "        e = email.message_from_string(item)    \n",
    "        # get message body  \n",
    "        message_body = e.get_payload()\n",
    "        messages.append(message_body)\n",
    "    print(\"Successfully retrieved message body from e-mails!\")\n",
    "    return messages\n",
    "\n",
    "bodies = extract_messages(emails)"
   ]
  },
  {
   "cell_type": "code",
   "execution_count": 7,
   "metadata": {},
   "outputs": [
    {
     "data": {
      "text/html": [
       "<div>\n",
       "<style scoped>\n",
       "    .dataframe tbody tr th:only-of-type {\n",
       "        vertical-align: middle;\n",
       "    }\n",
       "\n",
       "    .dataframe tbody tr th {\n",
       "        vertical-align: top;\n",
       "    }\n",
       "\n",
       "    .dataframe thead th {\n",
       "        text-align: right;\n",
       "    }\n",
       "</style>\n",
       "<table border=\"1\" class=\"dataframe\">\n",
       "  <thead>\n",
       "    <tr style=\"text-align: right;\">\n",
       "      <th></th>\n",
       "      <th>0</th>\n",
       "    </tr>\n",
       "  </thead>\n",
       "  <tbody>\n",
       "    <tr>\n",
       "      <td>0</td>\n",
       "      <td>The following file contains a graphical view of the North American Gas average deal count by Trader and Product for EOL. This information is for comparative analysis only.  Do not update links when opening this file.\\n\\n \\n\\nIf you have any questions regarding this breakout, please let me know ....</td>\n",
       "    </tr>\n",
       "    <tr>\n",
       "      <td>1</td>\n",
       "      <td>To: Ad Hoc Committee\\n\\nDear Colleague,\\n\\nSeveral of you have pointed out that the Manifesto is a bit long.  We will\\nendeavor to shorten it somewhat which will be possible as there is some\\nduplication; however, more importantly we plan to add an executive summary\\nwhich will be the editorial ...</td>\n",
       "    </tr>\n",
       "    <tr>\n",
       "      <td>2</td>\n",
       "      <td>Transwestern Pipeline Co. posted new notice(s) since our last check at \\n12/13/2000 1:30:01 PM, the newest notice looks like:\\n\\n Capacity Constraint, Dec 13 2000  1:48PM, Dec 14 2000  9:00AM, Dec 15 2000  \\n8:59AM, 2237, Allocation - SOCAL NEEDLES\\n\\nPlease click the following to go to the web ...</td>\n",
       "    </tr>\n",
       "    <tr>\n",
       "      <td>3</td>\n",
       "      <td>Mark, attached is a memo of my accomplishments for 2000.  Thanks for your \\nconsiderationn.\\n\\n</td>\n",
       "    </tr>\n",
       "    <tr>\n",
       "      <td>4</td>\n",
       "      <td>Kathy/Scott,\\n\\nI don't know exactly what Chris wanted but here's my stab at it and remember \\nmy limited mental abilities are making a bunch of assumptions.....\\n\\nDeal 459233 is the exchange offset to 459214 and should probably be zerod \\nout.  459193 is the exchange offset to 459175 and shoul...</td>\n",
       "    </tr>\n",
       "  </tbody>\n",
       "</table>\n",
       "</div>"
      ],
      "text/plain": [
       "                                                                                                                                                                                                                                                                                                             0\n",
       "0  The following file contains a graphical view of the North American Gas average deal count by Trader and Product for EOL. This information is for comparative analysis only.  Do not update links when opening this file.\\n\\n \\n\\nIf you have any questions regarding this breakout, please let me know ....\n",
       "1  To: Ad Hoc Committee\\n\\nDear Colleague,\\n\\nSeveral of you have pointed out that the Manifesto is a bit long.  We will\\nendeavor to shorten it somewhat which will be possible as there is some\\nduplication; however, more importantly we plan to add an executive summary\\nwhich will be the editorial ...\n",
       "2  Transwestern Pipeline Co. posted new notice(s) since our last check at \\n12/13/2000 1:30:01 PM, the newest notice looks like:\\n\\n Capacity Constraint, Dec 13 2000  1:48PM, Dec 14 2000  9:00AM, Dec 15 2000  \\n8:59AM, 2237, Allocation - SOCAL NEEDLES\\n\\nPlease click the following to go to the web ...\n",
       "3                                                                                                                                                                                                              Mark, attached is a memo of my accomplishments for 2000.  Thanks for your \\nconsiderationn.\\n\\n\n",
       "4  Kathy/Scott,\\n\\nI don't know exactly what Chris wanted but here's my stab at it and remember \\nmy limited mental abilities are making a bunch of assumptions.....\\n\\nDeal 459233 is the exchange offset to 459214 and should probably be zerod \\nout.  459193 is the exchange offset to 459175 and shoul..."
      ]
     },
     "execution_count": 7,
     "metadata": {},
     "output_type": "execute_result"
    }
   ],
   "source": [
    "# extract random 10000 enron email bodies for building dataset\n",
    "import random\n",
    "bodies_df = pd.DataFrame(random.sample(bodies, 10000))\n",
    "\n",
    "# expand default pandas display options to make emails more clearly visible when printed\n",
    "pd.set_option('display.max_colwidth', 300)\n",
    "\n",
    "bodies_df.head() # you could do print(bodies_df.head()), but Jupyter displays this nicer for pandas DataFrames"
   ]
  },
  {
   "cell_type": "markdown",
   "metadata": {},
   "source": [
    "The following (commented out) code is arguably the more \"pythonic\" way of achieving the extraction of bodies from messages. It is only 2 lines long and achieves the same result. However, we feel the code above is more transparent with regards to how the processing is carried out, and as such leave this here for the python experts if they prefer."
   ]
  },
  {
   "cell_type": "code",
   "execution_count": 8,
   "metadata": {},
   "outputs": [],
   "source": [
    "#messages = emails[\"message\"].apply(email.message_from_string)\n",
    "#bodies_df = messages.apply(lambda x: x.get_payload()).sample(10000)"
   ]
  },
  {
   "cell_type": "markdown",
   "metadata": {},
   "source": [
    "# Read and Preprocess Fraudulent \"419\" Email Corpus"
   ]
  },
  {
   "cell_type": "code",
   "execution_count": 9,
   "metadata": {},
   "outputs": [
    {
     "name": "stdout",
     "output_type": "stream",
     "text": [
      "Successfully loaded 3978 spam emails!\n"
     ]
    }
   ],
   "source": [
    "filepath = \"../input/fraudulent-email-corpus/fradulent_emails.txt\"\n",
    "with open(filepath, 'r',encoding=\"latin1\") as file:\n",
    "    data = file.read()\n",
    "    \n",
    "# split on a code word appearing close to the beginning of each email\n",
    "fraud_emails = data.split(\"From r\")\n",
    "\n",
    "print(\"Successfully loaded {} spam emails!\".format(len(fraud_emails)))"
   ]
  },
  {
   "cell_type": "code",
   "execution_count": 10,
   "metadata": {},
   "outputs": [
    {
     "name": "stdout",
     "output_type": "stream",
     "text": [
      "Successfully retrieved message body from e-mails!\n"
     ]
    },
    {
     "data": {
      "text/html": [
       "<div>\n",
       "<style scoped>\n",
       "    .dataframe tbody tr th:only-of-type {\n",
       "        vertical-align: middle;\n",
       "    }\n",
       "\n",
       "    .dataframe tbody tr th {\n",
       "        vertical-align: top;\n",
       "    }\n",
       "\n",
       "    .dataframe thead th {\n",
       "        text-align: right;\n",
       "    }\n",
       "</style>\n",
       "<table border=\"1\" class=\"dataframe\">\n",
       "  <thead>\n",
       "    <tr style=\"text-align: right;\">\n",
       "      <th></th>\n",
       "      <th>0</th>\n",
       "    </tr>\n",
       "  </thead>\n",
       "  <tbody>\n",
       "    <tr>\n",
       "      <td>0</td>\n",
       "      <td>FROM:MR. JAMES NGOLA.\\nCONFIDENTIAL TEL: 233-27-587908.\\nE-MAIL: (james_ngola2002@maktoob.com).\\n\\nURGENT BUSINESS ASSISTANCE AND PARTNERSHIP.\\n\\n\\nDEAR FRIEND,\\n\\nI AM ( DR.) JAMES NGOLA, THE PERSONAL ASSISTANCE TO THE LATE CONGOLESE (PRESIDENT LAURENT KABILA) WHO WAS ASSASSINATED BY HIS BODY G...</td>\n",
       "    </tr>\n",
       "    <tr>\n",
       "      <td>1</td>\n",
       "      <td>Dear Friend,\\n\\nI am Mr. Ben Suleman a custom officer and work as Assistant controller of the Customs and Excise department Of the Federal Ministry of Internal Affairs stationed at the Murtala Mohammed International Airport, Ikeja, Lagos-Nigeria.\\n\\nAfter the sudden death of the former Head of s...</td>\n",
       "    </tr>\n",
       "    <tr>\n",
       "      <td>2</td>\n",
       "      <td>FROM HIS ROYAL MAJESTY (HRM) CROWN RULER OF ELEME KINGDOM \\nCHIEF DANIEL ELEME, PHD, EZE 1 OF ELEME.E-MAIL \\nADDRESS:obong_715@epatra.com  \\n\\nATTENTION:PRESIDENT,CEO Sir/ Madam. \\n\\nThis letter might surprise you because we have met\\nneither in person nor by correspondence. But I believe\\nit is...</td>\n",
       "    </tr>\n",
       "    <tr>\n",
       "      <td>3</td>\n",
       "      <td>FROM HIS ROYAL MAJESTY (HRM) CROWN RULER OF ELEME KINGDOM \\nCHIEF DANIEL ELEME, PHD, EZE 1 OF ELEME.E-MAIL \\nADDRESS:obong_715@epatra.com  \\n\\nATTENTION:PRESIDENT,CEO Sir/ Madam. \\n\\nThis letter might surprise you because we have met\\nneither in person nor by correspondence. But I believe\\nit is...</td>\n",
       "    </tr>\n",
       "    <tr>\n",
       "      <td>4</td>\n",
       "      <td>Dear sir, \\n \\nIt is with a heart full of hope that I write to seek your help in respect of the context below. I am Mrs. Maryam Abacha the former first lady of the former Military Head of State of Nigeria General Sani Abacha whose sudden death occurred on 8th of June 1998 as a result of cardiac ...</td>\n",
       "    </tr>\n",
       "  </tbody>\n",
       "</table>\n",
       "</div>"
      ],
      "text/plain": [
       "                                                                                                                                                                                                                                                                                                             0\n",
       "0  FROM:MR. JAMES NGOLA.\\nCONFIDENTIAL TEL: 233-27-587908.\\nE-MAIL: (james_ngola2002@maktoob.com).\\n\\nURGENT BUSINESS ASSISTANCE AND PARTNERSHIP.\\n\\n\\nDEAR FRIEND,\\n\\nI AM ( DR.) JAMES NGOLA, THE PERSONAL ASSISTANCE TO THE LATE CONGOLESE (PRESIDENT LAURENT KABILA) WHO WAS ASSASSINATED BY HIS BODY G...\n",
       "1  Dear Friend,\\n\\nI am Mr. Ben Suleman a custom officer and work as Assistant controller of the Customs and Excise department Of the Federal Ministry of Internal Affairs stationed at the Murtala Mohammed International Airport, Ikeja, Lagos-Nigeria.\\n\\nAfter the sudden death of the former Head of s...\n",
       "2  FROM HIS ROYAL MAJESTY (HRM) CROWN RULER OF ELEME KINGDOM \\nCHIEF DANIEL ELEME, PHD, EZE 1 OF ELEME.E-MAIL \\nADDRESS:obong_715@epatra.com  \\n\\nATTENTION:PRESIDENT,CEO Sir/ Madam. \\n\\nThis letter might surprise you because we have met\\nneither in person nor by correspondence. But I believe\\nit is...\n",
       "3  FROM HIS ROYAL MAJESTY (HRM) CROWN RULER OF ELEME KINGDOM \\nCHIEF DANIEL ELEME, PHD, EZE 1 OF ELEME.E-MAIL \\nADDRESS:obong_715@epatra.com  \\n\\nATTENTION:PRESIDENT,CEO Sir/ Madam. \\n\\nThis letter might surprise you because we have met\\nneither in person nor by correspondence. But I believe\\nit is...\n",
       "4  Dear sir, \\n \\nIt is with a heart full of hope that I write to seek your help in respect of the context below. I am Mrs. Maryam Abacha the former first lady of the former Military Head of State of Nigeria General Sani Abacha whose sudden death occurred on 8th of June 1998 as a result of cardiac ..."
      ]
     },
     "execution_count": 10,
     "metadata": {},
     "output_type": "execute_result"
    }
   ],
   "source": [
    "fraud_bodies = extract_messages(pd.DataFrame(fraud_emails,columns=[\"message\"],dtype=str))\n",
    "fraud_bodies_df = pd.DataFrame(fraud_bodies[1:])\n",
    "\n",
    "fraud_bodies_df.head() # you could do print(fraud_bodies_df.head()), but Jupyter displays this nicer for pandas DataFrames"
   ]
  },
  {
   "cell_type": "markdown",
   "metadata": {},
   "source": [
    "# Define Tokenization, Stop-word and Punctuation Removal Functions\n",
    "Before proceeding, we must decide how many samples to draw from each class. We must also decide the maximum number of tokens per email, and the maximum length of each token. This is done by setting the following overarching hyperparameters"
   ]
  },
  {
   "cell_type": "code",
   "execution_count": 11,
   "metadata": {},
   "outputs": [],
   "source": [
    "Nsamp =1000 # number of samples to generate in each class - 'spam', 'not spam'\n",
    "maxtokens = 200 # the maximum number of tokens per document\n",
    "maxtokenlen = 100 # the maximum length of each token"
   ]
  },
  {
   "cell_type": "markdown",
   "metadata": {},
   "source": [
    "**Tokenization**"
   ]
  },
  {
   "cell_type": "code",
   "execution_count": 12,
   "metadata": {},
   "outputs": [],
   "source": [
    "def tokenize(row):\n",
    "    if row is None or row is '':\n",
    "        tokens = \"\"\n",
    "    else:\n",
    "        tokens = str(row).split(\" \")[:maxtokens]\n",
    "    return tokens"
   ]
  },
  {
   "cell_type": "markdown",
   "metadata": {},
   "source": [
    "**Use regular expressions to remove unnecessary characters**\n",
    "\n",
    "Next, we define a function to remove punctuation marks and other nonword characters (using regular expressions) from the emails with the help of the ubiquitous python regex library. In the same step, we truncate all tokens to hyperparameter maxtokenlen defined above."
   ]
  },
  {
   "cell_type": "code",
   "execution_count": 13,
   "metadata": {},
   "outputs": [],
   "source": [
    "import re\n",
    "\n",
    "def reg_expressions(row):\n",
    "    tokens = []\n",
    "    try:\n",
    "        for token in row:\n",
    "            token = token.lower()\n",
    "            token = re.sub(r'[\\W\\d]', \"\", token)\n",
    "            token = token[:maxtokenlen] # truncate token\n",
    "            tokens.append(token)\n",
    "    except:\n",
    "        token = \"\"\n",
    "        tokens.append(token)\n",
    "    return tokens"
   ]
  },
  {
   "cell_type": "markdown",
   "metadata": {},
   "source": [
    "**Stop-word removal**\n",
    "\n",
    "Let’s define a function to remove stopwords - words that occur so frequently in language that they offer no useful information for classification. This includes words such as “the” and “are”, and the popular library NLTK provides a heavily-used list that will employ."
   ]
  },
  {
   "cell_type": "code",
   "execution_count": 14,
   "metadata": {},
   "outputs": [
    {
     "name": "stdout",
     "output_type": "stream",
     "text": [
      "[nltk_data] Downloading package stopwords to /usr/share/nltk_data...\n",
      "[nltk_data]   Unzipping corpora/stopwords.zip.\n"
     ]
    }
   ],
   "source": [
    "import nltk\n",
    "\n",
    "nltk.download('stopwords')\n",
    "from nltk.corpus import stopwords\n",
    "stopwords = stopwords.words('english')    \n",
    "\n",
    "def stop_word_removal(row):\n",
    "    token = [token for token in row if token not in stopwords]\n",
    "    token = filter(None, token)\n",
    "    return token"
   ]
  },
  {
   "cell_type": "markdown",
   "metadata": {},
   "source": [
    "# Putting It All Together To Assemble Dataset\n",
    "\n",
    "Now, putting all the preprocessing steps together we assemble our dataset..."
   ]
  },
  {
   "cell_type": "code",
   "execution_count": 15,
   "metadata": {},
   "outputs": [],
   "source": [
    "import random\n",
    "\n",
    "# Convert everything to lower-case, truncate to maxtokens and truncate each token to maxtokenlen\n",
    "EnronEmails = bodies_df.iloc[:,0].apply(tokenize)\n",
    "EnronEmails = EnronEmails.apply(stop_word_removal)\n",
    "EnronEmails = EnronEmails.apply(reg_expressions)\n",
    "EnronEmails = EnronEmails.sample(Nsamp)\n",
    "\n",
    "SpamEmails = fraud_bodies_df.iloc[:,0].apply(tokenize)\n",
    "SpamEmails = SpamEmails.apply(stop_word_removal)\n",
    "SpamEmails = SpamEmails.apply(reg_expressions)\n",
    "SpamEmails = SpamEmails.sample(Nsamp)\n",
    "\n",
    "raw_data = pd.concat([SpamEmails,EnronEmails], axis=0).values"
   ]
  },
  {
   "cell_type": "code",
   "execution_count": 16,
   "metadata": {},
   "outputs": [
    {
     "name": "stdout",
     "output_type": "stream",
     "text": [
      "Shape of combined data is:\n",
      "(2000,)\n",
      "Data represented as numpy array is:\n",
      "[list(['table', 'borderd', 'widthd', 'cellpaddingd', 'cellpaddingdtrtd', 'bgcolordffffffpjames', 'alfredbrlloyds', 'tsb', 'pacific', 'limitedbrhong', 'kong', 'branchppnbspthank', 'giving', 'time', 'please', 'patient', 'read', 'email', 'youbri', 'staff', 'lloyds', 'tsb', 'group', 'attached', 'private', 'banking', 'services', 'i', 'contacting', 'concerning', 'customer', 'and', 'investment', 'placed', 'banks', 'management', '', 'years', 'ago', 'i', 'contacted', 'independently', 'investigation', 'one', 'informed', 'of', 'communication', 'i', 'would', 'like', 'intimate', 'certain', 'facts', 'i', 'believe', 'would', 'interest', 'youbrnbspin', '', 'the', 'subject', 'matter', 'ref', 'bbtsbbank', 'came', 'bank', 'engage', 'business', 'discussions', 'private', 'banking', 'services', 'department', 'he', 'informed', 'us', 'financial', 'portfolio', '', 'million', 'united', 'states', 'dollars', 'wished', 'us', 'turn', 'behalf', 'i', 'was', 'officer', 'assigned', 'case', 'i', 'made', 'numerous', 'suggestions', 'line', 'duties', 'defacto', 'chief', 'operations', 'officer', 'private', 'banking', 'services', 'department', 'especially', 'given', 'volume', 'funds', 'wished', 'put', 'bank', 'we', 'met', 'numerous', 'o', 'unds', 'tocater', 'banking', 'statutory', 'charges', 'he', 'complained', 'charges', 'later'])\n",
      " list(['permit', 'first', 'introduce', 'myself', 'my', 'name', 'kennethc', 'ndlovu', 'eldest', 'child', 'mr', 'tarcisious', 'ndlovu', 'zimbabwe', '', 'during', 'current', 'crisis', 'farmers', 'zimbabwe', 'the', 'supporters', 'president', 'robert', 'mugabe', 'claim', 'the', 'white', 'owned', 'farms', 'country', 'ordered', 'white', 'farmers', 'surrender', 'farms', 'party', 'members', '', 'followersmy', 'father', 'one', 'best', 'farmers', 'country', 'and', 'knowing', 'support', 'presidents', 'political', 'ideology', 'presidents', 'supporters', 'invaded', 'fathers', 'farm', 'burnt', 'everything', 'killed', 'confiscated', 'investments', 'after', 'death', 'father', 'mother', 'i', 'younger', 'sister', 'decided', 'move', 'zimbabwe', 'safety', 'lives', 'before', 'moved', 'able', 'to', 'assistance', 'diplomat', 'friend', 'of', 'late', 'father', 'send', 'money', 'father', 'kept', 'safe', 'mothers', 'house', 'amounted', 'sum', 'us', 'million', 'united', 'states', 'dollars', 'overseas', 'the', 'diplomat', 'fathers', 'friend', 'assited', 'us', 'sending'])\n",
      " list(['mr', 'peter', 'langpostfach', '', 'bern', 'switzerlandimperative', 'and', 'private', 'i', 'contacting', 'business', 'transfer', 'huge', 'sum', 'money', 'deceased', 'account', 'though', 'i', 'know', 'transaction', 'magnitude', 'make', 'one', 'apprehensive', 'worried', 'i', 'assuring', 'will', 'well', 'end', 'day', 'we', 'decided', 'contact', 'due', 'urgency', 'transaction', 'proposition', 'we', 'discovered', 'abandoned', 'sum', 'us', 'seven', 'million', 'five', 'hundred', 'thousand', 'united', 'states', 'dollars', 'account', 'belongs', 'one', 'foreign', 'customers', 'died', 'along', 'entire', 'family', 'since', 'death', 'none', 'nextofkin', 'relations', 'come', 'forward', 'lay', 'claims', 'money', 'heir', 'we', 'cannot', 'release', 'fund', 'account', 'unless', 'someone', 'applies', 'claim', 'as', 'nextofkin', 'deceased', 'indicated', 'banking', 'guidelines', 'upon', 'discovery', 'seek', 'permission', 'stand', 'next', 'kin', 'deceased', 'documentations', 'carefully', 'worked', 'us', 'funds', 'us', 'released', 'favour', 'beneficiarys', 'next', 'kin', 'it', 'may', 'interest'])\n",
      " ...\n",
      " list(['as', 'know', 'enron', 'signed', 'merger', 'agreement', 'dynegy', 'acquire', 'enron', 'we', 'expect', 'transaction', 'close', 'following', 'shareholder', 'regulatory', 'approvals', 'various', 'conditions', 'closingeven', 'though', 'enron', 'entered', 'agreement', 'us', 'foreign', 'antitrust', 'laws', 'require', 'enron', 'dynegy', 'continue', 'operate', 'independently', 'other', 'in', 'particular', 'extent', 'enron', 'dynegy', 'competitors', 'various', 'businesses', 'markets', 'respective', 'activities', 'must', 'undertaken', 'arms', 'length', 'transaction', 'closed', 'therefore', 'antitrust', 'purposes', 'treat', 'dynegy', 'would', 'unaffiliated', 'company', 'notwithstanding', 'merger', 'agreementin', 'addition', 'information', 'documents', 'communications', 'related', 'merger', 'enron', 'dynegy', 'coordinated', 'approved', 'mark', 'muller', 'lance', 'schuler', 'robert', 'eickenroht', 'mark', 'haedicke', 'rob', 'walls', 'greg', 'whalley', 'enron', 'it', 'absolutely', 'critical', 'procedure', 'maintained', 'to', 'extent', 'information', 'required', 'disclosed', 'dynegy', 'merger', 'agreement', 'disclosure', 'approved', 'one', 'foregoing', 'individualsif', 'questions', 'concerning', 'notice', 'please', 'contact', 'lance', 'schuler', '', 'robert', 'eickenroht', '', 'mark', 'haedicke', ''])\n",
      " list(['the', 'following', 'sap', 'id', 'password', 'allows', 'access', 'pay', 'benefit', 'personal', 'data', 'via', 'ehronline', 'do', 'not', 'provide', 'idpassword', 'anyone', 'enables', 'modification', 'direct', 'deposit', 'account', 'informationthe', 'sap', 'system', 'and', 'ehronline', 'available', 'beginning', 'friday', 'june', '', '', 'am', 'time', 'entry', 'full', 'sap', 'functionality', 'financials', 'available', 'july', '', 'you', 'asked', 'change', 'password', 'initial', 'logon', 'your', 'new', 'password', 'meet', 'following', 'criteriamust', '', 'characters', 'longcan', 'include', 'numbers', 'letterscan', 'not', 'include', 'enron', 'passwordthe', 'system', 'require', 'change', 'password', 'every', '', 'daysthe', 'following', 'address', 'connect', 'ehronline', 'beginning', 'friday', 'june', '', 'at', 'am', 'httpehronlineenroncommust', 'use', 'internet', 'explorer', 'version', '', 'higher', 'access', 'linkhow', 'i', 'get', 'helpsap', 'supportcall', 'coe', 'sap', 'hotline', 'sap', 'for', 'quick', 'reference', 'tools', 'security', 'request', 'processes', 'hours', 'contact', 'information', 'general', 'information', 'go', 'coe', 'web', 'site', 'via', 'internet', 'explorer', 'using', 'following', 'url', 'address', 'httpsapenroncomcoefor', 'troubleshooting', 'golive', 'tips', 'go', 'following', 'web', 'site', 'via', 'internet', 'explorer', 'using', 'following', 'url', 'addresshttpsapenroncomcoeclick', 'sap', 'click'])\n",
      " list(['would', 'interest', 'using', 'auction', 'functions', 'eol', 'product', 'instead', 'product', 'line', 'there', 'lot', 'flexibility', 'setting', 'rules', '', 'reserve', 'prices', 'not', 'sale', 'commitment', 'not', 'timing', 'etc', '', 'would', 'added', 'benefit', 'finding', 'customers', 'willing', 'transact', 'price', 'high', 'them', 'i', 'assume', 'showing', 'one', 'side', 'market', 'original', 'messagefrom', 'kitchen', 'louise', 'sentwednesday', 'august', '', '', '', 'pmtothome', 'stephen', 'richter', 'brad', 'calger', 'christopher', 'fccwebb', 'jay', 'taylor', 'mark', 'e', 'legalsubjectre', 'enymexsounds', 'like', 'great', 'idea', '', 'quickly', 'get', 'there', 'original', 'messagefrom', 'thome', 'stephen', 'sentwednesday', 'august', '', '', '', 'amtorichter', 'brad', 'kitchen', 'louise', 'calger', 'christopher', 'fccwebb', 'jay', 'taylor', 'mark', 'e', 'legalsubjectre', 'enymexbradwe', 'may', 'consider', 'targeting', 'wide', 'audience', 'since', 'turbines', 'technology', 'choice', 'many', 'large', 'corporate', 'entities', 'target', 'audience', 'may', 'need', 'somewhat', 'diverse', 'our', 'prerequisite', 'purchase', 'ability', 'raise', '', 'mm', 'plus', 'option', 'feesi', 'two', 'primary', 'documents', 'one', 'spec', 'sheet', 'general', 'scope'])]\n"
     ]
    }
   ],
   "source": [
    "print(\"Shape of combined data is:\")\n",
    "print(raw_data.shape)\n",
    "print(\"Data represented as numpy array is:\")\n",
    "print(raw_data)\n",
    "\n",
    "# corresponding labels\n",
    "Categories = ['spam','notspam']\n",
    "header = ([1]*Nsamp)\n",
    "header.extend(([0]*Nsamp))"
   ]
  },
  {
   "cell_type": "code",
   "execution_count": 17,
   "metadata": {},
   "outputs": [
    {
     "name": "stdout",
     "output_type": "stream",
     "text": [
      "train_x/train_y list details, to make sure it is of the right form:\n",
      "1400\n",
      "[['assalamualaikummy name amina hannah hatleberg americae i survivingdaughter dre mrs hatleberg died result plane crash alaskaairlines flight  crashed january  e my familyconverted islam e when late parent alivec fatherdeposited sum ofe million eight million five hundred thousanduese dollars international diplomatic service firm south eastasia purpose invest fund islamic foundation asiabefore death took himc the fund still safe keeping theinternational diplomatic firm south east asiac hence contactingyou help achieve project countryetwo years ago i fell sick doctor told i hadcancerc i tried best treat every medicalexpert improvementc currently doctor told iwould last next six months due cancer problemse havingknown conditionc i decided donate fund mosquec islamicschool authority better muslim individual utilize thismoney way i instructe i want fund disburse tocorphanagesc widows promoting work almighty allahc needies topromote']\n",
      " ['barclays bank plc  st mary axe london eca lei mr gary adams senior credit officer barclays bank plc london i writing following opportunity office immense benefit usin department discovered abandoned sum million british pounds sterling twelve million five hundred thousand british pounds sterling account belongs one foreign customers late mr morris thompson american unfortunately lost life plane crash alaska airlines flight  crashed january   including wife daughter you shall read crash visiting websitehttpwwwcnncomusalaskaairlineslisthttpwwwnativefederationorghistorypeoplemthompsonhtmlsince got information death expecting next kin relatives come claim money bank cannot release funds unless somebody applies next kin relation deceased indicated banking guidelinesunfortunately i learnt supposed next kin daughter died along plane crash leaving nobody knowledge fund behind claim it therefore upon']\n",
      " ['emailmessagemessage object xfafb emailmessagemessage object xfafaef']\n",
      " ...\n",
      " ['holly keiserenron americaslegal department  eb  ph fxhollykeiserenroncom']\n",
      " ['attna i interested partnership business transactione this business proposal i wish intimate mutual benefit us itfs success entirely based mutual trustc cooperation high level confidentialityei representing board contract award monitoring committe zambian ministry mining resourcese i seeking assistance enable transfer sum uscce thirty millionc five hundred thousand united states dollars privatefcompany accountethe fund came result contract awarded executed behalf ministrye the contract supposed awarded two foreign contractors tune uscce one hundred eighty million united states dollarse but course negotiationc contract awarded bulgarian contractor cost uscce one hundred fortynine millionc five hundred thousand united states dollars advantage unknown']\n",
      " ['fyi although probably already this forwarded barbara n grayhouect   pm dan j bumpenronsent by dan j bumpenron  pm  to barbara n grayhouectect cc mark whittnaenronenron subject crescendo agreementwildhorses gathering proposal draft reviewcall questions or commentsi yet submitted counterproposalthanksdan forwarded dan j bumpnaenron   pm  enron capital  trade resources corpfrom harris kent kent_harriskindermorgancom    pmto dbumpenroncom dbumpenroncomcc huckaby steven steven_huckabykindermorgancom subject crescendo agreementrevised draft agreementthankskent gacrescendosalow btudoc  gacrescendosalow btudoc']]\n",
      "[1 1 1 0 1]\n",
      "(1400,)\n"
     ]
    }
   ],
   "source": [
    "# function for shuffling data\n",
    "def unison_shuffle(a, b):\n",
    "    p = np.random.permutation(len(b))\n",
    "    data = a[p]\n",
    "    header = np.asarray(b)[p]\n",
    "    return data, header\n",
    "\n",
    "# function for converting data into the right format, due to the difference in required format from sklearn models\n",
    "# we expect a single string per email here, versus a list of tokens for the sklearn models previously explored\n",
    "def convert_data(raw_data,header):\n",
    "    converted_data, labels = [], []\n",
    "    for i in range(raw_data.shape[0]):\n",
    "        # combine list of tokens representing each email into single string\n",
    "        out = ' '.join(raw_data[i])\n",
    "        converted_data.append(out)\n",
    "        labels.append(header[i])\n",
    "        #print(i)\n",
    "    converted_data = np.array(converted_data, dtype=object)[:, np.newaxis]\n",
    "    return converted_data, np.array(labels)\n",
    "\n",
    "raw_data, header = unison_shuffle(raw_data, header)\n",
    "\n",
    "# split into independent 70% training and 30% testing sets\n",
    "idx = int(0.7*raw_data.shape[0])\n",
    "# 70% of data for training\n",
    "train_x, train_y = convert_data(raw_data[:idx],header[:idx])\n",
    "# remaining 30% for testing\n",
    "test_x, test_y = convert_data(raw_data[idx:],header[idx:])\n",
    "\n",
    "print(\"train_x/train_y list details, to make sure it is of the right form:\")\n",
    "print(len(train_x))\n",
    "print(train_x)\n",
    "print(train_y[:5])\n",
    "print(train_y.shape)"
   ]
  },
  {
   "cell_type": "markdown",
   "metadata": {},
   "source": [
    "# Build, Train and Evaluate ELMo Model\n",
    "Create a custom tf hub ELMO embedding layer"
   ]
  },
  {
   "cell_type": "code",
   "execution_count": 18,
   "metadata": {
    "_cell_guid": "79c7e3d0-c299-4dcb-8224-4455121ee9b0",
    "_uuid": "d629ff2d2480ee46fbb7e2d37f6b5fab8052498a"
   },
   "outputs": [],
   "source": [
    "class ElmoEmbeddingLayer(Layer):\n",
    "    def __init__(self, **kwargs):\n",
    "        self.dimensions = 1024 # initialize output dimension of ELMo embedding\n",
    "        self.trainable=True\n",
    "        super(ElmoEmbeddingLayer, self).__init__(**kwargs)\n",
    "\n",
    "    def build(self, input_shape): # function for building ELMo embedding\n",
    "        self.elmo = hub.Module('https://tfhub.dev/google/elmo/2', trainable=self.trainable,\n",
    "                               name=\"{}_module\".format(self.name)) # download pretrained ELMo model\n",
    "        \n",
    "        # extract trainable parameters, which are only a small subset of the total - this is a constraint of\n",
    "        # the tf hub module as shared by the authors - see https://tfhub.dev/google/elmo/2\n",
    "        # the trainable parameters are 4 scalar weights on the sum of the outputs of ELMo layers \n",
    "        self.trainable_weights += K.tf.trainable_variables(scope=\"^{}_module/.*\".format(self.name))\n",
    "        super(ElmoEmbeddingLayer, self).build(input_shape)\n",
    "\n",
    "    def call(self, x, mask=None): # specify function for calling embedding\n",
    "        result = self.elmo(K.squeeze(K.cast(x, tf.string), axis=1),\n",
    "                      as_dict=True,\n",
    "                      signature='default',\n",
    "                      )['default']\n",
    "        return result\n",
    "\n",
    "    def compute_output_shape(self, input_shape): # specify output shape\n",
    "        return (input_shape[0], self.dimensions)"
   ]
  },
  {
   "cell_type": "markdown",
   "metadata": {},
   "source": [
    "We now use the custom TF hub ELMo embedding layer within a higher-level function to define the overall model. \n",
    "More specifically, we put a dense trainable layer of output dimension 256 on top of the ELMo embedding. "
   ]
  },
  {
   "cell_type": "code",
   "execution_count": 19,
   "metadata": {},
   "outputs": [],
   "source": [
    "# Function to build overall model\n",
    "def build_model():\n",
    "    input_text = layers.Input(shape=(1,), dtype=\"string\")\n",
    "    embedding = ElmoEmbeddingLayer()(input_text)\n",
    "    dense = layers.Dense(256, activation='relu')(embedding)\n",
    "    pred = layers.Dense(1, activation='sigmoid')(dense) # we could use sigmoid activation as well, but we choose softmax\n",
    "                                                        # to enable us use sparse_categorical_crossentropy and \n",
    "                                                        # sparse_categorical_accuracy below\n",
    "    \n",
    "    model = Model(inputs=[input_text], outputs=pred)\n",
    "    # use sparse_categorical_crossentropy and sparse_categorical_accuracy do avoid having to\n",
    "    # one-hot encode the labels\n",
    "    model.compile(loss='binary_crossentropy', optimizer='adam', metrics=['accuracy'])\n",
    "    \n",
    "    model.summary()\n",
    "    \n",
    "    return model"
   ]
  },
  {
   "cell_type": "code",
   "execution_count": 20,
   "metadata": {},
   "outputs": [
    {
     "name": "stdout",
     "output_type": "stream",
     "text": [
      "_________________________________________________________________\n",
      "Layer (type)                 Output Shape              Param #   \n",
      "=================================================================\n",
      "input_1 (InputLayer)         (None, 1)                 0         \n",
      "_________________________________________________________________\n",
      "elmo_embedding_layer_1 (Elmo (None, 1024)              4         \n",
      "_________________________________________________________________\n",
      "dense_1 (Dense)              (None, 256)               262400    \n",
      "_________________________________________________________________\n",
      "dense_2 (Dense)              (None, 1)                 257       \n",
      "=================================================================\n",
      "Total params: 262,661\n",
      "Trainable params: 262,661\n",
      "Non-trainable params: 0\n",
      "_________________________________________________________________\n",
      "Train on 1400 samples, validate on 600 samples\n",
      "Epoch 1/5\n",
      "1400/1400 [==============================] - 51s 37ms/step - loss: 0.5332 - acc: 0.8536 - val_loss: 0.4702 - val_acc: 0.8783\n",
      "Epoch 2/5\n",
      "1400/1400 [==============================] - 43s 30ms/step - loss: 0.2553 - acc: 0.9436 - val_loss: 0.1557 - val_acc: 0.9467\n",
      "Epoch 3/5\n",
      "1400/1400 [==============================] - 43s 31ms/step - loss: 0.1433 - acc: 0.9643 - val_loss: 0.0399 - val_acc: 0.9967\n",
      "Epoch 4/5\n",
      "1400/1400 [==============================] - 42s 30ms/step - loss: 0.1298 - acc: 0.9686 - val_loss: 0.0839 - val_acc: 0.9700\n",
      "Epoch 5/5\n",
      "1400/1400 [==============================] - 42s 30ms/step - loss: 0.0519 - acc: 0.9886 - val_loss: 0.0450 - val_acc: 0.9967\n"
     ]
    }
   ],
   "source": [
    "# Build and fit\n",
    "model = build_model()\n",
    "history = model.fit(train_x, \n",
    "          train_y,\n",
    "          validation_data=(test_x, test_y),\n",
    "          epochs=5,\n",
    "          batch_size=32)"
   ]
  },
  {
   "cell_type": "markdown",
   "metadata": {},
   "source": [
    "**Save trained model**"
   ]
  },
  {
   "cell_type": "code",
   "execution_count": 21,
   "metadata": {},
   "outputs": [],
   "source": [
    "model.save('ELMoModel.h5')\n"
   ]
  },
  {
   "cell_type": "markdown",
   "metadata": {},
   "source": [
    "**Visualize Convergence**"
   ]
  },
  {
   "cell_type": "code",
   "execution_count": 22,
   "metadata": {},
   "outputs": [
    {
     "data": {
      "image/png": "[encoded data removed]",
      "text/plain": [
       "<Figure size 432x288 with 1 Axes>"
      ]
     },
     "metadata": {
      "needs_background": "light"
     },
     "output_type": "display_data"
    }
   ],
   "source": [
    "import matplotlib.pyplot as plt\n",
    "\n",
    "df_history = pd.DataFrame(history.history)\n",
    "\n",
    "fig,ax = plt.subplots()\n",
    "plt.plot(range(df_history.shape[0]),df_history['val_acc'],'bs--',label='validation')\n",
    "plt.plot(range(df_history.shape[0]),df_history['acc'],'r^--',label='training')\n",
    "plt.xlabel('epoch')\n",
    "plt.ylabel('accuracy')\n",
    "plt.title('ELMo Email Classification Training')\n",
    "plt.legend(loc='best')\n",
    "plt.grid()\n",
    "plt.show()\n",
    "# Save figures\n",
    "fig.savefig('ELMoConvergence.eps', format='eps')\n",
    "fig.savefig('ELMoConvergence.pdf', format='pdf')\n",
    "fig.savefig('ELMoConvergence.png', format='png')\n",
    "fig.savefig('ELMoConvergence.svg', format='svg')"
   ]
  },
  {
   "cell_type": "markdown",
   "metadata": {},
   "source": [
    "**Make figures downloadable to local system in interactive mode**"
   ]
  },
  {
   "cell_type": "code",
   "execution_count": 23,
   "metadata": {},
   "outputs": [
    {
     "data": {
      "text/html": [
       "<a href=ELMoConvergence.svg>Download file</a>"
      ],
      "text/plain": [
       "<IPython.core.display.HTML object>"
      ]
     },
     "execution_count": 23,
     "metadata": {},
     "output_type": "execute_result"
    }
   ],
   "source": [
    "from IPython.display import HTML\n",
    "def create_download_link(title = \"Download file\", filename = \"data.csv\"):  \n",
    "    html = '<a href={filename}>{title}</a>'\n",
    "    html = html.format(title=title,filename=filename)\n",
    "    return HTML(html)\n",
    "\n",
    "create_download_link(filename='ELMoConvergence.svg')"
   ]
  }
 ],
 "metadata": {
  "kernelspec": {
   "display_name": "Python 3",
   "language": "python",
   "name": "python3"
  },
  "language_info": {
   "codemirror_mode": {
    "name": "ipython",
    "version": 3
   },
   "file_extension": ".py",
   "mimetype": "text/x-python",
   "name": "python",
   "nbconvert_exporter": "python",
   "pygments_lexer": "ipython3",
   "version": "3.6.6"
  }
 },
 "nbformat": 4,
 "nbformat_minor": 1
}
