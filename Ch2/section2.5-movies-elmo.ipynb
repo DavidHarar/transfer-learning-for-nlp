{
 "cells": [
  {
   "cell_type": "markdown",
   "metadata": {},
   "source": [
    "# Preliminaries\n",
    "\n",
    "First install a critical dependency for our code"
   ]
  },
  {
   "cell_type": "code",
   "execution_count": 1,
   "metadata": {},
   "outputs": [
    {
     "name": "stdout",
     "output_type": "stream",
     "text": [
      "Collecting keras==2.2.4\r\n",
      "\u001b[?25l  Downloading https://files.pythonhosted.org/packages/5e/10/aa32dad071ce52b5502266b5c659451cfd6ffcbf14e6c8c4f16c0ff5aaab/Keras-2.2.4-py2.py3-none-any.whl (312kB)\r\n",
      "\u001b[K     |████████████████████████████████| 317kB 3.6MB/s \r\n",
      "\u001b[?25hRequirement already satisfied: scipy>=0.14 in /opt/conda/lib/python3.6/site-packages (from keras==2.2.4) (1.2.1)\r\n",
      "Requirement already satisfied: keras-applications>=1.0.6 in /opt/conda/lib/python3.6/site-packages (from keras==2.2.4) (1.0.8)\r\n",
      "Requirement already satisfied: numpy>=1.9.1 in /opt/conda/lib/python3.6/site-packages (from keras==2.2.4) (1.16.4)\r\n",
      "Requirement already satisfied: keras-preprocessing>=1.0.5 in /opt/conda/lib/python3.6/site-packages (from keras==2.2.4) (1.1.0)\r\n",
      "Requirement already satisfied: h5py in /opt/conda/lib/python3.6/site-packages (from keras==2.2.4) (2.9.0)\r\n",
      "Requirement already satisfied: pyyaml in /opt/conda/lib/python3.6/site-packages (from keras==2.2.4) (5.1.2)\r\n",
      "Requirement already satisfied: six>=1.9.0 in /opt/conda/lib/python3.6/site-packages (from keras==2.2.4) (1.12.0)\r\n",
      "Installing collected packages: keras\r\n",
      "  Found existing installation: Keras 2.3.0\r\n",
      "    Uninstalling Keras-2.3.0:\r\n",
      "      Successfully uninstalled Keras-2.3.0\r\n",
      "Successfully installed keras-2.2.4\r\n"
     ]
    }
   ],
   "source": [
    "!pip install keras==2.2.4 # critical dependency"
   ]
  },
  {
   "cell_type": "markdown",
   "metadata": {},
   "source": [
    "Write requirements to file, anytime you run it, in case you have to go back and recover dependencies.\n",
    "\n",
    "Latest known such requirements are hosted for each notebook in the companion github repo, and can be pulled down and installed here if needed. Companion github repo is located at https://github.com/azunre/transfer-learning-for-nlp"
   ]
  },
  {
   "cell_type": "code",
   "execution_count": 2,
   "metadata": {},
   "outputs": [],
   "source": [
    "!pip freeze > kaggle_image_requirements.txt"
   ]
  },
  {
   "cell_type": "code",
   "execution_count": 3,
   "metadata": {
    "_cell_guid": "b1076dfc-b9ad-4769-8c92-a6c4dae69d19",
    "_uuid": "8f2839f25d086af736a60e9eeb907d3b93b6e0e5"
   },
   "outputs": [
    {
     "name": "stderr",
     "output_type": "stream",
     "text": [
      "Using TensorFlow backend.\n"
     ]
    }
   ],
   "source": [
    "# Import neural network libraries\n",
    "import tensorflow as tf\n",
    "import tensorflow_hub as hub\n",
    "from keras import backend as K\n",
    "import keras.layers as layers\n",
    "from keras.models import Model, load_model\n",
    "from keras.engine import Layer\n",
    "\n",
    "# Initialize tensorflow/keras session\n",
    "sess = tf.Session()\n",
    "K.set_session(sess)"
   ]
  },
  {
   "cell_type": "code",
   "execution_count": 4,
   "metadata": {},
   "outputs": [],
   "source": [
    "# Some other key imports\n",
    "import os\n",
    "import re\n",
    "import pandas as pd\n",
    "import numpy as np\n",
    "import random"
   ]
  },
  {
   "cell_type": "markdown",
   "metadata": {},
   "source": [
    "# Define Tokenization, Stop-word and Punctuation Removal Functions\n",
    "\n",
    "Before proceeding, we must decide how many samples to draw from each class. We must also decide the maximum number of tokens per email, and the maximum length of each token. This is done by setting the following overarching hyperparameters"
   ]
  },
  {
   "cell_type": "code",
   "execution_count": 5,
   "metadata": {},
   "outputs": [],
   "source": [
    "Nsamp = 1000 # number of samples to generate in each class - 'spam', 'not spam'\n",
    "maxtokens = 200 # the maximum number of tokens per document\n",
    "maxtokenlen = 100 # the maximum length of each token"
   ]
  },
  {
   "cell_type": "markdown",
   "metadata": {},
   "source": [
    "**Tokenization**"
   ]
  },
  {
   "cell_type": "code",
   "execution_count": 6,
   "metadata": {},
   "outputs": [],
   "source": [
    "def tokenize(row):\n",
    "    if row is None or row is '':\n",
    "        tokens = \"\"\n",
    "    else:\n",
    "        tokens = row.split(\" \")[:maxtokens]\n",
    "    return tokens"
   ]
  },
  {
   "cell_type": "markdown",
   "metadata": {},
   "source": [
    "**Use regular expressions to remove unnecessary characters**\n",
    "\n",
    "Next, we define a function to remove punctuation marks and other nonword characters (using regular expressions) from the emails with the help of the ubiquitous python regex library. In the same step, we truncate all tokens to hyperparameter maxtokenlen defined above."
   ]
  },
  {
   "cell_type": "code",
   "execution_count": 7,
   "metadata": {},
   "outputs": [],
   "source": [
    "import re\n",
    "\n",
    "def reg_expressions(row):\n",
    "    tokens = []\n",
    "    try:\n",
    "        for token in row:\n",
    "            token = token.lower()\n",
    "            token = re.sub(r'[\\W\\d]', \"\", token)\n",
    "            token = token[:maxtokenlen] # truncate token\n",
    "            tokens.append(token)\n",
    "    except:\n",
    "        token = \"\"\n",
    "        tokens.append(token)\n",
    "    return tokens"
   ]
  },
  {
   "cell_type": "markdown",
   "metadata": {},
   "source": [
    "**Stop-word removal**\n",
    "\n",
    "Let’s define a function to remove stopwords - words that occur so frequently in language that they offer no useful information for classification. This includes words such as “the” and “are”, and the popular library NLTK provides a heavily-used list that will employ."
   ]
  },
  {
   "cell_type": "code",
   "execution_count": 8,
   "metadata": {},
   "outputs": [
    {
     "name": "stdout",
     "output_type": "stream",
     "text": [
      "[nltk_data] Downloading package stopwords to /usr/share/nltk_data...\n",
      "[nltk_data]   Unzipping corpora/stopwords.zip.\n"
     ]
    }
   ],
   "source": [
    "import nltk\n",
    "\n",
    "nltk.download('stopwords')\n",
    "from nltk.corpus import stopwords\n",
    "stopwords = stopwords.words('english')    \n",
    "\n",
    "# print(stopwords) # see default stopwords\n",
    "# it may be beneficial to drop negation words from the removal list, as they can change the positive/negative meaning\n",
    "# of a sentence - but we didn't find it to make a difference for this problem\n",
    "# stopwords.remove(\"no\")\n",
    "# stopwords.remove(\"nor\")\n",
    "# stopwords.remove(\"not\")"
   ]
  },
  {
   "cell_type": "code",
   "execution_count": 9,
   "metadata": {},
   "outputs": [],
   "source": [
    "def stop_word_removal(row):\n",
    "    token = [token for token in row if token not in stopwords]\n",
    "    token = filter(None, token)\n",
    "    return token"
   ]
  },
  {
   "cell_type": "markdown",
   "metadata": {},
   "source": [
    "# Download and Assemble IMDB Review Dataset\n",
    "\n",
    "Download the labeled IMDB reviews"
   ]
  },
  {
   "cell_type": "code",
   "execution_count": 10,
   "metadata": {},
   "outputs": [],
   "source": [
    "!wget -q \"http://ai.stanford.edu/~amaas/data/sentiment/aclImdb_v1.tar.gz\"\n",
    "!tar xzf aclImdb_v1.tar.gz"
   ]
  },
  {
   "cell_type": "markdown",
   "metadata": {},
   "source": [
    "Shuffle and preprocess data"
   ]
  },
  {
   "cell_type": "code",
   "execution_count": 11,
   "metadata": {},
   "outputs": [
    {
     "name": "stdout",
     "output_type": "stream",
     "text": [
      "(25000,)\n",
      "25000\n"
     ]
    }
   ],
   "source": [
    "# function for shuffling data\n",
    "def unison_shuffle(data, header):\n",
    "    p = np.random.permutation(len(header))\n",
    "    data = data[p]\n",
    "    header = np.asarray(header)[p]\n",
    "    return data, header\n",
    "\n",
    "def load_data(path):\n",
    "    data, sentiments = [], []\n",
    "    for folder, sentiment in (('neg', 0), ('pos', 1)):\n",
    "        folder = os.path.join(path, folder)\n",
    "        for name in os.listdir(folder):\n",
    "            with open(os.path.join(folder, name), 'r') as reader:\n",
    "                  text = reader.read()\n",
    "            text = tokenize(text)\n",
    "            text = stop_word_removal(text)\n",
    "            text = reg_expressions(text)\n",
    "            data.append(text)\n",
    "            sentiments.append(sentiment)\n",
    "    data_np = np.array(data)\n",
    "    data, sentiments = unison_shuffle(data_np, sentiments)\n",
    "    \n",
    "    return data, sentiments\n",
    "\n",
    "train_path = os.path.join('aclImdb', 'train')\n",
    "test_path = os.path.join('aclImdb', 'test')\n",
    "raw_data, raw_header = load_data(train_path)\n",
    "\n",
    "print(raw_data.shape)\n",
    "print(len(raw_header))"
   ]
  },
  {
   "cell_type": "code",
   "execution_count": 12,
   "metadata": {},
   "outputs": [
    {
     "name": "stdout",
     "output_type": "stream",
     "text": [
      "DEBUG::data_train::\n",
      "[list(['i', 'saw', 'movie', 'night', 'i', 'honestly', 'say', 'one', 'worst', 'films', 'ive', 'ever', 'seen', 'the', 'acting', 'fair', 'plot', 'totally', 'ridiculous', 'a', 'killer', 'born', 'energy', 'used', 'make', 'movie', 'film', 'burned', 'killer', 'die', 'how', 'unbelievable', 'that', 'the', 'characters', 'underdeveloped', 'say', 'leastfor', 'example', 'sudden', 'man', 'mentions', 'arent', 'trying', 'complete', 'film', 'mother', 'couldnt', 'so', 'were', 'supposed', 'go', 'along', 'this', 'we', 'idea', 'daughter', 'half', 'way', 'film', 'the', 'movie', 'really', 'spotlight', 'anyone', 'know', 'anything', 'main', 'people', 'survived', 'except', 'ringwalds', 'character', 'whiney', 'actress', 'guy', 'set', 'people', 'died', 'raffy', 'wanted', 'director', 'like', 'mother', 'not', 'truly', 'diving', 'know', 'are', 'seemed', 'things', 'rushed', 'get', 'killings', 'the', 'whole', 'plot', 'entirely', 'weak', 'taste', 'i', 'extremely', 'disappointed', 'anyone', 'enjoyed', 'piece', 'crap', 'obviously', 'needs', 'learn', 'thing'])\n",
      " list(['another', 'friday', 'the', 'th', 'ripoff', 'even', 'featuring', 'music', 'a', 'group', 'young', 'adults', 'get', 'together', 'small', 'high', 'school', 'reunion', 'start', 'getting', 'slaughtered', 'la', 'jason', 'voorhees', 'could', 'nerd', 'used', 'torment', 'schoolbr', 'br', 'routine', 'slashfest', 'fun', 'fans', 'genre', 'contains', 'usual', 'ta', 'quota', 'films', 'ilk', 'the', 'ending', 'bit', 'imaginative', 'standard', 'slasherbr', 'br', 'mpaa', 'rated', 'violencegore', 'language', 'sexuality', 'nudity', 'drug', 'content'])\n",
      " list(['every', 'movie', 'critic', 'metal', 'head', 'hated', 'movie', 'i', 'enjoyed', 'it', 'i', 'saw', 'child', 'tv', 'somewhere', 'amazed', 'scene', 'sammi', 'comes', 'stage', 'plays', 'trick', 'treat', 'fastwaybr', 'br', 'the', 'movie', 'typical', 's', 'guy', 'gets', 'pushed', 'around', 'bullies', 'enlists', 'supernatural', 'help', 'beat', 'bullies', 'goes', 'far', 'destroyedbr', 'br', 'matt', 'melrose', 'place', 'picks', 'skippy', 'family', 'ties', 'skippy', 'gets', 'record', 'tony', 'fields', 'gene', 'simmons', 'comfort', 'hell', 'breaks', 'lose', 'highlight', 'tony', 'sings', 'lipsynchs', 'dances', 'metal', 'song', 'shyt', 'hits', 'fanbr', 'br', 'there', 'lot', 'errors', 'stuff', 'music', 'overall', 'imagery', 'enough', 'keep', 'fists', 'pumping', '', ''])\n",
      " ...\n",
      " list(['this', 'is', 'pretty', 'funny', 'saturday', 'the', 'th', 'a', 'great', 'work', 'i', 'laughed', 'every', 'minute', 'movie', 'this', 'is', 'like', 'scary', 'movie', 's', 'great', 'student', 'bodiesstyled', 'gagsbr', 'br', 'too', 'bad', 'this', 'isnt', 'on', 'video', 'but', 'you', 'can', 'still', 'watch', 'it', 'flix'])\n",
      " list(['i', 'find', 'rather', 'useless', 'comment', 'movie', 'simplest', 'reason', 'nothing', 'comment', 'uponits', 'similar', 'rotten', 'egg', 'nothing', 'good', 'show', 'world', 'excerpt', 'fact', 'rotten', 'endless', 'number', 'eggs', 'it', 'but', 'since', 'comment', 'mandatory', 'grandiose', 'insignificance', '', 'br', 'br', 'filth', 'definitely', 'proper', 'word', 'describe', 'movie', 'created', 'manner', 'romanian', 'movie', 'directed', 'lucian', 'pintilie', 'insists', 'depict', 'called', 'romanian', 'reality', 'following', 'communist', 'era', '', 'present', 'daysbr', 'br', 'under', 'circumstances', 'recommended', 'people', 'outside', 'romania', 'others', 'who', 'lately', 'find', 'amateurish', 'camera', 'lack', 'plot', 'lack', 'directorial', '', 'actorss', 'quality', 'etc', 'noise', 'etc', 'trendy', 'even', 'artlike', '', 'watch', '', 'enjoy', 'movie', 'as', 'i', 'know', 'will', 'well', 'intentioned', 'imdb', 'members', 'favor', 'write', 'online', 'review', 'misguide', 'irritate', 'end', 'waste', 'timebr', 'br', 'on', 'hand', 'movie', 'among', 'others', 'value', 'whatsoever', 'educational', 'one'])\n",
      " list(['after', 'finally', 'viewing', 'movie', 'entirety', 'i', 'completely', 'mystified', 'adoration', 'received', 'critics', 'online', 'users', 'alike', 'is', 'worst', 'western', 'ever', 'no', 'i', 'say', 'that', 'but', 'the', 'last', 'great', 'american', 'western', 'phrase', 'i', 'saw', 'applied', 'once', 'not', 'even', 'closebr', 'br', 'a', 'movie', 'tries', 'tell', 'story', 'like', 'needs', 'believable', 'characters', 'speak', 'believable', 'dialogue', 'dialogue', 'film', 'among', 'hackneyed', 'clichéd', 'ive', 'ever', 'seen', 'the', 'movie', 'measured', 'groaners', 'per', 'minute', 'in', 'many', 'times', 'actor', 'actress', 'forced', 'script', 'say', 'something', 'human', 'would', 'say', 'real', 'life', 'theres', 'many', 'instances', 'distracting', 'cheesy', 'lines', 'come', 'waves', 'predictable', 'unoriginal', 'often', 'br', 'br', 'if', 'bad', 'dialogue', 'bother', 'you', 'bad', 'gunfights', 'few', 'westerns', 'show', 'gunfighting', 'thats', 'completely', 'unbelievable', 'desperately', 'trying', 'make', 'take', 'action', 'seriously', 'its', 'okay', 'theres', 'comic', 'edge', 'gunfighting', 'silverado', 'tombstone', 'staged', 'stiff', 'choreography'])]\n"
     ]
    }
   ],
   "source": [
    "# Subsample required number of samples\n",
    "random_indices = np.random.choice(range(len(raw_header)),size=(Nsamp*2,),replace=False)\n",
    "data_train = raw_data[random_indices]\n",
    "header = raw_header[random_indices]\n",
    "\n",
    "print(\"DEBUG::data_train::\")\n",
    "print(data_train)"
   ]
  },
  {
   "cell_type": "markdown",
   "metadata": {},
   "source": [
    "Display sentiments and their frequencies in the dataset, to ensure it is roughly balanced between classes"
   ]
  },
  {
   "cell_type": "code",
   "execution_count": 13,
   "metadata": {},
   "outputs": [
    {
     "name": "stdout",
     "output_type": "stream",
     "text": [
      "Sentiments and their frequencies:\n",
      "[0 1]\n",
      "[ 978 1022]\n"
     ]
    }
   ],
   "source": [
    "unique_elements, counts_elements = np.unique(header, return_counts=True)\n",
    "print(\"Sentiments and their frequencies:\")\n",
    "print(unique_elements)\n",
    "print(counts_elements)"
   ]
  },
  {
   "cell_type": "code",
   "execution_count": 14,
   "metadata": {},
   "outputs": [
    {
     "name": "stdout",
     "output_type": "stream",
     "text": [
      "train_x/train_y list details, to make sure it is of the right form:\n",
      "1400\n",
      "[['one americas brilliant film directors without question elia kazan his directorial genius particularly suited taut thrillers since kazan needed room breathe slower subtle however panic streets firstrate social thriller anything relevant today  released the themes illegal immigrants peoplesmuggling imminent plagues rapid transmission around world diseases a worried richard widmark says i could american city ten hours africa tomorrow ethnic isolation ghettoism todays concerns ever this film features spectacular film debut jack palance wonderful performance barbara bel geddes two casting strokes genius richard widmark allowed psychopath once deeply caring warmly loving intense hero people he leads basically oneman campaign stop epidemic pneumonic plague new orleans struggling convince sluggish politicians complacent policemen problem there race time find smalltime crooks contracted plague']\n",
      " ['one five worst movies i ever watched and im exaggerating in fact i recommend watching get feeling incredulity might watching showgirlsbr br out  votes movie gets user rating  but disproportionate number voters gave  probably due message movie  nuclear weapons bane mankind chuck murdock allstar little league pitcher gives baseball nuclear weapons soon amazing grace smith allstar boston celtic inspired chucks story gives basketball soon sports leagues professional level college high school little league dismantle worldwide protest later children world go silence strike this inspires president united states meet soviet premier time agree eliminate nuclear weapons time start next little league season the movie ends chuck throw first pitch president telling new best friend']\n",
      " ['the title song movie is greatest free spirited ballad ever written         br br i first saw movie back  i first subscribed cable in  cable starting become common place homes or least becoming common missouribr br this might well first movie i ever watched pay channel called the movie channel  called the star channel back then changed name the movie channel early si received free month the star channel new cable subscription the van one movies heavy rotation network timebr br i remember watching movie back then thinking typical teen flickalong lines medium budget teen flicks the ones plot revolves around nudity partiesbr br i totally forgot movie even existed i recently seen movie seeing decades i found copy dvd']\n",
      " ...\n",
      " ['although best anime i ever seen i enjoyed lady deathbr br i never read comic book saw video store decided give chancebr br the animation ok i got sense s anime set me why everyone else hates beyond mebr br character development fine i like brought transition hope lady death around like it obviously paying attention lucifer tells happens used wordsbr br creamtor nice mentorsoldier her dark bruiting style perfect kind moviebr br i think everyone bashed needs take another look reconsider cause everything people bashed said everyones favorite anime vampire hunter d']\n",
      " ['this movie little unusual got slim plot movie done slow leisurely pace while makes pretty different average grant film still highly watchable entertaining its sort like someone said lets follow cary around watch gets perturbed little problems come house rehabbed considering fun actor film great support gets myrna loy melvin douglas film works well while film pretty modest pretensions makes material its great film cary grant fans whole family']\n",
      " ['although i movie playing part sheriff hodges still managed make jump several places believe im not easy you might say im biased film and ok i am i see finished product  extremely pleased im horror film fan love old b movies black white sci fi films this movie make think know something going happen doesnt does it keep completely balance i would suggest watching movie first directors notes special features it well written directed filmed i tell personally real joy work cast crew i sincerely hope part brian laurences future projects']]\n",
      "[1 0 0 0 0]\n",
      "(1400,)\n"
     ]
    }
   ],
   "source": [
    "# function for converting data into the right format, due to the difference in required format from sklearn models\n",
    "# we expect a single string per email here, versus a list of tokens for the sklearn models previously explored\n",
    "def convert_data(raw_data,header):\n",
    "    converted_data, labels = [], []\n",
    "    for i in range(raw_data.shape[0]):\n",
    "        # combine list of tokens representing each email into single string\n",
    "        out = ' '.join(raw_data[i])\n",
    "        converted_data.append(out)\n",
    "        labels.append(header[i])\n",
    "    converted_data = np.array(converted_data, dtype=object)[:, np.newaxis]\n",
    "    \n",
    "    return converted_data, np.array(labels)\n",
    "\n",
    "data_train, header = unison_shuffle(data_train, header)\n",
    "\n",
    "# split into independent 70% training and 30% testing sets\n",
    "idx = int(0.7*data_train.shape[0])\n",
    "# 70% of data for training\n",
    "train_x, train_y = convert_data(data_train[:idx],header[:idx])\n",
    "# remaining 30% for testing\n",
    "test_x, test_y = convert_data(data_train[idx:],header[idx:])\n",
    "\n",
    "print(\"train_x/train_y list details, to make sure it is of the right form:\")\n",
    "print(len(train_x))\n",
    "print(train_x)\n",
    "print(train_y[:5])\n",
    "print(train_y.shape)"
   ]
  },
  {
   "cell_type": "markdown",
   "metadata": {},
   "source": [
    "# Build, Train and Evaluate ELMo Model\n",
    "Create a custom tf hub ELMO embedding layer"
   ]
  },
  {
   "cell_type": "code",
   "execution_count": 15,
   "metadata": {
    "_cell_guid": "79c7e3d0-c299-4dcb-8224-4455121ee9b0",
    "_uuid": "d629ff2d2480ee46fbb7e2d37f6b5fab8052498a"
   },
   "outputs": [],
   "source": [
    "class ElmoEmbeddingLayer(Layer):\n",
    "    def __init__(self, **kwargs):\n",
    "        self.dimensions = 1024 # initialize output dimension of ELMo embedding\n",
    "        self.trainable=True\n",
    "        super(ElmoEmbeddingLayer, self).__init__(**kwargs)\n",
    "\n",
    "    def build(self, input_shape): # function for building ELMo embedding\n",
    "        self.elmo = hub.Module('https://tfhub.dev/google/elmo/2', trainable=self.trainable,\n",
    "                               name=\"{}_module\".format(self.name)) # download pretrained ELMo model\n",
    "        # extract trainable parameters, which are only a small subset of the total - this is a constraint of\n",
    "        # the tf hub module as shared by the authors - see https://tfhub.dev/google/elmo/2\n",
    "        # the trainable parameters are 4 scalar weights on the sum of the outputs of ELMo layers\n",
    "        \n",
    "        self.trainable_weights += K.tf.trainable_variables(scope=\"^{}_module/.*\".format(self.name))\n",
    "        super(ElmoEmbeddingLayer, self).build(input_shape)\n",
    "\n",
    "    def call(self, x, mask=None): # specify function for calling embedding\n",
    "        result = self.elmo(K.squeeze(K.cast(x, tf.string), axis=1),\n",
    "                      as_dict=True,\n",
    "                      signature='default',\n",
    "                      )['default']\n",
    "        return result\n",
    "\n",
    "    def compute_output_shape(self, input_shape): # specify output shape\n",
    "        return (input_shape[0], self.dimensions)"
   ]
  },
  {
   "cell_type": "markdown",
   "metadata": {},
   "source": [
    "We now use the custom TF hub ELMo embedding layer within a higher-level function to define the overall model. More specifically, we put a dense trainable layer of output dimension 256 on top of the ELMo embedding."
   ]
  },
  {
   "cell_type": "code",
   "execution_count": 16,
   "metadata": {},
   "outputs": [],
   "source": [
    "# Function to build model\n",
    "def build_model(): \n",
    "    input_text = layers.Input(shape=(1,), dtype=\"string\")\n",
    "    embedding = ElmoEmbeddingLayer()(input_text)\n",
    "    dense = layers.Dense(256, activation='relu')(embedding)\n",
    "    pred = layers.Dense(1, activation='sigmoid')(dense)\n",
    "    model = Model(inputs=[input_text], outputs=pred)\n",
    "    model.compile(loss='binary_crossentropy', optimizer='adam', metrics=['accuracy'])\n",
    "    model.summary()\n",
    "    \n",
    "    return model"
   ]
  },
  {
   "cell_type": "code",
   "execution_count": 17,
   "metadata": {},
   "outputs": [
    {
     "name": "stdout",
     "output_type": "stream",
     "text": [
      "_________________________________________________________________\n",
      "Layer (type)                 Output Shape              Param #   \n",
      "=================================================================\n",
      "input_1 (InputLayer)         (None, 1)                 0         \n",
      "_________________________________________________________________\n",
      "elmo_embedding_layer_1 (Elmo (None, 1024)              4         \n",
      "_________________________________________________________________\n",
      "dense_1 (Dense)              (None, 256)               262400    \n",
      "_________________________________________________________________\n",
      "dense_2 (Dense)              (None, 1)                 257       \n",
      "=================================================================\n",
      "Total params: 262,661\n",
      "Trainable params: 262,661\n",
      "Non-trainable params: 0\n",
      "_________________________________________________________________\n",
      "Train on 1400 samples, validate on 600 samples\n",
      "Epoch 1/5\n",
      "1400/1400 [==============================] - 36s 26ms/step - loss: 0.6141 - acc: 0.6629 - val_loss: 0.5509 - val_acc: 0.7283\n",
      "Epoch 2/5\n",
      "1400/1400 [==============================] - 29s 21ms/step - loss: 0.5287 - acc: 0.7314 - val_loss: 0.5491 - val_acc: 0.7317\n",
      "Epoch 3/5\n",
      "1400/1400 [==============================] - 27s 19ms/step - loss: 0.4771 - acc: 0.7771 - val_loss: 0.5132 - val_acc: 0.7600\n",
      "Epoch 4/5\n",
      "1400/1400 [==============================] - 29s 21ms/step - loss: 0.4414 - acc: 0.8093 - val_loss: 0.4841 - val_acc: 0.7683\n",
      "Epoch 5/5\n",
      "1400/1400 [==============================] - 27s 20ms/step - loss: 0.4323 - acc: 0.7950 - val_loss: 0.4869 - val_acc: 0.7767\n"
     ]
    }
   ],
   "source": [
    "# Build and fit\n",
    "model = build_model()\n",
    "history = model.fit(train_x, \n",
    "          train_y,\n",
    "          validation_data=(test_x, test_y),\n",
    "          epochs=5,\n",
    "          batch_size=32)"
   ]
  },
  {
   "cell_type": "markdown",
   "metadata": {},
   "source": [
    "**Save trained model**"
   ]
  },
  {
   "cell_type": "code",
   "execution_count": 18,
   "metadata": {},
   "outputs": [],
   "source": [
    "model.save('ElmoModel.h5')"
   ]
  },
  {
   "cell_type": "markdown",
   "metadata": {},
   "source": [
    "**Visualize Convergence**"
   ]
  },
  {
   "cell_type": "code",
   "execution_count": 19,
   "metadata": {},
   "outputs": [
    {
     "data": {
      "image/png": "[encoded data removed]",
      "text/plain": [
       "<Figure size 432x288 with 1 Axes>"
      ]
     },
     "metadata": {
      "needs_background": "light"
     },
     "output_type": "display_data"
    }
   ],
   "source": [
    "import matplotlib.pyplot as plt\n",
    "\n",
    "df_history = pd.DataFrame(history.history)\n",
    "\n",
    "fig,ax = plt.subplots()\n",
    "plt.plot(range(df_history.shape[0]),df_history['val_acc'],'bs--',label='validation')\n",
    "plt.plot(range(df_history.shape[0]),df_history['acc'],'r^--',label='training')\n",
    "plt.xlabel('epoch')\n",
    "plt.ylabel('accuracy')\n",
    "plt.title('ELMo Movie Review Classification Training')\n",
    "plt.legend(loc='best')\n",
    "plt.grid()\n",
    "plt.show()\n",
    "\n",
    "fig.savefig('ELMoConvergence.eps', format='eps')\n",
    "fig.savefig('ELMoConvergence.pdf', format='pdf')\n",
    "fig.savefig('ELMoConvergence.png', format='png')\n",
    "fig.savefig('ELMoConvergence.svg', format='svg')"
   ]
  },
  {
   "cell_type": "markdown",
   "metadata": {},
   "source": [
    "**Make figures downloadable to local system in interactive mode**"
   ]
  },
  {
   "cell_type": "code",
   "execution_count": 20,
   "metadata": {},
   "outputs": [
    {
     "data": {
      "text/html": [
       "<a href=GBMimportances.svg>Download file</a>"
      ],
      "text/plain": [
       "<IPython.core.display.HTML object>"
      ]
     },
     "execution_count": 20,
     "metadata": {},
     "output_type": "execute_result"
    }
   ],
   "source": [
    "from IPython.display import HTML\n",
    "def create_download_link(title = \"Download file\", filename = \"data.csv\"):  \n",
    "    html = '<a href={filename}>{title}</a>'\n",
    "    html = html.format(title=title,filename=filename)\n",
    "    return HTML(html)\n",
    "\n",
    "create_download_link(filename='GBMimportances.svg')"
   ]
  },
  {
   "cell_type": "code",
   "execution_count": 21,
   "metadata": {},
   "outputs": [],
   "source": [
    "# you must remove all downloaded files - having too many of them on completion will make Kaggle reject your notebook \n",
    "!rm -rf aclImdb\n",
    "!rm aclImdb_v1.tar.gz"
   ]
  }
 ],
 "metadata": {
  "kernelspec": {
   "display_name": "Python 3",
   "language": "python",
   "name": "python3"
  },
  "language_info": {
   "codemirror_mode": {
    "name": "ipython",
    "version": 3
   },
   "file_extension": ".py",
   "mimetype": "text/x-python",
   "name": "python",
   "nbconvert_exporter": "python",
   "pygments_lexer": "ipython3",
   "version": "3.6.6"
  }
 },
 "nbformat": 4,
 "nbformat_minor": 1
}
