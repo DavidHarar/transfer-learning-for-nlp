{
 "cells": [
  {
   "cell_type": "markdown",
   "metadata": {
    "papermill": {
     "duration": 0.015878,
     "end_time": "2020-10-02T22:27:21.937631",
     "exception": false,
     "start_time": "2020-10-02T22:27:21.921753",
     "status": "completed"
    },
    "tags": []
   },
   "source": [
    "# Preliminaries\n",
    "\n",
    "Write requirements to file, anytime you run it, in case you have to go back and recover dependencies.\n",
    "\n",
    "Requirements are hosted for each notebook in the companion github repo, and can be pulled down and installed here if needed. Companion github repo is located at https://github.com/azunre/transfer-learning-for-nlp"
   ]
  },
  {
   "cell_type": "code",
   "execution_count": 1,
   "metadata": {
    "execution": {
     "iopub.execute_input": "2020-10-02T22:27:21.973726Z",
     "iopub.status.busy": "2020-10-02T22:27:21.972775Z",
     "iopub.status.idle": "2020-10-02T22:27:22.717087Z",
     "shell.execute_reply": "2020-10-02T22:27:22.716387Z"
    },
    "papermill": {
     "duration": 0.764508,
     "end_time": "2020-10-02T22:27:22.717216",
     "exception": false,
     "start_time": "2020-10-02T22:27:21.952708",
     "status": "completed"
    },
    "tags": []
   },
   "outputs": [
    {
     "name": "stdout",
     "output_type": "stream",
     "text": [
      "../input/jw300entw/jw300.en-tw.en\r\n"
     ]
    }
   ],
   "source": [
    "!ls ../input/jw300entw/jw300.en-tw.en"
   ]
  },
  {
   "cell_type": "code",
   "execution_count": 2,
   "metadata": {
    "_cell_guid": "b1076dfc-b9ad-4769-8c92-a6c4dae69d19",
    "_uuid": "8f2839f25d086af736a60e9eeb907d3b93b6e0e5",
    "execution": {
     "iopub.execute_input": "2020-10-02T22:27:22.755679Z",
     "iopub.status.busy": "2020-10-02T22:27:22.754762Z",
     "iopub.status.idle": "2020-10-02T22:27:24.998397Z",
     "shell.execute_reply": "2020-10-02T22:27:24.997725Z"
    },
    "papermill": {
     "duration": 2.265022,
     "end_time": "2020-10-02T22:27:24.998556",
     "exception": false,
     "start_time": "2020-10-02T22:27:22.733534",
     "status": "completed"
    },
    "tags": []
   },
   "outputs": [],
   "source": [
    "!pip freeze > kaggle_image_requirements.txt"
   ]
  },
  {
   "cell_type": "markdown",
   "metadata": {
    "papermill": {
     "duration": 0.015402,
     "end_time": "2020-10-02T22:27:25.029068",
     "exception": false,
     "start_time": "2020-10-02T22:27:25.013666",
     "status": "completed"
    },
    "tags": []
   },
   "source": [
    "# Fine-tune DistilmBERT on Monolongual Twi Data (multilingual mBERT Tokenizer)\n",
    "\n",
    "Initialize DistilmBERT tokenizer to DistilmBERT checkpoint"
   ]
  },
  {
   "cell_type": "code",
   "execution_count": 3,
   "metadata": {
    "_cell_guid": "79c7e3d0-c299-4dcb-8224-4455121ee9b0",
    "_uuid": "d629ff2d2480ee46fbb7e2d37f6b5fab8052498a",
    "execution": {
     "iopub.execute_input": "2020-10-02T22:27:25.065149Z",
     "iopub.status.busy": "2020-10-02T22:27:25.064403Z",
     "iopub.status.idle": "2020-10-02T22:27:34.041710Z",
     "shell.execute_reply": "2020-10-02T22:27:34.041121Z"
    },
    "papermill": {
     "duration": 8.997308,
     "end_time": "2020-10-02T22:27:34.041833",
     "exception": false,
     "start_time": "2020-10-02T22:27:25.044525",
     "status": "completed"
    },
    "tags": []
   },
   "outputs": [
    {
     "name": "stderr",
     "output_type": "stream",
     "text": [
      "\u001b[34m\u001b[1mwandb\u001b[0m: \u001b[33mWARNING\u001b[0m W&B installed but not logged in.  Run `wandb login` or set the WANDB_API_KEY env variable.\n"
     ]
    }
   ],
   "source": [
    "from transformers import DistilBertTokenizerFast # this is just a faster version of DistilBertTokenizer, which you could use instead"
   ]
  },
  {
   "cell_type": "code",
   "execution_count": 4,
   "metadata": {
    "execution": {
     "iopub.execute_input": "2020-10-02T22:27:34.079186Z",
     "iopub.status.busy": "2020-10-02T22:27:34.078182Z",
     "iopub.status.idle": "2020-10-02T22:27:34.510125Z",
     "shell.execute_reply": "2020-10-02T22:27:34.510714Z"
    },
    "papermill": {
     "duration": 0.453613,
     "end_time": "2020-10-02T22:27:34.510866",
     "exception": false,
     "start_time": "2020-10-02T22:27:34.057253",
     "status": "completed"
    },
    "tags": []
   },
   "outputs": [
    {
     "data": {
      "application/vnd.jupyter.widget-view+json": {
       "model_id": "9733be045b8d42ee9dd1b3185b91ceb9",
       "version_major": 2,
       "version_minor": 0
      },
      "text/plain": [
       "HBox(children=(FloatProgress(value=0.0, description='Downloading', max=995526.0, style=ProgressStyle(descripti…"
      ]
     },
     "metadata": {},
     "output_type": "display_data"
    },
    {
     "name": "stdout",
     "output_type": "stream",
     "text": [
      "\n"
     ]
    }
   ],
   "source": [
    "tokenizer = DistilBertTokenizerFast.from_pretrained(\"distilbert-base-multilingual-cased\") # use pre-trained DistilmBERT tokenizer"
   ]
  },
  {
   "cell_type": "markdown",
   "metadata": {
    "papermill": {
     "duration": 0.016146,
     "end_time": "2020-10-02T22:27:34.543585",
     "exception": false,
     "start_time": "2020-10-02T22:27:34.527439",
     "status": "completed"
    },
    "tags": []
   },
   "source": [
    "Having prepared tokenizer, load mBERT checkpoint into a BERT masked language model."
   ]
  },
  {
   "cell_type": "code",
   "execution_count": 5,
   "metadata": {
    "execution": {
     "iopub.execute_input": "2020-10-02T22:27:34.584627Z",
     "iopub.status.busy": "2020-10-02T22:27:34.583880Z",
     "iopub.status.idle": "2020-10-02T22:28:05.168734Z",
     "shell.execute_reply": "2020-10-02T22:28:05.169357Z"
    },
    "papermill": {
     "duration": 30.609623,
     "end_time": "2020-10-02T22:28:05.169557",
     "exception": false,
     "start_time": "2020-10-02T22:27:34.559934",
     "status": "completed"
    },
    "tags": []
   },
   "outputs": [
    {
     "data": {
      "application/vnd.jupyter.widget-view+json": {
       "model_id": "c7682ffe84cf424e866b7125ccd67be9",
       "version_major": 2,
       "version_minor": 0
      },
      "text/plain": [
       "HBox(children=(FloatProgress(value=0.0, description='Downloading', max=466.0, style=ProgressStyle(description_…"
      ]
     },
     "metadata": {},
     "output_type": "display_data"
    },
    {
     "name": "stdout",
     "output_type": "stream",
     "text": [
      "\n"
     ]
    },
    {
     "data": {
      "application/vnd.jupyter.widget-view+json": {
       "model_id": "8508fcaf97b341c092be8f97c4cd77f8",
       "version_major": 2,
       "version_minor": 0
      },
      "text/plain": [
       "HBox(children=(FloatProgress(value=0.0, description='Downloading', max=541808922.0, style=ProgressStyle(descri…"
      ]
     },
     "metadata": {},
     "output_type": "display_data"
    },
    {
     "name": "stdout",
     "output_type": "stream",
     "text": [
      "\n",
      "Number of parameters in DistilmBERT model:\n",
      "135445755\n"
     ]
    }
   ],
   "source": [
    "from transformers import DistilBertForMaskedLM # use masked language modeling\n",
    "\n",
    "model = DistilBertForMaskedLM.from_pretrained(\"distilbert-base-multilingual-cased\") # initialize to DistilmBERT checkpoint\n",
    "\n",
    "print(\"Number of parameters in DistilmBERT model:\")\n",
    "print(model.num_parameters())"
   ]
  },
  {
   "cell_type": "markdown",
   "metadata": {
    "papermill": {
     "duration": 0.020444,
     "end_time": "2020-10-02T22:28:05.210276",
     "exception": false,
     "start_time": "2020-10-02T22:28:05.189832",
     "status": "completed"
    },
    "tags": []
   },
   "source": [
    "Build monolingual Twi dataset with tokenizer using method included with transformers"
   ]
  },
  {
   "cell_type": "code",
   "execution_count": 6,
   "metadata": {
    "execution": {
     "iopub.execute_input": "2020-10-02T22:28:05.254643Z",
     "iopub.status.busy": "2020-10-02T22:28:05.252826Z",
     "iopub.status.idle": "2020-10-02T22:29:04.142608Z",
     "shell.execute_reply": "2020-10-02T22:29:04.141719Z"
    },
    "papermill": {
     "duration": 58.913468,
     "end_time": "2020-10-02T22:29:04.142785",
     "exception": false,
     "start_time": "2020-10-02T22:28:05.229317",
     "status": "completed"
    },
    "tags": []
   },
   "outputs": [],
   "source": [
    "from transformers import LineByLineTextDataset\n",
    "\n",
    "dataset = LineByLineTextDataset(\n",
    "    tokenizer=tokenizer,\n",
    "    file_path=\"../input/jw300entw/jw300.en-tw.tw\",\n",
    "    block_size=128, # how many lines to read at a time \n",
    ")"
   ]
  },
  {
   "cell_type": "markdown",
   "metadata": {
    "papermill": {
     "duration": 0.019373,
     "end_time": "2020-10-02T22:29:04.182230",
     "exception": false,
     "start_time": "2020-10-02T22:29:04.162857",
     "status": "completed"
    },
    "tags": []
   },
   "source": [
    "We will also need a \"data collator\". This is a helper method that creates a special object out of a batch of sample data lines (of length block_size). This special object is consummable by PyTorch to neural network training"
   ]
  },
  {
   "cell_type": "code",
   "execution_count": 7,
   "metadata": {
    "execution": {
     "iopub.execute_input": "2020-10-02T22:29:04.235890Z",
     "iopub.status.busy": "2020-10-02T22:29:04.234951Z",
     "iopub.status.idle": "2020-10-02T22:29:04.238007Z",
     "shell.execute_reply": "2020-10-02T22:29:04.237442Z"
    },
    "papermill": {
     "duration": 0.035388,
     "end_time": "2020-10-02T22:29:04.238154",
     "exception": false,
     "start_time": "2020-10-02T22:29:04.202766",
     "status": "completed"
    },
    "tags": []
   },
   "outputs": [],
   "source": [
    "from transformers import DataCollatorForLanguageModeling\n",
    "\n",
    "data_collator = DataCollatorForLanguageModeling(\n",
    "    tokenizer=tokenizer,\n",
    "    mlm=True, mlm_probability=0.15) # use masked language modeling, and mask words with probability of 0.15"
   ]
  },
  {
   "cell_type": "markdown",
   "metadata": {
    "papermill": {
     "duration": 0.019949,
     "end_time": "2020-10-02T22:29:04.278148",
     "exception": false,
     "start_time": "2020-10-02T22:29:04.258199",
     "status": "completed"
    },
    "tags": []
   },
   "source": [
    "Define standard training arguments, and then use them with previously defined dataset and collator to define a \"trainer\" for one epoch, i.e. across all 600000+ examples."
   ]
  },
  {
   "cell_type": "code",
   "execution_count": 8,
   "metadata": {
    "execution": {
     "iopub.execute_input": "2020-10-02T22:29:04.324948Z",
     "iopub.status.busy": "2020-10-02T22:29:04.323929Z",
     "iopub.status.idle": "2020-10-02T22:29:04.326509Z",
     "shell.execute_reply": "2020-10-02T22:29:04.327111Z"
    },
    "papermill": {
     "duration": 0.02897,
     "end_time": "2020-10-02T22:29:04.327243",
     "exception": false,
     "start_time": "2020-10-02T22:29:04.298273",
     "status": "completed"
    },
    "tags": []
   },
   "outputs": [],
   "source": [
    "from transformers import Trainer, TrainingArguments\n",
    "\n",
    "training_args = TrainingArguments(\n",
    "    output_dir=\"twidistilmbert\",\n",
    "    overwrite_output_dir=True,\n",
    "    num_train_epochs=1,\n",
    "    per_gpu_train_batch_size=16,\n",
    "    save_total_limit=1,\n",
    ")"
   ]
  },
  {
   "cell_type": "code",
   "execution_count": 9,
   "metadata": {
    "execution": {
     "iopub.execute_input": "2020-10-02T22:29:04.761766Z",
     "iopub.status.busy": "2020-10-02T22:29:04.760878Z",
     "iopub.status.idle": "2020-10-02T22:29:12.324294Z",
     "shell.execute_reply": "2020-10-02T22:29:12.323121Z"
    },
    "papermill": {
     "duration": 7.976759,
     "end_time": "2020-10-02T22:29:12.324435",
     "exception": false,
     "start_time": "2020-10-02T22:29:04.347676",
     "status": "completed"
    },
    "tags": []
   },
   "outputs": [],
   "source": [
    "trainer = Trainer(\n",
    "    model=model,\n",
    "    args=training_args,\n",
    "    data_collator=data_collator,\n",
    "    train_dataset=dataset,\n",
    "    prediction_loss_only=True,\n",
    ")"
   ]
  },
  {
   "cell_type": "markdown",
   "metadata": {
    "papermill": {
     "duration": 0.020106,
     "end_time": "2020-10-02T22:29:12.365422",
     "exception": false,
     "start_time": "2020-10-02T22:29:12.345316",
     "status": "completed"
    },
    "tags": []
   },
   "source": [
    "Train and time."
   ]
  },
  {
   "cell_type": "code",
   "execution_count": 10,
   "metadata": {
    "execution": {
     "iopub.execute_input": "2020-10-02T22:29:12.416618Z",
     "iopub.status.busy": "2020-10-02T22:29:12.415725Z",
     "iopub.status.idle": "2020-10-03T00:44:15.488756Z",
     "shell.execute_reply": "2020-10-03T00:44:15.487827Z"
    },
    "papermill": {
     "duration": 8103.102666,
     "end_time": "2020-10-03T00:44:15.488886",
     "exception": false,
     "start_time": "2020-10-02T22:29:12.386220",
     "status": "completed"
    },
    "tags": []
   },
   "outputs": [
    {
     "data": {
      "application/vnd.jupyter.widget-view+json": {
       "model_id": "2b416fe1381e49fbbe0244c660c845a0",
       "version_major": 2,
       "version_minor": 0
      },
      "text/plain": [
       "HBox(children=(FloatProgress(value=0.0, description='Epoch', max=1.0, style=ProgressStyle(description_width='i…"
      ]
     },
     "metadata": {},
     "output_type": "display_data"
    },
    {
     "data": {
      "application/vnd.jupyter.widget-view+json": {
       "model_id": "50f298e372424632b6a0f8c08b458031",
       "version_major": 2,
       "version_minor": 0
      },
      "text/plain": [
       "HBox(children=(FloatProgress(value=0.0, description='Iteration', max=37562.0, style=ProgressStyle(description_…"
      ]
     },
     "metadata": {},
     "output_type": "display_data"
    },
    {
     "name": "stdout",
     "output_type": "stream",
     "text": [
      "{\"loss\": 2.6965276935100557, \"learning_rate\": 4.933443373622278e-05, \"epoch\": 0.013311325275544433, \"step\": 500}\n"
     ]
    },
    {
     "name": "stderr",
     "output_type": "stream",
     "text": [
      "/opt/conda/lib/python3.7/site-packages/torch/optim/lr_scheduler.py:200: UserWarning: Please also save or load the state of the optimzer when saving or loading the scheduler.\n",
      "  warnings.warn(SAVE_STATE_WARNING, UserWarning)\n"
     ]
    },
    {
     "name": "stdout",
     "output_type": "stream",
     "text": [
      "{\"loss\": 1.9868937261104584, \"learning_rate\": 4.866886747244556e-05, \"epoch\": 0.026622650551088867, \"step\": 1000}\n",
      "{\"loss\": 1.7659727020263671, \"learning_rate\": 4.800330120866834e-05, \"epoch\": 0.0399339758266333, \"step\": 1500}\n",
      "{\"loss\": 1.6668763043880463, \"learning_rate\": 4.7337734944891116e-05, \"epoch\": 0.05324530110217773, \"step\": 2000}\n",
      "{\"loss\": 1.6016384425163268, \"learning_rate\": 4.667216868111389e-05, \"epoch\": 0.06655662637772217, \"step\": 2500}\n",
      "{\"loss\": 1.5188227939605712, \"learning_rate\": 4.600660241733668e-05, \"epoch\": 0.0798679516532666, \"step\": 3000}\n",
      "{\"loss\": 1.4741685634851456, \"learning_rate\": 4.5341036153559454e-05, \"epoch\": 0.09317927692881103, \"step\": 3500}\n",
      "{\"loss\": 1.416521461725235, \"learning_rate\": 4.467546988978223e-05, \"epoch\": 0.10649060220435547, \"step\": 4000}\n",
      "{\"loss\": 1.374769216656685, \"learning_rate\": 4.400990362600501e-05, \"epoch\": 0.1198019274798999, \"step\": 4500}\n",
      "{\"loss\": 1.3641278388500213, \"learning_rate\": 4.334433736222779e-05, \"epoch\": 0.13311325275544433, \"step\": 5000}\n",
      "{\"loss\": 1.3124771234989165, \"learning_rate\": 4.267877109845057e-05, \"epoch\": 0.14642457803098877, \"step\": 5500}\n",
      "{\"loss\": 1.2978020151853562, \"learning_rate\": 4.2013204834673345e-05, \"epoch\": 0.1597359033065332, \"step\": 6000}\n",
      "{\"loss\": 1.2570923680067063, \"learning_rate\": 4.134763857089612e-05, \"epoch\": 0.17304722858207763, \"step\": 6500}\n",
      "{\"loss\": 1.2389371532201767, \"learning_rate\": 4.06820723071189e-05, \"epoch\": 0.18635855385762207, \"step\": 7000}\n",
      "{\"loss\": 1.2503409490585327, \"learning_rate\": 4.0016506043341675e-05, \"epoch\": 0.1996698791331665, \"step\": 7500}\n",
      "{\"loss\": 1.2061121792793275, \"learning_rate\": 3.935093977956446e-05, \"epoch\": 0.21298120440871093, \"step\": 8000}\n",
      "{\"loss\": 1.1912578512430192, \"learning_rate\": 3.8685373515787235e-05, \"epoch\": 0.22629252968425537, \"step\": 8500}\n",
      "{\"loss\": 1.1632309515476227, \"learning_rate\": 3.801980725201001e-05, \"epoch\": 0.2396038549597998, \"step\": 9000}\n",
      "{\"loss\": 1.1566217515468598, \"learning_rate\": 3.735424098823279e-05, \"epoch\": 0.2529151802353442, \"step\": 9500}\n",
      "{\"loss\": 1.1547161999940871, \"learning_rate\": 3.6688674724455566e-05, \"epoch\": 0.26622650551088867, \"step\": 10000}\n",
      "{\"loss\": 1.1490199284553528, \"learning_rate\": 3.602310846067834e-05, \"epoch\": 0.2795378307864331, \"step\": 10500}\n",
      "{\"loss\": 1.1327904397249222, \"learning_rate\": 3.5357542196901126e-05, \"epoch\": 0.29284915606197753, \"step\": 11000}\n",
      "{\"loss\": 1.0933875108361244, \"learning_rate\": 3.46919759331239e-05, \"epoch\": 0.30616048133752194, \"step\": 11500}\n",
      "{\"loss\": 1.101575200676918, \"learning_rate\": 3.402640966934668e-05, \"epoch\": 0.3194718066130664, \"step\": 12000}\n",
      "{\"loss\": 1.0869165308475495, \"learning_rate\": 3.336084340556946e-05, \"epoch\": 0.3327831318886108, \"step\": 12500}\n",
      "{\"loss\": 1.0831606397628784, \"learning_rate\": 3.269527714179224e-05, \"epoch\": 0.34609445716415527, \"step\": 13000}\n",
      "{\"loss\": 1.077127533197403, \"learning_rate\": 3.202971087801502e-05, \"epoch\": 0.3594057824396997, \"step\": 13500}\n",
      "{\"loss\": 1.07424640417099, \"learning_rate\": 3.1364144614237794e-05, \"epoch\": 0.37271710771524413, \"step\": 14000}\n",
      "{\"loss\": 1.0571841453313828, \"learning_rate\": 3.069857835046057e-05, \"epoch\": 0.38602843299078854, \"step\": 14500}\n",
      "{\"loss\": 1.0497911158204078, \"learning_rate\": 3.0033012086683354e-05, \"epoch\": 0.399339758266333, \"step\": 15000}\n",
      "{\"loss\": 1.0385400916337968, \"learning_rate\": 2.936744582290613e-05, \"epoch\": 0.4126510835418774, \"step\": 15500}\n",
      "{\"loss\": 1.0272664800286293, \"learning_rate\": 2.8701879559128908e-05, \"epoch\": 0.42596240881742187, \"step\": 16000}\n",
      "{\"loss\": 0.9924313752651215, \"learning_rate\": 2.8036313295351685e-05, \"epoch\": 0.4392737340929663, \"step\": 16500}\n",
      "{\"loss\": 1.006408696115017, \"learning_rate\": 2.737074703157447e-05, \"epoch\": 0.45258505936851073, \"step\": 17000}\n",
      "{\"loss\": 1.0116888485550881, \"learning_rate\": 2.6705180767797245e-05, \"epoch\": 0.46589638464405514, \"step\": 17500}\n",
      "{\"loss\": 0.992658197760582, \"learning_rate\": 2.6039614504020022e-05, \"epoch\": 0.4792077099195996, \"step\": 18000}\n",
      "{\"loss\": 0.9762471361756325, \"learning_rate\": 2.53740482402428e-05, \"epoch\": 0.492519035195144, \"step\": 18500}\n",
      "{\"loss\": 0.9792702073454856, \"learning_rate\": 2.470848197646558e-05, \"epoch\": 0.5058303604706884, \"step\": 19000}\n",
      "{\"loss\": 0.9649515719413757, \"learning_rate\": 2.404291571268836e-05, \"epoch\": 0.5191416857462329, \"step\": 19500}\n",
      "{\"loss\": 0.9646598956584931, \"learning_rate\": 2.3377349448911136e-05, \"epoch\": 0.5324530110217773, \"step\": 20000}\n",
      "{\"loss\": 0.9665254483222961, \"learning_rate\": 2.2711783185133913e-05, \"epoch\": 0.5457643362973218, \"step\": 20500}\n",
      "{\"loss\": 0.9409106341600418, \"learning_rate\": 2.204621692135669e-05, \"epoch\": 0.5590756615728661, \"step\": 21000}\n",
      "{\"loss\": 0.9555590044260025, \"learning_rate\": 2.138065065757947e-05, \"epoch\": 0.5723869868484106, \"step\": 21500}\n",
      "{\"loss\": 0.9485747647285462, \"learning_rate\": 2.0715084393802247e-05, \"epoch\": 0.5856983121239551, \"step\": 22000}\n",
      "{\"loss\": 0.9501965632438659, \"learning_rate\": 2.0049518130025027e-05, \"epoch\": 0.5990096373994995, \"step\": 22500}\n",
      "{\"loss\": 0.9419836904406548, \"learning_rate\": 1.9383951866247804e-05, \"epoch\": 0.6123209626750439, \"step\": 23000}\n",
      "{\"loss\": 0.9505258231163025, \"learning_rate\": 1.8718385602470584e-05, \"epoch\": 0.6256322879505883, \"step\": 23500}\n",
      "{\"loss\": 0.9536528885364532, \"learning_rate\": 1.805281933869336e-05, \"epoch\": 0.6389436132261328, \"step\": 24000}\n",
      "{\"loss\": 0.9131140906214714, \"learning_rate\": 1.738725307491614e-05, \"epoch\": 0.6522549385016773, \"step\": 24500}\n",
      "{\"loss\": 0.928219130396843, \"learning_rate\": 1.6721686811138918e-05, \"epoch\": 0.6655662637772216, \"step\": 25000}\n",
      "{\"loss\": 0.910945018529892, \"learning_rate\": 1.6056120547361698e-05, \"epoch\": 0.6788775890527661, \"step\": 25500}\n",
      "{\"loss\": 0.8926032137870789, \"learning_rate\": 1.5390554283584475e-05, \"epoch\": 0.6921889143283105, \"step\": 26000}\n",
      "{\"loss\": 0.913700152516365, \"learning_rate\": 1.4724988019807253e-05, \"epoch\": 0.705500239603855, \"step\": 26500}\n",
      "{\"loss\": 0.9022598714828491, \"learning_rate\": 1.405942175603003e-05, \"epoch\": 0.7188115648793993, \"step\": 27000}\n",
      "{\"loss\": 0.9004671213030815, \"learning_rate\": 1.339385549225281e-05, \"epoch\": 0.7321228901549438, \"step\": 27500}\n",
      "{\"loss\": 0.8891585165262222, \"learning_rate\": 1.2728289228475587e-05, \"epoch\": 0.7454342154304883, \"step\": 28000}\n",
      "{\"loss\": 0.8869960063099861, \"learning_rate\": 1.2062722964698366e-05, \"epoch\": 0.7587455407060327, \"step\": 28500}\n",
      "{\"loss\": 0.8764988762736321, \"learning_rate\": 1.1397156700921144e-05, \"epoch\": 0.7720568659815771, \"step\": 29000}\n",
      "{\"loss\": 0.8729741043448448, \"learning_rate\": 1.0731590437143923e-05, \"epoch\": 0.7853681912571215, \"step\": 29500}\n",
      "{\"loss\": 0.8672072720527649, \"learning_rate\": 1.0066024173366701e-05, \"epoch\": 0.798679516532666, \"step\": 30000}\n",
      "{\"loss\": 0.859647646188736, \"learning_rate\": 9.40045790958948e-06, \"epoch\": 0.8119908418082105, \"step\": 30500}\n",
      "{\"loss\": 0.8674312240481377, \"learning_rate\": 8.734891645812256e-06, \"epoch\": 0.8253021670837548, \"step\": 31000}\n",
      "{\"loss\": 0.8685498145222664, \"learning_rate\": 8.069325382035035e-06, \"epoch\": 0.8386134923592993, \"step\": 31500}\n",
      "{\"loss\": 0.858032751917839, \"learning_rate\": 7.403759118257813e-06, \"epoch\": 0.8519248176348437, \"step\": 32000}\n",
      "{\"loss\": 0.8545240702629089, \"learning_rate\": 6.738192854480592e-06, \"epoch\": 0.8652361429103882, \"step\": 32500}\n",
      "{\"loss\": 0.8438046636581421, \"learning_rate\": 6.072626590703371e-06, \"epoch\": 0.8785474681859325, \"step\": 33000}\n",
      "{\"loss\": 0.8249549449682235, \"learning_rate\": 5.407060326926149e-06, \"epoch\": 0.891858793461477, \"step\": 33500}\n",
      "{\"loss\": 0.8668119223713875, \"learning_rate\": 4.7414940631489275e-06, \"epoch\": 0.9051701187370215, \"step\": 34000}\n",
      "{\"loss\": 0.8500225902199745, \"learning_rate\": 4.075927799371706e-06, \"epoch\": 0.9184814440125659, \"step\": 34500}\n",
      "{\"loss\": 0.850514717578888, \"learning_rate\": 3.410361535594484e-06, \"epoch\": 0.9317927692881103, \"step\": 35000}\n",
      "{\"loss\": 0.8209827143847942, \"learning_rate\": 2.744795271817262e-06, \"epoch\": 0.9451040945636547, \"step\": 35500}\n",
      "{\"loss\": 0.8526040786504745, \"learning_rate\": 2.0792290080400402e-06, \"epoch\": 0.9584154198391992, \"step\": 36000}\n",
      "{\"loss\": 0.8379858914017677, \"learning_rate\": 1.413662744262819e-06, \"epoch\": 0.9717267451147437, \"step\": 36500}\n",
      "{\"loss\": 0.8498225813508034, \"learning_rate\": 7.480964804855971e-07, \"epoch\": 0.985038070390288, \"step\": 37000}\n",
      "{\"loss\": 0.807061634093523, \"learning_rate\": 8.25302167083755e-08, \"epoch\": 0.9983493956658325, \"step\": 37500}\n",
      "\n",
      "\n",
      "Number of seconds for training:\n",
      "8103.066114425659\n"
     ]
    }
   ],
   "source": [
    "import time\n",
    "start = time.time()\n",
    "trainer.train()\n",
    "end = time.time()\n",
    "print(\"Number of seconds for training:\")\n",
    "print((end-start))"
   ]
  },
  {
   "cell_type": "code",
   "execution_count": 11,
   "metadata": {
    "execution": {
     "iopub.execute_input": "2020-10-03T00:44:15.597023Z",
     "iopub.status.busy": "2020-10-03T00:44:15.596004Z",
     "iopub.status.idle": "2020-10-03T00:44:16.445405Z",
     "shell.execute_reply": "2020-10-03T00:44:16.450739Z"
    },
    "papermill": {
     "duration": 0.911144,
     "end_time": "2020-10-03T00:44:16.451050",
     "exception": false,
     "start_time": "2020-10-03T00:44:15.539906",
     "status": "completed"
    },
    "tags": []
   },
   "outputs": [],
   "source": [
    "trainer.save_model(\"twidistilmbert\") # save model"
   ]
  },
  {
   "cell_type": "markdown",
   "metadata": {
    "papermill": {
     "duration": 0.069439,
     "end_time": "2020-10-03T00:44:16.666391",
     "exception": false,
     "start_time": "2020-10-03T00:44:16.596952",
     "status": "completed"
    },
    "tags": []
   },
   "source": [
    "Test model on \"fill-in-the-blank\" task, by taking a sentence, masking a word and then predicting a completion with pipelines API."
   ]
  },
  {
   "cell_type": "code",
   "execution_count": 12,
   "metadata": {
    "execution": {
     "iopub.execute_input": "2020-10-03T00:44:16.782315Z",
     "iopub.status.busy": "2020-10-03T00:44:16.781252Z",
     "iopub.status.idle": "2020-10-03T00:44:23.071908Z",
     "shell.execute_reply": "2020-10-03T00:44:23.071233Z"
    },
    "papermill": {
     "duration": 6.351942,
     "end_time": "2020-10-03T00:44:23.072032",
     "exception": false,
     "start_time": "2020-10-03T00:44:16.720090",
     "status": "completed"
    },
    "tags": []
   },
   "outputs": [],
   "source": [
    "# Define fill-in-the-blanks pipeline\n",
    "from transformers import pipeline\n",
    "\n",
    "fill_mask = pipeline(\n",
    "    \"fill-mask\",\n",
    "    model=\"twidistilmbert\",\n",
    "    tokenizer=tokenizer\n",
    ")"
   ]
  },
  {
   "cell_type": "code",
   "execution_count": 13,
   "metadata": {
    "execution": {
     "iopub.execute_input": "2020-10-03T00:44:23.180542Z",
     "iopub.status.busy": "2020-10-03T00:44:23.179693Z",
     "iopub.status.idle": "2020-10-03T00:44:23.402367Z",
     "shell.execute_reply": "2020-10-03T00:44:23.402909Z"
    },
    "papermill": {
     "duration": 0.279945,
     "end_time": "2020-10-03T00:44:23.403060",
     "exception": false,
     "start_time": "2020-10-03T00:44:23.123115",
     "status": "completed"
    },
    "tags": []
   },
   "outputs": [
    {
     "name": "stdout",
     "output_type": "stream",
     "text": [
      "[{'sequence': '[CLS] Eyi de ɔhaw kɛse baa fie hɔ. [SEP]', 'score': 0.31311026215553284, 'token': 29959}, {'sequence': '[CLS] Eyi de ɔhaw kɛse baa me hɔ. [SEP]', 'score': 0.09322386980056763, 'token': 10911}, {'sequence': '[CLS] Eyi de ɔhaw kɛse baa ne hɔ. [SEP]', 'score': 0.05879712104797363, 'token': 10554}, {'sequence': '[CLS] Eyi de ɔhaw kɛse baa too hɔ. [SEP]', 'score': 0.052420321851968765, 'token': 16683}, {'sequence': '[CLS] Eyi de ɔhaw kɛse baa no hɔ. [SEP]', 'score': 0.04025224596261978, 'token': 10192}]\n"
     ]
    }
   ],
   "source": [
    "# We modified a sentences as \"Eyi de ɔhaw kɛse baa sukuu hɔ.\" => \"Eyi de ɔhaw kɛse baa [MASK] hɔ.\"\n",
    "# Predict masked token \n",
    "print(fill_mask(\"Eyi de ɔhaw kɛse baa [MASK] hɔ.\"))"
   ]
  }
 ],
 "metadata": {
  "kernelspec": {
   "display_name": "Python 3",
   "language": "python",
   "name": "python3"
  },
  "language_info": {
   "codemirror_mode": {
    "name": "ipython",
    "version": 3
   },
   "file_extension": ".py",
   "mimetype": "text/x-python",
   "name": "python",
   "nbconvert_exporter": "python",
   "pygments_lexer": "ipython3",
   "version": "3.7.6"
  },
  "papermill": {
   "duration": 8228.230293,
   "end_time": "2020-10-03T00:44:25.596093",
   "environment_variables": {},
   "exception": null,
   "input_path": "__notebook__.ipynb",
   "output_path": "__notebook__.ipynb",
   "parameters": {},
   "start_time": "2020-10-02T22:27:17.365800",
   "version": "2.1.0"
  },
  "widgets": {
   "application/vnd.jupyter.widget-state+json": {
    "state": {
     "05e6822deb0e40e5b29f15f28e0e6389": {
      "model_module": "@jupyter-widgets/base",
      "model_module_version": "1.2.0",
      "model_name": "LayoutModel",
      "state": {
       "_model_module": "@jupyter-widgets/base",
       "_model_module_version": "1.2.0",
       "_model_name": "LayoutModel",
       "_view_count": null,
       "_view_module": "@jupyter-widgets/base",
       "_view_module_version": "1.2.0",
       "_view_name": "LayoutView",
       "align_content": null,
       "align_items": null,
       "align_self": null,
       "border": null,
       "bottom": null,
       "display": null,
       "flex": null,
       "flex_flow": null,
       "grid_area": null,
       "grid_auto_columns": null,
       "grid_auto_flow": null,
       "grid_auto_rows": null,
       "grid_column": null,
       "grid_gap": null,
       "grid_row": null,
       "grid_template_areas": null,
       "grid_template_columns": null,
       "grid_template_rows": null,
       "height": null,
       "justify_content": null,
       "justify_items": null,
       "left": null,
       "margin": null,
       "max_height": null,
       "max_width": null,
       "min_height": null,
       "min_width": null,
       "object_fit": null,
       "object_position": null,
       "order": null,
       "overflow": null,
       "overflow_x": null,
       "overflow_y": null,
       "padding": null,
       "right": null,
       "top": null,
       "visibility": null,
       "width": null
      }
     },
     "1195c82db974419a99fb85dfc90959aa": {
      "model_module": "@jupyter-widgets/base",
      "model_module_version": "1.2.0",
      "model_name": "LayoutModel",
      "state": {
       "_model_module": "@jupyter-widgets/base",
       "_model_module_version": "1.2.0",
       "_model_name": "LayoutModel",
       "_view_count": null,
       "_view_module": "@jupyter-widgets/base",
       "_view_module_version": "1.2.0",
       "_view_name": "LayoutView",
       "align_content": null,
       "align_items": null,
       "align_self": null,
       "border": null,
       "bottom": null,
       "display": null,
       "flex": null,
       "flex_flow": null,
       "grid_area": null,
       "grid_auto_columns": null,
       "grid_auto_flow": null,
       "grid_auto_rows": null,
       "grid_column": null,
       "grid_gap": null,
       "grid_row": null,
       "grid_template_areas": null,
       "grid_template_columns": null,
       "grid_template_rows": null,
       "height": null,
       "justify_content": null,
       "justify_items": null,
       "left": null,
       "margin": null,
       "max_height": null,
       "max_width": null,
       "min_height": null,
       "min_width": null,
       "object_fit": null,
       "object_position": null,
       "order": null,
       "overflow": null,
       "overflow_x": null,
       "overflow_y": null,
       "padding": null,
       "right": null,
       "top": null,
       "visibility": null,
       "width": null
      }
     },
     "14014f640bc0468db17fe13a89186bf4": {
      "model_module": "@jupyter-widgets/base",
      "model_module_version": "1.2.0",
      "model_name": "LayoutModel",
      "state": {
       "_model_module": "@jupyter-widgets/base",
       "_model_module_version": "1.2.0",
       "_model_name": "LayoutModel",
       "_view_count": null,
       "_view_module": "@jupyter-widgets/base",
       "_view_module_version": "1.2.0",
       "_view_name": "LayoutView",
       "align_content": null,
       "align_items": null,
       "align_self": null,
       "border": null,
       "bottom": null,
       "display": null,
       "flex": null,
       "flex_flow": null,
       "grid_area": null,
       "grid_auto_columns": null,
       "grid_auto_flow": null,
       "grid_auto_rows": null,
       "grid_column": null,
       "grid_gap": null,
       "grid_row": null,
       "grid_template_areas": null,
       "grid_template_columns": null,
       "grid_template_rows": null,
       "height": null,
       "justify_content": null,
       "justify_items": null,
       "left": null,
       "margin": null,
       "max_height": null,
       "max_width": null,
       "min_height": null,
       "min_width": null,
       "object_fit": null,
       "object_position": null,
       "order": null,
       "overflow": null,
       "overflow_x": null,
       "overflow_y": null,
       "padding": null,
       "right": null,
       "top": null,
       "visibility": null,
       "width": null
      }
     },
     "1ad6a5b2442a462d8e4f790961526717": {
      "model_module": "@jupyter-widgets/controls",
      "model_module_version": "1.5.0",
      "model_name": "HTMLModel",
      "state": {
       "_dom_classes": [],
       "_model_module": "@jupyter-widgets/controls",
       "_model_module_version": "1.5.0",
       "_model_name": "HTMLModel",
       "_view_count": null,
       "_view_module": "@jupyter-widgets/controls",
       "_view_module_version": "1.5.0",
       "_view_name": "HTMLView",
       "description": "",
       "description_tooltip": null,
       "layout": "IPY_MODEL_9147ecaad52045928160d094015b67ee",
       "placeholder": "​",
       "style": "IPY_MODEL_3039a3094a3c459d820d5bd737f1c1cd",
       "value": " 466/466 [00:24&lt;00:00, 18.8B/s]"
      }
     },
     "1c4d1fcdbf134d55994e65719f33a5ae": {
      "model_module": "@jupyter-widgets/controls",
      "model_module_version": "1.5.0",
      "model_name": "DescriptionStyleModel",
      "state": {
       "_model_module": "@jupyter-widgets/controls",
       "_model_module_version": "1.5.0",
       "_model_name": "DescriptionStyleModel",
       "_view_count": null,
       "_view_module": "@jupyter-widgets/base",
       "_view_module_version": "1.2.0",
       "_view_name": "StyleView",
       "description_width": ""
      }
     },
     "1c91154b3d3440f5a4db5e5a9c2aa5e2": {
      "model_module": "@jupyter-widgets/controls",
      "model_module_version": "1.5.0",
      "model_name": "ProgressStyleModel",
      "state": {
       "_model_module": "@jupyter-widgets/controls",
       "_model_module_version": "1.5.0",
       "_model_name": "ProgressStyleModel",
       "_view_count": null,
       "_view_module": "@jupyter-widgets/base",
       "_view_module_version": "1.2.0",
       "_view_name": "StyleView",
       "bar_color": null,
       "description_width": "initial"
      }
     },
     "2987d94559474427841695b257912059": {
      "model_module": "@jupyter-widgets/base",
      "model_module_version": "1.2.0",
      "model_name": "LayoutModel",
      "state": {
       "_model_module": "@jupyter-widgets/base",
       "_model_module_version": "1.2.0",
       "_model_name": "LayoutModel",
       "_view_count": null,
       "_view_module": "@jupyter-widgets/base",
       "_view_module_version": "1.2.0",
       "_view_name": "LayoutView",
       "align_content": null,
       "align_items": null,
       "align_self": null,
       "border": null,
       "bottom": null,
       "display": null,
       "flex": null,
       "flex_flow": null,
       "grid_area": null,
       "grid_auto_columns": null,
       "grid_auto_flow": null,
       "grid_auto_rows": null,
       "grid_column": null,
       "grid_gap": null,
       "grid_row": null,
       "grid_template_areas": null,
       "grid_template_columns": null,
       "grid_template_rows": null,
       "height": null,
       "justify_content": null,
       "justify_items": null,
       "left": null,
       "margin": null,
       "max_height": null,
       "max_width": null,
       "min_height": null,
       "min_width": null,
       "object_fit": null,
       "object_position": null,
       "order": null,
       "overflow": null,
       "overflow_x": null,
       "overflow_y": null,
       "padding": null,
       "right": null,
       "top": null,
       "visibility": null,
       "width": null
      }
     },
     "2b416fe1381e49fbbe0244c660c845a0": {
      "model_module": "@jupyter-widgets/controls",
      "model_module_version": "1.5.0",
      "model_name": "HBoxModel",
      "state": {
       "_dom_classes": [],
       "_model_module": "@jupyter-widgets/controls",
       "_model_module_version": "1.5.0",
       "_model_name": "HBoxModel",
       "_view_count": null,
       "_view_module": "@jupyter-widgets/controls",
       "_view_module_version": "1.5.0",
       "_view_name": "HBoxView",
       "box_style": "",
       "children": [
        "IPY_MODEL_b25f4b5beddf4bb3a36d0f13065713cb",
        "IPY_MODEL_3b4c472e41a54c268f6898614bd14d87"
       ],
       "layout": "IPY_MODEL_c69d55917ddd493c9e30701b707dd40f"
      }
     },
     "2d3506d2e1024359a6fc98d1df440b5e": {
      "model_module": "@jupyter-widgets/base",
      "model_module_version": "1.2.0",
      "model_name": "LayoutModel",
      "state": {
       "_model_module": "@jupyter-widgets/base",
       "_model_module_version": "1.2.0",
       "_model_name": "LayoutModel",
       "_view_count": null,
       "_view_module": "@jupyter-widgets/base",
       "_view_module_version": "1.2.0",
       "_view_name": "LayoutView",
       "align_content": null,
       "align_items": null,
       "align_self": null,
       "border": null,
       "bottom": null,
       "display": null,
       "flex": null,
       "flex_flow": null,
       "grid_area": null,
       "grid_auto_columns": null,
       "grid_auto_flow": null,
       "grid_auto_rows": null,
       "grid_column": null,
       "grid_gap": null,
       "grid_row": null,
       "grid_template_areas": null,
       "grid_template_columns": null,
       "grid_template_rows": null,
       "height": null,
       "justify_content": null,
       "justify_items": null,
       "left": null,
       "margin": null,
       "max_height": null,
       "max_width": null,
       "min_height": null,
       "min_width": null,
       "object_fit": null,
       "object_position": null,
       "order": null,
       "overflow": null,
       "overflow_x": null,
       "overflow_y": null,
       "padding": null,
       "right": null,
       "top": null,
       "visibility": null,
       "width": null
      }
     },
     "3039a3094a3c459d820d5bd737f1c1cd": {
      "model_module": "@jupyter-widgets/controls",
      "model_module_version": "1.5.0",
      "model_name": "DescriptionStyleModel",
      "state": {
       "_model_module": "@jupyter-widgets/controls",
       "_model_module_version": "1.5.0",
       "_model_name": "DescriptionStyleModel",
       "_view_count": null,
       "_view_module": "@jupyter-widgets/base",
       "_view_module_version": "1.2.0",
       "_view_name": "StyleView",
       "description_width": ""
      }
     },
     "34e9f4ec40964685a2a695abae497165": {
      "model_module": "@jupyter-widgets/controls",
      "model_module_version": "1.5.0",
      "model_name": "HTMLModel",
      "state": {
       "_dom_classes": [],
       "_model_module": "@jupyter-widgets/controls",
       "_model_module_version": "1.5.0",
       "_model_name": "HTMLModel",
       "_view_count": null,
       "_view_module": "@jupyter-widgets/controls",
       "_view_module_version": "1.5.0",
       "_view_name": "HTMLView",
       "description": "",
       "description_tooltip": null,
       "layout": "IPY_MODEL_2d3506d2e1024359a6fc98d1df440b5e",
       "placeholder": "​",
       "style": "IPY_MODEL_1c4d1fcdbf134d55994e65719f33a5ae",
       "value": " 542M/542M [00:23&lt;00:00, 23.1MB/s]"
      }
     },
     "3b4c472e41a54c268f6898614bd14d87": {
      "model_module": "@jupyter-widgets/controls",
      "model_module_version": "1.5.0",
      "model_name": "HTMLModel",
      "state": {
       "_dom_classes": [],
       "_model_module": "@jupyter-widgets/controls",
       "_model_module_version": "1.5.0",
       "_model_name": "HTMLModel",
       "_view_count": null,
       "_view_module": "@jupyter-widgets/controls",
       "_view_module_version": "1.5.0",
       "_view_name": "HTMLView",
       "description": "",
       "description_tooltip": null,
       "layout": "IPY_MODEL_2987d94559474427841695b257912059",
       "placeholder": "​",
       "style": "IPY_MODEL_e5d5f2cb746c4603861ba20a5c60337a",
       "value": " 1/1 [2:15:03&lt;00:00, 8103.02s/it]"
      }
     },
     "50f298e372424632b6a0f8c08b458031": {
      "model_module": "@jupyter-widgets/controls",
      "model_module_version": "1.5.0",
      "model_name": "HBoxModel",
      "state": {
       "_dom_classes": [],
       "_model_module": "@jupyter-widgets/controls",
       "_model_module_version": "1.5.0",
       "_model_name": "HBoxModel",
       "_view_count": null,
       "_view_module": "@jupyter-widgets/controls",
       "_view_module_version": "1.5.0",
       "_view_name": "HBoxView",
       "box_style": "",
       "children": [
        "IPY_MODEL_87cf30e490a144b5927ea1fcbde7f57b",
        "IPY_MODEL_a73c1b4957a747ac881ba874161becfe"
       ],
       "layout": "IPY_MODEL_eec5ea91cc2644889a794f1150a86add"
      }
     },
     "8032d2c358b444fa80612203d5f44748": {
      "model_module": "@jupyter-widgets/controls",
      "model_module_version": "1.5.0",
      "model_name": "FloatProgressModel",
      "state": {
       "_dom_classes": [],
       "_model_module": "@jupyter-widgets/controls",
       "_model_module_version": "1.5.0",
       "_model_name": "FloatProgressModel",
       "_view_count": null,
       "_view_module": "@jupyter-widgets/controls",
       "_view_module_version": "1.5.0",
       "_view_name": "ProgressView",
       "bar_style": "success",
       "description": "Downloading: 100%",
       "description_tooltip": null,
       "layout": "IPY_MODEL_8ab7487910dc4ae0b36a084cf12d05c2",
       "max": 541808922.0,
       "min": 0.0,
       "orientation": "horizontal",
       "style": "IPY_MODEL_1c91154b3d3440f5a4db5e5a9c2aa5e2",
       "value": 541808922.0
      }
     },
     "8508fcaf97b341c092be8f97c4cd77f8": {
      "model_module": "@jupyter-widgets/controls",
      "model_module_version": "1.5.0",
      "model_name": "HBoxModel",
      "state": {
       "_dom_classes": [],
       "_model_module": "@jupyter-widgets/controls",
       "_model_module_version": "1.5.0",
       "_model_name": "HBoxModel",
       "_view_count": null,
       "_view_module": "@jupyter-widgets/controls",
       "_view_module_version": "1.5.0",
       "_view_name": "HBoxView",
       "box_style": "",
       "children": [
        "IPY_MODEL_8032d2c358b444fa80612203d5f44748",
        "IPY_MODEL_34e9f4ec40964685a2a695abae497165"
       ],
       "layout": "IPY_MODEL_05e6822deb0e40e5b29f15f28e0e6389"
      }
     },
     "875c3f665178433eb64cdaba2a410a35": {
      "model_module": "@jupyter-widgets/controls",
      "model_module_version": "1.5.0",
      "model_name": "ProgressStyleModel",
      "state": {
       "_model_module": "@jupyter-widgets/controls",
       "_model_module_version": "1.5.0",
       "_model_name": "ProgressStyleModel",
       "_view_count": null,
       "_view_module": "@jupyter-widgets/base",
       "_view_module_version": "1.2.0",
       "_view_name": "StyleView",
       "bar_color": null,
       "description_width": "initial"
      }
     },
     "87cf30e490a144b5927ea1fcbde7f57b": {
      "model_module": "@jupyter-widgets/controls",
      "model_module_version": "1.5.0",
      "model_name": "FloatProgressModel",
      "state": {
       "_dom_classes": [],
       "_model_module": "@jupyter-widgets/controls",
       "_model_module_version": "1.5.0",
       "_model_name": "FloatProgressModel",
       "_view_count": null,
       "_view_module": "@jupyter-widgets/controls",
       "_view_module_version": "1.5.0",
       "_view_name": "ProgressView",
       "bar_style": "success",
       "description": "Iteration: 100%",
       "description_tooltip": null,
       "layout": "IPY_MODEL_9eb7a96562324a1d81ef7eb34c4f8dcb",
       "max": 37562.0,
       "min": 0.0,
       "orientation": "horizontal",
       "style": "IPY_MODEL_a5487c4226fd41b7bd21815bcd2b8a93",
       "value": 37562.0
      }
     },
     "8ab7487910dc4ae0b36a084cf12d05c2": {
      "model_module": "@jupyter-widgets/base",
      "model_module_version": "1.2.0",
      "model_name": "LayoutModel",
      "state": {
       "_model_module": "@jupyter-widgets/base",
       "_model_module_version": "1.2.0",
       "_model_name": "LayoutModel",
       "_view_count": null,
       "_view_module": "@jupyter-widgets/base",
       "_view_module_version": "1.2.0",
       "_view_name": "LayoutView",
       "align_content": null,
       "align_items": null,
       "align_self": null,
       "border": null,
       "bottom": null,
       "display": null,
       "flex": null,
       "flex_flow": null,
       "grid_area": null,
       "grid_auto_columns": null,
       "grid_auto_flow": null,
       "grid_auto_rows": null,
       "grid_column": null,
       "grid_gap": null,
       "grid_row": null,
       "grid_template_areas": null,
       "grid_template_columns": null,
       "grid_template_rows": null,
       "height": null,
       "justify_content": null,
       "justify_items": null,
       "left": null,
       "margin": null,
       "max_height": null,
       "max_width": null,
       "min_height": null,
       "min_width": null,
       "object_fit": null,
       "object_position": null,
       "order": null,
       "overflow": null,
       "overflow_x": null,
       "overflow_y": null,
       "padding": null,
       "right": null,
       "top": null,
       "visibility": null,
       "width": null
      }
     },
     "8f7f0ee454714c8fa78f2480c511bcc3": {
      "model_module": "@jupyter-widgets/controls",
      "model_module_version": "1.5.0",
      "model_name": "DescriptionStyleModel",
      "state": {
       "_model_module": "@jupyter-widgets/controls",
       "_model_module_version": "1.5.0",
       "_model_name": "DescriptionStyleModel",
       "_view_count": null,
       "_view_module": "@jupyter-widgets/base",
       "_view_module_version": "1.2.0",
       "_view_name": "StyleView",
       "description_width": ""
      }
     },
     "9147ecaad52045928160d094015b67ee": {
      "model_module": "@jupyter-widgets/base",
      "model_module_version": "1.2.0",
      "model_name": "LayoutModel",
      "state": {
       "_model_module": "@jupyter-widgets/base",
       "_model_module_version": "1.2.0",
       "_model_name": "LayoutModel",
       "_view_count": null,
       "_view_module": "@jupyter-widgets/base",
       "_view_module_version": "1.2.0",
       "_view_name": "LayoutView",
       "align_content": null,
       "align_items": null,
       "align_self": null,
       "border": null,
       "bottom": null,
       "display": null,
       "flex": null,
       "flex_flow": null,
       "grid_area": null,
       "grid_auto_columns": null,
       "grid_auto_flow": null,
       "grid_auto_rows": null,
       "grid_column": null,
       "grid_gap": null,
       "grid_row": null,
       "grid_template_areas": null,
       "grid_template_columns": null,
       "grid_template_rows": null,
       "height": null,
       "justify_content": null,
       "justify_items": null,
       "left": null,
       "margin": null,
       "max_height": null,
       "max_width": null,
       "min_height": null,
       "min_width": null,
       "object_fit": null,
       "object_position": null,
       "order": null,
       "overflow": null,
       "overflow_x": null,
       "overflow_y": null,
       "padding": null,
       "right": null,
       "top": null,
       "visibility": null,
       "width": null
      }
     },
     "9733be045b8d42ee9dd1b3185b91ceb9": {
      "model_module": "@jupyter-widgets/controls",
      "model_module_version": "1.5.0",
      "model_name": "HBoxModel",
      "state": {
       "_dom_classes": [],
       "_model_module": "@jupyter-widgets/controls",
       "_model_module_version": "1.5.0",
       "_model_name": "HBoxModel",
       "_view_count": null,
       "_view_module": "@jupyter-widgets/controls",
       "_view_module_version": "1.5.0",
       "_view_name": "HBoxView",
       "box_style": "",
       "children": [
        "IPY_MODEL_ced1a592d590459e9e9ca2c62214a027",
        "IPY_MODEL_9942f68476dd46c5a68995b06ed12198"
       ],
       "layout": "IPY_MODEL_e041cd5253344a0fa29150b5716a6f52"
      }
     },
     "9942f68476dd46c5a68995b06ed12198": {
      "model_module": "@jupyter-widgets/controls",
      "model_module_version": "1.5.0",
      "model_name": "HTMLModel",
      "state": {
       "_dom_classes": [],
       "_model_module": "@jupyter-widgets/controls",
       "_model_module_version": "1.5.0",
       "_model_name": "HTMLModel",
       "_view_count": null,
       "_view_module": "@jupyter-widgets/controls",
       "_view_module_version": "1.5.0",
       "_view_name": "HTMLView",
       "description": "",
       "description_tooltip": null,
       "layout": "IPY_MODEL_de74d5dac3dd4185bbc5f6b629ffa6f5",
       "placeholder": "​",
       "style": "IPY_MODEL_8f7f0ee454714c8fa78f2480c511bcc3",
       "value": " 996k/996k [01:17&lt;00:00, 12.9kB/s]"
      }
     },
     "9a66f7ff98f7446c99d7af8837f4f26f": {
      "model_module": "@jupyter-widgets/base",
      "model_module_version": "1.2.0",
      "model_name": "LayoutModel",
      "state": {
       "_model_module": "@jupyter-widgets/base",
       "_model_module_version": "1.2.0",
       "_model_name": "LayoutModel",
       "_view_count": null,
       "_view_module": "@jupyter-widgets/base",
       "_view_module_version": "1.2.0",
       "_view_name": "LayoutView",
       "align_content": null,
       "align_items": null,
       "align_self": null,
       "border": null,
       "bottom": null,
       "display": null,
       "flex": null,
       "flex_flow": null,
       "grid_area": null,
       "grid_auto_columns": null,
       "grid_auto_flow": null,
       "grid_auto_rows": null,
       "grid_column": null,
       "grid_gap": null,
       "grid_row": null,
       "grid_template_areas": null,
       "grid_template_columns": null,
       "grid_template_rows": null,
       "height": null,
       "justify_content": null,
       "justify_items": null,
       "left": null,
       "margin": null,
       "max_height": null,
       "max_width": null,
       "min_height": null,
       "min_width": null,
       "object_fit": null,
       "object_position": null,
       "order": null,
       "overflow": null,
       "overflow_x": null,
       "overflow_y": null,
       "padding": null,
       "right": null,
       "top": null,
       "visibility": null,
       "width": null
      }
     },
     "9e00507bcc4f457ea4aacc6189cd499e": {
      "model_module": "@jupyter-widgets/controls",
      "model_module_version": "1.5.0",
      "model_name": "FloatProgressModel",
      "state": {
       "_dom_classes": [],
       "_model_module": "@jupyter-widgets/controls",
       "_model_module_version": "1.5.0",
       "_model_name": "FloatProgressModel",
       "_view_count": null,
       "_view_module": "@jupyter-widgets/controls",
       "_view_module_version": "1.5.0",
       "_view_name": "ProgressView",
       "bar_style": "success",
       "description": "Downloading: 100%",
       "description_tooltip": null,
       "layout": "IPY_MODEL_9a66f7ff98f7446c99d7af8837f4f26f",
       "max": 466.0,
       "min": 0.0,
       "orientation": "horizontal",
       "style": "IPY_MODEL_bd64e7a527fb4cf89041df0c8c56563b",
       "value": 466.0
      }
     },
     "9eb7a96562324a1d81ef7eb34c4f8dcb": {
      "model_module": "@jupyter-widgets/base",
      "model_module_version": "1.2.0",
      "model_name": "LayoutModel",
      "state": {
       "_model_module": "@jupyter-widgets/base",
       "_model_module_version": "1.2.0",
       "_model_name": "LayoutModel",
       "_view_count": null,
       "_view_module": "@jupyter-widgets/base",
       "_view_module_version": "1.2.0",
       "_view_name": "LayoutView",
       "align_content": null,
       "align_items": null,
       "align_self": null,
       "border": null,
       "bottom": null,
       "display": null,
       "flex": null,
       "flex_flow": null,
       "grid_area": null,
       "grid_auto_columns": null,
       "grid_auto_flow": null,
       "grid_auto_rows": null,
       "grid_column": null,
       "grid_gap": null,
       "grid_row": null,
       "grid_template_areas": null,
       "grid_template_columns": null,
       "grid_template_rows": null,
       "height": null,
       "justify_content": null,
       "justify_items": null,
       "left": null,
       "margin": null,
       "max_height": null,
       "max_width": null,
       "min_height": null,
       "min_width": null,
       "object_fit": null,
       "object_position": null,
       "order": null,
       "overflow": null,
       "overflow_x": null,
       "overflow_y": null,
       "padding": null,
       "right": null,
       "top": null,
       "visibility": null,
       "width": null
      }
     },
     "a5487c4226fd41b7bd21815bcd2b8a93": {
      "model_module": "@jupyter-widgets/controls",
      "model_module_version": "1.5.0",
      "model_name": "ProgressStyleModel",
      "state": {
       "_model_module": "@jupyter-widgets/controls",
       "_model_module_version": "1.5.0",
       "_model_name": "ProgressStyleModel",
       "_view_count": null,
       "_view_module": "@jupyter-widgets/base",
       "_view_module_version": "1.2.0",
       "_view_name": "StyleView",
       "bar_color": null,
       "description_width": "initial"
      }
     },
     "a73c1b4957a747ac881ba874161becfe": {
      "model_module": "@jupyter-widgets/controls",
      "model_module_version": "1.5.0",
      "model_name": "HTMLModel",
      "state": {
       "_dom_classes": [],
       "_model_module": "@jupyter-widgets/controls",
       "_model_module_version": "1.5.0",
       "_model_name": "HTMLModel",
       "_view_count": null,
       "_view_module": "@jupyter-widgets/controls",
       "_view_module_version": "1.5.0",
       "_view_name": "HTMLView",
       "description": "",
       "description_tooltip": null,
       "layout": "IPY_MODEL_1195c82db974419a99fb85dfc90959aa",
       "placeholder": "​",
       "style": "IPY_MODEL_c459ed5d82bc4d92bdf09832356d891a",
       "value": " 37562/37562 [2:15:02&lt;00:00,  4.64it/s]"
      }
     },
     "b25f4b5beddf4bb3a36d0f13065713cb": {
      "model_module": "@jupyter-widgets/controls",
      "model_module_version": "1.5.0",
      "model_name": "FloatProgressModel",
      "state": {
       "_dom_classes": [],
       "_model_module": "@jupyter-widgets/controls",
       "_model_module_version": "1.5.0",
       "_model_name": "FloatProgressModel",
       "_view_count": null,
       "_view_module": "@jupyter-widgets/controls",
       "_view_module_version": "1.5.0",
       "_view_name": "ProgressView",
       "bar_style": "success",
       "description": "Epoch: 100%",
       "description_tooltip": null,
       "layout": "IPY_MODEL_cc2d7936c54a4acabff7eedbb70843f3",
       "max": 1.0,
       "min": 0.0,
       "orientation": "horizontal",
       "style": "IPY_MODEL_875c3f665178433eb64cdaba2a410a35",
       "value": 1.0
      }
     },
     "bd64e7a527fb4cf89041df0c8c56563b": {
      "model_module": "@jupyter-widgets/controls",
      "model_module_version": "1.5.0",
      "model_name": "ProgressStyleModel",
      "state": {
       "_model_module": "@jupyter-widgets/controls",
       "_model_module_version": "1.5.0",
       "_model_name": "ProgressStyleModel",
       "_view_count": null,
       "_view_module": "@jupyter-widgets/base",
       "_view_module_version": "1.2.0",
       "_view_name": "StyleView",
       "bar_color": null,
       "description_width": "initial"
      }
     },
     "c459ed5d82bc4d92bdf09832356d891a": {
      "model_module": "@jupyter-widgets/controls",
      "model_module_version": "1.5.0",
      "model_name": "DescriptionStyleModel",
      "state": {
       "_model_module": "@jupyter-widgets/controls",
       "_model_module_version": "1.5.0",
       "_model_name": "DescriptionStyleModel",
       "_view_count": null,
       "_view_module": "@jupyter-widgets/base",
       "_view_module_version": "1.2.0",
       "_view_name": "StyleView",
       "description_width": ""
      }
     },
     "c69d55917ddd493c9e30701b707dd40f": {
      "model_module": "@jupyter-widgets/base",
      "model_module_version": "1.2.0",
      "model_name": "LayoutModel",
      "state": {
       "_model_module": "@jupyter-widgets/base",
       "_model_module_version": "1.2.0",
       "_model_name": "LayoutModel",
       "_view_count": null,
       "_view_module": "@jupyter-widgets/base",
       "_view_module_version": "1.2.0",
       "_view_name": "LayoutView",
       "align_content": null,
       "align_items": null,
       "align_self": null,
       "border": null,
       "bottom": null,
       "display": null,
       "flex": null,
       "flex_flow": null,
       "grid_area": null,
       "grid_auto_columns": null,
       "grid_auto_flow": null,
       "grid_auto_rows": null,
       "grid_column": null,
       "grid_gap": null,
       "grid_row": null,
       "grid_template_areas": null,
       "grid_template_columns": null,
       "grid_template_rows": null,
       "height": null,
       "justify_content": null,
       "justify_items": null,
       "left": null,
       "margin": null,
       "max_height": null,
       "max_width": null,
       "min_height": null,
       "min_width": null,
       "object_fit": null,
       "object_position": null,
       "order": null,
       "overflow": null,
       "overflow_x": null,
       "overflow_y": null,
       "padding": null,
       "right": null,
       "top": null,
       "visibility": null,
       "width": null
      }
     },
     "c7682ffe84cf424e866b7125ccd67be9": {
      "model_module": "@jupyter-widgets/controls",
      "model_module_version": "1.5.0",
      "model_name": "HBoxModel",
      "state": {
       "_dom_classes": [],
       "_model_module": "@jupyter-widgets/controls",
       "_model_module_version": "1.5.0",
       "_model_name": "HBoxModel",
       "_view_count": null,
       "_view_module": "@jupyter-widgets/controls",
       "_view_module_version": "1.5.0",
       "_view_name": "HBoxView",
       "box_style": "",
       "children": [
        "IPY_MODEL_9e00507bcc4f457ea4aacc6189cd499e",
        "IPY_MODEL_1ad6a5b2442a462d8e4f790961526717"
       ],
       "layout": "IPY_MODEL_eff893db213c4adebab4d59a6ce357b8"
      }
     },
     "cc2d7936c54a4acabff7eedbb70843f3": {
      "model_module": "@jupyter-widgets/base",
      "model_module_version": "1.2.0",
      "model_name": "LayoutModel",
      "state": {
       "_model_module": "@jupyter-widgets/base",
       "_model_module_version": "1.2.0",
       "_model_name": "LayoutModel",
       "_view_count": null,
       "_view_module": "@jupyter-widgets/base",
       "_view_module_version": "1.2.0",
       "_view_name": "LayoutView",
       "align_content": null,
       "align_items": null,
       "align_self": null,
       "border": null,
       "bottom": null,
       "display": null,
       "flex": null,
       "flex_flow": null,
       "grid_area": null,
       "grid_auto_columns": null,
       "grid_auto_flow": null,
       "grid_auto_rows": null,
       "grid_column": null,
       "grid_gap": null,
       "grid_row": null,
       "grid_template_areas": null,
       "grid_template_columns": null,
       "grid_template_rows": null,
       "height": null,
       "justify_content": null,
       "justify_items": null,
       "left": null,
       "margin": null,
       "max_height": null,
       "max_width": null,
       "min_height": null,
       "min_width": null,
       "object_fit": null,
       "object_position": null,
       "order": null,
       "overflow": null,
       "overflow_x": null,
       "overflow_y": null,
       "padding": null,
       "right": null,
       "top": null,
       "visibility": null,
       "width": null
      }
     },
     "ced1a592d590459e9e9ca2c62214a027": {
      "model_module": "@jupyter-widgets/controls",
      "model_module_version": "1.5.0",
      "model_name": "FloatProgressModel",
      "state": {
       "_dom_classes": [],
       "_model_module": "@jupyter-widgets/controls",
       "_model_module_version": "1.5.0",
       "_model_name": "FloatProgressModel",
       "_view_count": null,
       "_view_module": "@jupyter-widgets/controls",
       "_view_module_version": "1.5.0",
       "_view_name": "ProgressView",
       "bar_style": "success",
       "description": "Downloading: 100%",
       "description_tooltip": null,
       "layout": "IPY_MODEL_14014f640bc0468db17fe13a89186bf4",
       "max": 995526.0,
       "min": 0.0,
       "orientation": "horizontal",
       "style": "IPY_MODEL_df8d23e16d0446a4ace8809045214bca",
       "value": 995526.0
      }
     },
     "de74d5dac3dd4185bbc5f6b629ffa6f5": {
      "model_module": "@jupyter-widgets/base",
      "model_module_version": "1.2.0",
      "model_name": "LayoutModel",
      "state": {
       "_model_module": "@jupyter-widgets/base",
       "_model_module_version": "1.2.0",
       "_model_name": "LayoutModel",
       "_view_count": null,
       "_view_module": "@jupyter-widgets/base",
       "_view_module_version": "1.2.0",
       "_view_name": "LayoutView",
       "align_content": null,
       "align_items": null,
       "align_self": null,
       "border": null,
       "bottom": null,
       "display": null,
       "flex": null,
       "flex_flow": null,
       "grid_area": null,
       "grid_auto_columns": null,
       "grid_auto_flow": null,
       "grid_auto_rows": null,
       "grid_column": null,
       "grid_gap": null,
       "grid_row": null,
       "grid_template_areas": null,
       "grid_template_columns": null,
       "grid_template_rows": null,
       "height": null,
       "justify_content": null,
       "justify_items": null,
       "left": null,
       "margin": null,
       "max_height": null,
       "max_width": null,
       "min_height": null,
       "min_width": null,
       "object_fit": null,
       "object_position": null,
       "order": null,
       "overflow": null,
       "overflow_x": null,
       "overflow_y": null,
       "padding": null,
       "right": null,
       "top": null,
       "visibility": null,
       "width": null
      }
     },
     "df8d23e16d0446a4ace8809045214bca": {
      "model_module": "@jupyter-widgets/controls",
      "model_module_version": "1.5.0",
      "model_name": "ProgressStyleModel",
      "state": {
       "_model_module": "@jupyter-widgets/controls",
       "_model_module_version": "1.5.0",
       "_model_name": "ProgressStyleModel",
       "_view_count": null,
       "_view_module": "@jupyter-widgets/base",
       "_view_module_version": "1.2.0",
       "_view_name": "StyleView",
       "bar_color": null,
       "description_width": "initial"
      }
     },
     "e041cd5253344a0fa29150b5716a6f52": {
      "model_module": "@jupyter-widgets/base",
      "model_module_version": "1.2.0",
      "model_name": "LayoutModel",
      "state": {
       "_model_module": "@jupyter-widgets/base",
       "_model_module_version": "1.2.0",
       "_model_name": "LayoutModel",
       "_view_count": null,
       "_view_module": "@jupyter-widgets/base",
       "_view_module_version": "1.2.0",
       "_view_name": "LayoutView",
       "align_content": null,
       "align_items": null,
       "align_self": null,
       "border": null,
       "bottom": null,
       "display": null,
       "flex": null,
       "flex_flow": null,
       "grid_area": null,
       "grid_auto_columns": null,
       "grid_auto_flow": null,
       "grid_auto_rows": null,
       "grid_column": null,
       "grid_gap": null,
       "grid_row": null,
       "grid_template_areas": null,
       "grid_template_columns": null,
       "grid_template_rows": null,
       "height": null,
       "justify_content": null,
       "justify_items": null,
       "left": null,
       "margin": null,
       "max_height": null,
       "max_width": null,
       "min_height": null,
       "min_width": null,
       "object_fit": null,
       "object_position": null,
       "order": null,
       "overflow": null,
       "overflow_x": null,
       "overflow_y": null,
       "padding": null,
       "right": null,
       "top": null,
       "visibility": null,
       "width": null
      }
     },
     "e5d5f2cb746c4603861ba20a5c60337a": {
      "model_module": "@jupyter-widgets/controls",
      "model_module_version": "1.5.0",
      "model_name": "DescriptionStyleModel",
      "state": {
       "_model_module": "@jupyter-widgets/controls",
       "_model_module_version": "1.5.0",
       "_model_name": "DescriptionStyleModel",
       "_view_count": null,
       "_view_module": "@jupyter-widgets/base",
       "_view_module_version": "1.2.0",
       "_view_name": "StyleView",
       "description_width": ""
      }
     },
     "eec5ea91cc2644889a794f1150a86add": {
      "model_module": "@jupyter-widgets/base",
      "model_module_version": "1.2.0",
      "model_name": "LayoutModel",
      "state": {
       "_model_module": "@jupyter-widgets/base",
       "_model_module_version": "1.2.0",
       "_model_name": "LayoutModel",
       "_view_count": null,
       "_view_module": "@jupyter-widgets/base",
       "_view_module_version": "1.2.0",
       "_view_name": "LayoutView",
       "align_content": null,
       "align_items": null,
       "align_self": null,
       "border": null,
       "bottom": null,
       "display": null,
       "flex": null,
       "flex_flow": null,
       "grid_area": null,
       "grid_auto_columns": null,
       "grid_auto_flow": null,
       "grid_auto_rows": null,
       "grid_column": null,
       "grid_gap": null,
       "grid_row": null,
       "grid_template_areas": null,
       "grid_template_columns": null,
       "grid_template_rows": null,
       "height": null,
       "justify_content": null,
       "justify_items": null,
       "left": null,
       "margin": null,
       "max_height": null,
       "max_width": null,
       "min_height": null,
       "min_width": null,
       "object_fit": null,
       "object_position": null,
       "order": null,
       "overflow": null,
       "overflow_x": null,
       "overflow_y": null,
       "padding": null,
       "right": null,
       "top": null,
       "visibility": null,
       "width": null
      }
     },
     "eff893db213c4adebab4d59a6ce357b8": {
      "model_module": "@jupyter-widgets/base",
      "model_module_version": "1.2.0",
      "model_name": "LayoutModel",
      "state": {
       "_model_module": "@jupyter-widgets/base",
       "_model_module_version": "1.2.0",
       "_model_name": "LayoutModel",
       "_view_count": null,
       "_view_module": "@jupyter-widgets/base",
       "_view_module_version": "1.2.0",
       "_view_name": "LayoutView",
       "align_content": null,
       "align_items": null,
       "align_self": null,
       "border": null,
       "bottom": null,
       "display": null,
       "flex": null,
       "flex_flow": null,
       "grid_area": null,
       "grid_auto_columns": null,
       "grid_auto_flow": null,
       "grid_auto_rows": null,
       "grid_column": null,
       "grid_gap": null,
       "grid_row": null,
       "grid_template_areas": null,
       "grid_template_columns": null,
       "grid_template_rows": null,
       "height": null,
       "justify_content": null,
       "justify_items": null,
       "left": null,
       "margin": null,
       "max_height": null,
       "max_width": null,
       "min_height": null,
       "min_width": null,
       "object_fit": null,
       "object_position": null,
       "order": null,
       "overflow": null,
       "overflow_x": null,
       "overflow_y": null,
       "padding": null,
       "right": null,
       "top": null,
       "visibility": null,
       "width": null
      }
     }
    },
    "version_major": 2,
    "version_minor": 0
   }
  }
 },
 "nbformat": 4,
 "nbformat_minor": 4
}
