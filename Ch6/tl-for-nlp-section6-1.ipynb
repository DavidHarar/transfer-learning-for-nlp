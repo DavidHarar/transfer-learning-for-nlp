{
 "cells": [
  {
   "cell_type": "markdown",
   "metadata": {
    "papermill": {
     "duration": 0.029163,
     "end_time": "2020-09-30T21:56:58.114537",
     "exception": false,
     "start_time": "2020-09-30T21:56:58.085374",
     "status": "completed"
    },
    "tags": []
   },
   "source": [
    "# Preliminaries\n",
    "Write requirements to file, anytime you run it, in case you have to go back and recover dependencies.\n",
    "\n",
    "Requirements are hosted for each notebook in the companion github repo, and can be pulled down and installed here if needed. Companion github repo is located at https://github.com/azunre/transfer-learning-for-nlp"
   ]
  },
  {
   "cell_type": "code",
   "execution_count": 1,
   "metadata": {
    "execution": {
     "iopub.execute_input": "2020-09-30T21:56:58.178864Z",
     "iopub.status.busy": "2020-09-30T21:56:58.177959Z",
     "iopub.status.idle": "2020-09-30T21:57:00.371871Z",
     "shell.execute_reply": "2020-09-30T21:57:00.370644Z"
    },
    "papermill": {
     "duration": 2.229218,
     "end_time": "2020-09-30T21:57:00.372034",
     "exception": false,
     "start_time": "2020-09-30T21:56:58.142816",
     "status": "completed"
    },
    "tags": []
   },
   "outputs": [],
   "source": [
    "!pip freeze > kaggle_image_requirements.txt"
   ]
  },
  {
   "cell_type": "markdown",
   "metadata": {
    "papermill": {
     "duration": 0.028219,
     "end_time": "2020-09-30T21:57:00.430679",
     "exception": false,
     "start_time": "2020-09-30T21:57:00.402460",
     "status": "completed"
    },
    "tags": []
   },
   "source": [
    "# Read and Preprocess Fake News Data\n",
    "\n",
    "The data preprocessing steps are the same as those in sections 4.2/4.4\n",
    "\n",
    "Read in the \"true\" and \"fake\" data\n",
    "\n",
    "In quotes, because that has the potential to simply replicate the biases of the labeler, so should be carefully evaluated"
   ]
  },
  {
   "cell_type": "code",
   "execution_count": 2,
   "metadata": {
    "execution": {
     "iopub.execute_input": "2020-09-30T21:57:00.500937Z",
     "iopub.status.busy": "2020-09-30T21:57:00.500179Z",
     "iopub.status.idle": "2020-09-30T21:57:01.876667Z",
     "shell.execute_reply": "2020-09-30T21:57:01.877903Z"
    },
    "papermill": {
     "duration": 1.417377,
     "end_time": "2020-09-30T21:57:01.878100",
     "exception": false,
     "start_time": "2020-09-30T21:57:00.460723",
     "status": "completed"
    },
    "tags": []
   },
   "outputs": [
    {
     "name": "stdout",
     "output_type": "stream",
     "text": [
      "Data labeled as True:\n",
      "                                               title  \\\n",
      "0  As U.S. budget fight looms, Republicans flip t...   \n",
      "1  U.S. military to accept transgender recruits o...   \n",
      "2  Senior U.S. Republican senator: 'Let Mr. Muell...   \n",
      "3  FBI Russia probe helped by Australian diplomat...   \n",
      "4  Trump wants Postal Service to charge 'much mor...   \n",
      "\n",
      "                                                text       subject  \\\n",
      "0  WASHINGTON (Reuters) - The head of a conservat...  politicsNews   \n",
      "1  WASHINGTON (Reuters) - Transgender people will...  politicsNews   \n",
      "2  WASHINGTON (Reuters) - The special counsel inv...  politicsNews   \n",
      "3  WASHINGTON (Reuters) - Trump campaign adviser ...  politicsNews   \n",
      "4  SEATTLE/WASHINGTON (Reuters) - President Donal...  politicsNews   \n",
      "\n",
      "                 date  \n",
      "0  December 31, 2017   \n",
      "1  December 29, 2017   \n",
      "2  December 31, 2017   \n",
      "3  December 30, 2017   \n",
      "4  December 29, 2017   \n",
      "\n",
      "\n",
      "\n",
      "Data labeled as Fake:\n",
      "                                               title  \\\n",
      "0   Donald Trump Sends Out Embarrassing New Year’...   \n",
      "1   Drunk Bragging Trump Staffer Started Russian ...   \n",
      "2   Sheriff David Clarke Becomes An Internet Joke...   \n",
      "3   Trump Is So Obsessed He Even Has Obama’s Name...   \n",
      "4   Pope Francis Just Called Out Donald Trump Dur...   \n",
      "\n",
      "                                                text subject  \\\n",
      "0  Donald Trump just couldn t wish all Americans ...    News   \n",
      "1  House Intelligence Committee Chairman Devin Nu...    News   \n",
      "2  On Friday, it was revealed that former Milwauk...    News   \n",
      "3  On Christmas day, Donald Trump announced that ...    News   \n",
      "4  Pope Francis used his annual Christmas Day mes...    News   \n",
      "\n",
      "                date  \n",
      "0  December 31, 2017  \n",
      "1  December 31, 2017  \n",
      "2  December 30, 2017  \n",
      "3  December 29, 2017  \n",
      "4  December 25, 2017  \n"
     ]
    }
   ],
   "source": [
    "import numpy as np # linear algebra\n",
    "import pandas as pd # data processing, CSV file I/O (e.g. pd.read_csv)\n",
    "\n",
    "# Read the data into pandas DataFrames\n",
    "DataTrue = pd.read_csv(\"/kaggle/input/fake-and-real-news-dataset/True.csv\")\n",
    "DataFake = pd.read_csv(\"/kaggle/input/fake-and-real-news-dataset/Fake.csv\")\n",
    "\n",
    "print(\"Data labeled as True:\")\n",
    "print(DataTrue.head())\n",
    "print(\"\\n\\n\\nData labeled as Fake:\")\n",
    "print(DataFake.head())"
   ]
  },
  {
   "cell_type": "markdown",
   "metadata": {
    "papermill": {
     "duration": 0.0384,
     "end_time": "2020-09-30T21:57:01.956379",
     "exception": false,
     "start_time": "2020-09-30T21:57:01.917979",
     "status": "completed"
    },
    "tags": []
   },
   "source": [
    "Assemble the two different kinds of data (1000 samples from each of the two classes)"
   ]
  },
  {
   "cell_type": "code",
   "execution_count": 3,
   "metadata": {
    "execution": {
     "iopub.execute_input": "2020-09-30T21:57:02.046949Z",
     "iopub.status.busy": "2020-09-30T21:57:02.046108Z",
     "iopub.status.idle": "2020-09-30T21:57:02.079417Z",
     "shell.execute_reply": "2020-09-30T21:57:02.080644Z"
    },
    "papermill": {
     "duration": 0.084778,
     "end_time": "2020-09-30T21:57:02.080832",
     "exception": false,
     "start_time": "2020-09-30T21:57:01.996054",
     "status": "completed"
    },
    "tags": []
   },
   "outputs": [
    {
     "name": "stdout",
     "output_type": "stream",
     "text": [
      "Length of combined data is:\n",
      "2000\n",
      "Data represented as numpy array (first 5 samples) is:\n",
      "[['Australia, citing concerns over China, cracks down on foreign political influence'\n",
      "  'SYDNEY (Reuters) - Australia, concerned about rising Chinese influence, will ban foreign political donations as part of a crackdown aimed at preventing external interference in domestic politics, Prime Minister Malcolm Turnbull said on Tuesday. Turnbull told reporters in Canberra that foreign powers were making  unprecedented and increasingly sophisticated attempts to influence the political process  in Australia and the world. He cited  disturbing reports about Chinese influence . Australia and neighbouring New Zealand are among roughly a third of countries worldwide that allow foreign donations to political parties. Such donations are prohibited in the United States, Britain and several European countries. Australia s new laws, modelled in part on the U.S. Foreign Agents Registration Act, would criminalise foreign interference and require the registration of lobbyists working for nation states, Turnbull said. The announcement came as concern grows that Beijing may be extending its influence and as relationships between Australian politicians and Chinese government interests have become increasingly contentious. Fairfax Media and the Australian Broadcasting Corporation reported in June on a concerted campaign by China to  infiltrate  Australian politics to promote Chinese interests. China denies the claims.  In Beijing, foreign ministry spokesman Geng Shuang said China had no intention of interfering with Australia s internal affairs or using political funding to influence them.    At the same time, we want to again urge Australia to remove their biases and take an objective and positive attitude to assess China and its relations with Australia,  he added. However, leading opposition Senator Sam Dastyari quit some senior Labor Party positions last week after a tape surfaced of him appearing to endorse China s contentious expansion in disputed areas of the South China Sea, against his party s platform. The tape, which showed him standing next to property developer Huang Xiangmo, a major Chinese political donor, was leaked to the media.  I take those reports, as do my colleagues, very seriously,  Turnbull said. However, the new laws  are not about any one country , he said.  Foreign interference is a global issue ... for example, we re all familiar with very credible reports that Russia sought to actively undermine the United States  election ... the threat is real,  Turnbull said. The new laws, should they pass parliament, would ban foreign donations to political parties or any political group that has spent more than A$100,000 ($76,350) campaigning in the past four years - a rule that could also likely affect environmental and other campaign groups. Australia expressed deep concern last month over a crackdown on pro-democracy groups in Cambodia. Despite that, Finance Minister Mathias Cormann said foreign donations to activist group GetUp!, a non-partisan but vocal critic of the centre-right government, would be banned under Australia s new laws. GetUp! said in a statement only 0.5 percent of its donations come from overseas. It criticised the proposed laws as an attempt to avoid scrutiny of government policies and for failing to curtail donations from multinational corporations. The definitions of treason and espionage would also be broadened under the new laws to include possessing or receiving sensitive information, rather than just transmitting it. Since the controversial sale of the port of Darwin to a Chinese company in 2015, the government has been at pains to demonstrate limits to its ties to China, its biggest export partner, blocking sales of Australia s biggest cattle station and biggest power grid to Chinese interests.  ($1 = 1.3098 Australian dollars) '\n",
      "  'worldnews' 'December 5, 2017 ']\n",
      " ['Pentagon budget requests $146 million in support for Israel defense'\n",
      "  'WASHINGTON (Reuters) - The U.S. Defense Department’s fiscal year 2017 budget requests $145.8 million in support for Israel, including Iron Dome and other cooperative defense programs, according to Pentagon documents released Tuesday. The Iron Dome system is designed to defeat short-range missiles and rockets. The United States will also continue to help fund David’s Sling, a medium-range missile interceptor, set to be deployed this year, as well as the Arrow ballistic missile interceptor. The systems are meant to form a multi-level shield that the Israelis are developing with Washington’s help as a bulwark against Iran and its allies on the Israeli border. The U.S. Missile Defense Agency’s fiscal 2017 budget request  included $103.8 million for Israeli cooperative programs, down from $267.6 million in fiscal 2016, plus $42 million for Iron Dome, down from $55 million in fiscal 2016. The budget forecast total spending on Israeli cooperative programs of $540 million over the next five years, with no additional funding for Iron Dome envisioned after $42 million in fiscal 2017. Vice Admiral James Syring, director of the U.S. Missile Defense Agency, told reporters the agency was working with Israel under a co-production agreement signed for the Iron Dome system, with a “not insignificant” workshare going to U.S. firms. He declined to give the specific percentage share. Syring said the United States and Israel were working on a second co-production agreement for the David’s Sling program,  although he declined to give a timeframe for reaching a deal.  He said a test of the David’s Sling system late last year exceeded expectations. Raytheon Co is working with Israel’s state-owned Rafael Advanced Defense Systems Ltd on the Iron Dome and David’s Sling programs.  Syring said Israel had not signaled any plans to request additional funds for missile defense programs, as it did last year, after the agency sent its budget request to Congress. He said any decision on funding would be up to Congress, which must approve the budget. Robert Scher, assistant defense secretary for strategy, plans and capabilities, told Congress last year that the U.S. government had provided more than $3 billion to Israel for work on David’s Sling and other missile defense programs since 2001. '\n",
      "  'politicsNews' 'February 10, 2016 ']\n",
      " ['Indian techies, IT firms fret as Trump orders U.S. visa review'\n",
      "  'MUMBAI (Reuters) - For Grishma, an Indian software designer, President Donald Trump’s review of the visa programme for bringing highly skilled workers into the United States comes at a bad time. Fresh from gaining a master’s degree in Europe, and with an offer of employment from a well-known U.S. design firm, she was well on her way to fulfilling the ambition of many young Indian IT workers - a dream job in America. But as she waits in the H-1B visa queue for the green light, she is caught in a bind. “It’s a weird time to be applying, with all the scrutiny,” said Grishma, who gave only her first name for fear of jeopardizing her chances of getting a visa. The United States has already suspended the “expedited processing option” for applicants, under which she may have received a visa in weeks. More broadly, uncertainty over the review announced this week has unsettled Grishma and many others like her. She will have to wait until at least around August to learn her fate, but having accepted the U.S. job offer she is not in a position to apply for positions elsewhere, including in Europe. “It’s pretty debilitating,” Grishma told Reuters. “I’d like to start work to mitigate the financial damage.” Trump’s decision was not a huge surprise, given his election campaign pledge to put American jobs first. But the executive order he signed, though vague in many areas, has prompted thousands of foreign workers already in the United States or applying for visas to work there to re-think their plans. Companies who send them also face huge uncertainty. The concerns are particularly acute in India, where IT firms like Tata Consultancy Services, Infosys Ltd and Wipro Ltd are top beneficiaries of the H-1B visa programme, using it to send computer engineers to service clients in the United States, their largest overseas market. Experts say Trump’s order to review visa processes is aimed at firms like TCS, Infosys and Wipro, which from 2005-14 snagged around 86,000 H-1B visas, roughly equivalent to the number of H-1B visas the United States issues in total each year. Two industry sources said Infosys, India’s No. 2 information technology (IT) services company, is applying for just under 1,000 H-1B visas this year, which one of the sources said was down from 6,500 applications in 2016 and some 9,000 in 2015. It was not clear whether the sharp reduction in 2017 was in direct response to Trump’s presidency, although the company has said for some time it wanted to cut dependence on “fly-in” staff. TCS, Infosys and Wipro said they would not share data on the number of H-1B visas they had applied for this year. With fewer visas going to Infosys, more might become available for smaller IT companies and big U.S. tech companies, like Facebook and Microsoft Corp, that typically send in fewer H-1B applications each year. U.S.-based immigration lawyer Murali Bashyam, managing partner of Bashyam Spiro LLP which advises and works with small to mid-sized Indian IT firms, said clients had been in contact seeking clarity, while the number of visa applicants had fallen. “I think the reason for that is they get the sense that it’s going to get so much tougher to comply with all of the changes ... that it might not be worth their money,” he said. “There is a fear that radical immigration changes are coming, and if those radical immigration changes come then it could completely change the way IT staffing companies do business.” Bashyam said the number of people on H-1B visas already working in the United States who were considering returning to their home country had risen. An engineer working at Cisco, who has been in the United States since 2011, said that three months ago he would not have considered returning to India. But the review of the visa system, and any rule change that revoked the right for his wife to work in the United States on a dependent visa, could force him to change his mind. “If that happens, then I would definitely be interested in going back to India. Even though I’m secure, I don’t want to be in a situation where my wife cannot work,” said the engineer, who declined to be named. “Those who have heavily invested here, who’ve bought houses, property and are still on visas, are afraid.” According to Bashyam, some Indians on H-1B visas were cancelling plans to return home to visit their families in case they had problems getting back into the United States. “With everything that’s going on, traveling outside the U.S. is the biggest fear for a lot of the H-1B workers working in the IT staffing industry,” he said. And the uncertainty is not limited to IT. Trump’s campaign rhetoric around tighter visa rules has led some Indian students considering studying abroad to look beyond the United States, which typically draws in over 100,000 Indian students annually. One Canadian official said the number of student visa applications for certain courses in Canada had spiked over 250 percent since Trump’s election win in November. Akshay Baliga, a management consultant with a H-1B visa that is valid until 2018, said he was not considering returning to the United States for work any time soon. “As a professional I’m looking eastward,” said Baliga, now based in India but who earlier studied and lived for years in America. '\n",
      "  'politicsNews' 'April 21, 2017 ']\n",
      " ['House, Senate letters back Asia military funding proposal'\n",
      "  'WASHINGTON (Reuters) - A bipartisan group of U.S. members of Congress has backed a proposal for $7.5 billion of new military funding for U.S. forces and their allies in the Asia-Pacific region, where tensions have risen over China’s territorial ambitions and military buildup. Five members of the U.S. House of Representatives and eight senators from both the Democratic and Republican parties wrote to Defense Secretary Jim Mattis to support the Asia-Pacific Stability Initiative (ASPI) proposed in January by John McCain, chair of the Senate Armed Service Committee. Copies of the letters were seen by Reuters. Their signatories include members of the armed services committees in both houses of Congress. McCain’s proposal calls for $1.5 billion annually for five years to 2022 to boost U.S. munitions stocks in the region, build new military infrastructure, such as runways, and help allies and partners increase their capabilities. The House letter urged Mattis to incorporate McCain’s proposal in the fiscal 2018-22 defense budgets. “The Asia-Pacific region holds many interests for U.S. foreign policy that will require our government to continue to prioritize our time, energy and resources there,” it said. The letter called former President Barack Obama’s policy of giving precedence to the Asia-Pacific “sound” and it was “critical” that this be continued under President Donald Trump. It expressed concern about “the eroding military and economic balance that is the result of the People’s Republic of China’s two-decade military modernization, combined with the effect of years of sequestration on the U.S. military and our foreign policy apparatus.” The Senate letter also expressed concern about increasing Russian activity in the region and North Korea’s nuclear and missile programs. “ASPI will show both allies and adversaries that the U.S. remains committed to ensuring peace and security in a region that contains the world’s three largest economies, four most populous countries, six of the world’s largest armies, and five of the seven U.S. mutual defense agreements,” it said. Trump has vowed to take a tougher line with China and to build up the U.S. military, although it is unclear whether he will succeed in lifting caps on defense spending that have been part of “sequestration” legislation. China is due to announce its defense budget for this year this weekend, and its navy is likely to secure significant new funding as Beijing seeks to check U.S. dominance of the high seas and step up its projection of global power. '\n",
      "  'politicsNews' 'March 1, 2017 ']\n",
      " ['Reuters surveys UK financial services jobs post-Brexit'\n",
      "  'LONDON (Reuters) - Around 10,000 finance jobs will be shifted out of Britain or created overseas in the next few years if the UK is denied access to Europe s single market, according to a Reuters survey of firms employing the bulk of workers in international finance. Reuters approached 158 banks, asset managers, private equity firms, insurers and exchanges with UK operations on their plans for moving staff as a result of Brexit and received answers from 123. [L4N1LO3T7] Fifty-seven companies said they would have to move staff or restructure their businesses because of Brexit, which is due to take place in March 2019.  Another 37 said Brexit would have no impact, and the remainder said they are still deciding what to do or declined to comment. The survey was conducted by email and telephone interviews between Aug. 21 and Sept. 15. A total of 55 banks responded, along with 37 insurers and insurance brokers, 28 asset managers and private equity firms, and three exchanges. They included the 20 investment banks that earned the most fees from investment banking in Europe, the Middle East and Africa in 2016, according to Thomson Reuters  data. Some participants declined to comment on some of the questions. Some participants also asked for the information to be part of an aggregate only, which is why Reuters has not published the complete data. The insurers who responded to the survey included the largest listed insurers in Britain, along with large European Union and non-EU insurers operating in Britain, major insurance brokers and listed and unlisted insurers with an international focus, such as those operating in the Lloyd s of London market. Twenty-eight asset managers managing a collective $25 trillion responded. They included most of the global managers who use the UK as a base in Europe, as well as the leading British firms. Survey participants were asked if Brexit would mean new jobs in the European Union and if so, to give details about whether they would be new jobs or transfers from London. They were also asked how many UK employees they currently have. Seventy-five organizations provided the number of staff they currently employ in the UK, which added together totaled 484,578. Of those 357,617 were employed by banks, 106,348 by insurers, 16,363 by asset managers and 4,250 by exchanges. The 39 firms which gave details on their plans for Brexit staffing together employ at least 359,983 people. A precise number could not be calculated because four did not answer the question. The 20 banks in the survey who answered the question about how many jobs would be affected by Brexit said they expected 9,777 jobs to be moved or created in the EU.  Eleven insurers expected 98 roles to be created in the EU in total. Eight asset managers and private equity firms who gave the information saw 311 jobs in total being created. Of banks who have made a decision on what to do about Brexit, six planned to add jobs in Frankfurt, four in Paris, three in Dublin, two in Amsterdam, one in Berlin and one in Brussels. Among insurers, seven were setting up subsidiaries in Luxembourg, six in Dublin, three in Brussels, and one each in Malta, Munich and Paris. For the asset managers, nine said they were considering moving staff to another country or hiring locally there. The most popular destination was Luxembourg, chosen by seven firms, followed by Dublin with one and one undecided. There are 344 banks registered in Britain, according to the Bank of England, although that includes the domestic-focused subsidiaries of many larger banks as well as many smaller lenders that earn the bulk of their revenue in Britain so won t be affected so much by Brexit. There are 503 UK authorized insurers, according to the Bank of England, though many larger firms have more than one authorization. Many UK insurers also have a purely domestic focus, insurance specialists say. While the asset managers contacted account for the lion s share of the assets managed in Britain, there remains a long tail of smaller managers registered with the Financial Conduct Authority, a figure it currently puts at 1,840 firms. (This story has been refiled to drop extraneous  and  in paragraph eight) '\n",
      "  'worldnews' 'September 18, 2017 ']]\n"
     ]
    }
   ],
   "source": [
    "Nsamp =1000 # number of samples to generate in each class - 'true', 'fake'\n",
    "DataTrue = DataTrue.sample(Nsamp)\n",
    "DataFake = DataFake.sample(Nsamp)\n",
    "raw_data = pd.concat([DataTrue,DataFake], axis=0).values\n",
    "\n",
    "# combine title, body text and topics into one string per document\n",
    "#raw_data = [sample[0].lower() + sample[1].lower() + sample[3].lower() for sample in raw_data]\n",
    "\n",
    "print(\"Length of combined data is:\")\n",
    "print(len(raw_data))\n",
    "print(\"Data represented as numpy array (first 5 samples) is:\")\n",
    "print(raw_data[:5])\n",
    "\n",
    "# corresponding labels\n",
    "Categories = ['True','False']\n",
    "header = ([1]*Nsamp)\n",
    "header.extend(([0]*Nsamp))"
   ]
  },
  {
   "cell_type": "markdown",
   "metadata": {
    "papermill": {
     "duration": 0.047254,
     "end_time": "2020-09-30T21:57:02.173489",
     "exception": false,
     "start_time": "2020-09-30T21:57:02.126235",
     "status": "completed"
    },
    "tags": []
   },
   "source": [
    "Shuffle data, split into train and test sets..."
   ]
  },
  {
   "cell_type": "code",
   "execution_count": 4,
   "metadata": {
    "execution": {
     "iopub.execute_input": "2020-09-30T21:57:02.253663Z",
     "iopub.status.busy": "2020-09-30T21:57:02.250875Z",
     "iopub.status.idle": "2020-09-30T21:57:02.257938Z",
     "shell.execute_reply": "2020-09-30T21:57:02.257288Z"
    },
    "papermill": {
     "duration": 0.047416,
     "end_time": "2020-09-30T21:57:02.258043",
     "exception": false,
     "start_time": "2020-09-30T21:57:02.210627",
     "status": "completed"
    },
    "tags": []
   },
   "outputs": [
    {
     "name": "stdout",
     "output_type": "stream",
     "text": [
      "train_x/train_y list details, to make sure it is of the right form:\n",
      "1400\n",
      "[0 1 1 0 1]\n",
      "(1400,)\n"
     ]
    }
   ],
   "source": [
    "# function for shuffling data\n",
    "def unison_shuffle(a, b):\n",
    "    p = np.random.permutation(len(b))\n",
    "    data = np.asarray(a)[p]\n",
    "    header = np.asarray(b)[p]\n",
    "    return data, header\n",
    "\n",
    "raw_data, header = unison_shuffle(raw_data, header)\n",
    "\n",
    "# split into independent 70% training and 30% testing sets\n",
    "idx = int(0.7*raw_data.shape[0])\n",
    "\n",
    "# 70% of data for training\n",
    "train_x = raw_data[:idx]\n",
    "train_y = header[:idx]\n",
    "# remaining 30% for testing\n",
    "test_x = raw_data[idx:]\n",
    "test_y = header[idx:]\n",
    "\n",
    "print(\"train_x/train_y list details, to make sure it is of the right form:\")\n",
    "print(len(train_x))\n",
    "#print(train_x)\n",
    "print(train_y[:5])\n",
    "print(train_y.shape)"
   ]
  },
  {
   "cell_type": "markdown",
   "metadata": {
    "papermill": {
     "duration": 0.029668,
     "end_time": "2020-09-30T21:57:02.319020",
     "exception": false,
     "start_time": "2020-09-30T21:57:02.289352",
     "status": "completed"
    },
    "tags": []
   },
   "source": [
    "# ULMFiT Experiments\n",
    "\n",
    "Import the fast.ai library, written by the ULMFiT authors"
   ]
  },
  {
   "cell_type": "code",
   "execution_count": 5,
   "metadata": {
    "execution": {
     "iopub.execute_input": "2020-09-30T21:57:02.384489Z",
     "iopub.status.busy": "2020-09-30T21:57:02.383812Z",
     "iopub.status.idle": "2020-09-30T21:57:07.338240Z",
     "shell.execute_reply": "2020-09-30T21:57:07.336986Z"
    },
    "papermill": {
     "duration": 4.988677,
     "end_time": "2020-09-30T21:57:07.338369",
     "exception": false,
     "start_time": "2020-09-30T21:57:02.349692",
     "status": "completed"
    },
    "tags": []
   },
   "outputs": [],
   "source": [
    "from fastai.text import *"
   ]
  },
  {
   "cell_type": "markdown",
   "metadata": {
    "papermill": {
     "duration": 0.031482,
     "end_time": "2020-09-30T21:57:07.402361",
     "exception": false,
     "start_time": "2020-09-30T21:57:07.370879",
     "status": "completed"
    },
    "tags": []
   },
   "source": [
    "## Data Bunch Class for Language Model/Task Classifier Consumption"
   ]
  },
  {
   "cell_type": "markdown",
   "metadata": {
    "papermill": {
     "duration": 0.031624,
     "end_time": "2020-09-30T21:57:07.465070",
     "exception": false,
     "start_time": "2020-09-30T21:57:07.433446",
     "status": "completed"
    },
    "tags": []
   },
   "source": [
    "We prepare train and test/validation dataframes first."
   ]
  },
  {
   "cell_type": "code",
   "execution_count": 6,
   "metadata": {
    "execution": {
     "iopub.execute_input": "2020-09-30T21:57:07.564388Z",
     "iopub.status.busy": "2020-09-30T21:57:07.543777Z",
     "iopub.status.idle": "2020-09-30T21:57:07.738233Z",
     "shell.execute_reply": "2020-09-30T21:57:07.737635Z"
    },
    "papermill": {
     "duration": 0.241892,
     "end_time": "2020-09-30T21:57:07.738355",
     "exception": false,
     "start_time": "2020-09-30T21:57:07.496463",
     "status": "completed"
    },
    "tags": []
   },
   "outputs": [],
   "source": [
    "train_df = pd.DataFrame(data=[train_y,train_x]).T\n",
    "test_df = pd.DataFrame(data=[test_y,test_x]).T"
   ]
  },
  {
   "cell_type": "markdown",
   "metadata": {
    "papermill": {
     "duration": 0.029937,
     "end_time": "2020-09-30T21:57:07.799019",
     "exception": false,
     "start_time": "2020-09-30T21:57:07.769082",
     "status": "completed"
    },
    "tags": []
   },
   "source": [
    "Check their shape:"
   ]
  },
  {
   "cell_type": "code",
   "execution_count": 7,
   "metadata": {
    "execution": {
     "iopub.execute_input": "2020-09-30T21:57:07.869776Z",
     "iopub.status.busy": "2020-09-30T21:57:07.868281Z",
     "iopub.status.idle": "2020-09-30T21:57:07.872465Z",
     "shell.execute_reply": "2020-09-30T21:57:07.872985Z"
    },
    "papermill": {
     "duration": 0.042881,
     "end_time": "2020-09-30T21:57:07.873123",
     "exception": false,
     "start_time": "2020-09-30T21:57:07.830242",
     "status": "completed"
    },
    "tags": []
   },
   "outputs": [
    {
     "data": {
      "text/plain": [
       "(600, 2)"
      ]
     },
     "execution_count": 7,
     "metadata": {},
     "output_type": "execute_result"
    }
   ],
   "source": [
    "train_df.shape\n",
    "test_df.shape"
   ]
  },
  {
   "cell_type": "markdown",
   "metadata": {
    "papermill": {
     "duration": 0.030796,
     "end_time": "2020-09-30T21:57:07.936501",
     "exception": false,
     "start_time": "2020-09-30T21:57:07.905705",
     "status": "completed"
    },
    "tags": []
   },
   "source": [
    "Data in fast.ai is consumed using the *TextLMDataBunch* class. Construct an instance of this class for language model consumption."
   ]
  },
  {
   "cell_type": "code",
   "execution_count": 8,
   "metadata": {
    "execution": {
     "iopub.execute_input": "2020-09-30T21:57:08.048752Z",
     "iopub.status.busy": "2020-09-30T21:57:08.038580Z",
     "iopub.status.idle": "2020-09-30T21:57:19.623715Z",
     "shell.execute_reply": "2020-09-30T21:57:19.622728Z"
    },
    "papermill": {
     "duration": 11.655944,
     "end_time": "2020-09-30T21:57:19.623859",
     "exception": false,
     "start_time": "2020-09-30T21:57:07.967915",
     "status": "completed"
    },
    "tags": []
   },
   "outputs": [
    {
     "data": {
      "text/html": [],
      "text/plain": [
       "<IPython.core.display.HTML object>"
      ]
     },
     "metadata": {},
     "output_type": "display_data"
    },
    {
     "data": {
      "text/html": [],
      "text/plain": [
       "<IPython.core.display.HTML object>"
      ]
     },
     "metadata": {},
     "output_type": "display_data"
    }
   ],
   "source": [
    "data_lm = TextLMDataBunch.from_df(train_df = train_df, valid_df = test_df, path = \"\")"
   ]
  },
  {
   "cell_type": "markdown",
   "metadata": {
    "papermill": {
     "duration": 0.032961,
     "end_time": "2020-09-30T21:57:19.690129",
     "exception": false,
     "start_time": "2020-09-30T21:57:19.657168",
     "status": "completed"
    },
    "tags": []
   },
   "source": [
    "Construct an instance of this object for task-specific classifier consumption."
   ]
  },
  {
   "cell_type": "code",
   "execution_count": 9,
   "metadata": {
    "execution": {
     "iopub.execute_input": "2020-09-30T21:57:19.807472Z",
     "iopub.status.busy": "2020-09-30T21:57:19.802301Z",
     "iopub.status.idle": "2020-09-30T21:57:31.403572Z",
     "shell.execute_reply": "2020-09-30T21:57:31.402795Z"
    },
    "papermill": {
     "duration": 11.679266,
     "end_time": "2020-09-30T21:57:31.403701",
     "exception": false,
     "start_time": "2020-09-30T21:57:19.724435",
     "status": "completed"
    },
    "tags": []
   },
   "outputs": [
    {
     "data": {
      "text/html": [],
      "text/plain": [
       "<IPython.core.display.HTML object>"
      ]
     },
     "metadata": {},
     "output_type": "display_data"
    },
    {
     "data": {
      "text/html": [],
      "text/plain": [
       "<IPython.core.display.HTML object>"
      ]
     },
     "metadata": {},
     "output_type": "display_data"
    }
   ],
   "source": [
    "data_clas = TextClasDataBunch.from_df(path = \"\", train_df = train_df, valid_df = test_df, vocab=data_lm.train_ds.vocab, bs=32)"
   ]
  },
  {
   "cell_type": "markdown",
   "metadata": {
    "papermill": {
     "duration": 0.033077,
     "end_time": "2020-09-30T21:57:31.471437",
     "exception": false,
     "start_time": "2020-09-30T21:57:31.438360",
     "status": "completed"
    },
    "tags": []
   },
   "source": [
    "## Fine-Tune Language Model\n",
    "\n",
    "In ULMFiT, language models are trained using the *language_model_learner* class. \n",
    "\n",
    "We initialize an instance of this class, opting to go with ASGD Weight-Dropped LSTM (AWD_LSTM) model architecture. This is just the usual LSTM with some weights randomly set to 0, analogously to what is done to activations in Dropout layers. More info can be found here - https://docs.fast.ai/text.models.awdlstm"
   ]
  },
  {
   "cell_type": "code",
   "execution_count": 10,
   "metadata": {
    "execution": {
     "iopub.execute_input": "2020-09-30T21:57:31.548237Z",
     "iopub.status.busy": "2020-09-30T21:57:31.546001Z",
     "iopub.status.idle": "2020-09-30T21:57:42.214657Z",
     "shell.execute_reply": "2020-09-30T21:57:42.213969Z"
    },
    "papermill": {
     "duration": 10.709238,
     "end_time": "2020-09-30T21:57:42.214781",
     "exception": false,
     "start_time": "2020-09-30T21:57:31.505543",
     "status": "completed"
    },
    "tags": []
   },
   "outputs": [
    {
     "name": "stdout",
     "output_type": "stream",
     "text": [
      "Downloading https://s3.amazonaws.com/fast-ai-modelzoo/wt103-fwd.tgz\n"
     ]
    },
    {
     "data": {
      "text/html": [],
      "text/plain": [
       "<IPython.core.display.HTML object>"
      ]
     },
     "metadata": {},
     "output_type": "display_data"
    }
   ],
   "source": [
    "learn = language_model_learner(data_lm, AWD_LSTM, drop_mult=0.3)"
   ]
  },
  {
   "cell_type": "markdown",
   "metadata": {
    "papermill": {
     "duration": 0.036693,
     "end_time": "2020-09-30T21:57:42.288565",
     "exception": false,
     "start_time": "2020-09-30T21:57:42.251872",
     "status": "completed"
    },
    "tags": []
   },
   "source": [
    "Note that the initialization of this model also loads weights pretrained on the Wikitext 103 benchmark dataset (The WikiText Long Term Dependency Language Modeling Dataset - https://www.salesforce.com/products/einstein/ai-research/the-wikitext-dependency-language-modeling-dataset/). You can see the execution log above for confirmation of this. \n",
    "\n",
    "We can find a suggested maximum learning rate using the following commands. Instead of selecting the lowest point on the curve, note that the chosen point is where the curve is changing the fastest."
   ]
  },
  {
   "cell_type": "code",
   "execution_count": 11,
   "metadata": {
    "execution": {
     "iopub.execute_input": "2020-09-30T21:57:42.364378Z",
     "iopub.status.busy": "2020-09-30T21:57:42.363462Z",
     "iopub.status.idle": "2020-09-30T21:57:56.146198Z",
     "shell.execute_reply": "2020-09-30T21:57:56.147629Z"
    },
    "papermill": {
     "duration": 13.823636,
     "end_time": "2020-09-30T21:57:56.147928",
     "exception": false,
     "start_time": "2020-09-30T21:57:42.324292",
     "status": "completed"
    },
    "tags": []
   },
   "outputs": [
    {
     "data": {
      "text/html": [
       "\n",
       "    <div>\n",
       "        <style>\n",
       "            /* Turns off some styling */\n",
       "            progress {\n",
       "                /* gets rid of default border in Firefox and Opera. */\n",
       "                border: none;\n",
       "                /* Needs to be in here for Safari polyfill so background images work as expected. */\n",
       "                background-size: auto;\n",
       "            }\n",
       "            .progress-bar-interrupted, .progress-bar-interrupted::-webkit-progress-bar {\n",
       "                background: #F44336;\n",
       "            }\n",
       "        </style>\n",
       "      <progress value='0' class='' max='1' style='width:300px; height:20px; vertical-align: middle;'></progress>\n",
       "      0.00% [0/1 00:00<00:00]\n",
       "    </div>\n",
       "    \n",
       "<table border=\"1\" class=\"dataframe\">\n",
       "  <thead>\n",
       "    <tr style=\"text-align: left;\">\n",
       "      <th>epoch</th>\n",
       "      <th>train_loss</th>\n",
       "      <th>valid_loss</th>\n",
       "      <th>accuracy</th>\n",
       "      <th>time</th>\n",
       "    </tr>\n",
       "  </thead>\n",
       "  <tbody>\n",
       "  </tbody>\n",
       "</table><p>\n",
       "\n",
       "    <div>\n",
       "        <style>\n",
       "            /* Turns off some styling */\n",
       "            progress {\n",
       "                /* gets rid of default border in Firefox and Opera. */\n",
       "                border: none;\n",
       "                /* Needs to be in here for Safari polyfill so background images work as expected. */\n",
       "                background-size: auto;\n",
       "            }\n",
       "            .progress-bar-interrupted, .progress-bar-interrupted::-webkit-progress-bar {\n",
       "                background: #F44336;\n",
       "            }\n",
       "        </style>\n",
       "      <progress value='99' class='' max='173' style='width:300px; height:20px; vertical-align: middle;'></progress>\n",
       "      57.23% [99/173 00:12<00:09 11.2675]\n",
       "    </div>\n",
       "    "
      ],
      "text/plain": [
       "<IPython.core.display.HTML object>"
      ]
     },
     "metadata": {},
     "output_type": "display_data"
    },
    {
     "name": "stdout",
     "output_type": "stream",
     "text": [
      "LR Finder is complete, type {learner_name}.recorder.plot() to see the graph.\n",
      "Min numerical gradient: 1.91E-02\n",
      "Min loss divided by 10: 1.00E-02\n"
     ]
    },
    {
     "data": {
      "image/png": "[encoded data removed]",
      "text/plain": [
       "<Figure size 432x288 with 1 Axes>"
      ]
     },
     "metadata": {
      "needs_background": "light"
     },
     "output_type": "display_data"
    }
   ],
   "source": [
    "learn.lr_find() # find best rate\n",
    "learn.recorder.plot(suggestion=True) # plot it"
   ]
  },
  {
   "cell_type": "markdown",
   "metadata": {
    "papermill": {
     "duration": 0.054569,
     "end_time": "2020-09-30T21:57:56.270500",
     "exception": false,
     "start_time": "2020-09-30T21:57:56.215931",
     "status": "completed"
    },
    "tags": []
   },
   "source": [
    "Fetch the optimal rate as follows."
   ]
  },
  {
   "cell_type": "code",
   "execution_count": 12,
   "metadata": {
    "execution": {
     "iopub.execute_input": "2020-09-30T21:57:56.380713Z",
     "iopub.status.busy": "2020-09-30T21:57:56.379555Z",
     "iopub.status.idle": "2020-09-30T21:57:56.392629Z",
     "shell.execute_reply": "2020-09-30T21:57:56.391015Z"
    },
    "papermill": {
     "duration": 0.068716,
     "end_time": "2020-09-30T21:57:56.392826",
     "exception": false,
     "start_time": "2020-09-30T21:57:56.324110",
     "status": "completed"
    },
    "tags": []
   },
   "outputs": [
    {
     "name": "stdout",
     "output_type": "stream",
     "text": [
      "0.019054607179632484\n"
     ]
    }
   ],
   "source": [
    "rate = learn.recorder.min_grad_lr\n",
    "print(rate)"
   ]
  },
  {
   "cell_type": "markdown",
   "metadata": {
    "papermill": {
     "duration": 0.05654,
     "end_time": "2020-09-30T21:57:56.504663",
     "exception": false,
     "start_time": "2020-09-30T21:57:56.448123",
     "status": "completed"
    },
    "tags": []
   },
   "source": [
    "We fine-tune using slanted trangular learning rates, which are already built into the *fit_one_cycle()* method in fast.ai"
   ]
  },
  {
   "cell_type": "code",
   "execution_count": 13,
   "metadata": {
    "execution": {
     "iopub.execute_input": "2020-09-30T21:57:56.634554Z",
     "iopub.status.busy": "2020-09-30T21:57:56.633504Z",
     "iopub.status.idle": "2020-09-30T21:58:21.140850Z",
     "shell.execute_reply": "2020-09-30T21:58:21.140140Z"
    },
    "papermill": {
     "duration": 24.579595,
     "end_time": "2020-09-30T21:58:21.141009",
     "exception": false,
     "start_time": "2020-09-30T21:57:56.561414",
     "status": "completed"
    },
    "tags": []
   },
   "outputs": [
    {
     "data": {
      "text/html": [
       "<table border=\"1\" class=\"dataframe\">\n",
       "  <thead>\n",
       "    <tr style=\"text-align: left;\">\n",
       "      <th>epoch</th>\n",
       "      <th>train_loss</th>\n",
       "      <th>valid_loss</th>\n",
       "      <th>accuracy</th>\n",
       "      <th>time</th>\n",
       "    </tr>\n",
       "  </thead>\n",
       "  <tbody>\n",
       "    <tr>\n",
       "      <td>0</td>\n",
       "      <td>3.917407</td>\n",
       "      <td>3.640352</td>\n",
       "      <td>0.342710</td>\n",
       "      <td>00:24</td>\n",
       "    </tr>\n",
       "  </tbody>\n",
       "</table>"
      ],
      "text/plain": [
       "<IPython.core.display.HTML object>"
      ]
     },
     "metadata": {},
     "output_type": "display_data"
    }
   ],
   "source": [
    "learn.fit_one_cycle(1, rate)"
   ]
  },
  {
   "cell_type": "markdown",
   "metadata": {
    "papermill": {
     "duration": 0.042675,
     "end_time": "2020-09-30T21:58:21.227000",
     "exception": false,
     "start_time": "2020-09-30T21:58:21.184325",
     "status": "completed"
    },
    "tags": []
   },
   "source": [
    "### Discriminative Fine-Tuning\n",
    "\n",
    "The call *learn.unfreeze()* makes all the layers trainable. We can use the *slice()* function to train the last layer at a specified rate, while the layers below will have reducing learning rates. We set the lower bound of the range at two orders of magnitude smaller, i.e., divide the maximum rate by 100."
   ]
  },
  {
   "cell_type": "code",
   "execution_count": 14,
   "metadata": {
    "execution": {
     "iopub.execute_input": "2020-09-30T21:58:21.315430Z",
     "iopub.status.busy": "2020-09-30T21:58:21.314833Z",
     "iopub.status.idle": "2020-09-30T21:58:21.320751Z",
     "shell.execute_reply": "2020-09-30T21:58:21.320152Z"
    },
    "papermill": {
     "duration": 0.056027,
     "end_time": "2020-09-30T21:58:21.320849",
     "exception": false,
     "start_time": "2020-09-30T21:58:21.264822",
     "status": "completed"
    },
    "tags": []
   },
   "outputs": [],
   "source": [
    "learn.unfreeze()"
   ]
  },
  {
   "cell_type": "code",
   "execution_count": 15,
   "metadata": {
    "execution": {
     "iopub.execute_input": "2020-09-30T21:58:21.412712Z",
     "iopub.status.busy": "2020-09-30T21:58:21.412030Z",
     "iopub.status.idle": "2020-09-30T21:58:50.692062Z",
     "shell.execute_reply": "2020-09-30T21:58:50.691456Z"
    },
    "papermill": {
     "duration": 29.329496,
     "end_time": "2020-09-30T21:58:50.692180",
     "exception": false,
     "start_time": "2020-09-30T21:58:21.362684",
     "status": "completed"
    },
    "tags": []
   },
   "outputs": [
    {
     "data": {
      "text/html": [
       "<table border=\"1\" class=\"dataframe\">\n",
       "  <thead>\n",
       "    <tr style=\"text-align: left;\">\n",
       "      <th>epoch</th>\n",
       "      <th>train_loss</th>\n",
       "      <th>valid_loss</th>\n",
       "      <th>accuracy</th>\n",
       "      <th>time</th>\n",
       "    </tr>\n",
       "  </thead>\n",
       "  <tbody>\n",
       "    <tr>\n",
       "      <td>0</td>\n",
       "      <td>3.574807</td>\n",
       "      <td>3.571447</td>\n",
       "      <td>0.355108</td>\n",
       "      <td>00:29</td>\n",
       "    </tr>\n",
       "  </tbody>\n",
       "</table>"
      ],
      "text/plain": [
       "<IPython.core.display.HTML object>"
      ]
     },
     "metadata": {},
     "output_type": "display_data"
    }
   ],
   "source": [
    "learn.fit_one_cycle(1, slice(rate/100,rate))"
   ]
  },
  {
   "cell_type": "markdown",
   "metadata": {
    "papermill": {
     "duration": 0.036689,
     "end_time": "2020-09-30T21:58:50.767577",
     "exception": false,
     "start_time": "2020-09-30T21:58:50.730888",
     "status": "completed"
    },
    "tags": []
   },
   "source": [
    "As you can see, the accuracy slightly increased!\n",
    "\n",
    "We can use the resulting language model to predict some words in a sequence using the following command (predicts next 10 words)"
   ]
  },
  {
   "cell_type": "code",
   "execution_count": 16,
   "metadata": {
    "execution": {
     "iopub.execute_input": "2020-09-30T21:58:50.845953Z",
     "iopub.status.busy": "2020-09-30T21:58:50.845063Z",
     "iopub.status.idle": "2020-09-30T21:58:51.337472Z",
     "shell.execute_reply": "2020-09-30T21:58:51.338572Z"
    },
    "papermill": {
     "duration": 0.534521,
     "end_time": "2020-09-30T21:58:51.338772",
     "exception": false,
     "start_time": "2020-09-30T21:58:50.804251",
     "status": "completed"
    },
    "tags": []
   },
   "outputs": [
    {
     "data": {
      "text/plain": [
       "'This is a news article about our lady , two students at Rome University'"
      ]
     },
     "execution_count": 16,
     "metadata": {},
     "output_type": "execute_result"
    }
   ],
   "source": [
    "learn.predict(\"This is a news article about\", n_words=10)"
   ]
  },
  {
   "cell_type": "markdown",
   "metadata": {
    "papermill": {
     "duration": 0.055861,
     "end_time": "2020-09-30T21:58:51.453879",
     "exception": false,
     "start_time": "2020-09-30T21:58:51.398018",
     "status": "completed"
    },
    "tags": []
   },
   "source": [
    "Plausible!\n",
    "\n",
    "Save the fine-tuned language model!"
   ]
  },
  {
   "cell_type": "code",
   "execution_count": 17,
   "metadata": {
    "execution": {
     "iopub.execute_input": "2020-09-30T21:58:51.569502Z",
     "iopub.status.busy": "2020-09-30T21:58:51.568555Z",
     "iopub.status.idle": "2020-09-30T21:58:51.724095Z",
     "shell.execute_reply": "2020-09-30T21:58:51.724959Z"
    },
    "papermill": {
     "duration": 0.215062,
     "end_time": "2020-09-30T21:58:51.725205",
     "exception": false,
     "start_time": "2020-09-30T21:58:51.510143",
     "status": "completed"
    },
    "tags": []
   },
   "outputs": [],
   "source": [
    "learn.save_encoder('fine-tuned_language_model')"
   ]
  },
  {
   "cell_type": "markdown",
   "metadata": {
    "papermill": {
     "duration": 0.038498,
     "end_time": "2020-09-30T21:58:51.813907",
     "exception": false,
     "start_time": "2020-09-30T21:58:51.775409",
     "status": "completed"
    },
    "tags": []
   },
   "source": [
    "## Target Task Classifier Fine-tuning\n",
    "\n",
    "In ULMFiT, target task classifier fine-tuning is carried out using the *text_classifier_learner* class. Recall that the target task here is predicting whether a given article is \"fake news\" or not.\n",
    "\n",
    "We instantiate it below, using the same settings as the language model we fine-tuned above, so we can load that fine-tuned model without issues. We also load the fine-tuned language model into the instance below."
   ]
  },
  {
   "cell_type": "code",
   "execution_count": 18,
   "metadata": {
    "execution": {
     "iopub.execute_input": "2020-09-30T21:58:51.913858Z",
     "iopub.status.busy": "2020-09-30T21:58:51.913046Z",
     "iopub.status.idle": "2020-09-30T21:58:52.614434Z",
     "shell.execute_reply": "2020-09-30T21:58:52.615185Z"
    },
    "papermill": {
     "duration": 0.751562,
     "end_time": "2020-09-30T21:58:52.615338",
     "exception": false,
     "start_time": "2020-09-30T21:58:51.863776",
     "status": "completed"
    },
    "tags": []
   },
   "outputs": [
    {
     "data": {
      "text/plain": [
       "RNNLearner(data=TextClasDataBunch;\n",
       "\n",
       "Train: LabelList (1400 items)\n",
       "x: TextList\n",
       "xxbos [ ' xxup watch : xxmaj hispanic xxmaj parents xxmaj make xxmaj shocking xxmaj video xxmaj teaching 3 xxmaj yr xxmaj old xxmaj to xxmaj say “ xxup we xxup have xxup to xxup kill xxup donald xxup trump ” ' \n",
       "  ' xxmaj this video exposes the underbelly of the illegal alien community and the hate they have for anyone who would enforce the rule of law in xxmaj america . xxmaj based on the conversation these irresponsible parents are having with their 3 year old child in the video , these parents appear to be concerned about being deported if xxmaj trump becomes our next xxmaj president . xxmaj it s hard to distinguish the difference between xxmaj islamic radical parents who teach their young children that killing innocent xxmaj americans is okay as long as it xxunk an obligation to xxmaj islam , and xxmaj mexican illegals living in xxmaj america who are teaching their kids the same kind of hate and violent behavior . xxmaj america is a melting pot . xxmaj we welcome vetted immigrants from all over the world with open arms who want to become citizens of our great country . xxmaj becoming an xxmaj american does not mean you live here , but are separate from our culture and traditions . xxmaj it s clear by this video that these parents have an us against them mentality . xxmaj this is xxup not xxunk and these are xxup not the kind of people we want living in xxunk xxup these xxup young xxup illegal xxup dreamers xxmaj do xxmaj to xxmaj trump xxmaj supporters xxmaj will xxmaj make xxmaj your xxmaj blood xxmaj boil [ xxunk posted a story a few months ago that featured young xxmaj hispanic kids screaming xxunk at xxmaj trump supporters as they drove by en route to a xxmaj trump rally . xxmaj are these the kind of children we want to see growing up to become violent adults in our nation , all because their parents were fortunate enough to illegally cross our borders and give birth to xxunk : / / youtu.be / xxunk was also this professionally made video that was used as a tool to dissuade xxmaj hispanics from voting for xxmaj trump . xxmaj whoever thought this making video was a good idea is a first rate idiot . xxmaj the only thing this video will do is make xxmaj americans want to start deporting more stupid people who think they re above the law xxmaj any parent who allowed their child to appear in this vile video should be up on child abuse charges ! * * * xxmaj serious xxmaj language xxup warning xxrep 4 * ' \n",
       "  ' politics ' ' xxmaj may 31 , 2016 ' ],xxbos [ ' xxup u.s. xxmaj supreme xxmaj court justice candidate list still open : xxmaj white xxmaj house ' \n",
       "  ' xxup aboard xxup air xxup force xxup one ( xxmaj reuters ) - xxmaj the xxmaj white xxmaj house said on xxmaj friday that more candidates could be added to its list of potential nominees to fill the xxmaj supreme xxmaj court vacancy caused by the death of xxmaj justice xxmaj antonin xxmaj scalia . “ xxmaj we are still in a position where the list is not closed at this point , ” xxmaj white xxmaj house spokesman xxmaj josh xxmaj earnest told reporters during a briefing . “ xxmaj there are still people being considered for inclusion on the list of people that the president may consider for filling a xxmaj supreme xxmaj court vacancy . ” xxmaj the xxmaj white xxmaj house has not officially revealed its list of potential picks to replace xxmaj scalia . xxmaj earnest said he did not expect a nominee would be named before xxmaj president xxmaj barack xxmaj obama meets with congressional leaders at the xxmaj white xxmaj house on xxmaj tuesday to discuss the matter . xxmaj scalia ’s death left the court with four conservative and four liberal justices , meaning that xxmaj obama ’s nominee could tip the balance of the court to the left for the first time in decades . xxmaj republicans , who control the xxmaj senate , have said the seat should remain vacant until xxmaj obama ’s successor takes office next xxmaj january so voters could have a say in the selection when they choose a new president in the xxmaj nov. 8 election . xxmaj but xxmaj obama has vowed to press ahead with nominating a justice . xxmaj earnest said the xxmaj white xxmaj house would seek the help of former administration officials to coordinate outside activist groups in the fight over filling the vacancy . xxmaj the xxmaj new xxmaj york xxmaj times first reported on xxmaj friday that the administration was recruiting former xxmaj obama adviser xxmaj stephanie xxmaj cutter and former xxmaj white xxmaj house director of legislative affairs xxmaj katie xxmaj xxunk xxmaj fallon to help in its campaign . “ xxmaj we are going to draw on their contacts , and on the work they ’re doing outside the administration to help us make the case , and organize the effort around the president ’s constitutional responsibility to fill a vacancy on the xxmaj supreme xxmaj court , ” xxmaj earnest said . ' \n",
       "  ' politicsnews ' ' xxmaj february 26 , 2016 ' ],xxbos [ ' xxmaj portugal government xxunk no confidence vote over fires ' \n",
       "  ' xxup xxunk ( xxmaj reuters ) - xxmaj portugal s government on xxmaj tuesday survived a no confidence vote in parliament called by the opposition which alleged the government had failed to protect the lives of 110 people who died in two xxunk tragedies in the past four months . xxmaj this year s fires in xxmaj portugal - one in xxmaj june which killed 65 people and others last week which overwhelmed fire - fighting services and killed 45 people - are the worst on record and led to the resignation of the interior minister . xxmaj the motion was presented by the center - right xxup cds - xxup pp after a barrage of criticism of the xxmaj socialist government of xxmaj prime xxmaj minister xxmaj antonio xxmaj costa . xxmaj but the xxmaj socialists , together with their far - left parliamentary allies , the xxmaj communists and xxmaj left xxmaj bloc , rejected the motion in parliament by 122 to xxunk . xxmaj the lethal wildfires are the biggest challenge faced by the government since it came to power in 2015 and have highlighted a glaring divide between the poor , abandoned interior of xxmaj portugal and its coastal , urban centers . xxmaj the government failed because its political leaders didn t know how to coordinate or execute a policy capable of stopping the fires , xxup cds - xxup pp party leader xxmaj xxunk xxmaj xxunk told parliament during the debate . xxmaj thousands of xxmaj portuguese waited for help which never came . xxmaj the government says extraordinary weather conditions , including unusually strong winds and extreme xxunk , made the fires very difficult to avoid . xxmaj portugal s yearly summer fires rarely kill civilians . xxmaj facing a growing backlash , including protests and demands for action by the president , the government announced a series of measures at the weekend . xxmaj we are here because the suffering of the victims and their families and the feeling of insecurity of the xxmaj portuguese demands a response , xxmaj prime xxmaj minister xxmaj costa told parliament during the debate on the motion . a report on the fire in xxmaj june pointed to a long list of mistakes , including slow response times by the police , firefighters and civil protection agency . a special communication system for emergencies stopped working during the fire . xxmaj this year s fires in xxmaj portugal accounted for 60 percent of the total area burnt in the entire xxmaj european xxmaj union . xxmaj portugal is equal to 2.1 percent of the xxup eu s xxunk . xxmaj in the interior , many have xxunk for years for deep changes to land management to prevent fires , by creating viable xxunk and farm units that will make land more valuable . ' \n",
       "  ' worldnews ' ' xxmaj october 24 , 2017 ' ],xxbos [ ' xxmaj fox xxmaj news xxmaj rails xxmaj against xxmaj media xxmaj coverage of xxmaj trump ’s xxmaj first 100 xxmaj days – xxmaj here ’s xxmaj how xxmaj they xxmaj covered xxmaj obama ’s ' \n",
       "  ' xxmaj donald xxmaj trump s media mouthpiece , xxmaj fox xxmaj news , is trying to put a positive spin on his terrible first 100 days , just like xxmaj reince xxmaj priebus and xxmaj trump himself . xxmaj part of what xxmaj fox is doing seems to be taking to xxmaj twitter to loudly complain about how the rest of the media has covered his first 100 days . xxmaj needless to say , they are very unhappy that the media s coverage has been overwhelmingly negative . xxmaj to them , this demonstrates a very obvious hatred of xxmaj trump : xxmaj the media s 100-day war against xxup @potus . pic.twitter.com / xxunk xxmaj fox xxmaj news ( @foxnews ) xxmaj april 23 , xxunk : 89 % of broadcast news coverage of the xxmaj trump xxmaj administration has been negative . pic.twitter.com / xxunk xxmaj fox xxmaj news ( @foxnews ) xxmaj april 23 , xxup xxunk xxmaj news pushed relentlessly negative agenda . pic.twitter.com / xxmaj xxunk xxmaj fox xxmaj news ( @foxnews ) xxmaj april 23 , 2017but this is because it s xxmaj trump . xxmaj fox xxmaj news was similarly negative during xxmaj obama s first 100 days . xxmaj according to xxmaj george xxmaj mason xxmaj university s xxmaj center for xxmaj media xxmaj affairs , xxmaj bret xxmaj baier s xxmaj special xxmaj report only gave positive coverage to xxmaj obama 23 percent of the time ( they analyzed xxmaj special xxmaj report because it most closely resembles traditional broadcast news ) . 77 percent of their coverage was negative . xxmaj overall , only 21 percent of xxmaj fox s total coverage was positive , and that number dropped to 15 percent when discussing his policies . xxmaj perhaps more than that , though , is the fact that xxmaj fox declared their opposition to xxmaj obama as quickly as they could . xxmaj in xxmaj april of 2009 , they were openly urging their viewers to get involved in xxmaj tea xxmaj party protests against xxmaj president xxmaj obama s fiscal policy . xxmaj furthermore , they weren t afraid to use words like socialism , fascism , xxmaj marxism and even communism . xxmaj they uttered those words 1,400 times during xxmaj obama s first 100 days , or 14 times per day . xxmaj so really , where do they get off whining about how the media s covering xxmaj trump ? xxmaj the fact of the matter is that xxmaj trump has actually been a complete disaster since he got elected . xxmaj his proposals are literally impossible , he thought he could xxunk both xxmaj congress and hostile world leaders into falling in line behind him , and he s spent more time golfing in his first 100 days than xxmaj obama spent in his entire first year . xxmaj calling all this out is part of the media s job . xxmaj photo of xxmaj donald xxmaj trump by xxmaj mark xxmaj wilson / xxmaj getty xxmaj images . xxmaj photo of xxmaj president xxmaj obama by xxmaj kevin xxmaj dietsch - xxmaj pool / xxmaj getty xxmaj images ' \n",
       "  ' xxmaj news ' ' xxmaj april 23 , 2017 ' ],xxbos [ ' xxmaj davos elite alarmed at prospect of nominee xxmaj trump ' \n",
       "  ' xxup davos , xxmaj switzerland ( xxmaj reuters ) - “ xxmaj unbelievable ” , “ embarrassing ” even “ dangerous ” are some of the words the financial elite gathered at the xxmaj world xxmaj economic xxmaj forum conference in the xxmaj swiss resort of xxmaj davos have been using to describe xxup u.s. xxmaj republican presidential frontrunner xxmaj donald xxmaj trump . xxmaj although some said they still expected his campaign to founder before his party picks its nominee for the xxmaj november election many said it was no longer unthinkable that he could be the xxmaj republican candidate . xxmaj some noted that whatever the outcome , a heated campaign , which has also seen self - proclaimed xxmaj socialist xxmaj bernie xxmaj sanders provide a tough challenge to former xxmaj secretary of xxmaj state xxmaj hillary xxmaj clinton for the xxmaj democratic nomination , could alter the xxup u.s. political environment , giving vent to new populist anger on both sides of the political divide . xxmaj trump \\ 's nationalist rhetoric , particularly proposals to ban xxmaj muslims from entering the xxmaj united xxmaj states , tax goods made abroad and build a wall on the xxmaj mexican border , were never the sort of thing to appeal to the free trade crowd that typically gathers at events like the annual xxmaj davos economic forum . “ xxmaj clearly it is not a rhetoric that is inviting for integration , ” said xxmaj chile ’s xxmaj finance xxmaj minister , xxmaj rodrigo xxmaj xxunk , referring to his comments on the campaign trail . “ xxmaj in xxmaj chile we have a deep view that integration of the xxmaj americas is a good thing , whether it is goods , financing and yes people . xxmaj so i ’d be happier with a more welcoming rhetoric . ” xxmaj among the present and former government officials in the xxmaj swiss resort was xxmaj eric xxmaj cantor , former xxmaj republican majority leader in the xxup u.s. xxmaj house of xxmaj representatives , now vice - chairman of xxmaj xxunk & xxmaj co , an investment bank . xxmaj like much of the xxmaj republican party ’s establishment , he had cold words for xxmaj trump . “ xxmaj he ’s not serious . xxmaj he ’s amazing at promoting his personal brand and reflecting an underlying anger at home , ” xxmaj cantor said . “ xxmaj trump xxmaj fever is an unsustainable phenomenon that will not translate into a victory for the candidate . ” xxmaj but for xxmaj ray xxmaj nolte , chief investment officer of xxmaj skybridge xxmaj capital , a $ 13 billion hedge fund whose founder has supported other xxmaj republican candidates including xxmaj jeb xxmaj bush , such establishment xxunk sound like xxunk thinking . “ xxmaj is xxmaj donald going to be the nominee ? i do n’t know . xxmaj it ’s sure looking that way now , ” xxmaj nolte said . “ xxmaj anyone here ( at xxmaj davos ) who is in the mainstream says there is no way he could possibly get the nomination . xxmaj when i hear that , it probably means it is going to happen . ” xxmaj noting the challenge to xxmaj clinton from xxmaj sanders , which he said could pull her to the left on issues like financial regulation , xxmaj nolte said institutional investors were already paying attention to the prospect of increased xxup u.s. political xxunk from the election . xxmaj xxunk xxmaj huffington , whose xxmaj huffington xxmaj post news website once insisted on covering xxmaj trump , a former reality xxup tv star , as an entertainment figure rather than a politician , said the site reversed its policy once he announced his proposal to ban xxmaj muslims from entering the xxmaj united xxmaj states , which made him too \" dangerous \" to ignore . \\ xa0 “ i feel the mainstreaming of xxmaj donald xxmaj trump , instead of him being treated as an extreme , dangerous candidate , is really the most troubling aspect of xxmaj american politics right now , ” she said . “ xxmaj he ’s being interviewed on all the main shows , and he ’s being asked questions about what his first xxmaj state of the xxmaj union address would be like if he wins , instead of actually being forced to answer the tough questions about his policy , especially his policy of wanting to ban xxmaj muslims from entering the xxup u.s. , which is so dangerous , so un - xxmaj american and should really be the center of the coverage of xxmaj trump . ” xxmaj for xxmaj xxunk xxmaj xxunk , global managing director for business consultancy mckinsey , xxmaj trump has turned the political campaign itself into “ entertainment ” , which could hurt the global image of the xxmaj united xxmaj states . “ xxmaj it ’s a bit embarrassing globally . xxmaj but i think there ’s a big difference between the rhetoric and the reality , and i think most people will see that and xxunk it . xxmaj but it ’s incredible how long its been going for . xxmaj it ’s just unbelievable , ” he said . xxmaj but not everyone is worried . xxmaj xxunk xxmaj xxunk , executive vice president of xxmaj indian outsourcing firm xxmaj infosys , said his firm has earned the majority of its revenue in the xxmaj united xxmaj states for more than 30 years . \" xxmaj we have seen many elections come and go . xxmaj it is common in all election seasons for rhetoric and extreme personalities to shine . xxmaj inevitably we have found governments from both sides to eventually come up with sensible policies , \" he said . \\ xxunk by xxmaj xxunk xxmaj geller , xxmaj carmel xxmaj xxunk , xxmaj noah xxmaj xxunk and others ; xxmaj writing by xxmaj peter xxmaj xxunk ; editing by xxmaj anna xxmaj xxunk ) ' \n",
       "  ' politicsnews ' ' xxmaj january 21 , 2016 ' ]\n",
       "y: CategoryList\n",
       "0,1,1,0,1\n",
       "Path: .;\n",
       "\n",
       "Valid: LabelList (600 items)\n",
       "x: TextList\n",
       "xxbos [ ' xxmaj focus on search and rescue , restoring power after xxmaj irma : xxup u.s. official ' \n",
       "  ' xxup washington ( xxmaj reuters ) - xxmaj federal officials were focused on xxmaj monday on search and rescue operations and restoring power to millions of people after xxmaj hurricane xxmaj irma tore across the xxmaj florida xxmaj keys before moving north up the state with high winds and heavy xxunk , the acting xxmaj homeland xxmaj security secretary said . xxmaj acting xxup dhs xxmaj secretary xxmaj elaine xxmaj duke told xxup cnn 200,000 people remained in shelters and more than 5 million were without power , but the top priority was search and rescue as xxunk revealed the damage from the storm overnight . xxmaj today will be our first time to get a glimpse of it . xxmaj we do have flying weather and as the sun rises we ll be able to take a look at the xxmaj keys especially where we have the most area of concern , she said . ' \n",
       "  ' worldnews ' ' xxmaj september 11 , 2017 ' ],xxbos [ ' xxmaj right - xxmaj wing xxmaj columnist xxmaj is xxmaj now xxmaj officially xxmaj begging xxmaj democrats xxmaj to xxmaj kiss xxmaj and xxmaj make xxmaj up xxmaj with xxmaj out xxmaj of xxmaj control xxmaj republicans ' \n",
       "  \" xxmaj new xxmaj york xxmaj times conservative columnist xxmaj david xxmaj brooks is absolutely amazing . xxmaj after years of sitting by while xxmaj republicans waged a xxunk earth campaign against xxmaj democrats , the xxmaj constitution and basic human decency , he suddenly xxunk the toxic level of discourse in xxmaj america . xxmaj why ? xxmaj because xxmaj democrats are xxunk and xxmaj republicans are xxunk on total collapse . xxmaj now , he says , we should work together and it would be bad for xxmaj america if we don xxunk sets the stage by describing how we got here . xxmaj he calls it anti - politics and he s xxup very upset about it : xxmaj over the past generation we have seen the rise of a group of people who are against politics . xxmaj these groups best exemplified by the xxmaj tea xxmaj party but not exclusive to the right want to elect people who have no political experience . xxmaj they want outsiders . xxmaj they delegitimize compromise and deal - making . xxmaj they re willing to xxunk the customs and rules that give legitimacy to legislative decision - making if it helps them gain power . i m xxunk he s referring to xxmaj bernie xxmaj sanders supporters as being the left - wing version because i can t think of any other group on the left that even remotely fits the description . xxmaj but xxmaj bernie has been in xxmaj washington for 30 something years . xxmaj he s hardly an xxunk outsider . xxmaj his followers may like his rebel xxunk but they don t want him to get into office for the sole purpose of bringing the government to a xxunk halt . xxmaj this is xxmaj brooks creating a false xxunk in order to xxunk himself of his responsibility in creating xxunk . xxmaj he goes on to describe the xxunk people as being extremists that can not compromise and increasingly damage the process of governing . xxmaj essentially what the xxup gop has been doing for years while xxmaj brooks gave them ideological cover to wreck the country . xxmaj brooks is especially put off by xxmaj trump despite having enabled his rise in the first place . xxmaj so far , the column is the usual right wing shifting of blame . xxmaj they are patently incapable of accepting responsibility for their actions . xxmaj but then we get to this , the xxunk xxunk for sanity : xxmaj the answer to xxmaj trump is politics . xxmaj it s xxunk other people exist . xxmaj it s taking pleasure in that difference and hammering out xxunk arrangements . xxmaj as xxmaj harold xxmaj xxunk put it , xxmaj we shall make the basis of our state consent to disagreement . xxmaj xxunk shall we ensure its deepest xxunk . ' xxmaj it sure does sound reasonable but the timing of this sudden xxunk is not xxunk . xxmaj you see , xxmaj republicans have spent the last 30 + years polarizing the country to the point where the two sides can not work together . xxmaj while xxmaj republicans controlled the xxmaj white xxmaj house , both chambers of xxmaj congress xxup and the xxmaj supreme xxmaj court , this was exactly what they wanted . xxmaj they spent 6 years of ignoring the xxmaj democrats and doing whatever they wanted . xxmaj then they spent all of xxmaj obama s presidency breaking the system so they could stop his agenda . xxmaj they became the party of xxunk . xxmaj but in xxmaj november , xxmaj republicans are going to be crushed at the ballot box . xxmaj trump is going to going to lose so badly , he s going to cost xxmaj republicans the xxmaj senate by a comfortable margin , not a small number of xxmaj house seats , a few xxunk and control of several state legislatures . xxmaj oh , and the xxmaj supreme xxmaj court is going to tilt left for the next 30 years , which will put the final nail in the coffin of the xxmaj republican voter xxunk schemes that are the only thing keeping xxmaj republicans in power in many parts of the country . xxmaj so after decades of i hate you ! i hope you die ! xxmaj burn in hell ! xxmaj compromise is surrender ! xxmaj burn it all down unless we get 100 % of what we want ! , we should stop playing by their rules of winner takes all ? xxmaj now that they re on the edge of losing everything , xxmaj republicans want to play nice again ? n xxrep 6 o xxunk , fuck that . xxmaj republicans don t get to kick xxunk in our faces and then demand we share our ice xxunk because they dropped theirs . xxmaj so sorry , xxmaj mr. xxmaj brooks . xxmaj you had your chance and you blew it . xxmaj you sat by and let your party turn xxmaj american politics into a xxunk blood sport . xxmaj it s not our fault you lost and we re in no mood to give you the time of day much less any concessions . xxmaj we re going to put you in a little box and undo all of the damage your policies have xxunk since the xxunk . xxmaj unions are going to grow in strength again . xxmaj the minimum wage will become a living wage . xxmaj workers will have their rights restored . xxmaj women will have their rights restored . xxmaj so will minorities and the victims of the xxmaj drug xxmaj war ( most of whom are minorities anyway ) . xxmaj wall xxmaj street will still make billions but they won t be able to crash the economy again . xxmaj all of your voter xxunk laws will be repealed and extreme xxunk will end . xxmaj all of this will happen without no input from you because you have painted yourselves into a corner where working with a xxmaj democrat is grounds for being xxunk from the far right . xxmaj it won t happen in 4 years . xxmaj or even 8 . xxmaj decades of damage will take decades to clean up . xxmaj but it s going to happen and there s nothing you can do to stop it . xxmaj xxunk xxmaj xxunk once boasted of a permanent xxmaj republican majority in which xxmaj democrats would be utterly powerless . xxmaj while i m not so xxunk as to claim a permanent xxmaj democratic majority , xxmaj republicans will grow weaker and weaker until they can stop appealing only to white racists . xxmaj in the xxunk , we re gon na take it all while you , xxmaj mr. xxmaj brooks , sit and scream in xxunk rage at how mean and unfair the left has become . xxmaj ha . xxmaj ha . xxmaj ha . xxmaj fuck you . xxmaj featured image via xxunk \" \n",
       "  ' xxmaj news ' ' xxmaj july 4 , 2016 ' ],xxbos [ ' xxup van xxup jones xxmaj guarantees 8 xxmaj years xxmaj of xxmaj president xxmaj trump : “ xxmaj that xxmaj was xxmaj one xxmaj of xxmaj the xxmaj most xxmaj extraordinary xxmaj moments xxmaj in xxmaj american xxmaj politics xxmaj you xxmaj have xxmaj ever xxmaj seen … xxmaj period ” [ xxup video ] ' \n",
       "  ' xxmaj van xxmaj jones praised xxmaj president xxmaj trump for honoring the widow of a xxmaj navy xxup seal killed during a raid in xxmaj yemen , saying he became president of the xxmaj united xxmaj states in that moment . xxmaj period . xxmaj there are a lot of people who have a lot of reason to be frustrated with him , to be fearful of him , to be mad of him , but that was one of the most extraordinary moments you have ever seen in xxmaj american politics period , xxmaj jones said on xxunk , a liberal commentator who frequently criticizes xxmaj trump , said the president did something extraordinary . xxunk on xxmaj trump \\ 's emotional moment : xxmaj if he finds a way to keep doing that , \" he \\ 's going to be there for 8 years \" https : / / t.co / xxunk xxup cnn ( xxup @cnn ) xxmaj march 1 , xxunk his address xxmaj tuesday night to xxmaj congress , xxmaj trump said the nation will never forget the sacrifice of xxmaj navy xxup seal xxmaj chief xxmaj petty xxmaj officer xxmaj william xxmaj ryan xxmaj owens . xxmaj ryan s legacy is xxunk into xxunk , xxmaj trump said , to another standing ovation during which xxmaj xxunk xxmaj owens , the widow of the xxup seal , also stood to xxunk . xxmaj the applause break was one of the longest and most bipartisan of the night , and prompted xxmaj trump to ad - lib : xxmaj ryan is looking down right now , and he s very happy because i think he just broke a record . xxmaj the xxmaj hill ' \n",
       "  ' politics ' ' xxmaj mar 1 , 2017 ' ],xxbos [ ' xxup un xxup official xxup tied xxup to xxup clintons xxmaj set xxmaj to xxmaj face xxmaj trial , xxmaj found xxmaj with xxmaj xxunk xxup crushed xxmaj by xxmaj xxunk … xxup un xxmaj claims xxmaj heart xxmaj attack xxmaj is xxmaj cause xxmaj of xxmaj death ' \n",
       "  ' xxmaj vince xxmaj foster xxmaj part xxunk death by xxunk of disgraced xxup un official xxmaj john xxmaj xxunk could become a bigger obsession for conspiracy xxunk than xxmaj vince xxmaj foster s 1993 suicide . xxmaj xxunk who was facing trial for tax fraud died xxmaj wednesday afternoon in his house in xxmaj xxunk xxmaj county . xxmaj the xxup un said he d had a heart attack . xxmaj but the local xxmaj dobbs xxmaj xxunk police said xxmaj thursday that his xxunk had been crushed , presumably by a xxunk he dropped while pumping iron . xxmaj xxunk was due in court xxmaj monday with his xxmaj chinese businessman co - defendant xxmaj xxunk xxmaj lap xxmaj xxunk , who is charged with smuggling $ xxunk million into the xxup us since 2013 and lying that it was to buy art and xxunk chips . xxmaj xxunk was identified in a 1998 xxmaj senate report as the source of hundreds of thousands of dollars illegally funneled through an xxmaj arkansas restaurant owner , xxmaj charlie xxmaj xxunk , to the xxmaj democratic xxmaj national xxmaj committee during the xxmaj clinton administration . ( xxmaj xxunk was not charged with any xxunk and xxmaj xxunk had visited the xxmaj white xxmaj house several times for xxmaj democratic fund - raising events and were xxunk with then - xxmaj president xxmaj bill xxmaj clinton and xxmaj first xxmaj lady xxmaj hillary xxmaj clinton . xxmaj one source told me , xxmaj during the trial , the prosecutors would have linked xxmaj xxunk to the xxmaj clinton xxunk xxmaj xxunk . xxmaj it would have been very embarrassing . xxmaj his death was conveniently xxunk . xxmaj via : xxup nyp ' \n",
       "  ' politics ' ' xxmaj jun 26 , 2016 ' ],xxbos [ \" xxmaj china 's xxmaj xi says will support xxmaj interpol raising its profile \" \n",
       "  ' xxup beijing ( xxmaj reuters ) - xxmaj china will support xxmaj interpol , raising the profile and leadership of the global police cooperation agency , xxmaj chinese xxmaj president xxmaj xi xxmaj jinping said on xxmaj tuesday at the opening of xxmaj interpol s general assembly in xxmaj beijing , state media reported . xxmaj last year , xxmaj interpol elected a senior xxmaj chinese public security official , xxmaj vice xxmaj public xxmaj security xxmaj minister xxmaj xxunk xxmaj xxunk , as its president , prompting rights groups to ask whether xxmaj beijing could try and use the position to go after dissidents abroad . xxmaj xi said xxmaj china s stability was just as much its contribution to the world as its economic development , and that it firmly supported the international struggle against terrorism . xxmaj china highly xxunk xxmaj interpol s efforts to protect the world s security and stability , and will continue to support xxmaj interpol to play an even more important role in global security governance , the official xxmaj xinhua news agency cited xxmaj xi as saying . xxmaj beijing has tried for many years to enlist the help of foreign countries to arrest and deport back to xxmaj china suspected wanted for crimes including corruption and terrorism xxmaj such requests have met resistance , particularly from xxmaj western countries where there have been concerns over whether evidence submitted by xxmaj china met acceptable standards for xxmaj western courts . xxmaj there were also worries that suspects might be xxunk and would not get a fair trial in xxmaj china , and that allegations could be politically motivated . xxmaj in cross - border law - enforcement cooperation , xxmaj xi said , the laws of each country must be respected equally without double standards . xxmaj china s xxmaj public xxmaj security xxmaj minister , xxmaj guo xxmaj xxunk , told the assembly that xxmaj china hoped to use international police cooperation to strengthen its defense against the threat of militants returning from abroad to join groups like the xxmaj east xxmaj xxunk xxmaj islamic xxmaj movement . xxmaj rights groups have criticized xxmaj china for xxunk xxmaj interpol s red notice system to target exiled xxmaj xxunk from xxmaj xxunk , accusing them of terrorism , including xxmaj xxunk xxmaj xxunk , the general secretary of the xxmaj munich - based xxmaj world xxmaj xxunk xxmaj congress . xxmaj interpol xxmaj secretary - xxmaj general xxmaj xxunk xxmaj stock , a xxmaj german national , said the organization had significantly increased vetting of red notice requests from all xxunk member countries and last year 99 per cent complied with xxmaj interpol s internal regulations . xxmaj stock reiterated that red notices were not international arrest warrants but rather an alert system that enabled member countries to decide whether to take action on the basis of their own legal assessment and situation . ' \n",
       "  ' worldnews ' ' xxmaj september 26 , 2017 ' ]\n",
       "y: CategoryList\n",
       "1,0,0,0,1\n",
       "Path: .;\n",
       "\n",
       "Test: None, model=SequentialRNN(\n",
       "  (0): MultiBatchEncoder(\n",
       "    (module): AWD_LSTM(\n",
       "      (encoder): Embedding(16040, 400, padding_idx=1)\n",
       "      (encoder_dp): EmbeddingDropout(\n",
       "        (emb): Embedding(16040, 400, padding_idx=1)\n",
       "      )\n",
       "      (rnns): ModuleList(\n",
       "        (0): WeightDropout(\n",
       "          (module): LSTM(400, 1152, batch_first=True)\n",
       "        )\n",
       "        (1): WeightDropout(\n",
       "          (module): LSTM(1152, 1152, batch_first=True)\n",
       "        )\n",
       "        (2): WeightDropout(\n",
       "          (module): LSTM(1152, 400, batch_first=True)\n",
       "        )\n",
       "      )\n",
       "      (input_dp): RNNDropout()\n",
       "      (hidden_dps): ModuleList(\n",
       "        (0): RNNDropout()\n",
       "        (1): RNNDropout()\n",
       "        (2): RNNDropout()\n",
       "      )\n",
       "    )\n",
       "  )\n",
       "  (1): PoolingLinearClassifier(\n",
       "    (layers): Sequential(\n",
       "      (0): BatchNorm1d(1200, eps=1e-05, momentum=0.1, affine=True, track_running_stats=True)\n",
       "      (1): Dropout(p=0.12, inplace=False)\n",
       "      (2): Linear(in_features=1200, out_features=50, bias=True)\n",
       "      (3): ReLU(inplace=True)\n",
       "      (4): BatchNorm1d(50, eps=1e-05, momentum=0.1, affine=True, track_running_stats=True)\n",
       "      (5): Dropout(p=0.1, inplace=False)\n",
       "      (6): Linear(in_features=50, out_features=2, bias=True)\n",
       "    )\n",
       "  )\n",
       "), opt_func=functools.partial(<class 'torch.optim.adam.Adam'>, betas=(0.9, 0.99)), loss_func=FlattenedLoss of CrossEntropyLoss(), metrics=[<function accuracy at 0x7ff9c2f1a0e0>], true_wd=True, bn_wd=True, wd=0.01, train_bn=True, path=PosixPath('.'), model_dir='models', callback_fns=[functools.partial(<class 'fastai.basic_train.Recorder'>, add_time=True, silent=False)], callbacks=[RNNTrainer\n",
       "learn: ...\n",
       "alpha: 2.0\n",
       "beta: 1.0], layer_groups=[Sequential(\n",
       "  (0): Embedding(16040, 400, padding_idx=1)\n",
       "  (1): EmbeddingDropout(\n",
       "    (emb): Embedding(16040, 400, padding_idx=1)\n",
       "  )\n",
       "), Sequential(\n",
       "  (0): WeightDropout(\n",
       "    (module): LSTM(400, 1152, batch_first=True)\n",
       "  )\n",
       "  (1): RNNDropout()\n",
       "), Sequential(\n",
       "  (0): WeightDropout(\n",
       "    (module): LSTM(1152, 1152, batch_first=True)\n",
       "  )\n",
       "  (1): RNNDropout()\n",
       "), Sequential(\n",
       "  (0): WeightDropout(\n",
       "    (module): LSTM(1152, 400, batch_first=True)\n",
       "  )\n",
       "  (1): RNNDropout()\n",
       "), Sequential(\n",
       "  (0): PoolingLinearClassifier(\n",
       "    (layers): Sequential(\n",
       "      (0): BatchNorm1d(1200, eps=1e-05, momentum=0.1, affine=True, track_running_stats=True)\n",
       "      (1): Dropout(p=0.12, inplace=False)\n",
       "      (2): Linear(in_features=1200, out_features=50, bias=True)\n",
       "      (3): ReLU(inplace=True)\n",
       "      (4): BatchNorm1d(50, eps=1e-05, momentum=0.1, affine=True, track_running_stats=True)\n",
       "      (5): Dropout(p=0.1, inplace=False)\n",
       "      (6): Linear(in_features=50, out_features=2, bias=True)\n",
       "    )\n",
       "  )\n",
       ")], add_time=True, silent=False)"
      ]
     },
     "execution_count": 18,
     "metadata": {},
     "output_type": "execute_result"
    }
   ],
   "source": [
    "learn = text_classifier_learner(data_clas, AWD_LSTM, drop_mult=0.3) # use the same settings as the language model we fine-tuned, so we can load without problems\n",
    "learn.load_encoder('fine-tuned_language_model')"
   ]
  },
  {
   "cell_type": "markdown",
   "metadata": {
    "papermill": {
     "duration": 0.040195,
     "end_time": "2020-09-30T21:58:52.697887",
     "exception": false,
     "start_time": "2020-09-30T21:58:52.657692",
     "status": "completed"
    },
    "tags": []
   },
   "source": [
    "Figure out the learning best rate as before."
   ]
  },
  {
   "cell_type": "code",
   "execution_count": 19,
   "metadata": {
    "execution": {
     "iopub.execute_input": "2020-09-30T21:58:52.782427Z",
     "iopub.status.busy": "2020-09-30T21:58:52.781658Z",
     "iopub.status.idle": "2020-09-30T21:59:20.645575Z",
     "shell.execute_reply": "2020-09-30T21:59:20.646124Z"
    },
    "papermill": {
     "duration": 27.908469,
     "end_time": "2020-09-30T21:59:20.646294",
     "exception": false,
     "start_time": "2020-09-30T21:58:52.737825",
     "status": "completed"
    },
    "tags": []
   },
   "outputs": [
    {
     "data": {
      "text/html": [
       "\n",
       "    <div>\n",
       "        <style>\n",
       "            /* Turns off some styling */\n",
       "            progress {\n",
       "                /* gets rid of default border in Firefox and Opera. */\n",
       "                border: none;\n",
       "                /* Needs to be in here for Safari polyfill so background images work as expected. */\n",
       "                background-size: auto;\n",
       "            }\n",
       "            .progress-bar-interrupted, .progress-bar-interrupted::-webkit-progress-bar {\n",
       "                background: #F44336;\n",
       "            }\n",
       "        </style>\n",
       "      <progress value='2' class='' max='3' style='width:300px; height:20px; vertical-align: middle;'></progress>\n",
       "      66.67% [2/3 00:23<00:11]\n",
       "    </div>\n",
       "    \n",
       "<table border=\"1\" class=\"dataframe\">\n",
       "  <thead>\n",
       "    <tr style=\"text-align: left;\">\n",
       "      <th>epoch</th>\n",
       "      <th>train_loss</th>\n",
       "      <th>valid_loss</th>\n",
       "      <th>accuracy</th>\n",
       "      <th>time</th>\n",
       "    </tr>\n",
       "  </thead>\n",
       "  <tbody>\n",
       "    <tr>\n",
       "      <td>0</td>\n",
       "      <td>0.693901</td>\n",
       "      <td>#na#</td>\n",
       "      <td>00:11</td>\n",
       "    </tr>\n",
       "    <tr>\n",
       "      <td>1</td>\n",
       "      <td>0.327004</td>\n",
       "      <td>#na#</td>\n",
       "      <td>00:11</td>\n",
       "    </tr>\n",
       "  </tbody>\n",
       "</table><p>\n",
       "\n",
       "    <div>\n",
       "        <style>\n",
       "            /* Turns off some styling */\n",
       "            progress {\n",
       "                /* gets rid of default border in Firefox and Opera. */\n",
       "                border: none;\n",
       "                /* Needs to be in here for Safari polyfill so background images work as expected. */\n",
       "                background-size: auto;\n",
       "            }\n",
       "            .progress-bar-interrupted, .progress-bar-interrupted::-webkit-progress-bar {\n",
       "                background: #F44336;\n",
       "            }\n",
       "        </style>\n",
       "      <progress value='8' class='' max='43' style='width:300px; height:20px; vertical-align: middle;'></progress>\n",
       "      18.60% [8/43 00:03<00:16 0.5841]\n",
       "    </div>\n",
       "    "
      ],
      "text/plain": [
       "<IPython.core.display.HTML object>"
      ]
     },
     "metadata": {},
     "output_type": "display_data"
    },
    {
     "name": "stdout",
     "output_type": "stream",
     "text": [
      "LR Finder is complete, type {learner_name}.recorder.plot() to see the graph.\n",
      "Min numerical gradient: 3.98E-04\n",
      "Min loss divided by 10: 5.25E-02\n"
     ]
    },
    {
     "data": {
      "image/png": "[encoded data removed]",
      "text/plain": [
       "<Figure size 432x288 with 1 Axes>"
      ]
     },
     "metadata": {
      "needs_background": "light"
     },
     "output_type": "display_data"
    }
   ],
   "source": [
    "learn.lr_find() # find best rate\n",
    "learn.recorder.plot(suggestion=True) # plot it"
   ]
  },
  {
   "cell_type": "code",
   "execution_count": 20,
   "metadata": {
    "execution": {
     "iopub.execute_input": "2020-09-30T21:59:20.743751Z",
     "iopub.status.busy": "2020-09-30T21:59:20.742244Z",
     "iopub.status.idle": "2020-09-30T21:59:20.746536Z",
     "shell.execute_reply": "2020-09-30T21:59:20.745784Z"
    },
    "papermill": {
     "duration": 0.052703,
     "end_time": "2020-09-30T21:59:20.746678",
     "exception": false,
     "start_time": "2020-09-30T21:59:20.693975",
     "status": "completed"
    },
    "tags": []
   },
   "outputs": [
    {
     "name": "stdout",
     "output_type": "stream",
     "text": [
      "0.0003981071705534973\n"
     ]
    }
   ],
   "source": [
    "rate = learn.recorder.min_grad_lr\n",
    "print(rate)"
   ]
  },
  {
   "cell_type": "markdown",
   "metadata": {
    "papermill": {
     "duration": 0.042727,
     "end_time": "2020-09-30T21:59:20.832370",
     "exception": false,
     "start_time": "2020-09-30T21:59:20.789643",
     "status": "completed"
    },
    "tags": []
   },
   "source": [
    "Train the fake news classifier"
   ]
  },
  {
   "cell_type": "code",
   "execution_count": 21,
   "metadata": {
    "execution": {
     "iopub.execute_input": "2020-09-30T21:59:20.924209Z",
     "iopub.status.busy": "2020-09-30T21:59:20.922488Z",
     "iopub.status.idle": "2020-09-30T21:59:36.808237Z",
     "shell.execute_reply": "2020-09-30T21:59:36.807240Z"
    },
    "papermill": {
     "duration": 15.934196,
     "end_time": "2020-09-30T21:59:36.808411",
     "exception": false,
     "start_time": "2020-09-30T21:59:20.874215",
     "status": "completed"
    },
    "tags": []
   },
   "outputs": [
    {
     "data": {
      "text/html": [
       "<table border=\"1\" class=\"dataframe\">\n",
       "  <thead>\n",
       "    <tr style=\"text-align: left;\">\n",
       "      <th>epoch</th>\n",
       "      <th>train_loss</th>\n",
       "      <th>valid_loss</th>\n",
       "      <th>accuracy</th>\n",
       "      <th>time</th>\n",
       "    </tr>\n",
       "  </thead>\n",
       "  <tbody>\n",
       "    <tr>\n",
       "      <td>0</td>\n",
       "      <td>0.280677</td>\n",
       "      <td>0.208934</td>\n",
       "      <td>0.973333</td>\n",
       "      <td>00:15</td>\n",
       "    </tr>\n",
       "  </tbody>\n",
       "</table>"
      ],
      "text/plain": [
       "<IPython.core.display.HTML object>"
      ]
     },
     "metadata": {},
     "output_type": "display_data"
    }
   ],
   "source": [
    "learn.fit_one_cycle(1, rate)"
   ]
  },
  {
   "cell_type": "markdown",
   "metadata": {
    "papermill": {
     "duration": 0.043824,
     "end_time": "2020-09-30T21:59:36.899066",
     "exception": false,
     "start_time": "2020-09-30T21:59:36.855242",
     "status": "completed"
    },
    "tags": []
   },
   "source": [
    "A nearly perfect score is achieved!"
   ]
  },
  {
   "cell_type": "markdown",
   "metadata": {
    "papermill": {
     "duration": 0.044781,
     "end_time": "2020-09-30T21:59:36.987787",
     "exception": false,
     "start_time": "2020-09-30T21:59:36.943006",
     "status": "completed"
    },
    "tags": []
   },
   "source": [
    "### Gradual Unfreezing\n",
    "The idea is to keep the initial layers of model as untrainable in the beginning, slowly decreasing how many are untrainable as the training process proceeds.\n",
    "\n",
    "We can use the following command to only unfreeze the last layer:"
   ]
  },
  {
   "cell_type": "code",
   "execution_count": 22,
   "metadata": {
    "execution": {
     "iopub.execute_input": "2020-09-30T21:59:37.084589Z",
     "iopub.status.busy": "2020-09-30T21:59:37.083221Z",
     "iopub.status.idle": "2020-09-30T21:59:37.088112Z",
     "shell.execute_reply": "2020-09-30T21:59:37.087608Z"
    },
    "papermill": {
     "duration": 0.053974,
     "end_time": "2020-09-30T21:59:37.088277",
     "exception": false,
     "start_time": "2020-09-30T21:59:37.034303",
     "status": "completed"
    },
    "tags": []
   },
   "outputs": [],
   "source": [
    "learn.freeze_to(-1)"
   ]
  },
  {
   "cell_type": "markdown",
   "metadata": {
    "papermill": {
     "duration": 0.046593,
     "end_time": "2020-09-30T21:59:37.180033",
     "exception": false,
     "start_time": "2020-09-30T21:59:37.133440",
     "status": "completed"
    },
    "tags": []
   },
   "source": [
    "We can use the following command to only unfreeze the last two layers"
   ]
  },
  {
   "cell_type": "code",
   "execution_count": 23,
   "metadata": {
    "execution": {
     "iopub.execute_input": "2020-09-30T21:59:37.273019Z",
     "iopub.status.busy": "2020-09-30T21:59:37.272115Z",
     "iopub.status.idle": "2020-09-30T21:59:37.275231Z",
     "shell.execute_reply": "2020-09-30T21:59:37.274697Z"
    },
    "papermill": {
     "duration": 0.051494,
     "end_time": "2020-09-30T21:59:37.275329",
     "exception": false,
     "start_time": "2020-09-30T21:59:37.223835",
     "status": "completed"
    },
    "tags": []
   },
   "outputs": [],
   "source": [
    "learn.freeze_to(-2)"
   ]
  },
  {
   "cell_type": "markdown",
   "metadata": {
    "papermill": {
     "duration": 0.045506,
     "end_time": "2020-09-30T21:59:37.364488",
     "exception": false,
     "start_time": "2020-09-30T21:59:37.318982",
     "status": "completed"
    },
    "tags": []
   },
   "source": [
    "Thus, gradual unfreezing to a depth=2 would involve doing something like this:"
   ]
  },
  {
   "cell_type": "code",
   "execution_count": 24,
   "metadata": {
    "execution": {
     "iopub.execute_input": "2020-09-30T21:59:37.459148Z",
     "iopub.status.busy": "2020-09-30T21:59:37.458064Z",
     "iopub.status.idle": "2020-09-30T22:00:14.100089Z",
     "shell.execute_reply": "2020-09-30T22:00:14.099024Z"
    },
    "papermill": {
     "duration": 36.691295,
     "end_time": "2020-09-30T22:00:14.100210",
     "exception": false,
     "start_time": "2020-09-30T21:59:37.408915",
     "status": "completed"
    },
    "tags": []
   },
   "outputs": [
    {
     "data": {
      "text/html": [
       "<table border=\"1\" class=\"dataframe\">\n",
       "  <thead>\n",
       "    <tr style=\"text-align: left;\">\n",
       "      <th>epoch</th>\n",
       "      <th>train_loss</th>\n",
       "      <th>valid_loss</th>\n",
       "      <th>accuracy</th>\n",
       "      <th>time</th>\n",
       "    </tr>\n",
       "  </thead>\n",
       "  <tbody>\n",
       "    <tr>\n",
       "      <td>0</td>\n",
       "      <td>0.146313</td>\n",
       "      <td>0.044320</td>\n",
       "      <td>0.991667</td>\n",
       "      <td>00:17</td>\n",
       "    </tr>\n",
       "  </tbody>\n",
       "</table>"
      ],
      "text/plain": [
       "<IPython.core.display.HTML object>"
      ]
     },
     "metadata": {},
     "output_type": "display_data"
    },
    {
     "data": {
      "text/html": [
       "<table border=\"1\" class=\"dataframe\">\n",
       "  <thead>\n",
       "    <tr style=\"text-align: left;\">\n",
       "      <th>epoch</th>\n",
       "      <th>train_loss</th>\n",
       "      <th>valid_loss</th>\n",
       "      <th>accuracy</th>\n",
       "      <th>time</th>\n",
       "    </tr>\n",
       "  </thead>\n",
       "  <tbody>\n",
       "    <tr>\n",
       "      <td>0</td>\n",
       "      <td>0.112885</td>\n",
       "      <td>0.022130</td>\n",
       "      <td>1.000000</td>\n",
       "      <td>00:19</td>\n",
       "    </tr>\n",
       "  </tbody>\n",
       "</table>"
      ],
      "text/plain": [
       "<IPython.core.display.HTML object>"
      ]
     },
     "metadata": {},
     "output_type": "display_data"
    }
   ],
   "source": [
    "depth = 2\n",
    "for i in range(1,depth+1): # freeze progressively fewer layers, up to a depth of 2, training for one cycle each time\n",
    "    learn.freeze_to(-i)\n",
    "    learn.fit_one_cycle(1, rate)"
   ]
  },
  {
   "cell_type": "markdown",
   "metadata": {
    "papermill": {
     "duration": 0.047028,
     "end_time": "2020-09-30T22:00:14.192642",
     "exception": false,
     "start_time": "2020-09-30T22:00:14.145614",
     "status": "completed"
    },
    "tags": []
   },
   "source": [
    "Looks like we actually achieved the perfect score here! These results speak for themselves!"
   ]
  }
 ],
 "metadata": {
  "kernelspec": {
   "display_name": "Python 3",
   "language": "python",
   "name": "python3"
  },
  "language_info": {
   "codemirror_mode": {
    "name": "ipython",
    "version": 3
   },
   "file_extension": ".py",
   "mimetype": "text/x-python",
   "name": "python",
   "nbconvert_exporter": "python",
   "pygments_lexer": "ipython3",
   "version": "3.7.6"
  },
  "papermill": {
   "duration": 202.054861,
   "end_time": "2020-09-30T22:00:15.373222",
   "environment_variables": {},
   "exception": null,
   "input_path": "__notebook__.ipynb",
   "output_path": "__notebook__.ipynb",
   "parameters": {},
   "start_time": "2020-09-30T21:56:53.318361",
   "version": "2.1.0"
  }
 },
 "nbformat": 4,
 "nbformat_minor": 4
}
