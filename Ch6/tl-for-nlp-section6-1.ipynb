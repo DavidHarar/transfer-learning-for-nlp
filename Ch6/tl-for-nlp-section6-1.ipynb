{
 "cells": [
  {
   "cell_type": "markdown",
   "metadata": {
    "papermill": {
     "duration": 0.046632,
     "end_time": "2020-10-15T18:31:57.398768",
     "exception": false,
     "start_time": "2020-10-15T18:31:57.352136",
     "status": "completed"
    },
    "tags": []
   },
   "source": [
    "# Preliminaries\n",
    "Write requirements to file, anytime you run it, in case you have to go back and recover dependencies.\n",
    "\n",
    "Requirements are hosted for each notebook in the companion github repo, and can be pulled down and installed here if needed. Companion github repo is located at https://github.com/azunre/transfer-learning-for-nlp"
   ]
  },
  {
   "cell_type": "code",
   "execution_count": 1,
   "metadata": {
    "execution": {
     "iopub.execute_input": "2020-10-15T18:31:57.597657Z",
     "iopub.status.busy": "2020-10-15T18:31:57.596611Z",
     "iopub.status.idle": "2020-10-15T18:32:00.038310Z",
     "shell.execute_reply": "2020-10-15T18:32:00.037626Z"
    },
    "papermill": {
     "duration": 2.540554,
     "end_time": "2020-10-15T18:32:00.038450",
     "exception": false,
     "start_time": "2020-10-15T18:31:57.497896",
     "status": "completed"
    },
    "tags": []
   },
   "outputs": [],
   "source": [
    "!pip freeze > kaggle_image_requirements.txt"
   ]
  },
  {
   "cell_type": "markdown",
   "metadata": {
    "papermill": {
     "duration": 0.030536,
     "end_time": "2020-10-15T18:32:00.100519",
     "exception": false,
     "start_time": "2020-10-15T18:32:00.069983",
     "status": "completed"
    },
    "tags": []
   },
   "source": [
    "# Read and Preprocess Fake News Data\n",
    "\n",
    "The data preprocessing steps are the same as those in sections 4.2/4.4\n",
    "\n",
    "Read in the \"true\" and \"fake\" data\n",
    "\n",
    "In quotes, because that has the potential to simply replicate the biases of the labeler, so should be carefully evaluated"
   ]
  },
  {
   "cell_type": "code",
   "execution_count": 2,
   "metadata": {
    "execution": {
     "iopub.execute_input": "2020-10-15T18:32:00.174779Z",
     "iopub.status.busy": "2020-10-15T18:32:00.174065Z",
     "iopub.status.idle": "2020-10-15T18:32:02.343033Z",
     "shell.execute_reply": "2020-10-15T18:32:02.343995Z"
    },
    "papermill": {
     "duration": 2.212667,
     "end_time": "2020-10-15T18:32:02.344298",
     "exception": false,
     "start_time": "2020-10-15T18:32:00.131631",
     "status": "completed"
    },
    "tags": []
   },
   "outputs": [
    {
     "name": "stdout",
     "output_type": "stream",
     "text": [
      "Data labeled as True:\n",
      "                                               title  \\\n",
      "0  As U.S. budget fight looms, Republicans flip t...   \n",
      "1  U.S. military to accept transgender recruits o...   \n",
      "2  Senior U.S. Republican senator: 'Let Mr. Muell...   \n",
      "3  FBI Russia probe helped by Australian diplomat...   \n",
      "4  Trump wants Postal Service to charge 'much mor...   \n",
      "\n",
      "                                                text       subject  \\\n",
      "0  WASHINGTON (Reuters) - The head of a conservat...  politicsNews   \n",
      "1  WASHINGTON (Reuters) - Transgender people will...  politicsNews   \n",
      "2  WASHINGTON (Reuters) - The special counsel inv...  politicsNews   \n",
      "3  WASHINGTON (Reuters) - Trump campaign adviser ...  politicsNews   \n",
      "4  SEATTLE/WASHINGTON (Reuters) - President Donal...  politicsNews   \n",
      "\n",
      "                 date  \n",
      "0  December 31, 2017   \n",
      "1  December 29, 2017   \n",
      "2  December 31, 2017   \n",
      "3  December 30, 2017   \n",
      "4  December 29, 2017   \n",
      "\n",
      "\n",
      "\n",
      "Data labeled as Fake:\n",
      "                                               title  \\\n",
      "0   Donald Trump Sends Out Embarrassing New Year’...   \n",
      "1   Drunk Bragging Trump Staffer Started Russian ...   \n",
      "2   Sheriff David Clarke Becomes An Internet Joke...   \n",
      "3   Trump Is So Obsessed He Even Has Obama’s Name...   \n",
      "4   Pope Francis Just Called Out Donald Trump Dur...   \n",
      "\n",
      "                                                text subject  \\\n",
      "0  Donald Trump just couldn t wish all Americans ...    News   \n",
      "1  House Intelligence Committee Chairman Devin Nu...    News   \n",
      "2  On Friday, it was revealed that former Milwauk...    News   \n",
      "3  On Christmas day, Donald Trump announced that ...    News   \n",
      "4  Pope Francis used his annual Christmas Day mes...    News   \n",
      "\n",
      "                date  \n",
      "0  December 31, 2017  \n",
      "1  December 31, 2017  \n",
      "2  December 30, 2017  \n",
      "3  December 29, 2017  \n",
      "4  December 25, 2017  \n"
     ]
    }
   ],
   "source": [
    "import numpy as np # linear algebra\n",
    "import pandas as pd # data processing, CSV file I/O (e.g. pd.read_csv)\n",
    "\n",
    "# Read the data into pandas DataFrames\n",
    "DataTrue = pd.read_csv(\"/kaggle/input/fake-and-real-news-dataset/True.csv\")\n",
    "DataFake = pd.read_csv(\"/kaggle/input/fake-and-real-news-dataset/Fake.csv\")\n",
    "\n",
    "print(\"Data labeled as True:\")\n",
    "print(DataTrue.head())\n",
    "print(\"\\n\\n\\nData labeled as Fake:\")\n",
    "print(DataFake.head())"
   ]
  },
  {
   "cell_type": "markdown",
   "metadata": {
    "papermill": {
     "duration": 0.031437,
     "end_time": "2020-10-15T18:32:02.409130",
     "exception": false,
     "start_time": "2020-10-15T18:32:02.377693",
     "status": "completed"
    },
    "tags": []
   },
   "source": [
    "Assemble the two different kinds of data (1000 samples from each of the two classes)"
   ]
  },
  {
   "cell_type": "code",
   "execution_count": 3,
   "metadata": {
    "execution": {
     "iopub.execute_input": "2020-10-15T18:32:02.483609Z",
     "iopub.status.busy": "2020-10-15T18:32:02.482354Z",
     "iopub.status.idle": "2020-10-15T18:32:02.502085Z",
     "shell.execute_reply": "2020-10-15T18:32:02.503034Z"
    },
    "papermill": {
     "duration": 0.062164,
     "end_time": "2020-10-15T18:32:02.503241",
     "exception": false,
     "start_time": "2020-10-15T18:32:02.441077",
     "status": "completed"
    },
    "tags": []
   },
   "outputs": [
    {
     "name": "stdout",
     "output_type": "stream",
     "text": [
      "Length of combined data is:\n",
      "2000\n",
      "Data represented as numpy array (first 5 samples) is:\n",
      "[['Long speech, lots of tea: party meeting with Chinese characteristics'\n",
      "  \" BEIJING (Reuters) - The speech was long, the refreshments austere, but Zhang Weiguo, a Communist Party official from Hubei province in central China, was thrilled.   It was strongly persuasive, infectious, cohesive, and had rally-appeal,  Zhang said after Chinese President and party boss Xi Jinping gave a nearly three-and-a-half hour speech in Beijing s cavernous Great Hall of the People to kick off the 19th Communist Party Congress.   I came out of the auditorium feeling infected, my motivation infinitely enhanced.   The scene is a far cry from a convention of the Democratic or Republican Party in the United States, with their rock concert-like atmosphere, balloons falling from the rafters and raucous cheering crowds.  Instead, most delegates wore conservative business suits, turned pages of the speech in unison, and clapped politely on cue, giving the start of China's most important political event in five years the vibe of an academic conference.  This is party politics with Chinese characteristics. Delegates from China s dozens of ethnic minority groups were required, as always, to wear traditional costumes, often with elaborate headgear - and news photographers swarmed.  An Olympian wore the national team s jacket. Military men and women, as well as police, donned crisp uniforms. All, including Xi, wore red identifications badges.  Entering the Great Hall for the event required airport-level security checks, with x-ray machines and metal detectors. Outside food and drink were not allowed. Journalists, many of whom had queued in the rain since before dawn, were permitted one mobile phone each.  Inside, Xi laid out a vision for a strong and confident China stretching decades into the future. The speech will be the subject of intensive study by party members across the country in coming months and serve as a model for its content and language.  Still, it was a marathon even by Chinese politicians  standards, and some in the audience dozed off.  For those needing a refreshment, uniformed servers standing in order by height poured tea and hot water into Great Hall of the People paper cups outside the main auditorium.  One server who had been present for the 18th Party Congress five years ago said nothing had changed.   Everything s the same. Our service is getting better, though,  he said.  On stage, where the party s powerful Central Committee and former leaders sat, hosts and hostesses periodically marched from the wings in unison to pour fresh steaming water into porcelain mugs. At the two-hour mark, some started taking toilet breaks.  Luo Jialin, a member of the Sichuan province delegation, rushed to the post office at the Great Hall of People and bought five books of congress-themed stamps with the Great Hall postmark for 450 yuan ($68).   They are very commemorative, so I want to bring some back home,  said Luo.  The speech was broadcast live and images of groups of people watching it quickly circulated on social media - doctors at a hospital, Tibetan monks, prisoners in a detention center, and even children in kindergarten. One posting showed a cat sitting in front of a TV broadcasting the speech.  Printed copies of Xi s speech for foreign reporters were produced in 12 languages, including Lao and Portuguese, up from eight five years ago. The Chinese version ran to 68 pages.  Pictures of the seldom-seen 91-year-old former President Jiang Zemin peering at his copy through a chunky magnifying glass flew across the internet.  Later, someone identified Jiang s magnifying glass as German-made and posted a picture of an ad for it on Taobao. Price tag: 1,598 yuan, or about $240.  ($1 = 6.6219 Chinese yuan renminbi)  \"\n",
      "  'worldnews' 'October 18, 2017 ']\n",
      " ['Ukraine president: reforms to get harder as elections approach'\n",
      "  'KIEV (Reuters) - Ukrainian President Petro Poroshenko said at a meeting with businesses on Friday that it will become harder to muster votes in parliament for reformist legislation as elections approach. Ukraine is due to go to the polls by 2019 at the latest. Delays in implementing reforms to modernize the economy and tackle corruption have delayed billions of dollars of aid from the International Monetary Fund and other foreign backers.  '\n",
      "  'worldnews' 'December 1, 2017 ']\n",
      " ['Stalled Russia sanctions bill hits North Korean snag in U.S. Congress'\n",
      "  'WASHINGTON (Reuters) - A bill that many lawmakers hoped would send a message to President Donald Trump to keep a strong line against Russia hit a new snag in the U.S. House of Representatives on Friday, as Republicans proposed combining it with sanctions on North Korea. The Russia sanctions bill passed the Senate on June 15 by 98-2, but it has not come up for a vote in the House. The chamber’s Republican leaders initially said there was a technical problem with how the bill was written, but after the Senate altered the bill to fix it, the measure still did not move. On Friday, Republicans suggested reworking the legislation to add new sanctions on North Korea. The Russia sanctions measure passed by the Senate is part of a broader bill that also includes new sanctions on Iran. House Majority Leader Kevin McCarthy said he wanted the North Korea sanctions added to the bill. “It would be a very strong statement for all of America to get that sanction bill completed and done, and to the president’s desk,” the Republican lawmaker said in the House as it wrapped up its activity for the week.  Democrats rejected the suggestion as another tactic by Republicans supporting White House objections to the bill.  “This isn’t a serious proposal. It’s the latest delay tactic,” said Representative Eliot Engel, the top Democrat on the House Foreign Affairs Committee. The House passed a new package of sanctions on North Korea in May by 419-1, and Senate Foreign Relations Committee Chairman Bob Corker, a Republican, said on Thursday his committee would be taking it up soon.  On Friday, Corker said he would be “more than glad” to consider adding North Korea to the legislation if the House chose to do so. Engel said there was no point in passing North Korea legislation again. The Trump administration objects to a provision in the Russia bill that sets up a process for Congress to approve any effort by the president to ease sanctions on Moscow. Seeking a greater influence in foreign policy, Congress has included provisions in a few recent major bills, starting with Corker’s 2015 legislation forcing congressional review of President Barack Obama’s nuclear deal with Iran. Lawmakers and aides have been negotiating for weeks to try to craft a compromise that would allow the Russia-Iran bill to move forward. On Thursday, they said they thought it could advance soon but on Friday said the North Korea issue made that less likely. [L1N1K42BV] '\n",
      "  'politicsNews' 'July 14, 2017 ']\n",
      " [\"South Africa's ANC calls for nationalizing central bank, land expropriation\"\n",
      "  'JOHANNESBURG (Reuters) - South Africa s ruling African National Congress has adopted a resolution calling for the nationalization of the central bank and land expropriation without compensation, a senior party official said on Wednesday. Any mention of nationalization in South Africa is enough to spook investors, since left-wing elements of the ANC have also called for mines and banks to be state-owned. Similarly, land is an emotive issue two decades after the end of apartheid, and the ANC has been under pressure to redress racial disparities in land ownership. Unlike most central banks in the world, the South African Reserve Bank has been privately owned since it was established in 1921. But its shareholders have no control over monetary policy, financial stability policy or banking regulation. Following a meeting of party delegates, the head of the ANC s economic transformation committee, Enoch Godongwana, told reporters changing the ownership of the South African Reserve Bank would not affect its independence. He said the party had also agreed to initiate amendments to the constitution to achieve land expropriation without compensation, but gave no timeline. He said there would be no illegal occupation of land. Following the proposal made in July by the ANC at a policy conference to nationalize the bank s shareholding, South Africa s Reserve Bank said that changing its shareholding would not affect its mandate, because that mandate is derived from the constitution. Godongwana said no timeline had been laid down for the plan to acquire the central bank s shares or for any directives to parliament to change the country s laws to effect the change.  No change in the constitution, no change in the Reserve Bank Act,  he said.  We ve also said it s not likely to have an impact at all because shareholders in the Reserve Bank do not affect monetary policy in any way.   Godongwana said the changes would come after  more work  was done to prepare for the bank s nationalization. In July, when the party said it would like the central bank to be wholly state-owned, investors were initially worried and knocked the rand.  The currency was little changed on Wednesday immediately after the announcement by Godongwana, but analysts said markets would react negatively.  The SARB resolution will spook the markets even if it is ultimately unlikely to be implemented,  said Anne Fruhauf political analyst with consultancy Teneo. On the land issue, Godongwana said some of the delegates became  rowdy  during the heated debate that  nearly collapsed the conference . ANC officials rejected reports that delegates had come to blows during the debate. Godongwana said the delegates eventually agreed to initiate some amendments to the constitution in order to achieve expropriation of land without compensation.  The condition is that it must be sustainable and not impact on food  production and food security,  he said, adding that there should be no illegal occupation of land. Asked how the markets would react, Godongwana said:  My suspicion is they are going to say  wow  and react badly ... my sense is, if I was the markets, I would simply hold off.  Most of South Africa s land remains in white hands 23 years after the end of white minority rule. Experts say the plan to expropriate land in South Africa will not signal the kind of often violent land grabs that took place in neighboring Zimbabwe, where white-owned farms were seized by the government for redistribution to landless blacks. However, some economists and farming groups have said the reform could hit investment and production. Around 8 million hectares (20 million acres) of land have been transferred to black owners since apartheid ended, equal to 8 to 10 percent of the land in white hands in 1994, the government says. The total is only a third of a 30 percent  target by 2014 set by the ANC. '\n",
      "  'worldnews' 'December 20, 2017 ']\n",
      " [\"Italy's Renzi pledges to hike budget deficit if he wins election\"\n",
      "  'ROME (Reuters) - Former Prime Minister Matteo Renzi said on Thursday that if he wins next year s election he will slash taxes and sharply raise Italy s budget deficit rather than lower it as European Union rules require.  We ll take the deficit back up to 2.9 percent (of gross domestic product), cutting taxes by 30 to 50 billion euros  ($59.14 billion),  Renzi, the leader of the ruling Democratic Party (PD) said in an evening television interview. Italy has committed to cutting its deficit to 1.6 percent of GDP next year from a targeted 2.1 percent this year, and to balance its budget in 2020. Brussels says reining in the annual deficit toward zero is necessary to bring down Italy s huge public debt of 132 percent of GDP, the highest in the euro zone after Greece s. Ahead of the election to be held by May, all the main parties have come out strongly against the EU s so-called  fiscal compact , agreed in 2012, which sets tough deficit and debt-reduction goals for high-debt countries like Italy. Renzi resigned as prime minister in December last year after losing a referendum over his plans for constitutional reform, and was replaced by his former Foreign Minister Paolo Gentiloni. He first floated the idea of hiking the deficit in a book he published in July, but the suggestion drew a cool response from Italian government ministers and the EU. The PD is running neck-and-neck with the anti-establishment 5-Star Movement, according to opinion polls, but the surveys suggest no party or coalition is likely to win a working majority in parliament.   '\n",
      "  'worldnews' 'October 19, 2017 ']]\n"
     ]
    }
   ],
   "source": [
    "Nsamp =1000 # number of samples to generate in each class - 'true', 'fake'\n",
    "DataTrue = DataTrue.sample(Nsamp)\n",
    "DataFake = DataFake.sample(Nsamp)\n",
    "raw_data = pd.concat([DataTrue,DataFake], axis=0).values\n",
    "\n",
    "# combine title, body text and topics into one string per document\n",
    "#raw_data = [sample[0].lower() + sample[1].lower() + sample[3].lower() for sample in raw_data]\n",
    "\n",
    "print(\"Length of combined data is:\")\n",
    "print(len(raw_data))\n",
    "print(\"Data represented as numpy array (first 5 samples) is:\")\n",
    "print(raw_data[:5])\n",
    "\n",
    "# corresponding labels\n",
    "Categories = ['True','False']\n",
    "header = ([1]*Nsamp)\n",
    "header.extend(([0]*Nsamp))"
   ]
  },
  {
   "cell_type": "markdown",
   "metadata": {
    "papermill": {
     "duration": 0.032366,
     "end_time": "2020-10-15T18:32:02.569731",
     "exception": false,
     "start_time": "2020-10-15T18:32:02.537365",
     "status": "completed"
    },
    "tags": []
   },
   "source": [
    "Shuffle data, split into train and test sets..."
   ]
  },
  {
   "cell_type": "code",
   "execution_count": 4,
   "metadata": {
    "execution": {
     "iopub.execute_input": "2020-10-15T18:32:02.645959Z",
     "iopub.status.busy": "2020-10-15T18:32:02.644401Z",
     "iopub.status.idle": "2020-10-15T18:32:02.654023Z",
     "shell.execute_reply": "2020-10-15T18:32:02.653274Z"
    },
    "papermill": {
     "duration": 0.052,
     "end_time": "2020-10-15T18:32:02.654141",
     "exception": false,
     "start_time": "2020-10-15T18:32:02.602141",
     "status": "completed"
    },
    "tags": []
   },
   "outputs": [
    {
     "name": "stdout",
     "output_type": "stream",
     "text": [
      "train_x/train_y list details, to make sure it is of the right form:\n",
      "1400\n",
      "[1 1 0 1 1]\n",
      "(1400,)\n"
     ]
    }
   ],
   "source": [
    "# function for shuffling data\n",
    "def unison_shuffle(a, b):\n",
    "    p = np.random.permutation(len(b))\n",
    "    data = np.asarray(a)[p]\n",
    "    header = np.asarray(b)[p]\n",
    "    return data, header\n",
    "\n",
    "raw_data, header = unison_shuffle(raw_data, header)\n",
    "\n",
    "# split into independent 70% training and 30% testing sets\n",
    "idx = int(0.7*raw_data.shape[0])\n",
    "\n",
    "# 70% of data for training\n",
    "train_x = raw_data[:idx]\n",
    "train_y = header[:idx]\n",
    "# remaining 30% for testing\n",
    "test_x = raw_data[idx:]\n",
    "test_y = header[idx:]\n",
    "\n",
    "print(\"train_x/train_y list details, to make sure it is of the right form:\")\n",
    "print(len(train_x))\n",
    "#print(train_x)\n",
    "print(train_y[:5])\n",
    "print(train_y.shape)"
   ]
  },
  {
   "cell_type": "markdown",
   "metadata": {
    "papermill": {
     "duration": 0.032823,
     "end_time": "2020-10-15T18:32:02.719161",
     "exception": false,
     "start_time": "2020-10-15T18:32:02.686338",
     "status": "completed"
    },
    "tags": []
   },
   "source": [
    "# ULMFiT Experiments\n",
    "\n",
    "Import the fast.ai library, written by the ULMFiT authors"
   ]
  },
  {
   "cell_type": "code",
   "execution_count": 5,
   "metadata": {
    "execution": {
     "iopub.execute_input": "2020-10-15T18:32:02.790401Z",
     "iopub.status.busy": "2020-10-15T18:32:02.789538Z",
     "iopub.status.idle": "2020-10-15T18:32:07.322901Z",
     "shell.execute_reply": "2020-10-15T18:32:07.321701Z"
    },
    "papermill": {
     "duration": 4.571167,
     "end_time": "2020-10-15T18:32:07.323034",
     "exception": false,
     "start_time": "2020-10-15T18:32:02.751867",
     "status": "completed"
    },
    "tags": []
   },
   "outputs": [],
   "source": [
    "from fastai.text import *"
   ]
  },
  {
   "cell_type": "markdown",
   "metadata": {
    "papermill": {
     "duration": 0.033366,
     "end_time": "2020-10-15T18:32:07.390159",
     "exception": false,
     "start_time": "2020-10-15T18:32:07.356793",
     "status": "completed"
    },
    "tags": []
   },
   "source": [
    "## Data Bunch Class for Language Model/Task Classifier Consumption"
   ]
  },
  {
   "cell_type": "markdown",
   "metadata": {
    "papermill": {
     "duration": 0.033461,
     "end_time": "2020-10-15T18:32:07.457848",
     "exception": false,
     "start_time": "2020-10-15T18:32:07.424387",
     "status": "completed"
    },
    "tags": []
   },
   "source": [
    "We prepare train and test/validation dataframes first."
   ]
  },
  {
   "cell_type": "code",
   "execution_count": 6,
   "metadata": {
    "execution": {
     "iopub.execute_input": "2020-10-15T18:32:07.566752Z",
     "iopub.status.busy": "2020-10-15T18:32:07.556442Z",
     "iopub.status.idle": "2020-10-15T18:32:07.759034Z",
     "shell.execute_reply": "2020-10-15T18:32:07.759570Z"
    },
    "papermill": {
     "duration": 0.268648,
     "end_time": "2020-10-15T18:32:07.759757",
     "exception": false,
     "start_time": "2020-10-15T18:32:07.491109",
     "status": "completed"
    },
    "tags": []
   },
   "outputs": [],
   "source": [
    "train_df = pd.DataFrame(data=[train_y,train_x]).T\n",
    "test_df = pd.DataFrame(data=[test_y,test_x]).T"
   ]
  },
  {
   "cell_type": "markdown",
   "metadata": {
    "papermill": {
     "duration": 0.033401,
     "end_time": "2020-10-15T18:32:07.826658",
     "exception": false,
     "start_time": "2020-10-15T18:32:07.793257",
     "status": "completed"
    },
    "tags": []
   },
   "source": [
    "Check their shape:"
   ]
  },
  {
   "cell_type": "code",
   "execution_count": 7,
   "metadata": {
    "execution": {
     "iopub.execute_input": "2020-10-15T18:32:07.900143Z",
     "iopub.status.busy": "2020-10-15T18:32:07.899119Z",
     "iopub.status.idle": "2020-10-15T18:32:07.903131Z",
     "shell.execute_reply": "2020-10-15T18:32:07.903742Z"
    },
    "papermill": {
     "duration": 0.044273,
     "end_time": "2020-10-15T18:32:07.903887",
     "exception": false,
     "start_time": "2020-10-15T18:32:07.859614",
     "status": "completed"
    },
    "tags": []
   },
   "outputs": [
    {
     "data": {
      "text/plain": [
       "(600, 2)"
      ]
     },
     "execution_count": 7,
     "metadata": {},
     "output_type": "execute_result"
    }
   ],
   "source": [
    "train_df.shape\n",
    "test_df.shape"
   ]
  },
  {
   "cell_type": "markdown",
   "metadata": {
    "papermill": {
     "duration": 0.033742,
     "end_time": "2020-10-15T18:32:07.971543",
     "exception": false,
     "start_time": "2020-10-15T18:32:07.937801",
     "status": "completed"
    },
    "tags": []
   },
   "source": [
    "Data in fast.ai is consumed using the *TextLMDataBunch* class. Construct an instance of this class for language model consumption."
   ]
  },
  {
   "cell_type": "code",
   "execution_count": 8,
   "metadata": {
    "execution": {
     "iopub.execute_input": "2020-10-15T18:32:08.069730Z",
     "iopub.status.busy": "2020-10-15T18:32:08.068612Z",
     "iopub.status.idle": "2020-10-15T18:32:20.373515Z",
     "shell.execute_reply": "2020-10-15T18:32:20.372932Z"
    },
    "papermill": {
     "duration": 12.361983,
     "end_time": "2020-10-15T18:32:20.373663",
     "exception": false,
     "start_time": "2020-10-15T18:32:08.011680",
     "status": "completed"
    },
    "tags": []
   },
   "outputs": [
    {
     "data": {
      "text/html": [],
      "text/plain": [
       "<IPython.core.display.HTML object>"
      ]
     },
     "metadata": {},
     "output_type": "display_data"
    },
    {
     "data": {
      "text/html": [],
      "text/plain": [
       "<IPython.core.display.HTML object>"
      ]
     },
     "metadata": {},
     "output_type": "display_data"
    }
   ],
   "source": [
    "data_lm = TextLMDataBunch.from_df(train_df = train_df, valid_df = test_df, path = \"\")"
   ]
  },
  {
   "cell_type": "markdown",
   "metadata": {
    "papermill": {
     "duration": 0.035949,
     "end_time": "2020-10-15T18:32:20.445128",
     "exception": false,
     "start_time": "2020-10-15T18:32:20.409179",
     "status": "completed"
    },
    "tags": []
   },
   "source": [
    "Construct an instance of this object for task-specific classifier consumption."
   ]
  },
  {
   "cell_type": "code",
   "execution_count": 9,
   "metadata": {
    "execution": {
     "iopub.execute_input": "2020-10-15T18:32:20.560923Z",
     "iopub.status.busy": "2020-10-15T18:32:20.555845Z",
     "iopub.status.idle": "2020-10-15T18:32:34.110066Z",
     "shell.execute_reply": "2020-10-15T18:32:34.108924Z"
    },
    "papermill": {
     "duration": 13.629246,
     "end_time": "2020-10-15T18:32:34.110202",
     "exception": false,
     "start_time": "2020-10-15T18:32:20.480956",
     "status": "completed"
    },
    "tags": []
   },
   "outputs": [
    {
     "data": {
      "text/html": [],
      "text/plain": [
       "<IPython.core.display.HTML object>"
      ]
     },
     "metadata": {},
     "output_type": "display_data"
    },
    {
     "data": {
      "text/html": [],
      "text/plain": [
       "<IPython.core.display.HTML object>"
      ]
     },
     "metadata": {},
     "output_type": "display_data"
    }
   ],
   "source": [
    "data_clas = TextClasDataBunch.from_df(path = \"\", train_df = train_df, valid_df = test_df, vocab=data_lm.train_ds.vocab, bs=32)"
   ]
  },
  {
   "cell_type": "markdown",
   "metadata": {
    "papermill": {
     "duration": 0.036553,
     "end_time": "2020-10-15T18:32:34.183696",
     "exception": false,
     "start_time": "2020-10-15T18:32:34.147143",
     "status": "completed"
    },
    "tags": []
   },
   "source": [
    "## Fine-Tune Language Model\n",
    "\n",
    "In ULMFiT, language models are trained using the *language_model_learner* class. \n",
    "\n",
    "We initialize an instance of this class, opting to go with ASGD Weight-Dropped LSTM (AWD_LSTM) model architecture. This is just the usual LSTM with some weights randomly set to 0, analogously to what is done to activations in Dropout layers. More info can be found here - https://docs.fast.ai/text.models.awdlstm"
   ]
  },
  {
   "cell_type": "code",
   "execution_count": 10,
   "metadata": {
    "execution": {
     "iopub.execute_input": "2020-10-15T18:32:34.266134Z",
     "iopub.status.busy": "2020-10-15T18:32:34.265233Z",
     "iopub.status.idle": "2020-10-15T18:32:44.374576Z",
     "shell.execute_reply": "2020-10-15T18:32:44.375548Z"
    },
    "papermill": {
     "duration": 10.155212,
     "end_time": "2020-10-15T18:32:44.375786",
     "exception": false,
     "start_time": "2020-10-15T18:32:34.220574",
     "status": "completed"
    },
    "tags": []
   },
   "outputs": [
    {
     "name": "stdout",
     "output_type": "stream",
     "text": [
      "Downloading https://s3.amazonaws.com/fast-ai-modelzoo/wt103-fwd.tgz\n"
     ]
    },
    {
     "data": {
      "text/html": [],
      "text/plain": [
       "<IPython.core.display.HTML object>"
      ]
     },
     "metadata": {},
     "output_type": "display_data"
    }
   ],
   "source": [
    "learn = language_model_learner(data_lm, AWD_LSTM, drop_mult=0.3)"
   ]
  },
  {
   "cell_type": "markdown",
   "metadata": {
    "papermill": {
     "duration": 0.052144,
     "end_time": "2020-10-15T18:32:44.481708",
     "exception": false,
     "start_time": "2020-10-15T18:32:44.429564",
     "status": "completed"
    },
    "tags": []
   },
   "source": [
    "Note that the initialization of this model also loads weights pretrained on the Wikitext 103 benchmark dataset (The WikiText Long Term Dependency Language Modeling Dataset - https://www.salesforce.com/products/einstein/ai-research/the-wikitext-dependency-language-modeling-dataset/). You can see the execution log above for confirmation of this. \n",
    "\n",
    "We can find a suggested maximum learning rate using the following commands. Instead of selecting the lowest point on the curve, note that the chosen point is where the curve is changing the fastest."
   ]
  },
  {
   "cell_type": "code",
   "execution_count": 11,
   "metadata": {
    "execution": {
     "iopub.execute_input": "2020-10-15T18:32:44.598618Z",
     "iopub.status.busy": "2020-10-15T18:32:44.597800Z",
     "iopub.status.idle": "2020-10-15T18:32:58.696355Z",
     "shell.execute_reply": "2020-10-15T18:32:58.695753Z"
    },
    "papermill": {
     "duration": 14.160259,
     "end_time": "2020-10-15T18:32:58.696483",
     "exception": false,
     "start_time": "2020-10-15T18:32:44.536224",
     "status": "completed"
    },
    "tags": []
   },
   "outputs": [
    {
     "data": {
      "text/html": [
       "\n",
       "    <div>\n",
       "        <style>\n",
       "            /* Turns off some styling */\n",
       "            progress {\n",
       "                /* gets rid of default border in Firefox and Opera. */\n",
       "                border: none;\n",
       "                /* Needs to be in here for Safari polyfill so background images work as expected. */\n",
       "                background-size: auto;\n",
       "            }\n",
       "            .progress-bar-interrupted, .progress-bar-interrupted::-webkit-progress-bar {\n",
       "                background: #F44336;\n",
       "            }\n",
       "        </style>\n",
       "      <progress value='0' class='' max='1' style='width:300px; height:20px; vertical-align: middle;'></progress>\n",
       "      0.00% [0/1 00:00<00:00]\n",
       "    </div>\n",
       "    \n",
       "<table border=\"1\" class=\"dataframe\">\n",
       "  <thead>\n",
       "    <tr style=\"text-align: left;\">\n",
       "      <th>epoch</th>\n",
       "      <th>train_loss</th>\n",
       "      <th>valid_loss</th>\n",
       "      <th>accuracy</th>\n",
       "      <th>time</th>\n",
       "    </tr>\n",
       "  </thead>\n",
       "  <tbody>\n",
       "  </tbody>\n",
       "</table><p>\n",
       "\n",
       "    <div>\n",
       "        <style>\n",
       "            /* Turns off some styling */\n",
       "            progress {\n",
       "                /* gets rid of default border in Firefox and Opera. */\n",
       "                border: none;\n",
       "                /* Needs to be in here for Safari polyfill so background images work as expected. */\n",
       "                background-size: auto;\n",
       "            }\n",
       "            .progress-bar-interrupted, .progress-bar-interrupted::-webkit-progress-bar {\n",
       "                background: #F44336;\n",
       "            }\n",
       "        </style>\n",
       "      <progress value='99' class='' max='185' style='width:300px; height:20px; vertical-align: middle;'></progress>\n",
       "      53.51% [99/185 00:13<00:11 11.0412]\n",
       "    </div>\n",
       "    "
      ],
      "text/plain": [
       "<IPython.core.display.HTML object>"
      ]
     },
     "metadata": {},
     "output_type": "display_data"
    },
    {
     "name": "stdout",
     "output_type": "stream",
     "text": [
      "LR Finder is complete, type {learner_name}.recorder.plot() to see the graph.\n",
      "Min numerical gradient: 3.98E-02\n",
      "Min loss divided by 10: 1.00E-02\n"
     ]
    },
    {
     "data": {
      "image/png": "[encoded data removed]",
      "text/plain": [
       "<Figure size 432x288 with 1 Axes>"
      ]
     },
     "metadata": {
      "needs_background": "light"
     },
     "output_type": "display_data"
    }
   ],
   "source": [
    "learn.lr_find() # find best rate\n",
    "learn.recorder.plot(suggestion=True) # plot it"
   ]
  },
  {
   "cell_type": "markdown",
   "metadata": {
    "papermill": {
     "duration": 0.044218,
     "end_time": "2020-10-15T18:32:58.785339",
     "exception": false,
     "start_time": "2020-10-15T18:32:58.741121",
     "status": "completed"
    },
    "tags": []
   },
   "source": [
    "Fetch the optimal rate as follows."
   ]
  },
  {
   "cell_type": "code",
   "execution_count": 12,
   "metadata": {
    "execution": {
     "iopub.execute_input": "2020-10-15T18:32:58.902034Z",
     "iopub.status.busy": "2020-10-15T18:32:58.900019Z",
     "iopub.status.idle": "2020-10-15T18:32:58.912884Z",
     "shell.execute_reply": "2020-10-15T18:32:58.914261Z"
    },
    "papermill": {
     "duration": 0.070588,
     "end_time": "2020-10-15T18:32:58.914472",
     "exception": false,
     "start_time": "2020-10-15T18:32:58.843884",
     "status": "completed"
    },
    "tags": []
   },
   "outputs": [
    {
     "name": "stdout",
     "output_type": "stream",
     "text": [
      "0.03981071705534969\n"
     ]
    }
   ],
   "source": [
    "rate = learn.recorder.min_grad_lr\n",
    "print(rate)"
   ]
  },
  {
   "cell_type": "markdown",
   "metadata": {
    "papermill": {
     "duration": 0.066213,
     "end_time": "2020-10-15T18:32:59.076968",
     "exception": false,
     "start_time": "2020-10-15T18:32:59.010755",
     "status": "completed"
    },
    "tags": []
   },
   "source": [
    "We fine-tune using slanted trangular learning rates, which are already built into the *fit_one_cycle()* method in fast.ai"
   ]
  },
  {
   "cell_type": "code",
   "execution_count": 13,
   "metadata": {
    "execution": {
     "iopub.execute_input": "2020-10-15T18:32:59.214164Z",
     "iopub.status.busy": "2020-10-15T18:32:59.213163Z",
     "iopub.status.idle": "2020-10-15T18:33:25.717539Z",
     "shell.execute_reply": "2020-10-15T18:33:25.716928Z"
    },
    "papermill": {
     "duration": 26.578873,
     "end_time": "2020-10-15T18:33:25.717708",
     "exception": false,
     "start_time": "2020-10-15T18:32:59.138835",
     "status": "completed"
    },
    "tags": []
   },
   "outputs": [
    {
     "data": {
      "text/html": [
       "<table border=\"1\" class=\"dataframe\">\n",
       "  <thead>\n",
       "    <tr style=\"text-align: left;\">\n",
       "      <th>epoch</th>\n",
       "      <th>train_loss</th>\n",
       "      <th>valid_loss</th>\n",
       "      <th>accuracy</th>\n",
       "      <th>time</th>\n",
       "    </tr>\n",
       "  </thead>\n",
       "  <tbody>\n",
       "    <tr>\n",
       "      <td>0</td>\n",
       "      <td>4.160126</td>\n",
       "      <td>3.791854</td>\n",
       "      <td>0.334833</td>\n",
       "      <td>00:26</td>\n",
       "    </tr>\n",
       "  </tbody>\n",
       "</table>"
      ],
      "text/plain": [
       "<IPython.core.display.HTML object>"
      ]
     },
     "metadata": {},
     "output_type": "display_data"
    }
   ],
   "source": [
    "learn.fit_one_cycle(1, rate)"
   ]
  },
  {
   "cell_type": "markdown",
   "metadata": {
    "papermill": {
     "duration": 0.040976,
     "end_time": "2020-10-15T18:33:25.800676",
     "exception": false,
     "start_time": "2020-10-15T18:33:25.759700",
     "status": "completed"
    },
    "tags": []
   },
   "source": [
    "### Discriminative Fine-Tuning\n",
    "\n",
    "The call *learn.unfreeze()* makes all the layers trainable. We can use the *slice()* function to train the last layer at a specified rate, while the layers below will have reducing learning rates. We set the lower bound of the range at two orders of magnitude smaller, i.e., divide the maximum rate by 100."
   ]
  },
  {
   "cell_type": "code",
   "execution_count": 14,
   "metadata": {
    "execution": {
     "iopub.execute_input": "2020-10-15T18:33:25.890646Z",
     "iopub.status.busy": "2020-10-15T18:33:25.889633Z",
     "iopub.status.idle": "2020-10-15T18:33:25.893649Z",
     "shell.execute_reply": "2020-10-15T18:33:25.894280Z"
    },
    "papermill": {
     "duration": 0.051034,
     "end_time": "2020-10-15T18:33:25.894439",
     "exception": false,
     "start_time": "2020-10-15T18:33:25.843405",
     "status": "completed"
    },
    "tags": []
   },
   "outputs": [],
   "source": [
    "learn.unfreeze()"
   ]
  },
  {
   "cell_type": "code",
   "execution_count": 15,
   "metadata": {
    "execution": {
     "iopub.execute_input": "2020-10-15T18:33:25.985982Z",
     "iopub.status.busy": "2020-10-15T18:33:25.984747Z",
     "iopub.status.idle": "2020-10-15T18:33:57.953155Z",
     "shell.execute_reply": "2020-10-15T18:33:57.953690Z"
    },
    "papermill": {
     "duration": 32.017464,
     "end_time": "2020-10-15T18:33:57.953850",
     "exception": false,
     "start_time": "2020-10-15T18:33:25.936386",
     "status": "completed"
    },
    "tags": []
   },
   "outputs": [
    {
     "data": {
      "text/html": [
       "<table border=\"1\" class=\"dataframe\">\n",
       "  <thead>\n",
       "    <tr style=\"text-align: left;\">\n",
       "      <th>epoch</th>\n",
       "      <th>train_loss</th>\n",
       "      <th>valid_loss</th>\n",
       "      <th>accuracy</th>\n",
       "      <th>time</th>\n",
       "    </tr>\n",
       "  </thead>\n",
       "  <tbody>\n",
       "    <tr>\n",
       "      <td>0</td>\n",
       "      <td>3.787332</td>\n",
       "      <td>3.654399</td>\n",
       "      <td>0.353093</td>\n",
       "      <td>00:31</td>\n",
       "    </tr>\n",
       "  </tbody>\n",
       "</table>"
      ],
      "text/plain": [
       "<IPython.core.display.HTML object>"
      ]
     },
     "metadata": {},
     "output_type": "display_data"
    }
   ],
   "source": [
    "learn.fit_one_cycle(1, slice(rate/100,rate))"
   ]
  },
  {
   "cell_type": "markdown",
   "metadata": {
    "papermill": {
     "duration": 0.043673,
     "end_time": "2020-10-15T18:33:58.048968",
     "exception": false,
     "start_time": "2020-10-15T18:33:58.005295",
     "status": "completed"
    },
    "tags": []
   },
   "source": [
    "As you can see, the accuracy slightly increased!\n",
    "\n",
    "We can use the resulting language model to predict some words in a sequence using the following command (predicts next 10 words)"
   ]
  },
  {
   "cell_type": "code",
   "execution_count": 16,
   "metadata": {
    "execution": {
     "iopub.execute_input": "2020-10-15T18:33:58.139859Z",
     "iopub.status.busy": "2020-10-15T18:33:58.138864Z",
     "iopub.status.idle": "2020-10-15T18:33:58.621618Z",
     "shell.execute_reply": "2020-10-15T18:33:58.622162Z"
    },
    "papermill": {
     "duration": 0.531551,
     "end_time": "2020-10-15T18:33:58.622319",
     "exception": false,
     "start_time": "2020-10-15T18:33:58.090768",
     "status": "completed"
    },
    "tags": []
   },
   "outputs": [
    {
     "data": {
      "text/plain": [
       "'This is a news article about Trump s staffers who visit the White'"
      ]
     },
     "execution_count": 16,
     "metadata": {},
     "output_type": "execute_result"
    }
   ],
   "source": [
    "learn.predict(\"This is a news article about\", n_words=10)"
   ]
  },
  {
   "cell_type": "markdown",
   "metadata": {
    "papermill": {
     "duration": 0.042456,
     "end_time": "2020-10-15T18:33:58.708220",
     "exception": false,
     "start_time": "2020-10-15T18:33:58.665764",
     "status": "completed"
    },
    "tags": []
   },
   "source": [
    "Plausible!\n",
    "\n",
    "Save the fine-tuned language model!"
   ]
  },
  {
   "cell_type": "code",
   "execution_count": 17,
   "metadata": {
    "execution": {
     "iopub.execute_input": "2020-10-15T18:33:58.799527Z",
     "iopub.status.busy": "2020-10-15T18:33:58.798502Z",
     "iopub.status.idle": "2020-10-15T18:33:58.915566Z",
     "shell.execute_reply": "2020-10-15T18:33:58.914916Z"
    },
    "papermill": {
     "duration": 0.164211,
     "end_time": "2020-10-15T18:33:58.915722",
     "exception": false,
     "start_time": "2020-10-15T18:33:58.751511",
     "status": "completed"
    },
    "tags": []
   },
   "outputs": [],
   "source": [
    "learn.save_encoder('fine-tuned_language_model')"
   ]
  },
  {
   "cell_type": "markdown",
   "metadata": {
    "papermill": {
     "duration": 0.043359,
     "end_time": "2020-10-15T18:33:59.002801",
     "exception": false,
     "start_time": "2020-10-15T18:33:58.959442",
     "status": "completed"
    },
    "tags": []
   },
   "source": [
    "## Target Task Classifier Fine-tuning\n",
    "\n",
    "In ULMFiT, target task classifier fine-tuning is carried out using the *text_classifier_learner* class. Recall that the target task here is predicting whether a given article is \"fake news\" or not.\n",
    "\n",
    "We instantiate it below, using the same settings as the language model we fine-tuned above, so we can load that fine-tuned model without issues. We also load the fine-tuned language model into the instance below."
   ]
  },
  {
   "cell_type": "code",
   "execution_count": 18,
   "metadata": {
    "execution": {
     "iopub.execute_input": "2020-10-15T18:33:59.114458Z",
     "iopub.status.busy": "2020-10-15T18:33:59.113529Z",
     "iopub.status.idle": "2020-10-15T18:33:59.931819Z",
     "shell.execute_reply": "2020-10-15T18:33:59.932408Z"
    },
    "papermill": {
     "duration": 0.873204,
     "end_time": "2020-10-15T18:33:59.932561",
     "exception": false,
     "start_time": "2020-10-15T18:33:59.059357",
     "status": "completed"
    },
    "tags": []
   },
   "outputs": [
    {
     "data": {
      "text/plain": [
       "RNNLearner(data=TextClasDataBunch;\n",
       "\n",
       "Train: LabelList (1400 items)\n",
       "x: TextList\n",
       "xxbos [ ' xxmaj syrian army seizes oilfield from xxmaj islamic xxmaj state in east : state xxup tv ' \n",
       "  ' xxup beirut ( xxmaj reuters ) - xxmaj the xxmaj syrian army and its allies recaptured an oilfield from xxmaj islamic xxmaj state near the eastern city of xxmaj deir al - xxmaj zor on xxmaj saturday in further advances against the militants , state xxup tv reported . xxmaj government forces also seized part of a main highway running from xxmaj deir al - xxmaj zor down to the city of al - xxmaj mayadeen , to which many xxmaj islamic xxmaj state militants have retreated , the xxmaj syrian xxmaj observatory for xxmaj human xxmaj rights monitoring group said . xxmaj the xxmaj syrian army this week broke through xxmaj islamic xxmaj state lines to reach a government - held enclave of xxmaj deir al - xxmaj zor besieged for years by the jihadists , and is fighting to reach a nearby air base which xxup is still surrounds . xxmaj on xxmaj saturday , the army and militias fighting alongside it seized the xxmaj teym oilfield in desert south of xxmaj deir al - xxmaj zor , state xxup tv said . xxmaj deir al - xxmaj zor is in an oil - rich area of xxmaj syria . xxmaj to the east of xxmaj teym and south of the air base , government forces also recaptured part of the main road running from xxmaj deir al - xxmaj zor to al - xxmaj mayadeen , downstream along the xxmaj euphrates river and closer to the xxmaj iraq border , the xxmaj observatory reported . xxmaj the xxmaj british - based monitoring group said that advance would block potential xxmaj islamic xxmaj state reinforcements from al - xxmaj mayadeen . xxmaj the advances put yet more pressure on xxmaj islamic xxmaj state s shrinking caliphate , which once stretched across northern and eastern xxmaj syria , and northwestern xxmaj iraq . xxmaj in xxmaj syria , the group holds much of xxmaj deir al - xxmaj zor province and half the city , as well as a pocket of territory near xxmaj hama and xxmaj homs in the west of the country . ' \n",
       "  ' worldnews ' ' xxmaj september 9 , 2017 ' ],xxbos [ ' xxmaj from nursery to university : xxmaj emerging market investors buy into education ' \n",
       "  ' xxup london ( xxmaj reuters ) - xxmaj two decades after xxmaj xxunk xxmaj karodia launched xxmaj mancosa , a distance learning school to teach xxmaj south xxmaj africans business skills , he sold up to xxup uk private equity firm xxmaj actis . xxmaj from xxunk to exam tutoring and adult education , teaching businesses are xxunk as populations rise and cash - strapped governments fail to keep up with demand . xxmaj with 263 million children out of school worldwide , according to 2014 data from the xxmaj united xxmaj nations , investors are keen to access a growing sector with few publicly - listed companies . xxmaj karodia said xxmaj actis was one of a stream of interested private investors . xxmaj we had about an xxunk a week to partner with someone , he told xxmaj reuters . xxmaj mancosa is now part of xxmaj actis s expanding higher education portfolio in xxmaj africa . xxmaj it has spent $ 275 million since 2014 , investing in education institutes across the continent which it groups under the brand name xxmaj honoris xxmaj universities and plans to list on a stock market in the next two to three years . xxmaj karodia , who will also get a stake in xxmaj honoris , says there is huge demand for education in xxmaj africa . xxmaj quality education - especially coming from the private sector - is going to play an ever increasingly important role , he said . xxmaj the xxmaj international xxmaj commission on xxmaj financing xxmaj global xxmaj education xxmaj opportunity estimates that international financing for education in xxunk and middle - income countries will need to increase from today s estimated $ 16 billion per year to $ 89 billion by 2030 . xxmaj xxunk xxmaj carlos is a xxunk old final year finance student at the xxmaj xxunk xxmaj college in xxmaj cape xxmaj town , owned by xxmaj johannesburg - listed xxunk xxmaj group . xxmaj carlos missed out on a place at a state university . xxmaj its not that my parents had the money but they really wanted a better life for me . xxmaj they didn t want me to sit at home looking for job when i might not even find one , she said . xxmaj the degree is worth it in the end xxmaj investors are keen for a xxunk of the market because the fee - paying structure guarantees a regular income stream . xxmaj the sector is also relatively xxunk to economic ups and downs as parents increasingly prioritize their children s education . xxmaj it goes with the whole consumer spending ( trend ) in emerging markets , and as income levels rise and there is more xxunk income available what you re seeing is the population is looking to spend in areas such as education , said xxmaj patricia xxmaj xxunk , an equity portfolio manager at xxmaj american xxmaj century xxmaj investments . xxmaj carlos paid a deposit of 25,000 rand ( $ xxunk ) . xxmaj if you pay up front the total is xxunk rand but the monthly payments that she has chosen bring the total to about 90,000 rand for one year s tuition . xxmaj the sector is dominated by private equity players . xxup msci s emerging equity index contains only three education stocks - xxmaj new xxmaj york - listed xxmaj chinese firms xxup tal and xxmaj new xxmaj oriental xxmaj education and xxmaj brazil s xxmaj kroton . xxmaj morgan xxmaj stanley describes shares in xxmaj chinese education operators as attractive . xxmaj china s education market catering for children from nursery to end of secondary school will grow 8 percent annually to become a 3 trillion yuan ( $ 460 billion ) market in 2020 , the bank told clients . xxmaj recent regulatory changes are set to benefit private tutoring firms , many of which prepare high - school pupils for university . xxup tal said in xxmaj july that student xxunk was up more than 60 percent year - on - year , with a matching rise in revenue . xxmaj its stock has soared 180 percent since xxmaj january . xxmaj new xxmaj oriental xxmaj education projects revenue growth of as much as 24 percent in the three months to end - xxmaj august . xxmaj its shares are up 114 percent since the start of 2017 . xxmaj china is very exam - driven from kindergarten on and they are competing more and more with xxup u.s. schools , said xxmaj sandra xxmaj xxunk - xxmaj xxunk , senior portfolio manager for emerging markets at xxup xxunk . xxmaj if anyone thinks it s tough to get into xxup u.s. universities they should look at the top xxmaj chinese universities xxrep 4 . the growth you could see is explosive growth . xxmaj xxunk are soaring , possibly because fund managers are chasing too few companies . xxup tal s price - to - earnings ( p / e ) ratio is nearly 130 , while xxmaj new xxmaj oriental xxmaj education xxunk around 50 . xxmaj in contrast , xxup msci s emerging equity index trades at a p / e of around 12 . xxmaj if you look at xxup pe historically or if you look at xxup pe this year , they look very expensive , xxmaj julian xxmaj xxunk , portfolio manager at xxmaj xxunk xxmaj capital . xxmaj brazil became another destination for those seeking exposure to education stocks after 2009 when the government boosted loan programs for students attending for - profit colleges . xxmaj one of the main beneficiaries was xxmaj brazil s largest for - profit college operator xxmaj kroton xxmaj xxunk . xxmaj while the recent recession in xxmaj latin xxmaj america s biggest economy led to a fall in student loans , the biggest companies are already well - established , fund managers said . xxmaj results published last month showed revenue growing near double - digits on the quarter , with gross margins well above 70 percent . xxmaj kroton s stock has risen more than 50 percent since the start of the year . xxmaj the xxmaj gulf region also offers opportunities . xxmaj kuwait - based xxunk , which establishes and manages private universities and colleges listed in 2005 . xxmaj united xxmaj arab xxmaj emirates - based xxup gems xxmaj education , which operates more than 250 schools across 14 countries and counts xxmaj blackstone among its stakeholders , has indicated plans to list . xxmaj in xxmaj africa , many governments want more private investors in education but they are approaching it cautiously . xxmaj they want regulations in place to ensure the quality is high . xxmaj xxunk xxmaj xxunk - xxmaj xxunk , xxmaj minister of xxmaj international xxmaj affairs and xxmaj cooperation in xxmaj botswana said some young people had left private universities with certificates that opened no doors . xxmaj she said it was difficult to make sure the people who are investing in education are not fraudsters , what we are finding is that some people are not there to deliver quality education . xxmaj we learned this very badly ourselves ... but now people come in and invest , and this is taking a huge load off the government , she said . ' \n",
       "  ' worldnews ' ' xxmaj september 24 , 2017 ' ],xxbos [ ' xxup you’re xxup fired ! xxup mitt xxup romney xxup ’s xxup niece xxmaj tells xxup mi xxup gop xxmaj grassroots xxmaj chair xxmaj and xxmaj former xxmaj ted xxmaj cruz xxmaj state xxmaj director … xxmaj get xxmaj behind xxmaj trump xxmaj or xxmaj get xxmaj lost ' \n",
       "  ' xxmaj some of the most divisive , partisan politics can be found within the xxmaj republican party itself . xxmaj the media is in collusion with the xxmaj democrats who are unanimously supporting woman who should ve been in prison decades ago . xxmaj every day a new revelation is made about the criminality of xxmaj hillary xxmaj clinton and those who surround her . xxmaj meanwhile , we ve got people like xxup mi xxmaj grassroots xxmaj vice xxmaj chair xxmaj wendy xxmaj day talking about voting her conscience . xxmaj guess what xxmaj wendy the next 3 or 4 leftist xxmaj supreme xxmaj court xxmaj justices won t care about your conscience xxmaj wendy xxmaj day , a grassroots vice chair with the xxmaj michigan xxmaj republican xxmaj party , recently announced that she is unable to endorse xxmaj republican xxmaj donald xxmaj trump for president a decision that has cost her the position with the state party . xxmaj michigan xxmaj republican xxmaj party xxmaj grassroots xxmaj vice xxmaj chair xxmaj wendy xxmaj day was removed from her office on xxmaj monday after voicing opposition to xxmaj republican xxmaj presidential xxmaj nominee xxmaj donald xxmaj trump . xxmaj michigan xxmaj republican xxmaj party xxmaj chair xxmaj xxunk xxmaj romney mcdaniel on xxmaj monday responded by declaring the seat vacant . xxmaj day occupied one of just 12 positions in the party that required xxunk to support nominees chosen by the voters , xxmaj romney - mcdaniel said in an email to xxmaj state xxmaj committee members on xxmaj monday . xxmaj upon seeking advice from our legal counsel , and recognizing that our xxmaj grassroots xxmaj vice xxmaj chair is unable to fulfill the duties of her office , i am declaring the position of xxmaj grassroots xxmaj vice xxmaj chair vacant , xxmaj romney mcdaniel said . xxmaj this has been one of the more difficult decisions i have made as xxmaj chair . xxmaj wendy is my friend , xxmaj romney mcdaniel added . i want to thank xxmaj wendy for her service and leadership to our party and know that she will continue to be a strong leader in the xxmaj republican xxmaj party . xxmaj in coming to this decision , i applied the rule as if the nominee were xxmaj mitt xxmaj romney , xxmaj john mccain , xxmaj rick xxmaj snyder , or any other xxmaj republican xxmaj party nominee . xxmaj romney mcdaniel had offered day the chance to support xxmaj trump or step down , but xxmaj day declined to resign in letter to xxmaj romney mcdaniel posted publicly on social media earlier xxmaj monday . xxmaj in the letter xxmaj day said she sees her decision to not endorse xxmaj trump as a matter of conscience . xxmaj in a letter to xxmaj romney mcdaniel which xxmaj day posted publicly on social media xxmaj monday , xxmaj day said she sees her decision to not endorse xxmaj trump as a matter of conscience . mlive ' \n",
       "  ' politics ' ' xxmaj oct 18 , 2016 ' ],xxbos [ ' xxmaj beijing hits brakes on subway boom over debt concerns ' \n",
       "  ' xxup shanghai ( xxmaj reuters ) - xxmaj china has hit the brakes on subway projects in at least three cities and xxmaj beijing is asking others to slow down their plans , local governments and media have reported , indicating concerns over high debt from city - level infrastructure spending . xxmaj china has been in the xxunk of a metro - building binge with more than 50 cities working on over 1 trillion yuan ( $ xxunk billion ) worth of projects , after population restrictions were loosened last year to allow more cities to have metro systems . xxmaj such infrastructure spending has helped to shore up economic growth but is now being scrutinized more closely after the government pledged to clamp down on financial risks . xxmaj policymakers have warned about the risk of asset bubbles due to high levels of corporate and household debt in the economy . xxmaj china s overall debt has jumped to more than 250 percent of xxup gdp from 150 percent at the end of 2006 . xxmaj financial magazine xxmaj xxunk , citing unnamed sources close to the matter , reported that authorities in xxmaj inner xxmaj xxunk s xxmaj hohhot and xxmaj baotou cities have scrapped approved projects worth billions of dollars in recent months due to concerns over finances . xxmaj xxunk city which wants to build six lines to link up to central xxmaj xxunk province s capital of xxmaj xi an , said in a statement this month some of its plans had not yet been approved by the state planner , the xxmaj national xxmaj development and xxmaj reform xxmaj commission . xxmaj the xxup ndrc has become more cautious about approving metro construction plans and it will be difficult to achieve approval within the year , it said , adding that one of the factors was debt concerns over the xxmaj baotou metro . xxmaj the xxmaj economic xxmaj observer newspaper said it was told by the xxmaj wuhan city planner that the xxup ndrc was re - evaluating the country s subway construction situation . xxmaj the xxmaj baotou city planner declined to comment when contacted by xxmaj reuters on xxmaj wednesday . xxmaj the xxup ndrc and authorities in xxmaj hohhot and xxmaj wuhan did not immediately respond to requests for comment . xxmaj xxunk xxmaj xxunk analyst xxmaj gary xxmaj wong said such a crackdown on metro projects was appropriate given that many remote and financially weak cities had undertaken metro projects . xxmaj he said he did not anticipate a large impact on xxunk suppliers such as xxup xxunk xxmaj corp who have shifted focus to metros to offset the slowing high - speed rail market . xxmaj they are already full with orders , even if they don t get new orders at the moment they will still be busy for the next 2 - 3 years , he said . xxmaj china would overtake xxmaj europe and the xxmaj americas if all 50 cities went ahead with their metro plans , data from the xxmaj international xxmaj association of xxmaj public xxmaj transport showed . xxmaj europe has 46 cities with metro systems , and xxmaj america has 33 cities . xxmaj the xxmaj china xxmaj association of xxmaj metros said in xxmaj july that 30 cities currently have metros . ' \n",
       "  ' worldnews ' ' xxmaj november 15 , 2017 ' ],xxbos [ ' xxup u.s. needs up to 18 more xxmaj russian rocket engines : xxmaj pentagon ' \n",
       "  ' xxup washington ( xxmaj reuters ) - xxmaj the xxmaj pentagon will need to buy up to 18 more xxmaj russian - built xxup rd-180 engines to power rockets carrying xxup u.s. military satellites into space over the next six years or so , xxmaj deputy xxmaj defense xxmaj secretary xxmaj robert xxmaj work said in an interview on xxmaj friday . xxmaj congress banned use of the xxmaj russian xxup rd-180 rocket engines for military use after 2019 , following xxmaj russia ’s annexation of the xxmaj crimea region of xxmaj ukraine in 2014 . xxmaj but xxup u.s. lawmakers eased the ban late last year , worried that it could drive xxmaj united xxmaj launch xxmaj alliance , a joint venture of xxmaj lockheed xxmaj martin xxmaj corp and xxmaj boeing xxmaj co , out of business and leave only privately held spacex to lift satellites into space . xxmaj work said the xxmaj united xxmaj states needed to ensure there were at least “ two affordable and reliable means into space . ” xxmaj he added the xxup rd-180 would be needed only during what he described as a transition period of new domestic rocket engine development . “ xxmaj we just do n’t see any way you can get a new engine in anything less than six years , ” xxmaj work said . “ xxmaj and so , therefore , in the transition period , we believe strongly that we need xxup rd-180 space engines . xxmaj no more than 18 but , you know , that ’s our position . ” xxmaj senator xxmaj john mccain , chairman of the xxmaj senate xxmaj armed xxmaj services xxmaj committee , is pushing to end xxup u.s. dependence on xxmaj russian engines used by xxmaj united xxmaj launch xxmaj alliance to power its xxmaj xxunk 5 rockets . mccain said last month that two xxmaj russians placed on the xxup u.s. sanctions list because of events in xxmaj ukraine were leaders of xxmaj russian space agency xxmaj xxunk , which he said was the parent of the company that makes the xxup rd-180 rocket . xxup xxunk has said it was moving forward with two companies developing their own xxup u.s. engines , xxmaj blue xxmaj origin and xxmaj xxunk xxmaj xxunk xxmaj holdings , but such development programs were difficult and took years to complete . ' \n",
       "  ' politicsnews ' ' xxmaj april 9 , 2016 ' ]\n",
       "y: CategoryList\n",
       "1,1,0,1,1\n",
       "Path: .;\n",
       "\n",
       "Valid: LabelList (600 items)\n",
       "x: TextList\n",
       "xxbos [ ' xxmaj democrat member of xxup fec to make early exit : xxup nyt ' \n",
       "  ' xxup washington ( xxmaj reuters ) - a xxmaj democrat who sits on the xxup u.s. xxmaj federal xxmaj election xxmaj commission ( xxup fec ) is planning to resign before her term expires amid xxunk about partisan gridlock , the xxmaj new xxmaj york xxmaj times reported on xxmaj sunday . xxup fec xxmaj commissioner xxmaj ann xxmaj xxunk told the xxmaj times in an interview she intended to submit her letter of resignation this week , a move that would open the door for xxmaj president xxmaj donald xxmaj trump to make his own appointment to the panel . “ xxmaj the ability of the commission to perform its role has deteriorated significantly , ” xxmaj xxunk told the newspaper . “ i think i can be more effective on the outside . ” xxmaj xxunk said she was particularly frustrated about split votes among the xxup fec ’s three xxmaj democrats and three xxmaj republicans . xxmaj the lack of consensus among the xxup fec ’s members has made it impossible to rein in campaign abuses , she said . xxmaj xxunk told the xxmaj new xxmaj york xxmaj times she planned to return to xxmaj california , where she previously worked as a state regulator identifying dark money that xxunk into state elections . ' \n",
       "  ' politicsnews ' ' xxmaj february 19 , 2017 ' ],xxbos [ ' xxup uk xxup pm xxmaj may says we must stand firm in support of xxmaj iran nuclear deal ' \n",
       "  ' xxup amman ( xxmaj reuters ) - xxmaj prime xxmaj minister xxmaj theresa xxmaj may on xxmaj thursday xxunk xxmaj britain s support for the nuclear deal concluded with xxmaj iran which came into force in xxmaj october 2015 . xxmaj we must stand firm in our support for the xxrep 4 . deal , she told reporters in xxmaj jordan at the end of a brief visit to the xxmaj middle xxmaj east . xxup u.s. xxmaj president xxmaj trump has called the xxmaj iran deal the worst of its kind ever struck by a xxup u.s. administration . ' \n",
       "  ' worldnews ' ' xxmaj november 30 , 2017 ' ],xxbos [ ' xxmaj christian xxmaj gun xxmaj nut xxmaj shoots xxmaj unarmed xxmaj man xxmaj dead xxmaj during xxmaj church xxmaj service xxmaj and xxmaj gets xxmaj away xxmaj with it ( xxup video ) ' \n",
       "  ' xxunk the days of the xxmaj old xxmaj west shooting an an unarmed man violated a code that xxunk lived by and brought shame as well as arrest and prosecution for murder . xxmaj but in the conservative version of the xxmaj old xxmaj west we are being forced to live in today , codes and the law mean nothing as long as you re a xxmaj christian gun nut . xxmaj during the morning church service on xxmaj sunday at xxmaj keystone xxmaj xxunk xxmaj church located within xxmaj montgomery xxmaj county in xxmaj pennsylvania a xxunk with a concealed carry permit shot and killed xxunk - old xxmaj robert xxmaj xxunk in the chest during some sort of altercation as members of the xxunk xxunk for cover after the shots xxunk out . xxmaj it sounded like three xxunk , almost like a champagne xxunk opening three times , said xxunk xxmaj xxunk xxmaj xxunk . xxmaj everybody s trying to make themselves as small as possible . xxmaj you could hear some screaming and some crying but it was pretty silent . i went under a chair in a xxunk position . i tried to make myself as small as possible . xxmaj it s really frightening that anything like this could happen here . xxmaj despite the fact that the gun - xxunk xxunk openly murdered an unarmed man for what is sure to be a ridiculous reason , the man has not been arrested or charged , according to xxmaj montgomery xxmaj county xxmaj district xxmaj attorney xxmaj kevin xxmaj steele . xxmaj there s no one in custody , he told xxup nbc 10 . xxmaj the individual involved in the shooting is cooperating with police at this point . xxmaj yeah , and he s the only one who gets to tell the story because the other guy is dead . xxmaj ironically , the xxmaj keystone xxmaj church had written a xxmaj facebook post earlier announcing that an anti - government evangelical pastor would be a guest speaker that day and banned xxunk and video for our guest s safety . xxmaj apparently , church leadership was not concerned about guns or the threat they pose to the safety of their xxunk . xxmaj here s the video via xxup nbc xxunk , a man literally shot and killed an unarmed man in the middle of a church service and he gets to walk free . xxmaj this is sickening . xxmaj featured image via xxmaj wikimedia ' \n",
       "  ' xxmaj news ' ' xxmaj april 25 , 2016 ' ],xxbos [ ' xxmaj official in charge of xxmaj state xxmaj department xxunk steps down ' \n",
       "  ' xxup washington ( xxmaj reuters ) - a senior xxup u.s. official overseeing a xxunk of the xxmaj state xxmaj department that has been criticized by current and former xxup u.s. diplomats has stepped down after less than four months on the job , xxup u.s. officials said on xxmaj monday . xxmaj xxunk xxmaj xxunk , a former financial industry executive who was named xxmaj state xxmaj department counselor on xxmaj aug. 17 , is “ stepping away ” to return to xxmaj boston , said a department spokesman on condition of anonymity . xxmaj christine xxmaj xxunk , the department ’s deputy chief of staff , will take over the agency ’s “ xxunk , ” he added . xxmaj secretary of xxmaj state xxmaj rex xxmaj tillerson has been criticized by current and former xxup u.s. diplomats as well as by some members of xxmaj congress for his management of the agency , where may top posts have not been filled nearly 10 months into xxmaj tillerson ’s tenure . xxmaj the department has also seen an exodus of senior diplomats . xxmaj tillerson defended the department when he was recently asked about morale problems and concerns that the agency was being weakened . “ xxmaj the xxunk is going to address all of that . xxmaj and this department is performing extraordinarily well , and i take exception to anyone who xxunk otherwise . xxmaj it ’s just not true , ” he said on xxmaj nov. 20 . xxmaj state xxmaj department officials observing the xxunk say it has been plagued with uncertainty both about what xxmaj tillerson wants to achieve and how to go about it . “ xxmaj if the one thing she ( xxmaj xxunk ) was asked to do was the xxunk and she is quitting ... how does this not reflect poorly on the overall management of this enterprise , that is the xxunk ? ” said one official who spoke on condition of anonymity . xxmaj another xxmaj state xxmaj department official said xxmaj xxunk had left of her own xxunk and was not fired . xxmaj xxunk did not immediately respond to voicemails left at her office and xxmaj massachusetts phone numbers or to an email sent to her xxmaj state xxmaj department address . xxmaj the xxmaj state xxmaj department spokesman declined comment on criticism of the xxunk . a congressional aide said the effort is so xxunk that xxmaj congress is unable to pass legislation to give the agency the legal authority to make changes . “ xxmaj to do that we would need to have some road map - something - and none of that has been provided , ” said the aide , who spoke on condition of anonymity . ' \n",
       "  ' politicsnews ' ' xxmaj november 28 , 2017 ' ],xxbos [ ' xxmaj on xxmaj the xxmaj anniversary xxmaj of xxmaj the xxmaj berlin xxmaj wall xxmaj coming xxmaj down , xxmaj trump xxmaj is xxmaj on xxmaj his xxmaj way xxmaj towards xxmaj building xxmaj his xxmaj own ' \n",
       "  ' xxmaj americans woke up on to a country that will soon have xxmaj donald xxmaj trump serving as president . xxmaj it is a frightening realization . xxmaj however , overcome with horror , the irony of the date went largely xxunk by many . xxmaj november 9 , the day after xxmaj election xxmaj day , is the anniversary of the xxmaj berlin xxmaj wall coming down . xxmaj on this day in 1989 , the spokesman for xxmaj east xxmaj berlin s xxmaj communist xxmaj party announced that citizens of the xxup xxunk would be permitted to freely cross the country s borders . xxmaj the scene of xxmaj east and xxmaj west xxmaj xxunk flooding to the site became xxunk . xxmaj people used hammers and picks to chip away at the wall . xxmaj the reunification of xxmaj east and xxmaj west xxmaj germany was made official on xxmaj october 3 , 1990 , almost one year after the fall of the xxmaj berlin xxmaj wall . xxmaj while almost three decades ago this date became synonymous with freedom in the hearts and minds of so many , xxmaj americans woke up today to a president - elect that plans to build a wall of his own . xxmaj since the very beginning of his election , xxmaj trump has promised to build a wall along the border between xxmaj mexico and the xxmaj united xxmaj states . xxmaj of course , he still insists that xxmaj mexico is going to pay for it . xxmaj anti - immigrant rhetoric served as the foundation of xxmaj trump s campaign and the wall was his keystone . xxmaj anti - immigrant rhetoric has served as the foundation of xxmaj trump s campaign and the wall has been his keystone . xxmaj while most of us were simply xxunk by the reality of a xxmaj trump presidency , some couldn t help but notice the date and point out the irony . xxmaj the sad irony is that the # xxunk came down today in 1989 and # xxunk is about to build a new one that will be just as brutal . xxmaj harry xxmaj leslie xxmaj smith ( xxunk ) xxmaj november 9 , xxunk is said that those who don t learn from history are doomed to repeat it . xxmaj it certainly looks as if we have an awful lot to learn . xxmaj this is more proof of just how far backward we have to go for xxmaj trump to xxmaj make xxmaj america xxmaj great xxmaj again . xxmaj we took one step forward 27 years ago , and today , we took 10 steps back . xxmaj featured image via xxmaj xxunk ' \n",
       "  ' xxmaj news ' ' xxmaj november 9 , 2016 ' ]\n",
       "y: CategoryList\n",
       "1,1,0,1,0\n",
       "Path: .;\n",
       "\n",
       "Test: None, model=SequentialRNN(\n",
       "  (0): MultiBatchEncoder(\n",
       "    (module): AWD_LSTM(\n",
       "      (encoder): Embedding(16832, 400, padding_idx=1)\n",
       "      (encoder_dp): EmbeddingDropout(\n",
       "        (emb): Embedding(16832, 400, padding_idx=1)\n",
       "      )\n",
       "      (rnns): ModuleList(\n",
       "        (0): WeightDropout(\n",
       "          (module): LSTM(400, 1152, batch_first=True)\n",
       "        )\n",
       "        (1): WeightDropout(\n",
       "          (module): LSTM(1152, 1152, batch_first=True)\n",
       "        )\n",
       "        (2): WeightDropout(\n",
       "          (module): LSTM(1152, 400, batch_first=True)\n",
       "        )\n",
       "      )\n",
       "      (input_dp): RNNDropout()\n",
       "      (hidden_dps): ModuleList(\n",
       "        (0): RNNDropout()\n",
       "        (1): RNNDropout()\n",
       "        (2): RNNDropout()\n",
       "      )\n",
       "    )\n",
       "  )\n",
       "  (1): PoolingLinearClassifier(\n",
       "    (layers): Sequential(\n",
       "      (0): BatchNorm1d(1200, eps=1e-05, momentum=0.1, affine=True, track_running_stats=True)\n",
       "      (1): Dropout(p=0.12, inplace=False)\n",
       "      (2): Linear(in_features=1200, out_features=50, bias=True)\n",
       "      (3): ReLU(inplace=True)\n",
       "      (4): BatchNorm1d(50, eps=1e-05, momentum=0.1, affine=True, track_running_stats=True)\n",
       "      (5): Dropout(p=0.1, inplace=False)\n",
       "      (6): Linear(in_features=50, out_features=2, bias=True)\n",
       "    )\n",
       "  )\n",
       "), opt_func=functools.partial(<class 'torch.optim.adam.Adam'>, betas=(0.9, 0.99)), loss_func=FlattenedLoss of CrossEntropyLoss(), metrics=[<function accuracy at 0x7f5638972170>], true_wd=True, bn_wd=True, wd=0.01, train_bn=True, path=PosixPath('.'), model_dir='models', callback_fns=[functools.partial(<class 'fastai.basic_train.Recorder'>, add_time=True, silent=False)], callbacks=[RNNTrainer\n",
       "learn: ...\n",
       "alpha: 2.0\n",
       "beta: 1.0], layer_groups=[Sequential(\n",
       "  (0): Embedding(16832, 400, padding_idx=1)\n",
       "  (1): EmbeddingDropout(\n",
       "    (emb): Embedding(16832, 400, padding_idx=1)\n",
       "  )\n",
       "), Sequential(\n",
       "  (0): WeightDropout(\n",
       "    (module): LSTM(400, 1152, batch_first=True)\n",
       "  )\n",
       "  (1): RNNDropout()\n",
       "), Sequential(\n",
       "  (0): WeightDropout(\n",
       "    (module): LSTM(1152, 1152, batch_first=True)\n",
       "  )\n",
       "  (1): RNNDropout()\n",
       "), Sequential(\n",
       "  (0): WeightDropout(\n",
       "    (module): LSTM(1152, 400, batch_first=True)\n",
       "  )\n",
       "  (1): RNNDropout()\n",
       "), Sequential(\n",
       "  (0): PoolingLinearClassifier(\n",
       "    (layers): Sequential(\n",
       "      (0): BatchNorm1d(1200, eps=1e-05, momentum=0.1, affine=True, track_running_stats=True)\n",
       "      (1): Dropout(p=0.12, inplace=False)\n",
       "      (2): Linear(in_features=1200, out_features=50, bias=True)\n",
       "      (3): ReLU(inplace=True)\n",
       "      (4): BatchNorm1d(50, eps=1e-05, momentum=0.1, affine=True, track_running_stats=True)\n",
       "      (5): Dropout(p=0.1, inplace=False)\n",
       "      (6): Linear(in_features=50, out_features=2, bias=True)\n",
       "    )\n",
       "  )\n",
       ")], add_time=True, silent=False)"
      ]
     },
     "execution_count": 18,
     "metadata": {},
     "output_type": "execute_result"
    }
   ],
   "source": [
    "learn = text_classifier_learner(data_clas, AWD_LSTM, drop_mult=0.3) # use the same settings as the language model we fine-tuned, so we can load without problems\n",
    "learn.load_encoder('fine-tuned_language_model')"
   ]
  },
  {
   "cell_type": "markdown",
   "metadata": {
    "papermill": {
     "duration": 0.044075,
     "end_time": "2020-10-15T18:34:00.021180",
     "exception": false,
     "start_time": "2020-10-15T18:33:59.977105",
     "status": "completed"
    },
    "tags": []
   },
   "source": [
    "Figure out the learning best rate as before."
   ]
  },
  {
   "cell_type": "code",
   "execution_count": 19,
   "metadata": {
    "execution": {
     "iopub.execute_input": "2020-10-15T18:34:00.121384Z",
     "iopub.status.busy": "2020-10-15T18:34:00.120381Z",
     "iopub.status.idle": "2020-10-15T18:34:30.988373Z",
     "shell.execute_reply": "2020-10-15T18:34:30.987712Z"
    },
    "papermill": {
     "duration": 30.919958,
     "end_time": "2020-10-15T18:34:30.988519",
     "exception": false,
     "start_time": "2020-10-15T18:34:00.068561",
     "status": "completed"
    },
    "tags": []
   },
   "outputs": [
    {
     "data": {
      "text/html": [
       "\n",
       "    <div>\n",
       "        <style>\n",
       "            /* Turns off some styling */\n",
       "            progress {\n",
       "                /* gets rid of default border in Firefox and Opera. */\n",
       "                border: none;\n",
       "                /* Needs to be in here for Safari polyfill so background images work as expected. */\n",
       "                background-size: auto;\n",
       "            }\n",
       "            .progress-bar-interrupted, .progress-bar-interrupted::-webkit-progress-bar {\n",
       "                background: #F44336;\n",
       "            }\n",
       "        </style>\n",
       "      <progress value='2' class='' max='3' style='width:300px; height:20px; vertical-align: middle;'></progress>\n",
       "      66.67% [2/3 00:25<00:12]\n",
       "    </div>\n",
       "    \n",
       "<table border=\"1\" class=\"dataframe\">\n",
       "  <thead>\n",
       "    <tr style=\"text-align: left;\">\n",
       "      <th>epoch</th>\n",
       "      <th>train_loss</th>\n",
       "      <th>valid_loss</th>\n",
       "      <th>accuracy</th>\n",
       "      <th>time</th>\n",
       "    </tr>\n",
       "  </thead>\n",
       "  <tbody>\n",
       "    <tr>\n",
       "      <td>0</td>\n",
       "      <td>0.613011</td>\n",
       "      <td>#na#</td>\n",
       "      <td>00:12</td>\n",
       "    </tr>\n",
       "    <tr>\n",
       "      <td>1</td>\n",
       "      <td>0.271579</td>\n",
       "      <td>#na#</td>\n",
       "      <td>00:13</td>\n",
       "    </tr>\n",
       "  </tbody>\n",
       "</table><p>\n",
       "\n",
       "    <div>\n",
       "        <style>\n",
       "            /* Turns off some styling */\n",
       "            progress {\n",
       "                /* gets rid of default border in Firefox and Opera. */\n",
       "                border: none;\n",
       "                /* Needs to be in here for Safari polyfill so background images work as expected. */\n",
       "                background-size: auto;\n",
       "            }\n",
       "            .progress-bar-interrupted, .progress-bar-interrupted::-webkit-progress-bar {\n",
       "                background: #F44336;\n",
       "            }\n",
       "        </style>\n",
       "      <progress value='7' class='' max='43' style='width:300px; height:20px; vertical-align: middle;'></progress>\n",
       "      16.28% [7/43 00:04<00:22 0.4314]\n",
       "    </div>\n",
       "    "
      ],
      "text/plain": [
       "<IPython.core.display.HTML object>"
      ]
     },
     "metadata": {},
     "output_type": "display_data"
    },
    {
     "name": "stdout",
     "output_type": "stream",
     "text": [
      "LR Finder is complete, type {learner_name}.recorder.plot() to see the graph.\n",
      "Min numerical gradient: 6.92E-04\n",
      "Min loss divided by 10: 1.10E-01\n"
     ]
    },
    {
     "data": {
      "image/png": "[encoded data removed]",
      "text/plain": [
       "<Figure size 432x288 with 1 Axes>"
      ]
     },
     "metadata": {
      "needs_background": "light"
     },
     "output_type": "display_data"
    }
   ],
   "source": [
    "learn.lr_find() # find best rate\n",
    "learn.recorder.plot(suggestion=True) # plot it"
   ]
  },
  {
   "cell_type": "code",
   "execution_count": 20,
   "metadata": {
    "execution": {
     "iopub.execute_input": "2020-10-15T18:34:31.089239Z",
     "iopub.status.busy": "2020-10-15T18:34:31.088443Z",
     "iopub.status.idle": "2020-10-15T18:34:31.093386Z",
     "shell.execute_reply": "2020-10-15T18:34:31.094182Z"
    },
    "papermill": {
     "duration": 0.057302,
     "end_time": "2020-10-15T18:34:31.094394",
     "exception": false,
     "start_time": "2020-10-15T18:34:31.037092",
     "status": "completed"
    },
    "tags": []
   },
   "outputs": [
    {
     "name": "stdout",
     "output_type": "stream",
     "text": [
      "0.0006918309709189362\n"
     ]
    }
   ],
   "source": [
    "rate = learn.recorder.min_grad_lr\n",
    "print(rate)"
   ]
  },
  {
   "cell_type": "markdown",
   "metadata": {
    "papermill": {
     "duration": 0.046815,
     "end_time": "2020-10-15T18:34:31.188941",
     "exception": false,
     "start_time": "2020-10-15T18:34:31.142126",
     "status": "completed"
    },
    "tags": []
   },
   "source": [
    "Train the fake news classifier"
   ]
  },
  {
   "cell_type": "code",
   "execution_count": 21,
   "metadata": {
    "execution": {
     "iopub.execute_input": "2020-10-15T18:34:31.288526Z",
     "iopub.status.busy": "2020-10-15T18:34:31.287842Z",
     "iopub.status.idle": "2020-10-15T18:34:50.372855Z",
     "shell.execute_reply": "2020-10-15T18:34:50.373712Z"
    },
    "papermill": {
     "duration": 19.138279,
     "end_time": "2020-10-15T18:34:50.373933",
     "exception": false,
     "start_time": "2020-10-15T18:34:31.235654",
     "status": "completed"
    },
    "tags": []
   },
   "outputs": [
    {
     "data": {
      "text/html": [
       "<table border=\"1\" class=\"dataframe\">\n",
       "  <thead>\n",
       "    <tr style=\"text-align: left;\">\n",
       "      <th>epoch</th>\n",
       "      <th>train_loss</th>\n",
       "      <th>valid_loss</th>\n",
       "      <th>accuracy</th>\n",
       "      <th>time</th>\n",
       "    </tr>\n",
       "  </thead>\n",
       "  <tbody>\n",
       "    <tr>\n",
       "      <td>0</td>\n",
       "      <td>0.205014</td>\n",
       "      <td>0.170096</td>\n",
       "      <td>0.995000</td>\n",
       "      <td>00:19</td>\n",
       "    </tr>\n",
       "  </tbody>\n",
       "</table>"
      ],
      "text/plain": [
       "<IPython.core.display.HTML object>"
      ]
     },
     "metadata": {},
     "output_type": "display_data"
    }
   ],
   "source": [
    "learn.fit_one_cycle(1, rate)"
   ]
  },
  {
   "cell_type": "markdown",
   "metadata": {
    "papermill": {
     "duration": 0.075348,
     "end_time": "2020-10-15T18:34:50.525119",
     "exception": false,
     "start_time": "2020-10-15T18:34:50.449771",
     "status": "completed"
    },
    "tags": []
   },
   "source": [
    "A nearly perfect score is achieved!"
   ]
  },
  {
   "cell_type": "markdown",
   "metadata": {
    "papermill": {
     "duration": 0.074666,
     "end_time": "2020-10-15T18:34:50.675691",
     "exception": false,
     "start_time": "2020-10-15T18:34:50.601025",
     "status": "completed"
    },
    "tags": []
   },
   "source": [
    "### Gradual Unfreezing\n",
    "The idea is to keep the initial layers of model as untrainable in the beginning, slowly decreasing how many are untrainable as the training process proceeds.\n",
    "\n",
    "We can use the following command to only unfreeze the last layer:"
   ]
  },
  {
   "cell_type": "code",
   "execution_count": 22,
   "metadata": {
    "execution": {
     "iopub.execute_input": "2020-10-15T18:34:50.845774Z",
     "iopub.status.busy": "2020-10-15T18:34:50.843843Z",
     "iopub.status.idle": "2020-10-15T18:34:50.849773Z",
     "shell.execute_reply": "2020-10-15T18:34:50.850720Z"
    },
    "papermill": {
     "duration": 0.094271,
     "end_time": "2020-10-15T18:34:50.850930",
     "exception": false,
     "start_time": "2020-10-15T18:34:50.756659",
     "status": "completed"
    },
    "tags": []
   },
   "outputs": [],
   "source": [
    "learn.freeze_to(-1)"
   ]
  },
  {
   "cell_type": "markdown",
   "metadata": {
    "papermill": {
     "duration": 0.074098,
     "end_time": "2020-10-15T18:34:51.003479",
     "exception": false,
     "start_time": "2020-10-15T18:34:50.929381",
     "status": "completed"
    },
    "tags": []
   },
   "source": [
    "We can use the following command to only unfreeze the last two layers"
   ]
  },
  {
   "cell_type": "code",
   "execution_count": 23,
   "metadata": {
    "execution": {
     "iopub.execute_input": "2020-10-15T18:34:51.165610Z",
     "iopub.status.busy": "2020-10-15T18:34:51.164482Z",
     "iopub.status.idle": "2020-10-15T18:34:51.170502Z",
     "shell.execute_reply": "2020-10-15T18:34:51.171304Z"
    },
    "papermill": {
     "duration": 0.091644,
     "end_time": "2020-10-15T18:34:51.171507",
     "exception": false,
     "start_time": "2020-10-15T18:34:51.079863",
     "status": "completed"
    },
    "tags": []
   },
   "outputs": [],
   "source": [
    "learn.freeze_to(-2)"
   ]
  },
  {
   "cell_type": "markdown",
   "metadata": {
    "papermill": {
     "duration": 0.070132,
     "end_time": "2020-10-15T18:34:51.318905",
     "exception": false,
     "start_time": "2020-10-15T18:34:51.248773",
     "status": "completed"
    },
    "tags": []
   },
   "source": [
    "Thus, gradual unfreezing to a depth=2 would involve doing something like this:"
   ]
  },
  {
   "cell_type": "code",
   "execution_count": 24,
   "metadata": {
    "execution": {
     "iopub.execute_input": "2020-10-15T18:34:51.428578Z",
     "iopub.status.busy": "2020-10-15T18:34:51.427435Z",
     "iopub.status.idle": "2020-10-15T18:35:29.679269Z",
     "shell.execute_reply": "2020-10-15T18:35:29.680759Z"
    },
    "papermill": {
     "duration": 38.309733,
     "end_time": "2020-10-15T18:35:29.681006",
     "exception": false,
     "start_time": "2020-10-15T18:34:51.371273",
     "status": "completed"
    },
    "tags": []
   },
   "outputs": [
    {
     "data": {
      "text/html": [
       "<table border=\"1\" class=\"dataframe\">\n",
       "  <thead>\n",
       "    <tr style=\"text-align: left;\">\n",
       "      <th>epoch</th>\n",
       "      <th>train_loss</th>\n",
       "      <th>valid_loss</th>\n",
       "      <th>accuracy</th>\n",
       "      <th>time</th>\n",
       "    </tr>\n",
       "  </thead>\n",
       "  <tbody>\n",
       "    <tr>\n",
       "      <td>0</td>\n",
       "      <td>0.112249</td>\n",
       "      <td>0.026231</td>\n",
       "      <td>0.998333</td>\n",
       "      <td>00:17</td>\n",
       "    </tr>\n",
       "  </tbody>\n",
       "</table>"
      ],
      "text/plain": [
       "<IPython.core.display.HTML object>"
      ]
     },
     "metadata": {},
     "output_type": "display_data"
    },
    {
     "data": {
      "text/html": [
       "<table border=\"1\" class=\"dataframe\">\n",
       "  <thead>\n",
       "    <tr style=\"text-align: left;\">\n",
       "      <th>epoch</th>\n",
       "      <th>train_loss</th>\n",
       "      <th>valid_loss</th>\n",
       "      <th>accuracy</th>\n",
       "      <th>time</th>\n",
       "    </tr>\n",
       "  </thead>\n",
       "  <tbody>\n",
       "    <tr>\n",
       "      <td>0</td>\n",
       "      <td>0.089079</td>\n",
       "      <td>0.008650</td>\n",
       "      <td>1.000000</td>\n",
       "      <td>00:20</td>\n",
       "    </tr>\n",
       "  </tbody>\n",
       "</table>"
      ],
      "text/plain": [
       "<IPython.core.display.HTML object>"
      ]
     },
     "metadata": {},
     "output_type": "display_data"
    }
   ],
   "source": [
    "depth = 2\n",
    "for i in range(1,depth+1): # freeze progressively fewer layers, up to a depth of 2, training for one cycle each time\n",
    "    learn.freeze_to(-i)\n",
    "    learn.fit_one_cycle(1, rate)"
   ]
  },
  {
   "cell_type": "markdown",
   "metadata": {
    "papermill": {
     "duration": 0.048682,
     "end_time": "2020-10-15T18:35:29.790333",
     "exception": false,
     "start_time": "2020-10-15T18:35:29.741651",
     "status": "completed"
    },
    "tags": []
   },
   "source": [
    "Looks like we actually achieved the perfect score here! These results speak for themselves!"
   ]
  }
 ],
 "metadata": {
  "kernelspec": {
   "display_name": "Python 3",
   "language": "python",
   "name": "python3"
  },
  "language_info": {
   "codemirror_mode": {
    "name": "ipython",
    "version": 3
   },
   "file_extension": ".py",
   "mimetype": "text/x-python",
   "name": "python",
   "nbconvert_exporter": "python",
   "pygments_lexer": "ipython3",
   "version": "3.7.6"
  },
  "papermill": {
   "duration": 218.061199,
   "end_time": "2020-10-15T18:35:30.448381",
   "environment_variables": {},
   "exception": null,
   "input_path": "__notebook__.ipynb",
   "output_path": "__notebook__.ipynb",
   "parameters": {},
   "start_time": "2020-10-15T18:31:52.387182",
   "version": "2.1.0"
  }
 },
 "nbformat": 4,
 "nbformat_minor": 4
}
