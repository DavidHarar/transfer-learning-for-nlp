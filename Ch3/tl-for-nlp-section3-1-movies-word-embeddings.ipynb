{
 "cells": [
  {
   "cell_type": "markdown",
   "metadata": {},
   "source": [
    "# Preliminaries\n",
    "Write requirements to file, anytime you run it, in case you have to go back and recover dependencies.\n",
    "\n",
    "Latest known such requirements are hosted for each notebook in the companion github repo, and can be pulled down and installed here if needed. Companion github repo is located at https://github.com/azunre/transfer-learning-for-nlp"
   ]
  },
  {
   "cell_type": "code",
   "execution_count": 1,
   "metadata": {},
   "outputs": [],
   "source": [
    "!pip freeze > kaggle_image_requirements.txt"
   ]
  },
  {
   "cell_type": "markdown",
   "metadata": {},
   "source": [
    "# Download IMDB Movie Review Dataset\n",
    "Download IMDB dataset"
   ]
  },
  {
   "cell_type": "code",
   "execution_count": 2,
   "metadata": {},
   "outputs": [
    {
     "name": "stdout",
     "output_type": "stream",
     "text": [
      "wget: /opt/conda/lib/libuuid.so.1: no version information available (required by wget)\r\n"
     ]
    }
   ],
   "source": [
    "import random\n",
    "import pandas as pd\n",
    "\n",
    "## Read-in the reviews and print some basic descriptions of them\n",
    "\n",
    "!wget -q \"http://ai.stanford.edu/~amaas/data/sentiment/aclImdb_v1.tar.gz\"\n",
    "!tar xzf aclImdb_v1.tar.gz"
   ]
  },
  {
   "cell_type": "markdown",
   "metadata": {},
   "source": [
    "# Define Tokenization, Stop-word and Punctuation Removal Functions\n",
    "Before proceeding, we must decide how many samples to draw from each class. We must also decide the maximum number of tokens per email, and the maximum length of each token. This is done by setting the following overarching hyperparameters"
   ]
  },
  {
   "cell_type": "code",
   "execution_count": 3,
   "metadata": {},
   "outputs": [],
   "source": [
    "Nsamp = 1000 # number of samples to generate in each class - 'spam', 'not spam'\n",
    "maxtokens = 200 # the maximum number of tokens per document\n",
    "maxtokenlen = 100 # the maximum length of each token"
   ]
  },
  {
   "cell_type": "markdown",
   "metadata": {},
   "source": [
    "**Tokenization**"
   ]
  },
  {
   "cell_type": "code",
   "execution_count": 4,
   "metadata": {},
   "outputs": [],
   "source": [
    "def tokenize(row):\n",
    "    if row is None or row is '':\n",
    "        tokens = \"\"\n",
    "    else:\n",
    "        tokens = row.split(\" \")[:maxtokens]\n",
    "    return tokens"
   ]
  },
  {
   "cell_type": "markdown",
   "metadata": {},
   "source": [
    "**Use regular expressions to remove unnecessary characters**\n",
    "\n",
    "Next, we define a function to remove punctuation marks and other nonword characters (using regular expressions) from the emails with the help of the ubiquitous python regex library. In the same step, we truncate all tokens to hyperparameter maxtokenlen defined above."
   ]
  },
  {
   "cell_type": "code",
   "execution_count": 5,
   "metadata": {},
   "outputs": [],
   "source": [
    "import re\n",
    "\n",
    "def reg_expressions(row):\n",
    "    tokens = []\n",
    "    try:\n",
    "        for token in row:\n",
    "            token = token.lower() # make all characters lower case\n",
    "            token = re.sub(r'[\\W\\d]', \"\", token)\n",
    "            token = token[:maxtokenlen] # truncate token\n",
    "            tokens.append(token)\n",
    "    except:\n",
    "        token = \"\"\n",
    "        tokens.append(token)\n",
    "    return tokens"
   ]
  },
  {
   "cell_type": "markdown",
   "metadata": {},
   "source": [
    "**Stop-word removal**\n",
    "\n",
    "Stop-words are also removed. Stop-words are words that are very common in text but offer no useful information that can be used to classify the text. Words such as is, and, the, are are examples of stop-words. The NLTK library contains a list of 127 English stop-words and can be used to filter our tokenized strings."
   ]
  },
  {
   "cell_type": "code",
   "execution_count": 6,
   "metadata": {},
   "outputs": [
    {
     "name": "stdout",
     "output_type": "stream",
     "text": [
      "[nltk_data] Downloading package stopwords to /usr/share/nltk_data...\n",
      "[nltk_data]   Unzipping corpora/stopwords.zip.\n"
     ]
    }
   ],
   "source": [
    "import nltk\n",
    "\n",
    "nltk.download('stopwords')\n",
    "from nltk.corpus import stopwords\n",
    "stopwords = stopwords.words('english')    \n",
    "\n",
    "# print(stopwords) # see default stopwords\n",
    "# it may be beneficial to drop negation words from the removal list, as they can change the positive/negative meaning\n",
    "# of a sentence\n",
    "# stopwords.remove(\"no\")\n",
    "# stopwords.remove(\"nor\")\n",
    "# stopwords.remove(\"not\")"
   ]
  },
  {
   "cell_type": "code",
   "execution_count": 7,
   "metadata": {},
   "outputs": [],
   "source": [
    "def stop_word_removal(row):\n",
    "    token = [token for token in row if token not in stopwords]\n",
    "    token = filter(None, token)\n",
    "    return token"
   ]
  },
  {
   "cell_type": "markdown",
   "metadata": {},
   "source": [
    "# Assemble Embedding Vectors\n",
    "\n",
    "The following functions are used to extract fastText embedding vectors for each review"
   ]
  },
  {
   "cell_type": "code",
   "execution_count": 8,
   "metadata": {},
   "outputs": [
    {
     "name": "stdout",
     "output_type": "stream",
     "text": [
      "__notebook__.ipynb  aclImdb  aclImdb_v1.tar.gz\tkaggle_image_requirements.txt\r\n",
      "Loading the embedding took 1191 seconds\n"
     ]
    }
   ],
   "source": [
    "import time\n",
    "from gensim.models import FastText, KeyedVectors\n",
    "\n",
    "!ls\n",
    "\n",
    "start=time.time()\n",
    "FastText_embedding = KeyedVectors.load_word2vec_format(\"../input/jigsaw/wiki.en.vec\")\n",
    "end = time.time()\n",
    "print(\"Loading the embedding took %d seconds\"%(end-start))"
   ]
  },
  {
   "cell_type": "code",
   "execution_count": 9,
   "metadata": {},
   "outputs": [],
   "source": [
    "def handle_out_of_vocab(embedding,in_txt):\n",
    "    out = None\n",
    "    for word in in_txt:\n",
    "        try:\n",
    "            tmp = embedding[word]\n",
    "            tmp = tmp.reshape(1,len(tmp))\n",
    "            \n",
    "            if out is None:\n",
    "                out = tmp\n",
    "            else:\n",
    "                out = np.concatenate((out,tmp),axis=0)\n",
    "        except:\n",
    "            pass\n",
    "    \n",
    "    return out\n",
    "        \n",
    "\n",
    "def assemble_embedding_vectors(data):\n",
    "    out = None\n",
    "    for item in data:\n",
    "        tmp = handle_out_of_vocab(FastText_embedding,item)\n",
    "        if tmp is not None:\n",
    "            dim = tmp.shape[1]\n",
    "            if out is not None:\n",
    "                vec = np.mean(tmp,axis=0)\n",
    "                vec = vec.reshape((1,dim))\n",
    "                out = np.concatenate((out,vec),axis=0)\n",
    "            else:\n",
    "                out = np.mean(tmp,axis=0).reshape((1,dim))                                            \n",
    "        else:\n",
    "            pass\n",
    "        \n",
    "        \n",
    "    return out"
   ]
  },
  {
   "cell_type": "markdown",
   "metadata": {},
   "source": [
    "# Putting It All Together To Assemble Dataset\n",
    "\n",
    "Now, putting all the preprocessing steps together we assemble our dataset..."
   ]
  },
  {
   "cell_type": "code",
   "execution_count": 10,
   "metadata": {},
   "outputs": [
    {
     "name": "stdout",
     "output_type": "stream",
     "text": [
      "(25000,)\n",
      "25000\n"
     ]
    }
   ],
   "source": [
    "import os\n",
    "import numpy as np\n",
    "\n",
    "# shuffle raw data first\n",
    "def unison_shuffle_data(data, header):\n",
    "    p = np.random.permutation(len(header))\n",
    "    data = data[p]\n",
    "    header = np.asarray(header)[p]\n",
    "    return data, header\n",
    "\n",
    "# load data in appropriate form\n",
    "def load_data(path):\n",
    "    data, sentiments = [], []\n",
    "    for folder, sentiment in (('neg', 0), ('pos', 1)):\n",
    "        folder = os.path.join(path, folder)\n",
    "        for name in os.listdir(folder):\n",
    "            with open(os.path.join(folder, name), 'r') as reader:\n",
    "                  text = reader.read()\n",
    "            text = tokenize(text)\n",
    "            text = stop_word_removal(text)\n",
    "            text = reg_expressions(text)\n",
    "            data.append(text)\n",
    "            sentiments.append(sentiment)\n",
    "    data_np = np.array(data)\n",
    "    data, sentiments = unison_shuffle_data(data_np, sentiments)\n",
    "    \n",
    "    return data, sentiments\n",
    "\n",
    "train_path = os.path.join('aclImdb', 'train')\n",
    "test_path = os.path.join('aclImdb', 'test')\n",
    "raw_data, raw_header = load_data(train_path)\n",
    "\n",
    "print(raw_data.shape)\n",
    "print(len(raw_header))"
   ]
  },
  {
   "cell_type": "code",
   "execution_count": 11,
   "metadata": {},
   "outputs": [
    {
     "name": "stdout",
     "output_type": "stream",
     "text": [
      "DEBUG::data_train::\n",
      "[list(['i', 'feel', 'sorry', 'people', 'go', 'movies', 'pad', 'pencil', 'write', 'flaws', 'keep', 'notes', 'bad', 'movie', 'is', 'i', 'feel', 'equally', 'contempt', 'people', 'go', 'movies', 'cant', 'suspend', 'reality', 'andor', 'let', 'enjoy', '', 'minutes', 'aways', 'boring', 'busy', 'lives', 'get', 'grip', 'people', 'ecgtb', 'entertaining', 'movie', 'if', 'take', 'movies', 'seriously', 'not', 'you', 'if', 'expecting', 'movie', 'resemble', 'book', 'any', 'way', 'you', 'but', 'enjoyed', 'utter', 'hilarity', 'priscilla', 'queen', 'desert', 'what', 'hell', 'i', 'watching', 'moulin', 'rouge', 'or', 'gross', 'comedy', 'the', 'sweetest', 'thing', 'then', 'let', 'escape', 'cowgirls', 'it', 'really', 'funny', 'parts', 'hilarious', 'actually', 'it', 'also', 'really', 'good', 'musickudos', 'kdlang', 'also', 'i', 'mention', '', 'minutes', 'uma', 'thurmanneed', 'i', 'say', 'more'])\n",
      " list(['the', 'priyadarshanparesh', 'rawal', 'combo', 'golden', 'likes', 'hera', 'pheri', 'hungama', 'i', 'went', 'movie', 'at', 'indian', 'multiplex', 'high', 'hopes', 'especially', 'slick', 'promos', 'unfortunately', 'like', 'hulchul', 'it', 'movie', 'huge', 'disappointmentbr', 'br', 'like', 'others', 'commented', 'premise', 'movie', 'already', 'stale', 'begin', 'with', 'gets', 'stretched', 'without', 'development', 'additional', 'layering', 'after', 'while', 'want', 'movie', 'end', 'go', 'home', 'if', 'i', 'watching', 'home', 'would', 'much', 'easier', 'cut', 'losses', 'akshay', 'kumars', 'performance', 'average', 'best', 'john', 'abraham', 'try', 'comedy', 'again', 'the', 'comedy', 'aspects', 'movie', 'overall', 'pretty', 'week', 'i', 'remember', 'giggling', 'like', 'twice', 'entire', 'movie', 'definitely', 'sidesplitting', 'belly', 'laughs', 'consumed', 'hera', 'pheri', 'even', 'lesser', 'extent', 'awara', 'paagal', 'deewana', 'paresh', 'rawal', 'expected', 'classic', 'moments', 'overall', 'role', 'character', 'given', 'much', 'room', 'grow', 'make', 'much', 'impact', 'filmbr', 'br', 'neha', 'dhupia'])\n",
      " list(['i', 'usherette', 'old', 'theater', 'northern', 'california', 'movie', 'came', 'out', 'as', 'good', 'dvd', 'even', 'eerie', 'terrifying', 'big', 'screen', 'although', '', 'years', 'since', 'i', 'seen', 'it', 'still', 'one', 'alltime', 'favorites', 'at', 'risk', 'sounding', 'trite', 'they', 'make', 'em', 'like', 'anymore', 'if', 'sixth', 'sense', 'freaked', 'all', 'movie', 'definitely', 'you', 'great', 'storyline', 'incredible', 'cast', 'characters', 'ominous', 'setting', 'even', 'soundtrack', 'haunting', 'quality', 'it', 'i', 'highly', 'recommend', 'watch', 'alone', 'what', 'brownstone', 'apartment', 'renting', '', 'alone', 'gasping', 'it', 'would', 'least', 'times', 'price', 'today'])\n",
      " ...\n",
      " list(['this', 'violent', 'i', 'expecting', 'makes', 'violent', 'scenes', 'appear', 'brutal', 'effectivebr', 'br', 'there', 'lot', 'twists', 'turns', 'back', 'stabbing', 'double', 'crossing', 'way', 'film', 'making', 'hard', 'know', 'whos', 'side', 'particular', 'character', 'onbr', 'br', 'the', 'plot', 'pacey', 'good', 'dialogue', 'character', 'development', 'gives', 'interesting', 'view', 'workings', 'triad', 'gang', 'followsbr', 'br', 'the', 'violence', 'comes', 'brutal', 'guns', 'martial', 'art', 'scenes', 'special', 'effects', 'believable', 'face', 'violence', 'dialogue', 'never', 'allowed', 'forget', 'triad', 'violent', 'criminal', 'organisationbr', 'br', 'the', 'ending', 'surprising', 'thoroughly', 'consistent', 'believable'])\n",
      " list(['when', 'i', 'sat', 'watch', 'film', 'i', 'actually', 'expected', 'quite', 'bit', 'plot', 'takes', 'quite', 'complex', 'issues', 'using', 'football', 'launching', 'pad', 'complication', 'also', 'interesting', 'approach', 'still', 'unfortunately', 'despite', 'bravery', 'dealing', 'controversial', 'issues', 'culture', 'clashes', 'muslim', 'western', 'culture', 'adding', 'generation', 'conflicts', 'prejudice', 'towards', 'gayslesbians', 'lets', 'towards', 'resolution', 'rather', 'simplistic', 'relief', 'suspense', 'built', 'throughout', 'film', 'this', 'leads', 'impression', 'makers', 'took', 'little', 'big', 'task', 'tackle', 'attempting', 'profound', 'managed', 'deal', 'withbr', 'br', 'however', 'mean', 'film', 'directly', 'bad', 'rendering', 'conflicts', 'quite', 'believable', 'also', 'amusing', 'the', 'film', 'succeeds', 'engaging', 'entertaining', 'matter', 'mentioned', 'writers', 'seem', 'spun', 'little', 'deep', 'this', 'led', 'quite', 'unrealistic', 'character', 'behaviour', 'towards', 'end', 'confront', 'surging', 'conflicts', 'by', 'dropping', 'ball', 'time', 'makers', 'could', 'really', 'shown', 'brilliance', 'taking', 'film'])\n",
      " list(['antonioni', 'making', 'film', 'assumed', 'role', 'papa', 'smurf', 'little', 'longhaired', 'american', 'radical', 'studentsmurfs', 'he', 'taken', 'guiding', 'protection', 'european', 'communist', 'wings', 'showing', 'appreciation', 'support', 'confused', 'american', 'ways', 'these', 'smurfs', 'red', 'wear', 'blue', 'way', 'around', 'the', 'radical', 'smurfs', 'happy', 'get', 'guidance', 'wise', 'old', 'man', 'gray', 'hair', 'regularly', 'preys', 'god', 'longhaired', 'smurfs', 'lenin', 'communist', '', 'another', 'wise', 'old', 'man', 'whose', 'beard', 'made', 'smurfs', 'take', 'even', 'seriously', 'symbolized', 'something', 'wise', 'though', 'quite', 'know', 'regarded', 'beard', 'kind', 'deep', 'effect', 'them', 'castro', 'another', 'wise', 'bearded', 'man', 'often', 'profited', 'confusion', 'exuded', 'magical', 'powers', 'beard', 'naive', 'overseas', 'admirers', 'not', 'mention', 'che', 'guevara', 'beard', 'certain', 'jenesaispasquoi', 'it', 'makes', 'one', 'want', 'immediately', 'embrace', 'marx', 'lovely', 'pacifistic', 'teachings', 'the', 'film', 'starts', 'muddled', 'meeting', 'radically', 'stupid', 'radical', 'students', 'engage', 'dialogues', 'truly', 'redefine', 'word', 'confused', 'as', 'confused', 'blindfolded', 'dog'])]\n"
     ]
    }
   ],
   "source": [
    "# Subsample required number of samples\n",
    "random_indices = np.random.choice(range(len(raw_header)),size=(Nsamp*2,),replace=False)\n",
    "data_train = raw_data[random_indices]\n",
    "header = raw_header[random_indices]\n",
    "\n",
    "print(\"DEBUG::data_train::\")\n",
    "print(data_train)"
   ]
  },
  {
   "cell_type": "markdown",
   "metadata": {},
   "source": [
    "Display sentiments and their frequencies in the dataset, to ensure it is roughly balanced between classes"
   ]
  },
  {
   "cell_type": "code",
   "execution_count": 12,
   "metadata": {},
   "outputs": [
    {
     "name": "stdout",
     "output_type": "stream",
     "text": [
      "Sentiments and their frequencies:\n",
      "[0 1]\n",
      "[1009  991]\n"
     ]
    }
   ],
   "source": [
    "unique_elements, counts_elements = np.unique(header, return_counts=True)\n",
    "print(\"Sentiments and their frequencies:\")\n",
    "print(unique_elements)\n",
    "print(counts_elements)"
   ]
  },
  {
   "cell_type": "markdown",
   "metadata": {},
   "source": [
    "**Featurize and Create Labels**"
   ]
  },
  {
   "cell_type": "code",
   "execution_count": 13,
   "metadata": {},
   "outputs": [
    {
     "name": "stdout",
     "output_type": "stream",
     "text": [
      "[[-0.07626098  0.00347898 -0.15325944 ...  0.15920563  0.1459959\n",
      "   0.02427418]\n",
      " [-0.0570797  -0.01279132 -0.15781114 ...  0.14877857  0.06308762\n",
      "   0.01536838]\n",
      " [-0.07612405  0.0013253  -0.12074327 ...  0.10039309  0.1317716\n",
      "   0.0481809 ]\n",
      " ...\n",
      " [-0.03478445 -0.08735314 -0.27024442 ...  0.17517786  0.11502786\n",
      "  -0.05087441]\n",
      " [-0.10743949 -0.05357418 -0.16956463 ...  0.1451898   0.11357184\n",
      "  -0.00352959]\n",
      " [-0.04935054 -0.00297518 -0.15813152 ...  0.1458027   0.12167171\n",
      "   0.1278806 ]]\n"
     ]
    }
   ],
   "source": [
    "EmbeddingVectors = assemble_embedding_vectors(data_train)\n",
    "print(EmbeddingVectors)"
   ]
  },
  {
   "cell_type": "code",
   "execution_count": 14,
   "metadata": {},
   "outputs": [
    {
     "name": "stdout",
     "output_type": "stream",
     "text": [
      "train_x/train_y list details, to make sure it is of the right form:\n",
      "1400\n",
      "[[-0.07626098  0.00347898 -0.15325944 ...  0.15920563  0.1459959\n",
      "   0.02427418]\n",
      " [-0.0570797  -0.01279132 -0.15781114 ...  0.14877857  0.06308762\n",
      "   0.01536838]\n",
      " [-0.07612405  0.0013253  -0.12074327 ...  0.10039309  0.1317716\n",
      "   0.0481809 ]\n",
      " ...\n",
      " [-0.03622717 -0.01052694 -0.17534682 ...  0.13728102  0.08046804\n",
      "  -0.01072291]\n",
      " [-0.0863529  -0.01642942 -0.14059986 ...  0.08333739  0.13944645\n",
      "   0.0623465 ]\n",
      " [-0.11146634 -0.03733663 -0.15981896 ...  0.1507397   0.0855796\n",
      "   0.04257914]]\n",
      "[1 0 1 1 1]\n",
      "1400\n"
     ]
    }
   ],
   "source": [
    "data = EmbeddingVectors\n",
    "\n",
    "idx = int(0.7*data.shape[0])\n",
    "\n",
    "# 70% of data for training\n",
    "train_x = data[:idx,:]\n",
    "train_y = header[:idx]\n",
    "# # remaining 30% for testing\n",
    "test_x = data[idx:,:]\n",
    "test_y = header[idx:] \n",
    "\n",
    "print(\"train_x/train_y list details, to make sure it is of the right form:\")\n",
    "print(len(train_x))\n",
    "print(train_x)\n",
    "print(train_y[:5])\n",
    "print(len(train_y))"
   ]
  },
  {
   "cell_type": "markdown",
   "metadata": {},
   "source": [
    "# Logistic Regression Classifier"
   ]
  },
  {
   "cell_type": "code",
   "execution_count": 15,
   "metadata": {},
   "outputs": [
    {
     "name": "stderr",
     "output_type": "stream",
     "text": [
      "/opt/conda/lib/python3.6/site-packages/sklearn/linear_model/logistic.py:432: FutureWarning: Default solver will be changed to 'lbfgs' in 0.22. Specify a solver to silence this warning.\n",
      "  FutureWarning)\n"
     ]
    }
   ],
   "source": [
    "from sklearn.linear_model import LogisticRegression\n",
    "\n",
    "def fit(train_x,train_y):\n",
    "    model = LogisticRegression()\n",
    "\n",
    "    try:\n",
    "        model.fit(train_x, train_y)\n",
    "    except:\n",
    "        pass\n",
    "    return model\n",
    "\n",
    "model = fit(train_x,train_y)"
   ]
  },
  {
   "cell_type": "code",
   "execution_count": 16,
   "metadata": {},
   "outputs": [
    {
     "name": "stdout",
     "output_type": "stream",
     "text": [
      "DEBUG::The logistic regression predicted labels are::\n",
      "[1 1 0 1 1 0 1 0 0 0 1 0 1 1 0 1 1 0 1 0 0 1 1 0 0 0 0 1 0 0 1 1 1 1 1 0 0\n",
      " 1 0 0 0 1 0 0 1 0 1 1 0 0 0 0 1 1 0 0 0 0 1 0 1 0 0 0 1 1 0 0 1 0 0 1 0 0\n",
      " 1 0 0 1 0 0 1 1 0 0 1 1 0 0 0 1 1 0 0 0 1 0 1 0 0 0 0 0 0 0 0 0 0 0 0 0 0\n",
      " 0 1 0 1 1 0 1 1 1 0 1 0 0 0 1 1 0 1 1 0 0 0 1 0 0 0 1 0 0 0 1 1 0 0 1 0 0\n",
      " 1 0 0 1 1 1 1 0 0 0 0 1 1 1 0 0 0 0 0 1 1 1 0 1 0 0 1 0 1 1 0 1 0 1 0 1 1\n",
      " 1 0 0 0 1 0 0 1 0 1 1 1 1 0 1 0 1 0 0 1 0 0 1 0 1 0 1 1 1 0 1 1 0 1 1 0 0\n",
      " 0 0 0 0 0 1 1 0 1 0 1 1 0 1 0 0 1 1 0 0 0 1 1 0 0 0 0 0 1 1 1 0 0 0 0 0 0\n",
      " 0 1 1 1 0 1 1 0 0 0 1 1 0 1 1 0 0 1 1 1 0 0 0 1 0 0 1 0 0 0 1 0 1 0 0 1 1\n",
      " 0 0 0 0 1 0 1 0 1 1 1 1 0 1 0 1 1 0 1 0 0 1 0 0 0 0 1 0 0 0 1 1 0 0 0 0 1\n",
      " 1 1 0 0 1 0 1 1 0 0 1 0 1 0 1 0 1 0 0 1 0 1 0 1 0 1 0 0 0 1 1 1 1 0 1 0 0\n",
      " 0 0 0 1 0 1 0 1 1 0 1 0 0 0 1 0 0 0 1 1 1 1 0 1 1 0 1 0 1 0 1 0 0 0 0 1 1\n",
      " 0 1 0 0 0 1 0 1 1 0 1 1 0 0 1 1 0 0 0 0 1 0 1 1 1 1 1 0 1 1 0 0 1 1 1 0 1\n",
      " 1 0 0 1 0 1 1 0 0 0 1 0 0 0 1 0 1 1 1 0 0 0 0 1 1 1 0 1 1 0 1 1 1 0 0 0 1\n",
      " 0 0 0 1 1 1 0 0 0 1 0 0 0 0 1 1 1 0 0 0 0 1 0 0 0 1 1 0 1 0 0 0 0 0 0 1 0\n",
      " 0 0 1 0 0 0 0 1 0 1 0 0 1 0 1 0 0 1 0 0 1 1 1 0 0 1 0 1 0 1 0 1 0 1 0 1 0\n",
      " 1 1 0 0 0 1 1 1 0 0 0 0 0 0 0 1 0 1 1 1 0 0 0 1 0 0 0 1 1 0 0 0 0 0 0 1 0\n",
      " 1 1 0 0 1 0 0 1]\n"
     ]
    }
   ],
   "source": [
    "predicted_labels = model.predict(test_x)\n",
    "print(\"DEBUG::The logistic regression predicted labels are::\")\n",
    "print(predicted_labels)"
   ]
  },
  {
   "cell_type": "code",
   "execution_count": 17,
   "metadata": {},
   "outputs": [
    {
     "name": "stdout",
     "output_type": "stream",
     "text": [
      "The logistic regression accuracy score is::\n",
      "0.76\n"
     ]
    }
   ],
   "source": [
    "from sklearn.metrics import accuracy_score\n",
    "\n",
    "acc_score = accuracy_score(test_y, predicted_labels)\n",
    "\n",
    "print(\"The logistic regression accuracy score is::\")\n",
    "print(acc_score)"
   ]
  },
  {
   "cell_type": "markdown",
   "metadata": {},
   "source": [
    "# Random Forests"
   ]
  },
  {
   "cell_type": "code",
   "execution_count": 18,
   "metadata": {},
   "outputs": [
    {
     "name": "stdout",
     "output_type": "stream",
     "text": [
      "Training the Random Forest Classifier took   0 seconds\n",
      "DEBUG::The RF predicted labels are::\n",
      "[1 1 0 0 1 0 1 1 0 0 1 0 1 1 0 1 1 0 1 1 0 0 0 0 0 0 0 0 1 0 1 1 1 1 1 1 0\n",
      " 1 0 0 0 1 0 0 0 0 0 1 0 0 1 0 1 0 0 0 0 0 1 1 1 0 0 0 1 0 0 1 0 0 0 1 0 0\n",
      " 1 0 0 0 0 0 1 0 1 0 1 1 1 0 0 0 1 0 0 1 1 0 0 0 0 0 0 0 1 0 0 0 1 0 1 0 1\n",
      " 0 0 0 0 1 0 1 0 1 0 1 0 0 0 1 0 0 1 1 1 0 0 0 0 0 0 1 1 0 0 0 1 0 0 0 0 0\n",
      " 1 0 0 1 1 1 0 1 0 1 0 1 1 0 0 0 1 0 0 0 1 1 0 1 0 0 0 0 1 1 1 0 0 0 0 1 0\n",
      " 0 0 1 0 1 0 0 0 0 1 1 1 0 0 1 0 0 0 0 1 0 1 0 0 1 0 1 0 0 0 0 1 0 1 1 0 1\n",
      " 1 0 0 0 0 0 1 0 0 0 1 1 0 0 0 0 1 0 0 0 0 1 1 0 0 0 0 0 0 0 0 0 0 0 0 0 1\n",
      " 0 1 1 0 0 1 1 0 0 0 1 1 0 0 0 1 0 1 1 1 0 0 0 1 0 0 1 0 1 0 1 0 1 0 0 1 1\n",
      " 0 1 0 0 0 0 0 1 0 1 0 1 0 1 0 0 1 0 0 0 0 0 0 0 0 0 1 0 0 0 1 1 0 1 0 0 1\n",
      " 1 1 0 0 1 0 1 1 0 0 0 0 1 0 0 0 1 0 0 1 0 1 0 0 1 1 1 0 0 0 1 1 0 0 1 0 0\n",
      " 1 0 1 1 0 1 1 0 0 0 1 0 0 1 1 0 1 0 0 1 0 1 0 1 1 1 1 0 0 0 0 0 0 0 0 1 0\n",
      " 1 0 1 1 0 0 0 1 0 0 1 1 1 0 0 0 0 0 1 0 1 0 1 0 1 1 1 0 0 0 1 1 1 1 1 0 0\n",
      " 1 1 0 0 0 1 0 0 0 0 1 1 0 0 1 0 1 0 1 0 0 0 0 1 0 0 0 0 0 1 1 0 1 0 0 0 0\n",
      " 0 0 0 0 1 0 0 0 0 1 0 0 1 1 0 1 1 0 0 0 0 0 0 0 0 1 1 0 1 1 0 0 0 1 0 0 0\n",
      " 0 0 1 0 0 0 0 0 0 1 0 0 0 0 1 0 0 1 0 0 1 0 1 0 0 1 0 1 0 1 0 0 0 1 0 1 0\n",
      " 0 0 0 0 0 1 1 1 0 0 1 0 0 1 0 1 1 0 0 0 0 1 0 1 0 0 0 1 1 1 0 0 0 0 0 1 0\n",
      " 1 1 0 0 1 0 0 0]\n",
      "DEBUG::The RF testing accuracy score is::\n",
      "0.6633333333333333\n"
     ]
    },
    {
     "name": "stderr",
     "output_type": "stream",
     "text": [
      "/opt/conda/lib/python3.6/site-packages/sklearn/ensemble/forest.py:245: FutureWarning: The default value of n_estimators will change from 10 in version 0.20 to 100 in 0.22.\n",
      "  \"10 in version 0.20 to 100 in 0.22.\", FutureWarning)\n"
     ]
    }
   ],
   "source": [
    "# Load scikit's random forest classifier library\n",
    "from sklearn.ensemble import RandomForestClassifier\n",
    "\n",
    "# Create a random forest Classifier. By convention, clf means 'Classifier'\n",
    "clf = RandomForestClassifier(n_jobs=1, random_state=0)\n",
    "\n",
    "# Train the Classifier to take the training features and learn how they relate\n",
    "# to the training y (spam, not spam?)\n",
    "start_time = time.time()\n",
    "clf.fit(train_x, train_y)\n",
    "end_time = time.time()\n",
    "print(\"Training the Random Forest Classifier took %3d seconds\"%(end_time-start_time))\n",
    "\n",
    "predicted_labels = clf.predict(test_x)\n",
    "print(\"DEBUG::The RF predicted labels are::\")\n",
    "print(predicted_labels)\n",
    "\n",
    "acc_score = accuracy_score(test_y, predicted_labels)\n",
    "\n",
    "print(\"DEBUG::The RF testing accuracy score is::\")\n",
    "print(acc_score)"
   ]
  },
  {
   "cell_type": "code",
   "execution_count": 19,
   "metadata": {},
   "outputs": [],
   "source": [
    "from IPython.display import HTML\n",
    "def create_download_link(title = \"Download file\", filename = \"data.csv\"):  \n",
    "    html = '<a href={filename}>{title}</a>'\n",
    "    html = html.format(title=title,filename=filename)\n",
    "    return HTML(html)\n",
    "\n",
    "#create_download_link(filename='GBMimportances.svg')"
   ]
  },
  {
   "cell_type": "code",
   "execution_count": 20,
   "metadata": {},
   "outputs": [],
   "source": [
    "!rm -rf aclImdb\n",
    "!rm aclImdb_v1.tar.gz"
   ]
  }
 ],
 "metadata": {
  "kernelspec": {
   "display_name": "Python 3",
   "language": "python",
   "name": "python3"
  },
  "language_info": {
   "codemirror_mode": {
    "name": "ipython",
    "version": 3
   },
   "file_extension": ".py",
   "mimetype": "text/x-python",
   "name": "python",
   "nbconvert_exporter": "python",
   "pygments_lexer": "ipython3",
   "version": "3.6.6"
  }
 },
 "nbformat": 4,
 "nbformat_minor": 4
}
