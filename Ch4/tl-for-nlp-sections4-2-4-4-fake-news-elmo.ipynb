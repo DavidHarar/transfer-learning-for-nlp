{
 "cells": [
  {
   "cell_type": "markdown",
   "execution_count": null,
   "metadata": {},
   "source": [
    "# Preliminaries\n",
    "First install a critical dependency for our code"
   ]
  },
  {
   "cell_type": "code",
   "execution_count": 1,
   "metadata": {},
   "outputs": [
    {
     "name": "stdout",
     "output_type": "stream",
     "text": [
      "Collecting keras==2.2.4\r\n",
      "\u001b[?25l  Downloading https://files.pythonhosted.org/packages/5e/10/aa32dad071ce52b5502266b5c659451cfd6ffcbf14e6c8c4f16c0ff5aaab/Keras-2.2.4-py2.py3-none-any.whl (312kB)\r\n",
      "\u001b[K     |████████████████████████████████| 317kB 2.8MB/s \r\n",
      "\u001b[?25hRequirement already satisfied: pyyaml in /opt/conda/lib/python3.6/site-packages (from keras==2.2.4) (5.1.2)\r\n",
      "Requirement already satisfied: six>=1.9.0 in /opt/conda/lib/python3.6/site-packages (from keras==2.2.4) (1.12.0)\r\n",
      "Requirement already satisfied: scipy>=0.14 in /opt/conda/lib/python3.6/site-packages (from keras==2.2.4) (1.2.1)\r\n",
      "Requirement already satisfied: keras-preprocessing>=1.0.5 in /opt/conda/lib/python3.6/site-packages (from keras==2.2.4) (1.1.0)\r\n",
      "Requirement already satisfied: h5py in /opt/conda/lib/python3.6/site-packages (from keras==2.2.4) (2.9.0)\r\n",
      "Requirement already satisfied: keras-applications>=1.0.6 in /opt/conda/lib/python3.6/site-packages (from keras==2.2.4) (1.0.8)\r\n",
      "Requirement already satisfied: numpy>=1.9.1 in /opt/conda/lib/python3.6/site-packages (from keras==2.2.4) (1.16.4)\r\n",
      "Installing collected packages: keras\r\n",
      "  Found existing installation: Keras 2.3.0\r\n",
      "    Uninstalling Keras-2.3.0:\r\n",
      "      Successfully uninstalled Keras-2.3.0\r\n",
      "Successfully installed keras-2.2.4\r\n"
     ]
    }
   ],
   "source": [
    "!pip install keras==2.2.4 # critical dependency, "
   ]
  },
  {
   "cell_type": "markdown",
   "execution_count": null,
   "metadata": {},
   "source": [
    "Write requirements to file, anytime you run it, in case you have to go back and recover dependencies.\n",
    "\n",
    "Latest known such requirements are hosted for each notebook in the companion github repo, and can be pulled down and installed here if needed. Companion github repo is located at https://github.com/azunre/transfer-learning-for-nlp"
   ]
  },
  {
   "cell_type": "code",
   "execution_count": 2,
   "metadata": {},
   "outputs": [],
   "source": [
    "!pip freeze > kaggle_image_requirements.txt"
   ]
  },
  {
   "cell_type": "markdown",
   "execution_count": null,
   "metadata": {},
   "source": [
    "# Read and Preprocess Fake News Dataset\n",
    "First let's list the available data files"
   ]
  },
  {
   "cell_type": "code",
   "execution_count": 3,
   "metadata": {},
   "outputs": [
    {
     "name": "stdout",
     "output_type": "stream",
     "text": [
      "/kaggle/input/fake-and-real-news-dataset/True.csv\n",
      "/kaggle/input/fake-and-real-news-dataset/Fake.csv\n"
     ]
    }
   ],
   "source": [
    "# Input data files are available in the \"../input/\" directory.\n",
    "# For example, running this (by clicking run or pressing Shift+Enter) will list all files under the input directory\n",
    "import os\n",
    "for dirname, _, filenames in os.walk('/kaggle/input'):\n",
    "    for filename in filenames:\n",
    "        print(os.path.join(dirname, filename))\n",
    "\n",
    "# Any results you write to the current directory are saved as output."
   ]
  },
  {
   "cell_type": "markdown",
   "execution_count": null,
   "metadata": {},
   "source": [
    "Read in the \"true\" and \"fake\" data\n",
    "\n",
    "In quotes, because that has the potential to simply replicate the biases of the labeler, so should be carefully evaluated"
   ]
  },
  {
   "cell_type": "code",
   "execution_count": 4,
   "metadata": {},
   "outputs": [
    {
     "name": "stdout",
     "output_type": "stream",
     "text": [
      "Data labeled as True:\n",
      "                                               title  \\\n",
      "0  As U.S. budget fight looms, Republicans flip t...   \n",
      "1  U.S. military to accept transgender recruits o...   \n",
      "2  Senior U.S. Republican senator: 'Let Mr. Muell...   \n",
      "3  FBI Russia probe helped by Australian diplomat...   \n",
      "4  Trump wants Postal Service to charge 'much mor...   \n",
      "\n",
      "                                                text       subject  \\\n",
      "0  WASHINGTON (Reuters) - The head of a conservat...  politicsNews   \n",
      "1  WASHINGTON (Reuters) - Transgender people will...  politicsNews   \n",
      "2  WASHINGTON (Reuters) - The special counsel inv...  politicsNews   \n",
      "3  WASHINGTON (Reuters) - Trump campaign adviser ...  politicsNews   \n",
      "4  SEATTLE/WASHINGTON (Reuters) - President Donal...  politicsNews   \n",
      "\n",
      "                 date  \n",
      "0  December 31, 2017   \n",
      "1  December 29, 2017   \n",
      "2  December 31, 2017   \n",
      "3  December 30, 2017   \n",
      "4  December 29, 2017   \n",
      "\n",
      "\n",
      "\n",
      "Data labeled as Fake:\n",
      "                                               title  \\\n",
      "0   Donald Trump Sends Out Embarrassing New Year’...   \n",
      "1   Drunk Bragging Trump Staffer Started Russian ...   \n",
      "2   Sheriff David Clarke Becomes An Internet Joke...   \n",
      "3   Trump Is So Obsessed He Even Has Obama’s Name...   \n",
      "4   Pope Francis Just Called Out Donald Trump Dur...   \n",
      "\n",
      "                                                text subject  \\\n",
      "0  Donald Trump just couldn t wish all Americans ...    News   \n",
      "1  House Intelligence Committee Chairman Devin Nu...    News   \n",
      "2  On Friday, it was revealed that former Milwauk...    News   \n",
      "3  On Christmas day, Donald Trump announced that ...    News   \n",
      "4  Pope Francis used his annual Christmas Day mes...    News   \n",
      "\n",
      "                date  \n",
      "0  December 31, 2017  \n",
      "1  December 31, 2017  \n",
      "2  December 30, 2017  \n",
      "3  December 29, 2017  \n",
      "4  December 25, 2017  \n"
     ]
    }
   ],
   "source": [
    "import numpy as np # linear algebra\n",
    "import pandas as pd # data processing, CSV file I/O (e.g. pd.read_csv)\n",
    "\n",
    "# Read the data into pandas DataFrames\n",
    "DataTrue = pd.read_csv(\"/kaggle/input/fake-and-real-news-dataset/True.csv\")\n",
    "DataFake = pd.read_csv(\"/kaggle/input/fake-and-real-news-dataset/Fake.csv\")\n",
    "\n",
    "print(\"Data labeled as True:\")\n",
    "print(DataTrue.head())\n",
    "print(\"\\n\\n\\nData labeled as Fake:\")\n",
    "print(DataFake.head())"
   ]
  },
  {
   "cell_type": "markdown",
   "execution_count": null,
   "metadata": {},
   "source": [
    "Assemble the two different kinds of data"
   ]
  },
  {
   "cell_type": "code",
   "execution_count": 5,
   "metadata": {},
   "outputs": [
    {
     "name": "stdout",
     "output_type": "stream",
     "text": [
      "Length of combined data is:\n",
      "2000\n",
      "Data represented as numpy array (first 5 samples) is:\n",
      "['white house confident supreme court will uphold immigration actionwashington (reuters) - the white house said on tuesday it is pleased that the u.s. supreme court agreed to review the immigration case. “we are confident that the policies will be upheld as lawful,” white house spokeswoman brandi hoffine said in a statement. january 19, 2016 ', 'iran condemns u.s. decision to move embassy to jerusalembeirut (reuters) - iran  seriously condemns  the u.s. decision to move its embassy to jerusalem and its recognition of the city as israel s capital, read a statement on wednesday from the ministry of foreign affairs carried by state media. the move violates international resolutions, the statement said. supreme leader ayatollah ali khamenei said earlier that the united states was trying to destabilize the region and start a war to protect israel s security. the u.s. action will  incite muslims and inflame a new intifada and encourage extremism and violent behavior for which the responsibility will lie with (the united states) and the zionist regime (israel),  the foreign ministry statement said. the statement also called on the international community to pressure the united states not to go through with the embassy move or the recognition of jerusalem as israel s capital.  the islamic republic of iran has reiterated that the most important reason for the falling apart of stability and security in the middle east is the continued occupation and the biased and unequivocal support of the american government for the zionist regime,  the statement said.  and the deprivation of the oppressed palestinian people from their primary rights in forming an independent palestinian government with the noble quds as its capital,  it said, using the arabic name for jerusalem. december 6, 2017 ', 'trump expected to make vp announcement on friday: sourceswashington (reuters) - presumptive republican presidential nominee donald trump is expected to announce his choice for running mate at a campaign event on friday, campaign sources said on tuesday. among the possible picks are former u.s. house of representatives speaker newt gingrich, indiana governor mike pence, new jersey governor chris christie and retired lieutenant general michael flynn, according to media reports and republican sources. “i have it down to five people,” trump told fox news on tuesday. pence introduced trump at a campaign rally in westfield, indiana, on tuesday evening. “i don’t know if he’s going to be your governor or your vice president. who the hell knows,” trump told the rally. gingrich and christie have also campaigned with trump in recent weeks. the republican national convention, where trump is set to be formally nominated as the party’s candidate for the nov. 8 election, begins on monday in cleveland. july 13, 2016 ', 'irish student ibrahim halawa freed after four years in egypt jailcairo (reuters) - egyptian authorities have released high-profile irish detainee ibrahim halawa following his acquittal last month of charges including murder, in a four-year mass trial criticized by human rights groups. halawa, a student, and three of his sisters were charged along with nearly 500 others with a host of crimes including breaking into a mosque, killing 44 people, and illegal possession of firearms in violence that followed the military s overthrow of egypt s islamist president, mohamed mursi, in 2013. irish foreign minister simon coveney told irish national broadcaster rte on friday that halawa was likely to be able to fly home by monday following his release late on thursday.   this is a great moment for ibrahim and his family   a moment for celebration, and a moment for savoring freedom, and i want to wish ibrahim halawa and his family all health and happiness for the future,  coveney said in a separate statement. egyptian rights activists say they have faced the worst crackdown in their history under president abdel fattah al-sisi, who was elected president in 2014, a year after as armed forces commander he led the military s toppling of mursi. halawa was 17 when he was arrested in 2013 with hundreds of others as part of the crackdown on protests. since then he had been held in pre-trial detention, where he said he was regularly tortured. the defendants in the case had all faced the death penalty but none received it, though hundreds were given sometimes hefty jail sentences. rights groups welcomed halawa s release.  after four years of unjust detention, today ibrahim halawa finally walks free. he should never have been jailed in the first place and it is utterly outrageous that he was forced to spend a single minute of his young life behind bars.  said najia bounaim, north africa campaigns director at amnesty international. reuters was not immediately able to reach halawa s family for comment on friday, but his sister fatima told rte in a radio interview:  it s beyond description ... it s amazing to finally know that ibrahim is out and he s released and he s safe.  october 20, 2017 ', 'congress weighs harvey aid package, awaits trumpwashington (reuters) - u.s. lawmakers are expected to pass a large aid package for victims of hurricane harvey, but specifics of the plan and its price tag are unclear as congress awaits a funding request from the trump administration. rain continued to pound houston and the gulf coast on monday as president donald trump said he expected rapid federal action to help fund a costly recovery. he plans to visit texas on tuesday to see storm-hit areas. “we’re dealing with congress. as you know it’s going to be a very expensive situation,” he told reporters in the white house. historic flooding from harvey, which came ashore in texas last week as a powerful category 4 hurricane and is now a tropical storm, has killed at least seven people in texas and was expected to drive 30,000 from their homes. wall street analysts estimated insured losses of up to $20 billion, making harvey one of the costliest storms in history for u.s. insurers. after past disasters, congress approved billions of dollars in funds to help with relief and recovery, but in recent years, fiscal conservatives have raised questions about costs. congress will return next week from summer vacation, with the hurricane complicating an already difficult fiscal situation with the federal budget and trump’s mexican border wall proposal. current government funding runs out on sept. 30. congress must approve a measure to keep the government funded and prevent a shutdown. trump threatened last week to shut down the government if congress did not agree to $1.6 billion in funding to start building his proposed wall on the u.s.-mexico border. harvey “will increase the pressure on washington to not shut down the government, but it also makes the september 30 package more cumbersome and complicated,” chris krueger, policy analyst at financial firm cowen & co, said in a research note. asked if harvey made him reconsider his shutdown threat, trump said: “it has nothing to do with it, really. i think this is separate. this is going to go really very, very quickly.” congressional republicans have not spelled out their plan for dealing with the budget and a related, must-pass increase in the federal debt ceiling. some aides and analysts have speculated that those issues might be swept into a single piece of legislation, possibly including harvey aid.  house of representatives democratic leader nancy pelosi said on monday that “republicans must be ready to join democrats in passing a timely relief bill.” federal emergency management agency administrator brock long said more than 450,000 people were expected to seek disaster assistance because of catastrophic flooding. “we will help those affected by this terrible disaster. the first step in that process is a formal request for resources from the administration,” said ashlee strong, spokeswoman for house speaker paul ryan. a senate republican aide said it was too soon to say what was needed. “the committee is monitoring the situation in texas closely,” said chris gallegos, a spokesman for the republican majority on the senate appropriations committee. there is only about $3.3 billion in the federal disaster relief fund. congress approved $62.3 billion in aid after hurricane katrina devastated gulf coast communities and flooded new orleans in 2005. texas republican representative pete sessions told msnbc he expected lawmakers to back any aid package as long as it was not bloated beyond the needed storm response. some conservatives have balked in the past at authorizing money for disaster relief. in 2005, then-indiana republican representative mike pence, now vice president, called on the floor of the house for “offsetting” money spent on katrina relief with cutbacks elsewhere. almost the entire texas delegation - including sessions and republican senator ted cruz - opposed the $50.5 billion aid package that congress approved three months after hurricane sandy hit new jersey and new york in 2012. opponents argued that the sandy package funded things unrelated to the disaster.       “the sandy relief bill had more pork in it than a bacon factory,” said representative blake farenthold, a republican who represents corpus christi, which was hit hard by harvey. republican representative pete king of new york said in a twitter message on monday: “i won’t abandon texas the way ted cruz did new york.” august 28, 2017 ']\n"
     ]
    }
   ],
   "source": [
    "Nsamp =1000 # number of samples to generate in each class - 'true', 'fake'\n",
    "DataTrue = DataTrue.sample(Nsamp)\n",
    "DataFake = DataFake.sample(Nsamp)\n",
    "raw_data = pd.concat([DataTrue,DataFake], axis=0).values\n",
    "\n",
    "# combine title, body text and topics into one string per document\n",
    "raw_data = [sample[0].lower() + sample[1].lower() + sample[3].lower() for sample in raw_data]\n",
    "\n",
    "print(\"Length of combined data is:\")\n",
    "print(len(raw_data))\n",
    "print(\"Data represented as numpy array (first 5 samples) is:\")\n",
    "print(raw_data[:5])\n",
    "\n",
    "# corresponding labels\n",
    "Categories = ['True','False']\n",
    "header = ([1]*Nsamp)\n",
    "header.extend(([0]*Nsamp))"
   ]
  },
  {
   "cell_type": "markdown",
   "execution_count": null,
   "metadata": {},
   "source": [
    "Shuffle data, split into train and test sets..."
   ]
  },
  {
   "cell_type": "code",
   "execution_count": 6,
   "metadata": {},
   "outputs": [
    {
     "name": "stdout",
     "output_type": "stream",
     "text": [
      "train_x/train_y list details, to make sure it is of the right form:\n",
      "1400\n",
      "[0 0 1 1 0]\n",
      "(1400,)\n"
     ]
    }
   ],
   "source": [
    "# function for shuffling data\n",
    "def unison_shuffle(a, b):\n",
    "    p = np.random.permutation(len(b))\n",
    "    data = np.asarray(a)[p]\n",
    "    header = np.asarray(b)[p]\n",
    "    return data, header\n",
    "\n",
    "raw_data, header = unison_shuffle(raw_data, header)\n",
    "\n",
    "# split into independent 70% training and 30% testing sets\n",
    "idx = int(0.7*raw_data.shape[0])\n",
    "\n",
    "# 70% of data for training\n",
    "train_x = raw_data[:idx]\n",
    "train_y = header[:idx]\n",
    "# remaining 30% for testing\n",
    "test_x = raw_data[idx:]\n",
    "test_y = header[idx:]\n",
    "\n",
    "print(\"train_x/train_y list details, to make sure it is of the right form:\")\n",
    "print(len(train_x))\n",
    "#print(train_x)\n",
    "print(train_y[:5])\n",
    "print(train_y.shape)"
   ]
  },
  {
   "cell_type": "markdown",
   "execution_count": null,
   "metadata": {},
   "source": [
    "# Build, Train and Evaluate ELMo Model\n",
    "\n",
    "First import required neural network libraries\n",
    "\n"
   ]
  },
  {
   "cell_type": "code",
   "execution_count": 7,
   "metadata": {
    "_cell_guid": "b1076dfc-b9ad-4769-8c92-a6c4dae69d19",
    "_uuid": "8f2839f25d086af736a60e9eeb907d3b93b6e0e5"
   },
   "outputs": [
    {
     "name": "stderr",
     "output_type": "stream",
     "text": [
      "Using TensorFlow backend.\n"
     ]
    }
   ],
   "source": [
    "import tensorflow as tf\n",
    "import tensorflow_hub as hub\n",
    "from keras import backend as K\n",
    "import keras.layers as layers\n",
    "from keras.models import Model, load_model\n",
    "from keras.engine import Layer\n",
    "\n",
    "# Initialize tensorflow/keras session\n",
    "sess = tf.Session()\n",
    "K.set_session(sess)"
   ]
  },
  {
   "cell_type": "markdown",
   "execution_count": null,
   "metadata": {},
   "source": [
    "Create a custom tf hub ELMO embedding layer"
   ]
  },
  {
   "cell_type": "code",
   "execution_count": 8,
   "metadata": {},
   "outputs": [],
   "source": [
    "class ElmoEmbeddingLayer(Layer):\n",
    "    def __init__(self, **kwargs):\n",
    "        self.dimensions = 1024 # initialize output dimension of ELMo embedding\n",
    "        self.trainable=True\n",
    "        super(ElmoEmbeddingLayer, self).__init__(**kwargs)\n",
    "\n",
    "    def build(self, input_shape): # function for building ELMo embedding\n",
    "        self.elmo = hub.Module('https://tfhub.dev/google/elmo/2', trainable=self.trainable,\n",
    "                               name=\"{}_module\".format(self.name)) # download pretrained ELMo model\n",
    "        \n",
    "        # extract trainable parameters, which are only a small subset of the total - this is a constraint of\n",
    "        # the tf hub module as shared by the authors - see https://tfhub.dev/google/elmo/2\n",
    "        # the trainable parameters are 4 scalar weights on the sum of the outputs of ELMo layers \n",
    "        self.trainable_weights += K.tf.trainable_variables(scope=\"^{}_module/.*\".format(self.name))\n",
    "        super(ElmoEmbeddingLayer, self).build(input_shape)\n",
    "\n",
    "    def call(self, x, mask=None): # specify function for calling embedding\n",
    "        result = self.elmo(K.squeeze(K.cast(x, tf.string), axis=1),\n",
    "                      as_dict=True,\n",
    "                      signature='default',\n",
    "                      )['default']\n",
    "        return result\n",
    "\n",
    "    def compute_output_shape(self, input_shape): # specify output shape\n",
    "        return (input_shape[0], self.dimensions)"
   ]
  },
  {
   "cell_type": "markdown",
   "execution_count": null,
   "metadata": {},
   "source": [
    "We now use the custom TF hub ELMo embedding layer within a higher-level function to define the overall model. More specifically, we put a dense trainable layer of output dimension 256 on top of the ELMo embedding."
   ]
  },
  {
   "cell_type": "code",
   "execution_count": 9,
   "metadata": {},
   "outputs": [],
   "source": [
    "# Function to build overall model\n",
    "def build_model():\n",
    "    input_text = layers.Input(shape=(1,), dtype=\"string\")\n",
    "    embedding = ElmoEmbeddingLayer()(input_text)\n",
    "    dense = layers.Dense(256, activation='relu')(embedding)\n",
    "    pred = layers.Dense(1, activation='sigmoid')(dense)    \n",
    "    model = Model(inputs=[input_text], outputs=pred)\n",
    "    model.compile(loss='binary_crossentropy', optimizer='adam', metrics=['accuracy'])\n",
    "    \n",
    "    model.summary()\n",
    "    \n",
    "    return model"
   ]
  },
  {
   "cell_type": "code",
   "execution_count": 10,
   "metadata": {},
   "outputs": [
    {
     "name": "stdout",
     "output_type": "stream",
     "text": [
      "(1400,)\n"
     ]
    }
   ],
   "source": [
    "print(train_x.shape)"
   ]
  },
  {
   "cell_type": "code",
   "execution_count": 11,
   "metadata": {},
   "outputs": [
    {
     "name": "stdout",
     "output_type": "stream",
     "text": [
      "_________________________________________________________________\n",
      "Layer (type)                 Output Shape              Param #   \n",
      "=================================================================\n",
      "input_1 (InputLayer)         (None, 1)                 0         \n",
      "_________________________________________________________________\n",
      "elmo_embedding_layer_1 (Elmo (None, 1024)              4         \n",
      "_________________________________________________________________\n",
      "dense_1 (Dense)              (None, 256)               262400    \n",
      "_________________________________________________________________\n",
      "dense_2 (Dense)              (None, 1)                 257       \n",
      "=================================================================\n",
      "Total params: 262,661\n",
      "Trainable params: 262,661\n",
      "Non-trainable params: 0\n",
      "_________________________________________________________________\n",
      "Train on 1400 samples, validate on 600 samples\n",
      "Epoch 1/10\n",
      "1400/1400 [==============================] - 853s 610ms/step - loss: 0.2991 - acc: 0.8936 - val_loss: 0.1208 - val_acc: 0.9617\n",
      "Epoch 2/10\n",
      "1400/1400 [==============================] - 833s 595ms/step - loss: 0.1827 - acc: 0.9400 - val_loss: 0.1471 - val_acc: 0.9483\n",
      "Epoch 3/10\n",
      "1400/1400 [==============================] - 827s 590ms/step - loss: 0.1562 - acc: 0.9557 - val_loss: 0.0937 - val_acc: 0.9717\n",
      "Epoch 4/10\n",
      "1400/1400 [==============================] - 837s 598ms/step - loss: 0.0639 - acc: 0.9807 - val_loss: 0.1024 - val_acc: 0.9683\n",
      "Epoch 5/10\n",
      "1400/1400 [==============================] - 841s 601ms/step - loss: 0.1178 - acc: 0.9707 - val_loss: 0.6263 - val_acc: 0.9133\n",
      "Epoch 6/10\n",
      "1400/1400 [==============================] - 839s 599ms/step - loss: 0.1100 - acc: 0.9686 - val_loss: 0.1005 - val_acc: 0.9633\n",
      "Epoch 7/10\n",
      "1400/1400 [==============================] - 834s 596ms/step - loss: 0.0460 - acc: 0.9843 - val_loss: 0.2149 - val_acc: 0.9550\n",
      "Epoch 8/10\n",
      "1400/1400 [==============================] - 834s 596ms/step - loss: 0.1638 - acc: 0.9657 - val_loss: 0.0663 - val_acc: 0.9767\n",
      "Epoch 9/10\n",
      "1400/1400 [==============================] - 835s 596ms/step - loss: 0.0676 - acc: 0.9814 - val_loss: 0.0425 - val_acc: 0.9817\n",
      "Epoch 10/10\n",
      "1400/1400 [==============================] - 833s 595ms/step - loss: 0.0251 - acc: 0.9893 - val_loss: 0.0418 - val_acc: 0.9850\n"
     ]
    }
   ],
   "source": [
    "# Build and fit\n",
    "\n",
    "model = build_model()\n",
    "history = model.fit(train_x, \n",
    "          train_y,\n",
    "          validation_data=(test_x, test_y),\n",
    "          epochs=10,\n",
    "          batch_size=4)"
   ]
  },
  {
   "cell_type": "markdown",
   "execution_count": null,
   "metadata": {},
   "source": [
    "Save trained model"
   ]
  },
  {
   "cell_type": "code",
   "execution_count": 12,
   "metadata": {},
   "outputs": [],
   "source": [
    "model.save('ELMoModel.h5')"
   ]
  },
  {
   "cell_type": "markdown",
   "execution_count": null,
   "metadata": {},
   "source": [
    "Visualize Convergence"
   ]
  },
  {
   "cell_type": "code",
   "execution_count": 13,
   "metadata": {},
   "outputs": [
    {
     "data": {
      "image/png": "[encoded data removed]",
      "text/plain": [
       "<Figure size 432x288 with 1 Axes>"
      ]
     },
     "metadata": {
      "needs_background": "light"
     },
     "output_type": "display_data"
    }
   ],
   "source": [
    "import matplotlib.pyplot as plt\n",
    "\n",
    "df_history = pd.DataFrame(history.history)\n",
    "\n",
    "fig,ax = plt.subplots()\n",
    "plt.plot(range(df_history.shape[0]),df_history['val_acc'],'bs--',label='validation')\n",
    "plt.plot(range(df_history.shape[0]),df_history['acc'],'r^--',label='training')\n",
    "plt.xlabel('epoch')\n",
    "plt.ylabel('accuracy')\n",
    "plt.title('ELMo Fake News Classification Training')\n",
    "plt.legend(loc='best')\n",
    "plt.grid()\n",
    "plt.show()\n",
    "# Save figures\n",
    "fig.savefig('ELMoConvergence.eps', format='eps')\n",
    "fig.savefig('ELMoConvergence.pdf', format='pdf')\n",
    "fig.savefig('ELMoConvergence.png', format='png')\n",
    "fig.savefig('ELMoConvergence.svg', format='svg')"
   ]
  },
  {
   "cell_type": "markdown",
   "execution_count": null,
   "metadata": {},
   "source": [
    "Make figures downloadable to local system in interactive mode"
   ]
  },
  {
   "cell_type": "code",
   "execution_count": 14,
   "metadata": {},
   "outputs": [
    {
     "data": {
      "text/html": [
       "<a href=ELMoConvergence.svg>Download file</a>"
      ],
      "text/plain": [
       "<IPython.core.display.HTML object>"
      ]
     },
     "execution_count": 14,
     "metadata": {},
     "output_type": "execute_result"
    }
   ],
   "source": [
    "from IPython.display import HTML\n",
    "def create_download_link(title = \"Download file\", filename = \"data.csv\"):  \n",
    "    html = '<a href={filename}>{title}</a>'\n",
    "    html = html.format(title=title,filename=filename)\n",
    "    return HTML(html)\n",
    "\n",
    "create_download_link(filename='ELMoConvergence.svg')"
   ]
  }
 ],
 "metadata": {
  "kernelspec": {
   "display_name": "Python 3",
   "language": "python",
   "name": "python3"
  },
  "language_info": {
   "codemirror_mode": {
    "name": "ipython",
    "version": 3
   },
   "file_extension": ".py",
   "mimetype": "text/x-python",
   "name": "python",
   "nbconvert_exporter": "python",
   "pygments_lexer": "ipython3",
   "version": "3.6.6"
  }
 },
 "nbformat": 4,
 "nbformat_minor": 4
}
