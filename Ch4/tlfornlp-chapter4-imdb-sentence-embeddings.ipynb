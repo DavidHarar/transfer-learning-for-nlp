{
 "cells": [
  {
   "cell_type": "markdown",
   "metadata": {},
   "source": [
    "# Preliminaries"
   ]
  },
  {
   "cell_type": "code",
   "execution_count": 1,
   "metadata": {},
   "outputs": [
    {
     "name": "stdout",
     "output_type": "stream",
     "text": [
      "Collecting git+https://github.com/epfml/sent2vec\r\n",
      "  Cloning https://github.com/epfml/sent2vec to /tmp/pip-req-build-hs42t8sz\r\n",
      "  Running command git clone -q https://github.com/epfml/sent2vec /tmp/pip-req-build-hs42t8sz\r\n",
      "Building wheels for collected packages: sent2vec\r\n",
      "  Building wheel for sent2vec (setup.py) ... \u001b[?25l-\b \b\\\b \b|\b \b/\b \b-\b \b\\\b \b|\b \b/\b \b-\b \b\\\b \b|\b \b/\b \b-\b \b\\\b \b|\b \b/\b \bdone\r\n",
      "\u001b[?25h  Created wheel for sent2vec: filename=sent2vec-0.0.0-cp36-cp36m-linux_x86_64.whl size=1139432 sha256=49322fda39fcffd7f40384274744aa2d0e83ef3b5018f7cc1698b00ed419d0dd\r\n",
      "  Stored in directory: /tmp/pip-ephem-wheel-cache-4aexgkan/wheels/f5/1a/52/b5f36e8120688b3f026ac0cefe9c6544905753c51d8190ff17\r\n",
      "Successfully built sent2vec\r\n",
      "Installing collected packages: sent2vec\r\n",
      "Successfully installed sent2vec-0.0.0\r\n"
     ]
    }
   ],
   "source": [
    "# install sent2vec\n",
    "!pip install git+https://github.com/epfml/sent2vec"
   ]
  },
  {
   "cell_type": "markdown",
   "metadata": {},
   "source": [
    "Write requirements to file, anytime you run it, in case you have to go back and recover dependencies.\n",
    "\n",
    "Latest known such requirements are hosted for each notebook in the companion github repo, and can be pulled down and installed here if needed. Companion github repo is located at https://github.com/azunre/transfer-learning-for-nlp"
   ]
  },
  {
   "cell_type": "code",
   "execution_count": 2,
   "metadata": {},
   "outputs": [],
   "source": [
    "!pip freeze > kaggle_image_requirements.txt"
   ]
  },
  {
   "cell_type": "markdown",
   "metadata": {},
   "source": [
    "# Download IMDB Movie Review Dataset\n",
    "Download IMDB dataset"
   ]
  },
  {
   "cell_type": "code",
   "execution_count": 3,
   "metadata": {},
   "outputs": [
    {
     "name": "stdout",
     "output_type": "stream",
     "text": [
      "wget: /opt/conda/lib/libuuid.so.1: no version information available (required by wget)\r\n"
     ]
    }
   ],
   "source": [
    "import random\n",
    "import pandas as pd\n",
    "\n",
    "## Read-in the reviews and print some basic descriptions of them\n",
    "\n",
    "!wget -q \"http://ai.stanford.edu/~amaas/data/sentiment/aclImdb_v1.tar.gz\"\n",
    "!tar xzf aclImdb_v1.tar.gz"
   ]
  },
  {
   "cell_type": "markdown",
   "metadata": {},
   "source": [
    "# Define Tokenization, Stop-word and Punctuation Removal Functions\n",
    "Before proceeding, we must decide how many samples to draw from each class. We must also decide the maximum number of tokens per email, and the maximum length of each token. This is done by setting the following overarching hyperparameters"
   ]
  },
  {
   "cell_type": "code",
   "execution_count": 4,
   "metadata": {},
   "outputs": [],
   "source": [
    "Nsamp = 1000 # number of samples to generate in each class - 'spam', 'not spam'\n",
    "maxtokens = 200 # the maximum number of tokens per document\n",
    "maxtokenlen = 100 # the maximum length of each token"
   ]
  },
  {
   "cell_type": "markdown",
   "metadata": {},
   "source": [
    "**Tokenization**"
   ]
  },
  {
   "cell_type": "code",
   "execution_count": 5,
   "metadata": {},
   "outputs": [],
   "source": [
    "def tokenize(row):\n",
    "    if row is None or row is '':\n",
    "        tokens = \"\"\n",
    "    else:\n",
    "        tokens = row.split(\" \")[:maxtokens]\n",
    "    return tokens"
   ]
  },
  {
   "cell_type": "markdown",
   "metadata": {},
   "source": [
    "**Use regular expressions to remove unnecessary characters**\n",
    "\n",
    "Next, we define a function to remove punctuation marks and other nonword characters (using regular expressions) from the emails with the help of the ubiquitous python regex library. In the same step, we truncate all tokens to hyperparameter maxtokenlen defined above."
   ]
  },
  {
   "cell_type": "code",
   "execution_count": 6,
   "metadata": {},
   "outputs": [],
   "source": [
    "import re\n",
    "\n",
    "def reg_expressions(row):\n",
    "    tokens = []\n",
    "    try:\n",
    "        for token in row:\n",
    "            token = token.lower() # make all characters lower case\n",
    "            token = re.sub(r'[\\W\\d]', \"\", token)\n",
    "            token = token[:maxtokenlen] # truncate token\n",
    "            tokens.append(token)\n",
    "    except:\n",
    "        token = \"\"\n",
    "        tokens.append(token)\n",
    "    return tokens"
   ]
  },
  {
   "cell_type": "markdown",
   "metadata": {},
   "source": [
    "**Stop-word removal**\n",
    "\n",
    "Stop-words are also removed. Stop-words are words that are very common in text but offer no useful information that can be used to classify the text. Words such as is, and, the, are are examples of stop-words. The NLTK library contains a list of 127 English stop-words and can be used to filter our tokenized strings."
   ]
  },
  {
   "cell_type": "code",
   "execution_count": 7,
   "metadata": {},
   "outputs": [
    {
     "name": "stdout",
     "output_type": "stream",
     "text": [
      "[nltk_data] Downloading package stopwords to /usr/share/nltk_data...\n",
      "[nltk_data]   Unzipping corpora/stopwords.zip.\n"
     ]
    }
   ],
   "source": [
    "import nltk\n",
    "\n",
    "nltk.download('stopwords')\n",
    "from nltk.corpus import stopwords\n",
    "stopwords = stopwords.words('english')    \n",
    "\n",
    "# print(stopwords) # see default stopwords\n",
    "# it may be beneficial to drop negation words from the removal list, as they can change the positive/negative meaning\n",
    "# of a sentence\n",
    "# stopwords.remove(\"no\")\n",
    "# stopwords.remove(\"nor\")\n",
    "# stopwords.remove(\"not\")"
   ]
  },
  {
   "cell_type": "code",
   "execution_count": 8,
   "metadata": {},
   "outputs": [],
   "source": [
    "def stop_word_removal(row):\n",
    "    token = [token for token in row if token not in stopwords]\n",
    "    token = filter(None, token)\n",
    "    return token"
   ]
  },
  {
   "cell_type": "markdown",
   "metadata": {},
   "source": [
    "# Assemble Embedding Vectors\n",
    "\n",
    "The following functions are used to extract sent2vec embedding vectors for each review"
   ]
  },
  {
   "cell_type": "code",
   "execution_count": 9,
   "metadata": {},
   "outputs": [
    {
     "name": "stdout",
     "output_type": "stream",
     "text": [
      "Loading the sent2vec embedding took 51 seconds\n"
     ]
    }
   ],
   "source": [
    "import time\n",
    "import sent2vec\n",
    "\n",
    "model = sent2vec.Sent2vecModel()\n",
    "start=time.time()\n",
    "model.load_model('../input/sent2vec/wiki_unigrams.bin')\n",
    "end = time.time()\n",
    "print(\"Loading the sent2vec embedding took %d seconds\"%(end-start))"
   ]
  },
  {
   "cell_type": "code",
   "execution_count": 10,
   "metadata": {},
   "outputs": [],
   "source": [
    "def assemble_embedding_vectors(data):\n",
    "    out = None\n",
    "    for item in data:\n",
    "        vec = model.embed_sentence(\" \".join(item))\n",
    "        if vec is not None:\n",
    "            if out is not None:\n",
    "                out = np.concatenate((out,vec),axis=0)\n",
    "            else:\n",
    "                out = vec                                            \n",
    "        else:\n",
    "            pass\n",
    "        \n",
    "        \n",
    "    return out"
   ]
  },
  {
   "cell_type": "markdown",
   "metadata": {},
   "source": [
    "# Putting It All Together To Assemble Dataset\n",
    "\n",
    "Now, putting all the preprocessing steps together we assemble our dataset..."
   ]
  },
  {
   "cell_type": "code",
   "execution_count": 11,
   "metadata": {},
   "outputs": [
    {
     "name": "stdout",
     "output_type": "stream",
     "text": [
      "(25000,)\n",
      "25000\n"
     ]
    }
   ],
   "source": [
    "import os\n",
    "import numpy as np\n",
    "\n",
    "# shuffle raw data first\n",
    "def unison_shuffle_data(data, header):\n",
    "    p = np.random.permutation(len(header))\n",
    "    data = data[p]\n",
    "    header = np.asarray(header)[p]\n",
    "    return data, header\n",
    "\n",
    "# load data in appropriate form\n",
    "def load_data(path):\n",
    "    data, sentiments = [], []\n",
    "    for folder, sentiment in (('neg', 0), ('pos', 1)):\n",
    "        folder = os.path.join(path, folder)\n",
    "        for name in os.listdir(folder):\n",
    "            with open(os.path.join(folder, name), 'r') as reader:\n",
    "                  text = reader.read()\n",
    "            text = tokenize(text)\n",
    "            text = stop_word_removal(text)\n",
    "            text = reg_expressions(text)\n",
    "            data.append(text)\n",
    "            sentiments.append(sentiment)\n",
    "    data_np = np.array(data)\n",
    "    data, sentiments = unison_shuffle_data(data_np, sentiments)\n",
    "    \n",
    "    return data, sentiments\n",
    "\n",
    "train_path = os.path.join('aclImdb', 'train')\n",
    "test_path = os.path.join('aclImdb', 'test')\n",
    "raw_data, raw_header = load_data(train_path)\n",
    "\n",
    "print(raw_data.shape)\n",
    "print(len(raw_header))"
   ]
  },
  {
   "cell_type": "code",
   "execution_count": 12,
   "metadata": {},
   "outputs": [
    {
     "name": "stdout",
     "output_type": "stream",
     "text": [
      "DEBUG::data_train::\n",
      "[list(['lies', 'tells', 'affair', '', 'year', 'old', 'bucktoothed', 'female', 'student', 'scrawny', '', 'year', 'old', 'married', 'man', 'pair', 'protags', 'spending', 'half', 'screen', 'time', 'engaged', 'naked', 'sex', 'hokey', 'whipping', 'half', 'meandering', 'pathetically', 'naive', 'storyline', 'seems', 'little', 'excuse', 'sex', 'scenes', 'with', 'poor', 'production', 'value', 'including', 'obvious', 'sanitary', 'appliances', 'phony', 'softcore', 'sex', 'story', 'messy', 'mix', 'comedy', 'drama', 'lies', 'quickly', 'becomes', 'redundant', 'ad', 'nauseam', 'with', 'almost', '', 'hour', 'run', 'subtitles', 'little', 'substance', 'lies', 'simply', 'recommendable', 'c'])\n",
      " list(['i', 'took', 'flyer', 'renting', 'movie', 'i', 'gotta', 'say', 'very', 'good', 'on', 'fronts', 'script', 'cast', 'director', 'photography', 'high', 'production', 'values', 'etc', 'proves', 'eva', 'longoria', 'parker', 'head', 'shoulders', 'romcom', 'bad', 'actors', 'kate', 'hudson', 'jennifer', 'aniston', 'mug', 'call', 'acting', 'whoda', 'thunk', 'itbr', 'br', 'parker', 'isla', 'fisher', 'class', 'regard', 'try', 'hold', 'projects', 'good', 'over', 'her', 'dead', 'body', 'lake', 'bell', 'excellent', 'too', 'first', 'time', 'i', 'seen', 'her', 'and', 'finally', 'paul', 'rudd', 'gets', 'shine', 'really', 'good', 'movie', 'instead', 'lesser', 'filmsbr', 'br', 'a', 'movie', 'like', 'never', 'gets', 'dues', 'closeminded', 'males', 'its', 'bad', 'as', 'imdb', 'reviewers', 'noted', 'nothing', 'lame', 'gem', 'no', 'hack', 'writing', 'acting', 'br', 'br', 'and', 'depiction', 'contemporary', 'la', 'california', 'general', 'makes', 'every', 'scene', 'look', 'bright', 'beautiful', 'clean', 'otherwise', 'outstanding', 'every', 'way', 'never', 'movie', 'made', 'la', 'look', 'good', 'ah', 'little', 'talent', 'lot', 'caring'])\n",
      " list(['there', 'something', 'pet', 'sematary', 'i', 'never', 'felt', 'anywhere', 'else', 'maybe', 'fact', 'i', 'kid', 'i', 'first', 'watched', 'made', 'experience', 'memorable', 'but', 'i', 'keep', 'watching', 'again', 'never', 'gets', 'old', 'i', 'never', 'get', 'bored', 'from', 'opening', 'credits', 'creepy', 'opening', 'song', 'chaotic', 'ending', 'something', 'insane', 'sad', 'scary', 'time', 'keeps', 'ringing', 'head', 'sometimes', 'dead', 'better', 'br', 'br', 'i', 'think', 'would', 'useful', 'relate', 'whole', 'story', 'again', 'all', 'need', 'know', 'starts', 'point', 'a', 'the', 'perfect', 'situation', 'happy', 'american', 'family', 'step', 'step', 'drowns', 'point', 'b', 'which', 'is', 'believe', 'me', 'end', 'joy', 'the', 'music', 'perfect', 'story', 'makes', 'sense', 'special', 'effects', 'cool', 'pet', 'sematary', 'last', 'place', 'earth', 'i', 'would', 'be', 'like', 'i', 'said', 'sometimes', 'dead', 'better'])\n",
      " ...\n",
      " list(['words', 'cant', 'describe', 'bad', 'movie', 'is', 'i', 'cant', 'explain', 'writing', 'only', 'you', 'see', 'get', 'grip', 'horrible', 'movie', 'really', 'be', 'not', 'i', 'recommend', 'that', 'there', 'many', 'clichés', 'mistakes', 'and', 'negative', 'things', 'imagine', 'make', 'cry', 'to', 'start', 'technical', 'first', 'lot', 'mistakes', 'regarding', 'airplane', 'i', 'list', 'here', 'mention', 'coloring', 'plane', 'they', 'even', 'manage', 'show', 'airliner', 'colors', 'fictional', 'airline', 'instead', 'used', '', 'painted', 'original', 'boeing', 'livery', 'very', 'bad', 'the', 'plot', 'stupid', 'done', 'many', 'times', 'before', 'much', 'much', 'better', 'there', 'many', 'ridiculous', 'moments', 'lost', 'count', 'really', 'early', 'also', 'i', 'bad', 'guys', 'side', 'time', 'movie', 'good', 'guys', 'stupid', 'executive', 'decision', 'without', 'doubt', 'choice', 'one', 'even', 'turbulencemovies', 'better', 'in', 'fact', 'every', 'movie', 'world', 'better', 'one'])\n",
      " list(['what', 'platoon', 'gis', 'japanese', 'army', 'send', 'back', 'time', '', 'years', 'right', 'middle', 'feudal', 'wars', 'led', 'formation', 'tokugawa', 'shogunate', 'great', 'pitch', 'right', 'the', 'movie', 'exactly', 'says', 'tinbr', 'br', 'thankfully', 'writers', 'bother', 'explain', 'the', 'usually', 'ridiculous', 'scifi', 'movies', 'scientific', 'mumbo', 'jumbo', 'time', 'transport', 'no', 'hows', 'whys', 'they', 'did', 'however', 'time', 'transport', 'sequence', 'trippy', 'hell', 'quite', 'beautiful', 'bit', 'dated', 'not', 'silly', 'one', 'would', 'imaginebr', 'br', 'the', 'rest', 'movie', 'follows', 'premise', 't', 'but', 'loses', 'bit', 'steam', 'various', 'subplots', 'follow', 'gis', 'arrival', 'medieval', 'japan', 'picks', 'devastating', 'battle', 'sequence', 'undoubtedly', 'main', 'order', 'day', 'the', 'whole', 'concept', 'extension', 'movie', 'itself', 'probably', 'originated', 'simple', 'pitch', 'gis', 'equipped', 'latest', 'modern', 'warfare', 'fight', 'samurais', 'and', 'boy', 'deliverbr', 'br', 'the', 'main', 'battle', 'sequence', 'spans', 'half', 'hour', 'probably', 'one'])\n",
      " list(['the', 'fact', 'i', 'watched', 'entire', 'movie', 'says', 'something', 'itor', 'me', 'it', 'good', 'movie', 'terrible', 'fact', 'but', 'terrible', 'way', 'kept', 'attention', 'perverse', 'manner', 'akin', 'watching', 'tragedy', 'able', 'look', 'away', 'it', 'would', 'made', 'great', 'mstk', 'subjectbr', 'br', 'most', 'things', 'make', 'terrible', 'movie', 'enjoyable', 'here', 'bad', 'dialogue', 'inappropriate', 'music', 'contrived', 'plot', 'sequences', 'ridiculous', 'pseudoscience', 'youll', 'thrill', 'slomo', 'death', 'sequences', 'poor', 'victims', 'mouths', 'agape', 'waaaaaaaay', 'much', 'time', 'contemplate', 'impending', 'doom', 'facing', 'outrageously', 'contrived', 'deliverer', 'deaths', 'your', 'heart', 'warmed', 'old', 'action', 'scene', 'cliches', 'like', 'two', 'women', 'struggle', 'gun', 'goes', 'off', 'whos', 'shot', 'both', 'look', 'themselves', 'other', 'themselves', 'seemingly', '', 'minutes', 'later', 'one', 'finally', 'goes', 'down', 'youll', 'sing', 'along', 'in', 'latin', 'course', 'street', 'carolers', 'turn', 'ghastly', 'deathschoir', 'that', 'moment', 'threatened', 'turn', 'movie', 'twisted', 'musicalbr', 'br', 'so', 'believe', 'like', 'i', 'movies', 'get', 'worse', 'get', 'better'])]\n"
     ]
    }
   ],
   "source": [
    "# Subsample required number of samples\n",
    "random_indices = np.random.choice(range(len(raw_header)),size=(Nsamp*2,),replace=False)\n",
    "data_train = raw_data[random_indices]\n",
    "header = raw_header[random_indices]\n",
    "\n",
    "print(\"DEBUG::data_train::\")\n",
    "print(data_train)"
   ]
  },
  {
   "cell_type": "markdown",
   "metadata": {},
   "source": [
    "Display sentiments and their frequencies in the dataset, to ensure it is roughly balanced between classes"
   ]
  },
  {
   "cell_type": "code",
   "execution_count": 13,
   "metadata": {},
   "outputs": [
    {
     "name": "stdout",
     "output_type": "stream",
     "text": [
      "Sentiments and their frequencies:\n",
      "[0 1]\n",
      "[ 981 1019]\n"
     ]
    }
   ],
   "source": [
    "unique_elements, counts_elements = np.unique(header, return_counts=True)\n",
    "print(\"Sentiments and their frequencies:\")\n",
    "print(unique_elements)\n",
    "print(counts_elements)"
   ]
  },
  {
   "cell_type": "markdown",
   "metadata": {},
   "source": [
    "**Featurize and Create Labels**"
   ]
  },
  {
   "cell_type": "code",
   "execution_count": 14,
   "metadata": {},
   "outputs": [
    {
     "name": "stdout",
     "output_type": "stream",
     "text": [
      "[[-0.10970693  0.0264979  -0.06668812 ... -0.06135891  0.10399647\n",
      "   0.11283641]\n",
      " [ 0.01635483 -0.07069934 -0.07330526 ... -0.06486997 -0.12292957\n",
      "   0.19007745]\n",
      " [ 0.05848995 -0.06804366 -0.05285235 ... -0.04700164 -0.00218878\n",
      "   0.19437891]\n",
      " ...\n",
      " [-0.00294127 -0.09474029 -0.19413887 ... -0.02495788 -0.12186395\n",
      "   0.24457315]\n",
      " [-0.09781604  0.0410435   0.15624475 ...  0.16183579 -0.0496471\n",
      "   0.23804286]\n",
      " [ 0.12789544  0.04092479  0.08634546 ... -0.01163953 -0.05667458\n",
      "   0.305419  ]]\n"
     ]
    }
   ],
   "source": [
    "EmbeddingVectors = assemble_embedding_vectors(data_train)\n",
    "print(EmbeddingVectors)"
   ]
  },
  {
   "cell_type": "code",
   "execution_count": 15,
   "metadata": {},
   "outputs": [
    {
     "name": "stdout",
     "output_type": "stream",
     "text": [
      "train_x/train_y list details, to make sure it is of the right form:\n",
      "1400\n",
      "[[-0.10970693  0.0264979  -0.06668812 ... -0.06135891  0.10399647\n",
      "   0.11283641]\n",
      " [ 0.01635483 -0.07069934 -0.07330526 ... -0.06486997 -0.12292957\n",
      "   0.19007745]\n",
      " [ 0.05848995 -0.06804366 -0.05285235 ... -0.04700164 -0.00218878\n",
      "   0.19437891]\n",
      " ...\n",
      " [ 0.03469189 -0.12465405 -0.11131437 ... -0.16204219  0.0035756\n",
      "   0.1894062 ]\n",
      " [-0.04250745 -0.1720962   0.07359155 ...  0.16754892 -0.06874844\n",
      "   0.06055736]\n",
      " [-0.07707034 -0.01455164 -0.05762631 ... -0.03803353  0.04129836\n",
      "   0.14854823]]\n",
      "[0 1 1 0 1]\n",
      "1400\n"
     ]
    }
   ],
   "source": [
    "data = EmbeddingVectors\n",
    "\n",
    "idx = int(0.7*data.shape[0])\n",
    "\n",
    "# 70% of data for training\n",
    "train_x = data[:idx,:]\n",
    "train_y = header[:idx]\n",
    "# # remaining 30% for testing\n",
    "test_x = data[idx:,:]\n",
    "test_y = header[idx:] \n",
    "\n",
    "print(\"train_x/train_y list details, to make sure it is of the right form:\")\n",
    "print(len(train_x))\n",
    "print(train_x)\n",
    "print(train_y[:5])\n",
    "print(len(train_y))"
   ]
  },
  {
   "cell_type": "markdown",
   "metadata": {},
   "source": [
    "# Logistic Regression Classifier"
   ]
  },
  {
   "cell_type": "code",
   "execution_count": 16,
   "metadata": {},
   "outputs": [
    {
     "name": "stderr",
     "output_type": "stream",
     "text": [
      "/opt/conda/lib/python3.6/site-packages/sklearn/linear_model/logistic.py:432: FutureWarning: Default solver will be changed to 'lbfgs' in 0.22. Specify a solver to silence this warning.\n",
      "  FutureWarning)\n"
     ]
    }
   ],
   "source": [
    "from sklearn.linear_model import LogisticRegression\n",
    "\n",
    "def fit(train_x,train_y):\n",
    "    model = LogisticRegression()\n",
    "\n",
    "    try:\n",
    "        model.fit(train_x, train_y)\n",
    "    except:\n",
    "        pass\n",
    "    return model\n",
    "\n",
    "model = fit(train_x,train_y)"
   ]
  },
  {
   "cell_type": "code",
   "execution_count": 17,
   "metadata": {},
   "outputs": [
    {
     "name": "stdout",
     "output_type": "stream",
     "text": [
      "DEBUG::The logistic regression predicted labels are::\n",
      "[1 1 1 0 1 0 1 0 1 1 1 1 0 1 1 0 0 1 1 1 1 1 0 0 1 0 1 0 0 0 0 0 0 0 0 0 0\n",
      " 0 1 0 0 0 0 1 0 1 0 0 0 0 0 0 1 0 1 0 0 1 0 0 0 0 0 1 1 0 0 1 1 1 0 1 1 0\n",
      " 1 1 0 1 1 1 0 1 1 1 1 1 1 1 0 1 1 0 0 1 1 0 1 1 1 1 1 1 0 1 0 1 0 1 0 0 1\n",
      " 1 1 1 1 0 1 1 0 0 0 0 0 1 0 1 1 1 1 0 1 0 1 1 0 0 0 1 0 0 1 0 1 1 1 1 0 0\n",
      " 0 1 1 1 1 0 1 0 0 0 1 1 0 1 0 0 1 0 0 1 0 0 1 1 1 0 1 1 0 1 1 1 0 1 0 0 1\n",
      " 0 0 1 0 1 0 0 0 0 1 0 1 0 0 0 1 0 1 1 0 0 0 0 0 1 1 1 1 0 1 0 0 0 1 0 1 1\n",
      " 1 0 0 1 0 1 1 0 1 1 1 0 1 1 0 1 1 1 0 0 0 0 1 0 0 0 1 1 1 0 0 0 1 0 0 0 1\n",
      " 0 0 1 1 1 0 1 1 1 1 0 0 1 0 1 1 1 1 0 1 1 1 0 1 0 0 1 0 0 0 0 1 1 1 1 1 0\n",
      " 0 1 0 1 0 1 0 1 0 1 1 0 1 0 1 1 0 1 0 0 0 0 0 0 1 0 1 1 0 0 0 0 1 1 0 1 1\n",
      " 0 0 0 0 0 0 0 1 0 0 1 0 0 0 0 0 0 1 0 0 1 1 1 0 0 1 1 0 1 0 0 0 1 1 0 1 0\n",
      " 1 1 0 1 1 0 1 1 0 1 1 1 0 0 1 0 1 1 0 0 0 0 0 0 0 1 0 0 1 0 1 1 1 0 0 1 0\n",
      " 1 1 0 1 0 0 0 1 1 1 0 0 1 0 0 1 1 1 1 0 0 0 1 0 1 1 0 1 0 1 1 1 0 1 0 0 1\n",
      " 1 1 1 0 0 0 1 0 0 1 0 1 1 0 0 0 0 1 0 1 1 1 1 1 1 1 1 0 0 0 1 1 0 1 1 1 1\n",
      " 0 0 0 1 1 0 0 1 0 0 0 1 0 0 1 0 0 1 0 0 1 1 0 1 0 0 1 0 1 0 0 1 1 0 0 1 1\n",
      " 1 0 1 1 1 1 1 0 1 1 0 1 1 1 1 0 1 0 1 1 1 1 1 0 0 1 1 0 1 1 1 0 0 1 0 0 1\n",
      " 0 1 0 1 1 0 0 0 1 1 0 0 0 1 1 1 1 1 1 0 0 0 0 1 0 1 1 1 1 1 0 1 1 0 1 1 1\n",
      " 1 0 0 1 1 0 0 0]\n"
     ]
    }
   ],
   "source": [
    "predicted_labels = model.predict(test_x)\n",
    "print(\"DEBUG::The logistic regression predicted labels are::\")\n",
    "print(predicted_labels)"
   ]
  },
  {
   "cell_type": "code",
   "execution_count": 18,
   "metadata": {},
   "outputs": [
    {
     "name": "stdout",
     "output_type": "stream",
     "text": [
      "The logistic regression accuracy score is::\n",
      "0.8066666666666666\n"
     ]
    }
   ],
   "source": [
    "from sklearn.metrics import accuracy_score\n",
    "\n",
    "acc_score = accuracy_score(test_y, predicted_labels)\n",
    "\n",
    "print(\"The logistic regression accuracy score is::\")\n",
    "print(acc_score)"
   ]
  },
  {
   "cell_type": "markdown",
   "metadata": {},
   "source": [
    "# Random Forests"
   ]
  },
  {
   "cell_type": "code",
   "execution_count": 19,
   "metadata": {},
   "outputs": [
    {
     "name": "stderr",
     "output_type": "stream",
     "text": [
      "/opt/conda/lib/python3.6/site-packages/sklearn/ensemble/forest.py:245: FutureWarning: The default value of n_estimators will change from 10 in version 0.20 to 100 in 0.22.\n",
      "  \"10 in version 0.20 to 100 in 0.22.\", FutureWarning)\n"
     ]
    },
    {
     "name": "stdout",
     "output_type": "stream",
     "text": [
      "Training the Random Forest Classifier took   0 seconds\n",
      "DEBUG::The RF predicted labels are::\n",
      "[1 1 1 0 1 0 0 0 0 1 1 1 0 1 0 0 0 0 0 1 1 1 0 0 1 0 1 1 0 1 0 0 0 0 0 1 1\n",
      " 0 1 0 0 1 0 1 0 1 0 0 1 0 0 0 1 0 1 0 0 1 1 0 1 0 1 1 0 0 0 1 0 1 1 1 1 1\n",
      " 1 0 0 1 0 1 1 1 1 1 1 0 1 1 0 1 0 1 0 1 0 0 1 0 1 1 1 1 0 1 0 1 1 0 0 1 1\n",
      " 1 0 1 0 0 0 0 1 0 1 0 1 1 1 0 1 1 0 0 0 1 1 0 0 0 0 0 0 0 1 0 1 0 0 0 0 0\n",
      " 1 1 0 1 1 0 0 0 1 1 1 1 0 1 0 0 1 1 0 1 0 1 0 0 0 0 0 1 1 1 1 1 0 1 0 0 0\n",
      " 0 1 1 0 1 0 0 0 0 1 0 1 0 0 0 1 1 1 1 0 0 0 0 1 1 1 1 1 1 1 0 0 1 1 0 1 1\n",
      " 1 0 0 0 0 1 0 1 1 1 0 0 1 0 0 1 1 0 0 1 0 0 0 0 0 0 1 1 0 0 1 1 1 1 0 0 0\n",
      " 0 0 1 0 1 1 1 1 1 1 0 0 0 0 1 1 1 1 1 1 0 0 0 1 1 1 1 0 1 0 0 1 1 0 1 1 0\n",
      " 1 1 0 0 0 1 0 1 0 0 1 1 1 0 0 1 0 1 0 0 0 0 0 1 0 0 0 1 0 1 0 0 0 1 0 1 1\n",
      " 0 0 0 1 1 0 0 1 0 0 1 0 0 0 0 0 0 1 0 0 1 0 0 1 0 1 1 0 0 0 0 1 1 1 1 1 0\n",
      " 1 0 0 0 1 0 0 1 0 1 1 0 0 0 1 0 0 1 0 1 0 0 1 0 0 1 0 0 1 0 1 1 1 0 1 1 0\n",
      " 1 1 1 1 0 0 0 1 1 0 0 0 1 1 0 0 1 1 1 0 0 0 0 0 1 1 0 1 1 1 0 1 0 1 0 1 1\n",
      " 1 1 1 0 0 1 1 1 0 1 0 1 1 0 0 0 0 1 0 0 1 1 1 1 0 1 1 0 0 0 0 1 0 1 0 0 0\n",
      " 0 0 0 1 1 0 1 1 1 1 0 1 0 1 1 0 0 1 0 0 1 0 0 1 1 0 1 0 0 0 0 0 1 0 0 1 0\n",
      " 1 1 1 1 0 1 1 1 0 1 0 0 1 1 1 0 1 0 0 1 0 1 0 0 0 0 1 1 1 1 1 0 1 0 1 1 0\n",
      " 0 0 1 1 1 0 0 0 0 1 0 0 0 0 0 0 0 0 1 0 0 1 0 1 1 0 1 1 0 1 0 1 1 0 1 0 0\n",
      " 0 0 0 1 0 0 1 0]\n",
      "DEBUG::The RF testing accuracy score is::\n",
      "0.7133333333333334\n"
     ]
    }
   ],
   "source": [
    "# Load scikit's random forest classifier library\n",
    "from sklearn.ensemble import RandomForestClassifier\n",
    "\n",
    "# Create a random forest Classifier. By convention, clf means 'Classifier'\n",
    "clf = RandomForestClassifier(n_jobs=1, random_state=0)\n",
    "\n",
    "# Train the Classifier to take the training features and learn how they relate\n",
    "# to the training y (spam, not spam?)\n",
    "start_time = time.time()\n",
    "clf.fit(train_x, train_y)\n",
    "end_time = time.time()\n",
    "print(\"Training the Random Forest Classifier took %3d seconds\"%(end_time-start_time))\n",
    "\n",
    "predicted_labels = clf.predict(test_x)\n",
    "print(\"DEBUG::The RF predicted labels are::\")\n",
    "print(predicted_labels)\n",
    "\n",
    "acc_score = accuracy_score(test_y, predicted_labels)\n",
    "\n",
    "print(\"DEBUG::The RF testing accuracy score is::\")\n",
    "print(acc_score)"
   ]
  },
  {
   "cell_type": "code",
   "execution_count": 20,
   "metadata": {},
   "outputs": [],
   "source": [
    "from IPython.display import HTML\n",
    "def create_download_link(title = \"Download file\", filename = \"data.csv\"):  \n",
    "    html = '<a href={filename}>{title}</a>'\n",
    "    html = html.format(title=title,filename=filename)\n",
    "    return HTML(html)\n",
    "\n",
    "#create_download_link(filename='GBMimportances.svg')"
   ]
  },
  {
   "cell_type": "code",
   "execution_count": 21,
   "metadata": {},
   "outputs": [],
   "source": [
    "!rm -rf aclImdb\n",
    "!rm aclImdb_v1.tar.gz"
   ]
  }
 ],
 "metadata": {
  "kernelspec": {
   "display_name": "Python 3",
   "language": "python",
   "name": "python3"
  },
  "language_info": {
   "codemirror_mode": {
    "name": "ipython",
    "version": 3
   },
   "file_extension": ".py",
   "mimetype": "text/x-python",
   "name": "python",
   "nbconvert_exporter": "python",
   "pygments_lexer": "ipython3",
   "version": "3.6.6"
  }
 },
 "nbformat": 4,
 "nbformat_minor": 4
}
