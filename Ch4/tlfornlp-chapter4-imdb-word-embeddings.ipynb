{
 "cells": [
  {
   "cell_type": "markdown",
   "metadata": {},
   "source": [
    "# WARNING\n",
    "**Please make sure to \"COPY AND EDIT NOTEBOOK\" to use compatible library dependencies! DO NOT CREATE A NEW NOTEBOOK AND COPY+PASTE THE CODE - this will use latest Kaggle dependencies at the time you do that, and the code will need to be modified to make it work. Also make sure internet connectivity is enabled on your notebook**"
   ]
  },
  {
   "cell_type": "markdown",
   "metadata": {},
   "source": [
    "# Preliminaries\n",
    "Write requirements to file, anytime you run it, in case you have to go back and recover dependencies. **MOST OF THESE REQUIREMENTS WOULD NOT BE NECESSARY FOR LOCAL INSTALLATION**\n",
    "\n",
    "Latest known such requirements are hosted for each notebook in the companion github repo, and can be pulled down and installed here if needed. Companion github repo is located at https://github.com/azunre/transfer-learning-for-nlp"
   ]
  },
  {
   "cell_type": "code",
   "execution_count": 1,
   "metadata": {},
   "outputs": [],
   "source": [
    "!pip freeze > kaggle_image_requirements.txt"
   ]
  },
  {
   "cell_type": "markdown",
   "metadata": {},
   "source": [
    "# Download IMDB Movie Review Dataset\n",
    "Download IMDB dataset"
   ]
  },
  {
   "cell_type": "code",
   "execution_count": 2,
   "metadata": {},
   "outputs": [
    {
     "name": "stdout",
     "output_type": "stream",
     "text": [
      "wget: /opt/conda/lib/libuuid.so.1: no version information available (required by wget)\r\n"
     ]
    }
   ],
   "source": [
    "import random\n",
    "import pandas as pd\n",
    "\n",
    "## Read-in the reviews and print some basic descriptions of them\n",
    "\n",
    "!wget -q \"http://ai.stanford.edu/~amaas/data/sentiment/aclImdb_v1.tar.gz\"\n",
    "!tar xzf aclImdb_v1.tar.gz"
   ]
  },
  {
   "cell_type": "markdown",
   "metadata": {},
   "source": [
    "# Define Tokenization, Stop-word and Punctuation Removal Functions\n",
    "Before proceeding, we must decide how many samples to draw from each class. We must also decide the maximum number of tokens per email, and the maximum length of each token. This is done by setting the following overarching hyperparameters"
   ]
  },
  {
   "cell_type": "code",
   "execution_count": 3,
   "metadata": {},
   "outputs": [],
   "source": [
    "Nsamp = 1000 # number of samples to generate in each class - 'spam', 'not spam'\n",
    "maxtokens = 200 # the maximum number of tokens per document\n",
    "maxtokenlen = 100 # the maximum length of each token"
   ]
  },
  {
   "cell_type": "markdown",
   "metadata": {},
   "source": [
    "**Tokenization**"
   ]
  },
  {
   "cell_type": "code",
   "execution_count": 4,
   "metadata": {},
   "outputs": [],
   "source": [
    "def tokenize(row):\n",
    "    if row is None or row is '':\n",
    "        tokens = \"\"\n",
    "    else:\n",
    "        tokens = row.split(\" \")[:maxtokens]\n",
    "    return tokens"
   ]
  },
  {
   "cell_type": "markdown",
   "metadata": {},
   "source": [
    "**Use regular expressions to remove unnecessary characters**\n",
    "\n",
    "Next, we define a function to remove punctuation marks and other nonword characters (using regular expressions) from the emails with the help of the ubiquitous python regex library. In the same step, we truncate all tokens to hyperparameter maxtokenlen defined above."
   ]
  },
  {
   "cell_type": "code",
   "execution_count": 5,
   "metadata": {},
   "outputs": [],
   "source": [
    "import re\n",
    "\n",
    "def reg_expressions(row):\n",
    "    tokens = []\n",
    "    try:\n",
    "        for token in row:\n",
    "            token = token.lower() # make all characters lower case\n",
    "            token = re.sub(r'[\\W\\d]', \"\", token)\n",
    "            token = token[:maxtokenlen] # truncate token\n",
    "            tokens.append(token)\n",
    "    except:\n",
    "        token = \"\"\n",
    "        tokens.append(token)\n",
    "    return tokens"
   ]
  },
  {
   "cell_type": "markdown",
   "metadata": {},
   "source": [
    "**Stop-word removal**\n",
    "\n",
    "Stop-words are also removed. Stop-words are words that are very common in text but offer no useful information that can be used to classify the text. Words such as is, and, the, are are examples of stop-words. The NLTK library contains a list of 127 English stop-words and can be used to filter our tokenized strings."
   ]
  },
  {
   "cell_type": "code",
   "execution_count": 6,
   "metadata": {},
   "outputs": [
    {
     "name": "stdout",
     "output_type": "stream",
     "text": [
      "[nltk_data] Downloading package stopwords to /usr/share/nltk_data...\n",
      "[nltk_data]   Unzipping corpora/stopwords.zip.\n"
     ]
    }
   ],
   "source": [
    "import nltk\n",
    "\n",
    "nltk.download('stopwords')\n",
    "from nltk.corpus import stopwords\n",
    "stopwords = stopwords.words('english')    \n",
    "\n",
    "# print(stopwords) # see default stopwords\n",
    "# it may be beneficial to drop negation words from the removal list, as they can change the positive/negative meaning\n",
    "# of a sentence\n",
    "# stopwords.remove(\"no\")\n",
    "# stopwords.remove(\"nor\")\n",
    "# stopwords.remove(\"not\")"
   ]
  },
  {
   "cell_type": "code",
   "execution_count": 7,
   "metadata": {},
   "outputs": [],
   "source": [
    "def stop_word_removal(row):\n",
    "    token = [token for token in row if token not in stopwords]\n",
    "    token = filter(None, token)\n",
    "    return token"
   ]
  },
  {
   "cell_type": "markdown",
   "metadata": {},
   "source": [
    "# Assemble Embedding Vectors\n",
    "\n",
    "The following functions are used to extract fastText embedding vectors for each review"
   ]
  },
  {
   "cell_type": "code",
   "execution_count": 8,
   "metadata": {},
   "outputs": [
    {
     "name": "stdout",
     "output_type": "stream",
     "text": [
      "__notebook__.ipynb  aclImdb  aclImdb_v1.tar.gz\tkaggle_image_requirements.txt\r\n",
      "Loading the embedding took 1119 seconds\n"
     ]
    }
   ],
   "source": [
    "import time\n",
    "from gensim.models import FastText, KeyedVectors\n",
    "\n",
    "!ls\n",
    "\n",
    "start=time.time()\n",
    "FastText_embedding = KeyedVectors.load_word2vec_format(\"../input/jigsaw/wiki.en.vec\")\n",
    "end = time.time()\n",
    "print(\"Loading the embedding took %d seconds\"%(end-start))"
   ]
  },
  {
   "cell_type": "code",
   "execution_count": 9,
   "metadata": {},
   "outputs": [],
   "source": [
    "def handle_out_of_vocab(embedding,in_txt):\n",
    "    out = None\n",
    "    for word in in_txt:\n",
    "        try:\n",
    "            tmp = embedding[word]\n",
    "            tmp = tmp.reshape(1,len(tmp))\n",
    "            \n",
    "            if out is None:\n",
    "                out = tmp\n",
    "            else:\n",
    "                out = np.concatenate((out,tmp),axis=0)\n",
    "        except:\n",
    "            pass\n",
    "    \n",
    "    return out\n",
    "        \n",
    "\n",
    "def assemble_embedding_vectors(data):\n",
    "    out = None\n",
    "    for item in data:\n",
    "        tmp = handle_out_of_vocab(FastText_embedding,item)\n",
    "        if tmp is not None:\n",
    "            dim = tmp.shape[1]\n",
    "            if out is not None:\n",
    "                vec = np.mean(tmp,axis=0)\n",
    "                vec = vec.reshape((1,dim))\n",
    "                out = np.concatenate((out,vec),axis=0)\n",
    "            else:\n",
    "                out = np.mean(tmp,axis=0).reshape((1,dim))                                            \n",
    "        else:\n",
    "            pass\n",
    "        \n",
    "        \n",
    "    return out"
   ]
  },
  {
   "cell_type": "markdown",
   "metadata": {},
   "source": [
    "# Putting It All Together To Assemble Dataset\n",
    "\n",
    "Now, putting all the preprocessing steps together we assemble our dataset..."
   ]
  },
  {
   "cell_type": "code",
   "execution_count": 10,
   "metadata": {},
   "outputs": [
    {
     "name": "stdout",
     "output_type": "stream",
     "text": [
      "(25000,)\n",
      "25000\n"
     ]
    }
   ],
   "source": [
    "import os\n",
    "import numpy as np\n",
    "\n",
    "# shuffle raw data first\n",
    "def unison_shuffle_data(data, header):\n",
    "    p = np.random.permutation(len(header))\n",
    "    data = data[p]\n",
    "    header = np.asarray(header)[p]\n",
    "    return data, header\n",
    "\n",
    "# load data in appropriate form\n",
    "def load_data(path):\n",
    "    data, sentiments = [], []\n",
    "    for folder, sentiment in (('neg', 0), ('pos', 1)):\n",
    "        folder = os.path.join(path, folder)\n",
    "        for name in os.listdir(folder):\n",
    "            with open(os.path.join(folder, name), 'r') as reader:\n",
    "                  text = reader.read()\n",
    "            text = tokenize(text)\n",
    "            text = stop_word_removal(text)\n",
    "            text = reg_expressions(text)\n",
    "            data.append(text)\n",
    "            sentiments.append(sentiment)\n",
    "    data_np = np.array(data)\n",
    "    data, sentiments = unison_shuffle_data(data_np, sentiments)\n",
    "    \n",
    "    return data, sentiments\n",
    "\n",
    "train_path = os.path.join('aclImdb', 'train')\n",
    "test_path = os.path.join('aclImdb', 'test')\n",
    "raw_data, raw_header = load_data(train_path)\n",
    "\n",
    "print(raw_data.shape)\n",
    "print(len(raw_header))"
   ]
  },
  {
   "cell_type": "code",
   "execution_count": 11,
   "metadata": {},
   "outputs": [
    {
     "name": "stdout",
     "output_type": "stream",
     "text": [
      "DEBUG::data_train::\n",
      "[list(['this', 'one', 'time', 'favorites', 'it', 'simple', 'sweet', '', 'definitely', 'chick', 'flick', 'romantic', 'comedy', 'i', 'really', 'like', 'film', 'full', 'good', 'quotes', 'it', 'one', 'favorites', 'albert', 'einstein', 'says', 'ed', 'walters', 'are', 'thinking', 'im', 'thinking', 'ed', 'says', 'now', 'odds', 'happening', 'in', 'opinion', 'film', 'fabulous', 'watch', 'get', 'amount', 'enjoyment', 'it', 'one', 'can', 'i', 'also', 'really', 'enjoyed', 'walter', 'ms', 'way', 'portraying', 'einstein', 'i', 'think', 'characters', 'fit', 'together', 'really', 'well', 'story', 'flows', 'nicely', 'there', 'many', 'times', 'i', 'find', 'smiling', 'right', 'along', 'film', 'quoting', 'favorite', 'lines', 'i', 'watch', 'it', 'i', 'would', 'recommend', 'movie', 'anyone', 'heart', 'enjoys', 'feelgood', 'romantic', 'comedy', 'then'])\n",
      " list(['the', 'premise', 'sucked', 'in', 'clear', '', 'seconds', 'either', 'david', 'lynch', 'something', 'seriously', 'terrible', 'interesting', 'watch', 'run', 'fundamentalist', 'laundry', 'list', 'i', 'sucker', 'stirring', 'spiritual', 'piece', 'romero', 'comes', 'mind', 'nothing', 'spiritual', 'whatsoever', 'one', 'the', 'message', 'seems', 'must', 'pretend', 'iq', '', 'or', 'simply', 'get', 'lobotomy', '', 'jennifer', 'happened', 'ya', 'blindly', 'follow', 'bible', 'without', 'sort', 'selfexamination', 'whatsoever', 'well', 'trigger', 'second', 'coming', 'its', 'kind', 'attitude', 'makes', 'people', 'fly', 'jumbo', 'jets', '', 'story', 'buildings', 'i', 'work', 'around', 'corner', 'site', 'former', 'wtc', 'i', 'like', 'think', 'god', 'little', 'greater', 'that'])\n",
      " list(['', 'spoiler', 'warning', 'br', 'br', 'absolutely', 'without', 'doubt', 'one', 'funniest', 'comedies', 'ever', 'created', 'screen', 'totally', 'impossible', 'take', 'seriously', 'it', 'would', 'take', 'major', 'novel', 'list', 'comedy', 'routines', 'it', 'during', 'glory', 'days', 'program', 'carol', 'burnett', 'company', 'often', 'takeoffs', 'films', 'skewered', 'one', 'ways', 'hard', 'imagine', 'carol', 'played', 'jenny', 'suddenly', 'became', 'ill', 'slight', 'cough', 'immediately', 'treacly', 'music', 'came', 'everyone', 'looked', 'around', 'wondering', 'coming', 'from', 'harvey', 'korman', 'played', 'oliver', 'flowing', 'locks', 'almost', 'look', 'liked', 'ryan', 'oneal', 'the', 'thing', 'funnier', 'bit', 'real', 'filmbr', 'br', 'what', 'death', 'scene', 'end', 'jenny', 'really', 'looks', 'like', 'dying', 'alrightdying', 'makeup', 'artist', 'come', 'give', 'little', 'color', 'and', 'course', 'know', 'often', 'hospitals', 'encourage', 'loved', 'one', 'get', 'bed', 'patients', 'final', 'moments', 'the', 'ending', 'scene', 'ryan', 'oneal', 'sitting', 'bench', 'snow', 'contemplating', 'future', 'movie', 'business', 'instant', 'classic', 'he'])\n",
      " ...\n",
      " list(['i', 'rented', 'mistake', 'i', 'thought', 'cursory', 'examination', 'box', 'timetravelscifi', 'story', 'instead', 'christian', 'story', 'i', 'suppose', 'fairly', 'typical', 'example', 'if', 'sold', 'message', 'probably', 'overlook', 'awkwardness', 'plotactingetc', 'i', 'found', 'rather', 'painful', 'br', 'br', 'i', 'admit', 'im', 'bothered', 'rewriting', 'history', 'story', 'it', 'paints', 's', 'sort', 'paradise', 'family', 'values', 'morality', 'a', 'character', 'aghast', '', 'marriages', 'end', 'divorce', 'overlooks', 'unsavory', 'sides', 'highly', 'moral', 'society', 'rigid', 'racial', 'sexual', 'social', 'discrimination', 'widespread', 'instance', 'and', 'one', 'point', 'hero', 'complains', 'clothing', 'store', 'owner', 'things', 'sound', 'different', 'complaints', 'iranian', 'leaders', 'womens', 'clothing', 'styles', 'as', 'reported', 'recent', 'wsjbr', 'br', 'overall', 'thought', 'i', 'suppose', 'sort', 'thing', 'like', 'like', 'sort', 'thing', 'certainly', 'wholesome'])\n",
      " list(['it', 'absolutely', 'incredible', 'anyone', 'could', 'make', 'comment', 'film', 'preachy', 'it', 'oppressively', 'preachy', 'absurd', 'stagebound', 'dramatically', 'straightjacketed', 'painfully', 'overwrought', 'watching', 'it', 'one', 'feels', 'like', '', 'year', 'old', 'child', 'punished', 'write', 'i', 'become', 'fascist', 'blackboard', '', 'timesbr', 'br', 'now', 'i', 'understand', 'made', 'height', 'ww', 'intended', 'brave', 'condemnation', 'hitler', 'terrible', 'suffering', 'brought', 'about', 'which', 'anyone', 'would', 'wholeheartedly', 'applaud', 'im', 'sure', 'accurately', 'captured', 'mood', 'day', 'but', 'presented', 'immature', 'overobvious', 'sledgehammer', 'way', 'fails', 'abysmally', 'work', 'artbr', 'br', 'the', 'good', 'performances', 'paul', 'lukas', 'brings', 'sincerity', 'intensity', 'role', 'quietly', 'heroic', 'antifascist', 'lucile', 'watson', 'amusingly', 'illmannered', 'rich', 'grandmother', 'slowly', 'comes', 'realize', 'dangerous', 'world', 'become', 'though', 'rootless', 'upbringing', 'subjected', 'kinds', 'hardships', 'children', 'ridiculously', 'shown', 'robotically', 'wellbehaved', 'little', 'snips', 'they', 'even', 'remotely', 'resemble', 'real', 'human', 'beings', 'and', 'bette'])\n",
      " list(['by', 'hook', 'by', 'crook', 'tremendously', 'innovative', 'film', 'pair', 'immensely', 'smart', 'talented', 'filmmakers', 'harry', 'dodge', 'silas', 'howard', 'they', 'manage', 'tell', 'original', 'story', 'distinctive', 'cinematic', 'style', 'beautifully', 'shot', 'ann', 't', 'rosetti', 'wonderfully', 'written', '', 'truly', 'poetic', 'br', 'br', 'the', 'lead', 'characters', 'true', 'heroes', 'serve', 'rare', 'kind', 'role', 'modelinspiration', 'butch', 'dykes', 'trannies', 'everywhere', 'this', 'film', 'much', 'energy', 'much', 'poignant', 'passion', 'scruffy', 'san', 'francisco', 'heart', 'it', 'i', 'cant', 'recommend', 'highly', 'enough', 'br', 'br', 'the', 'best', 'butch', 'buddy', 'movie', 'time'])]\n"
     ]
    }
   ],
   "source": [
    "# Subsample required number of samples\n",
    "random_indices = np.random.choice(range(len(raw_header)),size=(Nsamp*2,),replace=False)\n",
    "data_train = raw_data[random_indices]\n",
    "header = raw_header[random_indices]\n",
    "\n",
    "print(\"DEBUG::data_train::\")\n",
    "print(data_train)"
   ]
  },
  {
   "cell_type": "markdown",
   "metadata": {},
   "source": [
    "Display sentiments and their frequencies in the dataset, to ensure it is roughly balanced between classes"
   ]
  },
  {
   "cell_type": "code",
   "execution_count": 12,
   "metadata": {},
   "outputs": [
    {
     "name": "stdout",
     "output_type": "stream",
     "text": [
      "Sentiments and their frequencies:\n",
      "[0 1]\n",
      "[1017  983]\n"
     ]
    }
   ],
   "source": [
    "unique_elements, counts_elements = np.unique(header, return_counts=True)\n",
    "print(\"Sentiments and their frequencies:\")\n",
    "print(unique_elements)\n",
    "print(counts_elements)"
   ]
  },
  {
   "cell_type": "markdown",
   "metadata": {},
   "source": [
    "**Featurize and Create Labels**"
   ]
  },
  {
   "cell_type": "code",
   "execution_count": 13,
   "metadata": {},
   "outputs": [
    {
     "name": "stdout",
     "output_type": "stream",
     "text": [
      "[[-0.04708445 -0.00859615 -0.10156192 ...  0.12017959  0.16323158\n",
      "   0.01946514]\n",
      " [-0.08692177 -0.06223733 -0.1334786  ...  0.14544673  0.11161387\n",
      "  -0.00043845]\n",
      " [-0.05798069 -0.05940554 -0.16345114 ...  0.10559762  0.12862308\n",
      "   0.03148314]\n",
      " ...\n",
      " [-0.0937733  -0.01354256 -0.14242576 ...  0.1760791   0.10297086\n",
      "   0.00673548]\n",
      " [-0.0864714  -0.03663545 -0.20604639 ...  0.15443572  0.14226893\n",
      "   0.02450219]\n",
      " [-0.07466923  0.00334586 -0.16633242 ...  0.15489857  0.13078918\n",
      "   0.05107713]]\n"
     ]
    }
   ],
   "source": [
    "EmbeddingVectors = assemble_embedding_vectors(data_train)\n",
    "print(EmbeddingVectors)"
   ]
  },
  {
   "cell_type": "code",
   "execution_count": 14,
   "metadata": {},
   "outputs": [
    {
     "name": "stdout",
     "output_type": "stream",
     "text": [
      "train_x/train_y list details, to make sure it is of the right form:\n",
      "1400\n",
      "[[-0.04708445 -0.00859615 -0.10156192 ...  0.12017959  0.16323158\n",
      "   0.01946514]\n",
      " [-0.08692177 -0.06223733 -0.1334786  ...  0.14544673  0.11161387\n",
      "  -0.00043845]\n",
      " [-0.05798069 -0.05940554 -0.16345114 ...  0.10559762  0.12862308\n",
      "   0.03148314]\n",
      " ...\n",
      " [-0.07950715 -0.12623046 -0.15015663 ...  0.15858898  0.09886043\n",
      "   0.05608691]\n",
      " [-0.02690058 -0.03051995 -0.15439297 ...  0.13425885  0.20691273\n",
      "   0.04434924]\n",
      " [-0.06817091 -0.0140137  -0.15882649 ...  0.13278545  0.10525348\n",
      "   0.01010045]]\n",
      "[1 0 0 0 1]\n",
      "1400\n"
     ]
    }
   ],
   "source": [
    "data = EmbeddingVectors\n",
    "\n",
    "idx = int(0.7*data.shape[0])\n",
    "\n",
    "# 70% of data for training\n",
    "train_x = data[:idx,:]\n",
    "train_y = header[:idx]\n",
    "# # remaining 30% for testing\n",
    "test_x = data[idx:,:]\n",
    "test_y = header[idx:] \n",
    "\n",
    "print(\"train_x/train_y list details, to make sure it is of the right form:\")\n",
    "print(len(train_x))\n",
    "print(train_x)\n",
    "print(train_y[:5])\n",
    "print(len(train_y))"
   ]
  },
  {
   "cell_type": "markdown",
   "metadata": {},
   "source": [
    "# Logistic Regression Classifier"
   ]
  },
  {
   "cell_type": "code",
   "execution_count": 15,
   "metadata": {},
   "outputs": [
    {
     "name": "stderr",
     "output_type": "stream",
     "text": [
      "/opt/conda/lib/python3.6/site-packages/sklearn/linear_model/logistic.py:432: FutureWarning: Default solver will be changed to 'lbfgs' in 0.22. Specify a solver to silence this warning.\n",
      "  FutureWarning)\n"
     ]
    }
   ],
   "source": [
    "from sklearn.linear_model import LogisticRegression\n",
    "\n",
    "def fit(train_x,train_y):\n",
    "    model = LogisticRegression()\n",
    "\n",
    "    try:\n",
    "        model.fit(train_x, train_y)\n",
    "    except:\n",
    "        pass\n",
    "    return model\n",
    "\n",
    "model = fit(train_x,train_y)"
   ]
  },
  {
   "cell_type": "code",
   "execution_count": 16,
   "metadata": {},
   "outputs": [
    {
     "name": "stdout",
     "output_type": "stream",
     "text": [
      "DEBUG::The logistic regression predicted labels are::\n",
      "[0 0 0 0 1 1 1 0 1 1 0 0 1 1 1 1 1 1 0 0 0 1 1 1 0 0 1 0 1 1 1 0 1 1 1 0 1\n",
      " 1 1 0 1 0 0 0 1 0 0 1 0 1 1 1 1 0 1 1 1 1 0 0 1 1 0 1 0 1 0 1 0 0 0 0 0 0\n",
      " 0 1 0 1 1 1 0 1 0 1 1 1 1 1 0 0 1 1 1 1 0 1 1 0 1 1 1 1 1 1 0 0 1 1 0 0 0\n",
      " 0 0 0 0 1 1 0 0 1 0 1 1 0 1 1 0 0 1 1 1 1 1 0 1 1 1 1 0 1 0 0 0 0 0 0 1 1\n",
      " 0 0 0 0 1 0 1 1 0 1 1 0 1 0 0 0 1 1 0 0 1 0 1 0 1 0 1 0 0 0 1 1 0 1 1 0 1\n",
      " 1 1 1 1 1 0 0 1 0 1 0 1 0 1 0 1 1 1 0 1 0 0 0 1 1 0 1 0 1 1 1 1 0 1 1 0 0\n",
      " 1 0 1 1 1 0 0 1 1 1 0 0 1 0 1 0 1 1 1 0 0 1 1 1 0 0 0 0 0 1 0 1 0 0 1 1 0\n",
      " 0 0 0 0 0 0 1 1 1 1 0 1 0 0 0 0 1 1 0 1 0 0 0 1 1 1 1 0 0 1 0 0 0 0 0 0 1\n",
      " 0 0 0 0 0 1 0 0 0 0 0 0 0 1 0 0 1 0 0 1 1 1 1 0 1 0 1 0 1 1 1 0 0 0 0 1 1\n",
      " 1 0 0 1 0 1 0 1 0 1 0 0 1 0 0 1 1 0 0 1 1 1 1 1 0 0 0 1 0 0 1 0 0 0 0 1 0\n",
      " 0 0 1 1 1 1 0 1 1 0 0 1 1 0 1 0 0 1 1 1 1 1 0 1 0 1 0 1 0 0 0 1 1 1 0 1 0\n",
      " 0 0 1 1 0 1 0 0 0 1 1 1 0 0 1 0 0 1 1 0 1 1 1 0 0 0 0 1 1 1 1 0 0 1 1 0 1\n",
      " 0 0 1 0 0 0 0 0 0 0 1 0 0 1 1 1 0 0 1 0 1 0 1 0 1 0 0 0 1 0 1 1 1 1 0 1 0\n",
      " 0 1 1 1 1 0 0 1 0 1 0 0 0 1 1 1 1 0 1 1 1 1 1 0 0 0 0 1 0 0 1 1 0 1 0 0 1\n",
      " 0 1 1 0 0 0 1 0 1 1 1 1 1 0 1 0 1 1 0 1 0 0 0 1 1 1 0 1 0 0 1 1 1 0 1 1 1\n",
      " 0 1 1 1 0 1 1 0 1 1 0 1 1 1 1 1 0 0 1 0 1 0 1 0 0 0 1 1 0 0 0 0 1 0 0 0 1\n",
      " 0 0 0 0 0 0 0 1]\n"
     ]
    }
   ],
   "source": [
    "predicted_labels = model.predict(test_x)\n",
    "print(\"DEBUG::The logistic regression predicted labels are::\")\n",
    "print(predicted_labels)"
   ]
  },
  {
   "cell_type": "code",
   "execution_count": 17,
   "metadata": {},
   "outputs": [
    {
     "name": "stdout",
     "output_type": "stream",
     "text": [
      "The logistic regression accuracy score is::\n",
      "0.7633333333333333\n"
     ]
    }
   ],
   "source": [
    "from sklearn.metrics import accuracy_score\n",
    "\n",
    "acc_score = accuracy_score(test_y, predicted_labels)\n",
    "\n",
    "print(\"The logistic regression accuracy score is::\")\n",
    "print(acc_score)"
   ]
  },
  {
   "cell_type": "markdown",
   "metadata": {},
   "source": [
    "# Random Forests"
   ]
  },
  {
   "cell_type": "code",
   "execution_count": 18,
   "metadata": {},
   "outputs": [
    {
     "name": "stdout",
     "output_type": "stream",
     "text": [
      "Training the Random Forest Classifier took   0 seconds\n",
      "DEBUG::The RF predicted labels are::\n",
      "[0 0 0 0 1 1 1 0 0 1 0 1 1 1 1 0 1 0 1 0 0 0 1 1 0 0 1 0 1 1 0 0 1 1 1 1 1\n",
      " 1 1 0 1 1 0 0 1 0 0 1 1 0 1 0 0 0 1 0 1 1 0 0 0 1 0 1 0 1 0 0 0 0 0 0 0 0\n",
      " 0 0 0 1 1 0 0 1 0 0 1 1 1 1 0 0 1 0 0 1 0 0 1 0 1 1 0 1 0 0 0 1 1 1 0 1 0\n",
      " 0 0 0 0 1 1 0 0 1 0 1 1 0 1 1 1 0 1 0 1 1 1 0 1 1 0 1 0 1 1 0 0 0 0 1 1 1\n",
      " 0 0 0 0 1 0 1 0 0 1 1 1 1 0 0 1 0 0 0 0 1 0 1 1 0 1 0 0 0 0 1 0 0 0 1 0 1\n",
      " 1 1 1 1 0 0 0 1 0 1 0 1 1 1 0 1 0 0 0 1 0 0 0 1 1 0 1 0 1 1 0 0 0 1 1 0 0\n",
      " 0 0 1 1 0 0 0 1 0 1 0 0 1 0 1 1 1 1 0 0 0 1 0 1 0 0 0 0 0 1 1 1 0 1 1 0 0\n",
      " 0 0 0 0 0 0 0 1 1 1 0 0 0 0 0 1 1 1 1 1 0 0 0 1 1 1 1 1 0 1 0 0 0 1 0 0 1\n",
      " 0 0 0 0 0 1 0 0 0 0 0 0 0 1 0 0 0 1 1 0 1 1 1 0 1 0 1 0 0 0 0 0 0 1 0 0 1\n",
      " 1 0 0 0 0 0 0 1 0 1 1 0 0 0 0 1 1 1 0 0 0 0 0 1 0 0 0 1 0 0 1 0 0 0 1 1 0\n",
      " 0 1 1 0 0 0 1 0 1 1 0 1 1 1 1 0 0 0 1 1 0 1 0 1 0 0 0 1 1 0 0 1 1 0 0 1 0\n",
      " 0 0 1 1 1 1 0 1 0 1 1 1 0 0 0 1 0 1 0 1 1 0 0 0 0 0 0 0 0 1 0 0 1 1 1 0 1\n",
      " 0 0 0 0 0 0 0 0 0 0 0 1 0 0 1 1 0 0 1 0 0 0 1 0 0 1 0 0 0 0 1 1 0 1 0 1 1\n",
      " 0 1 0 1 1 0 1 0 0 1 0 0 0 1 1 0 0 0 0 1 1 1 1 0 0 0 0 1 0 0 0 0 1 1 0 0 0\n",
      " 0 0 0 0 0 0 1 0 1 1 1 0 0 0 0 0 1 1 1 1 0 0 1 1 1 1 0 0 0 0 1 0 1 0 0 1 0\n",
      " 0 0 1 0 0 1 1 0 0 1 0 1 0 0 0 0 0 0 1 0 1 0 0 0 0 0 0 1 0 0 0 0 1 0 0 1 1\n",
      " 0 0 0 0 0 0 0 1]\n",
      "DEBUG::The RF testing accuracy score is::\n",
      "0.675\n"
     ]
    },
    {
     "name": "stderr",
     "output_type": "stream",
     "text": [
      "/opt/conda/lib/python3.6/site-packages/sklearn/ensemble/forest.py:245: FutureWarning: The default value of n_estimators will change from 10 in version 0.20 to 100 in 0.22.\n",
      "  \"10 in version 0.20 to 100 in 0.22.\", FutureWarning)\n"
     ]
    }
   ],
   "source": [
    "# Load scikit's random forest classifier library\n",
    "from sklearn.ensemble import RandomForestClassifier\n",
    "\n",
    "# Create a random forest Classifier. By convention, clf means 'Classifier'\n",
    "clf = RandomForestClassifier(n_jobs=1, random_state=0)\n",
    "\n",
    "# Train the Classifier to take the training features and learn how they relate\n",
    "# to the training y (spam, not spam?)\n",
    "start_time = time.time()\n",
    "clf.fit(train_x, train_y)\n",
    "end_time = time.time()\n",
    "print(\"Training the Random Forest Classifier took %3d seconds\"%(end_time-start_time))\n",
    "\n",
    "predicted_labels = clf.predict(test_x)\n",
    "print(\"DEBUG::The RF predicted labels are::\")\n",
    "print(predicted_labels)\n",
    "\n",
    "acc_score = accuracy_score(test_y, predicted_labels)\n",
    "\n",
    "print(\"DEBUG::The RF testing accuracy score is::\")\n",
    "print(acc_score)"
   ]
  },
  {
   "cell_type": "code",
   "execution_count": 19,
   "metadata": {},
   "outputs": [],
   "source": [
    "from IPython.display import HTML\n",
    "def create_download_link(title = \"Download file\", filename = \"data.csv\"):  \n",
    "    html = '<a href={filename}>{title}</a>'\n",
    "    html = html.format(title=title,filename=filename)\n",
    "    return HTML(html)\n",
    "\n",
    "#create_download_link(filename='GBMimportances.svg')"
   ]
  },
  {
   "cell_type": "code",
   "execution_count": 20,
   "metadata": {},
   "outputs": [],
   "source": [
    "!rm -rf aclImdb\n",
    "!rm aclImdb_v1.tar.gz"
   ]
  }
 ],
 "metadata": {
  "kernelspec": {
   "display_name": "Python 3",
   "language": "python",
   "name": "python3"
  },
  "language_info": {
   "codemirror_mode": {
    "name": "ipython",
    "version": 3
   },
   "file_extension": ".py",
   "mimetype": "text/x-python",
   "name": "python",
   "nbconvert_exporter": "python",
   "pygments_lexer": "ipython3",
   "version": "3.6.6"
  }
 },
 "nbformat": 4,
 "nbformat_minor": 4
}
