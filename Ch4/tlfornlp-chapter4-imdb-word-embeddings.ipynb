{
 "cells": [
  {
   "cell_type": "markdown",
   "metadata": {},
   "source": [
    "# Preliminaries\n",
    "Write requirements to file, anytime you run it, in case you have to go back and recover dependencies.\n",
    "\n",
    "Latest known such requirements are hosted for each notebook in the companion github repo, and can be pulled down and installed here if needed. Companion github repo is located at https://github.com/azunre/transfer-learning-for-nlp"
   ]
  },
  {
   "cell_type": "code",
   "execution_count": 1,
   "metadata": {},
   "outputs": [],
   "source": [
    "!pip freeze > kaggle_image_requirements.txt"
   ]
  },
  {
   "cell_type": "markdown",
   "metadata": {},
   "source": [
    "# Download IMDB Movie Review Dataset\n",
    "Download IMDB dataset"
   ]
  },
  {
   "cell_type": "code",
   "execution_count": 2,
   "metadata": {},
   "outputs": [
    {
     "name": "stdout",
     "output_type": "stream",
     "text": [
      "wget: /opt/conda/lib/libuuid.so.1: no version information available (required by wget)\r\n"
     ]
    }
   ],
   "source": [
    "import random\n",
    "import pandas as pd\n",
    "\n",
    "## Read-in the reviews and print some basic descriptions of them\n",
    "\n",
    "!wget -q \"http://ai.stanford.edu/~amaas/data/sentiment/aclImdb_v1.tar.gz\"\n",
    "!tar xzf aclImdb_v1.tar.gz"
   ]
  },
  {
   "cell_type": "markdown",
   "metadata": {},
   "source": [
    "# Define Tokenization, Stop-word and Punctuation Removal Functions\n",
    "Before proceeding, we must decide how many samples to draw from each class. We must also decide the maximum number of tokens per email, and the maximum length of each token. This is done by setting the following overarching hyperparameters"
   ]
  },
  {
   "cell_type": "code",
   "execution_count": 3,
   "metadata": {},
   "outputs": [],
   "source": [
    "Nsamp = 1000 # number of samples to generate in each class - 'spam', 'not spam'\n",
    "maxtokens = 200 # the maximum number of tokens per document\n",
    "maxtokenlen = 100 # the maximum length of each token"
   ]
  },
  {
   "cell_type": "markdown",
   "metadata": {},
   "source": [
    "**Tokenization**"
   ]
  },
  {
   "cell_type": "code",
   "execution_count": 4,
   "metadata": {},
   "outputs": [],
   "source": [
    "def tokenize(row):\n",
    "    if row is None or row is '':\n",
    "        tokens = \"\"\n",
    "    else:\n",
    "        tokens = row.split(\" \")[:maxtokens]\n",
    "    return tokens"
   ]
  },
  {
   "cell_type": "markdown",
   "metadata": {},
   "source": [
    "**Use regular expressions to remove unnecessary characters**\n",
    "\n",
    "Next, we define a function to remove punctuation marks and other nonword characters (using regular expressions) from the emails with the help of the ubiquitous python regex library. In the same step, we truncate all tokens to hyperparameter maxtokenlen defined above."
   ]
  },
  {
   "cell_type": "code",
   "execution_count": 5,
   "metadata": {},
   "outputs": [],
   "source": [
    "import re\n",
    "\n",
    "def reg_expressions(row):\n",
    "    tokens = []\n",
    "    try:\n",
    "        for token in row:\n",
    "            token = token.lower() # make all characters lower case\n",
    "            token = re.sub(r'[\\W\\d]', \"\", token)\n",
    "            token = token[:maxtokenlen] # truncate token\n",
    "            tokens.append(token)\n",
    "    except:\n",
    "        token = \"\"\n",
    "        tokens.append(token)\n",
    "    return tokens"
   ]
  },
  {
   "cell_type": "markdown",
   "metadata": {},
   "source": [
    "**Stop-word removal**\n",
    "\n",
    "Stop-words are also removed. Stop-words are words that are very common in text but offer no useful information that can be used to classify the text. Words such as is, and, the, are are examples of stop-words. The NLTK library contains a list of 127 English stop-words and can be used to filter our tokenized strings."
   ]
  },
  {
   "cell_type": "code",
   "execution_count": 6,
   "metadata": {},
   "outputs": [
    {
     "name": "stdout",
     "output_type": "stream",
     "text": [
      "[nltk_data] Downloading package stopwords to /usr/share/nltk_data...\n",
      "[nltk_data]   Unzipping corpora/stopwords.zip.\n"
     ]
    }
   ],
   "source": [
    "import nltk\n",
    "\n",
    "nltk.download('stopwords')\n",
    "from nltk.corpus import stopwords\n",
    "stopwords = stopwords.words('english')    \n",
    "\n",
    "# print(stopwords) # see default stopwords\n",
    "# it may be beneficial to drop negation words from the removal list, as they can change the positive/negative meaning\n",
    "# of a sentence\n",
    "# stopwords.remove(\"no\")\n",
    "# stopwords.remove(\"nor\")\n",
    "# stopwords.remove(\"not\")"
   ]
  },
  {
   "cell_type": "code",
   "execution_count": 7,
   "metadata": {},
   "outputs": [],
   "source": [
    "def stop_word_removal(row):\n",
    "    token = [token for token in row if token not in stopwords]\n",
    "    token = filter(None, token)\n",
    "    return token"
   ]
  },
  {
   "cell_type": "markdown",
   "metadata": {},
   "source": [
    "# Assemble Embedding Vectors\n",
    "\n",
    "The following functions are used to extract fastText embedding vectors for each review"
   ]
  },
  {
   "cell_type": "code",
   "execution_count": 8,
   "metadata": {},
   "outputs": [
    {
     "name": "stdout",
     "output_type": "stream",
     "text": [
      "__notebook__.ipynb  aclImdb  aclImdb_v1.tar.gz\tkaggle_image_requirements.txt\r\n",
      "Loading the embedding took 1183 seconds\n"
     ]
    }
   ],
   "source": [
    "import time\n",
    "from gensim.models import FastText, KeyedVectors\n",
    "\n",
    "!ls\n",
    "\n",
    "start=time.time()\n",
    "FastText_embedding = KeyedVectors.load_word2vec_format(\"../input/jigsaw/wiki.en.vec\")\n",
    "end = time.time()\n",
    "print(\"Loading the embedding took %d seconds\"%(end-start))"
   ]
  },
  {
   "cell_type": "code",
   "execution_count": 9,
   "metadata": {},
   "outputs": [],
   "source": [
    "def handle_out_of_vocab(embedding,in_txt):\n",
    "    out = None\n",
    "    for word in in_txt:\n",
    "        try:\n",
    "            tmp = embedding[word]\n",
    "            tmp = tmp.reshape(1,len(tmp))\n",
    "            \n",
    "            if out is None:\n",
    "                out = tmp\n",
    "            else:\n",
    "                out = np.concatenate((out,tmp),axis=0)\n",
    "        except:\n",
    "            pass\n",
    "    \n",
    "    return out\n",
    "        \n",
    "\n",
    "def assemble_embedding_vectors(data):\n",
    "    out = None\n",
    "    for item in data:\n",
    "        tmp = handle_out_of_vocab(FastText_embedding,item)\n",
    "        if tmp is not None:\n",
    "            dim = tmp.shape[1]\n",
    "            if out is not None:\n",
    "                vec = np.mean(tmp,axis=0)\n",
    "                vec = vec.reshape((1,dim))\n",
    "                out = np.concatenate((out,vec),axis=0)\n",
    "            else:\n",
    "                out = np.mean(tmp,axis=0).reshape((1,dim))                                            \n",
    "        else:\n",
    "            pass\n",
    "        \n",
    "        \n",
    "    return out"
   ]
  },
  {
   "cell_type": "markdown",
   "metadata": {},
   "source": [
    "# Putting It All Together To Assemble Dataset\n",
    "\n",
    "Now, putting all the preprocessing steps together we assemble our dataset..."
   ]
  },
  {
   "cell_type": "code",
   "execution_count": 10,
   "metadata": {},
   "outputs": [
    {
     "name": "stdout",
     "output_type": "stream",
     "text": [
      "(25000,)\n",
      "25000\n"
     ]
    }
   ],
   "source": [
    "import os\n",
    "import numpy as np\n",
    "\n",
    "# shuffle raw data first\n",
    "def unison_shuffle_data(data, header):\n",
    "    p = np.random.permutation(len(header))\n",
    "    data = data[p]\n",
    "    header = np.asarray(header)[p]\n",
    "    return data, header\n",
    "\n",
    "# load data in appropriate form\n",
    "def load_data(path):\n",
    "    data, sentiments = [], []\n",
    "    for folder, sentiment in (('neg', 0), ('pos', 1)):\n",
    "        folder = os.path.join(path, folder)\n",
    "        for name in os.listdir(folder):\n",
    "            with open(os.path.join(folder, name), 'r') as reader:\n",
    "                  text = reader.read()\n",
    "            text = tokenize(text)\n",
    "            text = stop_word_removal(text)\n",
    "            text = reg_expressions(text)\n",
    "            data.append(text)\n",
    "            sentiments.append(sentiment)\n",
    "    data_np = np.array(data)\n",
    "    data, sentiments = unison_shuffle_data(data_np, sentiments)\n",
    "    \n",
    "    return data, sentiments\n",
    "\n",
    "train_path = os.path.join('aclImdb', 'train')\n",
    "test_path = os.path.join('aclImdb', 'test')\n",
    "raw_data, raw_header = load_data(train_path)\n",
    "\n",
    "print(raw_data.shape)\n",
    "print(len(raw_header))"
   ]
  },
  {
   "cell_type": "code",
   "execution_count": 11,
   "metadata": {},
   "outputs": [
    {
     "name": "stdout",
     "output_type": "stream",
     "text": [
      "DEBUG::data_train::\n",
      "[list(['following', 'success', 'awful', 'gilligans', 'island', 'tv', 'movie', 'reruns', 'number', 'tv', 'movies', 'made', 's', 'reuniting', 'casts', 'classic', 'shows', 'most', 'movies', 'completely', 'missed', 'boat', 'far', 'recapturing', 'humor', 'made', 'shows', 'special', 'the', 'munsters', 'revenge', 'among', 'disappointing', 'goes', 'laurel', 'hardytype', 'comedy', 'style', 'really', 'original', 'series', 'yvonne', 'de', 'carlo', 'wonderful', 'comedienne', 'essential', 'series', 'completely', 'wasted', '', 'less', 'time', '', 'minute', 'movie', 'single', '', 'minute', 'episode', 'and', 'since', 'roles', 'eddie', 'marilyn', 'movie', 'nothing', 'cameos', 'point', 'making', 'younger', 'recasting', 'them', 'with', 'little', 'rewriting', 'could', 'used', 'butch', 'patrick', 'pat', 'priest', 'although', 'seeing', 'munsters', 'spooky', 'relatives', 'nice', 'touch', 'i', 'enjoy', 'sid', 'caesar', 'hammy', 'mad', 'scientist', 'mainly', 'theres', 'much', 'enough', 'underused', 'munsters', 'ironically', 'year', '', 'caesars', 'old', 'partner', 'comedy', 'imogene', 'coca', 'also', 'inappropriately', 'cast', 'major'])\n",
      " list(['lavish', 'production', 'values', 'solid', 'performances', 'straightforward', 'adaption', 'jane', 'austens', 'satirical', 'classic', 'marriage', 'game', 'within', 'classes', 'provincial', 'th', 'century', 'england', 'northam', 'paltrow', 'salutory', 'mixture', 'friends', 'must', 'pass', 'jealousies', 'lies', 'discover', 'love', 'other', 'good', 'humor', 'sustaining', 'virtue', 'goes', 'long', 'way', 'towards', 'explaining', 'accessability', 'aged', 'source', 'material', 'which', 'toned', 'bit', 'harsh', 'scepticism', 'i', 'liked', 'look', 'film', 'shots', 'set', 'up', 'i', 'thought', 'rely', 'much', 'successions', 'head', 'shots', 'like', 'films', 's', 's', 'do', 'very', 'good', 'results'])\n",
      " list(['ive', 'read', 'every', 'book', 'date', 'left', 'behind', 'series', 'movie', 'hardly', 'justice', 'sure', 'ive', 'seen', 'worse', 'movies', 'incredibly', 'disappointing', 'this', 'movie', 'would', 'made', 'good', 'mstk', 'episode', 'the', 'script', 'horrible', 'adaptation', 'book', 'felt', 'like', 'actors', 'reading', 'lines', 'instead', 'actually', 'saying', 'them', 'the', 'characters', 'stiff', 'unlikeable', 'the', 'effects', 'cheesy', 'looked', 'terribly', 'fake', 'the', 'ending', 'awful', 'first', 'all', 'even', 'go', 'way', 'first', 'book', 'second', 'made', 'sense', 'if', 'read', 'book', 'idea', 'going', 'on', 'it', 'cheesy', 'film', 'studentlike', 'ending', 'ive', 'ever', 'seen', 'movie', 'im', 'upset', 'i', 'actually', 'paid', 'money', 'movie', 'if', 'miracle', 'get', 'wide', 'release', 'ought', 'totally', 'overhaul', 'let', 'hollywood', 'take', 'over', 'those', 'two', 'wannabe', 'film', 'producers', 'wannabe', 'director', 'leave', 'movie', 'making', 'professionals'])\n",
      " ...\n",
      " list(['you', 'may', 'say', 'yourself', 'don', 'johnson', 'elvis', 'can', 'work', 'is', 'possible', 'seems', 'like', 'terrible', 'choice', 'me', 'perhaps', 'i', 'open', 'mind', 'maybe', 'ill', 'surprised', 'maybe', 'pull', 'offbr', 'br', 'notbr', 'br', 'don', 'johnson', 'bad', 'actor', 'but', 'awful', 'elvis', 'hes', 'short', 'weakvoiced', 'sharply', 'featured', '', 'well', 'already', 'imagined', 'bad', 'would', 'be', 'add', 'hokey', 'black', 'wig', 'heavyhanded', 'eyeliner', 'mascara', 'big', 'fat', 'embarrassing', 'messbr', 'br', 'the', 'best', 'i', 'say', 'since', 'johnsons', 'acting', 'decent', 'since', 'impersonation', 'far', 'off', 'even', 'think', 'elvis', 'anymore', 'you', 'see', 'crazed', 'pop', 'star', 'instead', 'then', 'level', 'movie', 'becomes', 'watchablebr', 'br', 'stephanie', 'zimbalist', 'also', 'ideally', 'cast', 'tall', 'beauty', 'queen', 'linda', 'thompson', 'but', 'attractive', 'right', 'plays', 'part', 'honesty', 'elegance', 'intelligence', 'weve', 'come', 'expect', 'roles', 'there', 'may', 'much', 'intelligence', 'performance', 'you', 'kind'])\n",
      " list(['i', 'studied', 'charlotte', 'brontes', 'novel', 'high', 'school', 'left', 'stunning', 'impression', 'here', 'beautiful', 'novel', 'young', 'womans', 'struggle', 'find', 'love', 'acceptance', 'dark', 'times', 'victorian', 'england', 'this', 'young', 'woman', 'jane', 'eyre', 'poor', 'plain', 'character', 'strong', 'mind', 'own', 'her', 'story', 'bronte', 'told', 'janes', 'eyes', 'sad', 'inspiring', 'br', 'br', 'as', 'part', 'study', 'watched', '', 'adaptation', 'story', 'blew', 'away', 'the', 'miniseries', 'made', 'effort', 'stay', 'true', 'brontes', 'original', 'text', 'essence', 'story', 'actors', 'portrayed', 'characters', 'great', 'both', 'zelah', 'clarke', 'jane', 'eyre', 'timothy', 'dalton', 'janes', 'lover', 'name', 'rochester', 'captured', 'brilliantly', 'essence', 'characters', 'i', 'cannot', 'imagine', 'anyone', 'else', 'roles', 'the', 'performances', 'rochester', 'versions', '', 'version', 'lack', 'passion', 'energy', 'tenderness', 'needed', 'portray', 'rochester', 'accurately', 'i', 'say', 'timothy', 'dalton', 'comes', 'top', 'possesses', 'characteristics', 'portrayal', 'rochester', 'zelah', 'clarke'])\n",
      " list(['in', 'must', 'one', 'bloodfreezing', 'movies', 'ever', 'transvestite', 'murdering', 'people', 'new', 'york', 'answer', 'everything', 'may', 'people', 'suspect', 'one', 'see', 'brian', 'depalma', 'takes', 'influence', 'hitchcock', 'camera', 'angles', 'stuff', 'michael', 'caine', 'plays', 'thoughtprovoking', 'character', 'angie', 'dickinson', 'basically', 'bored', 'rich', 'woman', 'bad', 'hairdo', 'keith', 'gordon', 'who', 'later', 'starred', 'christine', 'probably', 'interesting', 'character', 'movie', 'but', 'cant', 'really', 'understand', 'movie', 'without', 'seeing', 'it', 'and', 'seeing', 'it', 'may', 'never', 'know', 'trust', 'also', 'starring', 'nancy', 'allen', 'dennis', 'franz'])]\n"
     ]
    }
   ],
   "source": [
    "# Subsample required number of samples\n",
    "random_indices = np.random.choice(range(len(raw_header)),size=(Nsamp*2,),replace=False)\n",
    "data_train = raw_data[random_indices]\n",
    "header = raw_header[random_indices]\n",
    "\n",
    "print(\"DEBUG::data_train::\")\n",
    "print(data_train)"
   ]
  },
  {
   "cell_type": "markdown",
   "metadata": {},
   "source": [
    "Display sentiments and their frequencies in the dataset, to ensure it is roughly balanced between classes"
   ]
  },
  {
   "cell_type": "code",
   "execution_count": 12,
   "metadata": {},
   "outputs": [
    {
     "name": "stdout",
     "output_type": "stream",
     "text": [
      "Sentiments and their frequencies:\n",
      "[0 1]\n",
      "[1011  989]\n"
     ]
    }
   ],
   "source": [
    "unique_elements, counts_elements = np.unique(header, return_counts=True)\n",
    "print(\"Sentiments and their frequencies:\")\n",
    "print(unique_elements)\n",
    "print(counts_elements)"
   ]
  },
  {
   "cell_type": "markdown",
   "metadata": {},
   "source": [
    "**Featurize and Create Labels**"
   ]
  },
  {
   "cell_type": "code",
   "execution_count": 13,
   "metadata": {},
   "outputs": [
    {
     "name": "stdout",
     "output_type": "stream",
     "text": [
      "[[-0.07151219 -0.05331818 -0.18072508 ...  0.12663087  0.12337326\n",
      "   0.03595877]\n",
      " [-0.03273259 -0.01451753 -0.21075499 ...  0.13005976  0.13677667\n",
      "   0.04476473]\n",
      " [-0.10236117 -0.01661318 -0.1793083  ...  0.06386437  0.09658311\n",
      "   0.01304951]\n",
      " ...\n",
      " [-0.08675506  0.01669579 -0.12758039 ...  0.14810123  0.12053204\n",
      "   0.01121135]\n",
      " [-0.07245742 -0.01820484 -0.18501921 ...  0.10941439  0.13572739\n",
      "   0.05552756]\n",
      " [-0.03165541 -0.05540255 -0.16803874 ...  0.13220501  0.10361343\n",
      "   0.01665439]]\n"
     ]
    }
   ],
   "source": [
    "EmbeddingVectors = assemble_embedding_vectors(data_train)\n",
    "print(EmbeddingVectors)"
   ]
  },
  {
   "cell_type": "code",
   "execution_count": 14,
   "metadata": {},
   "outputs": [
    {
     "name": "stdout",
     "output_type": "stream",
     "text": [
      "train_x/train_y list details, to make sure it is of the right form:\n",
      "1400\n",
      "[[-0.07151219 -0.05331818 -0.18072508 ...  0.12663087  0.12337326\n",
      "   0.03595877]\n",
      " [-0.03273259 -0.01451753 -0.21075499 ...  0.13005976  0.13677667\n",
      "   0.04476473]\n",
      " [-0.10236117 -0.01661318 -0.1793083  ...  0.06386437  0.09658311\n",
      "   0.01304951]\n",
      " ...\n",
      " [-0.06014239 -0.04210255 -0.1780156  ...  0.138171    0.07942397\n",
      "   0.03878456]\n",
      " [-0.02130712 -0.02819808 -0.18746395 ...  0.17764199  0.1178336\n",
      "   0.03452722]\n",
      " [-0.07624432 -0.03930511 -0.20063326 ...  0.11668558  0.11778102\n",
      "   0.03071565]]\n",
      "[0 1 0 0 1]\n",
      "1400\n"
     ]
    }
   ],
   "source": [
    "data = EmbeddingVectors\n",
    "\n",
    "idx = int(0.7*data.shape[0])\n",
    "\n",
    "# 70% of data for training\n",
    "train_x = data[:idx,:]\n",
    "train_y = header[:idx]\n",
    "# # remaining 30% for testing\n",
    "test_x = data[idx:,:]\n",
    "test_y = header[idx:] \n",
    "\n",
    "print(\"train_x/train_y list details, to make sure it is of the right form:\")\n",
    "print(len(train_x))\n",
    "print(train_x)\n",
    "print(train_y[:5])\n",
    "print(len(train_y))"
   ]
  },
  {
   "cell_type": "markdown",
   "metadata": {},
   "source": [
    "# Logistic Regression Classifier"
   ]
  },
  {
   "cell_type": "code",
   "execution_count": 15,
   "metadata": {},
   "outputs": [
    {
     "name": "stderr",
     "output_type": "stream",
     "text": [
      "/opt/conda/lib/python3.6/site-packages/sklearn/linear_model/logistic.py:432: FutureWarning: Default solver will be changed to 'lbfgs' in 0.22. Specify a solver to silence this warning.\n",
      "  FutureWarning)\n"
     ]
    }
   ],
   "source": [
    "from sklearn.linear_model import LogisticRegression\n",
    "\n",
    "def fit(train_x,train_y):\n",
    "    model = LogisticRegression()\n",
    "\n",
    "    try:\n",
    "        model.fit(train_x, train_y)\n",
    "    except:\n",
    "        pass\n",
    "    return model\n",
    "\n",
    "model = fit(train_x,train_y)"
   ]
  },
  {
   "cell_type": "code",
   "execution_count": 16,
   "metadata": {},
   "outputs": [
    {
     "name": "stdout",
     "output_type": "stream",
     "text": [
      "DEBUG::The logistic regression predicted labels are::\n",
      "[0 0 1 1 0 0 1 0 1 0 0 1 1 0 1 0 0 0 0 1 1 0 0 1 0 1 0 1 1 1 0 0 1 0 0 0 0\n",
      " 0 0 1 0 0 0 1 1 1 1 1 0 1 0 0 1 0 1 1 0 1 0 1 0 1 0 0 0 1 1 0 1 0 1 0 1 1\n",
      " 0 1 0 1 0 1 1 1 0 1 0 0 0 1 1 1 1 0 0 0 0 1 1 1 1 0 1 0 1 1 0 1 0 0 1 0 0\n",
      " 0 1 0 0 1 0 0 1 1 0 0 0 0 0 1 1 1 0 1 1 0 0 1 0 0 1 0 1 0 1 1 1 1 1 0 1 1\n",
      " 1 0 1 1 1 1 0 1 0 1 1 0 1 0 0 0 0 1 0 1 1 0 0 1 0 0 1 1 0 0 1 1 0 0 0 1 1\n",
      " 1 1 1 1 1 0 1 0 0 0 0 0 1 0 0 0 1 1 1 1 0 0 0 0 1 0 1 0 0 0 1 0 1 0 0 1 0\n",
      " 1 0 0 0 1 1 1 1 0 1 0 0 1 1 1 1 0 0 0 0 0 0 1 1 0 1 0 1 1 1 1 0 1 0 1 1 1\n",
      " 1 0 1 1 1 1 0 0 0 0 0 0 0 1 1 0 0 1 1 0 1 1 0 0 0 1 1 1 0 1 1 1 1 1 1 1 0\n",
      " 1 1 0 0 0 1 1 1 1 0 0 0 1 0 0 1 0 0 1 1 1 1 1 1 0 1 0 0 0 0 0 1 0 0 1 0 0\n",
      " 0 0 0 0 1 0 0 1 0 1 1 1 0 1 0 0 0 1 1 0 1 0 0 1 0 1 1 0 0 0 1 0 1 0 0 1 1\n",
      " 0 1 1 0 1 0 1 0 0 0 1 0 0 1 1 1 1 1 0 1 1 0 1 1 1 1 1 1 1 0 1 0 0 0 0 0 0\n",
      " 0 0 1 1 1 0 0 0 1 0 0 1 0 0 0 0 0 1 0 0 1 1 1 0 1 1 1 0 0 0 1 1 1 1 0 1 1\n",
      " 1 1 0 0 1 1 0 0 1 0 1 1 0 0 0 1 1 0 0 0 0 1 1 0 1 1 0 1 1 0 0 1 1 0 0 1 0\n",
      " 0 0 0 0 1 0 0 1 0 1 0 1 1 1 1 0 0 1 0 0 0 1 1 0 0 0 1 0 0 1 0 1 1 1 0 0 1\n",
      " 1 0 0 0 1 1 1 0 0 0 0 0 0 1 0 0 1 0 0 0 0 1 0 0 0 0 0 1 0 0 1 0 0 1 1 0 0\n",
      " 0 0 0 0 1 0 0 0 1 0 0 1 1 1 0 1 1 1 0 1 1 1 1 1 0 1 0 1 1 0 1 1 0 0 1 1 1\n",
      " 1 1 0 1 1 0 1 1]\n"
     ]
    }
   ],
   "source": [
    "predicted_labels = model.predict(test_x)\n",
    "print(\"DEBUG::The logistic regression predicted labels are::\")\n",
    "print(predicted_labels)"
   ]
  },
  {
   "cell_type": "code",
   "execution_count": 17,
   "metadata": {},
   "outputs": [
    {
     "name": "stdout",
     "output_type": "stream",
     "text": [
      "The logistic regression accuracy score is::\n",
      "0.7816666666666666\n"
     ]
    }
   ],
   "source": [
    "from sklearn.metrics import accuracy_score\n",
    "\n",
    "acc_score = accuracy_score(test_y, predicted_labels)\n",
    "\n",
    "print(\"The logistic regression accuracy score is::\")\n",
    "print(acc_score)"
   ]
  },
  {
   "cell_type": "markdown",
   "metadata": {},
   "source": [
    "# Random Forests"
   ]
  },
  {
   "cell_type": "code",
   "execution_count": 18,
   "metadata": {},
   "outputs": [
    {
     "name": "stdout",
     "output_type": "stream",
     "text": [
      "Training the Random Forest Classifier took   0 seconds\n",
      "DEBUG::The RF predicted labels are::\n",
      "[0 0 0 1 0 0 1 0 1 0 0 0 1 0 1 0 0 0 0 1 1 1 0 1 0 1 0 1 1 0 0 1 1 0 0 0 0\n",
      " 0 0 1 1 0 0 0 0 0 1 0 0 0 1 1 0 1 0 0 0 1 0 1 0 1 1 0 0 1 1 0 1 0 1 0 0 1\n",
      " 0 0 0 1 0 1 1 1 0 0 0 0 0 1 1 1 1 0 0 0 1 0 1 1 0 0 1 0 1 0 0 1 0 0 1 0 0\n",
      " 0 1 1 1 1 1 0 1 0 0 0 1 0 0 0 0 1 0 1 1 1 1 0 0 0 1 0 1 0 1 1 1 1 0 0 1 1\n",
      " 1 0 0 1 0 0 0 1 0 1 0 1 1 0 0 0 0 1 1 1 1 0 0 0 0 0 1 1 0 0 1 1 0 0 1 1 0\n",
      " 0 0 1 1 1 1 1 0 0 0 0 0 1 0 0 0 1 0 1 1 0 0 0 0 1 0 1 0 0 1 0 0 1 0 0 1 0\n",
      " 0 0 0 1 0 1 1 0 0 0 0 0 1 1 0 1 1 1 0 1 0 0 1 1 0 1 0 0 0 0 1 0 1 0 1 0 1\n",
      " 1 0 1 1 1 1 0 0 0 0 0 0 0 1 1 0 0 1 1 0 1 0 0 1 0 1 1 1 0 0 1 1 1 1 1 0 0\n",
      " 1 1 0 0 0 1 1 1 1 0 0 0 0 0 0 0 0 0 0 1 1 1 0 1 0 0 0 0 0 1 1 1 1 0 0 0 0\n",
      " 0 1 0 0 1 0 1 1 0 1 1 0 0 0 0 0 0 0 0 0 1 0 0 1 0 0 1 0 1 0 1 0 0 0 0 0 1\n",
      " 0 0 1 0 0 1 1 0 0 1 0 0 0 1 1 1 1 0 1 1 1 0 1 0 0 1 0 1 0 0 1 0 0 0 0 0 1\n",
      " 0 0 1 1 1 0 0 1 1 0 0 0 0 0 0 1 0 1 0 0 1 1 1 1 0 1 1 0 0 0 0 0 0 0 0 1 0\n",
      " 1 1 1 0 0 0 0 1 0 1 0 1 1 0 0 1 1 0 0 0 0 1 1 0 1 1 1 0 0 0 0 1 0 1 0 1 1\n",
      " 1 0 0 0 0 0 0 1 0 0 1 1 1 1 1 0 0 0 0 0 0 0 1 0 1 0 1 0 1 0 0 0 1 1 0 0 1\n",
      " 1 0 0 0 1 1 0 0 0 0 0 0 0 1 1 0 0 0 0 0 0 1 0 0 0 0 0 1 0 0 0 0 1 0 1 0 0\n",
      " 0 1 0 0 0 0 0 1 0 0 0 1 1 1 0 0 1 1 1 1 0 1 1 1 0 1 1 1 1 0 0 0 0 0 0 1 0\n",
      " 1 0 0 1 0 0 1 1]\n",
      "DEBUG::The RF testing accuracy score is::\n",
      "0.6866666666666666\n"
     ]
    },
    {
     "name": "stderr",
     "output_type": "stream",
     "text": [
      "/opt/conda/lib/python3.6/site-packages/sklearn/ensemble/forest.py:245: FutureWarning: The default value of n_estimators will change from 10 in version 0.20 to 100 in 0.22.\n",
      "  \"10 in version 0.20 to 100 in 0.22.\", FutureWarning)\n"
     ]
    }
   ],
   "source": [
    "# Load scikit's random forest classifier library\n",
    "from sklearn.ensemble import RandomForestClassifier\n",
    "\n",
    "# Create a random forest Classifier. By convention, clf means 'Classifier'\n",
    "clf = RandomForestClassifier(n_jobs=1, random_state=0)\n",
    "\n",
    "# Train the Classifier to take the training features and learn how they relate\n",
    "# to the training y (spam, not spam?)\n",
    "start_time = time.time()\n",
    "clf.fit(train_x, train_y)\n",
    "end_time = time.time()\n",
    "print(\"Training the Random Forest Classifier took %3d seconds\"%(end_time-start_time))\n",
    "\n",
    "predicted_labels = clf.predict(test_x)\n",
    "print(\"DEBUG::The RF predicted labels are::\")\n",
    "print(predicted_labels)\n",
    "\n",
    "acc_score = accuracy_score(test_y, predicted_labels)\n",
    "\n",
    "print(\"DEBUG::The RF testing accuracy score is::\")\n",
    "print(acc_score)"
   ]
  },
  {
   "cell_type": "code",
   "execution_count": 19,
   "metadata": {},
   "outputs": [],
   "source": [
    "from IPython.display import HTML\n",
    "def create_download_link(title = \"Download file\", filename = \"data.csv\"):  \n",
    "    html = '<a href={filename}>{title}</a>'\n",
    "    html = html.format(title=title,filename=filename)\n",
    "    return HTML(html)\n",
    "\n",
    "#create_download_link(filename='GBMimportances.svg')"
   ]
  },
  {
   "cell_type": "code",
   "execution_count": 20,
   "metadata": {},
   "outputs": [],
   "source": [
    "!rm -rf aclImdb\n",
    "!rm aclImdb_v1.tar.gz"
   ]
  }
 ],
 "metadata": {
  "kernelspec": {
   "display_name": "Python 3",
   "language": "python",
   "name": "python3"
  },
  "language_info": {
   "codemirror_mode": {
    "name": "ipython",
    "version": 3
   },
   "file_extension": ".py",
   "mimetype": "text/x-python",
   "name": "python",
   "nbconvert_exporter": "python",
   "pygments_lexer": "ipython3",
   "version": "3.6.6"
  }
 },
 "nbformat": 4,
 "nbformat_minor": 4
}
