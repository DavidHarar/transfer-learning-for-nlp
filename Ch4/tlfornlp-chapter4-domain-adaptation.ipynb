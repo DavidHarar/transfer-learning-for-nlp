{
 "cells": [
  {
   "cell_type": "markdown",
   "metadata": {},
   "source": [
    "# Preliminaries"
   ]
  },
  {
   "cell_type": "code",
   "execution_count": 1,
   "metadata": {},
   "outputs": [
    {
     "name": "stdout",
     "output_type": "stream",
     "text": [
      "Collecting git+https://github.com/epfml/sent2vec\r\n",
      "  Cloning https://github.com/epfml/sent2vec to /tmp/pip-req-build-bphcavvo\r\n",
      "  Running command git clone -q https://github.com/epfml/sent2vec /tmp/pip-req-build-bphcavvo\r\n",
      "Building wheels for collected packages: sent2vec\r\n",
      "  Building wheel for sent2vec (setup.py) ... \u001b[?25l-\b \b\\\b \b|\b \b/\b \b-\b \b\\\b \b|\b \b/\b \b-\b \b\\\b \b|\b \b/\b \b-\b \b\\\b \b|\b \b/\b \bdone\r\n",
      "\u001b[?25h  Created wheel for sent2vec: filename=sent2vec-0.0.0-cp36-cp36m-linux_x86_64.whl size=1139410 sha256=70900ee62cd62dee55729255e82a05bfd5c54e9950b5136a26cde40d3fa79756\r\n",
      "  Stored in directory: /tmp/pip-ephem-wheel-cache-5eeecops/wheels/f5/1a/52/b5f36e8120688b3f026ac0cefe9c6544905753c51d8190ff17\r\n",
      "Successfully built sent2vec\r\n",
      "Installing collected packages: sent2vec\r\n",
      "Successfully installed sent2vec-0.0.0\r\n"
     ]
    }
   ],
   "source": [
    "# install sent2vec\n",
    "!pip install git+https://github.com/epfml/sent2vec"
   ]
  },
  {
   "cell_type": "markdown",
   "metadata": {},
   "source": [
    "Write requirements to file, anytime you run it, in case you have to go back and recover dependencies.\n",
    "\n",
    "Latest known such requirements are hosted for each notebook in the companion github repo, and can be pulled down and installed here if needed. Companion github repo is located at https://github.com/azunre/transfer-learning-for-nlp"
   ]
  },
  {
   "cell_type": "code",
   "execution_count": 2,
   "metadata": {},
   "outputs": [],
   "source": [
    "!pip freeze > kaggle_image_requirements.txt"
   ]
  },
  {
   "cell_type": "markdown",
   "metadata": {},
   "source": [
    "# Download IMDB Movie Review Dataset\n",
    "Download IMDB dataset"
   ]
  },
  {
   "cell_type": "code",
   "execution_count": 3,
   "metadata": {},
   "outputs": [
    {
     "name": "stdout",
     "output_type": "stream",
     "text": [
      "wget: /opt/conda/lib/libuuid.so.1: no version information available (required by wget)\r\n"
     ]
    }
   ],
   "source": [
    "import random\n",
    "import pandas as pd\n",
    "\n",
    "## Read-in the reviews and print some basic descriptions of them\n",
    "\n",
    "!wget -q \"http://ai.stanford.edu/~amaas/data/sentiment/aclImdb_v1.tar.gz\"\n",
    "!tar xzf aclImdb_v1.tar.gz"
   ]
  },
  {
   "cell_type": "markdown",
   "metadata": {},
   "source": [
    "# Define Tokenization, Stop-word and Punctuation Removal Functions\n",
    "Before proceeding, we must decide how many samples to draw from each class. We must also decide the maximum number of tokens per email, and the maximum length of each token. This is done by setting the following overarching hyperparameters"
   ]
  },
  {
   "cell_type": "markdown",
   "metadata": {},
   "source": [
    "**Preliminary overarching hyperparameters**\n"
   ]
  },
  {
   "cell_type": "code",
   "execution_count": 4,
   "metadata": {},
   "outputs": [],
   "source": [
    "Nsamp = 1000 # number of samples to generate in each class - 'positive', 'negative'\n",
    "maxtokens = 200 # the maximum number of tokens per document\n",
    "maxtokenlen = 100 # the maximum length of each token"
   ]
  },
  {
   "cell_type": "markdown",
   "metadata": {},
   "source": [
    "**Tokenization**"
   ]
  },
  {
   "cell_type": "code",
   "execution_count": 5,
   "metadata": {},
   "outputs": [],
   "source": [
    "def tokenize(row):\n",
    "    if row is None or row is '':\n",
    "        tokens = \"\"\n",
    "    else:\n",
    "        tokens = str(row).split(\" \")[:maxtokens]\n",
    "    return tokens"
   ]
  },
  {
   "cell_type": "markdown",
   "metadata": {},
   "source": [
    "**Use regular expressions to remove unnecessary characters**\n",
    "\n",
    "Next, we define a function to remove punctuation marks and other nonword characters (using regular expressions) from the emails with the help of the ubiquitous python regex library. In the same step, we truncate all tokens to hyperparameter maxtokenlen defined above."
   ]
  },
  {
   "cell_type": "code",
   "execution_count": 6,
   "metadata": {},
   "outputs": [],
   "source": [
    "import re\n",
    "\n",
    "def remove_reg_expressions(row):\n",
    "    tokens = []\n",
    "    try:\n",
    "        for token in row:\n",
    "            token = token.lower()\n",
    "            token = re.sub(r'[\\W\\d]', \" \", token)\n",
    "            token = token[:maxtokenlen] # truncate token\n",
    "            tokens.append(token)\n",
    "    except:\n",
    "        token = \"\"\n",
    "        tokens.append(token)\n",
    "    return tokens"
   ]
  },
  {
   "cell_type": "markdown",
   "metadata": {},
   "source": [
    "**Stop-word removal**\n",
    "\n",
    "Stop-words are also removed. Stop-words are words that are very common in text but offer no useful information that can be used to classify the text. Words such as is, and, the, are are examples of stop-words. The NLTK library contains a list of 127 English stop-words and can be used to filter our tokenized strings."
   ]
  },
  {
   "cell_type": "code",
   "execution_count": 7,
   "metadata": {},
   "outputs": [
    {
     "name": "stdout",
     "output_type": "stream",
     "text": [
      "[nltk_data] Downloading package stopwords to /usr/share/nltk_data...\n",
      "[nltk_data]   Unzipping corpora/stopwords.zip.\n"
     ]
    }
   ],
   "source": [
    "import nltk\n",
    "\n",
    "nltk.download('stopwords')\n",
    "from nltk.corpus import stopwords\n",
    "stopwords = stopwords.words('english')    \n",
    "\n",
    "# these stopwords may indicate positivity/negativity of sentiment, so we remove them (keep them in corpus)\n",
    "# stopwords.remove(\"no\")\n",
    "# stopwords.remove(\"nor\")\n",
    "# stopwords.remove(\"not\")\n",
    "\n",
    "# print(stopwords) # see default stopwords\n"
   ]
  },
  {
   "cell_type": "code",
   "execution_count": 8,
   "metadata": {},
   "outputs": [],
   "source": [
    "def stop_word_removal(row):\n",
    "    token = [token for token in row if token not in stopwords]\n",
    "    token = filter(None, token)\n",
    "    return token"
   ]
  },
  {
   "cell_type": "markdown",
   "metadata": {},
   "source": [
    "# Assemble Embedding Vectors\n",
    "\n",
    "The following functions are used to extract sent2vec embedding vectors for each review"
   ]
  },
  {
   "cell_type": "code",
   "execution_count": 9,
   "metadata": {},
   "outputs": [
    {
     "name": "stdout",
     "output_type": "stream",
     "text": [
      "Loading the sent2vec embedding took 42 seconds\n"
     ]
    }
   ],
   "source": [
    "import time\n",
    "import sent2vec\n",
    "\n",
    "s2v_model = sent2vec.Sent2vecModel()\n",
    "start=time.time()\n",
    "s2v_model.load_model('../input/sent2vec/wiki_unigrams.bin')\n",
    "end = time.time()\n",
    "print(\"Loading the sent2vec embedding took %d seconds\"%(end-start))"
   ]
  },
  {
   "cell_type": "code",
   "execution_count": 10,
   "metadata": {},
   "outputs": [],
   "source": [
    "def assemble_embedding_vectors(data):\n",
    "    out = None\n",
    "    for item in data:\n",
    "        vec = s2v_model.embed_sentence(\" \".join(str(i) for i in item if i))\n",
    "        if vec is not None:\n",
    "            if out is not None:\n",
    "                out = np.concatenate((out,vec),axis=0)\n",
    "            else:\n",
    "                out = vec                                            \n",
    "        else:\n",
    "            pass\n",
    "        \n",
    "        \n",
    "    return out"
   ]
  },
  {
   "cell_type": "markdown",
   "metadata": {},
   "source": [
    "# Putting It All Together To Assemble Dataset\n",
    "\n",
    "Now, putting all the preprocessing steps together we assemble our dataset..."
   ]
  },
  {
   "cell_type": "code",
   "execution_count": 11,
   "metadata": {},
   "outputs": [
    {
     "name": "stdout",
     "output_type": "stream",
     "text": [
      "(25000,)\n",
      "25000\n"
     ]
    }
   ],
   "source": [
    "import os\n",
    "import numpy as np\n",
    "\n",
    "# shuffle raw data first\n",
    "def unison_shuffle_data(data, header):\n",
    "    p = np.random.permutation(len(header))\n",
    "    data = data[p]\n",
    "    header = np.asarray(header)[p]\n",
    "    return data, header\n",
    "\n",
    "def load_data(path):\n",
    "    data, sentiments = [], []\n",
    "    for folder, sentiment in (('neg', 0), ('pos', 1)):\n",
    "        folder = os.path.join(path, folder)\n",
    "        for name in os.listdir(folder):\n",
    "            with open(os.path.join(folder, name), 'r') as reader:\n",
    "                  text = reader.read()\n",
    "            text = tokenize(text)\n",
    "            text = stop_word_removal(text)\n",
    "            text = remove_reg_expressions(text)\n",
    "            data.append(text)\n",
    "            sentiments.append(sentiment)\n",
    "    data_np = np.array(data)\n",
    "    data, sentiments = unison_shuffle_data(data_np, sentiments)\n",
    "    \n",
    "    return data, sentiments\n",
    "\n",
    "train_path = os.path.join('aclImdb', 'train')\n",
    "test_path = os.path.join('aclImdb', 'test')\n",
    "raw_data, raw_header = load_data(train_path)\n",
    "\n",
    "print(raw_data.shape)\n",
    "print(len(raw_header))"
   ]
  },
  {
   "cell_type": "code",
   "execution_count": 12,
   "metadata": {},
   "outputs": [
    {
     "name": "stdout",
     "output_type": "stream",
     "text": [
      "DEBUG::data_train::\n",
      "[list(['you', 'already', 'know', 'painful', 'watch', 'movie', 'is ', 'but', 'i', 'wonder', 'one', 'worst', 'movies', 'ever', 'include', 'one', 'beautiful', 'cars ', 'why', 'cars', 'victim', 'violation ', 'also', 'true', 'actors', 'performers', 'it ', 'so', 'earth', 'porsche ', 'lamborghini', 'whatever', 'could', 'allow', 'people', 'get', 'touch', 'cars', 'ruin', 'reputation', 'give', 'millions stop', 'getting', 'advantage', 'cars', 'earn', 'money', 'chests ', 'it', 'painful', 'love', 'cars ', 'it', 'painful', 'love', 'movies  br', '   br', '  i', 'want', 'money', 'back', '   '])\n",
      " list(['a', 'kid', 'ideals', 'tries', 'change', 'things', 'around', 'him ', 'a', 'boy', 'forced', 'become', 'man ', 'system ', 'a', 'system', 'hides', 'truth ', 'violating', 'rights', 'existence ', 'a', 'boy', 'who ', 'inspired', 'martin', 'luther', 'king ', 'stands', 'up ', 'tells', 'truth ', 'a', 'family', 'falling', 'apart ', 'fighting', 'it ', 'a', 'movie', 'can t', 'hide', 'from ', 'you', 'see', 'things ', 'hear', 'things ', 'feel', 'things ', 'till', 'day', 'die', 'hope', 'never', 'happened', 'real ', 'violence ', 'frustration ', 'abuse', 'power ', 'parents', 'can t', 'anything ', 'boy', 'with ', 'i', 'sorry ', 'balls ', 'boy', 'accept', 'things ', 'let', 'anything', 'happen', 'him ', 'kid', 'power ', 'kid', 'acts', 'like', 'pro ', 'like', 'never', 'done', 'anything', 'else ', 'caries', 'movie', 'end ', 'anyone', 'wants', 'see', 'abuse', 'found', 'place', 'back', '   ies '])\n",
      " list(['more', 'wide eyed ', 'hysterical', '  s', 'hyper cheerfulness', 'gives', 'new', 'meaning', 'anti social ', 'pathological', 'behaviour ', 'danza', 'grayson', 'leave', 'begging', 'mercy  br', '   br', '  it s', 'shame', 'people', 'involved', 'making', 'movie', 'dead', ' or', 'nursing', 'homes  ', 'i', 'kinda', 'thought', 'suing', 'torture ', 'as', 'movie', 'started', 'unleashing', 'shamelessly', 'aggressive', 'operatic', 'assault', 'onto', 'poor ', 'defenseless', 'ear drums ', 'i', 'felt', 'instant ', 'strong', 'pain', 'envelop', 'entire', 'being ', 'that', 'damn', 'muscular', 'vibrato', 'shatter', 'soviet', 'tanks', 'tiny', 'bits ', 'nevermind', 'glass  br', '   br', '   why', 'switch', 'channel', 'like', 'it   ', 'might', 'ask', 'angrily ', 'fair', 'point ', 'fair', 'point   ', 'the', 'answer', 'i', 'wanted', 'to ', 'pain', 'sudden', 'excruciating', 'i', 'fell', 'floor ', 'writhing', 'agony ', 'with', 'last', 'ounces', 'energy ', 'i', 'tried', 'reach', 'remote', 'couldn t  br', '   br', '  a', 'silly', 'little', 'fisherman', 'questionable', 'talent', 'singing', 'annoying', 'opera', 'voice', 'discovered', 'niven ', 'proceeds', ' pigmalionize ', 'him ', 'lanza', 'love', 'asymmetrical', 'grayson ', 'predictably', 'treats', 'contempt', 'finally', 'hook', 'up ', 'this', 'may', 'seem', 'like', 'rather', 'thin', 'plot '])\n",
      " ...\n",
      " list(['as', 'one line', 'summary', 'says ', 'two', 'movies', 'left', 'remark', 'i', 'walked', 'theater ', 'the', 'one', ' stir', 'echoes ', 'kevin', 'bacon ', 'second', ' vanilla', 'sky   br', '   br', '  its', 'one', 'movies', 'sit', 'deep', 'theater', 'seat', 'stop', 'thinking', 'anyone', 'around', 'you ', 'stop', 'wondering', 'end', 'movie', 'leave', 'movie', 'swift', 'wants   ', 'walking', 'cinema', 'bit', 'weird ', 'like', 'feeling', 'get', 'sick', 'cant', 'think', 'anything ', 'one', 'movies', 'become', 'one', 'guy ', 'feel', 'nothing', 'else', 'moves', 'around', 'things', 'movie  br', '   br', '  one', 'thing', 'certain ', 'the', 'actors', 'awesome ', 'sound', 'track', 'excellent ', 'everything', 'movie', '    br', '   br', '  surely', 'one', 'best', 'movies', 'i', 'ever', 'saw ', 'movie', 'made', 'best', 'shocking', 'awaking', 'life', 'purpose', 'world '])\n",
      " list(['whilst', 'reading', 'comments', 'left', 'show ', 'i', 'help', 'notice', 'large', 'percentage', 'reviewers', 'either', 'actually', 'watched', 'episodes', 'show', 'either', 'way', 'free', 'will ', 'the', 'thing', 'kerching ', 'children s', 'show ', 'for', 'children', 'obviously', 'older', 'going', 'seem', 'cheesy ', 'forced ', 'probably', 'stupid ', 'i', 'even', 'found', 'one', 'person', 'saying', 'sets', 'stupid ', 'i', 'remember', 'eight', 'year', 'old', 'wondering', 'taj', 'ikea', 'icecube', 'moulds', 'wall ', 'also', 'wondering', 'parents', 'would', 'let', 'stick', 'mine', ' they', 'didn t  ', 'yeah ', 'annoying ', 'acting', 'could', 'better', 'characters', 'really', 'weird', 'things', 'hair ', 'kids', 'show ', 'i', 'rate', '      ', 'compared', 'stuff', 'air', 'place', 'today ', 'well ', 'lets', 'say', 'i', 'wish', 'it d', 're aired ', 'dvd', 'release ', 'anyone '])\n",
      " list(['can', 'one', 'help', 'find', 'title', 'artist', 'song ', 'played', 'least', 'halfway', 'movie ', 'i', 'can t', 'remember', 'scene', 'playing ', 'the', 'words', 'song', 'ballad ', 'some', 'lyrics', 'go', 'like', ' ', 'it s', 'natures', 'way', 'telling', 'somethings', 'wrong  ', 'it s', 'natures', 'way', 'telling', 'song  ', ' it s', 'natures', 'way', 'forgiving', 'you  ', 'please', 'help', 'question ', 'thanks', 'much ', 'i', 'searching', 'internet', 'days ', 'i', 'can t', 'get', 'song', 'mind ', 'so', 'challenge', 'find', 'one', 'may', 'able', 'help', 'mer', 'matter ', 'i', 'wish', 'i', 'would', 'paying', 'attention', 'scene ', 'playing '])]\n"
     ]
    }
   ],
   "source": [
    "# Subsample required number of samples\n",
    "random_indices = np.random.choice(range(len(raw_header)),size=(Nsamp*2,),replace=False)\n",
    "data_train = raw_data[random_indices]\n",
    "header = raw_header[random_indices]\n",
    "\n",
    "del raw_data, raw_header # huge and no longer needed, get rid of it\n",
    "\n",
    "print(\"DEBUG::data_train::\")\n",
    "print(data_train)"
   ]
  },
  {
   "cell_type": "markdown",
   "metadata": {},
   "source": [
    "Display sentiments and their frequencies in the dataset, to ensure it is roughly balanced between classes"
   ]
  },
  {
   "cell_type": "code",
   "execution_count": 13,
   "metadata": {},
   "outputs": [
    {
     "name": "stdout",
     "output_type": "stream",
     "text": [
      "Sentiments and their frequencies:\n",
      "[0 1]\n",
      "[ 979 1021]\n"
     ]
    }
   ],
   "source": [
    "unique_elements, counts_elements = np.unique(header, return_counts=True)\n",
    "print(\"Sentiments and their frequencies:\")\n",
    "print(unique_elements)\n",
    "print(counts_elements)"
   ]
  },
  {
   "cell_type": "markdown",
   "metadata": {},
   "source": [
    "**Featurize and Create Labels**"
   ]
  },
  {
   "cell_type": "code",
   "execution_count": 14,
   "metadata": {},
   "outputs": [
    {
     "name": "stdout",
     "output_type": "stream",
     "text": [
      "[[ 0.02330038 -0.14840275 -0.1021696  ... -0.255628   -0.09731507\n",
      "   0.00285701]\n",
      " [ 0.02242229 -0.00493283  0.10543741 ...  0.19925834 -0.10933676\n",
      "   0.12847123]\n",
      " [ 0.06502265 -0.01243187  0.02413149 ... -0.03431552  0.12365571\n",
      "   0.1409206 ]\n",
      " ...\n",
      " [ 0.12317618  0.01931829 -0.10995793 ...  0.03704416 -0.06965005\n",
      "   0.09366618]\n",
      " [ 0.09754995 -0.00553994  0.01447253 ... -0.10964575 -0.07332841\n",
      "   0.12328903]\n",
      " [-0.18844478  0.07937658  0.10309957 ...  0.0677065  -0.07026131\n",
      "   0.08437289]]\n"
     ]
    }
   ],
   "source": [
    "EmbeddingVectors = assemble_embedding_vectors(data_train)\n",
    "print(EmbeddingVectors)"
   ]
  },
  {
   "cell_type": "code",
   "execution_count": 15,
   "metadata": {},
   "outputs": [
    {
     "name": "stdout",
     "output_type": "stream",
     "text": [
      "train_x/train_y list details, to make sure it is of the right form:\n",
      "1400\n",
      "[[ 0.02330038 -0.14840275 -0.1021696  ... -0.255628   -0.09731507\n",
      "   0.00285701]\n",
      " [ 0.02242229 -0.00493283  0.10543741 ...  0.19925834 -0.10933676\n",
      "   0.12847123]\n",
      " [ 0.06502265 -0.01243187  0.02413149 ... -0.03431552  0.12365571\n",
      "   0.1409206 ]\n",
      " ...\n",
      " [ 0.202387   -0.11903944 -0.04019626 ...  0.12367007 -0.03494386\n",
      "   0.08373439]\n",
      " [-0.07610612 -0.14455009 -0.02997797 ... -0.02688483  0.08298526\n",
      "   0.18828106]\n",
      " [-0.02476747 -0.09346437 -0.00762459 ...  0.16376993 -0.1158855\n",
      "   0.26556307]]\n",
      "[0 1 0 1 1]\n",
      "1400\n"
     ]
    }
   ],
   "source": [
    "data = EmbeddingVectors\n",
    "\n",
    "idx = int(0.7*data.shape[0])\n",
    "\n",
    "# 70% of data for training\n",
    "train_x = data[:idx,:]\n",
    "train_y = np.array(header[:idx])\n",
    "# # remaining 30% for testing\n",
    "test_x = data[idx:,:]\n",
    "test_y = np.array(header[idx:]) \n",
    "\n",
    "print(\"train_x/train_y list details, to make sure it is of the right form:\")\n",
    "print(len(train_x))\n",
    "print(train_x)\n",
    "print(train_y[:5])\n",
    "print(len(train_y))"
   ]
  },
  {
   "cell_type": "markdown",
   "metadata": {},
   "source": [
    "# Train Shallow Model for IMDB Reviews"
   ]
  },
  {
   "cell_type": "code",
   "execution_count": 16,
   "metadata": {},
   "outputs": [
    {
     "name": "stderr",
     "output_type": "stream",
     "text": [
      "Using TensorFlow backend.\n"
     ]
    }
   ],
   "source": [
    "from keras.models import Model\n",
    "from keras.layers import Input, Dense, Dropout\n",
    "\n",
    "input_shape = (len(train_x[0]),)\n",
    "sent2vec_vectors = Input(shape=input_shape)\n",
    "dense = Dense(512, activation='relu')(sent2vec_vectors)\n",
    "dense = Dropout(0.1)(dense)\n",
    "output = Dense(1, activation='sigmoid')(dense)\n",
    "model = Model(inputs=sent2vec_vectors, outputs=output)"
   ]
  },
  {
   "cell_type": "code",
   "execution_count": 17,
   "metadata": {},
   "outputs": [
    {
     "name": "stderr",
     "output_type": "stream",
     "text": [
      "/opt/conda/lib/python3.6/site-packages/ipykernel_launcher.py:4: UserWarning: The `nb_epoch` argument in `fit` has been renamed `epochs`.\n",
      "  after removing the cwd from sys.path.\n"
     ]
    },
    {
     "name": "stdout",
     "output_type": "stream",
     "text": [
      "Train on 1400 samples, validate on 600 samples\n",
      "Epoch 1/10\n",
      "1400/1400 [==============================] - 1s 410us/step - loss: 0.5963 - accuracy: 0.6857 - val_loss: 0.4629 - val_accuracy: 0.8067\n",
      "Epoch 2/10\n",
      "1400/1400 [==============================] - 0s 186us/step - loss: 0.4232 - accuracy: 0.8129 - val_loss: 0.4121 - val_accuracy: 0.8117\n",
      "Epoch 3/10\n",
      "1400/1400 [==============================] - 0s 187us/step - loss: 0.3708 - accuracy: 0.8329 - val_loss: 0.4072 - val_accuracy: 0.8000\n",
      "Epoch 4/10\n",
      "1400/1400 [==============================] - 0s 188us/step - loss: 0.3342 - accuracy: 0.8600 - val_loss: 0.4479 - val_accuracy: 0.7833\n",
      "Epoch 5/10\n",
      "1400/1400 [==============================] - 0s 192us/step - loss: 0.3065 - accuracy: 0.8671 - val_loss: 0.4331 - val_accuracy: 0.7967\n",
      "Epoch 6/10\n",
      "1400/1400 [==============================] - 0s 181us/step - loss: 0.2928 - accuracy: 0.8807 - val_loss: 0.4353 - val_accuracy: 0.7883\n",
      "Epoch 7/10\n",
      "1400/1400 [==============================] - 0s 175us/step - loss: 0.2623 - accuracy: 0.9043 - val_loss: 0.4505 - val_accuracy: 0.7917\n",
      "Epoch 8/10\n",
      "1400/1400 [==============================] - 0s 180us/step - loss: 0.2363 - accuracy: 0.9064 - val_loss: 0.5187 - val_accuracy: 0.7617\n",
      "Epoch 9/10\n",
      "1400/1400 [==============================] - 0s 185us/step - loss: 0.2208 - accuracy: 0.9129 - val_loss: 0.4842 - val_accuracy: 0.7817\n",
      "Epoch 10/10\n",
      "1400/1400 [==============================] - 0s 183us/step - loss: 0.2103 - accuracy: 0.9250 - val_loss: 0.4961 - val_accuracy: 0.7900\n"
     ]
    }
   ],
   "source": [
    "model.compile(loss='binary_crossentropy',\n",
    "                  optimizer='adam', metrics=['accuracy'])\n",
    "history = model.fit(train_x, train_y, validation_data=(test_x, test_y), batch_size=32,\n",
    "                    nb_epoch=10, shuffle=True)"
   ]
  },
  {
   "cell_type": "markdown",
   "metadata": {},
   "source": [
    "# Test Trained Model on Book Reviews from MDSD"
   ]
  },
  {
   "cell_type": "code",
   "execution_count": 18,
   "metadata": {},
   "outputs": [
    {
     "name": "stdout",
     "output_type": "stream",
     "text": [
      "books.negative.review  dvd.negative.review\r\n",
      "books.positive.review  dvd.positive.review\r\n"
     ]
    }
   ],
   "source": [
    "!ls ../input/multi-domain-sentiment-dataset-books-and-dvds/"
   ]
  },
  {
   "cell_type": "code",
   "execution_count": 19,
   "metadata": {},
   "outputs": [
    {
     "data": {
      "text/plain": [
       "2000"
      ]
     },
     "execution_count": 19,
     "metadata": {},
     "output_type": "execute_result"
    }
   ],
   "source": [
    "def parse_MDSD(data):\n",
    "    out_lst = []\n",
    "    for i in range(len(data)):\n",
    "        txt = \"\"\n",
    "        if(data[i]==\"<review_text>\\n\"):\n",
    "            j=i\n",
    "            while(data[j]!=\"</review_text>\\n\"):\n",
    "                txt = txt+data[j]\n",
    "                j = j+1\n",
    "            text = tokenize(txt)\n",
    "            text = stop_word_removal(text)\n",
    "            text = remove_reg_expressions(text)\n",
    "            out_lst.append(text)\n",
    "            \n",
    "            #print(txt)\n",
    "            #print(text)\n",
    "            \n",
    "    return out_lst\n",
    "\n",
    "with open (\"../input/multi-domain-sentiment-dataset-books-and-dvds/books.negative.review\", \"r\", encoding=\"latin1\") as myfile:\n",
    "    data=myfile.readlines()\n",
    "neg_books = parse_MDSD(data)\n",
    "len(neg_books)\n",
    "\n",
    "with open (\"../input/multi-domain-sentiment-dataset-books-and-dvds/books.positive.review\", \"r\", encoding=\"latin1\") as myfile:\n",
    "    data=myfile.readlines()\n",
    "pos_books = parse_MDSD(data)\n",
    "len(pos_books)\n",
    "\n",
    "#print(neg_books)\n",
    "#print(pos_books)\n",
    "\n",
    "header = [0]*len(neg_books)\n",
    "header.extend([1]*len(pos_books))\n",
    "neg_books.extend(pos_books)\n",
    "MDSD_data = np.array(neg_books)\n",
    "\n",
    "data, sentiments = unison_shuffle_data(np.array(MDSD_data), header)\n",
    "\n",
    "len(sentiments)"
   ]
  },
  {
   "cell_type": "markdown",
   "metadata": {},
   "source": [
    "**Try using the IMDB classifier directly on book review data...**"
   ]
  },
  {
   "cell_type": "code",
   "execution_count": 20,
   "metadata": {},
   "outputs": [
    {
     "name": "stdout",
     "output_type": "stream",
     "text": [
      "[[-0.06236032 -0.12740827 -0.18496157 ...  0.06650508 -0.17147787\n",
      "   0.12499873]\n",
      " [ 0.04192024 -0.03800137 -0.08864829 ...  0.03386298 -0.3149032\n",
      "   0.0971027 ]\n",
      " [ 0.13418147 -0.08883765 -0.09897237 ...  0.06471071 -0.083598\n",
      "   0.18522756]\n",
      " ...\n",
      " [-0.20760313 -0.11033539  0.20187528 ...  0.19972643 -0.2426406\n",
      "  -0.01195074]\n",
      " [-0.04075969 -0.0933793  -0.0874037  ...  0.13744631 -0.08768537\n",
      "   0.07796707]\n",
      " [-0.13110557 -0.18092139  0.06077183 ... -0.01214167 -0.06358923\n",
      "  -0.08050677]]\n"
     ]
    }
   ],
   "source": [
    "EmbeddingVectors = assemble_embedding_vectors(data)\n",
    "print(EmbeddingVectors)\n",
    "sentiments = np.asarray(sentiments)"
   ]
  },
  {
   "cell_type": "code",
   "execution_count": 21,
   "metadata": {},
   "outputs": [
    {
     "name": "stdout",
     "output_type": "stream",
     "text": [
      "2000/2000 [==============================] - 0s 49us/step\n",
      "[0.7492947010993958, 0.7214999794960022]\n",
      "['loss', 'accuracy']\n"
     ]
    }
   ],
   "source": [
    "\n",
    "print(model.evaluate(x=EmbeddingVectors,y=sentiments)) # evaluate IMDB classifier on books directly\n",
    "print(model.metrics_names)"
   ]
  },
  {
   "cell_type": "markdown",
   "metadata": {},
   "source": [
    "# Adaptation of Book Review Domain via Autoencoder"
   ]
  },
  {
   "cell_type": "code",
   "execution_count": 22,
   "metadata": {},
   "outputs": [],
   "source": [
    "from sklearn.preprocessing import StandardScaler, MinMaxScaler\n",
    "\n",
    "encoding_dim = 30 # chosen experimentally\n",
    "\n",
    "input_shape = (len(train_x[0]),)\n",
    "sent2vec_vectors = Input(shape=input_shape)\n",
    "encoder = Dense(encoding_dim)(sent2vec_vectors)\n",
    "dropout = Dropout(0.1)(encoder)\n",
    "decoder = Dense(encoding_dim)(dropout)\n",
    "dropout = Dropout(0.1)(decoder)\n",
    "output = Dense(len(train_x[0]))(dropout)\n",
    "autoencoder = Model(inputs=sent2vec_vectors, outputs=output)"
   ]
  },
  {
   "cell_type": "code",
   "execution_count": 23,
   "metadata": {},
   "outputs": [
    {
     "name": "stderr",
     "output_type": "stream",
     "text": [
      "/opt/conda/lib/python3.6/site-packages/ipykernel_launcher.py:3: UserWarning: The `nb_epoch` argument in `fit` has been renamed `epochs`.\n",
      "  This is separate from the ipykernel package so we can avoid doing imports until\n"
     ]
    },
    {
     "name": "stdout",
     "output_type": "stream",
     "text": [
      "Train on 1400 samples, validate on 600 samples\n",
      "Epoch 1/50\n",
      "1400/1400 [==============================] - 0s 348us/step - loss: 0.0141 - mse: 0.0141 - mae: 0.0924 - val_loss: 0.0094 - val_mse: 0.0094 - val_mae: 0.0755\n",
      "Epoch 2/50\n",
      "1400/1400 [==============================] - 0s 90us/step - loss: 0.0091 - mse: 0.0091 - mae: 0.0751 - val_loss: 0.0084 - val_mse: 0.0084 - val_mae: 0.0717\n",
      "Epoch 3/50\n",
      "1400/1400 [==============================] - 0s 81us/step - loss: 0.0083 - mse: 0.0083 - mae: 0.0715 - val_loss: 0.0077 - val_mse: 0.0077 - val_mae: 0.0684\n",
      "Epoch 4/50\n",
      "1400/1400 [==============================] - 0s 95us/step - loss: 0.0078 - mse: 0.0078 - mae: 0.0692 - val_loss: 0.0073 - val_mse: 0.0073 - val_mae: 0.0668\n",
      "Epoch 5/50\n",
      "1400/1400 [==============================] - 0s 88us/step - loss: 0.0074 - mse: 0.0074 - mae: 0.0677 - val_loss: 0.0071 - val_mse: 0.0071 - val_mae: 0.0657\n",
      "Epoch 6/50\n",
      "1400/1400 [==============================] - 0s 92us/step - loss: 0.0072 - mse: 0.0072 - mae: 0.0666 - val_loss: 0.0069 - val_mse: 0.0069 - val_mae: 0.0649\n",
      "Epoch 7/50\n",
      "1400/1400 [==============================] - 0s 101us/step - loss: 0.0070 - mse: 0.0070 - mae: 0.0658 - val_loss: 0.0068 - val_mse: 0.0068 - val_mae: 0.0644\n",
      "Epoch 8/50\n",
      "1400/1400 [==============================] - 0s 96us/step - loss: 0.0069 - mse: 0.0069 - mae: 0.0652 - val_loss: 0.0067 - val_mse: 0.0067 - val_mae: 0.0638\n",
      "Epoch 9/50\n",
      "1400/1400 [==============================] - 0s 87us/step - loss: 0.0068 - mse: 0.0068 - mae: 0.0646 - val_loss: 0.0065 - val_mse: 0.0065 - val_mae: 0.0632\n",
      "Epoch 10/50\n",
      "1400/1400 [==============================] - 0s 99us/step - loss: 0.0067 - mse: 0.0067 - mae: 0.0641 - val_loss: 0.0065 - val_mse: 0.0065 - val_mae: 0.0628\n",
      "Epoch 11/50\n",
      "1400/1400 [==============================] - 0s 90us/step - loss: 0.0066 - mse: 0.0066 - mae: 0.0636 - val_loss: 0.0064 - val_mse: 0.0064 - val_mae: 0.0624\n",
      "Epoch 12/50\n",
      "1400/1400 [==============================] - 0s 91us/step - loss: 0.0065 - mse: 0.0065 - mae: 0.0633 - val_loss: 0.0063 - val_mse: 0.0063 - val_mae: 0.0621\n",
      "Epoch 13/50\n",
      "1400/1400 [==============================] - 0s 75us/step - loss: 0.0064 - mse: 0.0064 - mae: 0.0629 - val_loss: 0.0062 - val_mse: 0.0062 - val_mae: 0.0617\n",
      "Epoch 14/50\n",
      "1400/1400 [==============================] - 0s 102us/step - loss: 0.0064 - mse: 0.0064 - mae: 0.0626 - val_loss: 0.0062 - val_mse: 0.0062 - val_mae: 0.0614\n",
      "Epoch 15/50\n",
      "1400/1400 [==============================] - 0s 87us/step - loss: 0.0063 - mse: 0.0063 - mae: 0.0623 - val_loss: 0.0061 - val_mse: 0.0061 - val_mae: 0.0612\n",
      "Epoch 16/50\n",
      "1400/1400 [==============================] - 0s 91us/step - loss: 0.0063 - mse: 0.0063 - mae: 0.0621 - val_loss: 0.0061 - val_mse: 0.0061 - val_mae: 0.0610\n",
      "Epoch 17/50\n",
      "1400/1400 [==============================] - 0s 89us/step - loss: 0.0062 - mse: 0.0062 - mae: 0.0618 - val_loss: 0.0060 - val_mse: 0.0060 - val_mae: 0.0607\n",
      "Epoch 18/50\n",
      "1400/1400 [==============================] - 0s 86us/step - loss: 0.0062 - mse: 0.0062 - mae: 0.0616 - val_loss: 0.0060 - val_mse: 0.0060 - val_mae: 0.0606\n",
      "Epoch 19/50\n",
      "1400/1400 [==============================] - 0s 98us/step - loss: 0.0061 - mse: 0.0061 - mae: 0.0615 - val_loss: 0.0060 - val_mse: 0.0060 - val_mae: 0.0604\n",
      "Epoch 20/50\n",
      "1400/1400 [==============================] - 0s 91us/step - loss: 0.0061 - mse: 0.0061 - mae: 0.0614 - val_loss: 0.0059 - val_mse: 0.0059 - val_mae: 0.0602\n",
      "Epoch 21/50\n",
      "1400/1400 [==============================] - 0s 92us/step - loss: 0.0061 - mse: 0.0061 - mae: 0.0611 - val_loss: 0.0059 - val_mse: 0.0059 - val_mae: 0.0601\n",
      "Epoch 22/50\n",
      "1400/1400 [==============================] - 0s 93us/step - loss: 0.0061 - mse: 0.0061 - mae: 0.0610 - val_loss: 0.0059 - val_mse: 0.0059 - val_mae: 0.0600\n",
      "Epoch 23/50\n",
      "1400/1400 [==============================] - 0s 90us/step - loss: 0.0061 - mse: 0.0061 - mae: 0.0610 - val_loss: 0.0059 - val_mse: 0.0059 - val_mae: 0.0598\n",
      "Epoch 24/50\n",
      "1400/1400 [==============================] - 0s 86us/step - loss: 0.0060 - mse: 0.0060 - mae: 0.0609 - val_loss: 0.0058 - val_mse: 0.0058 - val_mae: 0.0597\n",
      "Epoch 25/50\n",
      "1400/1400 [==============================] - 0s 82us/step - loss: 0.0060 - mse: 0.0060 - mae: 0.0607 - val_loss: 0.0058 - val_mse: 0.0058 - val_mae: 0.0597\n",
      "Epoch 26/50\n",
      "1400/1400 [==============================] - 0s 82us/step - loss: 0.0060 - mse: 0.0060 - mae: 0.0606 - val_loss: 0.0058 - val_mse: 0.0058 - val_mae: 0.0595\n",
      "Epoch 27/50\n",
      "1400/1400 [==============================] - 0s 94us/step - loss: 0.0060 - mse: 0.0060 - mae: 0.0606 - val_loss: 0.0058 - val_mse: 0.0058 - val_mae: 0.0594\n",
      "Epoch 28/50\n",
      "1400/1400 [==============================] - 0s 95us/step - loss: 0.0059 - mse: 0.0059 - mae: 0.0604 - val_loss: 0.0058 - val_mse: 0.0058 - val_mae: 0.0594\n",
      "Epoch 29/50\n",
      "1400/1400 [==============================] - 0s 103us/step - loss: 0.0059 - mse: 0.0059 - mae: 0.0604 - val_loss: 0.0058 - val_mse: 0.0058 - val_mae: 0.0594\n",
      "Epoch 30/50\n",
      "1400/1400 [==============================] - 0s 92us/step - loss: 0.0059 - mse: 0.0059 - mae: 0.0603 - val_loss: 0.0057 - val_mse: 0.0057 - val_mae: 0.0592\n",
      "Epoch 31/50\n",
      "1400/1400 [==============================] - 0s 95us/step - loss: 0.0059 - mse: 0.0059 - mae: 0.0600 - val_loss: 0.0057 - val_mse: 0.0057 - val_mae: 0.0592\n",
      "Epoch 32/50\n",
      "1400/1400 [==============================] - 0s 88us/step - loss: 0.0059 - mse: 0.0059 - mae: 0.0600 - val_loss: 0.0057 - val_mse: 0.0057 - val_mae: 0.0591\n",
      "Epoch 33/50\n",
      "1400/1400 [==============================] - 0s 96us/step - loss: 0.0059 - mse: 0.0059 - mae: 0.0601 - val_loss: 0.0057 - val_mse: 0.0057 - val_mae: 0.0590\n",
      "Epoch 34/50\n",
      "1400/1400 [==============================] - 0s 92us/step - loss: 0.0059 - mse: 0.0059 - mae: 0.0600 - val_loss: 0.0057 - val_mse: 0.0057 - val_mae: 0.0590\n",
      "Epoch 35/50\n",
      "1400/1400 [==============================] - 0s 85us/step - loss: 0.0058 - mse: 0.0058 - mae: 0.0599 - val_loss: 0.0057 - val_mse: 0.0057 - val_mae: 0.0590\n",
      "Epoch 36/50\n",
      "1400/1400 [==============================] - 0s 92us/step - loss: 0.0058 - mse: 0.0058 - mae: 0.0600 - val_loss: 0.0057 - val_mse: 0.0057 - val_mae: 0.0589\n",
      "Epoch 37/50\n",
      "1400/1400 [==============================] - 0s 91us/step - loss: 0.0058 - mse: 0.0058 - mae: 0.0599 - val_loss: 0.0057 - val_mse: 0.0057 - val_mae: 0.0588\n",
      "Epoch 38/50\n",
      "1400/1400 [==============================] - 0s 87us/step - loss: 0.0058 - mse: 0.0058 - mae: 0.0597 - val_loss: 0.0057 - val_mse: 0.0057 - val_mae: 0.0588\n",
      "Epoch 39/50\n",
      "1400/1400 [==============================] - 0s 90us/step - loss: 0.0058 - mse: 0.0058 - mae: 0.0597 - val_loss: 0.0056 - val_mse: 0.0056 - val_mae: 0.0587\n",
      "Epoch 40/50\n",
      "1400/1400 [==============================] - 0s 89us/step - loss: 0.0058 - mse: 0.0058 - mae: 0.0597 - val_loss: 0.0056 - val_mse: 0.0056 - val_mae: 0.0587\n",
      "Epoch 41/50\n",
      "1400/1400 [==============================] - 0s 97us/step - loss: 0.0058 - mse: 0.0058 - mae: 0.0596 - val_loss: 0.0056 - val_mse: 0.0056 - val_mae: 0.0587\n",
      "Epoch 42/50\n",
      "1400/1400 [==============================] - 0s 96us/step - loss: 0.0058 - mse: 0.0058 - mae: 0.0596 - val_loss: 0.0056 - val_mse: 0.0056 - val_mae: 0.0586\n",
      "Epoch 43/50\n",
      "1400/1400 [==============================] - 0s 93us/step - loss: 0.0058 - mse: 0.0058 - mae: 0.0596 - val_loss: 0.0056 - val_mse: 0.0056 - val_mae: 0.0586\n",
      "Epoch 44/50\n",
      "1400/1400 [==============================] - 0s 87us/step - loss: 0.0058 - mse: 0.0058 - mae: 0.0595 - val_loss: 0.0056 - val_mse: 0.0056 - val_mae: 0.0586\n",
      "Epoch 45/50\n",
      "1400/1400 [==============================] - 0s 92us/step - loss: 0.0057 - mse: 0.0057 - mae: 0.0595 - val_loss: 0.0056 - val_mse: 0.0056 - val_mae: 0.0585\n",
      "Epoch 46/50\n",
      "1400/1400 [==============================] - 0s 84us/step - loss: 0.0058 - mse: 0.0058 - mae: 0.0595 - val_loss: 0.0056 - val_mse: 0.0056 - val_mae: 0.0585\n",
      "Epoch 47/50\n",
      "1400/1400 [==============================] - 0s 88us/step - loss: 0.0058 - mse: 0.0058 - mae: 0.0595 - val_loss: 0.0056 - val_mse: 0.0056 - val_mae: 0.0585\n",
      "Epoch 48/50\n",
      "1400/1400 [==============================] - 0s 89us/step - loss: 0.0057 - mse: 0.0057 - mae: 0.0594 - val_loss: 0.0056 - val_mse: 0.0056 - val_mae: 0.0584\n",
      "Epoch 49/50\n",
      "1400/1400 [==============================] - 0s 88us/step - loss: 0.0057 - mse: 0.0057 - mae: 0.0593 - val_loss: 0.0056 - val_mse: 0.0056 - val_mae: 0.0585\n",
      "Epoch 50/50\n",
      "1400/1400 [==============================] - 0s 92us/step - loss: 0.0057 - mse: 0.0057 - mae: 0.0592 - val_loss: 0.0056 - val_mse: 0.0056 - val_mae: 0.0584\n"
     ]
    },
    {
     "data": {
      "text/plain": [
       "<keras.callbacks.callbacks.History at 0x7fac91708908>"
      ]
     },
     "execution_count": 23,
     "metadata": {},
     "output_type": "execute_result"
    }
   ],
   "source": [
    "autoencoder.compile(optimizer='adam',loss='mse',metrics=[\"mse\",\"mae\"])\n",
    "autoencoder.fit(train_x,train_x,validation_data=(test_x, test_x), batch_size=32,\n",
    "                    nb_epoch=50, shuffle=True)"
   ]
  },
  {
   "cell_type": "code",
   "execution_count": 24,
   "metadata": {},
   "outputs": [
    {
     "name": "stdout",
     "output_type": "stream",
     "text": [
      "(2000, 600)\n",
      "2000/2000 [==============================] - 0s 53us/step\n",
      "[0.6717412326335906, 0.7164999842643738]\n",
      "['loss', 'accuracy']\n"
     ]
    }
   ],
   "source": [
    "# transform EmbeddingVectors and sentiments with autoencoder.predict and then evaluate IDMB model again\n",
    "\n",
    "EmbeddingVectorsProjected = autoencoder.predict(EmbeddingVectors)\n",
    "\n",
    "print(EmbeddingVectorsProjected.shape)\n",
    "\n",
    "print(model.evaluate(x=EmbeddingVectorsProjected,y=sentiments))\n",
    "print(model.metrics_names)"
   ]
  },
  {
   "cell_type": "code",
   "execution_count": 25,
   "metadata": {},
   "outputs": [],
   "source": [
    "from IPython.display import HTML\n",
    "def create_download_link(title = \"Download file\", filename = \"data.csv\"):  \n",
    "    html = '<a href={filename}>{title}</a>'\n",
    "    html = html.format(title=title,filename=filename)\n",
    "    return HTML(html)\n",
    "\n",
    "#create_download_link(filename='GBMimportances.svg')"
   ]
  },
  {
   "cell_type": "code",
   "execution_count": 26,
   "metadata": {},
   "outputs": [],
   "source": [
    "!rm -rf aclImdb\n",
    "!rm aclImdb_v1.tar.gz"
   ]
  }
 ],
 "metadata": {
  "kernelspec": {
   "display_name": "Python 3",
   "language": "python",
   "name": "python3"
  },
  "language_info": {
   "codemirror_mode": {
    "name": "ipython",
    "version": 3
   },
   "file_extension": ".py",
   "mimetype": "text/x-python",
   "name": "python",
   "nbconvert_exporter": "python",
   "pygments_lexer": "ipython3",
   "version": "3.6.6"
  }
 },
 "nbformat": 4,
 "nbformat_minor": 4
}
