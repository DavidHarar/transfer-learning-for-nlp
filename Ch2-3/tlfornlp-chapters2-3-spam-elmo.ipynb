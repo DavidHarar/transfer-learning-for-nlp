{
 "cells": [
  {
   "cell_type": "markdown",
   "metadata": {},
   "source": [
    "# WARNING\n",
    "**Please make sure to \"COPY AND EDIT NOTEBOOK\" to use compatible library dependencies! DO NOT CREATE A NEW NOTEBOOK AND COPY+PASTE THE CODE - this will use latest Kaggle dependencies at the time you do that, and the code will need to be modified to make it work. Also make sure internet connectivity is enabled on your notebook**"
   ]
  },
  {
   "cell_type": "markdown",
   "metadata": {},
   "source": [
    "# Preliminaries\n",
    "First install a critical dependency for our code. **NOTE THAT THIS NOTEBOOK USES TENSORFLOW 1.14 BECAUSE ELMo WAS NOT PORTED TO TENSORFLOW 2.X AT THE TIME OF DEVELOPMENT. You can confirm if that is still the case now by going to https://tfhub.dev/s?q=elmo To see equivalent Tensorflow 2.X BERT Code, see https://www.kaggle.com/azunre/tlfornlp-chapters2-3-spam-bert-tf2**"
   ]
  },
  {
   "cell_type": "code",
   "execution_count": 1,
   "metadata": {},
   "outputs": [
    {
     "name": "stdout",
     "output_type": "stream",
     "text": [
      "Collecting keras==2.2.4\r\n",
      "\u001b[?25l  Downloading https://files.pythonhosted.org/packages/5e/10/aa32dad071ce52b5502266b5c659451cfd6ffcbf14e6c8c4f16c0ff5aaab/Keras-2.2.4-py2.py3-none-any.whl (312kB)\r\n",
      "\u001b[K     |████████████████████████████████| 317kB 4.4MB/s \r\n",
      "\u001b[?25hRequirement already satisfied: six>=1.9.0 in /opt/conda/lib/python3.6/site-packages (from keras==2.2.4) (1.12.0)\r\n",
      "Requirement already satisfied: scipy>=0.14 in /opt/conda/lib/python3.6/site-packages (from keras==2.2.4) (1.2.1)\r\n",
      "Requirement already satisfied: keras-applications>=1.0.6 in /opt/conda/lib/python3.6/site-packages (from keras==2.2.4) (1.0.8)\r\n",
      "Requirement already satisfied: keras-preprocessing>=1.0.5 in /opt/conda/lib/python3.6/site-packages (from keras==2.2.4) (1.1.0)\r\n",
      "Requirement already satisfied: h5py in /opt/conda/lib/python3.6/site-packages (from keras==2.2.4) (2.9.0)\r\n",
      "Requirement already satisfied: pyyaml in /opt/conda/lib/python3.6/site-packages (from keras==2.2.4) (5.1.2)\r\n",
      "Requirement already satisfied: numpy>=1.9.1 in /opt/conda/lib/python3.6/site-packages (from keras==2.2.4) (1.16.4)\r\n",
      "Installing collected packages: keras\r\n",
      "  Found existing installation: Keras 2.3.0\r\n",
      "    Uninstalling Keras-2.3.0:\r\n",
      "      Successfully uninstalled Keras-2.3.0\r\n",
      "Successfully installed keras-2.2.4\r\n"
     ]
    }
   ],
   "source": [
    "!pip install keras==2.2.4 # critical dependency, "
   ]
  },
  {
   "cell_type": "markdown",
   "metadata": {},
   "source": [
    "Write requirements to file, anytime you run it, in case you have to go back and recover dependencies.\n",
    "\n",
    "Latest known such requirements are hosted for each notebook in the companion github repo, and can be pulled down and installed here if needed. Companion github repo is located at https://github.com/azunre/transfer-learning-for-nlp"
   ]
  },
  {
   "cell_type": "code",
   "execution_count": 2,
   "metadata": {},
   "outputs": [],
   "source": [
    "!pip freeze > kaggle_image_requirements.txt"
   ]
  },
  {
   "cell_type": "code",
   "execution_count": 3,
   "metadata": {
    "_cell_guid": "b1076dfc-b9ad-4769-8c92-a6c4dae69d19",
    "_uuid": "8f2839f25d086af736a60e9eeb907d3b93b6e0e5"
   },
   "outputs": [
    {
     "name": "stderr",
     "output_type": "stream",
     "text": [
      "Using TensorFlow backend.\n"
     ]
    }
   ],
   "source": [
    "# Import neural network libraries\n",
    "import tensorflow as tf\n",
    "import tensorflow_hub as hub\n",
    "from keras import backend as K\n",
    "import keras.layers as layers\n",
    "from keras.models import Model, load_model\n",
    "from keras.engine import Layer\n",
    "\n",
    "# Initialize tensorflow/keras session\n",
    "sess = tf.Session()\n",
    "K.set_session(sess)"
   ]
  },
  {
   "cell_type": "markdown",
   "metadata": {},
   "source": [
    "# Read and Preprocess Enron dataset\n",
    "Read Enron dataset and get a sense for the data by printing sample messages to screen"
   ]
  },
  {
   "cell_type": "code",
   "execution_count": 4,
   "metadata": {},
   "outputs": [
    {
     "name": "stdout",
     "output_type": "stream",
     "text": [
      "Successfully loaded 517401 rows and 2 columns!\n",
      "                       file                                            message\n",
      "0     allen-p/_sent_mail/1.  Message-ID: <18782981.1075855378110.JavaMail.e...\n",
      "1    allen-p/_sent_mail/10.  Message-ID: <15464986.1075855378456.JavaMail.e...\n",
      "2   allen-p/_sent_mail/100.  Message-ID: <24216240.1075855687451.JavaMail.e...\n",
      "3  allen-p/_sent_mail/1000.  Message-ID: <13505866.1075863688222.JavaMail.e...\n",
      "4  allen-p/_sent_mail/1001.  Message-ID: <30922949.1075863688243.JavaMail.e...\n"
     ]
    }
   ],
   "source": [
    "import numpy as np # linear algebra\n",
    "import pandas as pd # data processing, CSV file I/O (e.g. pd.read_csv)\n",
    "\n",
    "# Input data files are available in the \"../input/\" directory.\n",
    "filepath = \"../input/enron-email-dataset/emails.csv\"\n",
    "\n",
    "# Read the data into a pandas dataframe called emails\n",
    "emails = pd.read_csv(filepath)\n",
    "\n",
    "print(\"Successfully loaded {} rows and {} columns!\".format(emails.shape[0], emails.shape[1]))\n",
    "print(emails.head())"
   ]
  },
  {
   "cell_type": "code",
   "execution_count": 5,
   "metadata": {},
   "outputs": [
    {
     "name": "stdout",
     "output_type": "stream",
     "text": [
      "Message-ID: <18782981.1075855378110.JavaMail.evans@thyme>\n",
      "Date: Mon, 14 May 2001 16:39:00 -0700 (PDT)\n",
      "From: phillip.allen@enron.com\n",
      "To: tim.belden@enron.com\n",
      "Subject: \n",
      "Mime-Version: 1.0\n",
      "Content-Type: text/plain; charset=us-ascii\n",
      "Content-Transfer-Encoding: 7bit\n",
      "X-From: Phillip K Allen\n",
      "X-To: Tim Belden <Tim Belden/Enron@EnronXGate>\n",
      "X-cc: \n",
      "X-bcc: \n",
      "X-Folder: \\Phillip_Allen_Jan2002_1\\Allen, Phillip K.\\'Sent Mail\n",
      "X-Origin: Allen-P\n",
      "X-FileName: pallen (Non-Privileged).pst\n",
      "\n",
      "Here is our forecast\n",
      "\n",
      " \n"
     ]
    }
   ],
   "source": [
    "# take a closer look at the first email\n",
    "print(emails.loc[0][\"message\"])"
   ]
  },
  {
   "cell_type": "markdown",
   "metadata": {},
   "source": [
    "Separate headers from the message bodies"
   ]
  },
  {
   "cell_type": "code",
   "execution_count": 6,
   "metadata": {},
   "outputs": [
    {
     "name": "stdout",
     "output_type": "stream",
     "text": [
      "Successfully retrieved message body from e-mails!\n"
     ]
    }
   ],
   "source": [
    "import email\n",
    "\n",
    "def extract_messages(df):\n",
    "    messages = []\n",
    "    for item in df[\"message\"]:\n",
    "        # Return a message object structure from a string\n",
    "        e = email.message_from_string(item)    \n",
    "        # get message body  \n",
    "        message_body = e.get_payload()\n",
    "        messages.append(message_body)\n",
    "    print(\"Successfully retrieved message body from e-mails!\")\n",
    "    return messages\n",
    "\n",
    "bodies = extract_messages(emails)"
   ]
  },
  {
   "cell_type": "code",
   "execution_count": 7,
   "metadata": {},
   "outputs": [
    {
     "data": {
      "text/html": [
       "<div>\n",
       "<style scoped>\n",
       "    .dataframe tbody tr th:only-of-type {\n",
       "        vertical-align: middle;\n",
       "    }\n",
       "\n",
       "    .dataframe tbody tr th {\n",
       "        vertical-align: top;\n",
       "    }\n",
       "\n",
       "    .dataframe thead th {\n",
       "        text-align: right;\n",
       "    }\n",
       "</style>\n",
       "<table border=\"1\" class=\"dataframe\">\n",
       "  <thead>\n",
       "    <tr style=\"text-align: right;\">\n",
       "      <th></th>\n",
       "      <th>0</th>\n",
       "    </tr>\n",
       "  </thead>\n",
       "  <tbody>\n",
       "    <tr>\n",
       "      <td>0</td>\n",
       "      <td>Sounds like a blast.  My work thing was fun.  I broke my sobreity and got \\nreally drunk, went home and passed out at 8pm.  I was totally loaded.  It was \\nvery fun though. My interviews went awesome yesterday.  I think I will get \\nthat job.   So what do you have planned for the weekend?  Anyth...</td>\n",
       "    </tr>\n",
       "    <tr>\n",
       "      <td>1</td>\n",
       "      <td>Steve Cooper, Jeff McMahon and Ray Bowen will hold a conference call for media today at 11:00am CST.  Employees will be able to listen to the call by logging onto the following website.\\n\\nClick on the link to access the call:  http://www.corporate-ir.net/ireye/ir_site.zhtml?ticker=ene&amp;script=2400</td>\n",
       "    </tr>\n",
       "    <tr>\n",
       "      <td>2</td>\n",
       "      <td>Yes, I'm here finally.  What a fiasco!  I got here yesterday morning and no \\nphone, computer or boxes.  Karen, my assistant had put in all the work \\nrequests, and Robin had come right behind her and cancelled them.  Go \\nfigure!  Anyway, Robin was out yesterday and today, so Karen had to start...</td>\n",
       "    </tr>\n",
       "    <tr>\n",
       "      <td>3</td>\n",
       "      <td>The request has been completed with all resources requested either completed \\nor rejected. You can view the details of the  request by clicking \\nhttp://itcapps.corp.enron.com/srrs/auth/emailLink.asp?ID=000000000022048&amp;Page=\\nMyReq.\\n\\n\\n</td>\n",
       "    </tr>\n",
       "    <tr>\n",
       "      <td>4</td>\n",
       "      <td>Attached please find the list of reports that you have had access to.  On the home page each of these reports should be \"blue\" and any reports you do not have access to should be in \"black\".  Please let me know which reports not listed in the attachment you should have access to.\\n\\nI apologize ...</td>\n",
       "    </tr>\n",
       "  </tbody>\n",
       "</table>\n",
       "</div>"
      ],
      "text/plain": [
       "                                                                                                                                                                                                                                                                                                             0\n",
       "0  Sounds like a blast.  My work thing was fun.  I broke my sobreity and got \\nreally drunk, went home and passed out at 8pm.  I was totally loaded.  It was \\nvery fun though. My interviews went awesome yesterday.  I think I will get \\nthat job.   So what do you have planned for the weekend?  Anyth...\n",
       "1   Steve Cooper, Jeff McMahon and Ray Bowen will hold a conference call for media today at 11:00am CST.  Employees will be able to listen to the call by logging onto the following website.\\n\\nClick on the link to access the call:  http://www.corporate-ir.net/ireye/ir_site.zhtml?ticker=ene&script=2400\n",
       "2  Yes, I'm here finally.  What a fiasco!  I got here yesterday morning and no \\nphone, computer or boxes.  Karen, my assistant had put in all the work \\nrequests, and Robin had come right behind her and cancelled them.  Go \\nfigure!  Anyway, Robin was out yesterday and today, so Karen had to start...\n",
       "3                                                              The request has been completed with all resources requested either completed \\nor rejected. You can view the details of the  request by clicking \\nhttp://itcapps.corp.enron.com/srrs/auth/emailLink.asp?ID=000000000022048&Page=\\nMyReq.\\n\\n\\n\n",
       "4  Attached please find the list of reports that you have had access to.  On the home page each of these reports should be \"blue\" and any reports you do not have access to should be in \"black\".  Please let me know which reports not listed in the attachment you should have access to.\\n\\nI apologize ..."
      ]
     },
     "execution_count": 7,
     "metadata": {},
     "output_type": "execute_result"
    }
   ],
   "source": [
    "# extract random 10000 enron email bodies for building dataset\n",
    "import random\n",
    "bodies_df = pd.DataFrame(random.sample(bodies, 10000))\n",
    "\n",
    "# expand default pandas display options to make emails more clearly visible when printed\n",
    "pd.set_option('display.max_colwidth', 300)\n",
    "\n",
    "bodies_df.head() # you could do print(bodies_df.head()), but Jupyter displays this nicer for pandas DataFrames"
   ]
  },
  {
   "cell_type": "markdown",
   "metadata": {},
   "source": [
    "The following (commented out) code is arguably the more \"pythonic\" way of achieving the extraction of bodies from messages. It is only 2 lines long and achieves the same result. However, we feel the code above is more transparent with regards to how the processing is carried out, and as such leave this here for the python experts if they prefer."
   ]
  },
  {
   "cell_type": "code",
   "execution_count": 8,
   "metadata": {},
   "outputs": [],
   "source": [
    "#messages = emails[\"message\"].apply(email.message_from_string)\n",
    "#bodies_df = messages.apply(lambda x: x.get_payload()).sample(10000)"
   ]
  },
  {
   "cell_type": "markdown",
   "metadata": {},
   "source": [
    "# Read and Preprocess Fraudulent \"419\" Email Corpus"
   ]
  },
  {
   "cell_type": "code",
   "execution_count": 9,
   "metadata": {},
   "outputs": [
    {
     "name": "stdout",
     "output_type": "stream",
     "text": [
      "Successfully loaded 3978 spam emails!\n"
     ]
    }
   ],
   "source": [
    "filepath = \"../input/fraudulent-email-corpus/fradulent_emails.txt\"\n",
    "with open(filepath, 'r',encoding=\"latin1\") as file:\n",
    "    data = file.read()\n",
    "    \n",
    "# split on a code word appearing close to the beginning of each email\n",
    "fraud_emails = data.split(\"From r\")\n",
    "\n",
    "print(\"Successfully loaded {} spam emails!\".format(len(fraud_emails)))"
   ]
  },
  {
   "cell_type": "code",
   "execution_count": 10,
   "metadata": {},
   "outputs": [
    {
     "name": "stdout",
     "output_type": "stream",
     "text": [
      "Successfully retrieved message body from e-mails!\n"
     ]
    },
    {
     "data": {
      "text/html": [
       "<div>\n",
       "<style scoped>\n",
       "    .dataframe tbody tr th:only-of-type {\n",
       "        vertical-align: middle;\n",
       "    }\n",
       "\n",
       "    .dataframe tbody tr th {\n",
       "        vertical-align: top;\n",
       "    }\n",
       "\n",
       "    .dataframe thead th {\n",
       "        text-align: right;\n",
       "    }\n",
       "</style>\n",
       "<table border=\"1\" class=\"dataframe\">\n",
       "  <thead>\n",
       "    <tr style=\"text-align: right;\">\n",
       "      <th></th>\n",
       "      <th>0</th>\n",
       "    </tr>\n",
       "  </thead>\n",
       "  <tbody>\n",
       "    <tr>\n",
       "      <td>0</td>\n",
       "      <td>FROM:MR. JAMES NGOLA.\\nCONFIDENTIAL TEL: 233-27-587908.\\nE-MAIL: (james_ngola2002@maktoob.com).\\n\\nURGENT BUSINESS ASSISTANCE AND PARTNERSHIP.\\n\\n\\nDEAR FRIEND,\\n\\nI AM ( DR.) JAMES NGOLA, THE PERSONAL ASSISTANCE TO THE LATE CONGOLESE (PRESIDENT LAURENT KABILA) WHO WAS ASSASSINATED BY HIS BODY G...</td>\n",
       "    </tr>\n",
       "    <tr>\n",
       "      <td>1</td>\n",
       "      <td>Dear Friend,\\n\\nI am Mr. Ben Suleman a custom officer and work as Assistant controller of the Customs and Excise department Of the Federal Ministry of Internal Affairs stationed at the Murtala Mohammed International Airport, Ikeja, Lagos-Nigeria.\\n\\nAfter the sudden death of the former Head of s...</td>\n",
       "    </tr>\n",
       "    <tr>\n",
       "      <td>2</td>\n",
       "      <td>FROM HIS ROYAL MAJESTY (HRM) CROWN RULER OF ELEME KINGDOM \\nCHIEF DANIEL ELEME, PHD, EZE 1 OF ELEME.E-MAIL \\nADDRESS:obong_715@epatra.com  \\n\\nATTENTION:PRESIDENT,CEO Sir/ Madam. \\n\\nThis letter might surprise you because we have met\\nneither in person nor by correspondence. But I believe\\nit is...</td>\n",
       "    </tr>\n",
       "    <tr>\n",
       "      <td>3</td>\n",
       "      <td>FROM HIS ROYAL MAJESTY (HRM) CROWN RULER OF ELEME KINGDOM \\nCHIEF DANIEL ELEME, PHD, EZE 1 OF ELEME.E-MAIL \\nADDRESS:obong_715@epatra.com  \\n\\nATTENTION:PRESIDENT,CEO Sir/ Madam. \\n\\nThis letter might surprise you because we have met\\nneither in person nor by correspondence. But I believe\\nit is...</td>\n",
       "    </tr>\n",
       "    <tr>\n",
       "      <td>4</td>\n",
       "      <td>Dear sir, \\n \\nIt is with a heart full of hope that I write to seek your help in respect of the context below. I am Mrs. Maryam Abacha the former first lady of the former Military Head of State of Nigeria General Sani Abacha whose sudden death occurred on 8th of June 1998 as a result of cardiac ...</td>\n",
       "    </tr>\n",
       "  </tbody>\n",
       "</table>\n",
       "</div>"
      ],
      "text/plain": [
       "                                                                                                                                                                                                                                                                                                             0\n",
       "0  FROM:MR. JAMES NGOLA.\\nCONFIDENTIAL TEL: 233-27-587908.\\nE-MAIL: (james_ngola2002@maktoob.com).\\n\\nURGENT BUSINESS ASSISTANCE AND PARTNERSHIP.\\n\\n\\nDEAR FRIEND,\\n\\nI AM ( DR.) JAMES NGOLA, THE PERSONAL ASSISTANCE TO THE LATE CONGOLESE (PRESIDENT LAURENT KABILA) WHO WAS ASSASSINATED BY HIS BODY G...\n",
       "1  Dear Friend,\\n\\nI am Mr. Ben Suleman a custom officer and work as Assistant controller of the Customs and Excise department Of the Federal Ministry of Internal Affairs stationed at the Murtala Mohammed International Airport, Ikeja, Lagos-Nigeria.\\n\\nAfter the sudden death of the former Head of s...\n",
       "2  FROM HIS ROYAL MAJESTY (HRM) CROWN RULER OF ELEME KINGDOM \\nCHIEF DANIEL ELEME, PHD, EZE 1 OF ELEME.E-MAIL \\nADDRESS:obong_715@epatra.com  \\n\\nATTENTION:PRESIDENT,CEO Sir/ Madam. \\n\\nThis letter might surprise you because we have met\\nneither in person nor by correspondence. But I believe\\nit is...\n",
       "3  FROM HIS ROYAL MAJESTY (HRM) CROWN RULER OF ELEME KINGDOM \\nCHIEF DANIEL ELEME, PHD, EZE 1 OF ELEME.E-MAIL \\nADDRESS:obong_715@epatra.com  \\n\\nATTENTION:PRESIDENT,CEO Sir/ Madam. \\n\\nThis letter might surprise you because we have met\\nneither in person nor by correspondence. But I believe\\nit is...\n",
       "4  Dear sir, \\n \\nIt is with a heart full of hope that I write to seek your help in respect of the context below. I am Mrs. Maryam Abacha the former first lady of the former Military Head of State of Nigeria General Sani Abacha whose sudden death occurred on 8th of June 1998 as a result of cardiac ..."
      ]
     },
     "execution_count": 10,
     "metadata": {},
     "output_type": "execute_result"
    }
   ],
   "source": [
    "fraud_bodies = extract_messages(pd.DataFrame(fraud_emails,columns=[\"message\"],dtype=str))\n",
    "fraud_bodies_df = pd.DataFrame(fraud_bodies[1:])\n",
    "\n",
    "fraud_bodies_df.head() # you could do print(fraud_bodies_df.head()), but Jupyter displays this nicer for pandas DataFrames"
   ]
  },
  {
   "cell_type": "markdown",
   "metadata": {},
   "source": [
    "# Define Tokenization, Stop-word and Punctuation Removal Functions\n",
    "Before proceeding, we must decide how many samples to draw from each class. We must also decide the maximum number of tokens per email, and the maximum length of each token. This is done by setting the following overarching hyperparameters"
   ]
  },
  {
   "cell_type": "code",
   "execution_count": 11,
   "metadata": {},
   "outputs": [],
   "source": [
    "Nsamp =1000 # number of samples to generate in each class - 'spam', 'not spam'\n",
    "maxtokens = 200 # the maximum number of tokens per document\n",
    "maxtokenlen = 100 # the maximum length of each token"
   ]
  },
  {
   "cell_type": "markdown",
   "metadata": {},
   "source": [
    "**Tokenization**"
   ]
  },
  {
   "cell_type": "code",
   "execution_count": 12,
   "metadata": {},
   "outputs": [],
   "source": [
    "def tokenize(row):\n",
    "    if row is None or row is '':\n",
    "        tokens = \"\"\n",
    "    else:\n",
    "        tokens = str(row).split(\" \")[:maxtokens]\n",
    "    return tokens"
   ]
  },
  {
   "cell_type": "markdown",
   "metadata": {},
   "source": [
    "**Use regular expressions to remove unnecessary characters**\n",
    "\n",
    "Next, we define a function to remove punctuation marks and other nonword characters (using regular expressions) from the emails with the help of the ubiquitous python regex library. In the same step, we truncate all tokens to hyperparameter maxtokenlen defined above."
   ]
  },
  {
   "cell_type": "code",
   "execution_count": 13,
   "metadata": {},
   "outputs": [],
   "source": [
    "import re\n",
    "\n",
    "def reg_expressions(row):\n",
    "    tokens = []\n",
    "    try:\n",
    "        for token in row:\n",
    "            token = token.lower()\n",
    "            token = re.sub(r'[\\W\\d]', \"\", token)\n",
    "            token = token[:maxtokenlen] # truncate token\n",
    "            tokens.append(token)\n",
    "    except:\n",
    "        token = \"\"\n",
    "        tokens.append(token)\n",
    "    return tokens"
   ]
  },
  {
   "cell_type": "markdown",
   "metadata": {},
   "source": [
    "**Stop-word removal**\n",
    "\n",
    "Let’s define a function to remove stopwords - words that occur so frequently in language that they offer no useful information for classification. This includes words such as “the” and “are”, and the popular library NLTK provides a heavily-used list that will employ."
   ]
  },
  {
   "cell_type": "code",
   "execution_count": 14,
   "metadata": {},
   "outputs": [
    {
     "name": "stdout",
     "output_type": "stream",
     "text": [
      "[nltk_data] Downloading package stopwords to /usr/share/nltk_data...\n",
      "[nltk_data]   Unzipping corpora/stopwords.zip.\n"
     ]
    }
   ],
   "source": [
    "import nltk\n",
    "\n",
    "nltk.download('stopwords')\n",
    "from nltk.corpus import stopwords\n",
    "stopwords = stopwords.words('english')    \n",
    "\n",
    "def stop_word_removal(row):\n",
    "    token = [token for token in row if token not in stopwords]\n",
    "    token = filter(None, token)\n",
    "    return token"
   ]
  },
  {
   "cell_type": "markdown",
   "metadata": {},
   "source": [
    "# Putting It All Together To Assemble Dataset\n",
    "\n",
    "Now, putting all the preprocessing steps together we assemble our dataset..."
   ]
  },
  {
   "cell_type": "code",
   "execution_count": 15,
   "metadata": {},
   "outputs": [],
   "source": [
    "import random\n",
    "\n",
    "# Convert everything to lower-case, truncate to maxtokens and truncate each token to maxtokenlen\n",
    "EnronEmails = bodies_df.iloc[:,0].apply(tokenize)\n",
    "EnronEmails = EnronEmails.apply(stop_word_removal)\n",
    "EnronEmails = EnronEmails.apply(reg_expressions)\n",
    "EnronEmails = EnronEmails.sample(Nsamp)\n",
    "\n",
    "SpamEmails = fraud_bodies_df.iloc[:,0].apply(tokenize)\n",
    "SpamEmails = SpamEmails.apply(stop_word_removal)\n",
    "SpamEmails = SpamEmails.apply(reg_expressions)\n",
    "SpamEmails = SpamEmails.sample(Nsamp)\n",
    "\n",
    "raw_data = pd.concat([SpamEmails,EnronEmails], axis=0).values"
   ]
  },
  {
   "cell_type": "code",
   "execution_count": 16,
   "metadata": {},
   "outputs": [
    {
     "name": "stdout",
     "output_type": "stream",
     "text": [
      "Shape of combined data is:\n",
      "(2000,)\n",
      "Data represented as numpy array is:\n",
      "[list(['cher', 'amije', 'suis', 'tres', 'heureuse', 'de', 'vous', 'ecrit', 'cette', 'lettre', 'du', 'faitque', 'nous', 'ne', 'nous', 'sommes', 'jamais', 'rencontres', 'avantje', 'suis', 'julia', 'ngoli', 'je', 'suis', 'nationalite', 'liberienne', 'leseule', 'fille', 'survivant', 'du', 'defunt', 'dr', 'daniel', 'zngoli', 'derepublique', 'du', 'liberiames', 'parents', 'ont', 'ete', 'tue', 'septembre', 'passe', '', 'par', 'le', 'grouperebelle', 'sur', 'son', 'chemin', 'en', 'voyageant', 'avec', 'mere', 'e', 'lainterroi', 'de', 'mon', 'paysmon', 'defunt', 'pere', 'cest', 'lexplorateur', 'est', 'le', 'directeur', 'dendmc', '', 'national', 'diamond', 'mining', 'company', 'de', 'liberiaavant', 'cela', 'pere', 'mon', 'pere', 'mait', 'informe', 'de', 'la', 'somme', 'de', 'seize', 'millions', 'de', 'dollars', 'des', 'etatsunisseulement', 'ce', 'quil', 'depose', 'dans', 'une', 'coffre', 'avec', 'unesociete', 'de', 'valeur', 'immobiliers', 'ici', 'en', 'cote', 'ivoire', 'sur', 'le', 'nomde', 'son', 'associe', 'etranger', 'en', 'tant', 'que', 'beneficiaireces', 'fonds', 'ont', 'emane', 'de', 'sa', 'tenure', 'quand', 'il', 'etait', 'alors', 'ledirecteur', 'de', 'cette', 'societe', 'dans', 'mon', 'pays', 'et', 'le', 'vente', 'dediamants', 'en', 'etant', 'le', 'seul', 'fils', 'et', 'apres', 'avoir', 'ete', 'avertide', 'ne', 'pas', 'laissez', 'le', 'gouvernement', 'incubent', 'de', 'la', 'republiquede', 'liberia', 'se', 'rendre', 'compte', 'de', 'cette', 'fonds', 'donc', 'jaidecide', 'dattendre', 'un', 'peux', 'avant', 'la', 'recherche', 'de', 'ces', 'fondscependant', 'que', 'je', 'contacte', 'la', 'societe', 'de', 'valeur', 'immobilierqui', 'ma', 'demandee', 'de', 'presenter', 'avec', 'lassocie', 'etranger', 'demon', 'defunt', 'pere', 'qui', 'representera', 'la', 'reclamation', 'de', 'cetvalise'])\n",
      " list(['emailmessagemessage', 'object', 'xfbff'])\n",
      " list(['emailmessagemessage', 'object', 'xfbebb', 'emailmessagemessage', 'object', 'xfbebf'])\n",
      " ...\n",
      " list(['tanathis', 'would', 'handled', 'someone', 'alans', 'groupjefftana', 'jones', '', 'am', '', 'to', 'jeffrey', 't', 'hodgehouectect', 'dan', 'j', 'hyvlhouectect', 'cc', 'andrea', 'hausernaenronenron', 'subject', 'eolmarathon', 'ashland', 'petrolleumandrea', 'hauser', 'wenrononline', 'called', 'said', 'marathon', 'problem', 'the', 'terms', 'online', 'gtcs', 'default', 'language', 'lpg', 'petrochems', 'refined', 'products', 'would', 'like', 'talk', 'one', 'lawyers', 'marathons', 'lawyer', 'rhonda', 'stinemyer', '', '', 'can', 'let', 'andrea', 'know', 'handling', 'thisthanks'])\n",
      " list(['i', 'attached', 'list', 'confirmed', 'attendees', 'event', 'mon', 'thnovember', 'so', 'make', 'carpooling', 'arrangements', 'we', 'beemailing', 'you', 'address', 'venue', 'later', 'weeki', 'also', 'included', 'list', 'first', '', 'people', 'waitlist', 'we', 'aredoing', 'best', 'organise', 'more', 'vcs', 'another', 'table', 'canaccomodate', 'well', 'we', 'be', 'able', 'confirm', 'thursday', 'ndnovember', 'whether', 'possibleas', 'note', 'attachment', 'still', 'received', 'bios', 'frommany', 'you', 'the', 'purpose', 'bios', 'help', 'vcsfamiliarise', 'advance', 'dinner', 'tohelp', 'us', 'place', 'tables', 'vcs', 'particular', 'area', 'interestthe', 'final', 'deadline', 'receive', 'bios', 'tuesday', 'st', 'october', 'atpm', 'please', 'try', 'email', 'bio', 'time', 'if', 'bios', 'notreceived', 'then', 'place', 'randomlyalso', 'many', 'sent', 'regular', 'resumes', 'instead', 'biosthat', 'asked', 'for', 'these', 'not', 'serve', 'purpose', 'providing', 'vcswith', 'personalised', 'targeted', 'information'])\n",
      " list(['not', 'problem', 'ill', 'let', 'know', 'goes', 'dfsteven', 'harris', '', 'pmto', 'drew', 'fossumetsenronenroncc', 'susan', 'scottetsenronenron', 'kevin', 'hyattetsenronenron', 'james', 'centillietsenronenron', 'subject', 're', 'ecs', 'gallup', 'contract', 'drew', 'mind', 'i', 'think', 'may', 'able', 'argue', 'better', 'based', 'your', 'knowledge', 'history', 'facts', 'let', 'know', 'feel', 'otherwise', 'thanks', 'steve', 'drew', 'fossum', '', 'pmto', 'susan', 'scottetsenronenroncc', 'kevin', 'hyattetsenronenron', 'james', 'centillietsenronenron', 'steven', 'harrisetsenronenron', 'subject', 're', 'ecs', 'gallup', 'contract', 'once', 'susan', 'gets', 'last', 'pieces', 'info', 'either', 'steve', 'i', 'call', 'ecs', 'try', 'resolve', 'this', 'steveyou', 'me', 'its', 'call', 'dfsusan', 'scott', '', 'pmto', 'kevin', 'hyattetsenronenron', 'james', 'centillietsenronenron', 'drew', 'fossumenroncc', 'steven', 'harrisetsenronenron', 'subject', 'ecs', 'gallup', 'contracthere', 'bullet', 'points', 'based', 'conversation', 'friday', 'morning', 'regarding', 'ecs', 'compression', 'service', 'agreement', 'these', 'bullet', 'points', 'summarize', 'position', 'intended', 'starting', 'point', 'conversation', 'persons', 'tw', 'ecs', 'who', 'yet', 'determined', 'regarding', 'additional', 'power', 'costs', 'incurred', 'transwestern', 'result', 'the', 'lack', 'system', 'monitoring', 'peak', 'loads', 'cdec', 'if'])]\n"
     ]
    }
   ],
   "source": [
    "print(\"Shape of combined data is:\")\n",
    "print(raw_data.shape)\n",
    "print(\"Data represented as numpy array is:\")\n",
    "print(raw_data)\n",
    "\n",
    "# corresponding labels\n",
    "Categories = ['spam','notspam']\n",
    "header = ([1]*Nsamp)\n",
    "header.extend(([0]*Nsamp))"
   ]
  },
  {
   "cell_type": "code",
   "execution_count": 17,
   "metadata": {},
   "outputs": [
    {
     "name": "stdout",
     "output_type": "stream",
     "text": [
      "train_x/train_y list details, to make sure it is of the right form:\n",
      "1400\n",
      "[['when done agreement pass back file thanks']\n",
      " ['headachesfrom suzanne adamsect   pmto kay manncorpenronenroncc subject re tripp scott proposed terms engagement ive got calendar do glasses give headachekay mannenron  pm  to suzanne adamshouectect cc  subject re tripp scott proposed terms engagementplease put schedule forwarded kay manncorpenron   pm from marchris robinson   pmto james d steffesnaenronenroncc steve montovanonaenronenron kay manncorpenronenron ben jacobyhouectect steven krimskycorpenronenron subject re tripp scott proposed terms engagementi think phone conference resolve outstanding issues regarding engagement local lobbying firms ena i schedule call tomorrow am cst please advise time works your schedule thanksmarchris forwarded marchris robinsonnaenron   pm kay mann  am  to marchris robinsonnaenronenron cc christi l nicolayhouectect subject re tripp scott proposed terms engagementhi marchrisim ena legal im looking right person discuss with christi nicholay suggested i get involved please give call    discussthankskay forwarded kay manncorpenron']\n",
      " ['look page  pdf file']\n",
      " ...\n",
      " ['put calendar forwarded jeffrey a shankmanhouect   pm  from sheila knudsen  enron   pmto mark frevertnaenronenron greg whalleyhouectect david w delaineyhouectect john j lavoratocorpenronenron janet r dietrichhouectect jeff donahuehouectect wes colwellhouectect mark e haedickehouectect david oxleyhouectect brian redmondhouectect vince j kaminskihouectect sally beckhouectect jeffrey mcmahonhouectect raymond bowenhouectect mike mcconnellhouectect jeffrey a shankmanhouectect gary hickersonhouectect george mcclellanhouectect jere c overdykehouectect louise kitchenhouectect philippe a bibihouectect greg pipercorpenronenron jay fitzgeraldnyectect rebecca mcdonaldenron_developmentenron_development james a hughesenron_developmentenron_development orlando gonzalezsaenronenron joe kishkillsaenronenron shawn cumberlandenron_developmentenron_development dan leffhoueesees marty sundehoueesees michael kopperhouectect richard dimicheleenron communicationsenron communications richard shapironaenronenroncc robert jonescorpenronenron cindy skinnerhouectect janie bonnardenron_developmentenron_development scott gilchristenron_developmentenron_development sheila waltonhouectect miguel padronnaenronenron gina cortesellicorpenronenron kay chapmanhouectect kimberly hillishouectect christy chapmanhouectect marsha schillerhouectect shirley tijerinacorpenronenron janette elbertsonhouectect lillian carrollhouectect shirley crenshawhouectect sue fordhouectect marsha schillerhouectect cathy phillipshouectect jennifer burnshouectect stella l elyhouectect angie collinshouectect donna bakerhouectect tammie schoppehouectect peggy mccurleyhouectect tina spillercorpenronenron loretta brelsfordenron_developmentenron_development connie blackwoodenron_developmentenron_development eva hernandezenron communicationsenron communications lisa wolfenaenronenron shimira jacksonenron_developmentenron_development kathy dodgenhoueesees carol moffetthoueesees inez dauterivehouectect ginger dernehlnaenronenron luly stephensnaenronenron']\n",
      " ['fyivince forwarded vince j kaminskihouect  pm liam leahy lleahyhightechbizcom   pmplease respond lleahyhightechbizcomto vince j kaminskihouectectcc kwatsonenroncomsubject meeting energy expothis confirm meeting office th march at amwe energy expo booth nbr  th f thand staying allen park inn allen parkway need toreach usliam leahyfordr robert e brooksdirect line  main line  httpgpcmrbaccom httpgpcmrbaccom  atthtm']\n",
      " ['see attached']]\n",
      "[0 0 0 1 1]\n",
      "(1400,)\n"
     ]
    }
   ],
   "source": [
    "# function for shuffling data\n",
    "def unison_shuffle(a, b):\n",
    "    p = np.random.permutation(len(b))\n",
    "    data = a[p]\n",
    "    header = np.asarray(b)[p]\n",
    "    return data, header\n",
    "\n",
    "# function for converting data into the right format, due to the difference in required format from sklearn models\n",
    "# we expect a single string per email here, versus a list of tokens for the sklearn models previously explored\n",
    "def convert_data(raw_data,header):\n",
    "    converted_data, labels = [], []\n",
    "    for i in range(raw_data.shape[0]):\n",
    "        # combine list of tokens representing each email into single string\n",
    "        out = ' '.join(raw_data[i])\n",
    "        converted_data.append(out)\n",
    "        labels.append(header[i])\n",
    "        #print(i)\n",
    "    converted_data = np.array(converted_data, dtype=object)[:, np.newaxis]\n",
    "    return converted_data, np.array(labels)\n",
    "\n",
    "raw_data, header = unison_shuffle(raw_data, header)\n",
    "\n",
    "# split into independent 70% training and 30% testing sets\n",
    "idx = int(0.7*raw_data.shape[0])\n",
    "# 70% of data for training\n",
    "train_x, train_y = convert_data(raw_data[:idx],header[:idx])\n",
    "# remaining 30% for testing\n",
    "test_x, test_y = convert_data(raw_data[idx:],header[idx:])\n",
    "\n",
    "print(\"train_x/train_y list details, to make sure it is of the right form:\")\n",
    "print(len(train_x))\n",
    "print(train_x)\n",
    "print(train_y[:5])\n",
    "print(train_y.shape)"
   ]
  },
  {
   "cell_type": "markdown",
   "metadata": {},
   "source": [
    "# Build, Train and Evaluate ELMo Model\n",
    "Create a custom tf hub ELMO embedding layer"
   ]
  },
  {
   "cell_type": "code",
   "execution_count": 18,
   "metadata": {
    "_cell_guid": "79c7e3d0-c299-4dcb-8224-4455121ee9b0",
    "_uuid": "d629ff2d2480ee46fbb7e2d37f6b5fab8052498a"
   },
   "outputs": [],
   "source": [
    "class ElmoEmbeddingLayer(Layer):\n",
    "    def __init__(self, **kwargs):\n",
    "        self.dimensions = 1024 # initialize output dimension of ELMo embedding\n",
    "        self.trainable=True\n",
    "        super(ElmoEmbeddingLayer, self).__init__(**kwargs)\n",
    "\n",
    "    def build(self, input_shape): # function for building ELMo embedding\n",
    "        self.elmo = hub.Module('https://tfhub.dev/google/elmo/2', trainable=self.trainable,\n",
    "                               name=\"{}_module\".format(self.name)) # download pretrained ELMo model\n",
    "        \n",
    "        # extract trainable parameters, which are only a small subset of the total - this is a constraint of\n",
    "        # the tf hub module as shared by the authors - see https://tfhub.dev/google/elmo/2\n",
    "        # the trainable parameters are 4 scalar weights on the sum of the outputs of ELMo layers \n",
    "        self.trainable_weights += K.tf.trainable_variables(scope=\"^{}_module/.*\".format(self.name))\n",
    "        super(ElmoEmbeddingLayer, self).build(input_shape)\n",
    "\n",
    "    def call(self, x, mask=None): # specify function for calling embedding\n",
    "        result = self.elmo(K.squeeze(K.cast(x, tf.string), axis=1),\n",
    "                      as_dict=True,\n",
    "                      signature='default',\n",
    "                      )['default']\n",
    "        return result\n",
    "\n",
    "    def compute_output_shape(self, input_shape): # specify output shape\n",
    "        return (input_shape[0], self.dimensions)"
   ]
  },
  {
   "cell_type": "markdown",
   "metadata": {},
   "source": [
    "We now use the custom TF hub ELMo embedding layer within a higher-level function to define the overall model. \n",
    "More specifically, we put a dense trainable layer of output dimension 256 on top of the ELMo embedding. "
   ]
  },
  {
   "cell_type": "code",
   "execution_count": 19,
   "metadata": {},
   "outputs": [],
   "source": [
    "# Function to build overall model\n",
    "def build_model():\n",
    "    input_text = layers.Input(shape=(1,), dtype=\"string\")\n",
    "    embedding = ElmoEmbeddingLayer()(input_text)\n",
    "    dense = layers.Dense(256, activation='relu')(embedding)\n",
    "    pred = layers.Dense(1, activation='sigmoid')(dense) # we could use sigmoid activation as well, but we choose softmax\n",
    "                                                        # to enable us use sparse_categorical_crossentropy and \n",
    "                                                        # sparse_categorical_accuracy below\n",
    "    \n",
    "    model = Model(inputs=[input_text], outputs=pred)\n",
    "    # use sparse_categorical_crossentropy and sparse_categorical_accuracy do avoid having to\n",
    "    # one-hot encode the labels\n",
    "    model.compile(loss='binary_crossentropy', optimizer='adam', metrics=['accuracy'])\n",
    "    \n",
    "    model.summary()\n",
    "    \n",
    "    return model"
   ]
  },
  {
   "cell_type": "code",
   "execution_count": 20,
   "metadata": {},
   "outputs": [
    {
     "name": "stdout",
     "output_type": "stream",
     "text": [
      "_________________________________________________________________\n",
      "Layer (type)                 Output Shape              Param #   \n",
      "=================================================================\n",
      "input_1 (InputLayer)         (None, 1)                 0         \n",
      "_________________________________________________________________\n",
      "elmo_embedding_layer_1 (Elmo (None, 1024)              4         \n",
      "_________________________________________________________________\n",
      "dense_1 (Dense)              (None, 256)               262400    \n",
      "_________________________________________________________________\n",
      "dense_2 (Dense)              (None, 1)                 257       \n",
      "=================================================================\n",
      "Total params: 262,661\n",
      "Trainable params: 262,661\n",
      "Non-trainable params: 0\n",
      "_________________________________________________________________\n",
      "Train on 1400 samples, validate on 600 samples\n",
      "Epoch 1/5\n",
      "1400/1400 [==============================] - 45s 32ms/step - loss: 0.4836 - acc: 0.8671 - val_loss: 0.1725 - val_acc: 0.9350\n",
      "Epoch 2/5\n",
      "1400/1400 [==============================] - 37s 26ms/step - loss: 0.1237 - acc: 0.9629 - val_loss: 0.1429 - val_acc: 0.9450\n",
      "Epoch 3/5\n",
      "1400/1400 [==============================] - 36s 26ms/step - loss: 0.2082 - acc: 0.9586 - val_loss: 0.0999 - val_acc: 0.9667\n",
      "Epoch 4/5\n",
      "1400/1400 [==============================] - 36s 26ms/step - loss: 0.1194 - acc: 0.9764 - val_loss: 0.0493 - val_acc: 0.9867\n",
      "Epoch 5/5\n",
      "1400/1400 [==============================] - 35s 25ms/step - loss: 0.1914 - acc: 0.9593 - val_loss: 0.0457 - val_acc: 0.9867\n"
     ]
    }
   ],
   "source": [
    "# Build and fit\n",
    "model = build_model()\n",
    "history = model.fit(train_x, \n",
    "          train_y,\n",
    "          validation_data=(test_x, test_y),\n",
    "          epochs=5,\n",
    "          batch_size=32)"
   ]
  },
  {
   "cell_type": "markdown",
   "metadata": {},
   "source": [
    "**Save trained model**"
   ]
  },
  {
   "cell_type": "code",
   "execution_count": 21,
   "metadata": {},
   "outputs": [],
   "source": [
    "model.save('ELMoModel.h5')\n"
   ]
  },
  {
   "cell_type": "markdown",
   "metadata": {},
   "source": [
    "**Visualize Convergence**"
   ]
  },
  {
   "cell_type": "code",
   "execution_count": 22,
   "metadata": {},
   "outputs": [
    {
     "data": {
      "image/png": "[encoded data removed]",
      "text/plain": [
       "<Figure size 432x288 with 1 Axes>"
      ]
     },
     "metadata": {
      "needs_background": "light"
     },
     "output_type": "display_data"
    }
   ],
   "source": [
    "import matplotlib.pyplot as plt\n",
    "\n",
    "df_history = pd.DataFrame(history.history)\n",
    "\n",
    "fig,ax = plt.subplots()\n",
    "plt.plot(range(df_history.shape[0]),df_history['val_acc'],'bs--',label='validation')\n",
    "plt.plot(range(df_history.shape[0]),df_history['acc'],'r^--',label='training')\n",
    "plt.xlabel('epoch')\n",
    "plt.ylabel('accuracy')\n",
    "plt.title('ELMo Email Classification Training')\n",
    "plt.legend(loc='best')\n",
    "plt.grid()\n",
    "plt.show()\n",
    "# Save figures\n",
    "fig.savefig('ELMoConvergence.eps', format='eps')\n",
    "fig.savefig('ELMoConvergence.pdf', format='pdf')\n",
    "fig.savefig('ELMoConvergence.png', format='png')\n",
    "fig.savefig('ELMoConvergence.svg', format='svg')"
   ]
  },
  {
   "cell_type": "markdown",
   "metadata": {},
   "source": [
    "**Make figures downloadable to local system in interactive mode**"
   ]
  },
  {
   "cell_type": "code",
   "execution_count": 23,
   "metadata": {},
   "outputs": [
    {
     "data": {
      "text/html": [
       "<a href=ELMoConvergence.svg>Download file</a>"
      ],
      "text/plain": [
       "<IPython.core.display.HTML object>"
      ]
     },
     "execution_count": 23,
     "metadata": {},
     "output_type": "execute_result"
    }
   ],
   "source": [
    "from IPython.display import HTML\n",
    "def create_download_link(title = \"Download file\", filename = \"data.csv\"):  \n",
    "    html = '<a href={filename}>{title}</a>'\n",
    "    html = html.format(title=title,filename=filename)\n",
    "    return HTML(html)\n",
    "\n",
    "create_download_link(filename='ELMoConvergence.svg')"
   ]
  }
 ],
 "metadata": {
  "kernelspec": {
   "display_name": "Python 3",
   "language": "python",
   "name": "python3"
  },
  "language_info": {
   "codemirror_mode": {
    "name": "ipython",
    "version": 3
   },
   "file_extension": ".py",
   "mimetype": "text/x-python",
   "name": "python",
   "nbconvert_exporter": "python",
   "pygments_lexer": "ipython3",
   "version": "3.6.6"
  }
 },
 "nbformat": 4,
 "nbformat_minor": 4
}
