{
 "cells": [
  {
   "cell_type": "markdown",
   "metadata": {},
   "source": [
    "# Preliminaries\n",
    "\n",
    "Write requirements to file, anytime you run it, in case you have to go back and recover dependencies.\n",
    "\n",
    "Latest known such requirements are hosted for each notebook in the companion github repo, and can be pulled down and installed here if needed. Companion github repo is located at https://github.com/azunre/transfer-learning-for-nlp"
   ]
  },
  {
   "cell_type": "code",
   "execution_count": 1,
   "metadata": {},
   "outputs": [],
   "source": [
    "!pip freeze > kaggle_image_requirements.txt"
   ]
  },
  {
   "cell_type": "markdown",
   "metadata": {},
   "source": [
    "# Download IMDB Movie Review Dataset\n",
    "Download IMDB dataset"
   ]
  },
  {
   "cell_type": "code",
   "execution_count": 2,
   "metadata": {},
   "outputs": [
    {
     "name": "stdout",
     "output_type": "stream",
     "text": [
      "wget: /opt/conda/lib/libuuid.so.1: no version information available (required by wget)\r\n"
     ]
    }
   ],
   "source": [
    "import random\n",
    "import pandas as pd\n",
    "\n",
    "## Read-in the reviews and print some basic descriptions of them\n",
    "\n",
    "!wget -q \"http://ai.stanford.edu/~amaas/data/sentiment/aclImdb_v1.tar.gz\"\n",
    "!tar xzf aclImdb_v1.tar.gz"
   ]
  },
  {
   "cell_type": "markdown",
   "metadata": {},
   "source": [
    "# Define Tokenization, Stop-word and Punctuation Removal Functions\n",
    "Before proceeding, we must decide how many samples to draw from each class. We must also decide the maximum number of tokens per email, and the maximum length of each token. This is done by setting the following overarching hyperparameters\n"
   ]
  },
  {
   "cell_type": "code",
   "execution_count": 3,
   "metadata": {},
   "outputs": [],
   "source": [
    "Nsamp = 1000 # number of samples to generate in each class - 'spam', 'not spam'\n",
    "maxtokens = 200 # the maximum number of tokens per document\n",
    "maxtokenlen = 100 # the maximum length of each token"
   ]
  },
  {
   "cell_type": "markdown",
   "metadata": {},
   "source": [
    "**Tokenization**"
   ]
  },
  {
   "cell_type": "code",
   "execution_count": 4,
   "metadata": {},
   "outputs": [],
   "source": [
    "def tokenize(row):\n",
    "    if row is None or row is '':\n",
    "        tokens = \"\"\n",
    "    else:\n",
    "        tokens = row.split(\" \")[:maxtokens]\n",
    "    return tokens"
   ]
  },
  {
   "cell_type": "markdown",
   "metadata": {},
   "source": [
    "**Use regular expressions to remove unnecessary characters** \n",
    "\n",
    "Next, we define a function to remove punctuation marks and other nonword characters (using regular expressions) from the emails with the help of the ubiquitous python regex library. In the same step, we truncate all tokens to hyperparameter maxtokenlen defined above."
   ]
  },
  {
   "cell_type": "code",
   "execution_count": 5,
   "metadata": {},
   "outputs": [],
   "source": [
    "import re\n",
    "\n",
    "def reg_expressions(row):\n",
    "    tokens = []\n",
    "    try:\n",
    "        for token in row:\n",
    "            token = token.lower() # make all characters lower case\n",
    "            token = re.sub(r'[\\W\\d]', \"\", token)\n",
    "            token = token[:maxtokenlen] # truncate token\n",
    "            tokens.append(token)\n",
    "    except:\n",
    "        token = \"\"\n",
    "        tokens.append(token)\n",
    "    return tokens"
   ]
  },
  {
   "cell_type": "markdown",
   "metadata": {},
   "source": [
    "**Stop-word removal**\n",
    "\n",
    "Stop-words are also removed. Stop-words are words that are very common in text but offer no useful information that can be used to classify the text. Words such as is, and, the, are are examples of stop-words. The NLTK library contains a list of 127 English stop-words and can be used to filter our tokenized strings."
   ]
  },
  {
   "cell_type": "code",
   "execution_count": 6,
   "metadata": {},
   "outputs": [
    {
     "name": "stdout",
     "output_type": "stream",
     "text": [
      "[nltk_data] Downloading package stopwords to /usr/share/nltk_data...\n",
      "[nltk_data]   Unzipping corpora/stopwords.zip.\n"
     ]
    }
   ],
   "source": [
    "import nltk\n",
    "\n",
    "nltk.download('stopwords')\n",
    "from nltk.corpus import stopwords\n",
    "stopwords = stopwords.words('english')    \n",
    "\n",
    "# print(stopwords) # see default stopwords\n",
    "# it may be beneficial to drop negation words from the removal list, as they can change the positive/negative meaning\n",
    "# of a sentence\n",
    "# stopwords.remove(\"no\")\n",
    "# stopwords.remove(\"nor\")\n",
    "# stopwords.remove(\"not\")\n"
   ]
  },
  {
   "cell_type": "code",
   "execution_count": 7,
   "metadata": {},
   "outputs": [],
   "source": [
    "def stop_word_removal(row):\n",
    "    token = [token for token in row if token not in stopwords]\n",
    "    token = filter(None, token)\n",
    "    return token"
   ]
  },
  {
   "cell_type": "markdown",
   "metadata": {},
   "source": [
    "# Bag-of-words model \n",
    "\n",
    "For the computer to make inferences of the e-mails, it has to be able to interpret the text by making a numerical representation of it. One way to do this is by using something called a \"bag-of-words\" model. This model simply counts the frequency of word tokens for each email and thereby represents it as a vector of these counts.\n",
    "\n",
    "** Assemble matrices function**\n",
    "\n",
    "The `assemble_bag()` function assembles a new dataframe containing all the unique words found in the text documents. It counts the word frequency and then returns the new dataframe."
   ]
  },
  {
   "cell_type": "code",
   "execution_count": 8,
   "metadata": {},
   "outputs": [],
   "source": [
    "def assemble_bag(data):\n",
    "    used_tokens = []\n",
    "    all_tokens = []\n",
    "\n",
    "    for item in data:\n",
    "        for token in item:\n",
    "            if token in all_tokens:\n",
    "                if token not in used_tokens:\n",
    "                    used_tokens.append(token)\n",
    "            else:\n",
    "                all_tokens.append(token)\n",
    "    \n",
    "    df = pd.DataFrame(0, index = np.arange(len(data)), columns = used_tokens)\n",
    "    \n",
    "    for i, item in enumerate(data):\n",
    "        for token in item:\n",
    "            if token in used_tokens:\n",
    "                df.iloc[i][token] += 1    \n",
    "    return df"
   ]
  },
  {
   "cell_type": "markdown",
   "metadata": {},
   "source": [
    "# Putting It All Together To Assemble Dataset\n",
    "\n",
    "Now, putting all the preprocessing steps together we assemble our dataset..."
   ]
  },
  {
   "cell_type": "code",
   "execution_count": 9,
   "metadata": {},
   "outputs": [
    {
     "name": "stdout",
     "output_type": "stream",
     "text": [
      "(25000,)\n",
      "25000\n"
     ]
    }
   ],
   "source": [
    "import os\n",
    "import numpy as np\n",
    "\n",
    "# shuffle raw data first\n",
    "def unison_shuffle_data(data, header):\n",
    "    p = np.random.permutation(len(header))\n",
    "    data = data[p]\n",
    "    header = np.asarray(header)[p]\n",
    "    return data, header\n",
    "\n",
    "# load data in appropriate form\n",
    "def load_data(path):\n",
    "    data, sentiments = [], []\n",
    "    for folder, sentiment in (('neg', 0), ('pos', 1)):\n",
    "        folder = os.path.join(path, folder)\n",
    "        for name in os.listdir(folder):\n",
    "            with open(os.path.join(folder, name), 'r') as reader:\n",
    "                  text = reader.read()\n",
    "            text = tokenize(text)\n",
    "            text = stop_word_removal(text)\n",
    "            text = reg_expressions(text)\n",
    "            data.append(text)\n",
    "            sentiments.append(sentiment)\n",
    "    data_np = np.array(data)\n",
    "    data, sentiments = unison_shuffle_data(data_np, sentiments)\n",
    "    \n",
    "    return data, sentiments\n",
    "\n",
    "train_path = os.path.join('aclImdb', 'train')\n",
    "test_path = os.path.join('aclImdb', 'test')\n",
    "raw_data, raw_header = load_data(train_path)\n",
    "\n",
    "print(raw_data.shape)\n",
    "print(len(raw_header))"
   ]
  },
  {
   "cell_type": "code",
   "execution_count": 10,
   "metadata": {},
   "outputs": [
    {
     "name": "stdout",
     "output_type": "stream",
     "text": [
      "DEBUG::data_train::\n",
      "[list(['i', 'dragged', 'movie', 'four', 'years', 'ago', 'french', 'actress', 'friend', 'minebr', 'br', 'for', 'first', 'half', 'hour', 'i', 'sitting', 'uncomfortable', 'seat', 'new', 'beverly', 'theater', 'hollywood', 'hating', 'film', 'hating', 'even', 'hating', 'french', 'actress', 'and', 'thenbr', 'br', 'i', 'know', 'happened', 'i', 'pulled', 'film', 'way', 'i', 'years', 'and', 'despite', 'fact', 'one', 'projectors', 'broke', 'changeover', 'hand', 'i', 'theater', 'close', 'four', 'hours', 'worth', 'it', 'br', 'br', 'i', 'believe', 'great', 'movies', 'pull', 'inside', 'world', 'make', 'part', 'drop', 'talk', 'friends', 'coffee', 'drink', 'this', 'film', 'that', 'it', 'one', 'best', 'filmgoing', 'experiences', 'i', 'ever', 'hadbr', 'br', '', 'br', 'br', ''])\n",
      " list(['i', 'entered', 'first', 'comment', 'film', 'almost', 'five', 'years', 'ago', 'then', 'ideas', 'presented', 'movie', 'still', 'seemed', 'mostly', 'fictional', 'indeed', 'could', 'ever', 'transpire', 'all', 'not', 'longer', 'now', 'politics', 'society', 'media', 'the', 'running', 'man', 'seem', 'close', 'home', 'indeedbr', 'br', 'consider', 'following', 'factors', 'mostly', 'absent', '', 'the', 'year', 'the', 'running', 'man', 'came', 'out', 'present', 'todaybr', 'br', 'concern', 'with', 'richard', 'dawsons', 'character', 'damon', 'killian', 'puts', 'it', 'traditional', 'morality', 'checkbr', 'br', 'entertainment', 'form', 'extreme', 'reality', 'including', 'pain', 'fear', 'discomfort', 'part', 'contestants', 'checkbr', 'br', 'cameras', 'everywhere', 'checkbr', 'br', 'restricted', 'travel', 'citizens', 'whim', 'government', 'controlled', 'centralized', 'computer', 'system', 'complete', 'barcoded', 'passports', 'travel', 'passes', 'movie', 'sanctioned', 'guise', 'national', 'security', 'checkbr', 'br', 'an', 'increased', 'intermingling', 'bordering', 'incestuous', 'government', 'media', 'checkbr', 'br', 'computergenerated', 'graphics', 'advanced', 'enough', 'manipulate', 'real', 'film', 'footage', 'such', 'digital', 'matting', 'ben', 'richards', 'image', 'onto', 'stunt', 'double', 'checkbr', 'br', 'jailing', 'conscientious', 'objectors', 'detractors', 'current', 'administration', 'checkbr', 'br', 'flagging', 'economy', 'widening'])\n",
      " list(['released', 'production', 'code', 'crackdown', 'july', '', 'mitch', 'leisens', 'allstar', 'paramount', 'musical', 'leeringly', 'suggestive', 'some', 'even', 'claim', 'misogynistic', 'highly', 'entertaining', 'two', 'murders', 'occur', 'opening', 'night', 'earl', 'carrolls', 'vanities', 'one', 'onstage', 'stop', 'manager', 'jack', 'oakie', 'putting', 'show', 'lascivious', 'police', 'detective', 'victor', 'mclaglen', 'investigates', 'everyone', 'hiding', 'something', 'gypsy', 'rose', 'lee', 'must', 'seen', 'backstage', 'murder', 'mystery', 'penned', 'the', 'gstring', 'murders', 'denouement', 'similar', 'although', 'satisfying', 'here', 'gertrude', 'michael', 'vicious', 'diva', 'stops', 'show', 'in', 'ways', 'one', 'exotic', 'sweet', 'marijuana', 'number', 'duke', 'ellington', 'finishes', 'truncated', 'rape', 'of', 'the', 'rhapsody', 'the', 'hit', 'song', 'cocktails', 'for', 'two', 'came', 'film', 'a', 'bizarre', 'bawdy', 'camp', 'classic', 'highly', 'recommended', 'heres', 'louella', 'o', 'parsons', 'los', 'angeles', 'examiner', 'may', '', 'br', 'br', 'earl', 'carrolls', 'handpicked', 'beauties', 'pirouette', 'grauman', 'united', 'artists', 'screen', 'fig', 'leaf', 'much', 'else', 'but', 'september', 'morn', 'never', 'better', 'figure', 'charmers', 'made', 'please', 'eye', 'especially', 'eye', 'tired', 'businessman', 'but'])\n",
      " ...\n",
      " list(['to', 'honest', 'i', 'watched', 'movie', 'pubert', 'needs', 'i', 'mean', 'i', 'get', 'women', 'age', 'i', '', '', 'i', 'thought', 'watching', 'elviras', 'cleavage', 'closet', 'thing', 'sexbr', 'br', 'i', 'ended', 'great', 'time', 'cult', 'classic', 'horror', 'comedy', 'halloween', 'parties', 'sassy', 'humor', 'sexy', 'evil', 'displayed', 'elvirabr', 'br', 'they', 'make', 'movies', 'like', 'anymore', 'it', 'feeling', 'amateur', 'effort', 'mixed', 'late', 'night', 'cable', 'talk', 'show', 'host', 'style', 'br', 'br', 'the', 'truth', 'generated', 'plenty', 'fans', 'humor', 'ability', 'perform', 'cassandra', 'br', 'br', 'this', 'classic', 'reminds', 'good', 'days', 'usa', 'up', 'all', 'night'])\n",
      " list(['it', 'worst', 'film', 'ever', 'made', 'actors', 'apalling', 'script', 'director', 'completely', 'inept', 'br', 'br', 'it', 'best', 'film', 'ever', 'made', 'actors', 'excellent', 'script', 'director', 'completely', 'brilliantbr', 'br', 'it', 'falls', 'somewhere', 'middle', 'a', 'fun', 'somewhere', 'an', 'enjoyable', 'well', 'constructed', 'somewherebr', 'br', 'no', 'need', 'say', 'dont', 'take', 'seriously', 'so', 'bad', 'good', 'it', 'scary', 'none', 'comments', 'relevant', 'br', 'br', 'cut', 'atmosphere', 'its', 'atmosphere', 'actually', 'unique', 'one', 'really', 'original', 'aspect', 'movie', 'personally', 'makes', 'film', 'me'])\n",
      " list(['i', 'enjoyed', 'movie', 'i', 'low', 'expectation', 'due', 'negative', 'reviews', 'i', 'read', 'going', 'i', 'went', 'i', 'curious', 'fuss', 'postings', 'angry', 'movie', 'koreans', 'oh', 'korea', 'put', 'favorite', 'movies', 'i', 'liked', 'host', 'absolute', 'favorite', 'some', 'favorite', 'scifi', 'fantasy', 'movies', 'sense', 'taste', 'mirrormask', 'stardust', 'serenity', 'gattaca', 'willow', 'matrix', 'resident', 'evil', 'series', 'lotr', 'stargate', 'dark', 'citybr', 'br', 'it', 'confusing', 'like', 'everyone', 'said', 'monsters', 'looked', 'good', 'battles', 'great', 'there', 'holes', 'story', 'really', 'matter', 'i', 'sort', 'tune', 'stuff', 'like', 'stopped', 'asking', 'long', 'time', 'ago', 'i', 'see', 'summer', 'blockbusters', 'the', 'korean', 'legend', 'interesting', 'reincarnation', 'stuff', 'different', 'i', 'thought', 'main', 'characters', 'suspiciously', 'dressed', 'like', 'korean', 'actors', 'shows', 'ethansbehrhair', 'looked', 'asianbr', 'br', 'yes', 'could', 'better', 'i', 'hope', 'future', 'korea', 'unusual', 'quirky', 'sense', 'life', 'intense', 'emotions', 'unexpected'])]\n"
     ]
    }
   ],
   "source": [
    "# Subsample required number of samples\n",
    "random_indices = np.random.choice(range(len(raw_header)),size=(Nsamp*2,),replace=False)\n",
    "data_train = raw_data[random_indices]\n",
    "header = raw_header[random_indices]\n",
    "\n",
    "print(\"DEBUG::data_train::\")\n",
    "print(data_train)"
   ]
  },
  {
   "cell_type": "markdown",
   "metadata": {},
   "source": [
    "Display sentiments and their frequencies in the dataset, to ensure it is roughly balanced between classes"
   ]
  },
  {
   "cell_type": "code",
   "execution_count": 11,
   "metadata": {},
   "outputs": [
    {
     "name": "stdout",
     "output_type": "stream",
     "text": [
      "Sentiments and their frequencies:\n",
      "[0 1]\n",
      "[ 998 1002]\n"
     ]
    }
   ],
   "source": [
    "unique_elements, counts_elements = np.unique(header, return_counts=True)\n",
    "print(\"Sentiments and their frequencies:\")\n",
    "print(unique_elements)\n",
    "print(counts_elements)"
   ]
  },
  {
   "cell_type": "markdown",
   "metadata": {},
   "source": [
    "**Featurize and Create Labels**"
   ]
  },
  {
   "cell_type": "code",
   "execution_count": 12,
   "metadata": {},
   "outputs": [
    {
     "data": {
      "text/html": [
       "<div>\n",
       "<style scoped>\n",
       "    .dataframe tbody tr th:only-of-type {\n",
       "        vertical-align: middle;\n",
       "    }\n",
       "\n",
       "    .dataframe tbody tr th {\n",
       "        vertical-align: top;\n",
       "    }\n",
       "\n",
       "    .dataframe thead th {\n",
       "        text-align: right;\n",
       "    }\n",
       "</style>\n",
       "<table border=\"1\" class=\"dataframe\">\n",
       "  <thead>\n",
       "    <tr style=\"text-align: right;\">\n",
       "      <th></th>\n",
       "      <th>i</th>\n",
       "      <th>hating</th>\n",
       "      <th>french</th>\n",
       "      <th>actress</th>\n",
       "      <th>br</th>\n",
       "      <th>film</th>\n",
       "      <th>years</th>\n",
       "      <th>and</th>\n",
       "      <th>theater</th>\n",
       "      <th>four</th>\n",
       "      <th>...</th>\n",
       "      <th>terrorist</th>\n",
       "      <th>favours</th>\n",
       "      <th>katy</th>\n",
       "      <th>elviras</th>\n",
       "      <th>sassy</th>\n",
       "      <th>fuss</th>\n",
       "      <th>postings</th>\n",
       "      <th>koreans</th>\n",
       "      <th>stardust</th>\n",
       "      <th>lotr</th>\n",
       "    </tr>\n",
       "  </thead>\n",
       "  <tbody>\n",
       "    <tr>\n",
       "      <td>0</td>\n",
       "      <td>8</td>\n",
       "      <td>3</td>\n",
       "      <td>2</td>\n",
       "      <td>2</td>\n",
       "      <td>7</td>\n",
       "      <td>3</td>\n",
       "      <td>2</td>\n",
       "      <td>2</td>\n",
       "      <td>2</td>\n",
       "      <td>2</td>\n",
       "      <td>...</td>\n",
       "      <td>0</td>\n",
       "      <td>0</td>\n",
       "      <td>0</td>\n",
       "      <td>0</td>\n",
       "      <td>0</td>\n",
       "      <td>0</td>\n",
       "      <td>0</td>\n",
       "      <td>0</td>\n",
       "      <td>0</td>\n",
       "      <td>0</td>\n",
       "    </tr>\n",
       "    <tr>\n",
       "      <td>1</td>\n",
       "      <td>1</td>\n",
       "      <td>0</td>\n",
       "      <td>0</td>\n",
       "      <td>0</td>\n",
       "      <td>9</td>\n",
       "      <td>2</td>\n",
       "      <td>1</td>\n",
       "      <td>0</td>\n",
       "      <td>0</td>\n",
       "      <td>0</td>\n",
       "      <td>...</td>\n",
       "      <td>0</td>\n",
       "      <td>0</td>\n",
       "      <td>0</td>\n",
       "      <td>0</td>\n",
       "      <td>0</td>\n",
       "      <td>0</td>\n",
       "      <td>0</td>\n",
       "      <td>0</td>\n",
       "      <td>0</td>\n",
       "      <td>0</td>\n",
       "    </tr>\n",
       "    <tr>\n",
       "      <td>2</td>\n",
       "      <td>0</td>\n",
       "      <td>0</td>\n",
       "      <td>0</td>\n",
       "      <td>0</td>\n",
       "      <td>2</td>\n",
       "      <td>1</td>\n",
       "      <td>0</td>\n",
       "      <td>0</td>\n",
       "      <td>0</td>\n",
       "      <td>0</td>\n",
       "      <td>...</td>\n",
       "      <td>0</td>\n",
       "      <td>0</td>\n",
       "      <td>0</td>\n",
       "      <td>0</td>\n",
       "      <td>0</td>\n",
       "      <td>0</td>\n",
       "      <td>0</td>\n",
       "      <td>0</td>\n",
       "      <td>0</td>\n",
       "      <td>0</td>\n",
       "    </tr>\n",
       "    <tr>\n",
       "      <td>3</td>\n",
       "      <td>0</td>\n",
       "      <td>0</td>\n",
       "      <td>0</td>\n",
       "      <td>0</td>\n",
       "      <td>0</td>\n",
       "      <td>0</td>\n",
       "      <td>0</td>\n",
       "      <td>0</td>\n",
       "      <td>0</td>\n",
       "      <td>0</td>\n",
       "      <td>...</td>\n",
       "      <td>0</td>\n",
       "      <td>0</td>\n",
       "      <td>0</td>\n",
       "      <td>0</td>\n",
       "      <td>0</td>\n",
       "      <td>0</td>\n",
       "      <td>0</td>\n",
       "      <td>0</td>\n",
       "      <td>0</td>\n",
       "      <td>0</td>\n",
       "    </tr>\n",
       "    <tr>\n",
       "      <td>4</td>\n",
       "      <td>0</td>\n",
       "      <td>0</td>\n",
       "      <td>0</td>\n",
       "      <td>0</td>\n",
       "      <td>2</td>\n",
       "      <td>1</td>\n",
       "      <td>1</td>\n",
       "      <td>0</td>\n",
       "      <td>0</td>\n",
       "      <td>0</td>\n",
       "      <td>...</td>\n",
       "      <td>0</td>\n",
       "      <td>0</td>\n",
       "      <td>0</td>\n",
       "      <td>0</td>\n",
       "      <td>0</td>\n",
       "      <td>0</td>\n",
       "      <td>0</td>\n",
       "      <td>0</td>\n",
       "      <td>0</td>\n",
       "      <td>0</td>\n",
       "    </tr>\n",
       "    <tr>\n",
       "      <td>...</td>\n",
       "      <td>...</td>\n",
       "      <td>...</td>\n",
       "      <td>...</td>\n",
       "      <td>...</td>\n",
       "      <td>...</td>\n",
       "      <td>...</td>\n",
       "      <td>...</td>\n",
       "      <td>...</td>\n",
       "      <td>...</td>\n",
       "      <td>...</td>\n",
       "      <td>...</td>\n",
       "      <td>...</td>\n",
       "      <td>...</td>\n",
       "      <td>...</td>\n",
       "      <td>...</td>\n",
       "      <td>...</td>\n",
       "      <td>...</td>\n",
       "      <td>...</td>\n",
       "      <td>...</td>\n",
       "      <td>...</td>\n",
       "      <td>...</td>\n",
       "    </tr>\n",
       "    <tr>\n",
       "      <td>1995</td>\n",
       "      <td>3</td>\n",
       "      <td>0</td>\n",
       "      <td>0</td>\n",
       "      <td>0</td>\n",
       "      <td>2</td>\n",
       "      <td>4</td>\n",
       "      <td>0</td>\n",
       "      <td>0</td>\n",
       "      <td>0</td>\n",
       "      <td>0</td>\n",
       "      <td>...</td>\n",
       "      <td>0</td>\n",
       "      <td>0</td>\n",
       "      <td>0</td>\n",
       "      <td>0</td>\n",
       "      <td>0</td>\n",
       "      <td>0</td>\n",
       "      <td>0</td>\n",
       "      <td>0</td>\n",
       "      <td>0</td>\n",
       "      <td>0</td>\n",
       "    </tr>\n",
       "    <tr>\n",
       "      <td>1996</td>\n",
       "      <td>0</td>\n",
       "      <td>0</td>\n",
       "      <td>0</td>\n",
       "      <td>0</td>\n",
       "      <td>2</td>\n",
       "      <td>2</td>\n",
       "      <td>0</td>\n",
       "      <td>0</td>\n",
       "      <td>0</td>\n",
       "      <td>0</td>\n",
       "      <td>...</td>\n",
       "      <td>1</td>\n",
       "      <td>1</td>\n",
       "      <td>1</td>\n",
       "      <td>0</td>\n",
       "      <td>0</td>\n",
       "      <td>0</td>\n",
       "      <td>0</td>\n",
       "      <td>0</td>\n",
       "      <td>0</td>\n",
       "      <td>0</td>\n",
       "    </tr>\n",
       "    <tr>\n",
       "      <td>1997</td>\n",
       "      <td>6</td>\n",
       "      <td>0</td>\n",
       "      <td>0</td>\n",
       "      <td>0</td>\n",
       "      <td>6</td>\n",
       "      <td>0</td>\n",
       "      <td>0</td>\n",
       "      <td>0</td>\n",
       "      <td>0</td>\n",
       "      <td>0</td>\n",
       "      <td>...</td>\n",
       "      <td>0</td>\n",
       "      <td>0</td>\n",
       "      <td>0</td>\n",
       "      <td>1</td>\n",
       "      <td>1</td>\n",
       "      <td>0</td>\n",
       "      <td>0</td>\n",
       "      <td>0</td>\n",
       "      <td>0</td>\n",
       "      <td>0</td>\n",
       "    </tr>\n",
       "    <tr>\n",
       "      <td>1998</td>\n",
       "      <td>0</td>\n",
       "      <td>0</td>\n",
       "      <td>0</td>\n",
       "      <td>0</td>\n",
       "      <td>6</td>\n",
       "      <td>3</td>\n",
       "      <td>0</td>\n",
       "      <td>0</td>\n",
       "      <td>0</td>\n",
       "      <td>0</td>\n",
       "      <td>...</td>\n",
       "      <td>0</td>\n",
       "      <td>0</td>\n",
       "      <td>0</td>\n",
       "      <td>0</td>\n",
       "      <td>0</td>\n",
       "      <td>0</td>\n",
       "      <td>0</td>\n",
       "      <td>0</td>\n",
       "      <td>0</td>\n",
       "      <td>0</td>\n",
       "    </tr>\n",
       "    <tr>\n",
       "      <td>1999</td>\n",
       "      <td>10</td>\n",
       "      <td>0</td>\n",
       "      <td>0</td>\n",
       "      <td>0</td>\n",
       "      <td>2</td>\n",
       "      <td>0</td>\n",
       "      <td>0</td>\n",
       "      <td>0</td>\n",
       "      <td>0</td>\n",
       "      <td>0</td>\n",
       "      <td>...</td>\n",
       "      <td>0</td>\n",
       "      <td>0</td>\n",
       "      <td>0</td>\n",
       "      <td>0</td>\n",
       "      <td>0</td>\n",
       "      <td>1</td>\n",
       "      <td>1</td>\n",
       "      <td>1</td>\n",
       "      <td>1</td>\n",
       "      <td>1</td>\n",
       "    </tr>\n",
       "  </tbody>\n",
       "</table>\n",
       "<p>2000 rows × 11558 columns</p>\n",
       "</div>"
      ],
      "text/plain": [
       "       i  hating  french  actress  br  film  years  and  theater  four  ...  \\\n",
       "0      8       3       2        2   7     3      2    2        2     2  ...   \n",
       "1      1       0       0        0   9     2      1    0        0     0  ...   \n",
       "2      0       0       0        0   2     1      0    0        0     0  ...   \n",
       "3      0       0       0        0   0     0      0    0        0     0  ...   \n",
       "4      0       0       0        0   2     1      1    0        0     0  ...   \n",
       "...   ..     ...     ...      ...  ..   ...    ...  ...      ...   ...  ...   \n",
       "1995   3       0       0        0   2     4      0    0        0     0  ...   \n",
       "1996   0       0       0        0   2     2      0    0        0     0  ...   \n",
       "1997   6       0       0        0   6     0      0    0        0     0  ...   \n",
       "1998   0       0       0        0   6     3      0    0        0     0  ...   \n",
       "1999  10       0       0        0   2     0      0    0        0     0  ...   \n",
       "\n",
       "      terrorist  favours  katy  elviras  sassy  fuss  postings  koreans  \\\n",
       "0             0        0     0        0      0     0         0        0   \n",
       "1             0        0     0        0      0     0         0        0   \n",
       "2             0        0     0        0      0     0         0        0   \n",
       "3             0        0     0        0      0     0         0        0   \n",
       "4             0        0     0        0      0     0         0        0   \n",
       "...         ...      ...   ...      ...    ...   ...       ...      ...   \n",
       "1995          0        0     0        0      0     0         0        0   \n",
       "1996          1        1     1        0      0     0         0        0   \n",
       "1997          0        0     0        1      1     0         0        0   \n",
       "1998          0        0     0        0      0     0         0        0   \n",
       "1999          0        0     0        0      0     1         1        1   \n",
       "\n",
       "      stardust  lotr  \n",
       "0            0     0  \n",
       "1            0     0  \n",
       "2            0     0  \n",
       "3            0     0  \n",
       "4            0     0  \n",
       "...        ...   ...  \n",
       "1995         0     0  \n",
       "1996         0     0  \n",
       "1997         0     0  \n",
       "1998         0     0  \n",
       "1999         1     1  \n",
       "\n",
       "[2000 rows x 11558 columns]"
      ]
     },
     "execution_count": 12,
     "metadata": {},
     "output_type": "execute_result"
    }
   ],
   "source": [
    "MixedBagOfReviews = assemble_bag(data_train)\n",
    "# this is the list of words in our bag-of-words model\n",
    "predictors = [column for column in MixedBagOfReviews.columns]\n",
    "\n",
    "# expand default pandas display options to make emails more clearly visible when printed\n",
    "pd.set_option('display.max_colwidth', 300)\n",
    "\n",
    "MixedBagOfReviews # you could do print(MixedBagOfReviews), but Jupyter displays this nicer for pandas DataFrames"
   ]
  },
  {
   "cell_type": "code",
   "execution_count": 13,
   "metadata": {},
   "outputs": [
    {
     "name": "stdout",
     "output_type": "stream",
     "text": [
      "train_x/train_y list details, to make sure it is of the right form:\n",
      "1400\n",
      "[[8 3 2 ... 0 0 0]\n",
      " [1 0 0 ... 0 0 0]\n",
      " [0 0 0 ... 0 0 0]\n",
      " ...\n",
      " [0 0 0 ... 0 0 0]\n",
      " [0 0 0 ... 0 0 0]\n",
      " [4 0 0 ... 0 0 0]]\n",
      "[1 1 1 1 1]\n",
      "1400\n"
     ]
    }
   ],
   "source": [
    "# split into independent 70% training and 30% testing sets\n",
    "data = MixedBagOfReviews.values\n",
    "\n",
    "idx = int(0.7*data.shape[0])\n",
    "\n",
    "# 70% of data for training\n",
    "train_x = data[:idx,:]\n",
    "train_y = header[:idx]\n",
    "# remaining 30% for testing\n",
    "test_x = data[idx:,:]\n",
    "test_y = header[idx:] \n",
    "\n",
    "print(\"train_x/train_y list details, to make sure it is of the right form:\")\n",
    "print(len(train_x))\n",
    "print(train_x)\n",
    "print(train_y[:5])\n",
    "print(len(train_y))"
   ]
  },
  {
   "cell_type": "markdown",
   "metadata": {},
   "source": [
    "# How about other vectorization strategies?\n",
    "\n",
    "We present other vectorization strategies below, for readers who are interested in exploring them..."
   ]
  },
  {
   "cell_type": "code",
   "execution_count": 14,
   "metadata": {},
   "outputs": [],
   "source": [
    "from sklearn.feature_extraction.text import CountVectorizer, TfidfVectorizer, HashingVectorizer\n",
    "\n",
    "# create the transform - uncomment the one you want to focus on\n",
    "# vectorizer = CountVectorizer() # this is equivalent to the bag of words\n",
    "vectorizer = TfidfVectorizer() # tf-idf vectorizer\n",
    "# vectorizer = HashingVectorizer(n_features=3000) # hashing vectorizer"
   ]
  },
  {
   "cell_type": "code",
   "execution_count": 15,
   "metadata": {},
   "outputs": [
    {
     "name": "stdout",
     "output_type": "stream",
     "text": [
      "24743\n",
      "(1, 24743)\n",
      "[[0. 0. 0. ... 0. 0. 0.]]\n"
     ]
    }
   ],
   "source": [
    "# build vocabulary\n",
    "vectorizer.fit([' '.join(sublst) for sublst in data_train])\n",
    "# summarize\n",
    "print(len(vectorizer.vocabulary_))\n",
    "#print(vectorizer.idf_)\n",
    "# encode one document\n",
    "vector = vectorizer.transform([' '.join(data_train[0])])\n",
    "# summarize encoded vector\n",
    "print(vector.shape)\n",
    "print(vector.toarray())\n",
    "\n",
    "USE = False # set this to 'True' if you want to use the vectorizer featurizers instead of the bag-of-words done before\n",
    "if(USE):\n",
    "    data = vectorizer.transform([' '.join(sublst) for sublst in data_train]).toarray()\n",
    "    # 70% of data for training\n",
    "    train_x = data[:idx,:]\n",
    "    # remaining 30% for testing\n",
    "    test_x = data[idx:,:]\n",
    "\n",
    "    print(\"train_x/train_y list details, to make sure it is of the right form:\")\n",
    "    print(train_x.shape[0])\n",
    "    print(train_x)\n",
    "    print(train_y[:5])\n",
    "    print(len(train_y))\n",
    "    predictors = [column for column in vectorizer.vocabulary_]"
   ]
  },
  {
   "cell_type": "markdown",
   "metadata": {},
   "source": [
    "# Logistic Regression Classifier"
   ]
  },
  {
   "cell_type": "code",
   "execution_count": 16,
   "metadata": {},
   "outputs": [
    {
     "name": "stderr",
     "output_type": "stream",
     "text": [
      "/opt/conda/lib/python3.6/site-packages/sklearn/linear_model/logistic.py:432: FutureWarning: Default solver will be changed to 'lbfgs' in 0.22. Specify a solver to silence this warning.\n",
      "  FutureWarning)\n"
     ]
    }
   ],
   "source": [
    "from sklearn.linear_model import LogisticRegression\n",
    "\n",
    "def fit(train_x,train_y):\n",
    "    model = LogisticRegression()\n",
    "\n",
    "    try:\n",
    "        model.fit(train_x, train_y)\n",
    "    except:\n",
    "        pass\n",
    "    return model\n",
    "\n",
    "model = fit(train_x,train_y)"
   ]
  },
  {
   "cell_type": "code",
   "execution_count": 17,
   "metadata": {},
   "outputs": [
    {
     "name": "stdout",
     "output_type": "stream",
     "text": [
      "DEBUG::The logistic regression predicted labels are::\n",
      "[0 1 0 1 0 1 1 0 0 0 1 0 0 0 1 0 1 0 1 1 0 1 0 0 0 1 1 1 1 1 0 1 1 0 1 1 1\n",
      " 0 0 1 0 0 1 0 1 0 1 1 0 1 1 0 1 0 0 0 0 0 1 0 1 0 1 0 0 1 0 1 0 0 1 0 1 1\n",
      " 1 1 0 0 0 0 1 1 1 0 0 0 1 0 1 0 1 1 0 1 1 0 1 1 0 0 0 1 0 0 0 0 0 0 1 0 1\n",
      " 1 0 0 0 0 1 1 1 1 0 1 1 1 0 0 1 1 1 1 1 0 1 0 0 1 1 0 1 1 1 0 1 1 1 0 0 1\n",
      " 1 1 1 1 0 0 1 0 0 1 0 0 1 0 0 0 0 0 0 1 1 0 0 1 1 1 1 0 0 1 1 1 1 1 0 0 0\n",
      " 1 1 1 0 0 0 1 0 0 0 1 1 1 0 0 0 0 1 1 1 0 0 0 0 0 1 0 0 0 1 0 0 1 0 0 0 1\n",
      " 0 1 1 0 1 0 1 0 0 1 0 0 1 0 0 0 0 1 1 0 1 1 1 1 0 1 0 0 0 0 0 0 1 1 1 0 1\n",
      " 0 0 1 1 1 0 1 0 1 0 1 0 0 1 1 0 1 1 1 1 0 1 1 0 0 0 1 1 1 1 1 1 1 1 0 0 1\n",
      " 1 0 0 1 1 1 1 1 0 0 0 0 1 0 1 0 0 0 0 1 1 1 0 1 0 0 0 0 0 0 0 0 0 0 1 1 1\n",
      " 0 1 1 1 1 1 1 0 1 1 1 0 0 1 0 0 1 0 0 0 1 0 1 1 1 1 0 0 0 1 0 1 0 0 1 1 1\n",
      " 0 0 1 0 0 1 1 0 0 1 0 1 0 0 1 0 1 0 1 1 1 0 0 1 1 1 1 0 1 1 0 1 1 1 1 0 0\n",
      " 0 1 1 1 1 0 0 1 0 1 0 0 0 0 0 1 0 1 1 1 0 1 1 0 0 0 1 0 1 0 0 1 0 1 0 0 1\n",
      " 1 0 1 1 0 0 0 1 1 1 1 0 0 1 0 1 1 0 1 1 1 1 0 1 0 0 0 0 0 1 0 1 1 0 1 0 1\n",
      " 1 1 1 1 0 0 0 0 1 1 0 1 1 0 0 1 1 1 1 1 0 1 0 1 0 1 0 0 0 0 0 0 0 0 1 1 1\n",
      " 0 1 1 1 0 0 1 1 1 1 0 0 0 0 1 1 1 1 0 0 1 1 1 1 0 1 1 1 1 0 0 1 1 0 1 0 1\n",
      " 0 0 1 0 1 1 0 0 0 1 1 0 0 0 0 0 1 0 0 0 1 1 1 0 0 0 0 1 0 1 0 0 1 0 0 1 0\n",
      " 1 0 0 1 0 0 0 1]\n"
     ]
    }
   ],
   "source": [
    "predicted_labels = model.predict(test_x)\n",
    "\n",
    "# print all labels for full trasparency\n",
    "print(\"DEBUG::The logistic regression predicted labels are::\")\n",
    "print(predicted_labels)"
   ]
  },
  {
   "cell_type": "code",
   "execution_count": 18,
   "metadata": {},
   "outputs": [
    {
     "name": "stdout",
     "output_type": "stream",
     "text": [
      "The logistic regression accuracy score is::\n",
      "0.8066666666666666\n"
     ]
    }
   ],
   "source": [
    "from sklearn.metrics import accuracy_score\n",
    "\n",
    "acc_score = accuracy_score(test_y, predicted_labels)\n",
    "\n",
    "print(\"The logistic regression accuracy score is::\")\n",
    "print(acc_score)"
   ]
  },
  {
   "cell_type": "markdown",
   "metadata": {},
   "source": [
    "# Support Vector Machine Classifier"
   ]
  },
  {
   "cell_type": "code",
   "execution_count": 19,
   "metadata": {},
   "outputs": [],
   "source": [
    "import time\n",
    "from sklearn.svm import SVC # Support Vector Classification model"
   ]
  },
  {
   "cell_type": "code",
   "execution_count": 20,
   "metadata": {},
   "outputs": [
    {
     "name": "stdout",
     "output_type": "stream",
     "text": [
      "Training the SVC Classifier took  28 seconds\n",
      "DEBUG::The SVC Classifier predicted labels are::\n",
      "[0 1 1 1 0 1 1 0 0 0 1 0 0 0 1 0 1 0 1 1 0 1 0 0 0 1 1 1 1 1 0 1 1 0 1 1 1\n",
      " 0 0 0 0 0 1 0 1 0 1 1 0 1 1 0 1 0 0 0 0 0 0 0 1 0 1 0 0 1 0 1 1 0 1 0 1 1\n",
      " 1 1 0 0 0 0 1 1 1 0 0 0 1 0 1 0 1 1 0 1 1 0 1 1 1 0 0 1 0 0 0 0 1 1 1 0 1\n",
      " 1 0 0 0 0 1 1 1 1 0 1 1 1 1 0 1 1 1 1 1 1 1 0 0 1 1 0 1 1 1 0 1 1 1 0 0 1\n",
      " 1 1 1 1 0 0 1 0 0 1 1 0 1 0 0 0 0 0 0 1 1 0 0 1 1 1 1 0 0 1 1 1 1 0 0 0 0\n",
      " 1 1 1 0 0 0 1 1 0 0 0 1 1 0 0 0 0 1 1 1 0 0 0 0 0 1 0 0 0 1 0 0 1 0 0 0 1\n",
      " 0 1 0 0 0 0 1 0 0 1 0 0 1 0 0 0 0 1 1 0 1 1 1 1 0 1 0 0 0 0 0 0 1 1 1 0 1\n",
      " 0 0 1 1 0 0 1 0 1 0 1 0 0 1 1 0 1 1 1 1 0 1 1 0 0 0 1 1 1 1 1 1 1 1 0 0 1\n",
      " 1 0 0 1 1 1 1 1 0 0 0 0 1 0 1 0 0 0 0 0 1 1 0 1 0 0 0 0 0 0 0 0 1 0 1 1 1\n",
      " 0 1 1 1 1 1 1 0 1 1 1 0 0 1 0 0 1 0 0 0 1 0 1 1 0 1 0 0 0 1 0 1 0 0 1 1 1\n",
      " 0 1 0 0 0 0 1 0 0 1 0 1 1 0 1 0 1 1 1 1 1 0 0 1 1 1 1 0 1 1 0 1 1 0 1 0 0\n",
      " 0 1 1 1 1 0 0 1 0 1 0 0 0 0 0 1 0 0 1 1 0 1 1 0 0 0 1 0 1 0 0 1 0 1 0 0 1\n",
      " 1 0 1 1 0 0 0 1 1 1 1 0 0 1 0 1 1 0 1 1 1 1 0 1 0 0 0 0 0 0 0 1 1 0 1 1 1\n",
      " 1 1 1 1 0 0 0 0 1 1 0 1 1 0 0 1 1 0 1 1 0 1 0 1 0 1 0 0 1 0 0 0 0 0 1 1 1\n",
      " 0 1 1 1 0 0 1 1 1 1 1 0 0 0 1 1 1 1 0 0 1 1 1 1 0 1 1 1 1 0 0 1 1 0 1 0 1\n",
      " 0 0 1 0 1 1 0 0 0 0 1 0 0 0 0 1 1 0 0 0 1 1 1 0 0 0 0 1 0 0 0 0 1 0 0 1 0\n",
      " 0 0 1 1 0 0 0 1]\n",
      "The SVC Classifier testing accuracy score is::\n",
      "0.7933333333333333\n"
     ]
    }
   ],
   "source": [
    "# Create a support vector classifier\n",
    "clf = SVC(C=1, gamma=\"auto\", kernel='linear',probability=False)\n",
    "\n",
    "# Fit the classifier using the training data\n",
    "start_time = time.time()\n",
    "clf.fit(train_x, train_y)\n",
    "end_time = time.time()\n",
    "print(\"Training the SVC Classifier took %3d seconds\"%(end_time-start_time))\n",
    "\n",
    "# test and evaluate\n",
    "predicted_labels = clf.predict(test_x)\n",
    "print(\"DEBUG::The SVC Classifier predicted labels are::\")\n",
    "print(predicted_labels)\n",
    "\n",
    "acc_score = accuracy_score(test_y, predicted_labels)\n",
    "print(\"The SVC Classifier testing accuracy score is::\")\n",
    "print(acc_score)"
   ]
  },
  {
   "cell_type": "markdown",
   "metadata": {},
   "source": [
    "# Random Forests"
   ]
  },
  {
   "cell_type": "code",
   "execution_count": 21,
   "metadata": {},
   "outputs": [
    {
     "name": "stderr",
     "output_type": "stream",
     "text": [
      "/opt/conda/lib/python3.6/site-packages/sklearn/ensemble/forest.py:245: FutureWarning: The default value of n_estimators will change from 10 in version 0.20 to 100 in 0.22.\n",
      "  \"10 in version 0.20 to 100 in 0.22.\", FutureWarning)\n"
     ]
    },
    {
     "name": "stdout",
     "output_type": "stream",
     "text": [
      "Training the Random Forest Classifier took   0 seconds\n",
      "DEBUG::The RF predicted labels are::\n",
      "[1 0 0 1 0 1 0 1 0 0 1 0 1 0 0 1 1 0 1 1 1 0 0 0 1 1 1 1 0 0 0 1 0 0 0 1 1\n",
      " 0 0 1 0 1 1 0 1 1 0 1 0 1 1 0 1 0 0 1 0 0 1 0 0 1 1 1 0 1 0 1 1 0 1 0 0 1\n",
      " 0 1 0 0 0 0 0 0 0 0 0 0 0 0 0 0 1 0 0 0 1 1 1 0 0 0 0 0 0 0 0 1 0 1 1 0 0\n",
      " 1 0 0 0 0 1 0 1 0 0 1 0 1 0 0 1 1 0 0 1 1 1 0 0 1 1 0 1 0 1 0 1 1 1 0 0 0\n",
      " 0 1 1 1 0 0 1 0 0 1 0 0 0 0 0 1 0 0 0 0 1 0 0 1 0 1 0 0 0 0 0 1 1 1 0 0 0\n",
      " 1 0 1 0 1 1 0 0 1 0 1 1 1 0 1 0 0 0 1 1 0 0 1 1 0 1 0 0 0 1 0 0 0 1 0 0 1\n",
      " 0 0 0 0 1 1 1 0 0 0 0 0 0 0 0 0 1 1 0 0 1 1 0 1 0 1 1 0 0 0 0 0 1 0 1 0 0\n",
      " 0 0 0 1 1 0 1 0 0 0 0 1 0 1 1 0 1 0 1 1 0 1 1 0 0 0 1 1 0 0 1 1 1 1 0 0 1\n",
      " 1 0 0 0 1 1 1 1 0 0 0 1 0 0 1 0 0 0 0 1 0 1 0 1 0 0 0 1 0 0 0 1 0 0 1 1 1\n",
      " 0 1 0 1 1 0 1 0 0 1 1 1 1 1 0 0 1 0 1 1 0 0 0 1 0 1 0 0 0 0 1 1 0 1 0 1 1\n",
      " 1 0 1 1 1 0 1 1 0 1 0 1 0 0 0 0 1 0 0 1 1 0 0 0 1 1 0 1 1 0 1 1 0 1 1 0 1\n",
      " 0 1 0 1 1 1 1 0 0 1 1 0 0 0 1 1 1 1 0 1 0 1 0 1 0 0 1 0 1 0 0 1 0 0 0 0 1\n",
      " 0 0 1 0 0 0 0 1 1 0 0 0 1 0 0 0 1 0 0 1 0 1 0 0 0 0 0 0 0 1 0 1 1 0 1 0 1\n",
      " 1 1 1 1 0 1 0 0 1 1 0 0 1 0 0 1 1 1 1 1 0 0 0 1 0 1 0 0 0 0 0 0 1 0 1 0 0\n",
      " 0 0 0 1 0 0 0 1 0 1 1 0 0 0 1 1 1 0 0 0 0 0 0 0 0 1 1 0 0 0 0 1 0 0 1 0 1\n",
      " 1 0 1 0 0 0 0 0 0 0 1 0 0 0 1 1 1 0 0 0 1 1 0 0 0 1 1 1 0 0 0 0 1 1 0 0 0\n",
      " 1 0 1 1 0 0 0 1]\n",
      "DEBUG::The RF testing accuracy score is::\n",
      "0.7083333333333334\n"
     ]
    }
   ],
   "source": [
    "# Load scikit's random forest classifier library\n",
    "from sklearn.ensemble import RandomForestClassifier\n",
    "\n",
    "# Create a random forest Classifier. By convention, clf means 'Classifier'\n",
    "clf = RandomForestClassifier(n_jobs=1, random_state=0)\n",
    "\n",
    "# Train the Classifier to take the training features and learn how they relate\n",
    "# to the training y (spam, not spam?)\n",
    "start_time = time.time()\n",
    "clf.fit(train_x, train_y)\n",
    "end_time = time.time()\n",
    "print(\"Training the Random Forest Classifier took %3d seconds\"%(end_time-start_time))\n",
    "\n",
    "predicted_labels = clf.predict(test_x)\n",
    "print(\"DEBUG::The RF predicted labels are::\")\n",
    "print(predicted_labels)\n",
    "\n",
    "acc_score = accuracy_score(test_y, predicted_labels)\n",
    "\n",
    "print(\"DEBUG::The RF testing accuracy score is::\")\n",
    "print(acc_score)"
   ]
  },
  {
   "cell_type": "markdown",
   "metadata": {},
   "source": [
    "# Gradient Boosting Machines"
   ]
  },
  {
   "cell_type": "code",
   "execution_count": 22,
   "metadata": {},
   "outputs": [
    {
     "name": "stdout",
     "output_type": "stream",
     "text": [
      "\n",
      "Model Report\n",
      "Accuracy : 0.9221\n",
      "AUC Score (Train): 0.983475\n",
      "CV Score : Mean - 0.8431518 | Std - 0.005596524 | Min - 0.8371327 | Max - 0.850334\n",
      "Training the Gradient Boosting Classifier took 396 seconds\n",
      "DEBUG::The Gradient Boosting predicted labels are::\n",
      "[1 1 0 1 0 1 1 1 0 0 1 0 1 1 1 1 1 0 1 1 0 1 0 0 1 1 1 1 1 0 1 1 1 1 0 1 0\n",
      " 0 0 1 1 0 1 0 1 1 1 1 0 1 1 0 1 0 0 1 0 0 1 1 1 0 1 0 1 1 1 1 1 0 1 0 1 1\n",
      " 0 1 0 0 0 0 1 1 1 0 0 0 1 0 1 1 1 1 0 0 1 0 1 1 1 0 0 1 1 0 0 0 0 1 1 0 1\n",
      " 1 0 0 0 0 0 1 1 1 1 0 1 1 1 0 1 1 1 1 1 1 1 1 0 1 0 0 1 0 1 0 1 1 1 0 1 1\n",
      " 0 1 1 1 0 1 1 0 0 1 0 1 1 0 0 0 0 0 0 0 1 0 0 1 1 1 1 0 0 1 0 1 1 1 0 0 0\n",
      " 1 1 1 1 0 1 1 1 0 0 1 1 1 0 1 0 0 1 1 1 0 1 0 0 0 0 0 1 1 1 0 0 1 0 1 0 1\n",
      " 0 1 1 0 1 0 1 0 0 1 0 0 0 0 0 0 1 1 1 0 1 0 1 1 0 1 1 0 0 0 0 0 1 1 1 0 1\n",
      " 1 0 0 1 1 0 1 0 0 0 1 0 0 1 1 0 1 1 0 1 0 1 1 0 0 0 1 1 1 1 1 1 1 1 0 0 1\n",
      " 1 0 0 1 1 1 1 0 0 0 1 1 1 0 1 0 1 0 0 1 1 1 0 1 1 0 0 0 1 0 0 1 1 0 1 1 1\n",
      " 0 1 1 1 1 1 1 0 0 1 1 1 0 1 0 0 1 0 1 0 1 0 1 1 1 1 0 0 0 1 1 1 0 1 1 1 1\n",
      " 0 1 0 0 0 0 1 0 0 1 0 1 0 0 0 0 1 1 0 1 1 1 0 1 1 1 1 1 1 1 1 1 1 1 1 0 0\n",
      " 0 1 1 1 1 0 0 1 1 1 0 0 0 0 1 1 1 1 0 1 0 1 1 1 0 0 1 0 1 0 1 1 0 1 1 0 1\n",
      " 1 1 1 1 0 0 0 1 1 1 0 0 0 1 1 1 1 1 0 1 1 1 0 1 0 0 0 0 1 0 0 1 1 0 0 0 1\n",
      " 1 1 1 1 0 1 0 0 1 1 0 1 1 0 0 1 1 0 1 1 1 1 0 1 0 0 0 0 0 0 0 0 0 0 1 1 1\n",
      " 0 1 1 1 1 0 1 1 0 0 0 0 0 1 0 1 1 1 0 0 1 0 0 0 0 1 1 0 1 0 0 1 1 0 1 0 1\n",
      " 0 0 1 1 0 1 0 0 0 0 1 0 0 0 1 0 1 0 0 0 1 1 1 0 0 0 1 1 0 1 0 0 1 0 0 1 0\n",
      " 1 0 1 1 0 1 0 1]\n",
      "DEBUG::The Gradient Boosting testing accuracy score is::\n",
      "0.7733333333333333\n"
     ]
    },
    {
     "data": {
      "image/png": "[encoded data removed]",
      "text/plain": [
       "<Figure size 432x288 with 1 Axes>"
      ]
     },
     "metadata": {
      "needs_background": "light"
     },
     "output_type": "display_data"
    }
   ],
   "source": [
    "from sklearn.ensemble import GradientBoostingClassifier  # GBM algorithm\n",
    "from sklearn import metrics   #Additional scklearn functions\n",
    "from sklearn.model_selection import cross_val_score, GridSearchCV\n",
    "\n",
    "def modelfit(alg, train_x, train_y, predictors, test_x, performCV=True, printFeatureImportance=True, cv_folds=5):\n",
    "    #Fit the algorithm on the data\n",
    "    alg.fit(train_x, train_y)\n",
    "        \n",
    "    #Predict training set:\n",
    "    predictions = alg.predict(train_x)\n",
    "    predprob = alg.predict_proba(train_x)[:,1]\n",
    "    \n",
    "    #Perform cross-validation:\n",
    "    if performCV:\n",
    "        cv_score = cross_val_score(alg, train_x, train_y, cv=cv_folds, scoring='roc_auc')\n",
    "    \n",
    "    #Print model report:\n",
    "    print(\"\\nModel Report\")\n",
    "    print(\"Accuracy : %.4g\" % metrics.accuracy_score(train_y,predictions))\n",
    "    print(\"AUC Score (Train): %f\" % metrics.roc_auc_score(train_y, predprob))\n",
    "    \n",
    "    if performCV:\n",
    "        print(\"CV Score : Mean - %.7g | Std - %.7g | Min - %.7g | Max - %.7g\" % (np.mean(cv_score),np.std(cv_score),np.min(cv_score),np.max(cv_score)))\n",
    "        \n",
    "    #Print Feature Importance:\n",
    "    import matplotlib.pyplot as plt\n",
    "    \n",
    "    if printFeatureImportance:\n",
    "        fig,ax = plt.subplots()\n",
    "        feat_imp = pd.Series(alg.feature_importances_, predictors).sort_values(ascending=False)\n",
    "        feat_imp[:10].plot(kind='bar', title='Feature Importances',ax=ax)\n",
    "        plt.ylabel('Feature Importance Score')\n",
    "        \n",
    "        fig.savefig('GBMimportances.eps', format='eps',bbox_inches='tight')\n",
    "        fig.savefig('GBMimportances.pdf', format='pdf',bbox_inches='tight')\n",
    "        fig.savefig('GBMimportances.png', format='png',bbox_inches='tight')\n",
    "        fig.savefig('GBMimportances.svg', format='svg',bbox_inches='tight')\n",
    "        \n",
    "    return alg.predict(test_x)\n",
    "        \n",
    "gbm = GradientBoostingClassifier(random_state=10)\n",
    "\n",
    "start_time = time.time()\n",
    "test_predictions = modelfit(gbm, train_x, train_y, predictors, test_x)\n",
    "end_time = time.time()\n",
    "print(\"Training the Gradient Boosting Classifier took %3d seconds\"%(end_time-start_time))\n",
    "\n",
    "predicted_labels = test_predictions\n",
    "print(\"DEBUG::The Gradient Boosting predicted labels are::\")\n",
    "print(predicted_labels)\n",
    "\n",
    "acc_score = accuracy_score(test_y, predicted_labels)\n",
    "\n",
    "print(\"DEBUG::The Gradient Boosting testing accuracy score is::\")\n",
    "print(acc_score)"
   ]
  },
  {
   "cell_type": "markdown",
   "metadata": {},
   "source": [
    "**Make figures downloadable to local system in interactive mode**"
   ]
  },
  {
   "cell_type": "code",
   "execution_count": 23,
   "metadata": {},
   "outputs": [
    {
     "data": {
      "text/html": [
       "<a href=GBMimportances.svg>Download file</a>"
      ],
      "text/plain": [
       "<IPython.core.display.HTML object>"
      ]
     },
     "execution_count": 23,
     "metadata": {},
     "output_type": "execute_result"
    }
   ],
   "source": [
    "from IPython.display import HTML\n",
    "def create_download_link(title = \"Download file\", filename = \"data.csv\"):  \n",
    "    html = '<a href={filename}>{title}</a>'\n",
    "    html = html.format(title=title,filename=filename)\n",
    "    return HTML(html)\n",
    "\n",
    "create_download_link(filename='GBMimportances.svg')"
   ]
  },
  {
   "cell_type": "code",
   "execution_count": 24,
   "metadata": {},
   "outputs": [],
   "source": [
    "# you must remove all downloaded files - having too many of them on completion will make Kaggle reject your notebook \n",
    "!rm -rf aclImdb\n",
    "!rm aclImdb_v1.tar.gz"
   ]
  }
 ],
 "metadata": {
  "kernelspec": {
   "display_name": "Python 3",
   "language": "python",
   "name": "python3"
  },
  "language_info": {
   "codemirror_mode": {
    "name": "ipython",
    "version": 3
   },
   "file_extension": ".py",
   "mimetype": "text/x-python",
   "name": "python",
   "nbconvert_exporter": "python",
   "pygments_lexer": "ipython3",
   "version": "3.6.6"
  }
 },
 "nbformat": 4,
 "nbformat_minor": 4
}
