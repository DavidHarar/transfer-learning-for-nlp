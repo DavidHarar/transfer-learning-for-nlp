{
 "cells": [
  {
   "cell_type": "markdown",
   "metadata": {},
   "source": [
    "# WARNING\n",
    "**Please make sure to \"COPY AND EDIT NOTEBOOK\" to use compatible library dependencies! DO NOT CREATE A NEW NOTEBOOK AND COPY+PASTE THE CODE - this will use latest Kaggle dependencies at the time you do that, and the code will need to be modified to make it work. Also make sure internet connectivity is enabled on your notebook**"
   ]
  },
  {
   "cell_type": "markdown",
   "metadata": {},
   "source": [
    "# **Preliminaries**\n",
    "\n",
    "Write requirements to file, anytime you run it, in case you have to go back and recover Kaggle dependencies. **MOST OF THESE REQUIREMENTS WOULD NOT BE NECESSARY FOR LOCAL INSTALLATION**\n",
    "\n",
    "Latest known such requirements are hosted for each notebook in the companion github repo, and can be pulled down and installed here if needed. Companion github repo is located at https://github.com/azunre/transfer-learning-for-nlp"
   ]
  },
  {
   "cell_type": "code",
   "execution_count": 1,
   "metadata": {},
   "outputs": [],
   "source": [
    "\n",
    "!pip freeze > kaggle_image_requirements.txt"
   ]
  },
  {
   "cell_type": "markdown",
   "metadata": {},
   "source": [
    "# Read and Preprocess Enron dataset\n",
    "\n",
    "Read Enron dataset and get a sense for the data by printing sample messages to screen"
   ]
  },
  {
   "cell_type": "code",
   "execution_count": 2,
   "metadata": {},
   "outputs": [
    {
     "name": "stdout",
     "output_type": "stream",
     "text": [
      "Successfully loaded 517401 rows and 2 columns!\n",
      "                       file                                            message\n",
      "0     allen-p/_sent_mail/1.  Message-ID: <18782981.1075855378110.JavaMail.e...\n",
      "1    allen-p/_sent_mail/10.  Message-ID: <15464986.1075855378456.JavaMail.e...\n",
      "2   allen-p/_sent_mail/100.  Message-ID: <24216240.1075855687451.JavaMail.e...\n",
      "3  allen-p/_sent_mail/1000.  Message-ID: <13505866.1075863688222.JavaMail.e...\n",
      "4  allen-p/_sent_mail/1001.  Message-ID: <30922949.1075863688243.JavaMail.e...\n"
     ]
    }
   ],
   "source": [
    "import numpy as np # linear algebra\n",
    "import pandas as pd # data processing, CSV file I/O (e.g. pd.read_csv)\n",
    "\n",
    "# Input data files are available in the \"../input/\" directory.\n",
    "filepath = \"../input/enron-email-dataset/emails.csv\"\n",
    "\n",
    "# Read the enron data into a pandas.DataFrame called emails\n",
    "emails = pd.read_csv(filepath)\n",
    "\n",
    "print(\"Successfully loaded {} rows and {} columns!\".format(emails.shape[0], emails.shape[1]))\n",
    "print(emails.head())"
   ]
  },
  {
   "cell_type": "code",
   "execution_count": 3,
   "metadata": {},
   "outputs": [
    {
     "name": "stdout",
     "output_type": "stream",
     "text": [
      "Message-ID: <18782981.1075855378110.JavaMail.evans@thyme>\n",
      "Date: Mon, 14 May 2001 16:39:00 -0700 (PDT)\n",
      "From: phillip.allen@enron.com\n",
      "To: tim.belden@enron.com\n",
      "Subject: \n",
      "Mime-Version: 1.0\n",
      "Content-Type: text/plain; charset=us-ascii\n",
      "Content-Transfer-Encoding: 7bit\n",
      "X-From: Phillip K Allen\n",
      "X-To: Tim Belden <Tim Belden/Enron@EnronXGate>\n",
      "X-cc: \n",
      "X-bcc: \n",
      "X-Folder: \\Phillip_Allen_Jan2002_1\\Allen, Phillip K.\\'Sent Mail\n",
      "X-Origin: Allen-P\n",
      "X-FileName: pallen (Non-Privileged).pst\n",
      "\n",
      "Here is our forecast\n",
      "\n",
      " \n"
     ]
    }
   ],
   "source": [
    "# take a closer look at the first email\n",
    "print(emails.loc[0][\"message\"])"
   ]
  },
  {
   "cell_type": "markdown",
   "metadata": {},
   "source": [
    "Separate headers from the message bodies"
   ]
  },
  {
   "cell_type": "code",
   "execution_count": 4,
   "metadata": {},
   "outputs": [
    {
     "name": "stdout",
     "output_type": "stream",
     "text": [
      "Successfully retrieved message body from e-mails!\n"
     ]
    }
   ],
   "source": [
    "import email\n",
    "\n",
    "def extract_messages(df):\n",
    "    messages = []\n",
    "    for item in df[\"message\"]:\n",
    "        # Return a message object structure from a string\n",
    "        e = email.message_from_string(item)    \n",
    "        # get message body  \n",
    "        message_body = e.get_payload()\n",
    "        messages.append(message_body)\n",
    "    print(\"Successfully retrieved message body from e-mails!\")\n",
    "    return messages\n",
    "\n",
    "bodies = extract_messages(emails)"
   ]
  },
  {
   "cell_type": "code",
   "execution_count": 5,
   "metadata": {},
   "outputs": [
    {
     "data": {
      "text/html": [
       "<div>\n",
       "<style scoped>\n",
       "    .dataframe tbody tr th:only-of-type {\n",
       "        vertical-align: middle;\n",
       "    }\n",
       "\n",
       "    .dataframe tbody tr th {\n",
       "        vertical-align: top;\n",
       "    }\n",
       "\n",
       "    .dataframe thead th {\n",
       "        text-align: right;\n",
       "    }\n",
       "</style>\n",
       "<table border=\"1\" class=\"dataframe\">\n",
       "  <thead>\n",
       "    <tr style=\"text-align: right;\">\n",
       "      <th></th>\n",
       "      <th>0</th>\n",
       "    </tr>\n",
       "  </thead>\n",
       "  <tbody>\n",
       "    <tr>\n",
       "      <td>0</td>\n",
       "      <td>**********************************************\\n    **      THIS IS A WARNING MESSAGE ONLY      **\\n    **  YOU DO NOT NEED TO RESEND YOUR MESSAGE  **\\n    **********************************************\\n\\nThe original message was received at Fri, 23 Mar 2001 11:29:55 -0700 (MST)\\nfrom [192....</td>\n",
       "    </tr>\n",
       "    <tr>\n",
       "      <td>1</td>\n",
       "      <td>Click on attached file to view the EOL 3rd Quarter Comparison  report:   \\n\\n \\n\\nIf you have any problems with the attached file, please contact Laura Levy.\\n\\nLaura Levy \\nEOL Product Control Group\\nExt. 53551</td>\n",
       "    </tr>\n",
       "    <tr>\n",
       "      <td>2</td>\n",
       "      <td>Greg, \\n\\nFYI.  I'll give you a full update on Monday afternoon via voicemail.  We are \\non our way.\\nm\\n---------------------- Forwarded by Mike McConnell/HOU/ECT on 07/07/2000 \\n04:14 PM ---------------------------\\n   \\n\\t\\n\\t\\n\\tFrom:  Mike McConnell                           07/07/2000 04:1...</td>\n",
       "    </tr>\n",
       "    <tr>\n",
       "      <td>3</td>\n",
       "      <td>I understand from Greg that he got a little more direction from Paul about the Calpine meeting that has been moved to Thursday morning.  Please send Beth Perlman and me a copy of the revised draft of the meeting document that you are preparing, in addition to Tom.  Thanks.</td>\n",
       "    </tr>\n",
       "    <tr>\n",
       "      <td>4</td>\n",
       "      <td>The Post Petition Lead Meeting will occur every Tuesday and Thursday through the end of December (excluding 12/25).  Please note, going forward, all meetings will take place in EB49c1.  The agenda for Tuesday, December 18 will be proposed retention plan.\\n\\nPlease call me only if you are unable ...</td>\n",
       "    </tr>\n",
       "  </tbody>\n",
       "</table>\n",
       "</div>"
      ],
      "text/plain": [
       "                                                                                                                                                                                                                                                                                                             0\n",
       "0      **********************************************\\n    **      THIS IS A WARNING MESSAGE ONLY      **\\n    **  YOU DO NOT NEED TO RESEND YOUR MESSAGE  **\\n    **********************************************\\n\\nThe original message was received at Fri, 23 Mar 2001 11:29:55 -0700 (MST)\\nfrom [192....\n",
       "1                                                                                          Click on attached file to view the EOL 3rd Quarter Comparison  report:   \\n\\n \\n\\nIf you have any problems with the attached file, please contact Laura Levy.\\n\\nLaura Levy \\nEOL Product Control Group\\nExt. 53551\n",
       "2  Greg, \\n\\nFYI.  I'll give you a full update on Monday afternoon via voicemail.  We are \\non our way.\\nm\\n---------------------- Forwarded by Mike McConnell/HOU/ECT on 07/07/2000 \\n04:14 PM ---------------------------\\n   \\n\\t\\n\\t\\n\\tFrom:  Mike McConnell                           07/07/2000 04:1...\n",
       "3                          I understand from Greg that he got a little more direction from Paul about the Calpine meeting that has been moved to Thursday morning.  Please send Beth Perlman and me a copy of the revised draft of the meeting document that you are preparing, in addition to Tom.  Thanks.  \n",
       "4  The Post Petition Lead Meeting will occur every Tuesday and Thursday through the end of December (excluding 12/25).  Please note, going forward, all meetings will take place in EB49c1.  The agenda for Tuesday, December 18 will be proposed retention plan.\\n\\nPlease call me only if you are unable ..."
      ]
     },
     "execution_count": 5,
     "metadata": {},
     "output_type": "execute_result"
    }
   ],
   "source": [
    "# extract random 10000 enron email bodies for building dataset\n",
    "import random\n",
    "bodies_df = pd.DataFrame(random.sample(bodies, 10000))\n",
    "\n",
    "# expand default pandas display options to make emails more clearly visible when printed\n",
    "pd.set_option('display.max_colwidth', 300)\n",
    "\n",
    "bodies_df.head() # you could do print(bodies_df.head()), but Jupyter displays this nicer for pandas DataFrames"
   ]
  },
  {
   "cell_type": "markdown",
   "metadata": {},
   "source": [
    "The following (commented out) code is arguably the more \"pythonic\" way of achieving the extraction of bodies from messages. It is only 2 lines long and achieves the same result. However, we feel the code above is more transparent with regards to how the processing is carried out, and as such leave this here for the python experts if they prefer."
   ]
  },
  {
   "cell_type": "code",
   "execution_count": 6,
   "metadata": {},
   "outputs": [],
   "source": [
    "#messages = emails[\"message\"].apply(email.message_from_string)\n",
    "#bodies_df = messages.apply(lambda x: x.get_payload()).sample(10000)"
   ]
  },
  {
   "cell_type": "markdown",
   "metadata": {},
   "source": [
    "# Read and Preprocess Fraudulent \"419\" Email Corpus"
   ]
  },
  {
   "cell_type": "code",
   "execution_count": 7,
   "metadata": {},
   "outputs": [],
   "source": [
    "filepath = \"../input/fraudulent-email-corpus/fradulent_emails.txt\"\n",
    "with open(filepath, 'r',encoding=\"latin1\") as file:\n",
    "    data = file.read()"
   ]
  },
  {
   "cell_type": "markdown",
   "metadata": {},
   "source": [
    "Print the first 20000 characters of read file string (this gives only a few emails), and notice the keyword `From r` close to the beginning of each email header"
   ]
  },
  {
   "cell_type": "code",
   "execution_count": 8,
   "metadata": {},
   "outputs": [
    {
     "name": "stdout",
     "output_type": "stream",
     "text": [
      "From r  Wed Oct 30 21:41:56 2002\n",
      "Return-Path: <james_ngola2002@maktoob.com>\n",
      "X-Sieve: cmu-sieve 2.0\n",
      "Return-Path: <james_ngola2002@maktoob.com>\n",
      "Message-Id: <200210310241.g9V2fNm6028281@cs.CU>\n",
      "From: \"MR. JAMES NGOLA.\" <james_ngola2002@maktoob.com>\n",
      "Reply-To: james_ngola2002@maktoob.com\n",
      "To: webmaster@aclweb.org\n",
      "Date: Thu, 31 Oct 2002 02:38:20 +0000\n",
      "Subject: URGENT BUSINESS ASSISTANCE AND PARTNERSHIP\n",
      "X-Mailer: Microsoft Outlook Express 5.00.2919.6900 DM\n",
      "MIME-Version: 1.0\n",
      "Content-Type: text/plain; charset=\"us-ascii\"\n",
      "Content-Transfer-Encoding: 8bit\n",
      "X-MIME-Autoconverted: from quoted-printable to 8bit by sideshowmel.si.UM id g9V2foW24311\n",
      "Status: O\n",
      "\n",
      "FROM:MR. JAMES NGOLA.\n",
      "CONFIDENTIAL TEL: 233-27-587908.\n",
      "E-MAIL: (james_ngola2002@maktoob.com).\n",
      "\n",
      "URGENT BUSINESS ASSISTANCE AND PARTNERSHIP.\n",
      "\n",
      "\n",
      "DEAR FRIEND,\n",
      "\n",
      "I AM ( DR.) JAMES NGOLA, THE PERSONAL ASSISTANCE TO THE LATE CONGOLESE (PRESIDENT LAURENT KABILA) WHO WAS ASSASSINATED BY HIS BODY GUARD ON 16TH JAN. 2001.\n",
      "\n",
      "\n",
      "THE INCIDENT OCCURRED IN OUR PRESENCE WHILE WE WERE HOLDING MEETING WITH HIS EXCELLENCY OVER THE FINANCIAL RETURNS FROM THE DIAMOND SALES IN THE AREAS CONTROLLED BY (D.R.C.) DEMOCRATIC REPUBLIC OF CONGO FORCES AND THEIR FOREIGN ALLIES ANGOLA AND ZIMBABWE, HAVING RECEIVED THE PREVIOUS DAY (USD$100M) ONE HUNDRED MILLION UNITED STATES DOLLARS, CASH IN THREE DIPLOMATIC BOXES ROUTED THROUGH ZIMBABWE.\n",
      "\n",
      "MY PURPOSE OF WRITING YOU THIS LETTER IS TO SOLICIT FOR YOUR ASSISTANCE AS TO BE A COVER TO THE FUND AND ALSO COLLABORATION IN MOVING THE SAID FUND INTO YOUR BANK ACCOUNT THE SUM OF (USD$25M) TWENTY FIVE MILLION UNITED STATES DOLLARS ONLY, WHICH I DEPOSITED WITH A SECURITY COMPANY IN GHANA, IN A DIPLOMATIC BOX AS GOLDS WORTH (USD$25M) TWENTY FIVE MILLION UNITED STATES DOLLARS ONLY FOR SAFE KEEPING IN A SECURITY VAULT FOR ANY FURTHER INVESTMENT PERHAPS IN YOUR COUNTRY. \n",
      "\n",
      "YOU WERE INTRODUCED TO ME BY A RELIABLE FRIEND OF MINE WHO IS A TRAVELLER,AND ALSO A MEMBER OF CHAMBER OF COMMERCE AS A RELIABLE AND TRUSTWORTHY PERSON WHOM I CAN RELY ON AS FOREIGN PARTNER, EVEN THOUGH THE NATURE OF THE TRANSACTION WAS NOT REVEALED TO HIM FOR SECURITY REASONS.\n",
      "\n",
      "\n",
      "THE (USD$25M) WAS PART OF A PROCEEDS FROM DIAMOND TRADE MEANT FOR THE LATE PRESIDENT LAURENT KABILA WHICH WAS DELIVERED THROUGH ZIMBABWE IN DIPLOMATIC BOXES. THE BOXES WERE KEPT UNDER MY CUSTODY BEFORE THE SAD EVENT THAT TOOK THE LIFE OF (MR. PRESIDENT).THE CONFUSION THAT ENSUED AFTER THE ASSASSINATION AND THE SPORADIC SHOOTING AMONG THE FACTIONS, I HAVE TO RUN AWAY FROM THE COUNTRY FOR MY DEAR LIFE AS I AM NOT A SOLDIER BUT A CIVIL SERVANT I CROSSED RIVER CONGO TO OTHER SIDE OF CONGO LIBREVILLE FROM THERE I MOVED TO THE THIRD COUNTRY GHANA WHERE I AM PRESENTLY TAKING REFUGE. \n",
      "\n",
      "AS A MATTER OF FACT, WHAT I URGENTLY NEEDED FROM YOU IS YOUR ASSISTANCE IN MOVING THIS MONEY INTO YOUR ACCOUNT IN YOUR COUNTRY FOR INVESTMENT WITHOUT RAISING EYEBROW. FOR YOUR ASSISTANCE I WILL GIVE YOU 20% OF THE TOTAL SUM AS YOUR OWN SHARE WHEN THE MONEY GETS TO YOUR ACCOUNT, WHILE 75% WILL BE FOR ME, OF WHICH WITH YOUR KIND ADVICE I HOPE TO INVEST IN PROFITABLE VENTURE IN YOUR COUNTRY IN OTHER TO SETTLE DOWN FOR MEANINGFUL LIFE, AS I AM TIRED OF LIVING IN A WAR ENVIRONMENT. \n",
      "\n",
      "THE REMAINING 5% WILL BE USED TO OFFSET ANY COST INCURRED IN THE CAUSE OF MOVING THE MONEY TO YOUR ACCOUNT. IF THE PROPOSAL IS ACCEPTABLE TO YOU PLEASE CONTACT ME IMMEDIATELY THROUGH THE ABOVE TELEPHONE AND E-MAIL, TO ENABLE ME ARRANGE FACE TO FACE MEETING WITH YOU IN GHANA FOR THE CLEARANCE OF THE FUNDS BEFORE TRANSFRING IT TO YOUR BANK ACCOUNT AS SEEING IS BELIEVING. \n",
      "\n",
      "FINALLY, IT IS IMPORTANT ALSO THAT I LET YOU UNDERSTAND THAT THERE IS NO RISK INVOLVED WHATSOEVER AS THE MONEY HAD NO RECORD IN KINSHASA FOR IT WAS MEANT FOR THE PERSONAL USE OF (MR. PRESIDEND ) BEFORE THE NEFARIOUS INCIDENT OCCURRED, AND ALSO I HAVE ALL THE NECESSARY DOCUMENTS AS REGARDS TO THE FUNDS INCLUDING THE (CERTIFICATE OF DEPOSIT), AS I AM THE DEPOSITOR OF THE CONSIGNMENT.\n",
      "\n",
      "\n",
      "LOOKING FORWARD TO YOUR URGENT RESPONSE.\n",
      "\n",
      "YOUR SINCERELY,\n",
      "\n",
      "MR. JAMES NGOLA. \n",
      "\n",
      "\n",
      "\n",
      "\n",
      "\n",
      "\n",
      "\n",
      "\n",
      "\n",
      "\n",
      "From r  Thu Oct 31 08:11:39 2002\n",
      "Return-Path: <bensul2004nng@spinfinder.com>\n",
      "X-Sieve: cmu-sieve 2.0\n",
      "Return-Path: <bensul2004nng@spinfinder.com>\n",
      "Message-Id: <200210311310.g9VDANt24674@bloodwork.mr.itd.UM>\n",
      "From: \"Mr. Ben Suleman\" <bensul2004nng@spinfinder.com>\n",
      "Date: Thu, 31 Oct 2002 05:10:00\n",
      "To: R@M\n",
      "Subject: URGENT ASSISTANCE /RELATIONSHIP (P)\n",
      "MIME-Version: 1.0\n",
      "Content-Type: text/plain;charset=\"iso-8859-1\"\n",
      "Content-Transfer-Encoding: 7bit\n",
      "Status: O\n",
      "\n",
      "Dear Friend,\n",
      "\n",
      "I am Mr. Ben Suleman a custom officer and work as Assistant controller of the Customs and Excise department Of the Federal Ministry of Internal Affairs stationed at the Murtala Mohammed International Airport, Ikeja, Lagos-Nigeria.\n",
      "\n",
      "After the sudden death of the former Head of state of Nigeria General Sanni Abacha on June 8th 1998 his aides and immediate members of his family were arrested while trying to escape from Nigeria in a Chartered jet to Saudi Arabia with 6 trunk boxes Marked \"Diplomatic Baggage\". Acting on a tip-off as they attempted to board the Air Craft,my officials carried out a thorough search on the air craft and discovered that the 6 trunk boxes contained foreign currencies amounting to US$197,570,000.00(One Hundred and  Ninety-Seven Million Five Hundred Seventy Thousand United States Dollars).\n",
      "\n",
      "I declared only (5) five boxes to the government and withheld one (1) in my custody containing the sum of (US$30,000,000.00) Thirty Million United States Dollars Only, which has been disguised to prevent their being discovered during transportation process.Due to several media reports on the late head of state about all the money him and his co-government officials stole from our government treasury amounting\n",
      "to US$55 Billion Dollars (ref:ngrguardiannews.com) of July 2nd 1999. Even the London times of July 1998 reported that General Abacha has over US$3.Billion dollars in one account overseas. We decided to conceal this one (1)box till the situation is calm and quite on the issue. The box was thus deposited with a security company here in Nigeria and tagged as \"Precious Stones and Jewellry\" in other that its\n",
      "content will not be discovered. Now that all is calm, we (myself and two of my colleagues in the operations team) are now ready to move this box out of the country through a diplomatic arrangement which is the safest means. \n",
      "\n",
      "However as government officials the Civil Service Code of Conduct does not allow us by law to operate any foreign account or own foreign investment and the amount of money that can be found in our account\n",
      "cannot be more than our salary on the average, thus our handicapp and our need for your assistance to help collect and keep safely in your account this money.\n",
      "\n",
      "Therefore we want you to assist us in moving this money out of Nigeria. We shall definitely compensate you handsomely for the assistance. We can do this by instructing the Security Company here in Nigeria to\n",
      "move the consignment to their affiliate branch office outside Nigeria through diplomatic means and the consignment will be termed as Precious Stones and Jewelleries\" which you bought during your visit to Nigeria and is being transfered to your country from here for safe keeping. Then we can arrange to meet at the destination country to take the delivery of the consignment. You will thereafter open an account there and lodge the Money there and gradually instruct remittance to your Country. \n",
      "\n",
      "This business is 100% risk free for you so please treat this matter with utmost confidentiality .If you indicate your interest to assist us please just e-mail me for more Explanation on how we plan to execute the transaction.\n",
      "\n",
      "Expecting your response urgently.\n",
      "\n",
      "Best regards,\n",
      "\n",
      "Mr. Ben Suleman\n",
      "\n",
      "From r  Thu Oct 31 17:27:16 2002\n",
      "Return-Path: <obong_715@epatra.com>\n",
      "X-Sieve: cmu-sieve 2.0\n",
      "Return-Path: <obong_715@epatra.com>\n",
      "Message-Id: <200210312227.g9VMQvDj017948@bluewhale.cs.CU>\n",
      "From: \"PRINCE OBONG ELEME\" <obong_715@epatra.com>\n",
      "Reply-To: obong_715@epatra.com\n",
      "To: webmaster@aclweb.org\n",
      "Date: Thu, 31 Oct 2002 22:17:55 +0100\n",
      "Subject: GOOD DAY TO YOU\n",
      "X-Mailer: Microsoft Outlook Express 5.00.2919.6900DM\n",
      "MIME-Version: 1.0\n",
      "Content-Type: text/plain; charset=\"us-ascii\"\n",
      "Content-Transfer-Encoding: 8bit\n",
      "X-MIME-Autoconverted: from quoted-printable to 8bit by sideshowmel.si.UM id g9VMRBW20642\n",
      "Status: RO\n",
      "\n",
      "FROM HIS ROYAL MAJESTY (HRM) CROWN RULER OF ELEME KINGDOM \n",
      "CHIEF DANIEL ELEME, PHD, EZE 1 OF ELEME.E-MAIL \n",
      "ADDRESS:obong_715@epatra.com  \n",
      "\n",
      "ATTENTION:PRESIDENT,CEO Sir/ Madam. \n",
      "\n",
      "This letter might surprise you because we have met\n",
      "neither in person nor by correspondence. But I believe\n",
      "it is one day that you got to know somebody either in\n",
      "physical or through correspondence. \n",
      "\n",
      "I got your contact through discreet inquiry from the\n",
      "chambers of commerce and industry of your country on\n",
      "the net, you and your organization were revealed as\n",
      "being quite astute in private entrepreneurship, one\n",
      "has no doubt in your ability to handle a financialbusiness transaction. \n",
      "\n",
      "However, I am the first son of His Royal\n",
      "majesty,Obong.D. Eleme , and the traditional Ruler of\n",
      "Eleme Province in the oil producing area of River\n",
      "State of Nigeria. I am making this contact to you in\n",
      "respect of US$60,000,000.00 (Sixty Million United\n",
      "State Dollars), which I inherited, from my latefather. \n",
      "\n",
      "This money was accumulated from royalties paid to my\n",
      "father as compensation by the oil firms located in our\n",
      "area as a result of oil presence on our land, which\n",
      "hamper agriculture, which is our major source oflivelihood. \n",
      "\n",
      "Unfortunately my father died from protracted\n",
      "diabetes.But before his death he called my attention\n",
      "and informed me that he lodged some funds on a two\n",
      "boxes with a security firm with an open beneficiary\n",
      "status. The lodgment security code number was also\n",
      "revealed to me, he then advised me to look for a\n",
      "reliable business partner abroad, that will assist me\n",
      "in investing the money in a lucrative business as a\n",
      "result of economic instability in Nigeria. So this is\n",
      "the main reason why I am contacting you for us to move\n",
      "this money from the security firm to any Country of\n",
      "your choice for investment purpose. \n",
      "\n",
      "So I will like you to be the ultimate beneficiary, so\n",
      "that the funds can be moved in your name and\n",
      "particulars to any Country of your choice where it\n",
      "will be claimed and invested. Hence my father have had\n",
      "intimated the security firm personnel that the\n",
      "beneficiary of the box is his foreign partner whose\n",
      "particulars will be forwarded to the firm when due. \n",
      "\n",
      "But I will guide you Accordingly. As soon as the funds\n",
      "reach, I will then come over to meet you in person, so\n",
      "that we can discuss physically on investment\n",
      "potentials. Based on this assistance my Family and I\n",
      "have unanimously decided to give you 30% of the total\n",
      "money, 5% for Charity home, 10% for expenses, which\n",
      "may arise during this transaction, Fax and phone bills\n",
      "inclusive. The balance of 55% you will invest andmanaged for my Family. \n",
      "\n",
      "I hereby guarantee you that this is not government\n",
      "money, it is not drug money and it is not money from\n",
      "arms deal. Though you have to maintain high degree of\n",
      "confidentiality on this matter. I will give more\n",
      "details about the proceedings of this transaction as\n",
      "soon as I receive your favorable reply. \n",
      "\n",
      "Please reply to my Email Address:obong_715@epatra.com\n",
      "I hope this will be the beginning of a prosperous\n",
      "relationship between my family and your family. \n",
      "\n",
      "Nevertheless if you are for any reason not interested,\n",
      "kindly inform me immediately so that I will look foranother contact. \n",
      "\n",
      "I am waiting for your quick response. \n",
      "\n",
      "Yours faithfully, \n",
      "\n",
      "Prince Obong Abbot \n",
      "\n",
      "\n",
      "From r  Thu Oct 31 17:53:56 2002\n",
      "Return-Path: <obong_715@epatra.com>\n",
      "X-Sieve: cmu-sieve 2.0\n",
      "Return-Path: <obong_715@epatra.com>\n",
      "Message-Id: <200210312253.g9VMreDj018024@bluewhale.cs.CU>\n",
      "From: \"PRINCE OBONG ELEME\" <obong_715@epatra.com>\n",
      "Date: Thu, 31 Oct 2002 22:44:20\n",
      "To: webmaster@aclweb.org\n",
      "Subject: GOOD DAY TO YOU\n",
      "MIME-Version: 1.0\n",
      "Content-Type: text/plain;charset=\"iso-8859-1\"\n",
      "Content-Transfer-Encoding: 7bit\n",
      "Status: RO\n",
      "\n",
      "FROM HIS ROYAL MAJESTY (HRM) CROWN RULER OF ELEME KINGDOM \n",
      "CHIEF DANIEL ELEME, PHD, EZE 1 OF ELEME.E-MAIL \n",
      "ADDRESS:obong_715@epatra.com  \n",
      "\n",
      "ATTENTION:PRESIDENT,CEO Sir/ Madam. \n",
      "\n",
      "This letter might surprise you because we have met\n",
      "neither in person nor by correspondence. But I believe\n",
      "it is one day that you got to know somebody either in\n",
      "physical or through correspondence. \n",
      "\n",
      "I got your contact through discreet inquiry from the\n",
      "chambers of commerce and industry of your country on\n",
      "the net, you and your organization were revealed as\n",
      "being quite astute in private entrepreneurship, one\n",
      "has no doubt in your ability to handle a financialbusiness transaction. \n",
      "\n",
      "However, I am the first son of His Royal\n",
      "majesty,Obong.D. Eleme , and the traditional Ruler of\n",
      "Eleme Province in the oil producing area of River\n",
      "State of Nigeria. I am making this contact to you in\n",
      "respect of US$60,000,000.00 (Sixty Million United\n",
      "State Dollars), which I inherited, from my latefather. \n",
      "\n",
      "This money was accumulated from royalties paid to my\n",
      "father as compensation by the oil firms located in our\n",
      "area as a result of oil presence on our land, which\n",
      "hamper agriculture, which is our major source oflivelihood. \n",
      "\n",
      "Unfortunately my father died from protracted\n",
      "diabetes.But before his death he called my attention\n",
      "and informed me that he lodged some funds on a two\n",
      "boxes with a security firm with an open beneficiary\n",
      "status. The lodgment security code number was also\n",
      "revealed to me, he then advised me to look for a\n",
      "reliable business partner abroad, that will assist me\n",
      "in investing the money in a lucrative business as a\n",
      "result of economic instability in Nigeria. So this is\n",
      "the main reason why I am contacting you for us to move\n",
      "this money from the security firm to any Country of\n",
      "your choice for investment purpose. \n",
      "\n",
      "So I will like you to be the ultimate beneficiary, so\n",
      "that the funds can be moved in your name and\n",
      "particulars to any Country of your choice where it\n",
      "will be claimed and invested. Hence my father have had\n",
      "intimated the security firm personnel that the\n",
      "beneficiary of the box is his foreign partner whose\n",
      "particulars will be forwarded to the firm when due. \n",
      "\n",
      "But I will guide you Accordingly. As soon as the funds\n",
      "reach, I will then come over to meet you in person, so\n",
      "that we can discuss physically on investment\n",
      "potentials. Based on this assistance my Family and I\n",
      "have unanimously decided to give you 30% of the total\n",
      "money, 5% for Charity home, 10% for expenses, which\n",
      "may arise during this transaction, Fax and phone bills\n",
      "inclusive. The balance of 55% you will invest andmanaged for my Family. \n",
      "\n",
      "I hereby guarantee you that this is not government\n",
      "money, it is not drug money and it is not money from\n",
      "arms deal. Though you have to maintain high degree of\n",
      "confidentiality on this matter. I will give more\n",
      "details about the proceedings of this transaction as\n",
      "soon as I receive your favorable reply. \n",
      "\n",
      "Please reply to my Email Address:obong_715@epatra.com\n",
      "I hope this will be the beginning of a prosperous\n",
      "relationship between my family and your family. \n",
      "\n",
      "Nevertheless if you are for any reason not interested,\n",
      "kindly inform me immediately so that I will look foranother contact. \n",
      "\n",
      "I am waiting for your quick response. \n",
      "\n",
      "Yours faithfully, \n",
      "\n",
      "Prince Obong Eleme\n",
      "\n",
      "From r  Fri Nov  1 04:48:39 2002\n",
      "Return-Path: <m_abacha03@www.com>\n",
      "X-Sieve: cmu-sieve 2.0\n",
      "Return-Path: <m_abacha03@www.com>\n",
      "Message-Id: <200211010948.gA19mLu22932@perfectworld.mr.itd.UM>\n",
      "From: \"Maryam Abacha\" <m_abacha03@www.com>\n",
      "Reply-To: m_abacha03@www.com\n",
      "To: R@M\n",
      "Date: Fri, 1 Nov 2002 01:45:04 +0100\n",
      "Subject: I Need Your Assistance.\n",
      "X-Mailer: Microsoft Outlook Express 5.00.2919.6900 DM\n",
      "MIME-Version: 1.0\n",
      "Content-Type: text/plain; charset=\"us-ascii\"\n",
      "Content-Transfer-Encoding: 8bit\n",
      "X-MIME-Autoconverted: from quoted-printable to 8bit by sideshowmel.si.UM id gA19mVW29040\n",
      "Status: RO\n",
      "\n",
      "Dear sir, \n",
      " \n",
      "It is with a heart full of hope that I write to seek your help in respect of the context below. I am Mrs. Maryam Abacha the former first lady of the former Military Head of State of Nigeria General Sani Abacha whose sudden death occurred on 8th of June 1998 as a result of cardiac arrest (heart attack) while on the seat of power. \n",
      "I have no doubt about your capability and good-will to assist me in receiving into your custody (for safety) the sum of US$25 Million willed and deposited in my favour by my late husband in a security and deposit company. Though my contact to you for this assistance is not anchored on any personal ecommendation, I pray your understanding, good will and sincere assistance to respond to this message with honest intensions and concern. \n",
      "This money is currently deposited here with a security company as miscellaneous awaiting collection and according to the agreement entered into at the time of deposit between my late husband and the Security Company at the time of deposit; the collection centre is in Ghana. As it is legally required, the administration of my late husband's properties is under the authority of the family's lawyer Tony Musa. \n",
      " \n",
      "My Dear JK, since the demise of my husband, the present regime has been probing my late husband's wealth and properties, the London Newsweek of 13th march 2000 referred. The investigating team led by Enrico Monfrini, the lawyer acting on behalf of the Nigerian government has so far submitted their report and presently, some liquid cash and assets, movable and immovable, have been frozen and seized both locally here and internationally and my last hope is rested on the immediate security of this fund in your custody. Also, Johnnie Cochran, the lawyer who defended OJ Simpson, has been brought in by the Abacha entourage to help them retain the disputed funds. Fortunately, our family lawyer had secretly protected the \"Personal will\" of my husband from the notice of the investigators and have strictly advised that the willed money be urgently moved into an overseas account of Trusted Foreign family friend without delay. For security reasons and f!\n",
      "urther advise,! no relations or fr! \n",
      "iends of ours should be used; as this is a measure of security. The government had earlier placed foreign travel embargo on all our family members and seized all known local and International outfits of our business empire. \n",
      "The situation has been so terrible that we are virtually living on the assistance of well-wishers. In view of this plight, I expect you to be trustworthy and kind enough to respond to this \"SOS\" call to save my children and I from a hopeless future. \n",
      "I hereby agree to compensate your sincere and candid effort, immensely, which will be discussed between you, the Attorney and I. On your immediate response, the Attorney will travel to Ghana where both of you will meet, and thereafter proceed to the deposit company for the claims. \n",
      "The documentations include, most importantly, Power of Attorney and Certificate of Deposit amongst few others. These documents will be sent to you by Fax, as you would have to present them for proper claims. \n",
      "Please, be rest assured that this transaction is completely safe and legal but must be kept strictly to yourself even after the funds have been secured into our custody. This is so because any leakage of information could ruin the whole transaction. \n",
      "Please all contacts must be made through my lawyer on his email: tony_m@lawyer.com This has to be so as he has been mandated to handle this matter and I have fully briefed him (my Attorney) on my contact to you. Due to my present circumstance, I have handed everything over to him to co - ordinate and finalize with you and I will communicate you as at when necessary. Please for the safety of this transaction, reply stating your phone and fax numbers to enable them contact you directly without running the risk of mail interception. \n",
      "I look forward to your quick response. \n",
      "Best Wishes, \n",
      "Mrs. Maryam Abacha \n",
      " \n",
      "\n",
      "\n",
      "From r  Sat Nov  2 00:18:06 2002\n",
      "Return-Path: <davidkuta@postmark.net>\n",
      "X-Sieve: cmu-sieve 2.0\n",
      "Return-Path: <davidkut\n"
     ]
    }
   ],
   "source": [
    "print(data[:20000])"
   ]
  },
  {
   "cell_type": "markdown",
   "metadata": {},
   "source": [
    "Split on the code word `From r` appearing close to the beginning of each email"
   ]
  },
  {
   "cell_type": "code",
   "execution_count": 9,
   "metadata": {},
   "outputs": [
    {
     "name": "stdout",
     "output_type": "stream",
     "text": [
      "Successfully loaded 3978 spam emails!\n"
     ]
    }
   ],
   "source": [
    "fraud_emails = data.split(\"From r\")\n",
    "\n",
    "print(\"Successfully loaded {} spam emails!\".format(len(fraud_emails)))"
   ]
  },
  {
   "cell_type": "code",
   "execution_count": 10,
   "metadata": {},
   "outputs": [
    {
     "name": "stdout",
     "output_type": "stream",
     "text": [
      "Successfully retrieved message body from e-mails!\n"
     ]
    },
    {
     "data": {
      "text/html": [
       "<div>\n",
       "<style scoped>\n",
       "    .dataframe tbody tr th:only-of-type {\n",
       "        vertical-align: middle;\n",
       "    }\n",
       "\n",
       "    .dataframe tbody tr th {\n",
       "        vertical-align: top;\n",
       "    }\n",
       "\n",
       "    .dataframe thead th {\n",
       "        text-align: right;\n",
       "    }\n",
       "</style>\n",
       "<table border=\"1\" class=\"dataframe\">\n",
       "  <thead>\n",
       "    <tr style=\"text-align: right;\">\n",
       "      <th></th>\n",
       "      <th>0</th>\n",
       "    </tr>\n",
       "  </thead>\n",
       "  <tbody>\n",
       "    <tr>\n",
       "      <td>0</td>\n",
       "      <td>FROM:MR. JAMES NGOLA.\\nCONFIDENTIAL TEL: 233-27-587908.\\nE-MAIL: (james_ngola2002@maktoob.com).\\n\\nURGENT BUSINESS ASSISTANCE AND PARTNERSHIP.\\n\\n\\nDEAR FRIEND,\\n\\nI AM ( DR.) JAMES NGOLA, THE PERSONAL ASSISTANCE TO THE LATE CONGOLESE (PRESIDENT LAURENT KABILA) WHO WAS ASSASSINATED BY HIS BODY G...</td>\n",
       "    </tr>\n",
       "    <tr>\n",
       "      <td>1</td>\n",
       "      <td>Dear Friend,\\n\\nI am Mr. Ben Suleman a custom officer and work as Assistant controller of the Customs and Excise department Of the Federal Ministry of Internal Affairs stationed at the Murtala Mohammed International Airport, Ikeja, Lagos-Nigeria.\\n\\nAfter the sudden death of the former Head of s...</td>\n",
       "    </tr>\n",
       "    <tr>\n",
       "      <td>2</td>\n",
       "      <td>FROM HIS ROYAL MAJESTY (HRM) CROWN RULER OF ELEME KINGDOM \\nCHIEF DANIEL ELEME, PHD, EZE 1 OF ELEME.E-MAIL \\nADDRESS:obong_715@epatra.com  \\n\\nATTENTION:PRESIDENT,CEO Sir/ Madam. \\n\\nThis letter might surprise you because we have met\\nneither in person nor by correspondence. But I believe\\nit is...</td>\n",
       "    </tr>\n",
       "    <tr>\n",
       "      <td>3</td>\n",
       "      <td>FROM HIS ROYAL MAJESTY (HRM) CROWN RULER OF ELEME KINGDOM \\nCHIEF DANIEL ELEME, PHD, EZE 1 OF ELEME.E-MAIL \\nADDRESS:obong_715@epatra.com  \\n\\nATTENTION:PRESIDENT,CEO Sir/ Madam. \\n\\nThis letter might surprise you because we have met\\nneither in person nor by correspondence. But I believe\\nit is...</td>\n",
       "    </tr>\n",
       "    <tr>\n",
       "      <td>4</td>\n",
       "      <td>Dear sir, \\n \\nIt is with a heart full of hope that I write to seek your help in respect of the context below. I am Mrs. Maryam Abacha the former first lady of the former Military Head of State of Nigeria General Sani Abacha whose sudden death occurred on 8th of June 1998 as a result of cardiac ...</td>\n",
       "    </tr>\n",
       "  </tbody>\n",
       "</table>\n",
       "</div>"
      ],
      "text/plain": [
       "                                                                                                                                                                                                                                                                                                             0\n",
       "0  FROM:MR. JAMES NGOLA.\\nCONFIDENTIAL TEL: 233-27-587908.\\nE-MAIL: (james_ngola2002@maktoob.com).\\n\\nURGENT BUSINESS ASSISTANCE AND PARTNERSHIP.\\n\\n\\nDEAR FRIEND,\\n\\nI AM ( DR.) JAMES NGOLA, THE PERSONAL ASSISTANCE TO THE LATE CONGOLESE (PRESIDENT LAURENT KABILA) WHO WAS ASSASSINATED BY HIS BODY G...\n",
       "1  Dear Friend,\\n\\nI am Mr. Ben Suleman a custom officer and work as Assistant controller of the Customs and Excise department Of the Federal Ministry of Internal Affairs stationed at the Murtala Mohammed International Airport, Ikeja, Lagos-Nigeria.\\n\\nAfter the sudden death of the former Head of s...\n",
       "2  FROM HIS ROYAL MAJESTY (HRM) CROWN RULER OF ELEME KINGDOM \\nCHIEF DANIEL ELEME, PHD, EZE 1 OF ELEME.E-MAIL \\nADDRESS:obong_715@epatra.com  \\n\\nATTENTION:PRESIDENT,CEO Sir/ Madam. \\n\\nThis letter might surprise you because we have met\\nneither in person nor by correspondence. But I believe\\nit is...\n",
       "3  FROM HIS ROYAL MAJESTY (HRM) CROWN RULER OF ELEME KINGDOM \\nCHIEF DANIEL ELEME, PHD, EZE 1 OF ELEME.E-MAIL \\nADDRESS:obong_715@epatra.com  \\n\\nATTENTION:PRESIDENT,CEO Sir/ Madam. \\n\\nThis letter might surprise you because we have met\\nneither in person nor by correspondence. But I believe\\nit is...\n",
       "4  Dear sir, \\n \\nIt is with a heart full of hope that I write to seek your help in respect of the context below. I am Mrs. Maryam Abacha the former first lady of the former Military Head of State of Nigeria General Sani Abacha whose sudden death occurred on 8th of June 1998 as a result of cardiac ..."
      ]
     },
     "execution_count": 10,
     "metadata": {},
     "output_type": "execute_result"
    }
   ],
   "source": [
    "fraud_bodies = extract_messages(pd.DataFrame(fraud_emails,columns=[\"message\"],dtype=str))\n",
    "fraud_bodies_df = pd.DataFrame(fraud_bodies[1:])\n",
    "\n",
    "fraud_bodies_df.head() # you could do print(fraud_bodies_df.head()), but Jupyter displays this nicer for pandas DataFrames"
   ]
  },
  {
   "cell_type": "markdown",
   "metadata": {},
   "source": [
    "# Define Tokenization, Stop-word and Punctuation Removal Functions \n",
    "\n",
    "Before proceeding, we must decide how many samples to draw from each class. We must also decide the maximum number of tokens per email, and the maximum length of each token. This is done by setting the following overarching hyperparameters"
   ]
  },
  {
   "cell_type": "code",
   "execution_count": 11,
   "metadata": {},
   "outputs": [],
   "source": [
    "Nsamp = 1000 # number of samples to generate in each class - 'spam', 'not spam'\n",
    "maxtokens = 200 # the maximum number of tokens per document\n",
    "maxtokenlen = 100 # the maximum length of each token"
   ]
  },
  {
   "cell_type": "markdown",
   "metadata": {},
   "source": [
    "**Tokenization**"
   ]
  },
  {
   "cell_type": "code",
   "execution_count": 12,
   "metadata": {},
   "outputs": [],
   "source": [
    "def tokenize(row):\n",
    "    if row is None or row is '':\n",
    "        tokens = \"\"\n",
    "    else:\n",
    "        tokens = str(row).split(\" \")[:maxtokens]\n",
    "    return tokens"
   ]
  },
  {
   "cell_type": "markdown",
   "metadata": {},
   "source": [
    "**Use regular expressions to remove unnecessary characters** \n",
    "\n",
    "Next, we define a function to remove punctuation marks and other nonword characters (using regular expressions) from the emails with the help of the ubiquitous python regex library. In the same step, we truncate all tokens to hyperparameter `maxtokenlen` defined above."
   ]
  },
  {
   "cell_type": "code",
   "execution_count": 13,
   "metadata": {},
   "outputs": [],
   "source": [
    "import re\n",
    "\n",
    "def reg_expressions(row):\n",
    "    tokens = []\n",
    "    try:\n",
    "        for token in row:\n",
    "            token = token.lower() # make all characters lower case\n",
    "            token = re.sub(r'[\\W\\d]', \"\", token)\n",
    "            token = token[:maxtokenlen] # truncate token\n",
    "            tokens.append(token)\n",
    "    except:\n",
    "        token = \"\"\n",
    "        tokens.append(token)\n",
    "    return tokens"
   ]
  },
  {
   "cell_type": "markdown",
   "metadata": {},
   "source": [
    "**Stop-word removal**\n",
    "\n",
    "Let’s define a function to remove stopwords - words that occur so frequently in language that they offer no useful information for classification. This includes words such as “the” and “are”, and the popular library NLTK provides a heavily-used list that will employ."
   ]
  },
  {
   "cell_type": "code",
   "execution_count": 14,
   "metadata": {},
   "outputs": [
    {
     "name": "stdout",
     "output_type": "stream",
     "text": [
      "[nltk_data] Downloading package stopwords to /usr/share/nltk_data...\n",
      "[nltk_data]   Unzipping corpora/stopwords.zip.\n"
     ]
    }
   ],
   "source": [
    "import nltk\n",
    "\n",
    "nltk.download('stopwords')\n",
    "from nltk.corpus import stopwords\n",
    "stopwords = stopwords.words('english')    \n",
    "\n",
    "def stop_word_removal(row):\n",
    "    token = [token for token in row if token not in stopwords]\n",
    "    token = filter(None, token)\n",
    "    return token"
   ]
  },
  {
   "cell_type": "markdown",
   "metadata": {},
   "source": [
    "# Bag-of-words model \n",
    "\n",
    "For the computer to make inferences of the e-mails, it has to be able to interpret the text by making a numerical representation of it. One way to do this is by using something called a \"bag-of-words\" model. This model simply counts the frequency of word tokens for each email and thereby represents it as a vector of these counts.\n",
    "\n",
    "**Assemble matrices function** \n",
    "\n",
    "The `assemble_bag()` function assembles a new dataframe containing all the unique words found in the text documents. It counts the word frequency and then returns the new dataframe."
   ]
  },
  {
   "cell_type": "code",
   "execution_count": 15,
   "metadata": {},
   "outputs": [],
   "source": [
    "def assemble_bag(data):\n",
    "    used_tokens = []\n",
    "    all_tokens = []\n",
    "\n",
    "    for item in data:\n",
    "        for token in item:\n",
    "            if token in all_tokens:\n",
    "                if token not in used_tokens:\n",
    "                    used_tokens.append(token)\n",
    "            else:\n",
    "                all_tokens.append(token)\n",
    "    \n",
    "    df = pd.DataFrame(0, index = np.arange(len(data)), columns = used_tokens)\n",
    "    \n",
    "    for i, item in enumerate(data):\n",
    "        for token in item:\n",
    "            if token in used_tokens:\n",
    "                df.iloc[i][token] += 1    \n",
    "    return df"
   ]
  },
  {
   "cell_type": "markdown",
   "metadata": {},
   "source": [
    "# Putting It All Together To Assemble Dataset\n",
    "\n",
    "Now, putting all the preprocessing steps together we assemble our dataset..."
   ]
  },
  {
   "cell_type": "code",
   "execution_count": 16,
   "metadata": {},
   "outputs": [],
   "source": [
    "# Convert everything to lower-case, truncate to maxtokens and truncate each token to maxtokenlen\n",
    "EnronEmails = bodies_df.iloc[:,0].apply(tokenize)\n",
    "EnronEmails = EnronEmails.apply(stop_word_removal)\n",
    "EnronEmails = EnronEmails.apply(reg_expressions)\n",
    "EnronEmails = EnronEmails.sample(Nsamp)\n",
    "\n",
    "SpamEmails = fraud_bodies_df.iloc[:,0].apply(tokenize)\n",
    "SpamEmails = SpamEmails.apply(stop_word_removal)\n",
    "SpamEmails = SpamEmails.apply(reg_expressions)\n",
    "SpamEmails = SpamEmails.sample(Nsamp)\n",
    "\n",
    "raw_data = pd.concat([SpamEmails,EnronEmails], axis=0).values"
   ]
  },
  {
   "cell_type": "code",
   "execution_count": 17,
   "metadata": {},
   "outputs": [
    {
     "name": "stdout",
     "output_type": "stream",
     "text": [
      "Shape of combined data is:\n",
      "(2000,)\n",
      "Data is:\n",
      "[list(['emailmessagemessage', 'object', 'xfdbddeac', 'emailmessagemessage', 'object', 'xfdbddc'])\n",
      " list(['good', 'day', 'i', 'david', 'bryan', 'staff', 'kleinwort', 'benson', 'i', 'contacting', 'youconcerning', 'deceased', 'customer', 'investment', 'placed', 'ourbanks', 'management', 'three', 'years', 'agoi', 'contacting', 'independently', 'investigation', 'one', 'isinformed', 'communication', 'i', 'would', 'like', 'intimate', 'certainfacts', 'i', 'believe', 'would', 'interest', 'you', 'in', 'year', '', 'thesubject', 'matter', 'came', 'bank', 'engage', 'business', 'discussions', 'withour', 'private', 'banking', 'division', 'he', 'informed', 'us', 'financialportfolio', 'six', 'million', 'united', 'states', 'dollars', 'wished', 'usturn', 'invest', 'behalfin', 'mid', '', 'asked', 'money', 'liquidated', 'needed', 'tomake', 'urgent', 'investment', 'requiring', 'cash', 'payments', 'helsinki', 'finland', 'hedirected', 'i', 'liquidate', 'funds', 'deposit', 'security', 'firm', 'iinformed', 'bank', 'would', 'make', 'special', 'arrangements', 'havethis', 'done', 'order', 'circumvent', 'due', 'processcash', 'movement', 'across', 'boarders', 'become', 'especially', 'strict', 'since', 'theincidents', '', 'i', 'contacted', 'affiliate', 'made', 'funds', 'availableto', 'security', 'firm', 'i', 'undertook', 'processes', 'made', 'sure', 'ifollowed', 'precise', 'instructions'])\n",
      " list(['emailmessagemessage', 'object', 'xfdbdc', 'emailmessagemessage', 'object', 'xfdbd'])\n",
      " ...\n",
      " list(['i', 'agree', 'i', 'think', 'enough', 'uncertainty', 'deal', 'enforceability', 'issues', 'anything', 'create', 'stronger', 'legal', 'or', 'equitable', 'position', 'worth', 'it', 'mark', '', 'ect', 'legal', 'taylor', 'mtayloectenroncom', '', '', 'pm', 'my', 'analysis', 'forcing', 'scroll', 'entire', 'agreement', 'providesadditional', 'comfort', 'counterparty', 'actually', 'looked', 'agreementand', 'knows', 'agreeing', '', 'much', 'likely', 'thecontract', 'enforceable', 'it', 'certainly', 'necessary', 'point', 'ofview', 'document', 'take', 'entire', 'page', 'rather', 'appearing', 'asmaller', 'window', 'scroll', 'bar', 'side', '', 'fact', 'i', 'think', 'looks', 'muchbetter', 'it', 'would', 'acceptable', 'legal', 'point', 'view', 'agree', 'buttonappeared', 'example', 'long', 'work', 'agreementhad', 'scrolled', 'through', 'i', 'personally', 'think', 'would', 'create', 'problemsfrom', 'commercial', 'point', 'view', 'since', 'many', 'counterparties', 'try', 'click', 'onagree', 'soon', 'appears', 'without', 'reading', 'agreement', 'get', 'frustratedwhen', 'work', 'right', 'awaydavid', '', 'agreelouise', 'kitchen', '', 'pmto', 'awais'])\n",
      " list(['aec', 'dealoriginal', 'messagefrom', 'hayslett', 'rod', 'sent', 'wednesday', 'november', '', '', '', 'amto', 'saunders', 'james', 'cherry', 'paulcc', 'cobb', 'jr', 'johnsubject', 're', 'interco', 'accountsfor', 'reibursementsent', 'blackberry', 'wireless', 'handheld', 'wwwblackberrynet'])\n",
      " list(['start', 'date', '', 'hourahead', 'hour', '', 'no', 'ancillary', 'schedules', 'awarded', 'no', 'variances', 'detected', 'log', 'messagesparsing', 'file', '', 'oportlandwestdeskcalifornia', 'schedulingiso', 'final', 'schedulestxterror', 'invalid', 'variant', 'type', 'conversion', 'energy', 'importexport', 'schedule', '', 'final', 'schedule', 'found', 'preferred', 'schedule', 'details', 'trans_type', 'final', 'sc_id', 'ectstca', 'mkt_type', '', 'trans_date', '', 'tie_point', 'pverde__devers', 'interchg_id', 'epmi_ciso_', 'engy_type', 'firm'])]\n"
     ]
    }
   ],
   "source": [
    "print(\"Shape of combined data is:\")\n",
    "print(raw_data.shape)\n",
    "print(\"Data is:\")\n",
    "print(raw_data)\n",
    "\n",
    "# create corresponding labels\n",
    "Categories = ['spam','notspam']\n",
    "header = ([1]*Nsamp)\n",
    "header.extend(([0]*Nsamp))"
   ]
  },
  {
   "cell_type": "markdown",
   "metadata": {},
   "source": [
    "We are now ready to convert these into numerical vectors!!"
   ]
  },
  {
   "cell_type": "markdown",
   "metadata": {},
   "source": [
    "**Featurize and Create Labels**"
   ]
  },
  {
   "cell_type": "code",
   "execution_count": 18,
   "metadata": {},
   "outputs": [
    {
     "data": {
      "text/html": [
       "<div>\n",
       "<style scoped>\n",
       "    .dataframe tbody tr th:only-of-type {\n",
       "        vertical-align: middle;\n",
       "    }\n",
       "\n",
       "    .dataframe tbody tr th {\n",
       "        vertical-align: top;\n",
       "    }\n",
       "\n",
       "    .dataframe thead th {\n",
       "        text-align: right;\n",
       "    }\n",
       "</style>\n",
       "<table border=\"1\" class=\"dataframe\">\n",
       "  <thead>\n",
       "    <tr style=\"text-align: right;\">\n",
       "      <th></th>\n",
       "      <th>emailmessagemessage</th>\n",
       "      <th>object</th>\n",
       "      <th>i</th>\n",
       "      <th>contacting</th>\n",
       "      <th>would</th>\n",
       "      <th></th>\n",
       "      <th>investment</th>\n",
       "      <th>bank</th>\n",
       "      <th>funds</th>\n",
       "      <th>security</th>\n",
       "      <th>...</th>\n",
       "      <th>comex</th>\n",
       "      <th>qualified</th>\n",
       "      <th>uncertainty</th>\n",
       "      <th>comfort</th>\n",
       "      <th>enforceable</th>\n",
       "      <th>appearing</th>\n",
       "      <th>saunders</th>\n",
       "      <th>paulcc</th>\n",
       "      <th>cobb</th>\n",
       "      <th>wwwblackberrynet</th>\n",
       "    </tr>\n",
       "  </thead>\n",
       "  <tbody>\n",
       "    <tr>\n",
       "      <td>0</td>\n",
       "      <td>2</td>\n",
       "      <td>2</td>\n",
       "      <td>0</td>\n",
       "      <td>0</td>\n",
       "      <td>0</td>\n",
       "      <td>0</td>\n",
       "      <td>0</td>\n",
       "      <td>0</td>\n",
       "      <td>0</td>\n",
       "      <td>0</td>\n",
       "      <td>...</td>\n",
       "      <td>0</td>\n",
       "      <td>0</td>\n",
       "      <td>0</td>\n",
       "      <td>0</td>\n",
       "      <td>0</td>\n",
       "      <td>0</td>\n",
       "      <td>0</td>\n",
       "      <td>0</td>\n",
       "      <td>0</td>\n",
       "      <td>0</td>\n",
       "    </tr>\n",
       "    <tr>\n",
       "      <td>1</td>\n",
       "      <td>0</td>\n",
       "      <td>0</td>\n",
       "      <td>7</td>\n",
       "      <td>2</td>\n",
       "      <td>3</td>\n",
       "      <td>3</td>\n",
       "      <td>2</td>\n",
       "      <td>2</td>\n",
       "      <td>2</td>\n",
       "      <td>2</td>\n",
       "      <td>...</td>\n",
       "      <td>0</td>\n",
       "      <td>0</td>\n",
       "      <td>0</td>\n",
       "      <td>0</td>\n",
       "      <td>0</td>\n",
       "      <td>0</td>\n",
       "      <td>0</td>\n",
       "      <td>0</td>\n",
       "      <td>0</td>\n",
       "      <td>0</td>\n",
       "    </tr>\n",
       "    <tr>\n",
       "      <td>2</td>\n",
       "      <td>2</td>\n",
       "      <td>2</td>\n",
       "      <td>0</td>\n",
       "      <td>0</td>\n",
       "      <td>0</td>\n",
       "      <td>0</td>\n",
       "      <td>0</td>\n",
       "      <td>0</td>\n",
       "      <td>0</td>\n",
       "      <td>0</td>\n",
       "      <td>...</td>\n",
       "      <td>0</td>\n",
       "      <td>0</td>\n",
       "      <td>0</td>\n",
       "      <td>0</td>\n",
       "      <td>0</td>\n",
       "      <td>0</td>\n",
       "      <td>0</td>\n",
       "      <td>0</td>\n",
       "      <td>0</td>\n",
       "      <td>0</td>\n",
       "    </tr>\n",
       "    <tr>\n",
       "      <td>3</td>\n",
       "      <td>3</td>\n",
       "      <td>3</td>\n",
       "      <td>0</td>\n",
       "      <td>0</td>\n",
       "      <td>0</td>\n",
       "      <td>0</td>\n",
       "      <td>0</td>\n",
       "      <td>0</td>\n",
       "      <td>0</td>\n",
       "      <td>0</td>\n",
       "      <td>...</td>\n",
       "      <td>0</td>\n",
       "      <td>0</td>\n",
       "      <td>0</td>\n",
       "      <td>0</td>\n",
       "      <td>0</td>\n",
       "      <td>0</td>\n",
       "      <td>0</td>\n",
       "      <td>0</td>\n",
       "      <td>0</td>\n",
       "      <td>0</td>\n",
       "    </tr>\n",
       "    <tr>\n",
       "      <td>4</td>\n",
       "      <td>0</td>\n",
       "      <td>0</td>\n",
       "      <td>2</td>\n",
       "      <td>0</td>\n",
       "      <td>0</td>\n",
       "      <td>1</td>\n",
       "      <td>1</td>\n",
       "      <td>2</td>\n",
       "      <td>0</td>\n",
       "      <td>0</td>\n",
       "      <td>...</td>\n",
       "      <td>0</td>\n",
       "      <td>0</td>\n",
       "      <td>0</td>\n",
       "      <td>0</td>\n",
       "      <td>0</td>\n",
       "      <td>0</td>\n",
       "      <td>0</td>\n",
       "      <td>0</td>\n",
       "      <td>0</td>\n",
       "      <td>0</td>\n",
       "    </tr>\n",
       "    <tr>\n",
       "      <td>...</td>\n",
       "      <td>...</td>\n",
       "      <td>...</td>\n",
       "      <td>...</td>\n",
       "      <td>...</td>\n",
       "      <td>...</td>\n",
       "      <td>...</td>\n",
       "      <td>...</td>\n",
       "      <td>...</td>\n",
       "      <td>...</td>\n",
       "      <td>...</td>\n",
       "      <td>...</td>\n",
       "      <td>...</td>\n",
       "      <td>...</td>\n",
       "      <td>...</td>\n",
       "      <td>...</td>\n",
       "      <td>...</td>\n",
       "      <td>...</td>\n",
       "      <td>...</td>\n",
       "      <td>...</td>\n",
       "      <td>...</td>\n",
       "      <td>...</td>\n",
       "    </tr>\n",
       "    <tr>\n",
       "      <td>1995</td>\n",
       "      <td>0</td>\n",
       "      <td>0</td>\n",
       "      <td>0</td>\n",
       "      <td>0</td>\n",
       "      <td>0</td>\n",
       "      <td>10</td>\n",
       "      <td>0</td>\n",
       "      <td>0</td>\n",
       "      <td>0</td>\n",
       "      <td>0</td>\n",
       "      <td>...</td>\n",
       "      <td>0</td>\n",
       "      <td>0</td>\n",
       "      <td>0</td>\n",
       "      <td>0</td>\n",
       "      <td>0</td>\n",
       "      <td>0</td>\n",
       "      <td>0</td>\n",
       "      <td>0</td>\n",
       "      <td>0</td>\n",
       "      <td>0</td>\n",
       "    </tr>\n",
       "    <tr>\n",
       "      <td>1996</td>\n",
       "      <td>0</td>\n",
       "      <td>0</td>\n",
       "      <td>0</td>\n",
       "      <td>0</td>\n",
       "      <td>0</td>\n",
       "      <td>6</td>\n",
       "      <td>0</td>\n",
       "      <td>0</td>\n",
       "      <td>0</td>\n",
       "      <td>0</td>\n",
       "      <td>...</td>\n",
       "      <td>5</td>\n",
       "      <td>2</td>\n",
       "      <td>0</td>\n",
       "      <td>0</td>\n",
       "      <td>0</td>\n",
       "      <td>0</td>\n",
       "      <td>0</td>\n",
       "      <td>0</td>\n",
       "      <td>0</td>\n",
       "      <td>0</td>\n",
       "    </tr>\n",
       "    <tr>\n",
       "      <td>1997</td>\n",
       "      <td>0</td>\n",
       "      <td>0</td>\n",
       "      <td>4</td>\n",
       "      <td>0</td>\n",
       "      <td>2</td>\n",
       "      <td>7</td>\n",
       "      <td>0</td>\n",
       "      <td>0</td>\n",
       "      <td>0</td>\n",
       "      <td>0</td>\n",
       "      <td>...</td>\n",
       "      <td>0</td>\n",
       "      <td>0</td>\n",
       "      <td>1</td>\n",
       "      <td>1</td>\n",
       "      <td>1</td>\n",
       "      <td>1</td>\n",
       "      <td>0</td>\n",
       "      <td>0</td>\n",
       "      <td>0</td>\n",
       "      <td>0</td>\n",
       "    </tr>\n",
       "    <tr>\n",
       "      <td>1998</td>\n",
       "      <td>0</td>\n",
       "      <td>0</td>\n",
       "      <td>0</td>\n",
       "      <td>0</td>\n",
       "      <td>0</td>\n",
       "      <td>3</td>\n",
       "      <td>0</td>\n",
       "      <td>0</td>\n",
       "      <td>0</td>\n",
       "      <td>0</td>\n",
       "      <td>...</td>\n",
       "      <td>0</td>\n",
       "      <td>0</td>\n",
       "      <td>0</td>\n",
       "      <td>0</td>\n",
       "      <td>0</td>\n",
       "      <td>0</td>\n",
       "      <td>1</td>\n",
       "      <td>1</td>\n",
       "      <td>1</td>\n",
       "      <td>1</td>\n",
       "    </tr>\n",
       "    <tr>\n",
       "      <td>1999</td>\n",
       "      <td>0</td>\n",
       "      <td>0</td>\n",
       "      <td>0</td>\n",
       "      <td>0</td>\n",
       "      <td>0</td>\n",
       "      <td>6</td>\n",
       "      <td>0</td>\n",
       "      <td>0</td>\n",
       "      <td>0</td>\n",
       "      <td>0</td>\n",
       "      <td>...</td>\n",
       "      <td>0</td>\n",
       "      <td>0</td>\n",
       "      <td>0</td>\n",
       "      <td>0</td>\n",
       "      <td>0</td>\n",
       "      <td>0</td>\n",
       "      <td>0</td>\n",
       "      <td>0</td>\n",
       "      <td>0</td>\n",
       "      <td>0</td>\n",
       "    </tr>\n",
       "  </tbody>\n",
       "</table>\n",
       "<p>2000 rows × 11111 columns</p>\n",
       "</div>"
      ],
      "text/plain": [
       "      emailmessagemessage  object  i  contacting  would      investment  bank  \\\n",
       "0                       2       2  0           0      0   0           0     0   \n",
       "1                       0       0  7           2      3   3           2     2   \n",
       "2                       2       2  0           0      0   0           0     0   \n",
       "3                       3       3  0           0      0   0           0     0   \n",
       "4                       0       0  2           0      0   1           1     2   \n",
       "...                   ...     ... ..         ...    ...  ..         ...   ...   \n",
       "1995                    0       0  0           0      0  10           0     0   \n",
       "1996                    0       0  0           0      0   6           0     0   \n",
       "1997                    0       0  4           0      2   7           0     0   \n",
       "1998                    0       0  0           0      0   3           0     0   \n",
       "1999                    0       0  0           0      0   6           0     0   \n",
       "\n",
       "      funds  security  ...  comex  qualified  uncertainty  comfort  \\\n",
       "0         0         0  ...      0          0            0        0   \n",
       "1         2         2  ...      0          0            0        0   \n",
       "2         0         0  ...      0          0            0        0   \n",
       "3         0         0  ...      0          0            0        0   \n",
       "4         0         0  ...      0          0            0        0   \n",
       "...     ...       ...  ...    ...        ...          ...      ...   \n",
       "1995      0         0  ...      0          0            0        0   \n",
       "1996      0         0  ...      5          2            0        0   \n",
       "1997      0         0  ...      0          0            1        1   \n",
       "1998      0         0  ...      0          0            0        0   \n",
       "1999      0         0  ...      0          0            0        0   \n",
       "\n",
       "      enforceable  appearing  saunders  paulcc  cobb  wwwblackberrynet  \n",
       "0               0          0         0       0     0                 0  \n",
       "1               0          0         0       0     0                 0  \n",
       "2               0          0         0       0     0                 0  \n",
       "3               0          0         0       0     0                 0  \n",
       "4               0          0         0       0     0                 0  \n",
       "...           ...        ...       ...     ...   ...               ...  \n",
       "1995            0          0         0       0     0                 0  \n",
       "1996            0          0         0       0     0                 0  \n",
       "1997            1          1         0       0     0                 0  \n",
       "1998            0          0         1       1     1                 1  \n",
       "1999            0          0         0       0     0                 0  \n",
       "\n",
       "[2000 rows x 11111 columns]"
      ]
     },
     "execution_count": 18,
     "metadata": {},
     "output_type": "execute_result"
    }
   ],
   "source": [
    "# create bag-of-words model\n",
    "EnronSpamBag = assemble_bag(raw_data)\n",
    "# this is the list of words in our bag-of-words model\n",
    "predictors = [column for column in EnronSpamBag.columns]\n",
    "EnronSpamBag # display the model for the user"
   ]
  },
  {
   "cell_type": "code",
   "execution_count": 19,
   "metadata": {},
   "outputs": [
    {
     "name": "stdout",
     "output_type": "stream",
     "text": [
      "train_x/train_y list details, to make sure they are of the right form:\n",
      "1400\n",
      "[[ 0  0  0 ...  0  0  0]\n",
      " [ 0  0  0 ...  0  0  0]\n",
      " [ 0  0 12 ...  0  0  0]\n",
      " ...\n",
      " [ 0  0  3 ...  0  0  0]\n",
      " [ 0  0  6 ...  0  0  0]\n",
      " [ 0  0  2 ...  0  0  0]]\n",
      "[0 0 1 1 0]\n",
      "1400\n"
     ]
    }
   ],
   "source": [
    "# shuffle raw data first\n",
    "def unison_shuffle_data(data, header):\n",
    "    p = np.random.permutation(len(header))\n",
    "    data = data[p,:]\n",
    "    header = np.asarray(header)[p]\n",
    "    return data, header\n",
    "data, header = unison_shuffle_data(EnronSpamBag.values, header)\n",
    "\n",
    "# split into independent 70% training and 30% testing sets\n",
    "idx = int(0.7*data.shape[0])\n",
    "\n",
    "# 70% of data for training\n",
    "train_x = data[:idx,:]\n",
    "train_y = header[:idx]\n",
    "# # remaining 30% for testing\n",
    "test_x = data[idx:,:]\n",
    "test_y = header[idx:] \n",
    "\n",
    "print(\"train_x/train_y list details, to make sure they are of the right form:\")\n",
    "print(len(train_x))\n",
    "print(train_x)\n",
    "print(train_y[:5])\n",
    "print(len(train_y))"
   ]
  },
  {
   "cell_type": "markdown",
   "metadata": {},
   "source": [
    "Since 70% of 2000 is 1400, looks good! (for Nsamp=1000)\n",
    "\n",
    "Onwards!"
   ]
  },
  {
   "cell_type": "markdown",
   "metadata": {},
   "source": [
    "# Logistic Regression Classifier"
   ]
  },
  {
   "cell_type": "code",
   "execution_count": 20,
   "metadata": {},
   "outputs": [
    {
     "name": "stderr",
     "output_type": "stream",
     "text": [
      "/opt/conda/lib/python3.6/site-packages/sklearn/linear_model/logistic.py:432: FutureWarning: Default solver will be changed to 'lbfgs' in 0.22. Specify a solver to silence this warning.\n",
      "  FutureWarning)\n"
     ]
    }
   ],
   "source": [
    "from sklearn.linear_model import LogisticRegression\n",
    "\n",
    "def fit(train_x,train_y):\n",
    "    model = LogisticRegression()\n",
    "\n",
    "    try:\n",
    "        model.fit(train_x, train_y)\n",
    "    except:\n",
    "        pass\n",
    "    return model\n",
    "\n",
    "model = fit(train_x,train_y)"
   ]
  },
  {
   "cell_type": "code",
   "execution_count": 21,
   "metadata": {},
   "outputs": [
    {
     "name": "stdout",
     "output_type": "stream",
     "text": [
      "DEBUG::The logistic regression predicted labels are::\n",
      "[1 0 0 0 1 1 1 1 1 0 1 1 1 0 0 1 0 0 1 1 1 1 1 1 0 1 0 0 0 0 1 1 0 1 1 1 1\n",
      " 1 1 0 1 1 1 0 0 0 0 1 0 0 1 0 0 1 1 1 1 0 1 0 1 0 0 1 1 1 1 0 0 0 1 1 0 0\n",
      " 1 0 1 1 0 1 0 0 1 0 0 0 1 1 1 0 1 0 1 1 0 0 1 0 1 0 1 0 0 1 0 1 1 0 1 0 1\n",
      " 1 0 0 0 0 0 1 0 0 0 0 0 0 1 0 0 0 1 1 1 1 0 0 0 1 0 0 0 0 1 1 1 1 1 0 0 0\n",
      " 0 1 0 1 1 0 0 0 0 1 0 0 1 1 1 1 1 1 1 0 1 0 1 0 1 1 1 0 1 0 1 1 0 0 0 0 0\n",
      " 1 1 1 0 0 1 0 0 1 0 0 0 1 1 1 0 0 0 0 1 0 0 0 1 0 1 0 1 0 1 1 0 0 1 0 1 0\n",
      " 0 1 1 0 1 0 0 1 1 1 1 0 1 0 1 0 0 1 0 1 1 0 1 1 0 0 0 1 1 0 1 1 1 0 0 0 1\n",
      " 1 1 1 1 0 1 0 1 0 0 1 1 0 1 0 1 1 1 0 1 1 0 0 1 0 1 1 0 1 0 0 1 1 0 0 0 0\n",
      " 0 0 1 1 0 1 1 0 1 0 1 1 1 1 1 1 1 1 1 1 1 0 1 0 1 1 0 1 1 1 0 1 1 1 1 0 1\n",
      " 0 0 0 1 0 1 0 0 0 1 1 0 0 0 0 0 0 0 1 0 0 0 0 1 1 0 0 1 1 0 0 0 0 1 1 1 1\n",
      " 1 1 0 0 1 1 1 1 1 0 0 1 1 0 1 0 0 1 0 1 0 0 0 1 1 0 0 0 1 0 1 0 1 1 0 1 0\n",
      " 1 0 1 1 0 1 0 1 0 1 0 0 1 1 1 0 1 0 1 1 1 0 0 1 0 1 1 0 1 0 0 1 0 1 1 0 0\n",
      " 0 0 0 1 0 0 0 1 0 1 1 0 1 1 1 0 0 0 0 0 0 1 0 0 0 0 1 0 1 1 0 0 1 0 0 0 0\n",
      " 1 1 1 1 1 1 0 1 0 0 0 1 1 1 0 1 0 0 1 1 0 1 1 1 0 0 1 0 0 0 1 1 1 0 1 1 1\n",
      " 1 0 1 0 0 1 0 0 0 1 0 1 1 1 0 1 1 0 0 1 0 0 1 1 1 0 1 1 1 1 0 0 1 1 0 0 0\n",
      " 1 1 1 1 0 1 0 1 0 0 1 0 1 0 0 1 0 0 0 1 0 0 1 1 1 0 0 0 1 1 0 0 1 0 0 1 0\n",
      " 0 0 0 1 0 1 1 0]\n"
     ]
    }
   ],
   "source": [
    "predicted_labels = model.predict(test_x)\n",
    "\n",
    "# print all labels for full trasparency\n",
    "print(\"DEBUG::The logistic regression predicted labels are::\")\n",
    "print(predicted_labels)"
   ]
  },
  {
   "cell_type": "code",
   "execution_count": 22,
   "metadata": {},
   "outputs": [
    {
     "name": "stdout",
     "output_type": "stream",
     "text": [
      "DEBUG::The logistic regression accuracy score is::\n",
      "0.9866666666666667\n"
     ]
    }
   ],
   "source": [
    "from sklearn.metrics import accuracy_score\n",
    "\n",
    "acc_score = accuracy_score(test_y, predicted_labels)\n",
    "\n",
    "print(\"DEBUG::The logistic regression accuracy score is::\")\n",
    "print(acc_score)"
   ]
  },
  {
   "cell_type": "markdown",
   "metadata": {},
   "source": [
    "# Support Vector Machine Classifier"
   ]
  },
  {
   "cell_type": "code",
   "execution_count": 23,
   "metadata": {},
   "outputs": [],
   "source": [
    "import time\n",
    "from sklearn.svm import SVC # Support Vector Classification model"
   ]
  },
  {
   "cell_type": "code",
   "execution_count": 24,
   "metadata": {},
   "outputs": [
    {
     "name": "stdout",
     "output_type": "stream",
     "text": [
      "Training the SVC Classifier took 147 seconds\n",
      "DEBUG::The SVC Classifier predicted labels are::\n",
      "[1 0 1 0 0 1 1 1 1 0 1 0 1 0 0 0 0 0 1 1 1 1 0 0 0 1 1 0 1 0 1 0 0 0 1 1 1\n",
      " 1 1 0 0 1 0 0 0 0 0 1 0 0 1 0 0 1 1 1 0 0 1 0 1 0 0 1 1 1 1 1 0 1 0 1 0 0\n",
      " 0 0 0 1 0 1 0 0 1 0 0 0 1 1 1 0 0 0 1 0 0 0 1 0 1 0 1 0 0 1 0 1 1 0 1 0 0\n",
      " 1 0 0 0 0 0 1 0 0 0 0 0 0 0 0 0 1 0 1 1 1 0 0 0 0 0 0 0 0 1 1 1 1 0 0 0 0\n",
      " 1 1 0 1 1 0 0 0 0 1 0 0 1 1 1 0 1 1 1 0 1 0 1 0 1 1 0 0 0 0 1 0 0 0 0 0 0\n",
      " 1 1 0 0 0 0 0 0 1 0 0 0 1 0 1 0 0 0 0 1 0 0 0 0 0 1 1 1 0 0 1 0 0 1 0 0 0\n",
      " 1 1 1 0 1 0 0 1 1 1 1 0 1 0 0 0 0 1 0 1 0 1 1 1 0 0 0 1 1 0 1 0 1 0 0 0 1\n",
      " 1 1 1 1 0 0 0 1 0 0 1 1 0 1 0 0 0 1 0 0 1 0 0 1 1 0 1 0 1 0 0 1 1 0 0 0 0\n",
      " 0 0 1 1 0 1 1 0 1 0 1 1 0 1 1 0 1 0 0 0 1 0 1 1 1 0 0 0 0 0 0 1 1 1 1 0 1\n",
      " 0 0 0 1 0 0 0 0 0 1 1 0 0 1 0 0 0 0 1 0 0 0 0 1 0 0 0 0 0 0 0 0 0 1 1 1 1\n",
      " 1 1 0 0 1 1 1 1 1 1 0 1 1 0 1 0 0 1 0 1 0 0 0 0 1 0 0 0 1 0 1 1 1 0 0 1 0\n",
      " 1 0 1 1 0 1 0 1 0 1 0 0 1 1 1 0 0 0 1 1 0 0 0 1 0 0 1 0 1 0 0 0 0 1 1 0 0\n",
      " 0 0 0 1 0 0 0 1 0 1 1 0 1 0 0 0 0 0 1 0 0 1 0 0 0 0 1 0 0 1 0 0 1 0 0 0 0\n",
      " 1 1 1 1 1 0 0 1 0 0 0 1 1 1 0 0 0 0 0 1 0 1 1 1 0 0 1 0 0 0 0 0 1 0 0 1 1\n",
      " 1 0 0 0 0 1 0 0 0 1 0 0 0 1 0 0 1 0 0 1 0 0 0 1 1 0 1 1 1 0 0 0 0 0 0 1 0\n",
      " 1 1 0 1 0 0 0 0 0 0 1 0 0 0 0 1 0 0 0 1 0 0 0 1 0 0 0 0 1 1 0 0 1 0 0 0 0\n",
      " 0 0 0 1 0 0 0 0]\n",
      "DEBUG::The SVC Classifier accuracy score is::\n",
      "0.8266666666666667\n"
     ]
    }
   ],
   "source": [
    "# Create a support vector classifier\n",
    "clf = SVC(C=1, gamma=\"auto\", probability=True)\n",
    "\n",
    "# Fit the classifier using the training data\n",
    "start_time = time.time()\n",
    "clf.fit(train_x, train_y)\n",
    "end_time = time.time()\n",
    "print(\"Training the SVC Classifier took %3d seconds\"%(end_time-start_time))\n",
    "\n",
    "predicted_labels = clf.predict(test_x)\n",
    "print(\"DEBUG::The SVC Classifier predicted labels are::\")\n",
    "print(predicted_labels)\n",
    "\n",
    "acc_score = accuracy_score(test_y, predicted_labels)\n",
    "\n",
    "print(\"DEBUG::The SVC Classifier accuracy score is::\")\n",
    "print(acc_score)"
   ]
  },
  {
   "cell_type": "markdown",
   "metadata": {},
   "source": [
    "# Random Forests"
   ]
  },
  {
   "cell_type": "code",
   "execution_count": 25,
   "metadata": {},
   "outputs": [
    {
     "name": "stderr",
     "output_type": "stream",
     "text": [
      "/opt/conda/lib/python3.6/site-packages/sklearn/ensemble/forest.py:245: FutureWarning: The default value of n_estimators will change from 10 in version 0.20 to 100 in 0.22.\n",
      "  \"10 in version 0.20 to 100 in 0.22.\", FutureWarning)\n"
     ]
    },
    {
     "name": "stdout",
     "output_type": "stream",
     "text": [
      "Training the Random Forest Classifier took   0 seconds\n",
      "DEBUG::The RF predicted labels are::\n",
      "[1 0 0 0 1 1 1 1 1 0 1 1 1 0 0 1 0 0 1 1 1 1 1 1 0 1 0 0 0 0 1 1 0 1 1 1 1\n",
      " 1 1 0 1 1 1 0 0 0 0 1 0 0 1 0 1 1 1 1 1 0 1 0 1 0 0 1 1 1 1 1 0 0 1 1 0 0\n",
      " 1 0 1 1 0 1 0 0 1 0 0 0 1 1 1 0 1 0 1 1 0 0 1 0 0 0 1 0 1 0 0 1 1 0 1 0 1\n",
      " 1 0 0 0 0 0 1 0 0 0 0 0 0 1 0 0 0 1 1 1 1 0 0 0 1 0 0 0 0 1 1 1 0 1 0 0 0\n",
      " 0 1 0 1 1 0 0 0 0 1 0 0 1 1 1 1 1 1 1 0 1 0 0 0 1 1 1 0 1 0 1 1 0 0 0 0 0\n",
      " 1 0 1 0 0 1 0 0 1 0 0 0 1 0 1 0 0 0 0 1 0 0 0 1 0 1 0 1 0 1 1 0 0 1 0 1 0\n",
      " 0 1 1 0 1 0 0 1 1 1 1 0 1 0 1 0 0 1 0 1 1 0 1 1 0 0 0 1 1 0 1 1 1 0 0 0 1\n",
      " 1 1 1 1 0 1 0 1 0 0 1 1 0 0 0 1 1 1 0 1 1 0 0 1 1 1 1 0 1 0 0 1 1 0 0 0 0\n",
      " 1 0 1 1 0 1 1 0 1 0 1 1 1 1 1 1 1 1 1 1 1 0 1 0 1 1 0 1 1 1 0 1 1 1 1 0 1\n",
      " 0 0 0 1 0 1 0 0 0 1 1 0 0 0 0 0 0 0 1 0 0 0 0 1 1 0 0 0 1 0 0 0 0 1 1 1 1\n",
      " 1 1 0 0 1 1 1 1 1 0 0 1 1 0 1 0 0 1 0 1 0 0 0 1 1 0 0 0 1 0 1 0 1 1 0 1 0\n",
      " 1 0 1 1 0 1 0 1 0 1 0 0 1 1 1 0 0 0 1 1 1 0 0 1 0 1 1 0 1 0 0 1 0 1 1 0 0\n",
      " 0 0 0 1 0 0 0 1 0 1 1 0 1 1 1 0 0 0 1 0 0 1 0 0 0 0 1 0 1 1 0 0 1 0 0 0 0\n",
      " 1 1 1 1 1 1 0 1 0 0 0 1 1 1 0 1 0 0 1 1 0 1 1 1 0 0 1 0 0 0 1 1 1 0 1 1 1\n",
      " 1 0 1 0 0 1 0 0 0 1 0 1 1 1 0 1 1 0 0 1 0 0 1 1 1 0 1 1 1 1 0 0 1 1 0 0 0\n",
      " 1 1 1 1 0 1 0 1 0 0 1 0 1 0 0 1 0 0 0 1 0 0 1 1 1 0 0 0 1 1 0 0 1 0 0 1 0\n",
      " 0 0 0 1 0 1 1 0]\n",
      "DEBUG::The RF testing accuracy score is::\n",
      "0.9683333333333334\n"
     ]
    }
   ],
   "source": [
    "# Load scikit's random forest classifier library\n",
    "from sklearn.ensemble import RandomForestClassifier\n",
    "\n",
    "# Create a random forest Classifier. By convention, clf means 'Classifier'\n",
    "clf = RandomForestClassifier(n_jobs=1, random_state=0)\n",
    "\n",
    "# Train the Classifier to take the training features and learn how they relate\n",
    "# to the training y (spam, not spam?)\n",
    "start_time = time.time()\n",
    "clf.fit(train_x, train_y)\n",
    "end_time = time.time()\n",
    "print(\"Training the Random Forest Classifier took %3d seconds\"%(end_time-start_time))\n",
    "\n",
    "predicted_labels = clf.predict(test_x)\n",
    "print(\"DEBUG::The RF predicted labels are::\")\n",
    "print(predicted_labels)\n",
    "\n",
    "acc_score = accuracy_score(test_y, predicted_labels)\n",
    "\n",
    "print(\"DEBUG::The RF testing accuracy score is::\")\n",
    "print(acc_score)"
   ]
  },
  {
   "cell_type": "code",
   "execution_count": 26,
   "metadata": {},
   "outputs": [
    {
     "name": "stdout",
     "output_type": "stream",
     "text": [
      "Available hyper-parameters for systematic tuning available with RF:\n",
      "{'bootstrap': True, 'class_weight': None, 'criterion': 'gini', 'max_depth': None, 'max_features': 'auto', 'max_leaf_nodes': None, 'min_impurity_decrease': 0.0, 'min_impurity_split': None, 'min_samples_leaf': 1, 'min_samples_split': 2, 'min_weight_fraction_leaf': 0.0, 'n_estimators': 10, 'n_jobs': 1, 'oob_score': False, 'random_state': 0, 'verbose': 0, 'warm_start': False}\n",
      "Fitting 3 folds for each of 27 candidates, totalling 81 fits\n"
     ]
    },
    {
     "name": "stderr",
     "output_type": "stream",
     "text": [
      "[Parallel(n_jobs=-1)]: Using backend LokyBackend with 4 concurrent workers.\n",
      "[Parallel(n_jobs=-1)]: Done  33 tasks      | elapsed:  1.8min\n",
      "[Parallel(n_jobs=-1)]: Done  81 out of  81 | elapsed:  4.3min finished\n"
     ]
    },
    {
     "name": "stdout",
     "output_type": "stream",
     "text": [
      "Best parameters found:\n",
      "{'min_samples_leaf': 1, 'min_samples_split': 6, 'n_estimators': 1000}\n",
      "Estimated accuracy is:\n",
      "0.99\n"
     ]
    }
   ],
   "source": [
    "# Now, tune parameters systematically\n",
    "from sklearn.model_selection import GridSearchCV\n",
    "\n",
    "print(\"Available hyper-parameters for systematic tuning available with RF:\")\n",
    "print(clf.get_params())\n",
    "\n",
    "# select a subset of parameters to tune, and specify grid for each\n",
    "param_grid = {\n",
    "    'min_samples_leaf': [1, 2, 3],\n",
    "    'min_samples_split': [2, 6, 10],\n",
    "    'n_estimators': [10, 100, 1000]\n",
    "}\n",
    "grid_search = GridSearchCV(estimator = clf, param_grid = param_grid, \n",
    "                          cv = 3, n_jobs = -1, verbose = 2)\n",
    "\n",
    "# Fit the grid search to the data\n",
    "grid_search.fit(train_x, train_y)\n",
    "\n",
    "print(\"Best parameters found:\")\n",
    "print(grid_search.best_params_)\n",
    "\n",
    "print(\"Estimated accuracy is:\")\n",
    "acc_score = accuracy_score(test_y, grid_search.best_estimator_.predict(test_x))\n",
    "print(acc_score)"
   ]
  },
  {
   "cell_type": "markdown",
   "metadata": {},
   "source": [
    "# Gradient Boosting Machines"
   ]
  },
  {
   "cell_type": "code",
   "execution_count": 27,
   "metadata": {},
   "outputs": [
    {
     "name": "stdout",
     "output_type": "stream",
     "text": [
      "\n",
      "Model Report\n",
      "Accuracy : 0.9986\n",
      "AUC Score (Train): 0.999484\n",
      "CV Score : Mean - 0.9949253 | Std - 0.003499314 | Min - 0.9904923 | Max - 0.999696\n",
      "Training the Gradient Boosting Classifier took 517 seconds\n",
      "DEBUG::The Gradient Boosting predicted labels are::\n",
      "[1 0 0 0 1 1 1 1 1 0 1 1 1 0 0 1 0 0 1 1 1 1 1 1 0 1 0 0 0 0 1 1 0 1 1 1 1\n",
      " 1 1 0 1 1 1 0 0 0 0 1 0 0 1 0 0 1 1 1 1 0 1 0 1 0 0 1 1 1 1 1 1 0 1 0 0 0\n",
      " 1 0 1 1 0 1 0 0 1 0 0 0 1 1 1 0 1 0 1 1 0 0 1 0 1 0 1 0 0 1 0 1 1 0 1 0 1\n",
      " 1 0 0 0 0 0 1 0 0 0 0 0 0 1 0 0 0 1 1 1 1 0 0 0 1 0 0 0 0 1 1 1 1 1 0 0 0\n",
      " 0 1 0 1 1 0 0 0 0 1 0 0 1 1 1 1 0 1 1 0 1 0 1 0 1 1 1 0 1 0 1 1 0 0 0 0 0\n",
      " 1 1 1 0 0 1 0 0 1 0 0 0 1 1 1 0 0 0 0 1 0 0 0 0 0 1 0 1 0 1 1 0 0 1 0 1 0\n",
      " 0 1 1 0 1 0 0 1 1 1 1 0 1 0 1 0 0 1 0 1 1 0 1 1 0 0 0 0 1 0 1 1 1 0 0 0 1\n",
      " 1 1 1 1 0 1 0 1 0 0 1 1 0 1 0 1 1 1 0 1 1 0 0 1 1 1 1 0 1 0 0 1 1 0 0 0 0\n",
      " 0 0 1 1 0 1 1 0 1 0 1 1 1 1 1 1 1 1 1 1 1 0 1 0 1 1 0 1 1 1 0 1 1 1 1 0 1\n",
      " 0 0 0 1 0 1 0 0 0 1 1 0 0 0 0 0 0 0 1 0 0 0 0 1 1 0 0 0 1 0 0 0 0 1 1 1 1\n",
      " 1 1 0 0 1 1 1 1 1 0 0 1 1 0 1 0 0 1 0 1 0 0 0 1 1 0 0 0 1 0 1 0 1 1 0 1 0\n",
      " 1 0 1 1 0 1 0 1 0 1 0 0 1 1 1 0 1 0 1 1 1 0 0 1 0 1 1 0 1 0 0 1 0 1 1 0 0\n",
      " 0 0 0 1 0 0 0 1 0 1 1 0 1 1 1 0 0 0 0 0 0 1 0 0 0 0 1 0 1 1 0 0 1 0 0 0 0\n",
      " 1 1 1 1 1 1 0 1 0 0 0 1 1 1 0 1 0 0 1 1 0 1 1 1 0 0 1 0 0 0 1 1 1 0 1 1 1\n",
      " 1 0 1 0 0 1 0 0 0 1 0 0 1 1 0 1 1 0 0 1 0 0 1 1 1 0 1 1 1 1 0 0 1 1 0 0 0\n",
      " 1 1 1 1 0 1 0 1 0 0 1 0 1 0 0 1 0 0 0 1 0 0 1 1 1 0 0 0 1 1 0 0 1 0 0 1 0\n",
      " 0 0 0 1 0 1 1 0]\n",
      "DEBUG::The Gradient Boosting testing accuracy score is::\n",
      "0.9783333333333334\n"
     ]
    }
   ],
   "source": [
    "from sklearn.ensemble import GradientBoostingClassifier  # GBM algorithm\n",
    "from sklearn import metrics   #Additional scklearn functions\n",
    "from sklearn.model_selection import cross_val_score, GridSearchCV\n",
    "\n",
    "def modelfit(alg, train_x, train_y, predictors, test_x, performCV=True, printFeatureImportance=False, cv_folds=5):\n",
    "    #Fit the algorithm on the data\n",
    "    alg.fit(train_x, train_y)\n",
    "        \n",
    "    #Predict training set:\n",
    "    predictions = alg.predict(train_x)\n",
    "    predprob = alg.predict_proba(train_x)[:,1]\n",
    "    \n",
    "    #Perform cross-validation:\n",
    "    if performCV:\n",
    "        cv_score = cross_val_score(alg, train_x, train_y, cv=cv_folds, scoring='roc_auc')\n",
    "    \n",
    "    #Print model report:\n",
    "    print(\"\\nModel Report\")\n",
    "    print(\"Accuracy : %.4g\" % metrics.accuracy_score(train_y,predictions))\n",
    "    print(\"AUC Score (Train): %f\" % metrics.roc_auc_score(train_y, predprob))\n",
    "    \n",
    "    if performCV:\n",
    "        print(\"CV Score : Mean - %.7g | Std - %.7g | Min - %.7g | Max - %.7g\" % (np.mean(cv_score),np.std(cv_score),np.min(cv_score),np.max(cv_score)))\n",
    "        \n",
    "    #Print Feature Importance:\n",
    "    if printFeatureImportance:\n",
    "        feat_imp = pd.Series(alg.feature_importances_, predictors).sort_values(ascending=False)\n",
    "        feat_imp[:10].plot(kind='bar', title='Feature Importances')\n",
    "        \n",
    "    return alg.predict(test_x),alg.predict_proba(test_x)\n",
    "        \n",
    "gbm0 = GradientBoostingClassifier(random_state=10)\n",
    "\n",
    "start_time = time.time()\n",
    "test_predictions, test_probs = modelfit(gbm0, train_x, train_y, predictors, test_x)\n",
    "end_time = time.time()\n",
    "\n",
    "print(\"Training the Gradient Boosting Classifier took %3d seconds\"%(end_time-start_time))\n",
    "\n",
    "predicted_labels = test_predictions\n",
    "print(\"DEBUG::The Gradient Boosting predicted labels are::\")\n",
    "print(predicted_labels)\n",
    "\n",
    "acc_score = accuracy_score(test_y, predicted_labels)\n",
    "\n",
    "print(\"DEBUG::The Gradient Boosting testing accuracy score is::\")\n",
    "print(acc_score)"
   ]
  },
  {
   "cell_type": "code",
   "execution_count": 28,
   "metadata": {},
   "outputs": [
    {
     "data": {
      "image/png": "[encoded data removed]",
      "text/plain": [
       "<Figure size 432x288 with 1 Axes>"
      ]
     },
     "metadata": {
      "needs_background": "light"
     },
     "output_type": "display_data"
    }
   ],
   "source": [
    "# Make an ROC curve\n",
    "test_probs_max = [] # first need to find probabilities corresponding\n",
    "                    # to most likely class (max probability)\n",
    "for i in range(test_probs.shape[0]):\n",
    "    test_probs_max.append(test_probs[i,test_y[i]])\n",
    "len(test_probs_max)\n",
    "\n",
    "# now, generate the curve data\n",
    "fpr, tpr, thresholds = metrics.roc_curve(test_y, np.array(test_probs_max))\n",
    "\n",
    "# plot curve data\n",
    "import matplotlib.pyplot as plt\n",
    "fig,ax = plt.subplots()\n",
    "plt.plot(fpr,tpr,label='ROC curve')\n",
    "plt.plot([0, 1], [0, 1], color='navy', linestyle='--')\n",
    "plt.xlabel('False Positive Rate')\n",
    "plt.ylabel('True Positive Rate')\n",
    "plt.title('Receiver Operating Characteristic for Email Example')\n",
    "plt.legend(loc=\"lower right\")\n",
    "plt.show()"
   ]
  },
  {
   "cell_type": "markdown",
   "metadata": {},
   "source": [
    "Now, save the image and make it downloadable, so you can use it in local documents"
   ]
  },
  {
   "cell_type": "code",
   "execution_count": 29,
   "metadata": {},
   "outputs": [],
   "source": [
    "fig.savefig('ROC.eps', format='eps',bbox_inches='tight')\n",
    "fig.savefig('ROC.pdf', format='pdf',bbox_inches='tight')\n",
    "fig.savefig('ROC.png', format='png',bbox_inches='tight')\n",
    "fig.savefig('ROC.svg', format='svg',bbox_inches='tight')"
   ]
  },
  {
   "cell_type": "code",
   "execution_count": 30,
   "metadata": {},
   "outputs": [
    {
     "data": {
      "text/html": [
       "<a href=ROC.svg>Download file</a>"
      ],
      "text/plain": [
       "<IPython.core.display.HTML object>"
      ]
     },
     "execution_count": 30,
     "metadata": {},
     "output_type": "execute_result"
    }
   ],
   "source": [
    "# Save .svg of ROC\n",
    "from IPython.display import HTML\n",
    "def create_download_link(title = \"Download file\", filename = \"ROC.svg\"):  \n",
    "    html = '<a href={filename}>{title}</a>'\n",
    "    html = html.format(title=title,filename=filename)\n",
    "    return HTML(html)\n",
    "\n",
    "create_download_link(filename='ROC.svg')"
   ]
  }
 ],
 "metadata": {
  "kernelspec": {
   "display_name": "Python 3",
   "language": "python",
   "name": "python3"
  },
  "language_info": {
   "codemirror_mode": {
    "name": "ipython",
    "version": 3
   },
   "file_extension": ".py",
   "mimetype": "text/x-python",
   "name": "python",
   "nbconvert_exporter": "python",
   "pygments_lexer": "ipython3",
   "version": "3.6.6"
  }
 },
 "nbformat": 4,
 "nbformat_minor": 4
}
