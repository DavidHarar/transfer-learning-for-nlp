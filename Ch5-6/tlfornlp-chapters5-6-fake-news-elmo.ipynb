{
 "cells": [
  {
   "cell_type": "markdown",
   "metadata": {},
   "source": [
    "# Preliminaries\n",
    "First install a critical dependency for our code"
   ]
  },
  {
   "cell_type": "code",
   "execution_count": 1,
   "metadata": {},
   "outputs": [
    {
     "name": "stdout",
     "output_type": "stream",
     "text": [
      "Collecting keras==2.2.4\r\n",
      "\u001b[?25l  Downloading https://files.pythonhosted.org/packages/5e/10/aa32dad071ce52b5502266b5c659451cfd6ffcbf14e6c8c4f16c0ff5aaab/Keras-2.2.4-py2.py3-none-any.whl (312kB)\r\n",
      "\u001b[K     |████████████████████████████████| 317kB 1.3MB/s \r\n",
      "\u001b[?25hRequirement already satisfied: six>=1.9.0 in /opt/conda/lib/python3.6/site-packages (from keras==2.2.4) (1.12.0)\r\n",
      "Requirement already satisfied: h5py in /opt/conda/lib/python3.6/site-packages (from keras==2.2.4) (2.9.0)\r\n",
      "Requirement already satisfied: pyyaml in /opt/conda/lib/python3.6/site-packages (from keras==2.2.4) (5.1.2)\r\n",
      "Requirement already satisfied: keras-applications>=1.0.6 in /opt/conda/lib/python3.6/site-packages (from keras==2.2.4) (1.0.8)\r\n",
      "Requirement already satisfied: numpy>=1.9.1 in /opt/conda/lib/python3.6/site-packages (from keras==2.2.4) (1.16.4)\r\n",
      "Requirement already satisfied: scipy>=0.14 in /opt/conda/lib/python3.6/site-packages (from keras==2.2.4) (1.2.1)\r\n",
      "Requirement already satisfied: keras-preprocessing>=1.0.5 in /opt/conda/lib/python3.6/site-packages (from keras==2.2.4) (1.1.0)\r\n",
      "Installing collected packages: keras\r\n",
      "  Found existing installation: Keras 2.3.0\r\n",
      "    Uninstalling Keras-2.3.0:\r\n",
      "      Successfully uninstalled Keras-2.3.0\r\n",
      "Successfully installed keras-2.2.4\r\n"
     ]
    }
   ],
   "source": [
    "!pip install keras==2.2.4 # critical dependency, "
   ]
  },
  {
   "cell_type": "markdown",
   "metadata": {},
   "source": [
    "Write requirements to file, anytime you run it, in case you have to go back and recover dependencies.\n",
    "\n",
    "Latest known such requirements are hosted for each notebook in the companion github repo, and can be pulled down and installed here if needed. Companion github repo is located at https://github.com/azunre/transfer-learning-for-nlp"
   ]
  },
  {
   "cell_type": "code",
   "execution_count": 2,
   "metadata": {},
   "outputs": [],
   "source": [
    "!pip freeze > kaggle_image_requirements.txt"
   ]
  },
  {
   "cell_type": "markdown",
   "metadata": {},
   "source": [
    "# Read and Preprocess Fake News Dataset\n",
    "First let's list the available data files"
   ]
  },
  {
   "cell_type": "code",
   "execution_count": 3,
   "metadata": {},
   "outputs": [
    {
     "name": "stdout",
     "output_type": "stream",
     "text": [
      "/kaggle/input/fake-and-real-news-dataset/True.csv\n",
      "/kaggle/input/fake-and-real-news-dataset/Fake.csv\n"
     ]
    }
   ],
   "source": [
    "# Input data files are available in the \"../input/\" directory.\n",
    "# For example, running this (by clicking run or pressing Shift+Enter) will list all files under the input directory\n",
    "import os\n",
    "for dirname, _, filenames in os.walk('/kaggle/input'):\n",
    "    for filename in filenames:\n",
    "        print(os.path.join(dirname, filename))\n",
    "\n",
    "# Any results you write to the current directory are saved as output."
   ]
  },
  {
   "cell_type": "markdown",
   "metadata": {},
   "source": [
    "Read in the \"true\" and \"fake\" data\n",
    "\n",
    "In quotes, because that has the potential to simply replicate the biases of the labeler, so should be carefully evaluated"
   ]
  },
  {
   "cell_type": "code",
   "execution_count": 4,
   "metadata": {},
   "outputs": [
    {
     "name": "stdout",
     "output_type": "stream",
     "text": [
      "Data labeled as True:\n",
      "                                               title  \\\n",
      "0  As U.S. budget fight looms, Republicans flip t...   \n",
      "1  U.S. military to accept transgender recruits o...   \n",
      "2  Senior U.S. Republican senator: 'Let Mr. Muell...   \n",
      "3  FBI Russia probe helped by Australian diplomat...   \n",
      "4  Trump wants Postal Service to charge 'much mor...   \n",
      "\n",
      "                                                text       subject  \\\n",
      "0  WASHINGTON (Reuters) - The head of a conservat...  politicsNews   \n",
      "1  WASHINGTON (Reuters) - Transgender people will...  politicsNews   \n",
      "2  WASHINGTON (Reuters) - The special counsel inv...  politicsNews   \n",
      "3  WASHINGTON (Reuters) - Trump campaign adviser ...  politicsNews   \n",
      "4  SEATTLE/WASHINGTON (Reuters) - President Donal...  politicsNews   \n",
      "\n",
      "                 date  \n",
      "0  December 31, 2017   \n",
      "1  December 29, 2017   \n",
      "2  December 31, 2017   \n",
      "3  December 30, 2017   \n",
      "4  December 29, 2017   \n",
      "\n",
      "\n",
      "\n",
      "Data labeled as Fake:\n",
      "                                               title  \\\n",
      "0   Donald Trump Sends Out Embarrassing New Year’...   \n",
      "1   Drunk Bragging Trump Staffer Started Russian ...   \n",
      "2   Sheriff David Clarke Becomes An Internet Joke...   \n",
      "3   Trump Is So Obsessed He Even Has Obama’s Name...   \n",
      "4   Pope Francis Just Called Out Donald Trump Dur...   \n",
      "\n",
      "                                                text subject  \\\n",
      "0  Donald Trump just couldn t wish all Americans ...    News   \n",
      "1  House Intelligence Committee Chairman Devin Nu...    News   \n",
      "2  On Friday, it was revealed that former Milwauk...    News   \n",
      "3  On Christmas day, Donald Trump announced that ...    News   \n",
      "4  Pope Francis used his annual Christmas Day mes...    News   \n",
      "\n",
      "                date  \n",
      "0  December 31, 2017  \n",
      "1  December 31, 2017  \n",
      "2  December 30, 2017  \n",
      "3  December 29, 2017  \n",
      "4  December 25, 2017  \n"
     ]
    }
   ],
   "source": [
    "import numpy as np # linear algebra\n",
    "import pandas as pd # data processing, CSV file I/O (e.g. pd.read_csv)\n",
    "\n",
    "# Read the data into pandas DataFrames\n",
    "DataTrue = pd.read_csv(\"/kaggle/input/fake-and-real-news-dataset/True.csv\")\n",
    "DataFake = pd.read_csv(\"/kaggle/input/fake-and-real-news-dataset/Fake.csv\")\n",
    "\n",
    "print(\"Data labeled as True:\")\n",
    "print(DataTrue.head())\n",
    "print(\"\\n\\n\\nData labeled as Fake:\")\n",
    "print(DataFake.head())"
   ]
  },
  {
   "cell_type": "markdown",
   "metadata": {},
   "source": [
    "Assemble the two different kinds of data"
   ]
  },
  {
   "cell_type": "code",
   "execution_count": 5,
   "metadata": {},
   "outputs": [
    {
     "name": "stdout",
     "output_type": "stream",
     "text": [
      "Length of combined data is:\n",
      "2000\n",
      "Data represented as numpy array (first 5 samples) is:\n",
      "['eleven injured in car crash near london museum, terrorism ruled outlondon (reuters) - eleven people were injured on saturday when a car collided with pedestrians near london s natural history museum, in one of the capital s busiest tourist areas, but police doused concerns it was a terrorist attack, saying it was a road traffic incident.  police said it was believed the car had mounted the pavement outside the popular attraction in west london and collided with a number of pedestrians.  officers had arrested a man aged in his 40s at the scene and he was now being questioned on suspicion of dangerous driving after being taken to hospital for treatment. britain has suffered five attacks blamed on terrorism so far this year, three of which involved vehicles, and the incident in an area packed with tourists at the weekend had prompted concerns that the collision had been a deliberate act.  the incident is entirely a road traffic investigation and is not a terrorist-related incident,  a police statement said.  london s ambulance service said they had treated 11 people, mostly for head and leg injuries, with nine taken to hospital. police said none of the injuries were life-threatening or life-changing and the majority of those hospitalized had now been discharged. unverified footage from the scene showed a man being pinned to the ground near a crashed black toyota car. oliver cheshire, a model who is the fianc  of british pop singer pixie lott, told the daily mail newspaper he was one of those who had helped detain the man. he said three female passengers in the car told him it was a private-hire taxi.  he was driving down the pavement and hit 11 to 12 people. then the guy was screaming,  he told the paper.  he looked at me and i was really in shock. i got out of my car and grabbed him   three of us grabbed him   and someone phoned the police.  cheshire later wrote on twitter:  thanks for messaging everybody. i m ok. thank you to the men who helped me pin him down and the police for coming so quickly.  neither police nor transport for london, which runs most of the city s transport system, would comment on the status of the vehicle.  my thanks to the first responders at this incident this afternoon and the actions of members of the public. my thoughts are with the injured,  prime minister theresa may said on twitter. britain is on its second highest security alert level, meaning an attack by militants is considered highly likely.  in march, a man drove a car into pedestrians on london s westminster bridge killing four before stabbing a police officer to death in the grounds of parliament. three islamist militants drove into people on london bridge in june before stabbing people at nearby restaurants and bars, killing eight. the same month, a van was driven into worshippers near a mosque in north london which left one man dead. october 7, 2017 ', 'damages for grenfell fire victims may total just $5 million: reuters analysis (this oct. 18 story corrects age in paragraph 19 to five, not six) by tom bergin london (reuters) - the bill for compensating families of those who died in the grenfell tower fire in london may be as low as 4 million pounds ($5 million), according to several lawyers and a reuters analysis of how damages laws apply in england. the blaze engulfed a 24-storey social housing block in west london on june 14, killing an estimated 80 people in the country s deadliest fire since world war two. while similar disasters in the united states have led to massive payouts, any compensation for grenfell would be far lower because english laws offer less generous damages and don t allow punitive claims, even if companies are found criminally responsible, said brett dixon, president of the association of personal injury lawyers (apil). the four main firms that have been linked to the grenfell fire - u.s. companies arconic inc. and whirlpool corp. and britain s harley facades and rydon group - declined to comment on the size or calculation of potential payouts. the reuters calculation of a bill of 4 million pounds is based on the compensation amounts stipulated in the fatal accidents act of 1976, precedents set in previous cases and the individual circumstances of the 70 victims identified so far. three personal injury lawyers have verified the methodology used by reuters and said the estimate for the total payout is reasonable. if the courts find there was no unlawful behavior by any of the companies or public bodies involved, victims will not be entitled to sue for compensation and would only get the financial support and temporary housing already provided by the government and public donations, personal injury lawyers said.  the british judicial system is not renowned for being generous,  said rebecca thomas of law firm duncan lewis, which is representing some victims  families.  it s not about money for the families,  said tim murphy, whose brother denis, a disabled former painter who lived on the 14th floor, died in the fire.  nothing can ease our pain, (but) i think it s quite insulting.  the u.s. legal system sees punitive damages as a way of encouraging companies to behave lawfully, but british and european governments have taken the view this approach would put excessive burdens on the judicial system, businesses, insurers and state bodies that might be liable, some legal experts say. while apil said the grenfell tower disaster demonstrated the inadequacy of payouts to victims, duncan fairgrieve, who has advised the uk government on compensation rules, said more generous payouts could also harm society. they could drive up insurance costs for all and lead to big claims against government bodies such as the national health service and the police, he said.  there is an affordability issue,  said fairgrieve, a senior research fellow at the british institute of international and comparative law. if the courts find someone was wrongfully killed, the claim categories are a flat 12,980 pounds per victim for bereavement, costs such as funeral bills, dependency damages where minors or dependent spouses are left behind, and property damage - all to be paid by the party found responsible. under the 1976 law, only family members who were supported by those who died can claim dependency damages. reuters has identified only five people who died leaving dependents who could definitely claim damages - on the basis they were financially dependent on the deceased. daniel machover, a lawyer at hickman and rose, which is representing some victims  families, also said he didn t expect there to be many claims. most of the others who died in the fire were minors, single or elderly and did not leave family members who were financially dependent upon them. the biggest dependency payout will be for children who lost both parents, said lawyers representing some of the victims. one five-year-old girl, tasnim belkadi, lost her mother, father and all her siblings in the fire. lawyers said she could get 300,000 pounds, based on a share of her parents  income and some childcare costs up to her 18th birthday. her aunt, with whom she now lives, did not respond to requests for comment on the reuters calculation. grenfell plaintiffs can also claim expenses they incurred as the result of a death, such as the cost of a modest funeral. heirs to the deceased could also claim the value of goods lost in the fire. the association of british insurers puts the cost of replacing the contents of an average three-bedroom home at 55,000 pounds. however, thomas said grenfell claims would probably be less than 30,000 pounds per property because compensation is based on the market value of personal belongings rather than replacement value, and the flats destroyed had only one or two bedrooms. based on the victims  circumstances, reuters has calculated the payout for dependency damages could be 1.2 million pounds, for property it could be 1.4 million and for bereavement it could come to 1.0 million. other smaller claims for costs and loss of parental guidance take the total to 4 million pounds. police said the fire started in a fridge freezer made by a subsidiary of u.s. company whirlpool and have been investigating whether the tower s cladding, made by u.s. firm arconic inc., played a role in the spread of the blaze. arconic said it was up to contractors to ensure its products were used correctly. whirlpool said it was investigating the fire. rydon group, the contractor that oversaw the refurbishment when the new cladding was added, said it had complied with all regulations. sub-contractor harley facades ltd said it was not aware of any link between the fire and the cladding. fears among investors that companies linked to grenfell could be sued for large sums in the united states hit their shares. whirlpool s market value fell about $250 million on june 23 when police identified the maker of the appliance as hotpoint, a brand owned by indesit, which is a subsidiary of whirlpool based in italy. more than $1 billion was wiped off arconic inc. s value after reuters reported in june that internal emails showed it had supplied flammable cladding panels, knowing they would be used on the tower and despite warning in its brochures that only non-combustible panels should be used on tall buildings. arconic s share price has recovered since its late june lows but it and whirlpool s stock are below the levels they were at just before the fire, while the dow jones industrial average has climbed 7 percent over the same period. awards against companies in u.s. courts have run into the tens of millions of dollars per family in some cases. in 1980, a fire blamed in part on inadequate fire safety measures killed 85 people at the mgm grand hotel in nevada and injured hundreds. the hotel operator and contractors agreed to pay victims  families and survivors more than $200 million. foreigners have often tried to sue u.s. corporations in u.s. courts over alleged wrongdoing abroad. however, judges have consistently ruled they lacked jurisdiction in such cases, saying adequate tribunals existed in the plaintiff s own country and that it would be hard for defendants to make their case in the united states. machover at hickman and rose said he was considering whether grenfell victims could bring a u.s. case on the basis that two of the companies involved were based there. but thomas at duncan lewis and leigh day partner jill paterson were skeptical that u.s. courts would agree to hear grenfell claims given the united kingdom offers a reasonable forum for redress and because the u.s. companies were involved through european-registered subsidiaries.  i can t see any circumstances under which they could bring this in the united states,  said thomas. arconic and whirlpool declined to comment on the possibility of legal claims against them. october 18, 2017 ', 'obama says urges a wait-and-see approach on trump proposalslima (reuters) - u.s. president barack obama on sunday said that people should take a “wait-and-see” approach on president-elect donald trump as the real estate mogul works to assemble his choices for senior administration posts. obama said he could not guarantee trump would not pursue the policy positions he took during the campaign, but said the realities of the white house would force him to adjust how he approaches many issues. november 20, 2016 ', 'when trump tells supporters not to donate, they mostly listennew york (reuters) - donald trump likes to boast to his supporters that he’s so rich he doesn’t need outside money to pay for his presidential campaign. his fans seem happy to oblige him, according to financial disclosures released on sunday. the new york businessman’s quest to become the republican party’s presidential nominee has attracted massive crowds but only a trickle of donations, the disclosures filed with the u.s. federal election commission show. he raised just $2.6 million from donors in the last three months of 2015. three quarters of that money came from sales of merchandise like baseball caps bearing his campaign slogan “make america great again,” while only about $540,000 came from individuals giving more than $200. most of his republican rivals have raised far more. his nearest rival, senator ted cruz, raised $20.5 million, while former florida governor jeb bush, who was once the front runner but has fallen sharply in the polls, raised $7 million. yet trump still leads in every national poll as voters in iowa prepare to gather for the country’s nominating contest on monday.    the bulk of the cash trump is using to fund his presidential run comes from $12.6 million in loans he made to his campaign in 2015.  some of that money has gone right back to his businesses: his biggest campaign expenditure in the fourth quarter of 2015 was the $826,590 he paid tag air, inc, which runs his fleet of private aircraft, to shuttle him between campaign stops and his homes in new york and florida. trump’s second largest expenditure was $478,000 to wizbang solutions, a printing and design firm, followed by $411,000 his campaign paid to a consulting company that collects signatures to get candidates onto states’ election ballots. he’s the only billionaire in race, although a few of his competitors are millionaires. supporters across the country often say his financial independence appeals to them because they believe he can’t be bought by special interest groups.  trump’s financial reports show his fundraising isn’t the only area that sets him apart from the other candidates.  trump spent $6.9 million during the last three months of 2015. his distant rival for the republican nomination, the retired neurosurgeon ben carson, spent $27 million. cruz spent $15.5 million.  and the man now seen as the most plausible establishment alternative to trump, florida senator marco rubio, spent $14.8 million in the fourth quarter. that’s about $2 million more than trump spent in all of 2015.  (reporting by emily flitter in new york; additional reporting by jonathan allen in washington; editing by robert birsel) sap is the sponsor of this coverage which is independently produced by the staff of reuters news agency.february 1, 2016 ', 'u.s. senate committee passes bill to impose new sanctions on iranwashington (reuters) - the u.s. senate foreign relations committee backed legislation on thursday that would impose new sanctions on iran over its ballistic missile development, support for islamist militant groups, weapons transfers and human rights violations. the vote was 18-3 in favor of the legislation, paving the way for its consideration by the full senate. lawmakers who backed the bill said they do not believe that its passage, which would require support by the house of representatives and president donald trump to become law, would violate terms of the international nuclear agreement with iran reached in 2015. both republicans and democrats have been clamoring for a response to iran’s ballistic missiles development and other activities.  but the foreign relations committee waited to take up the bill until after iran’s election on friday, when president hassan rouhani was re-elected with 57 percent of the vote. rouhani broke the taboo of holding direct talks with the united states and reached the deal to curb iran’s nuclear program in return for relief from economic sanctions. trump has criticized the nuclear deal, which was opposed by every republican in congress and several democrats. but he has so far not moved to pull the united states out. instead, his administration has said it would closely police iran’s compliance with the bill and review it, with an eye toward possibly modifying it to make it stronger. may 25, 2017 ']\n"
     ]
    }
   ],
   "source": [
    "Nsamp =1000 # number of samples to generate in each class - 'true', 'fake'\n",
    "DataTrue = DataTrue.sample(Nsamp)\n",
    "DataFake = DataFake.sample(Nsamp)\n",
    "raw_data = pd.concat([DataTrue,DataFake], axis=0).values\n",
    "\n",
    "# combine title, body text and topics into one string per document\n",
    "raw_data = [sample[0].lower() + sample[1].lower() + sample[3].lower() for sample in raw_data]\n",
    "\n",
    "print(\"Length of combined data is:\")\n",
    "print(len(raw_data))\n",
    "print(\"Data represented as numpy array (first 5 samples) is:\")\n",
    "print(raw_data[:5])\n",
    "\n",
    "# corresponding labels\n",
    "Categories = ['True','False']\n",
    "header = ([1]*Nsamp)\n",
    "header.extend(([0]*Nsamp))"
   ]
  },
  {
   "cell_type": "markdown",
   "metadata": {},
   "source": [
    "Shuffle data, split into train and test sets..."
   ]
  },
  {
   "cell_type": "code",
   "execution_count": 6,
   "metadata": {},
   "outputs": [
    {
     "name": "stdout",
     "output_type": "stream",
     "text": [
      "train_x/train_y list details, to make sure it is of the right form:\n",
      "1400\n",
      "[0 1 0 0 1]\n",
      "(1400,)\n"
     ]
    }
   ],
   "source": [
    "# function for shuffling data\n",
    "def unison_shuffle(a, b):\n",
    "    p = np.random.permutation(len(b))\n",
    "    data = np.asarray(a)[p]\n",
    "    header = np.asarray(b)[p]\n",
    "    return data, header\n",
    "\n",
    "raw_data, header = unison_shuffle(raw_data, header)\n",
    "\n",
    "# split into independent 70% training and 30% testing sets\n",
    "idx = int(0.7*raw_data.shape[0])\n",
    "\n",
    "# 70% of data for training\n",
    "train_x = raw_data[:idx]\n",
    "train_y = header[:idx]\n",
    "# remaining 30% for testing\n",
    "test_x = raw_data[idx:]\n",
    "test_y = header[idx:]\n",
    "\n",
    "print(\"train_x/train_y list details, to make sure it is of the right form:\")\n",
    "print(len(train_x))\n",
    "#print(train_x)\n",
    "print(train_y[:5])\n",
    "print(train_y.shape)"
   ]
  },
  {
   "cell_type": "markdown",
   "metadata": {},
   "source": [
    "# Build, Train and Evaluate ELMo Model\n",
    "\n",
    "First import required neural network libraries\n",
    "\n"
   ]
  },
  {
   "cell_type": "code",
   "execution_count": 7,
   "metadata": {
    "_cell_guid": "b1076dfc-b9ad-4769-8c92-a6c4dae69d19",
    "_uuid": "8f2839f25d086af736a60e9eeb907d3b93b6e0e5"
   },
   "outputs": [
    {
     "name": "stderr",
     "output_type": "stream",
     "text": [
      "Using TensorFlow backend.\n"
     ]
    }
   ],
   "source": [
    "import tensorflow as tf\n",
    "import tensorflow_hub as hub\n",
    "from keras import backend as K\n",
    "import keras.layers as layers\n",
    "from keras.models import Model, load_model\n",
    "from keras.engine import Layer\n",
    "\n",
    "# Initialize tensorflow/keras session\n",
    "sess = tf.Session()\n",
    "K.set_session(sess)"
   ]
  },
  {
   "cell_type": "markdown",
   "metadata": {},
   "source": [
    "Create a custom tf hub ELMO embedding layer"
   ]
  },
  {
   "cell_type": "code",
   "execution_count": 8,
   "metadata": {},
   "outputs": [],
   "source": [
    "class ElmoEmbeddingLayer(Layer):\n",
    "    def __init__(self, **kwargs):\n",
    "        self.dimensions = 1024 # initialize output dimension of ELMo embedding\n",
    "        self.trainable=True\n",
    "        super(ElmoEmbeddingLayer, self).__init__(**kwargs)\n",
    "\n",
    "    def build(self, input_shape): # function for building ELMo embedding\n",
    "        self.elmo = hub.Module('https://tfhub.dev/google/elmo/2', trainable=self.trainable,\n",
    "                               name=\"{}_module\".format(self.name)) # download pretrained ELMo model\n",
    "        \n",
    "        # extract trainable parameters, which are only a small subset of the total - this is a constraint of\n",
    "        # the tf hub module as shared by the authors - see https://tfhub.dev/google/elmo/2\n",
    "        # the trainable parameters are 4 scalar weights on the sum of the outputs of ELMo layers \n",
    "        self.trainable_weights += K.tf.trainable_variables(scope=\"^{}_module/.*\".format(self.name))\n",
    "        super(ElmoEmbeddingLayer, self).build(input_shape)\n",
    "\n",
    "    def call(self, x, mask=None): # specify function for calling embedding\n",
    "        result = self.elmo(K.squeeze(K.cast(x, tf.string), axis=1),\n",
    "                      as_dict=True,\n",
    "                      signature='default',\n",
    "                      )['default']\n",
    "        return result\n",
    "\n",
    "    def compute_output_shape(self, input_shape): # specify output shape\n",
    "        return (input_shape[0], self.dimensions)"
   ]
  },
  {
   "cell_type": "markdown",
   "metadata": {},
   "source": [
    "We now use the custom TF hub ELMo embedding layer within a higher-level function to define the overall model. More specifically, we put a dense trainable layer of output dimension 256 on top of the ELMo embedding."
   ]
  },
  {
   "cell_type": "code",
   "execution_count": 9,
   "metadata": {},
   "outputs": [],
   "source": [
    "# Function to build overall model\n",
    "def build_model():\n",
    "    input_text = layers.Input(shape=(1,), dtype=\"string\")\n",
    "    embedding = ElmoEmbeddingLayer()(input_text)\n",
    "    dense = layers.Dense(256, activation='relu')(embedding)\n",
    "    pred = layers.Dense(1, activation='sigmoid')(dense)    \n",
    "    model = Model(inputs=[input_text], outputs=pred)\n",
    "    model.compile(loss='binary_crossentropy', optimizer='adam', metrics=['accuracy'])\n",
    "    \n",
    "    model.summary()\n",
    "    \n",
    "    return model"
   ]
  },
  {
   "cell_type": "code",
   "execution_count": 10,
   "metadata": {},
   "outputs": [
    {
     "name": "stdout",
     "output_type": "stream",
     "text": [
      "(1400,)\n"
     ]
    }
   ],
   "source": [
    "print(train_x.shape)"
   ]
  },
  {
   "cell_type": "code",
   "execution_count": 11,
   "metadata": {},
   "outputs": [
    {
     "name": "stdout",
     "output_type": "stream",
     "text": [
      "_________________________________________________________________\n",
      "Layer (type)                 Output Shape              Param #   \n",
      "=================================================================\n",
      "input_1 (InputLayer)         (None, 1)                 0         \n",
      "_________________________________________________________________\n",
      "elmo_embedding_layer_1 (Elmo (None, 1024)              4         \n",
      "_________________________________________________________________\n",
      "dense_1 (Dense)              (None, 256)               262400    \n",
      "_________________________________________________________________\n",
      "dense_2 (Dense)              (None, 1)                 257       \n",
      "=================================================================\n",
      "Total params: 262,661\n",
      "Trainable params: 262,661\n",
      "Non-trainable params: 0\n",
      "_________________________________________________________________\n",
      "Train on 1400 samples, validate on 600 samples\n",
      "Epoch 1/10\n",
      "1400/1400 [==============================] - 886s 633ms/step - loss: 0.3693 - acc: 0.8907 - val_loss: 0.1621 - val_acc: 0.9433\n",
      "Epoch 2/10\n",
      "1400/1400 [==============================] - 856s 612ms/step - loss: 0.1521 - acc: 0.9529 - val_loss: 0.1226 - val_acc: 0.9500\n",
      "Epoch 3/10\n",
      "1400/1400 [==============================] - 858s 613ms/step - loss: 0.1695 - acc: 0.9557 - val_loss: 0.0886 - val_acc: 0.9683\n",
      "Epoch 4/10\n",
      "1400/1400 [==============================] - 853s 609ms/step - loss: 0.1074 - acc: 0.9693 - val_loss: 0.0959 - val_acc: 0.9683\n",
      "Epoch 5/10\n",
      "1400/1400 [==============================] - 864s 617ms/step - loss: 0.0895 - acc: 0.9721 - val_loss: 0.0731 - val_acc: 0.9733\n",
      "Epoch 6/10\n",
      "1400/1400 [==============================] - 848s 606ms/step - loss: 0.2516 - acc: 0.9507 - val_loss: 0.1381 - val_acc: 0.9567\n",
      "Epoch 7/10\n",
      "1400/1400 [==============================] - 859s 614ms/step - loss: 0.0641 - acc: 0.9779 - val_loss: 0.0865 - val_acc: 0.9700\n",
      "Epoch 8/10\n",
      "1400/1400 [==============================] - 851s 608ms/step - loss: 0.0466 - acc: 0.9829 - val_loss: 0.0737 - val_acc: 0.9750\n",
      "Epoch 9/10\n",
      "1400/1400 [==============================] - 868s 620ms/step - loss: 0.0877 - acc: 0.9750 - val_loss: 0.0748 - val_acc: 0.9800\n",
      "Epoch 10/10\n",
      "1400/1400 [==============================] - 898s 641ms/step - loss: 0.0553 - acc: 0.9836 - val_loss: 0.0639 - val_acc: 0.9783\n"
     ]
    }
   ],
   "source": [
    "# Build and fit\n",
    "\n",
    "model = build_model()\n",
    "history = model.fit(train_x, \n",
    "          train_y,\n",
    "          validation_data=(test_x, test_y),\n",
    "          epochs=10,\n",
    "          batch_size=4)"
   ]
  },
  {
   "cell_type": "markdown",
   "metadata": {},
   "source": [
    "Save trained model"
   ]
  },
  {
   "cell_type": "code",
   "execution_count": 12,
   "metadata": {},
   "outputs": [],
   "source": [
    "model.save('ELMoModel.h5')"
   ]
  },
  {
   "cell_type": "markdown",
   "metadata": {},
   "source": [
    "Visualize Convergence"
   ]
  },
  {
   "cell_type": "code",
   "execution_count": 13,
   "metadata": {},
   "outputs": [
    {
     "data": {
      "image/png": "[encoded data removed]",
      "text/plain": [
       "<Figure size 432x288 with 1 Axes>"
      ]
     },
     "metadata": {
      "needs_background": "light"
     },
     "output_type": "display_data"
    }
   ],
   "source": [
    "import matplotlib.pyplot as plt\n",
    "\n",
    "df_history = pd.DataFrame(history.history)\n",
    "\n",
    "fig,ax = plt.subplots()\n",
    "plt.plot(range(df_history.shape[0]),df_history['val_acc'],'bs--',label='validation')\n",
    "plt.plot(range(df_history.shape[0]),df_history['acc'],'r^--',label='training')\n",
    "plt.xlabel('epoch')\n",
    "plt.ylabel('accuracy')\n",
    "plt.title('ELMo Fake News Classification Training')\n",
    "plt.legend(loc='best')\n",
    "plt.grid()\n",
    "plt.show()\n",
    "# Save figures\n",
    "fig.savefig('ELMoConvergence.eps', format='eps')\n",
    "fig.savefig('ELMoConvergence.pdf', format='pdf')\n",
    "fig.savefig('ELMoConvergence.png', format='png')\n",
    "fig.savefig('ELMoConvergence.svg', format='svg')"
   ]
  },
  {
   "cell_type": "markdown",
   "metadata": {},
   "source": [
    "Make figures downloadable to local system in interactive mode"
   ]
  },
  {
   "cell_type": "code",
   "execution_count": 14,
   "metadata": {},
   "outputs": [
    {
     "data": {
      "text/html": [
       "<a href=ELMoConvergence.svg>Download file</a>"
      ],
      "text/plain": [
       "<IPython.core.display.HTML object>"
      ]
     },
     "execution_count": 14,
     "metadata": {},
     "output_type": "execute_result"
    }
   ],
   "source": [
    "from IPython.display import HTML\n",
    "def create_download_link(title = \"Download file\", filename = \"data.csv\"):  \n",
    "    html = '<a href={filename}>{title}</a>'\n",
    "    html = html.format(title=title,filename=filename)\n",
    "    return HTML(html)\n",
    "\n",
    "create_download_link(filename='ELMoConvergence.svg')"
   ]
  }
 ],
 "metadata": {
  "kernelspec": {
   "display_name": "Python 3",
   "language": "python",
   "name": "python3"
  },
  "language_info": {
   "codemirror_mode": {
    "name": "ipython",
    "version": 3
   },
   "file_extension": ".py",
   "mimetype": "text/x-python",
   "name": "python",
   "nbconvert_exporter": "python",
   "pygments_lexer": "ipython3",
   "version": "3.6.6"
  }
 },
 "nbformat": 4,
 "nbformat_minor": 4
}
