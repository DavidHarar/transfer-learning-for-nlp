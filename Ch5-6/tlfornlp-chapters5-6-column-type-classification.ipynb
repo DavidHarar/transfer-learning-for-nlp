{
 "cells": [
  {
   "cell_type": "markdown",
   "metadata": {},
   "source": [
    "# Preliminaries\n",
    "Write requirements to file, anytime you run it, in case you have to go back and recover dependencies.\n",
    "\n",
    "Latest known such requirements are hosted for each notebook in the companion github repo, and can be pulled down and installed here if needed. Companion github repo is located at https://github.com/azunre/transfer-learning-for-nlp"
   ]
  },
  {
   "cell_type": "code",
   "execution_count": 1,
   "metadata": {},
   "outputs": [],
   "source": [
    "!pip freeze > kaggle_image_requirements.txt"
   ]
  },
  {
   "cell_type": "markdown",
   "metadata": {},
   "source": [
    "# Obtain Sample Tabular Datasets"
   ]
  },
  {
   "cell_type": "markdown",
   "metadata": {},
   "source": [
    " Let's first download a simple OpenML dataset of baseball stats..."
   ]
  },
  {
   "cell_type": "code",
   "execution_count": 2,
   "metadata": {},
   "outputs": [
    {
     "name": "stdout",
     "output_type": "stream",
     "text": [
      "wget: /opt/conda/lib/libuuid.so.1: no version information available (required by wget)\r\n",
      "--2020-12-21 05:34:33--  https://www.openml.org/data/get_csv/3622/dataset_189_baseball.arff\r\n",
      "Resolving www.openml.org (www.openml.org)... 131.155.11.11\r\n",
      "Connecting to www.openml.org (www.openml.org)|131.155.11.11|:443... connected.\r\n",
      "HTTP request sent, awaiting response... 200 OK\r\n",
      "Length: unspecified [text/plain]\r\n",
      "Saving to: ‘dataset_189_baseball.arff’\r\n",
      "\r\n",
      "dataset_189_basebal     [  <=>               ] 120.12K   423KB/s    in 0.3s    \r\n",
      "\r\n",
      "2020-12-21 05:34:34 (423 KB/s) - ‘dataset_189_baseball.arff’ saved [123002]\r\n",
      "\r\n"
     ]
    }
   ],
   "source": [
    "!wget https://www.openml.org/data/get_csv/3622/dataset_189_baseball.arff # simple OpenML dataset"
   ]
  },
  {
   "cell_type": "markdown",
   "metadata": {},
   "source": [
    "Load and take a peek at the dataset"
   ]
  },
  {
   "cell_type": "code",
   "execution_count": 3,
   "metadata": {},
   "outputs": [
    {
     "name": "stdout",
     "output_type": "stream",
     "text": [
      "         Player Number_seasons Games_played At_bats  Runs  Hits Doubles  \\\n",
      "0    HANK_AARON             23         3298   12364  2174  3771     624   \n",
      "1   JERRY_ADAIR             13         1165    4019   378  1022     163   \n",
      "2  SPARKY_ADAMS             13         1424    5557   844  1588     249   \n",
      "3   BOBBY_ADAMS             14         1281    4019   591  1082     188   \n",
      "4    JOE_ADCOCK             17         1959    6606   823  1832     295   \n",
      "\n",
      "  Triples Home_runs  RBIs Walks Strikeouts Batting_average On_base_pct  \\\n",
      "0      98       755  2297  1402       1383           0.305       0.377   \n",
      "1      19        57   366   208        499           0.254       0.294   \n",
      "2      48         9   394   453        223           0.286       0.343   \n",
      "3      49        37   303   414        447           0.269        0.34   \n",
      "4      35       336  1122   594       1059           0.277       0.339   \n",
      "\n",
      "  Slugging_pct Fielding_ave     Position Hall_of_Fame  \n",
      "0        0.555         0.98     Outfield            1  \n",
      "1        0.347        0.985  Second_base            0  \n",
      "2        0.353        0.974  Second_base            0  \n",
      "3        0.368        0.955   Third_base            0  \n",
      "4        0.485        0.994   First_base            0  \n"
     ]
    }
   ],
   "source": [
    "import pandas as pd\n",
    "raw_baseball_data = pd.read_csv('dataset_189_baseball.arff', dtype=str) # .arff format is apprently mostly equivalent for .csv for our purposes (look up Weka if really curious)\n",
    "\n",
    "# expand default pandas display options to make things more clearly visible when printed\n",
    "pd.set_option('display.max_colwidth', 300)\n",
    "\n",
    "print(raw_baseball_data.head())"
   ]
  },
  {
   "cell_type": "markdown",
   "metadata": {},
   "source": [
    "Let's also get another dataset, for reasons that will be very clear later. Without getting into too many details, we suffice it to mention here that this dataset will be used to expand our SIMOn classifier beyond the set of classes the pretrained model we will use was designed to detect.\n",
    "\n",
    "This is a dataset of public library data in British Columbia, obtained from https://catalogue.data.gov.bc.ca/dataset/bc-public-libraries-statistics-2002-present and attached to this notebook, just to ensure it is available for readers of the book easily.\n",
    "\n",
    "Let's display its path to make sure we know where it is."
   ]
  },
  {
   "cell_type": "code",
   "execution_count": 4,
   "metadata": {},
   "outputs": [
    {
     "name": "stdout",
     "output_type": "stream",
     "text": [
      "2002-2018-bc-public-libraries-open-data-csv-v18.2.csv\r\n"
     ]
    }
   ],
   "source": [
    "!ls ../input/20022018-bc-public-libraries-open-data-v182 # see BC public libdary data 2002-2018 path"
   ]
  },
  {
   "cell_type": "markdown",
   "metadata": {},
   "source": [
    "Let's load this dataset and take a peek"
   ]
  },
  {
   "cell_type": "code",
   "execution_count": 5,
   "metadata": {},
   "outputs": [
    {
     "name": "stdout",
     "output_type": "stream",
     "text": [
      "   YEAR                           LOCATION                      LIB_NAME  \\\n",
      "0  2018  Alert Bay Public Library & Museum      Alert Bay Public Library   \n",
      "1  2018       Beaver Valley Public Library  Beaver Valley Public Library   \n",
      "2  2018        Bowen Island Public Library   Bowen Island Public Library   \n",
      "3  2018             Burnaby Public Library        Burnaby Public Library   \n",
      "4  2018          Burns Lake Public Library     Burns Lake Public Library   \n",
      "\n",
      "                     LIB_TYPE SYMBOL        Federation             lib_ils  \\\n",
      "0  Public Library Association   BABM    Island Link LF     Evergreen Sitka   \n",
      "1  Public Library Association   BFBV       Kootenay LF     Evergreen Sitka   \n",
      "2           Municipal Library    BBI      InterLINK LF     Evergreen Sitka   \n",
      "3           Municipal Library     BB      InterLINK LF  SirsiDynix Horizon   \n",
      "4  Public Library Association   BBUL  North Central LF     Evergreen Sitka   \n",
      "\n",
      "  POP_SERVED srv_pln STRAT_YR_START  ... OTH_EXP    TOT_EXP EXP_PER_CAPITA  \\\n",
      "0        954     Yes          2,013  ...    2488      24439        25.6174   \n",
      "1      4,807     Yes          2,014  ...   15232  231314.13       48.12027   \n",
      "2      3,680     Yes          2,018  ...   20709  315311.17       85.68238   \n",
      "3    232,755     Yes          2,019  ...  237939   13794902       59.26791   \n",
      "4      5,763     Yes          2,018  ...     NaN     292315       50.72271   \n",
      "\n",
      "  TRANSFERS_TO_RESERVE AMORTIZATION EXP_ELEC_EBOOK EXP_ELEC_DB  \\\n",
      "0                    0            0              0         718   \n",
      "1                11026            0        1409.23      826.82   \n",
      "2                11176        40932           2111       54.17   \n",
      "3                    0      2614627         132050           0   \n",
      "4                  NaN          NaN              0           0   \n",
      "\n",
      "  EXP_ELEC_ELEARN EXP_ELEC_STREAM EXP_ELEC_OTHER  \n",
      "0               0               0            752  \n",
      "1         1176.11               0        1310.97  \n",
      "2            3241               0              0  \n",
      "3               0               0         180376  \n",
      "4               0               0           7040  \n",
      "\n",
      "[5 rows x 235 columns]\n"
     ]
    }
   ],
   "source": [
    "raw_data = pd.read_csv('../input/20022018-bc-public-libraries-open-data-v182/2002-2018-bc-public-libraries-open-data-csv-v18.2.csv', dtype=str)\n",
    "print(raw_data.head())"
   ]
  },
  {
   "cell_type": "markdown",
   "metadata": {},
   "source": [
    "Let's select a pair of columns to focus on (of type 'int' and 'percent')"
   ]
  },
  {
   "cell_type": "code",
   "execution_count": 6,
   "metadata": {},
   "outputs": [
    {
     "name": "stdout",
     "output_type": "stream",
     "text": [
      "     PCT_ELEC_IN_TOT_VOLS TOT_AV_VOLS\n",
      "0                  90.42%          57\n",
      "1                  74.83%       2,778\n",
      "2                  85.55%       1,590\n",
      "3                   9.22%      83,906\n",
      "4                  66.63%       4,261\n",
      "...                   ...         ...\n",
      "1202                0.00%      35,215\n",
      "1203                0.00%     109,499\n",
      "1204                0.00%         209\n",
      "1205                0.00%      18,748\n",
      "1206                0.00%        2403\n",
      "\n",
      "[1207 rows x 2 columns]\n"
     ]
    }
   ],
   "source": [
    "COLUMNS = [\"PCT_ELEC_IN_TOT_VOLS\",\"TOT_AV_VOLS\"] # lots of columns in this data set, let's just focus on these two\n",
    "raw_library_data = raw_data[COLUMNS]\n",
    "print(raw_library_data)"
   ]
  },
  {
   "cell_type": "markdown",
   "metadata": {},
   "source": [
    "# Preprocess Tabular Datasets"
   ]
  },
  {
   "cell_type": "markdown",
   "metadata": {},
   "source": [
    "Install SIMOn as a first step."
   ]
  },
  {
   "cell_type": "code",
   "execution_count": 7,
   "metadata": {},
   "outputs": [
    {
     "name": "stdout",
     "output_type": "stream",
     "text": [
      "Collecting git+https://github.com/algorine/simon\r\n",
      "  Cloning https://github.com/algorine/simon to /tmp/pip-req-build-5ea_wtpz\r\n",
      "  Running command git clone -q https://github.com/algorine/simon /tmp/pip-req-build-5ea_wtpz\r\n",
      "Collecting Faker>=0.7.7 (from Simon==1.2.4)\r\n",
      "\u001b[?25l  Downloading https://files.pythonhosted.org/packages/cc/ab/afd27727c36133ebb8ec047b5acf0aa4d9b362c537e61d6b9dcf712d4a85/Faker-5.0.2-py3-none-any.whl (1.1MB)\r\n",
      "\u001b[K     |████████████████████████████████| 1.1MB 4.3MB/s \r\n",
      "\u001b[?25hRequirement already satisfied: Keras<=2.2.4,>=2.0.2 in /opt/conda/lib/python3.6/site-packages (from Simon==1.2.4) (2.2.4)\r\n",
      "Requirement already satisfied: scikit-learn>=0.18.1 in /opt/conda/lib/python3.6/site-packages (from Simon==1.2.4) (0.21.3)\r\n",
      "Requirement already satisfied: python-dateutil>=2.5.3 in /opt/conda/lib/python3.6/site-packages (from Simon==1.2.4) (2.8.0)\r\n",
      "Requirement already satisfied: pandas>=0.19.2 in /opt/conda/lib/python3.6/site-packages (from Simon==1.2.4) (0.25.0)\r\n",
      "Requirement already satisfied: scipy>=0.19.0 in /opt/conda/lib/python3.6/site-packages (from Simon==1.2.4) (1.2.1)\r\n",
      "Collecting tensorflow<=1.12.0,>=1.1.0 (from Simon==1.2.4)\r\n",
      "\u001b[?25l  Downloading https://files.pythonhosted.org/packages/22/cc/ca70b78087015d21c5f3f93694107f34ebccb3be9624385a911d4b52ecef/tensorflow-1.12.0-cp36-cp36m-manylinux1_x86_64.whl (83.1MB)\r\n",
      "\u001b[K     |████████████████████████████████| 83.1MB 53.2MB/s \r\n",
      "\u001b[?25hRequirement already satisfied: h5py>=2.7.0 in /opt/conda/lib/python3.6/site-packages (from Simon==1.2.4) (2.9.0)\r\n",
      "Collecting text-unidecode==1.3 (from Faker>=0.7.7->Simon==1.2.4)\r\n",
      "\u001b[?25l  Downloading https://files.pythonhosted.org/packages/a6/a5/c0b6468d3824fe3fde30dbb5e1f687b291608f9473681bbf7dabbf5a87d7/text_unidecode-1.3-py2.py3-none-any.whl (78kB)\r\n",
      "\u001b[K     |████████████████████████████████| 81kB 3.3MB/s \r\n",
      "\u001b[?25hRequirement already satisfied: numpy>=1.9.1 in /opt/conda/lib/python3.6/site-packages (from Keras<=2.2.4,>=2.0.2->Simon==1.2.4) (1.17.0)\r\n",
      "Requirement already satisfied: pyyaml in /opt/conda/lib/python3.6/site-packages (from Keras<=2.2.4,>=2.0.2->Simon==1.2.4) (5.1.2)\r\n",
      "Requirement already satisfied: keras-preprocessing>=1.0.5 in /opt/conda/lib/python3.6/site-packages (from Keras<=2.2.4,>=2.0.2->Simon==1.2.4) (1.1.0)\r\n",
      "Requirement already satisfied: keras-applications>=1.0.6 in /opt/conda/lib/python3.6/site-packages (from Keras<=2.2.4,>=2.0.2->Simon==1.2.4) (1.0.8)\r\n",
      "Requirement already satisfied: six>=1.9.0 in /opt/conda/lib/python3.6/site-packages (from Keras<=2.2.4,>=2.0.2->Simon==1.2.4) (1.12.0)\r\n",
      "Requirement already satisfied: joblib>=0.11 in /opt/conda/lib/python3.6/site-packages (from scikit-learn>=0.18.1->Simon==1.2.4) (0.13.2)\r\n",
      "Requirement already satisfied: pytz>=2017.2 in /opt/conda/lib/python3.6/site-packages (from pandas>=0.19.2->Simon==1.2.4) (2019.2)\r\n",
      "Requirement already satisfied: absl-py>=0.1.6 in /opt/conda/lib/python3.6/site-packages (from tensorflow<=1.12.0,>=1.1.0->Simon==1.2.4) (0.7.1)\r\n",
      "Requirement already satisfied: termcolor>=1.1.0 in /opt/conda/lib/python3.6/site-packages (from tensorflow<=1.12.0,>=1.1.0->Simon==1.2.4) (1.1.0)\r\n",
      "Requirement already satisfied: grpcio>=1.8.6 in /opt/conda/lib/python3.6/site-packages (from tensorflow<=1.12.0,>=1.1.0->Simon==1.2.4) (1.23.0)\r\n",
      "Collecting tensorboard<1.13.0,>=1.12.0 (from tensorflow<=1.12.0,>=1.1.0->Simon==1.2.4)\r\n",
      "\u001b[?25l  Downloading https://files.pythonhosted.org/packages/07/53/8d32ce9471c18f8d99028b7cef2e5b39ea8765bd7ef250ca05b490880971/tensorboard-1.12.2-py3-none-any.whl (3.0MB)\r\n",
      "\u001b[K     |████████████████████████████████| 3.1MB 30.2MB/s \r\n",
      "\u001b[?25hRequirement already satisfied: gast>=0.2.0 in /opt/conda/lib/python3.6/site-packages (from tensorflow<=1.12.0,>=1.1.0->Simon==1.2.4) (0.2.2)\r\n",
      "Requirement already satisfied: protobuf>=3.6.1 in /opt/conda/lib/python3.6/site-packages (from tensorflow<=1.12.0,>=1.1.0->Simon==1.2.4) (3.7.1)\r\n",
      "Requirement already satisfied: astor>=0.6.0 in /opt/conda/lib/python3.6/site-packages (from tensorflow<=1.12.0,>=1.1.0->Simon==1.2.4) (0.8.0)\r\n",
      "Requirement already satisfied: wheel>=0.26 in /opt/conda/lib/python3.6/site-packages (from tensorflow<=1.12.0,>=1.1.0->Simon==1.2.4) (0.33.4)\r\n",
      "Requirement already satisfied: markdown>=2.6.8 in /opt/conda/lib/python3.6/site-packages (from tensorboard<1.13.0,>=1.12.0->tensorflow<=1.12.0,>=1.1.0->Simon==1.2.4) (3.1.1)\r\n",
      "Requirement already satisfied: werkzeug>=0.11.10 in /opt/conda/lib/python3.6/site-packages (from tensorboard<1.13.0,>=1.12.0->tensorflow<=1.12.0,>=1.1.0->Simon==1.2.4) (0.15.5)\r\n",
      "Requirement already satisfied: setuptools in /opt/conda/lib/python3.6/site-packages (from protobuf>=3.6.1->tensorflow<=1.12.0,>=1.1.0->Simon==1.2.4) (41.0.1)\r\n",
      "Building wheels for collected packages: Simon\r\n",
      "  Building wheel for Simon (setup.py) ... \u001b[?25l-\b \b\\\b \b|\b \b/\b \b-\b \b\\\b \b|\b \b/\b \b-\b \bdone\r\n",
      "\u001b[?25h  Created wheel for Simon: filename=Simon-1.2.4-cp36-none-any.whl size=114957662 sha256=acccdedebd6e6a0c986868c461113cf621e9c90a36087eb2b1b0c1922845fd19\r\n",
      "  Stored in directory: /tmp/pip-ephem-wheel-cache-0pvlt57s/wheels/45/18/6e/2d0604c9f019344d262fe0caed95387bec7243cbb0aed7daac\r\n",
      "Successfully built Simon\r\n",
      "\u001b[31mERROR: ethnicolr 0.2.1 has requirement tensorflow==1.12.3, but you'll have tensorflow 1.12.0 which is incompatible.\u001b[0m\r\n",
      "Installing collected packages: text-unidecode, Faker, tensorboard, tensorflow, Simon\r\n",
      "  Found existing installation: tensorboard 1.14.0\r\n",
      "    Uninstalling tensorboard-1.14.0:\r\n",
      "      Successfully uninstalled tensorboard-1.14.0\r\n",
      "  Found existing installation: tensorflow 1.14.0\r\n",
      "    Uninstalling tensorflow-1.14.0:\r\n",
      "      Successfully uninstalled tensorflow-1.14.0\r\n",
      "Successfully installed Faker-5.0.2 Simon-1.2.4 tensorboard-1.12.2 tensorflow-1.12.0 text-unidecode-1.3\r\n"
     ]
    }
   ],
   "source": [
    "!pip install git+https://github.com/algorine/simon"
   ]
  },
  {
   "cell_type": "markdown",
   "metadata": {},
   "source": [
    "Make the required imports"
   ]
  },
  {
   "cell_type": "code",
   "execution_count": 8,
   "metadata": {
    "_cell_guid": "b1076dfc-b9ad-4769-8c92-a6c4dae69d19",
    "_uuid": "8f2839f25d086af736a60e9eeb907d3b93b6e0e5"
   },
   "outputs": [
    {
     "name": "stderr",
     "output_type": "stream",
     "text": [
      "Using TensorFlow backend.\n",
      "/opt/conda/lib/python3.6/site-packages/tensorflow/python/framework/dtypes.py:523: FutureWarning: Passing (type, 1) or '1type' as a synonym of type is deprecated; in a future version of numpy, it will be understood as (type, (1,)) / '(1,)type'.\n",
      "  _np_qint8 = np.dtype([(\"qint8\", np.int8, 1)])\n",
      "/opt/conda/lib/python3.6/site-packages/tensorflow/python/framework/dtypes.py:524: FutureWarning: Passing (type, 1) or '1type' as a synonym of type is deprecated; in a future version of numpy, it will be understood as (type, (1,)) / '(1,)type'.\n",
      "  _np_quint8 = np.dtype([(\"quint8\", np.uint8, 1)])\n",
      "/opt/conda/lib/python3.6/site-packages/tensorflow/python/framework/dtypes.py:525: FutureWarning: Passing (type, 1) or '1type' as a synonym of type is deprecated; in a future version of numpy, it will be understood as (type, (1,)) / '(1,)type'.\n",
      "  _np_qint16 = np.dtype([(\"qint16\", np.int16, 1)])\n",
      "/opt/conda/lib/python3.6/site-packages/tensorflow/python/framework/dtypes.py:526: FutureWarning: Passing (type, 1) or '1type' as a synonym of type is deprecated; in a future version of numpy, it will be understood as (type, (1,)) / '(1,)type'.\n",
      "  _np_quint16 = np.dtype([(\"quint16\", np.uint16, 1)])\n",
      "/opt/conda/lib/python3.6/site-packages/tensorflow/python/framework/dtypes.py:527: FutureWarning: Passing (type, 1) or '1type' as a synonym of type is deprecated; in a future version of numpy, it will be understood as (type, (1,)) / '(1,)type'.\n",
      "  _np_qint32 = np.dtype([(\"qint32\", np.int32, 1)])\n",
      "/opt/conda/lib/python3.6/site-packages/tensorflow/python/framework/dtypes.py:532: FutureWarning: Passing (type, 1) or '1type' as a synonym of type is deprecated; in a future version of numpy, it will be understood as (type, (1,)) / '(1,)type'.\n",
      "  np_resource = np.dtype([(\"resource\", np.ubyte, 1)])\n"
     ]
    }
   ],
   "source": [
    "from Simon import Simon # SIMOn model class \n",
    "from Simon.Encoder import Encoder # SIMOn data encoder class"
   ]
  },
  {
   "cell_type": "markdown",
   "metadata": {},
   "source": [
    "Now, let's download a basic pretrained SIMOn model"
   ]
  },
  {
   "cell_type": "code",
   "execution_count": 9,
   "metadata": {},
   "outputs": [
    {
     "name": "stdout",
     "output_type": "stream",
     "text": [
      "wget: /opt/conda/lib/libuuid.so.1: no version information available (required by wget)\r\n",
      "--2020-12-21 05:35:46--  https://raw.githubusercontent.com/algorine/simon/master/Simon/scripts/pretrained_models/Base.pkl\r\n",
      "Resolving raw.githubusercontent.com (raw.githubusercontent.com)... 151.101.200.133\r\n",
      "Connecting to raw.githubusercontent.com (raw.githubusercontent.com)|151.101.200.133|:443... connected.\r\n",
      "HTTP request sent, awaiting response... 200 OK\r\n",
      "Length: 1289 (1.3K) [application/octet-stream]\r\n",
      "Saving to: ‘Base.pkl’\r\n",
      "\r\n",
      "Base.pkl            100%[===================>]   1.26K  --.-KB/s    in 0s      \r\n",
      "\r\n",
      "2020-12-21 05:35:46 (37.1 MB/s) - ‘Base.pkl’ saved [1289/1289]\r\n",
      "\r\n",
      "wget: /opt/conda/lib/libuuid.so.1: no version information available (required by wget)\r\n",
      "--2020-12-21 05:35:46--  https://raw.githubusercontent.com/algorine/simon/master/Simon/scripts/pretrained_models/text-class.17-0.04.hdf5\r\n",
      "Resolving raw.githubusercontent.com (raw.githubusercontent.com)... 151.101.200.133\r\n",
      "Connecting to raw.githubusercontent.com (raw.githubusercontent.com)|151.101.200.133|:443... connected.\r\n",
      "HTTP request sent, awaiting response... 200 OK\r\n",
      "Length: 41265752 (39M) [application/octet-stream]\r\n",
      "Saving to: ‘text-class.17-0.04.hdf5’\r\n",
      "\r\n",
      "text-class.17-0.04. 100%[===================>]  39.35M  65.2MB/s    in 0.6s    \r\n",
      "\r\n",
      "2020-12-21 05:35:47 (65.2 MB/s) - ‘text-class.17-0.04.hdf5’ saved [41265752/41265752]\r\n",
      "\r\n",
      "Base.pkl\t    dataset_189_baseball.arff\t   text-class.17-0.04.hdf5\r\n",
      "__notebook__.ipynb  kaggle_image_requirements.txt\r\n"
     ]
    }
   ],
   "source": [
    "!wget https://raw.githubusercontent.com/algorine/simon/master/Simon/scripts/pretrained_models/Base.pkl # pretrained SIMOn model configuration - Encoder, etc\n",
    "!wget https://raw.githubusercontent.com/algorine/simon/master/Simon/scripts/pretrained_models/text-class.17-0.04.hdf5 # corresponding model weights\n",
    "!ls"
   ]
  },
  {
   "cell_type": "markdown",
   "metadata": {},
   "source": [
    "Next, we want to load the SIMOn model\n",
    "\n",
    "First load configurations and encoder"
   ]
  },
  {
   "cell_type": "code",
   "execution_count": 10,
   "metadata": {},
   "outputs": [
    {
     "name": "stdout",
     "output_type": "stream",
     "text": [
      "text-class.17-0.04.hdf5\n"
     ]
    },
    {
     "name": "stderr",
     "output_type": "stream",
     "text": [
      "/opt/conda/lib/python3.6/site-packages/sklearn/base.py:306: UserWarning: Trying to unpickle estimator LabelEncoder from version 0.18.1 when using version 0.21.3. This might lead to breaking code or invalid results. Use at your own risk.\n",
      "  UserWarning)\n",
      "/opt/conda/lib/python3.6/site-packages/sklearn/base.py:306: UserWarning: Trying to unpickle estimator MultiLabelBinarizer from version 0.18.1 when using version 0.21.3. This might lead to breaking code or invalid results. Use at your own risk.\n",
      "  UserWarning)\n"
     ]
    }
   ],
   "source": [
    "checkpoint_dir = \"\" # model weight are at the current level\n",
    "execution_config = \"Base.pkl\" # name of our pretrained model configuration that was downloaded\n",
    "\n",
    "Classifier = Simon(encoder={}) # create text classifier instance for loading encoder from model configs\n",
    "config = Classifier.load_config(execution_config, checkpoint_dir) # load model config\n",
    "encoder = config['encoder'] # get encoder\n",
    "checkpoint = config['checkpoint'] # get checkpoint name\n",
    "\n",
    "print(checkpoint) # the name of the checkpoint is stored in config as well, here we double-check it to make sure we got the right one"
   ]
  },
  {
   "cell_type": "markdown",
   "metadata": {},
   "source": [
    "Next, we define some hyperparameters to model data"
   ]
  },
  {
   "cell_type": "code",
   "execution_count": 11,
   "metadata": {},
   "outputs": [
    {
     "name": "stdout",
     "output_type": "stream",
     "text": [
      "500\n"
     ]
    }
   ],
   "source": [
    "max_len = 20 # maximum length of each tabular cell\n",
    "max_cells = encoder.cur_max_cells # 500, maximum number of cells in a column\n",
    "print(max_cells)"
   ]
  },
  {
   "cell_type": "markdown",
   "metadata": {},
   "source": [
    "What are the pretrained categories?"
   ]
  },
  {
   "cell_type": "code",
   "execution_count": 12,
   "metadata": {},
   "outputs": [
    {
     "name": "stdout",
     "output_type": "stream",
     "text": [
      "['address', 'boolean', 'datetime', 'email', 'float', 'int', 'phone', 'text', 'uri']\n"
     ]
    }
   ],
   "source": [
    "Categories = encoder.categories\n",
    "category_count = len(Categories) # number of handled categories\n",
    "print(encoder.categories)"
   ]
  },
  {
   "cell_type": "markdown",
   "metadata": {},
   "source": [
    "# Encode Data as Numbers"
   ]
  },
  {
   "cell_type": "markdown",
   "metadata": {},
   "source": [
    "We \"standardize\" the data into the expected length, i.e.:\n",
    "\n",
    "*truncate columns that are too long and replicate cells in shorter columns such that all columns are of length max_cells*\n",
    "\n",
    "This is necessary because convolutional neural networks require a fixed length input\n",
    "\n",
    "We also convert the data from a DataFrame into a Numpy array, and transpose it such that the first dimension corresponds to sample columns, as per convention\n",
    "\n",
    "All these steps are accomplished within the function *encodeDataFrame*\n",
    "\n",
    "\n",
    "Handle baseball data first:"
   ]
  },
  {
   "cell_type": "code",
   "execution_count": 13,
   "metadata": {},
   "outputs": [
    {
     "name": "stdout",
     "output_type": "stream",
     "text": [
      "(500, 20)\n",
      "(18, 500, 20)\n",
      "[[-1 -1 -1 ... 50 37 44]\n",
      " [-1 -1 -1 ... 54 41 46]\n",
      " [-1 -1 -1 ... 37 52 55]\n",
      " ...\n",
      " [-1 -1 -1 ... 49 45 46]\n",
      " [-1 -1 -1 ... 51 54 43]\n",
      " [-1 -1 -1 ... 38 37 43]]\n"
     ]
    }
   ],
   "source": [
    "X_baseball = encoder.encodeDataFrame(raw_baseball_data) # encode data (standardization, transposition, conversion to Numpy array)\n",
    "\n",
    "print(X_baseball[0].shape)\n",
    "print(X_baseball.shape) # display shape of encoded data\n",
    "print(X_baseball[0]) # display encoded first column"
   ]
  },
  {
   "cell_type": "markdown",
   "metadata": {},
   "source": [
    "Handle library data next:"
   ]
  },
  {
   "cell_type": "code",
   "execution_count": 14,
   "metadata": {},
   "outputs": [
    {
     "name": "stdout",
     "output_type": "stream",
     "text": [
      "[[-1 -1 -1 ... 14 16 25]\n",
      " [-1 -1 -1 ... 14 20 23]\n",
      " [-1 -1 -1 ... 14 21 24]\n",
      " ...\n",
      " [-1 -1 -1 ... 16 14 16]\n",
      " [-1 -1 -1 ... 14 17 22]\n",
      " [-1 -1 -1 ... 14 20 23]]\n",
      "(500, 20)\n",
      "(2, 500, 20)\n"
     ]
    }
   ],
   "source": [
    "X_library = encoder.encodeDataFrame(raw_library_data) # encode data (standardization, transposition, conversion to Numpy array)\n",
    "\n",
    "print(X_library[0])\n",
    "print(X_library[0].shape)\n",
    "print(X_library.shape)"
   ]
  },
  {
   "cell_type": "markdown",
   "metadata": {},
   "source": [
    "Generate some representative simulated data for illustrative purposes. The downloaded pretrained model was first trained on data of this sort, before transferring to a smaller set of hand-labeled examples"
   ]
  },
  {
   "cell_type": "code",
   "execution_count": 15,
   "metadata": {},
   "outputs": [
    {
     "name": "stdout",
     "output_type": "stream",
     "text": [
      "creating data\n",
      "SIMULATED DATA:\n",
      "[['Possible machine less before require suddenly.' 'PhD' 'search/app/tag'\n",
      "  '27' '9']\n",
      " ['Main who ask must letter own become.' 'Jr.' 'main' '996' '5']\n",
      " ['Animal station as few sure entire pretty customer.' 'DDS' 'blog'\n",
      "  '1435' '7']\n",
      " ['Program walk audience four report price cold.' 'MD' 'categories/posts'\n",
      "  '2429' '6']\n",
      " ['Onto clearly newspaper certain.' 'DVM' 'explore/wp-content' '3555' '3']\n",
      " ['Side whatever center figure always everybody.' 'DVM'\n",
      "  'tag/explore/wp-content' '653' '9']\n",
      " ['Concern choice western.' 'DDS' 'posts' '7090' '2']\n",
      " ['Single let none share.' 'Jr.' 'main/list/explore' '6413' '5']\n",
      " ['Game staff live situation likely stage think.' 'PhD' 'category/main'\n",
      "  '5315' '5']\n",
      " ['Safe mind just every sing indicate.' 'II' 'main/main/categories'\n",
      "  '3393' '7']]\n",
      "SIMULATED DATA HEADER:\n",
      "[['text']\n",
      " ['text']\n",
      " ['text']\n",
      " ['int']\n",
      " ['int']]\n"
     ]
    }
   ],
   "source": [
    "from Simon.DataGenerator import DataGenerator # Simulated/Fake data generation utility (using the library Faker)\n",
    "\n",
    "# define appropriate parameters for the simulated data\n",
    "data_cols = 5 # number of columns to generate\n",
    "data_count = 10 # number if cells/rows per column\n",
    "\n",
    "try_reuse_data = False # don't reuse data\n",
    "simulated_data, header = DataGenerator.gen_test_data((data_count, data_cols), try_reuse_data)\n",
    "\n",
    "print(\"SIMULATED DATA:\") # display results\n",
    "print(simulated_data)\n",
    "print(\"SIMULATED DATA HEADER:\")\n",
    "print(header)"
   ]
  },
  {
   "cell_type": "markdown",
   "metadata": {},
   "source": [
    "# Generate Model and Predict Tabular Data Column Types\n",
    "\n",
    "Generate model, load weights into it, compile it..."
   ]
  },
  {
   "cell_type": "code",
   "execution_count": 16,
   "metadata": {},
   "outputs": [
    {
     "name": "stderr",
     "output_type": "stream",
     "text": [
      "/opt/conda/lib/python3.6/site-packages/Simon/Simon.py:133: UserWarning: Update your `Conv1D` call to the Keras 2 API: `Conv1D(activation=\"relu\", filters=40, kernel_size=1, strides=1, padding=\"valid\", kernel_initializer=\"glorot_normal\")`\n",
      "  subsample_length=1)(embedded)\n",
      "/opt/conda/lib/python3.6/site-packages/Simon/Simon.py:136: UserWarning: Update your `MaxPooling1D` call to the Keras 2 API: `MaxPooling1D(pool_size=2)`\n",
      "  embedded = MaxPooling1D(pool_length=pool_length)(embedded)\n",
      "/opt/conda/lib/python3.6/site-packages/Simon/Simon.py:133: UserWarning: Update your `Conv1D` call to the Keras 2 API: `Conv1D(activation=\"relu\", filters=200, kernel_size=3, strides=1, padding=\"valid\", kernel_initializer=\"glorot_normal\")`\n",
      "  subsample_length=1)(embedded)\n",
      "/opt/conda/lib/python3.6/site-packages/Simon/Simon.py:133: UserWarning: Update your `Conv1D` call to the Keras 2 API: `Conv1D(activation=\"relu\", filters=1000, kernel_size=3, strides=1, padding=\"valid\", kernel_initializer=\"glorot_normal\")`\n",
      "  subsample_length=1)(embedded)\n",
      "/opt/conda/lib/python3.6/site-packages/Simon/Simon.py:139: UserWarning: Update your `LSTM` call to the Keras 2 API: `LSTM(256, return_sequences=False, dropout=0.2, recurrent_dropout=0.2, implementation=2)`\n",
      "  dropout_U=0.2, consume_less='gpu')(embedded)\n",
      "/opt/conda/lib/python3.6/site-packages/Simon/Simon.py:141: UserWarning: Update your `LSTM` call to the Keras 2 API: `LSTM(256, return_sequences=False, go_backwards=True, dropout=0.2, recurrent_dropout=0.2, implementation=2)`\n",
      "  dropout_U=0.2, consume_less='gpu', go_backwards=True)(embedded)\n",
      "/opt/conda/lib/python3.6/site-packages/Simon/Simon.py:147: UserWarning: Update your `Model` call to the Keras 2 API: `Model(inputs=Tensor(\"in..., outputs=Tensor(\"dr...)`\n",
      "  encoder = Model(input=in_sentence, output=sent_encode)\n",
      "/opt/conda/lib/python3.6/site-packages/Simon/Simon.py:154: UserWarning: Update your `LSTM` call to the Keras 2 API: `LSTM(128, return_sequences=False, dropout=0.2, recurrent_dropout=0.2, implementation=2)`\n",
      "  dropout_U=0.2, consume_less='gpu')(encoded)\n",
      "/opt/conda/lib/python3.6/site-packages/Simon/Simon.py:156: UserWarning: Update your `LSTM` call to the Keras 2 API: `LSTM(128, return_sequences=False, go_backwards=True, dropout=0.2, recurrent_dropout=0.2, implementation=2)`\n",
      "  dropout_U=0.2, consume_less='gpu', go_backwards=True)(encoded)\n",
      "/opt/conda/lib/python3.6/site-packages/Simon/Simon.py:164: UserWarning: Update your `Model` call to the Keras 2 API: `Model(inputs=Tensor(\"in..., outputs=Tensor(\"de...)`\n",
      "  model = Model(input=document, output=output)\n"
     ]
    },
    {
     "name": "stdout",
     "output_type": "stream",
     "text": [
      "Checkpoint : text-class.17-0.04.hdf5\n"
     ]
    }
   ],
   "source": [
    "model = Classifier.generate_model(max_len, max_cells, category_count) # generate model\n",
    "\n",
    "Classifier.load_weights(checkpoint, None, model, checkpoint_dir) # load weights\n",
    "\n",
    "model.compile(loss='binary_crossentropy',optimizer='adam', metrics=['accuracy']) # compile model"
   ]
  },
  {
   "cell_type": "markdown",
   "metadata": {},
   "source": [
    "Define decision threshold, display model architecture"
   ]
  },
  {
   "cell_type": "code",
   "execution_count": 17,
   "metadata": {},
   "outputs": [
    {
     "name": "stdout",
     "output_type": "stream",
     "text": [
      "__________________________________________________________________________________________________\n",
      "Layer (type)                    Output Shape         Param #     Connected to                     \n",
      "==================================================================================================\n",
      "input_1 (InputLayer)            (None, 500, 20)      0                                            \n",
      "__________________________________________________________________________________________________\n",
      "time_distributed_1 (TimeDistrib (None, 500, 512)     3202416     input_1[0][0]                    \n",
      "__________________________________________________________________________________________________\n",
      "lstm_3 (LSTM)                   (None, 128)          328192      time_distributed_1[0][0]         \n",
      "__________________________________________________________________________________________________\n",
      "lstm_4 (LSTM)                   (None, 128)          328192      time_distributed_1[0][0]         \n",
      "__________________________________________________________________________________________________\n",
      "concatenate_2 (Concatenate)     (None, 256)          0           lstm_3[0][0]                     \n",
      "                                                                 lstm_4[0][0]                     \n",
      "__________________________________________________________________________________________________\n",
      "dropout_5 (Dropout)             (None, 256)          0           concatenate_2[0][0]              \n",
      "__________________________________________________________________________________________________\n",
      "dense_1 (Dense)                 (None, 128)          32896       dropout_5[0][0]                  \n",
      "__________________________________________________________________________________________________\n",
      "dropout_6 (Dropout)             (None, 128)          0           dense_1[0][0]                    \n",
      "__________________________________________________________________________________________________\n",
      "dense_2 (Dense)                 (None, 9)            1161        dropout_6[0][0]                  \n",
      "==================================================================================================\n",
      "Total params: 3,892,857\n",
      "Trainable params: 3,892,857\n",
      "Non-trainable params: 0\n",
      "__________________________________________________________________________________________________\n"
     ]
    }
   ],
   "source": [
    "p_threshold = 0.5 # probability threshold for deciding membership of class\n",
    "\n",
    "model.summary() # display model architecture"
   ]
  },
  {
   "cell_type": "code",
   "execution_count": 18,
   "metadata": {},
   "outputs": [
    {
     "data": {
      "image/png": "[encoded data removed]",
      "text/plain": [
       "<IPython.core.display.Image object>"
      ]
     },
     "execution_count": 18,
     "metadata": {
      "image/png": {
       "height": 370,
       "width": 218
      }
     },
     "output_type": "execute_result"
    }
   ],
   "source": [
    "# alternative visualizationm method\n",
    "from keras.utils.vis_utils import plot_model\n",
    "plot_model(model,to_file='model.png') # visualize model architecture (for display here)\n",
    "plot_model(model,to_file='model.svg') # higher resolution version for later\n",
    "\n",
    "from IPython.display import Image # display image in notebook\n",
    "Image(retina=True, filename='model.png') "
   ]
  },
  {
   "cell_type": "markdown",
   "metadata": {},
   "source": [
    "Make prediction for the OpenML baseball dataset"
   ]
  },
  {
   "cell_type": "code",
   "execution_count": 19,
   "metadata": {},
   "outputs": [
    {
     "name": "stdout",
     "output_type": "stream",
     "text": [
      "Base.pkl\t    dataset_189_baseball.arff\t   model.svg\r\n",
      "__notebook__.ipynb  kaggle_image_requirements.txt  text-class.17-0.04.hdf5\r\n",
      "data\t\t    model.png\t\t\t   unencoded_chars.json\r\n"
     ]
    }
   ],
   "source": [
    "!ls"
   ]
  },
  {
   "cell_type": "code",
   "execution_count": 20,
   "metadata": {},
   "outputs": [
    {
     "name": "stdout",
     "output_type": "stream",
     "text": [
      "Recall that the column headers were:\n",
      "['Player', 'Number_seasons', 'Games_played', 'At_bats', 'Runs', 'Hits', 'Doubles', 'Triples', 'Home_runs', 'RBIs', 'Walks', 'Strikeouts', 'Batting_average', 'On_base_pct', 'Slugging_pct', 'Fielding_ave', 'Position', 'Hall_of_Fame']\n",
      "The predicted classes and probabilities are respectively:\n",
      "([('text',), ('int',), ('int',), ('int',), ('int',), ('int',), ('int',), ('int',), ('int',), ('int',), ('int',), ('int',), ('float',), ('float',), ('float',), ('float',), ('text',), ('int',)], [[0.9970826506614685], [0.9877430200576782], [0.9899477362632751], [0.9903284907341003], [0.9894667267799377], [0.9854978322982788], [0.9892633557319641], [0.9895514845848083], [0.989467203617096], [0.9895854592323303], [0.9896339178085327], [0.9897230863571167], [0.9998295307159424], [0.9998230338096619], [0.9998272061347961], [0.9998039603233337], [0.9975670576095581], [0.9894945025444031]])\n"
     ]
    }
   ],
   "source": [
    "y = model.predict(X_baseball) # predict classes\n",
    "result = encoder.reverse_label_encode(y,p_threshold) # reverse encode labels\n",
    "print(\"Recall that the column headers were:\") # display the output\n",
    "print(list(raw_baseball_data))\n",
    "print(\"The predicted classes and probabilities are respectively:\")\n",
    "print(result)"
   ]
  },
  {
   "cell_type": "markdown",
   "metadata": {},
   "source": [
    "Make a prediction on the BC library, and let's look at it"
   ]
  },
  {
   "cell_type": "code",
   "execution_count": 21,
   "metadata": {},
   "outputs": [
    {
     "name": "stdout",
     "output_type": "stream",
     "text": [
      "Recall that the column headers were:\n",
      "['PCT_ELEC_IN_TOT_VOLS', 'TOT_AV_VOLS']\n",
      "The predicted class/probability:\n",
      "([('text',), ('int',)], [[0.7253058552742004], [0.7712462544441223]])\n"
     ]
    }
   ],
   "source": [
    "X = encoder.encodeDataFrame(raw_library_data) # encode data using original frame\n",
    "y = model.predict(X) # predict classes\n",
    "\n",
    "result = encoder.reverse_label_encode(y,p_threshold) # reverse encode labels\n",
    "\n",
    "print(\"Recall that the column headers were:\")\n",
    "print(list(raw_library_data))\n",
    "print(\"The predicted class/probability:\")\n",
    "print(result)"
   ]
  },
  {
   "cell_type": "markdown",
   "metadata": {},
   "source": [
    "Gets integer column right, but percent is recognized as \"text\". This is because that class was not trained for in the current model... \n",
    "\n",
    "Let's try fine-tuning the float category to detect percentages... \n",
    "\n",
    "The percent column here is rather large - ~1200 rows, which can be broken up into >50 columns if each one is length 20  "
   ]
  },
  {
   "cell_type": "code",
   "execution_count": 22,
   "metadata": {},
   "outputs": [
    {
     "name": "stdout",
     "output_type": "stream",
     "text": [
      "     PCT_ELEC_IN_TOT_VOLS TOT_AV_VOLS\n",
      "0                  90.42%          57\n",
      "1                  74.83%       2,778\n",
      "2                  85.55%       1,590\n",
      "3                   9.22%      83,906\n",
      "4                  66.63%       4,261\n",
      "...                   ...         ...\n",
      "1202                0.00%      35,215\n",
      "1203                0.00%     109,499\n",
      "1204                0.00%         209\n",
      "1205                0.00%      18,748\n",
      "1206                0.00%        2403\n",
      "\n",
      "[1207 rows x 2 columns]\n",
      "(1207, 2)\n"
     ]
    }
   ],
   "source": [
    "# let's recall what the raw library data columns look like\n",
    "print(raw_library_data)\n",
    "print(raw_library_data.shape)"
   ]
  },
  {
   "cell_type": "code",
   "execution_count": 23,
   "metadata": {},
   "outputs": [],
   "source": [
    "# turn into two lists\n",
    "percent_value_list = raw_library_data['PCT_ELEC_IN_TOT_VOLS'].values.tolist()\n",
    "int_value_list = raw_library_data['TOT_AV_VOLS'].values.tolist()"
   ]
  },
  {
   "cell_type": "code",
   "execution_count": 24,
   "metadata": {},
   "outputs": [
    {
     "name": "stdout",
     "output_type": "stream",
     "text": [
      "      0       1       2       3       4       5       6       7       8    \\\n",
      "0  90.42%  74.83%  85.55%   9.22%  66.63%  25.77%  54.02%  75.51%   7.60%   \n",
      "1  74.83%  85.55%   9.22%  66.63%  25.77%  54.02%  75.51%   7.60%  55.17%   \n",
      "2  85.55%   9.22%  66.63%  25.77%  54.02%  75.51%   7.60%  55.17%  70.02%   \n",
      "3   9.22%  66.63%  25.77%  54.02%  75.51%   7.60%  55.17%  70.02%  55.94%   \n",
      "4  66.63%  25.77%  54.02%  75.51%   7.60%  55.17%  70.02%  55.94%  76.25%   \n",
      "\n",
      "      9    ...     110    111    112    113    114      115      116      117  \\\n",
      "0  55.17%  ...  34,596  1,077  2,334  9,401  6,424    2,649    1,118    8,699   \n",
      "1  70.02%  ...   1,077  2,334  9,401  6,424  2,649    1,118    8,699      552   \n",
      "2  55.94%  ...   2,334  9,401  6,424  2,649  1,118    8,699      552  117,282   \n",
      "3  76.25%  ...   9,401  6,424  2,649  1,118  8,699      552  117,282      454   \n",
      "4  69.58%  ...   6,424  2,649  1,118  8,699    552  117,282      454    7,134   \n",
      "\n",
      "       118      119  \n",
      "0      552  117,282  \n",
      "1  117,282      454  \n",
      "2      454    7,134  \n",
      "3    7,134   65,301  \n",
      "4   65,301    5,197  \n",
      "\n",
      "[5 rows x 120 columns]\n"
     ]
    }
   ],
   "source": [
    "# Break it up into individual sample columns of size 20 cells each\n",
    "original_length = raw_data.shape[0] # original length, 1207\n",
    "chunk_size = 20 # length of each newly generated column\n",
    "header_list = list(range(2*original_length//chunk_size)) # list of indices of new columns\n",
    "new_raw_data = pd.DataFrame(columns = header_list) # initialize new DataFrame to hold new data\n",
    "for i in range(original_length//chunk_size): # populate new DataFrame\n",
    "    new_raw_data[i] = percent_value_list[i:i+chunk_size] # percent\n",
    "    new_raw_data[original_length//chunk_size+i] = int_value_list[i:i+chunk_size] # integer\n",
    "print(new_raw_data.head())"
   ]
  },
  {
   "cell_type": "code",
   "execution_count": 25,
   "metadata": {},
   "outputs": [
    {
     "name": "stdout",
     "output_type": "stream",
     "text": [
      "[('percent',), ('percent',), ('percent',), ('percent',), ('percent',), ('percent',), ('percent',), ('percent',), ('percent',), ('percent',), ('percent',), ('percent',), ('percent',), ('percent',), ('percent',), ('percent',), ('percent',), ('percent',), ('percent',), ('percent',), ('percent',), ('percent',), ('percent',), ('percent',), ('percent',), ('percent',), ('percent',), ('percent',), ('percent',), ('percent',), ('percent',), ('percent',), ('percent',), ('percent',), ('percent',), ('percent',), ('percent',), ('percent',), ('percent',), ('percent',), ('percent',), ('percent',), ('percent',), ('percent',), ('percent',), ('percent',), ('percent',), ('percent',), ('percent',), ('percent',), ('percent',), ('percent',), ('percent',), ('percent',), ('percent',), ('percent',), ('percent',), ('percent',), ('percent',), ('percent',), ('int',), ('int',), ('int',), ('int',), ('int',), ('int',), ('int',), ('int',), ('int',), ('int',), ('int',), ('int',), ('int',), ('int',), ('int',), ('int',), ('int',), ('int',), ('int',), ('int',), ('int',), ('int',), ('int',), ('int',), ('int',), ('int',), ('int',), ('int',), ('int',), ('int',), ('int',), ('int',), ('int',), ('int',), ('int',), ('int',), ('int',), ('int',), ('int',), ('int',), ('int',), ('int',), ('int',), ('int',), ('int',), ('int',), ('int',), ('int',), ('int',), ('int',), ('int',), ('int',), ('int',), ('int',), ('int',), ('int',), ('int',), ('int',), ('int',), ('int',)]\n"
     ]
    }
   ],
   "source": [
    "# let's create a corresponding header for our training data\n",
    "header = [(\"percent\",),]*(original_length//chunk_size)\n",
    "header.extend([(\"int\",),]*(original_length//chunk_size))\n",
    "print(header)"
   ]
  },
  {
   "cell_type": "code",
   "execution_count": 26,
   "metadata": {},
   "outputs": [
    {
     "name": "stdout",
     "output_type": "stream",
     "text": [
      "['address', 'boolean', 'datetime', 'email', 'float', 'int', 'phone', 'text', 'uri']\n"
     ]
    }
   ],
   "source": [
    "# new categories\n",
    "print(encoder.categories)"
   ]
  },
  {
   "cell_type": "code",
   "execution_count": 27,
   "metadata": {},
   "outputs": [
    {
     "name": "stdout",
     "output_type": "stream",
     "text": [
      "WEIGHTS::\n",
      "[-0.27894253  0.0348286   0.04099413 -0.26160368 -0.22156966 -0.11428836\n",
      " -0.15646574 -0.20444234 -0.1889774 ]\n",
      "Layer Name::\n",
      "dense_2\n",
      "SHAPE::\n",
      "(128, 9)\n"
     ]
    }
   ],
   "source": [
    "import numpy as np\n",
    "\n",
    "# but first grab last layer weights for initialization\n",
    "print(\"WEIGHTS::\")\n",
    "old_weights = model.layers[8].get_weights()\n",
    "print(old_weights[1]) # biases\n",
    "print(\"Layer Name::\")\n",
    "print(model.layers[8].name) # name of last layer\n",
    "print(\"SHAPE::\")\n",
    "print(model.layers[8].get_weights()[0].shape) # shape of weight matrix in last layer"
   ]
  },
  {
   "cell_type": "code",
   "execution_count": 28,
   "metadata": {},
   "outputs": [
    {
     "name": "stdout",
     "output_type": "stream",
     "text": [
      "['address', 'boolean', 'datetime', 'email', 'float', 'int', 'percent', 'phone', 'text', 'uri']\n"
     ]
    }
   ],
   "source": [
    "# find old weight index for closest category - text\n",
    "old_category_index = encoder.categories.index('text')\n",
    "\n",
    "# update the encoder with new category list, sort it alphabetically, find index of new category\n",
    "encoder.categories.append(\"percent\")\n",
    "encoder.categories.sort()\n",
    "new_category_index = encoder.categories.index('percent')\n",
    "\n",
    "print(encoder.categories)"
   ]
  },
  {
   "cell_type": "code",
   "execution_count": 29,
   "metadata": {},
   "outputs": [
    {
     "data": {
      "text/plain": [
       "(128, 10)"
      ]
     },
     "execution_count": 29,
     "metadata": {},
     "output_type": "execute_result"
    }
   ],
   "source": [
    "# perform the initialization\n",
    "# the most similar class is text, as our experiment above showed, so we use that as a proxy for % when initializing\n",
    "new_weights = np.copy(old_weights) # important to perform the copy operation\n",
    "\n",
    "# initialize new weights\n",
    "new_weights[0] = np.insert(new_weights[0], new_category_index, old_weights[0][:,old_category_index], axis=1) # weights\n",
    "new_weights[1] = np.insert(new_weights[1], new_category_index, 0) # biases\n",
    "\n",
    "new_weights[0].shape"
   ]
  },
  {
   "cell_type": "code",
   "execution_count": 30,
   "metadata": {},
   "outputs": [
    {
     "name": "stderr",
     "output_type": "stream",
     "text": [
      "/opt/conda/lib/python3.6/site-packages/Simon/Simon.py:185: UserWarning: Update your `Conv1D` call to the Keras 2 API: `Conv1D(activation=\"relu\", filters=40, kernel_size=1, strides=1, padding=\"valid\", kernel_initializer=\"glorot_normal\")`\n",
      "  subsample_length=1)(embedded)\n",
      "/opt/conda/lib/python3.6/site-packages/Simon/Simon.py:188: UserWarning: Update your `MaxPooling1D` call to the Keras 2 API: `MaxPooling1D(pool_size=2)`\n",
      "  embedded = MaxPooling1D(pool_length=pool_length)(embedded)\n",
      "/opt/conda/lib/python3.6/site-packages/Simon/Simon.py:185: UserWarning: Update your `Conv1D` call to the Keras 2 API: `Conv1D(activation=\"relu\", filters=200, kernel_size=3, strides=1, padding=\"valid\", kernel_initializer=\"glorot_normal\")`\n",
      "  subsample_length=1)(embedded)\n",
      "/opt/conda/lib/python3.6/site-packages/Simon/Simon.py:185: UserWarning: Update your `Conv1D` call to the Keras 2 API: `Conv1D(activation=\"relu\", filters=1000, kernel_size=3, strides=1, padding=\"valid\", kernel_initializer=\"glorot_normal\")`\n",
      "  subsample_length=1)(embedded)\n",
      "/opt/conda/lib/python3.6/site-packages/Simon/Simon.py:191: UserWarning: Update your `LSTM` call to the Keras 2 API: `LSTM(256, return_sequences=False, dropout=0.2, recurrent_dropout=0.2, implementation=2)`\n",
      "  dropout_U=0.2, consume_less='gpu')(embedded)\n",
      "/opt/conda/lib/python3.6/site-packages/Simon/Simon.py:193: UserWarning: Update your `LSTM` call to the Keras 2 API: `LSTM(256, return_sequences=False, go_backwards=True, dropout=0.2, recurrent_dropout=0.2, implementation=2)`\n",
      "  dropout_U=0.2, consume_less='gpu', go_backwards=True)(embedded)\n",
      "/opt/conda/lib/python3.6/site-packages/Simon/Simon.py:199: UserWarning: Update your `Model` call to the Keras 2 API: `Model(inputs=Tensor(\"in..., outputs=Tensor(\"dr...)`\n",
      "  encoder = Model(input=in_sentence, output=sent_encode)\n",
      "/opt/conda/lib/python3.6/site-packages/Simon/Simon.py:206: UserWarning: Update your `LSTM` call to the Keras 2 API: `LSTM(128, return_sequences=False, dropout=0.2, recurrent_dropout=0.2, implementation=2)`\n",
      "  dropout_U=0.2, consume_less='gpu')(encoded)\n",
      "/opt/conda/lib/python3.6/site-packages/Simon/Simon.py:208: UserWarning: Update your `LSTM` call to the Keras 2 API: `LSTM(128, return_sequences=False, go_backwards=True, dropout=0.2, recurrent_dropout=0.2, implementation=2)`\n",
      "  dropout_U=0.2, consume_less='gpu', go_backwards=True)(encoded)\n",
      "/opt/conda/lib/python3.6/site-packages/Simon/Simon.py:215: UserWarning: Update your `Model` call to the Keras 2 API: `Model(inputs=Tensor(\"in..., outputs=Tensor(\"de...)`\n",
      "  model = Model(input=document, output=output)\n"
     ]
    },
    {
     "name": "stdout",
     "output_type": "stream",
     "text": [
      "Checkpoint : text-class.17-0.04.hdf5\n"
     ]
    },
    {
     "name": "stderr",
     "output_type": "stream",
     "text": [
      "/opt/conda/lib/python3.6/site-packages/Simon/Simon.py:221: UserWarning: Update your `Model` call to the Keras 2 API: `Model(inputs=Tensor(\"in..., outputs=Tensor(\"de...)`\n",
      "  model = Model(input=document, output=output)\n"
     ]
    }
   ],
   "source": [
    "# rebuild model using new category_count in last layer\n",
    "model = Classifier.generate_transfer_model(max_len, max_cells, category_count, category_count+1, checkpoint, checkpoint_dir) # generate model\n",
    "\n",
    "\n",
    "# only the last layer should be trainable - this was already done by the function above, but we repeat for illustrative purposes\n",
    "for layer in model.layers:\n",
    "    layer.trainable = False\n",
    "model.layers[-1].trainable = True\n",
    "\n",
    "model.layers[8].set_weights(new_weights)"
   ]
  },
  {
   "cell_type": "code",
   "execution_count": 31,
   "metadata": {},
   "outputs": [
    {
     "name": "stdout",
     "output_type": "stream",
     "text": [
      "__________________________________________________________________________________________________\n",
      "Layer (type)                    Output Shape         Param #     Connected to                     \n",
      "==================================================================================================\n",
      "input_3 (InputLayer)            (None, 500, 20)      0                                            \n",
      "__________________________________________________________________________________________________\n",
      "time_distributed_2 (TimeDistrib (None, 500, 512)     3202416     input_3[0][0]                    \n",
      "__________________________________________________________________________________________________\n",
      "lstm_7 (LSTM)                   (None, 128)          328192      time_distributed_2[0][0]         \n",
      "__________________________________________________________________________________________________\n",
      "lstm_8 (LSTM)                   (None, 128)          328192      time_distributed_2[0][0]         \n",
      "__________________________________________________________________________________________________\n",
      "concatenate_4 (Concatenate)     (None, 256)          0           lstm_7[0][0]                     \n",
      "                                                                 lstm_8[0][0]                     \n",
      "__________________________________________________________________________________________________\n",
      "dropout_11 (Dropout)            (None, 256)          0           concatenate_4[0][0]              \n",
      "__________________________________________________________________________________________________\n",
      "dense_3 (Dense)                 (None, 128)          32896       dropout_11[0][0]                 \n",
      "__________________________________________________________________________________________________\n",
      "dropout_12 (Dropout)            (None, 128)          0           dense_3[0][0]                    \n",
      "__________________________________________________________________________________________________\n",
      "dense_5 (Dense)                 (None, 10)           1290        dropout_12[0][0]                 \n",
      "==================================================================================================\n",
      "Total params: 3,892,986\n",
      "Trainable params: 1,290\n",
      "Non-trainable params: 3,891,696\n",
      "__________________________________________________________________________________________________\n",
      "None\n"
     ]
    }
   ],
   "source": [
    "# compile model\n",
    "model.compile(loss='binary_crossentropy',optimizer='adam', metrics=['accuracy'])\n",
    "\n",
    "# see updated model summary, pay attention to dimension of output layer\n",
    "print(model.summary())"
   ]
  },
  {
   "cell_type": "code",
   "execution_count": 32,
   "metadata": {},
   "outputs": [
    {
     "name": "stdout",
     "output_type": "stream",
     "text": [
      "Encoded data shape\n",
      "(120, 500, 20)\n",
      "[[0 0 0 ... 0 0 0]\n",
      " [0 0 0 ... 0 0 0]\n",
      " [0 0 0 ... 0 0 0]\n",
      " ...\n",
      " [0 0 0 ... 0 0 0]\n",
      " [0 0 0 ... 0 0 0]\n",
      " [0 0 0 ... 0 0 0]]\n"
     ]
    }
   ],
   "source": [
    "# encode data (standardization, transposition, conversion to Numpy array)\n",
    "X = encoder.encodeDataFrame(new_raw_data)\n",
    "print(\"Encoded data shape\")\n",
    "print(X.shape)\n",
    "\n",
    "# encode labels\n",
    "y = encoder.label_encode(header)\n",
    "\n",
    "# visualize\n",
    "print(y)"
   ]
  },
  {
   "cell_type": "code",
   "execution_count": 33,
   "metadata": {},
   "outputs": [],
   "source": [
    "# Prepare data in the expected format -> 60/30/10 train/validation/test data split\n",
    "data = Classifier.setup_test_sets(X, y)"
   ]
  },
  {
   "cell_type": "code",
   "execution_count": 34,
   "metadata": {},
   "outputs": [
    {
     "name": "stdout",
     "output_type": "stream",
     "text": [
      "starting learning\n"
     ]
    },
    {
     "name": "stderr",
     "output_type": "stream",
     "text": [
      "/opt/conda/lib/python3.6/site-packages/Simon/Simon.py:317: UserWarning: The `nb_epoch` argument in `fit` has been renamed `epochs`.\n",
      "  nb_epoch=nb_epoch, shuffle=True, callbacks=[earlystop_cb, check_cb, loss_history, tbCallBack])\n"
     ]
    },
    {
     "name": "stdout",
     "output_type": "stream",
     "text": [
      "Train on 72 samples, validate on 36 samples\n",
      "Epoch 1/10\n",
      "72/72 [==============================] - 12s 164ms/step - loss: 0.3015 - acc: 0.8792 - val_loss: 0.1493 - val_acc: 0.9194\n",
      "Epoch 2/10\n",
      "72/72 [==============================] - 11s 154ms/step - loss: 0.2389 - acc: 0.8931 - val_loss: 0.1067 - val_acc: 0.9556\n",
      "Epoch 3/10\n",
      "72/72 [==============================] - 11s 154ms/step - loss: 0.1604 - acc: 0.9208 - val_loss: 0.0816 - val_acc: 0.9917\n",
      "Epoch 4/10\n",
      "72/72 [==============================] - 11s 153ms/step - loss: 0.1180 - acc: 0.9486 - val_loss: 0.0665 - val_acc: 0.9917\n",
      "Epoch 5/10\n",
      "72/72 [==============================] - 11s 150ms/step - loss: 0.1007 - acc: 0.9542 - val_loss: 0.0574 - val_acc: 0.9944\n",
      "Epoch 6/10\n",
      "72/72 [==============================] - 11s 149ms/step - loss: 0.0839 - acc: 0.9736 - val_loss: 0.0512 - val_acc: 0.9944\n",
      "Epoch 7/10\n",
      "72/72 [==============================] - 11s 153ms/step - loss: 0.0820 - acc: 0.9736 - val_loss: 0.0476 - val_acc: 0.9944\n",
      "Epoch 8/10\n",
      "72/72 [==============================] - 11s 159ms/step - loss: 0.0775 - acc: 0.9736 - val_loss: 0.0446 - val_acc: 1.0000\n",
      "Epoch 9/10\n",
      "72/72 [==============================] - 11s 151ms/step - loss: 0.0621 - acc: 0.9889 - val_loss: 0.0413 - val_acc: 1.0000\n",
      "Epoch 10/10\n",
      "72/72 [==============================] - 11s 154ms/step - loss: 0.0703 - acc: 0.9778 - val_loss: 0.0384 - val_acc: 1.0000\n",
      "losses: \n",
      "[0.3015275299549103, 0.23888716681136024, 0.16035077679488394, 0.11804887817965613, 0.10067088819212383, 0.08386832144525316, 0.08204169592095746, 0.07753969470245971, 0.062106003881328635, 0.0702721027450429]\n",
      "Time for training is 119.631232 sec\n"
     ]
    }
   ],
   "source": [
    "import time\n",
    "\n",
    "# Train\n",
    "batch_size = 4\n",
    "nb_epoch = 10\n",
    "start = time.time()\n",
    "history = Classifier.train_model(batch_size, checkpoint_dir, model, nb_epoch, data) # train model\n",
    "end = time.time()\n",
    "print(\"Time for training is %f sec\"%(end-start))"
   ]
  },
  {
   "cell_type": "markdown",
   "metadata": {},
   "source": [
    "Visualize convergence"
   ]
  },
  {
   "cell_type": "code",
   "execution_count": 35,
   "metadata": {},
   "outputs": [
    {
     "data": {
      "image/png": "[encoded data removed]",
      "text/plain": [
       "<Figure size 432x288 with 1 Axes>"
      ]
     },
     "metadata": {
      "needs_background": "light"
     },
     "output_type": "display_data"
    }
   ],
   "source": [
    "import matplotlib.pyplot as plt\n",
    "\n",
    "df_history = pd.DataFrame(history.history)\n",
    "\n",
    "fig,ax = plt.subplots()\n",
    "plt.plot(range(df_history.shape[0]),df_history['val_acc'],'bs--',label='validation')\n",
    "plt.plot(range(df_history.shape[0]),df_history['acc'],'r^--',label='training')\n",
    "plt.xlabel('epoch')\n",
    "plt.ylabel('accuracy')\n",
    "plt.title('SIMOn Percent Transfer Classification Training')\n",
    "plt.legend(loc='best')\n",
    "plt.grid()\n",
    "plt.show()\n",
    "# Save figures\n",
    "fig.savefig('SIMOnConvergence.eps', format='eps')\n",
    "fig.savefig('SIMOnConvergence.pdf', format='pdf')\n",
    "fig.savefig('SIMOnConvergence.png', format='png')\n",
    "fig.savefig('SIMOnConvergence.svg', format='svg')"
   ]
  },
  {
   "cell_type": "code",
   "execution_count": 36,
   "metadata": {},
   "outputs": [
    {
     "name": "stdout",
     "output_type": "stream",
     "text": [
      "The predicted classes and probabilities are respectively:\n",
      "([('int',), ('int',), ('percent',), ('int',), ('percent',), ('percent',), ('percent',), ('int',), ('int',), ('int',), ('percent',), ('percent',)], [[0.9885643124580383], [0.682071328163147], [0.8383817672729492], [0.9666174650192261], [0.769138514995575], [0.8510459065437317], [0.7784334421157837], [0.8306925892829895], [0.6296886801719666], [0.6862308382987976], [0.7836548089981079], [0.7770082950592041]])\n",
      "True labels/probabilities, for comparision:\n",
      "([('int',), ('int',), ('percent',), ('int',), ('percent',), ('percent',), ('percent',), ('int',), ('int',), ('int',), ('percent',), ('percent',)], [[1], [1], [1], [1], [1], [1], [1], [1], [1], [1], [1], [1]])\n"
     ]
    }
   ],
   "source": [
    "# Test trained model on test set\n",
    "y = model.predict(data.X_test) # predict classes\n",
    "result = encoder.reverse_label_encode(y,p_threshold) # reverse encode labels\n",
    "print(\"The predicted classes and probabilities are respectively:\")\n",
    "print(result)\n",
    "print(\"True labels/probabilities, for comparision:\")\n",
    "print(encoder.reverse_label_encode(data.y_test,p_threshold))"
   ]
  },
  {
   "cell_type": "code",
   "execution_count": 37,
   "metadata": {},
   "outputs": [
    {
     "name": "stdout",
     "output_type": "stream",
     "text": [
      "The predicted class/probability:\n",
      "([('percent',), ('int',)], [[0.7626379132270813], [0.9979692101478577]])\n"
     ]
    }
   ],
   "source": [
    "X = encoder.encodeDataFrame(raw_library_data) # repeat test on the raw two columns, as a final check\n",
    "y = model.predict(X) # predict classes\n",
    "\n",
    "result = encoder.reverse_label_encode(y,p_threshold) # reverse encode labels\n",
    "\n",
    "print(\"The predicted class/probability:\")\n",
    "print(result)"
   ]
  },
  {
   "cell_type": "code",
   "execution_count": 38,
   "metadata": {},
   "outputs": [
    {
     "data": {
      "text/html": [
       "<a href=SIMOnConvergence.svg>Download file</a>"
      ],
      "text/plain": [
       "<IPython.core.display.HTML object>"
      ]
     },
     "execution_count": 38,
     "metadata": {},
     "output_type": "execute_result"
    }
   ],
   "source": [
    "# Make figures downloadable to local system in interactive mode\n",
    "from IPython.display import HTML\n",
    "def create_download_link(title = \"Download file\", filename = \"data.csv\"):  \n",
    "    html = '<a href={filename}>{title}</a>'\n",
    "    html = html.format(title=title,filename=filename)\n",
    "    return HTML(html)\n",
    "\n",
    "create_download_link(filename='SIMOnConvergence.svg')"
   ]
  }
 ],
 "metadata": {
  "kernelspec": {
   "display_name": "Python 3",
   "language": "python",
   "name": "python3"
  },
  "language_info": {
   "codemirror_mode": {
    "name": "ipython",
    "version": 3
   },
   "file_extension": ".py",
   "mimetype": "text/x-python",
   "name": "python",
   "nbconvert_exporter": "python",
   "pygments_lexer": "ipython3",
   "version": "3.6.6"
  }
 },
 "nbformat": 4,
 "nbformat_minor": 4
}
